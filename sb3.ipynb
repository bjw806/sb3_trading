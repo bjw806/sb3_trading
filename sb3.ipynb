{
 "cells": [
  {
   "cell_type": "code",
   "execution_count": null,
   "id": "initial_id",
   "metadata": {
    "collapsed": true
   },
   "outputs": [],
   "source": [
    "# module import\n",
    "\n",
    "import warnings\n",
    "import gym_trading_env  # noqa\n",
    "import gymnasium as gym\n",
    "import numpy as np\n",
    "import pandas as pd\n",
    "import torch\n",
    "from gym_trading_env.renderer import Renderer\n",
    "from stable_baselines3 import DQN, PPO\n",
    "from sb3_contrib import QRDQN, ARS, TRPO\n",
    "from sb3_contrib.qrdqn import MlpPolicy\n",
    "from stable_baselines3.common.utils import get_device\n",
    "# from stable_baselines3.ppo import MlpPolicy\n",
    "from tqdm import TqdmExperimentalWarning"
   ]
  },
  {
   "cell_type": "code",
   "execution_count": null,
   "id": "a37caece",
   "metadata": {},
   "outputs": [],
   "source": [
    "print(torch.cuda.is_available())\n",
    "get_device()"
   ]
  },
  {
   "cell_type": "code",
   "execution_count": null,
   "id": "e7369c5f",
   "metadata": {},
   "outputs": [],
   "source": [
    "# Preprocess\n",
    "\n",
    "\n",
    "def SMA(df, ndays):\n",
    "    SMA = pd.Series(df.close.rolling(ndays).mean(), name=\"SMA_\" + str(ndays))\n",
    "    return SMA.astype(float).round(2)\n",
    "\n",
    "\n",
    "def BBANDS(df, n):\n",
    "    MA = df.close.rolling(window=n).mean()\n",
    "    SD = df.close.rolling(window=n).std()\n",
    "    upperBand = MA + (2 * SD)\n",
    "    lowerBand = MA - (2 * SD)\n",
    "    return upperBand.astype(float).round(2), lowerBand.astype(float).round(2)\n",
    "\n",
    "\n",
    "def RSI(df, periods=14):\n",
    "    close_delta = df.close.diff()\n",
    "    up = close_delta.clip(lower=0)\n",
    "    down = -1 * close_delta.clip(upper=0)\n",
    "    ma_up = up.ewm(com=periods - 1, adjust=True, min_periods=periods).mean()\n",
    "    ma_down = down.ewm(com=periods - 1, adjust=True, min_periods=periods).mean()\n",
    "\n",
    "    _rsi = ma_up / ma_down\n",
    "    return (100 - (100 / (1 + _rsi))).astype(float).round(2)\n",
    "\n",
    "\n",
    "def MACD(df):\n",
    "    k = df[\"close\"].ewm(span=12, adjust=False, min_periods=12).mean()\n",
    "    d = df[\"close\"].ewm(span=26, adjust=False, min_periods=26).mean()\n",
    "    macd = k - d\n",
    "    macd_s = macd.ewm(span=9, adjust=False, min_periods=9).mean()\n",
    "    macd_h = macd - macd_s\n",
    "    return df.index.map(macd), df.index.map(macd_s), df.index.map(macd_h)\n",
    "\n",
    "\n",
    "def preprocess(df):\n",
    "    df[\"volume\"] = df.volume.astype(float).round(2)\n",
    "    df[\"feature_close\"] = df.close\n",
    "    df[\"feature_open\"] = df.open\n",
    "    df[\"feature_high\"] = df.high\n",
    "    df[\"feature_low\"] = df.low\n",
    "    df[\"feature_volume\"] = df.volume\n",
    "    df[\"feature_SMA\"] = SMA(df, 50)\n",
    "    df[\"feature_MiddleBand\"], df[\"feature_LowerBand\"] = BBANDS(df, 50)\n",
    "    df[\"feature_RSI\"] = RSI(df, periods=14)\n",
    "    df[\"feature_MACD\"], df[\"feature_MACD_S\"], df[\"feature_MACD_H\"] = MACD(df)\n",
    "    df = df.dropna()\n",
    "\n",
    "    return df"
   ]
  },
  {
   "cell_type": "code",
   "execution_count": null,
   "id": "515005a1",
   "metadata": {},
   "outputs": [],
   "source": [
    "# Reward function\n",
    "\n",
    "def reward_function(history):\n",
    "    # history[\"portfolio_valuation\", -2] - history[\"portfolio_valuation\", -2]/100\n",
    "    init_value = history[\"portfolio_valuation\", 0]\n",
    "    # prev_value = history[\"portfolio_valuation\", -2]\n",
    "    curr_value = history[\"portfolio_valuation\", -1]\n",
    "\n",
    "    pc = np.sum(np.diff(history[\"position\"]) != 0)\n",
    "    if 20 < pc <= 30:\n",
    "        r = -80\n",
    "    elif 10 < pc <= 20:\n",
    "        r = -90\n",
    "    elif 0 < pc <= 10:\n",
    "        r = -100\n",
    "    else:\n",
    "        r = 100 * (curr_value / init_value - 1)\n",
    "    \n",
    "    return r"
   ]
  },
  {
   "cell_type": "code",
   "execution_count": null,
   "id": "7557d56a",
   "metadata": {},
   "outputs": [],
   "source": [
    "\n",
    "def basic_reward_function(history):\n",
    "    return np.log(history[\"portfolio_valuation\", -1] / history[\"portfolio_valuation\", -2])"
   ]
  },
  {
   "cell_type": "code",
   "execution_count": null,
   "id": "cfbc7b86",
   "metadata": {},
   "outputs": [],
   "source": [
    "def adjusted_reward_function_with_holding_penalty(history):\n",
    "    # 상수 설정\n",
    "    TRADE_FREQUENCY_REWARD = 0.01  # 각 거래에 대한 보상\n",
    "    HOLDING_PENALTY_FACTOR = -0.001  # 포지션을 유지하는 데 따른 패널티 계수\n",
    "    \n",
    "    # 로그 수익률 계산\n",
    "    log_return = np.log(history[\"portfolio_valuation\", -1] / history[\"portfolio_valuation\", -2])\n",
    "    \n",
    "    # 포지션 변경 횟수 계산\n",
    "    position_changes = np.sum(np.diff(history[\"position\"]) != 0)\n",
    "    \n",
    "    # 거래 빈도에 따른 보상 계산\n",
    "    trade_frequency_reward = TRADE_FREQUENCY_REWARD * position_changes\n",
    "    \n",
    "    # 포지션 유지 시간 패널티 계산\n",
    "    holding_periods = np.diff(np.where(np.diff(history[\"position\"]) != 0)[0])\n",
    "    holding_penalty = np.sum(holding_periods * HOLDING_PENALTY_FACTOR)\n",
    "    \n",
    "    # 최종 보상 계산\n",
    "    reward = log_return + trade_frequency_reward + holding_penalty\n",
    "    \n",
    "    return reward\n"
   ]
  },
  {
   "cell_type": "code",
   "execution_count": null,
   "id": "e60d17c57a85d6a1",
   "metadata": {
    "collapsed": false
   },
   "outputs": [],
   "source": [
    "# Enviornment\n",
    "\n",
    "env = gym.make(\n",
    "    \"MultiDatasetTradingEnv\",\n",
    "    dataset_dir=\"D:/Destktop/PyCharm_Projects/sb3/data/train/day/**/**/*.pkl\",\n",
    "    preprocess=preprocess,\n",
    "    # reward_function=adjusted_reward_function_with_holding_penalty,\n",
    "    positions=[-10, 10],\n",
    "    trading_fees=0.0001,\n",
    "    borrow_interest_rate=0.01,\n",
    ")\n",
    "env.unwrapped.add_metric(\n",
    "    \"Position Changes\", lambda history: np.sum(np.diff(history[\"position\"]) != 0)\n",
    ")\n",
    "env.unwrapped.add_metric(\"Episode Length\", lambda history: len(history[\"position\"]))"
   ]
  },
  {
   "cell_type": "code",
   "execution_count": null,
   "id": "ad699c4e",
   "metadata": {},
   "outputs": [],
   "source": [
    "# Train\n",
    "\n",
    "warnings.filterwarnings(\"ignore\", category=TqdmExperimentalWarning)\n",
    "model = QRDQN(\n",
    "    MlpPolicy,\n",
    "    env,\n",
    "    buffer_size=100000000,  # 1000000\n",
    "    batch_size=256,\n",
    "    verbose=0,\n",
    "    device=\"auto\",\n",
    "    tensorboard_log=\"./tensorboard/\",\n",
    ")\n",
    "model.learn(total_timesteps=10000000, progress_bar=True)\n",
    "\n",
    "# vec_env = model.get_env()\n",
    "# obs = vec_env.reset()"
   ]
  },
  {
   "cell_type": "code",
   "execution_count": 77,
   "id": "d653c3a1",
   "metadata": {},
   "outputs": [
    {
     "name": "stdout",
     "output_type": "stream",
     "text": [
      "Market Return : -1.03%   |   Portfolio Return : -19.27%   |   Position Changes : 0   |   Episode Length : 1330   |   \n"
     ]
    }
   ],
   "source": [
    "reward = 0.0\n",
    "done, truncated = False, False\n",
    "observation, info = env.reset()\n",
    "\n",
    "warnings.filterwarnings(\"ignore\", category=UserWarning)\n",
    "while not done and not truncated:\n",
    "    action = model.predict(observation, deterministic=True)\n",
    "    observation, r, done, truncated, info = env.step(action[0])\n",
    "    reward += r\n",
    "\n",
    "# env.unwrapped.save_for_render(dir=\"render_logs\")"
   ]
  },
  {
   "cell_type": "code",
   "execution_count": null,
   "id": "d86c5e3c16d96bdb",
   "metadata": {
    "collapsed": false
   },
   "outputs": [],
   "source": [
    "# data = pd.read_csv(\"1.csv\", parse_dates=[\"date\"], index_col=\"date\")\n",
    "\n",
    "def get_random_data():\n",
    "    from random import randint, choice\n",
    "    import os\n",
    "    data_dir = f\"D:/Destktop/PyCharm_Projects/sb3/data/train/day/{randint(2018, 2022)}/{randint(1, 12)}\"\n",
    "    files = os.listdir(data_dir)\n",
    "    random_file = choice(files)\n",
    "    file_path = os.path.join(data_dir, random_file)\n",
    "    return pd.read_pickle(file_path)\n",
    "\n",
    "data = get_random_data()\n",
    "\n",
    "evaluate_env = gym.make(\n",
    "    \"TradingEnv\",\n",
    "    df=data,\n",
    "    positions=[-10, 10],\n",
    "    trading_fees=0.0001,\n",
    "    borrow_interest_rate=0.0003,\n",
    ")\n",
    "evaluate_env.unwrapped.add_metric(\n",
    "    \"Position Changes\", lambda history: np.sum(np.diff(history[\"position\"]) != 0)\n",
    ")\n",
    "evaluate_env.unwrapped.add_metric(\"Episode Length\", lambda history: len(history[\"position\"]))\n",
    "\n",
    "evaluate_model = QRDQN(\n",
    "    MlpPolicy,\n",
    "    evaluate_env,\n",
    "    buffer_size=100000000,\n",
    "    batch_size=128,\n",
    "    verbose=0,\n",
    "    device=\"auto\",\n",
    ")\n",
    "evaluate_model.load(\"./model/QRDQN/1m_+-10_0.01.zip\")\n",
    "\n",
    "reward = 0.0\n",
    "done, truncated = False, False\n",
    "observation, info = evaluate_env.reset()\n",
    "\n",
    "warnings.filterwarnings(\"ignore\", category=UserWarning)\n",
    "while not done and not truncated:\n",
    "    action = evaluate_model.predict(observation, deterministic=True)\n",
    "    observation, r, done, truncated, info = evaluate_env.step(action[0])\n",
    "    reward += r\n",
    "\n",
    "print(reward)\n",
    "# evaluate_env.unwrapped.save_for_render(dir=\"render_logs\")"
   ]
  },
  {
   "cell_type": "code",
   "execution_count": null,
   "id": "993fb11b",
   "metadata": {},
   "outputs": [],
   "source": [
    "renderer = Renderer(render_logs_dir=\"render_logs\")\n",
    "renderer.add_metric(\n",
    "    \"Annual Market Return\",\n",
    "    lambda df: f\"{((df['close'].iloc[-1] / df['close'].iloc[0]) ** (pd.Timedelta(days=365) / (df.index.values[-1] - df.index.values[0])) - 1) * 100:0.2f}%\",\n",
    ")\n",
    "renderer.add_metric(\n",
    "    \"Annual Portfolio Return\",\n",
    "    lambda df: f\"{((df['portfolio_valuation'].iloc[-1] / df['portfolio_valuation'].iloc[0]) ** (pd.Timedelta(days=365) / (df.index.values[-1] - df.index.values[0])) - 1) * 100:0.2f}%\",\n",
    ")\n",
    "renderer.run()"
   ]
  },
  {
   "cell_type": "code",
   "execution_count": null,
   "id": "e9af8c3f",
   "metadata": {},
   "outputs": [],
   "source": [
    "model.save(\"./model/QRDQN/1m_+-10_0.01_2.zip\")"
   ]
  }
 ],
 "metadata": {
  "kernelspec": {
   "display_name": "Python 3",
   "language": "python",
   "name": "python3"
  },
  "language_info": {
   "codemirror_mode": {
    "name": "ipython",
    "version": 3
   },
   "file_extension": ".py",
   "mimetype": "text/x-python",
   "name": "python",
   "nbconvert_exporter": "python",
   "pygments_lexer": "ipython3",
   "version": "3.12.2"
  }
 },
 "nbformat": 4,
 "nbformat_minor": 5
}
