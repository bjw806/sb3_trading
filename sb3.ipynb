{
 "cells": [
  {
   "cell_type": "code",
   "execution_count": 6,
   "id": "initial_id",
   "metadata": {
    "collapsed": true
   },
   "outputs": [],
   "source": [
    "# module import\n",
    "\n",
    "import warnings\n",
    "import gym_trading_env  # noqa\n",
    "import gymnasium as gym\n",
    "import numpy as np\n",
    "import pandas as pd\n",
    "import torch\n",
    "from gym_trading_env.renderer import Renderer\n",
    "from stable_baselines3 import DQN\n",
    "from sb3_contrib import QRDQN\n",
    "from sb3_contrib.qrdqn import MlpPolicy\n",
    "from stable_baselines3.common.utils import get_device\n",
    "# from stable_baselines3.dqn import MlpPolicy\n",
    "from tqdm import TqdmExperimentalWarning"
   ]
  },
  {
   "cell_type": "code",
   "execution_count": null,
   "id": "a37caece",
   "metadata": {},
   "outputs": [],
   "source": [
    "print(torch.cuda.is_available())\n",
    "get_device()"
   ]
  },
  {
   "cell_type": "code",
   "execution_count": 7,
   "id": "e7369c5f",
   "metadata": {},
   "outputs": [],
   "source": [
    "# Preprocess\n",
    "\n",
    "\n",
    "def SMA(df, ndays):\n",
    "    SMA = pd.Series(df.close.rolling(ndays).mean(), name=\"SMA_\" + str(ndays))\n",
    "    return SMA.astype(float).round(2)\n",
    "\n",
    "\n",
    "def BBANDS(df, n):\n",
    "    MA = df.close.rolling(window=n).mean()\n",
    "    SD = df.close.rolling(window=n).std()\n",
    "    upperBand = MA + (2 * SD)\n",
    "    lowerBand = MA - (2 * SD)\n",
    "    return upperBand.astype(float).round(2), lowerBand.astype(float).round(2)\n",
    "\n",
    "\n",
    "def RSI(df, periods=14):\n",
    "    close_delta = df.close.diff()\n",
    "    up = close_delta.clip(lower=0)\n",
    "    down = -1 * close_delta.clip(upper=0)\n",
    "    ma_up = up.ewm(com=periods - 1, adjust=True, min_periods=periods).mean()\n",
    "    ma_down = down.ewm(com=periods - 1, adjust=True, min_periods=periods).mean()\n",
    "\n",
    "    _rsi = ma_up / ma_down\n",
    "    return (100 - (100 / (1 + _rsi))).astype(float).round(2)\n",
    "\n",
    "\n",
    "def MACD(df):\n",
    "    k = df[\"close\"].ewm(span=12, adjust=False, min_periods=12).mean()\n",
    "    d = df[\"close\"].ewm(span=26, adjust=False, min_periods=26).mean()\n",
    "    macd = k - d\n",
    "    macd_s = macd.ewm(span=9, adjust=False, min_periods=9).mean()\n",
    "    macd_h = macd - macd_s\n",
    "    return df.index.map(macd), df.index.map(macd_s), df.index.map(macd_h)\n",
    "\n",
    "\n",
    "def preprocess(df):\n",
    "    df[\"volume\"] = df.volume.astype(float).round(2)\n",
    "    df[\"feature_close\"] = df.close\n",
    "    df[\"feature_open\"] = df.open\n",
    "    df[\"feature_high\"] = df.high\n",
    "    df[\"feature_low\"] = df.low\n",
    "    df[\"feature_volume\"] = df.volume\n",
    "    df[\"feature_SMA\"] = SMA(df, 50)\n",
    "    df[\"feature_MiddleBand\"], df[\"feature_LowerBand\"] = BBANDS(df, 50)\n",
    "    df[\"feature_RSI\"] = RSI(df, periods=14)\n",
    "    df[\"feature_MACD\"], df[\"feature_MACD_S\"], df[\"feature_MACD_H\"] = MACD(df)\n",
    "    df = df.dropna()\n",
    "\n",
    "    return df"
   ]
  },
  {
   "cell_type": "code",
   "execution_count": null,
   "id": "515005a1",
   "metadata": {},
   "outputs": [],
   "source": [
    "# Reward function\n",
    "\n",
    "def reward_function(history):\n",
    "    # history[\"portfolio_valuation\", -2] - history[\"portfolio_valuation\", -2]/100\n",
    "    init_value = history[\"portfolio_valuation\", 0]\n",
    "    # prev_value = history[\"portfolio_valuation\", -2]\n",
    "    curr_value = history[\"portfolio_valuation\", -1]\n",
    "\n",
    "    pc = np.sum(np.diff(history[\"position\"]) != 0)\n",
    "    if 20 < pc <= 30:\n",
    "        r = -80\n",
    "    elif 10 < pc <= 20:\n",
    "        r = -90\n",
    "    elif 0 < pc <= 10:\n",
    "        r = -100\n",
    "    else:\n",
    "        r = 100 * (curr_value / init_value - 1)\n",
    "    \n",
    "    return r"
   ]
  },
  {
   "cell_type": "code",
   "execution_count": 11,
   "id": "e60d17c57a85d6a1",
   "metadata": {
    "collapsed": false
   },
   "outputs": [],
   "source": [
    "# Enviornment\n",
    "\n",
    "env = gym.make(\n",
    "    \"MultiDatasetTradingEnv\",\n",
    "    dataset_dir=\"D:/Destktop/PyCharm_Projects/sb3/data/train/day/**/**/*.pkl\",\n",
    "    preprocess=preprocess,\n",
    "    # reward_function=reward_function,\n",
    "    positions=[-1, 0, 1],\n",
    "    trading_fees=0.0001,\n",
    "    borrow_interest_rate=0.0003,\n",
    ")\n",
    "env.unwrapped.add_metric(\n",
    "    \"Position Changes\", lambda history: np.sum(np.diff(history[\"position\"]) != 0)\n",
    ")\n",
    "env.unwrapped.add_metric(\"Episode Length\", lambda history: len(history[\"position\"]))"
   ]
  },
  {
   "cell_type": "code",
   "execution_count": 12,
   "id": "ad699c4e",
   "metadata": {},
   "outputs": [
    {
     "data": {
      "application/vnd.jupyter.widget-view+json": {
       "model_id": "dbe5d25b349b44249e6784edf269a7ac",
       "version_major": 2,
       "version_minor": 0
      },
      "text/plain": [
       "Output()"
      ]
     },
     "metadata": {},
     "output_type": "display_data"
    },
    {
     "data": {
      "text/html": [
       "<pre style=\"white-space:pre;overflow-x:auto;line-height:normal;font-family:Menlo,'DejaVu Sans Mono',consolas,'Courier New',monospace\">Market Return : -0.49%   |   Portfolio Return : -14.26%   |   Position Changes : 887   |   Episode Length : 1330   \n",
       "|   \n",
       "</pre>\n"
      ],
      "text/plain": [
       "Market Return : -0.49%   |   Portfolio Return : -14.26%   |   Position Changes : 887   |   Episode Length : 1330   \n",
       "|   \n"
      ]
     },
     "metadata": {},
     "output_type": "display_data"
    },
    {
     "data": {
      "text/html": [
       "<pre style=\"white-space:pre;overflow-x:auto;line-height:normal;font-family:Menlo,'DejaVu Sans Mono',consolas,'Courier New',monospace\">Market Return : -7.61%   |   Portfolio Return : -21.60%   |   Position Changes : 902   |   Episode Length : 1330   \n",
       "|   \n",
       "</pre>\n"
      ],
      "text/plain": [
       "Market Return : -7.61%   |   Portfolio Return : -21.60%   |   Position Changes : 902   |   Episode Length : 1330   \n",
       "|   \n"
      ]
     },
     "metadata": {},
     "output_type": "display_data"
    },
    {
     "data": {
      "text/html": [
       "<pre style=\"white-space:pre;overflow-x:auto;line-height:normal;font-family:Menlo,'DejaVu Sans Mono',consolas,'Courier New',monospace\">Market Return : -1.68%   |   Portfolio Return : -13.66%   |   Position Changes : 892   |   Episode Length : 1330   \n",
       "|   \n",
       "</pre>\n"
      ],
      "text/plain": [
       "Market Return : -1.68%   |   Portfolio Return : -13.66%   |   Position Changes : 892   |   Episode Length : 1330   \n",
       "|   \n"
      ]
     },
     "metadata": {},
     "output_type": "display_data"
    },
    {
     "data": {
      "text/html": [
       "<pre style=\"white-space:pre;overflow-x:auto;line-height:normal;font-family:Menlo,'DejaVu Sans Mono',consolas,'Courier New',monospace\">Market Return : -0.55%   |   Portfolio Return : -14.04%   |   Position Changes : 904   |   Episode Length : 1330   \n",
       "|   \n",
       "</pre>\n"
      ],
      "text/plain": [
       "Market Return : -0.55%   |   Portfolio Return : -14.04%   |   Position Changes : 904   |   Episode Length : 1330   \n",
       "|   \n"
      ]
     },
     "metadata": {},
     "output_type": "display_data"
    },
    {
     "data": {
      "text/html": [
       "<pre style=\"white-space:pre;overflow-x:auto;line-height:normal;font-family:Menlo,'DejaVu Sans Mono',consolas,'Courier New',monospace\">Market Return : -4.36%   |   Portfolio Return : -18.97%   |   Position Changes : 848   |   Episode Length : 1330   \n",
       "|   \n",
       "</pre>\n"
      ],
      "text/plain": [
       "Market Return : -4.36%   |   Portfolio Return : -18.97%   |   Position Changes : 848   |   Episode Length : 1330   \n",
       "|   \n"
      ]
     },
     "metadata": {},
     "output_type": "display_data"
    },
    {
     "data": {
      "text/html": [
       "<pre style=\"white-space:pre;overflow-x:auto;line-height:normal;font-family:Menlo,'DejaVu Sans Mono',consolas,'Courier New',monospace\">Market Return :  0.04%   |   Portfolio Return : -15.53%   |   Position Changes : 866   |   Episode Length : 1330   \n",
       "|   \n",
       "</pre>\n"
      ],
      "text/plain": [
       "Market Return :  0.04%   |   Portfolio Return : -15.53%   |   Position Changes : 866   |   Episode Length : 1330   \n",
       "|   \n"
      ]
     },
     "metadata": {},
     "output_type": "display_data"
    },
    {
     "data": {
      "text/html": [
       "<pre style=\"white-space:pre;overflow-x:auto;line-height:normal;font-family:Menlo,'DejaVu Sans Mono',consolas,'Courier New',monospace\">Market Return :  4.64%   |   Portfolio Return : -14.24%   |   Position Changes : 899   |   Episode Length : 1330   \n",
       "|   \n",
       "</pre>\n"
      ],
      "text/plain": [
       "Market Return :  4.64%   |   Portfolio Return : -14.24%   |   Position Changes : 899   |   Episode Length : 1330   \n",
       "|   \n"
      ]
     },
     "metadata": {},
     "output_type": "display_data"
    },
    {
     "data": {
      "text/html": [
       "<pre style=\"white-space:pre;overflow-x:auto;line-height:normal;font-family:Menlo,'DejaVu Sans Mono',consolas,'Courier New',monospace\">Market Return :  1.21%   |   Portfolio Return : -16.53%   |   Position Changes : 889   |   Episode Length : 1330   \n",
       "|   \n",
       "</pre>\n"
      ],
      "text/plain": [
       "Market Return :  1.21%   |   Portfolio Return : -16.53%   |   Position Changes : 889   |   Episode Length : 1330   \n",
       "|   \n"
      ]
     },
     "metadata": {},
     "output_type": "display_data"
    },
    {
     "data": {
      "text/html": [
       "<pre style=\"white-space:pre;overflow-x:auto;line-height:normal;font-family:Menlo,'DejaVu Sans Mono',consolas,'Courier New',monospace\">Market Return :  5.22%   |   Portfolio Return : -15.70%   |   Position Changes : 896   |   Episode Length : 1330   \n",
       "|   \n",
       "</pre>\n"
      ],
      "text/plain": [
       "Market Return :  5.22%   |   Portfolio Return : -15.70%   |   Position Changes : 896   |   Episode Length : 1330   \n",
       "|   \n"
      ]
     },
     "metadata": {},
     "output_type": "display_data"
    },
    {
     "data": {
      "text/html": [
       "<pre style=\"white-space:pre;overflow-x:auto;line-height:normal;font-family:Menlo,'DejaVu Sans Mono',consolas,'Courier New',monospace\">Market Return :  0.79%   |   Portfolio Return : -13.97%   |   Position Changes : 868   |   Episode Length : 1330   \n",
       "|   \n",
       "</pre>\n"
      ],
      "text/plain": [
       "Market Return :  0.79%   |   Portfolio Return : -13.97%   |   Position Changes : 868   |   Episode Length : 1330   \n",
       "|   \n"
      ]
     },
     "metadata": {},
     "output_type": "display_data"
    },
    {
     "data": {
      "text/html": [
       "<pre style=\"white-space:pre;overflow-x:auto;line-height:normal;font-family:Menlo,'DejaVu Sans Mono',consolas,'Courier New',monospace\">Market Return : -1.71%   |   Portfolio Return : -17.08%   |   Position Changes : 851   |   Episode Length : 1330   \n",
       "|   \n",
       "</pre>\n"
      ],
      "text/plain": [
       "Market Return : -1.71%   |   Portfolio Return : -17.08%   |   Position Changes : 851   |   Episode Length : 1330   \n",
       "|   \n"
      ]
     },
     "metadata": {},
     "output_type": "display_data"
    },
    {
     "data": {
      "text/html": [
       "<pre style=\"white-space:pre;overflow-x:auto;line-height:normal;font-family:Menlo,'DejaVu Sans Mono',consolas,'Courier New',monospace\">Market Return : -9.99%   |   Portfolio Return : -16.38%   |   Position Changes : 886   |   Episode Length : 1330   \n",
       "|   \n",
       "</pre>\n"
      ],
      "text/plain": [
       "Market Return : -9.99%   |   Portfolio Return : -16.38%   |   Position Changes : 886   |   Episode Length : 1330   \n",
       "|   \n"
      ]
     },
     "metadata": {},
     "output_type": "display_data"
    },
    {
     "data": {
      "text/html": [
       "<pre style=\"white-space:pre;overflow-x:auto;line-height:normal;font-family:Menlo,'DejaVu Sans Mono',consolas,'Courier New',monospace\">Market Return :  1.83%   |   Portfolio Return : -12.70%   |   Position Changes : 866   |   Episode Length : 1330   \n",
       "|   \n",
       "</pre>\n"
      ],
      "text/plain": [
       "Market Return :  1.83%   |   Portfolio Return : -12.70%   |   Position Changes : 866   |   Episode Length : 1330   \n",
       "|   \n"
      ]
     },
     "metadata": {},
     "output_type": "display_data"
    },
    {
     "data": {
      "text/html": [
       "<pre style=\"white-space:pre;overflow-x:auto;line-height:normal;font-family:Menlo,'DejaVu Sans Mono',consolas,'Courier New',monospace\">Market Return :  2.50%   |   Portfolio Return : -17.06%   |   Position Changes : 877   |   Episode Length : 1330   \n",
       "|   \n",
       "</pre>\n"
      ],
      "text/plain": [
       "Market Return :  2.50%   |   Portfolio Return : -17.06%   |   Position Changes : 877   |   Episode Length : 1330   \n",
       "|   \n"
      ]
     },
     "metadata": {},
     "output_type": "display_data"
    },
    {
     "data": {
      "text/html": [
       "<pre style=\"white-space:pre;overflow-x:auto;line-height:normal;font-family:Menlo,'DejaVu Sans Mono',consolas,'Courier New',monospace\">Market Return : -5.26%   |   Portfolio Return : -14.18%   |   Position Changes : 879   |   Episode Length : 1330   \n",
       "|   \n",
       "</pre>\n"
      ],
      "text/plain": [
       "Market Return : -5.26%   |   Portfolio Return : -14.18%   |   Position Changes : 879   |   Episode Length : 1330   \n",
       "|   \n"
      ]
     },
     "metadata": {},
     "output_type": "display_data"
    },
    {
     "data": {
      "text/html": [
       "<pre style=\"white-space:pre;overflow-x:auto;line-height:normal;font-family:Menlo,'DejaVu Sans Mono',consolas,'Courier New',monospace\">Market Return :  2.73%   |   Portfolio Return : -14.43%   |   Position Changes : 895   |   Episode Length : 1330   \n",
       "|   \n",
       "</pre>\n"
      ],
      "text/plain": [
       "Market Return :  2.73%   |   Portfolio Return : -14.43%   |   Position Changes : 895   |   Episode Length : 1330   \n",
       "|   \n"
      ]
     },
     "metadata": {},
     "output_type": "display_data"
    },
    {
     "data": {
      "text/html": [
       "<pre style=\"white-space:pre;overflow-x:auto;line-height:normal;font-family:Menlo,'DejaVu Sans Mono',consolas,'Courier New',monospace\">Market Return :  1.64%   |   Portfolio Return : -14.15%   |   Position Changes : 866   |   Episode Length : 1330   \n",
       "|   \n",
       "</pre>\n"
      ],
      "text/plain": [
       "Market Return :  1.64%   |   Portfolio Return : -14.15%   |   Position Changes : 866   |   Episode Length : 1330   \n",
       "|   \n"
      ]
     },
     "metadata": {},
     "output_type": "display_data"
    },
    {
     "data": {
      "text/html": [
       "<pre style=\"white-space:pre;overflow-x:auto;line-height:normal;font-family:Menlo,'DejaVu Sans Mono',consolas,'Courier New',monospace\">Market Return : -3.78%   |   Portfolio Return : -17.50%   |   Position Changes : 899   |   Episode Length : 1330   \n",
       "|   \n",
       "</pre>\n"
      ],
      "text/plain": [
       "Market Return : -3.78%   |   Portfolio Return : -17.50%   |   Position Changes : 899   |   Episode Length : 1330   \n",
       "|   \n"
      ]
     },
     "metadata": {},
     "output_type": "display_data"
    },
    {
     "data": {
      "text/html": [
       "<pre style=\"white-space:pre;overflow-x:auto;line-height:normal;font-family:Menlo,'DejaVu Sans Mono',consolas,'Courier New',monospace\">Market Return : -0.18%   |   Portfolio Return : -13.85%   |   Position Changes : 863   |   Episode Length : 1330   \n",
       "|   \n",
       "</pre>\n"
      ],
      "text/plain": [
       "Market Return : -0.18%   |   Portfolio Return : -13.85%   |   Position Changes : 863   |   Episode Length : 1330   \n",
       "|   \n"
      ]
     },
     "metadata": {},
     "output_type": "display_data"
    },
    {
     "data": {
      "text/html": [
       "<pre style=\"white-space:pre;overflow-x:auto;line-height:normal;font-family:Menlo,'DejaVu Sans Mono',consolas,'Courier New',monospace\">Market Return : -6.33%   |   Portfolio Return : -17.34%   |   Position Changes : 888   |   Episode Length : 1330   \n",
       "|   \n",
       "</pre>\n"
      ],
      "text/plain": [
       "Market Return : -6.33%   |   Portfolio Return : -17.34%   |   Position Changes : 888   |   Episode Length : 1330   \n",
       "|   \n"
      ]
     },
     "metadata": {},
     "output_type": "display_data"
    },
    {
     "data": {
      "text/html": [
       "<pre style=\"white-space:pre;overflow-x:auto;line-height:normal;font-family:Menlo,'DejaVu Sans Mono',consolas,'Courier New',monospace\">Market Return :  8.95%   |   Portfolio Return : -21.97%   |   Position Changes : 886   |   Episode Length : 1330   \n",
       "|   \n",
       "</pre>\n"
      ],
      "text/plain": [
       "Market Return :  8.95%   |   Portfolio Return : -21.97%   |   Position Changes : 886   |   Episode Length : 1330   \n",
       "|   \n"
      ]
     },
     "metadata": {},
     "output_type": "display_data"
    },
    {
     "data": {
      "text/html": [
       "<pre style=\"white-space:pre;overflow-x:auto;line-height:normal;font-family:Menlo,'DejaVu Sans Mono',consolas,'Courier New',monospace\">Market Return :  2.35%   |   Portfolio Return : -14.79%   |   Position Changes : 867   |   Episode Length : 1330   \n",
       "|   \n",
       "</pre>\n"
      ],
      "text/plain": [
       "Market Return :  2.35%   |   Portfolio Return : -14.79%   |   Position Changes : 867   |   Episode Length : 1330   \n",
       "|   \n"
      ]
     },
     "metadata": {},
     "output_type": "display_data"
    },
    {
     "data": {
      "text/html": [
       "<pre style=\"white-space:pre;overflow-x:auto;line-height:normal;font-family:Menlo,'DejaVu Sans Mono',consolas,'Courier New',monospace\">Market Return : -0.22%   |   Portfolio Return : -15.84%   |   Position Changes : 935   |   Episode Length : 1330   \n",
       "|   \n",
       "</pre>\n"
      ],
      "text/plain": [
       "Market Return : -0.22%   |   Portfolio Return : -15.84%   |   Position Changes : 935   |   Episode Length : 1330   \n",
       "|   \n"
      ]
     },
     "metadata": {},
     "output_type": "display_data"
    },
    {
     "data": {
      "text/html": [
       "<pre style=\"white-space:pre;overflow-x:auto;line-height:normal;font-family:Menlo,'DejaVu Sans Mono',consolas,'Courier New',monospace\">Market Return : -7.55%   |   Portfolio Return : -13.63%   |   Position Changes : 878   |   Episode Length : 1330   \n",
       "|   \n",
       "</pre>\n"
      ],
      "text/plain": [
       "Market Return : -7.55%   |   Portfolio Return : -13.63%   |   Position Changes : 878   |   Episode Length : 1330   \n",
       "|   \n"
      ]
     },
     "metadata": {},
     "output_type": "display_data"
    },
    {
     "data": {
      "text/html": [
       "<pre style=\"white-space:pre;overflow-x:auto;line-height:normal;font-family:Menlo,'DejaVu Sans Mono',consolas,'Courier New',monospace\">Market Return :  0.54%   |   Portfolio Return : -15.61%   |   Position Changes : 912   |   Episode Length : 1330   \n",
       "|   \n",
       "</pre>\n"
      ],
      "text/plain": [
       "Market Return :  0.54%   |   Portfolio Return : -15.61%   |   Position Changes : 912   |   Episode Length : 1330   \n",
       "|   \n"
      ]
     },
     "metadata": {},
     "output_type": "display_data"
    },
    {
     "data": {
      "text/html": [
       "<pre style=\"white-space:pre;overflow-x:auto;line-height:normal;font-family:Menlo,'DejaVu Sans Mono',consolas,'Courier New',monospace\">Market Return :  0.31%   |   Portfolio Return : -12.30%   |   Position Changes : 863   |   Episode Length : 1330   \n",
       "|   \n",
       "</pre>\n"
      ],
      "text/plain": [
       "Market Return :  0.31%   |   Portfolio Return : -12.30%   |   Position Changes : 863   |   Episode Length : 1330   \n",
       "|   \n"
      ]
     },
     "metadata": {},
     "output_type": "display_data"
    },
    {
     "data": {
      "text/html": [
       "<pre style=\"white-space:pre;overflow-x:auto;line-height:normal;font-family:Menlo,'DejaVu Sans Mono',consolas,'Courier New',monospace\">Market Return :  5.08%   |   Portfolio Return : -11.52%   |   Position Changes : 877   |   Episode Length : 1330   \n",
       "|   \n",
       "</pre>\n"
      ],
      "text/plain": [
       "Market Return :  5.08%   |   Portfolio Return : -11.52%   |   Position Changes : 877   |   Episode Length : 1330   \n",
       "|   \n"
      ]
     },
     "metadata": {},
     "output_type": "display_data"
    },
    {
     "data": {
      "text/html": [
       "<pre style=\"white-space:pre;overflow-x:auto;line-height:normal;font-family:Menlo,'DejaVu Sans Mono',consolas,'Courier New',monospace\">Market Return :  1.94%   |   Portfolio Return : -16.62%   |   Position Changes : 851   |   Episode Length : 1330   \n",
       "|   \n",
       "</pre>\n"
      ],
      "text/plain": [
       "Market Return :  1.94%   |   Portfolio Return : -16.62%   |   Position Changes : 851   |   Episode Length : 1330   \n",
       "|   \n"
      ]
     },
     "metadata": {},
     "output_type": "display_data"
    },
    {
     "data": {
      "text/html": [
       "<pre style=\"white-space:pre;overflow-x:auto;line-height:normal;font-family:Menlo,'DejaVu Sans Mono',consolas,'Courier New',monospace\">Market Return : -5.25%   |   Portfolio Return : -14.24%   |   Position Changes : 885   |   Episode Length : 1330   \n",
       "|   \n",
       "</pre>\n"
      ],
      "text/plain": [
       "Market Return : -5.25%   |   Portfolio Return : -14.24%   |   Position Changes : 885   |   Episode Length : 1330   \n",
       "|   \n"
      ]
     },
     "metadata": {},
     "output_type": "display_data"
    },
    {
     "data": {
      "text/html": [
       "<pre style=\"white-space:pre;overflow-x:auto;line-height:normal;font-family:Menlo,'DejaVu Sans Mono',consolas,'Courier New',monospace\">Market Return :  1.48%   |   Portfolio Return : -13.44%   |   Position Changes : 855   |   Episode Length : 1330   \n",
       "|   \n",
       "</pre>\n"
      ],
      "text/plain": [
       "Market Return :  1.48%   |   Portfolio Return : -13.44%   |   Position Changes : 855   |   Episode Length : 1330   \n",
       "|   \n"
      ]
     },
     "metadata": {},
     "output_type": "display_data"
    },
    {
     "data": {
      "text/html": [
       "<pre style=\"white-space:pre;overflow-x:auto;line-height:normal;font-family:Menlo,'DejaVu Sans Mono',consolas,'Courier New',monospace\">Market Return :  3.88%   |   Portfolio Return : -17.48%   |   Position Changes : 882   |   Episode Length : 1330   \n",
       "|   \n",
       "</pre>\n"
      ],
      "text/plain": [
       "Market Return :  3.88%   |   Portfolio Return : -17.48%   |   Position Changes : 882   |   Episode Length : 1330   \n",
       "|   \n"
      ]
     },
     "metadata": {},
     "output_type": "display_data"
    },
    {
     "data": {
      "text/html": [
       "<pre style=\"white-space:pre;overflow-x:auto;line-height:normal;font-family:Menlo,'DejaVu Sans Mono',consolas,'Courier New',monospace\">Market Return : -3.21%   |   Portfolio Return : -13.10%   |   Position Changes : 897   |   Episode Length : 1330   \n",
       "|   \n",
       "</pre>\n"
      ],
      "text/plain": [
       "Market Return : -3.21%   |   Portfolio Return : -13.10%   |   Position Changes : 897   |   Episode Length : 1330   \n",
       "|   \n"
      ]
     },
     "metadata": {},
     "output_type": "display_data"
    },
    {
     "data": {
      "text/html": [
       "<pre style=\"white-space:pre;overflow-x:auto;line-height:normal;font-family:Menlo,'DejaVu Sans Mono',consolas,'Courier New',monospace\">Market Return : -3.64%   |   Portfolio Return : -11.68%   |   Position Changes : 866   |   Episode Length : 1330   \n",
       "|   \n",
       "</pre>\n"
      ],
      "text/plain": [
       "Market Return : -3.64%   |   Portfolio Return : -11.68%   |   Position Changes : 866   |   Episode Length : 1330   \n",
       "|   \n"
      ]
     },
     "metadata": {},
     "output_type": "display_data"
    },
    {
     "data": {
      "text/html": [
       "<pre style=\"white-space:pre;overflow-x:auto;line-height:normal;font-family:Menlo,'DejaVu Sans Mono',consolas,'Courier New',monospace\">Market Return :  0.00%   |   Portfolio Return : -17.72%   |   Position Changes : 913   |   Episode Length : 1330   \n",
       "|   \n",
       "</pre>\n"
      ],
      "text/plain": [
       "Market Return :  0.00%   |   Portfolio Return : -17.72%   |   Position Changes : 913   |   Episode Length : 1330   \n",
       "|   \n"
      ]
     },
     "metadata": {},
     "output_type": "display_data"
    },
    {
     "data": {
      "text/html": [
       "<pre style=\"white-space:pre;overflow-x:auto;line-height:normal;font-family:Menlo,'DejaVu Sans Mono',consolas,'Courier New',monospace\">Market Return :  3.98%   |   Portfolio Return : -15.88%   |   Position Changes : 895   |   Episode Length : 1330   \n",
       "|   \n",
       "</pre>\n"
      ],
      "text/plain": [
       "Market Return :  3.98%   |   Portfolio Return : -15.88%   |   Position Changes : 895   |   Episode Length : 1330   \n",
       "|   \n"
      ]
     },
     "metadata": {},
     "output_type": "display_data"
    },
    {
     "data": {
      "text/html": [
       "<pre style=\"white-space:pre;overflow-x:auto;line-height:normal;font-family:Menlo,'DejaVu Sans Mono',consolas,'Courier New',monospace\">Market Return :  5.51%   |   Portfolio Return : -15.17%   |   Position Changes : 876   |   Episode Length : 1330   \n",
       "|   \n",
       "</pre>\n"
      ],
      "text/plain": [
       "Market Return :  5.51%   |   Portfolio Return : -15.17%   |   Position Changes : 876   |   Episode Length : 1330   \n",
       "|   \n"
      ]
     },
     "metadata": {},
     "output_type": "display_data"
    },
    {
     "data": {
      "text/html": [
       "<pre style=\"white-space:pre;overflow-x:auto;line-height:normal;font-family:Menlo,'DejaVu Sans Mono',consolas,'Courier New',monospace\">Market Return :  1.05%   |   Portfolio Return : -12.60%   |   Position Changes : 912   |   Episode Length : 1330   \n",
       "|   \n",
       "</pre>\n"
      ],
      "text/plain": [
       "Market Return :  1.05%   |   Portfolio Return : -12.60%   |   Position Changes : 912   |   Episode Length : 1330   \n",
       "|   \n"
      ]
     },
     "metadata": {},
     "output_type": "display_data"
    },
    {
     "data": {
      "text/html": [
       "<pre style=\"white-space:pre;overflow-x:auto;line-height:normal;font-family:Menlo,'DejaVu Sans Mono',consolas,'Courier New',monospace\">Market Return :  1.18%   |   Portfolio Return : -8.57%   |   Position Changes : 534   |   Episode Length : 1330   |\n",
       "</pre>\n"
      ],
      "text/plain": [
       "Market Return :  1.18%   |   Portfolio Return : -8.57%   |   Position Changes : 534   |   Episode Length : 1330   |\n"
      ]
     },
     "metadata": {},
     "output_type": "display_data"
    },
    {
     "data": {
      "text/html": [
       "<pre style=\"white-space:pre;overflow-x:auto;line-height:normal;font-family:Menlo,'DejaVu Sans Mono',consolas,'Courier New',monospace\">Market Return : -2.03%   |   Portfolio Return : -2.85%   |   Position Changes : 23   |   Episode Length : 1330   | \n",
       "</pre>\n"
      ],
      "text/plain": [
       "Market Return : -2.03%   |   Portfolio Return : -2.85%   |   Position Changes : 23   |   Episode Length : 1330   | \n"
      ]
     },
     "metadata": {},
     "output_type": "display_data"
    },
    {
     "data": {
      "text/html": [
       "<pre style=\"white-space:pre;overflow-x:auto;line-height:normal;font-family:Menlo,'DejaVu Sans Mono',consolas,'Courier New',monospace\">Market Return :  4.21%   |   Portfolio Return :  0.91%   |   Position Changes : 24   |   Episode Length : 1330   | \n",
       "</pre>\n"
      ],
      "text/plain": [
       "Market Return :  4.21%   |   Portfolio Return :  0.91%   |   Position Changes : 24   |   Episode Length : 1330   | \n"
      ]
     },
     "metadata": {},
     "output_type": "display_data"
    },
    {
     "data": {
      "text/html": [
       "<pre style=\"white-space:pre;overflow-x:auto;line-height:normal;font-family:Menlo,'DejaVu Sans Mono',consolas,'Courier New',monospace\">Market Return :  4.67%   |   Portfolio Return :  3.95%   |   Position Changes : 25   |   Episode Length : 1330   | \n",
       "</pre>\n"
      ],
      "text/plain": [
       "Market Return :  4.67%   |   Portfolio Return :  3.95%   |   Position Changes : 25   |   Episode Length : 1330   | \n"
      ]
     },
     "metadata": {},
     "output_type": "display_data"
    },
    {
     "data": {
      "text/html": [
       "<pre style=\"white-space:pre;overflow-x:auto;line-height:normal;font-family:Menlo,'DejaVu Sans Mono',consolas,'Courier New',monospace\">Market Return : -0.93%   |   Portfolio Return : -3.10%   |   Position Changes : 164   |   Episode Length : 1330   |\n",
       "</pre>\n"
      ],
      "text/plain": [
       "Market Return : -0.93%   |   Portfolio Return : -3.10%   |   Position Changes : 164   |   Episode Length : 1330   |\n"
      ]
     },
     "metadata": {},
     "output_type": "display_data"
    },
    {
     "data": {
      "text/html": [
       "<pre style=\"white-space:pre;overflow-x:auto;line-height:normal;font-family:Menlo,'DejaVu Sans Mono',consolas,'Courier New',monospace\">Market Return :  0.04%   |   Portfolio Return : -0.72%   |   Position Changes : 77   |   Episode Length : 1330   | \n",
       "</pre>\n"
      ],
      "text/plain": [
       "Market Return :  0.04%   |   Portfolio Return : -0.72%   |   Position Changes : 77   |   Episode Length : 1330   | \n"
      ]
     },
     "metadata": {},
     "output_type": "display_data"
    },
    {
     "data": {
      "text/html": [
       "<pre style=\"white-space:pre;overflow-x:auto;line-height:normal;font-family:Menlo,'DejaVu Sans Mono',consolas,'Courier New',monospace\">Market Return : -1.47%   |   Portfolio Return : -2.00%   |   Position Changes : 27   |   Episode Length : 1330   | \n",
       "</pre>\n"
      ],
      "text/plain": [
       "Market Return : -1.47%   |   Portfolio Return : -2.00%   |   Position Changes : 27   |   Episode Length : 1330   | \n"
      ]
     },
     "metadata": {},
     "output_type": "display_data"
    },
    {
     "data": {
      "text/html": [
       "<pre style=\"white-space:pre;overflow-x:auto;line-height:normal;font-family:Menlo,'DejaVu Sans Mono',consolas,'Courier New',monospace\">Market Return : -1.70%   |   Portfolio Return : -1.67%   |   Position Changes : 13   |   Episode Length : 1330   | \n",
       "</pre>\n"
      ],
      "text/plain": [
       "Market Return : -1.70%   |   Portfolio Return : -1.67%   |   Position Changes : 13   |   Episode Length : 1330   | \n"
      ]
     },
     "metadata": {},
     "output_type": "display_data"
    },
    {
     "data": {
      "text/html": [
       "<pre style=\"white-space:pre;overflow-x:auto;line-height:normal;font-family:Menlo,'DejaVu Sans Mono',consolas,'Courier New',monospace\">Market Return :  3.87%   |   Portfolio Return :  2.47%   |   Position Changes : 81   |   Episode Length : 1330   | \n",
       "</pre>\n"
      ],
      "text/plain": [
       "Market Return :  3.87%   |   Portfolio Return :  2.47%   |   Position Changes : 81   |   Episode Length : 1330   | \n"
      ]
     },
     "metadata": {},
     "output_type": "display_data"
    },
    {
     "data": {
      "text/html": [
       "<pre style=\"white-space:pre;overflow-x:auto;line-height:normal;font-family:Menlo,'DejaVu Sans Mono',consolas,'Courier New',monospace\">Market Return : -0.16%   |   Portfolio Return : -0.15%   |   Position Changes : 73   |   Episode Length : 1330   | \n",
       "</pre>\n"
      ],
      "text/plain": [
       "Market Return : -0.16%   |   Portfolio Return : -0.15%   |   Position Changes : 73   |   Episode Length : 1330   | \n"
      ]
     },
     "metadata": {},
     "output_type": "display_data"
    },
    {
     "data": {
      "text/html": [
       "<pre style=\"white-space:pre;overflow-x:auto;line-height:normal;font-family:Menlo,'DejaVu Sans Mono',consolas,'Courier New',monospace\">Market Return :  0.43%   |   Portfolio Return : -0.76%   |   Position Changes : 26   |   Episode Length : 1330   | \n",
       "</pre>\n"
      ],
      "text/plain": [
       "Market Return :  0.43%   |   Portfolio Return : -0.76%   |   Position Changes : 26   |   Episode Length : 1330   | \n"
      ]
     },
     "metadata": {},
     "output_type": "display_data"
    },
    {
     "data": {
      "text/html": [
       "<pre style=\"white-space:pre;overflow-x:auto;line-height:normal;font-family:Menlo,'DejaVu Sans Mono',consolas,'Courier New',monospace\">Market Return : -3.03%   |   Portfolio Return : -0.96%   |   Position Changes : 81   |   Episode Length : 1330   | \n",
       "</pre>\n"
      ],
      "text/plain": [
       "Market Return : -3.03%   |   Portfolio Return : -0.96%   |   Position Changes : 81   |   Episode Length : 1330   | \n"
      ]
     },
     "metadata": {},
     "output_type": "display_data"
    },
    {
     "data": {
      "text/html": [
       "<pre style=\"white-space:pre;overflow-x:auto;line-height:normal;font-family:Menlo,'DejaVu Sans Mono',consolas,'Courier New',monospace\">Market Return :  0.18%   |   Portfolio Return :  0.16%   |   Position Changes : 54   |   Episode Length : 1330   | \n",
       "</pre>\n"
      ],
      "text/plain": [
       "Market Return :  0.18%   |   Portfolio Return :  0.16%   |   Position Changes : 54   |   Episode Length : 1330   | \n"
      ]
     },
     "metadata": {},
     "output_type": "display_data"
    },
    {
     "data": {
      "text/html": [
       "<pre style=\"white-space:pre;overflow-x:auto;line-height:normal;font-family:Menlo,'DejaVu Sans Mono',consolas,'Courier New',monospace\">Market Return :  0.44%   |   Portfolio Return : -2.42%   |   Position Changes : 55   |   Episode Length : 1330   | \n",
       "</pre>\n"
      ],
      "text/plain": [
       "Market Return :  0.44%   |   Portfolio Return : -2.42%   |   Position Changes : 55   |   Episode Length : 1330   | \n"
      ]
     },
     "metadata": {},
     "output_type": "display_data"
    },
    {
     "data": {
      "text/html": [
       "<pre style=\"white-space:pre;overflow-x:auto;line-height:normal;font-family:Menlo,'DejaVu Sans Mono',consolas,'Courier New',monospace\">Market Return :  0.02%   |   Portfolio Return : -2.79%   |   Position Changes : 206   |   Episode Length : 1330   |\n",
       "</pre>\n"
      ],
      "text/plain": [
       "Market Return :  0.02%   |   Portfolio Return : -2.79%   |   Position Changes : 206   |   Episode Length : 1330   |\n"
      ]
     },
     "metadata": {},
     "output_type": "display_data"
    },
    {
     "data": {
      "text/html": [
       "<pre style=\"white-space:pre;overflow-x:auto;line-height:normal;font-family:Menlo,'DejaVu Sans Mono',consolas,'Courier New',monospace\">Market Return :  1.79%   |   Portfolio Return : -6.52%   |   Position Changes : 174   |   Episode Length : 1330   |\n",
       "</pre>\n"
      ],
      "text/plain": [
       "Market Return :  1.79%   |   Portfolio Return : -6.52%   |   Position Changes : 174   |   Episode Length : 1330   |\n"
      ]
     },
     "metadata": {},
     "output_type": "display_data"
    },
    {
     "data": {
      "text/html": [
       "<pre style=\"white-space:pre;overflow-x:auto;line-height:normal;font-family:Menlo,'DejaVu Sans Mono',consolas,'Courier New',monospace\">Market Return :  0.59%   |   Portfolio Return : -4.60%   |   Position Changes : 201   |   Episode Length : 1330   |\n",
       "</pre>\n"
      ],
      "text/plain": [
       "Market Return :  0.59%   |   Portfolio Return : -4.60%   |   Position Changes : 201   |   Episode Length : 1330   |\n"
      ]
     },
     "metadata": {},
     "output_type": "display_data"
    },
    {
     "data": {
      "text/html": [
       "<pre style=\"white-space:pre;overflow-x:auto;line-height:normal;font-family:Menlo,'DejaVu Sans Mono',consolas,'Courier New',monospace\">Market Return :  0.62%   |   Portfolio Return : -8.21%   |   Position Changes : 251   |   Episode Length : 1330   |\n",
       "</pre>\n"
      ],
      "text/plain": [
       "Market Return :  0.62%   |   Portfolio Return : -8.21%   |   Position Changes : 251   |   Episode Length : 1330   |\n"
      ]
     },
     "metadata": {},
     "output_type": "display_data"
    },
    {
     "data": {
      "text/html": [
       "<pre style=\"white-space:pre;overflow-x:auto;line-height:normal;font-family:Menlo,'DejaVu Sans Mono',consolas,'Courier New',monospace\">Market Return :  0.84%   |   Portfolio Return : -2.88%   |   Position Changes : 196   |   Episode Length : 1330   |\n",
       "</pre>\n"
      ],
      "text/plain": [
       "Market Return :  0.84%   |   Portfolio Return : -2.88%   |   Position Changes : 196   |   Episode Length : 1330   |\n"
      ]
     },
     "metadata": {},
     "output_type": "display_data"
    },
    {
     "data": {
      "text/html": [
       "<pre style=\"white-space:pre;overflow-x:auto;line-height:normal;font-family:Menlo,'DejaVu Sans Mono',consolas,'Courier New',monospace\">Market Return :  0.05%   |   Portfolio Return : -2.20%   |   Position Changes : 172   |   Episode Length : 1330   |\n",
       "</pre>\n"
      ],
      "text/plain": [
       "Market Return :  0.05%   |   Portfolio Return : -2.20%   |   Position Changes : 172   |   Episode Length : 1330   |\n"
      ]
     },
     "metadata": {},
     "output_type": "display_data"
    },
    {
     "data": {
      "text/html": [
       "<pre style=\"white-space:pre;overflow-x:auto;line-height:normal;font-family:Menlo,'DejaVu Sans Mono',consolas,'Courier New',monospace\">Market Return :  1.60%   |   Portfolio Return : -1.75%   |   Position Changes : 221   |   Episode Length : 1330   |\n",
       "</pre>\n"
      ],
      "text/plain": [
       "Market Return :  1.60%   |   Portfolio Return : -1.75%   |   Position Changes : 221   |   Episode Length : 1330   |\n"
      ]
     },
     "metadata": {},
     "output_type": "display_data"
    },
    {
     "data": {
      "text/html": [
       "<pre style=\"white-space:pre;overflow-x:auto;line-height:normal;font-family:Menlo,'DejaVu Sans Mono',consolas,'Courier New',monospace\">Market Return : -5.09%   |   Portfolio Return :  1.97%   |   Position Changes : 139   |   Episode Length : 1330   |\n",
       "</pre>\n"
      ],
      "text/plain": [
       "Market Return : -5.09%   |   Portfolio Return :  1.97%   |   Position Changes : 139   |   Episode Length : 1330   |\n"
      ]
     },
     "metadata": {},
     "output_type": "display_data"
    },
    {
     "data": {
      "text/html": [
       "<pre style=\"white-space:pre;overflow-x:auto;line-height:normal;font-family:Menlo,'DejaVu Sans Mono',consolas,'Courier New',monospace\">Market Return : -1.26%   |   Portfolio Return : -2.55%   |   Position Changes : 166   |   Episode Length : 1330   |\n",
       "</pre>\n"
      ],
      "text/plain": [
       "Market Return : -1.26%   |   Portfolio Return : -2.55%   |   Position Changes : 166   |   Episode Length : 1330   |\n"
      ]
     },
     "metadata": {},
     "output_type": "display_data"
    },
    {
     "data": {
      "text/html": [
       "<pre style=\"white-space:pre;overflow-x:auto;line-height:normal;font-family:Menlo,'DejaVu Sans Mono',consolas,'Courier New',monospace\">Market Return : -3.38%   |   Portfolio Return : -5.70%   |   Position Changes : 192   |   Episode Length : 1330   |\n",
       "</pre>\n"
      ],
      "text/plain": [
       "Market Return : -3.38%   |   Portfolio Return : -5.70%   |   Position Changes : 192   |   Episode Length : 1330   |\n"
      ]
     },
     "metadata": {},
     "output_type": "display_data"
    },
    {
     "data": {
      "text/html": [
       "<pre style=\"white-space:pre;overflow-x:auto;line-height:normal;font-family:Menlo,'DejaVu Sans Mono',consolas,'Courier New',monospace\">Market Return :  1.30%   |   Portfolio Return :  2.85%   |   Position Changes : 103   |   Episode Length : 1330   |\n",
       "</pre>\n"
      ],
      "text/plain": [
       "Market Return :  1.30%   |   Portfolio Return :  2.85%   |   Position Changes : 103   |   Episode Length : 1330   |\n"
      ]
     },
     "metadata": {},
     "output_type": "display_data"
    },
    {
     "data": {
      "text/html": [
       "<pre style=\"white-space:pre;overflow-x:auto;line-height:normal;font-family:Menlo,'DejaVu Sans Mono',consolas,'Courier New',monospace\">Market Return :  1.79%   |   Portfolio Return : -4.66%   |   Position Changes : 226   |   Episode Length : 1330   |\n",
       "</pre>\n"
      ],
      "text/plain": [
       "Market Return :  1.79%   |   Portfolio Return : -4.66%   |   Position Changes : 226   |   Episode Length : 1330   |\n"
      ]
     },
     "metadata": {},
     "output_type": "display_data"
    },
    {
     "data": {
      "text/html": [
       "<pre style=\"white-space:pre;overflow-x:auto;line-height:normal;font-family:Menlo,'DejaVu Sans Mono',consolas,'Courier New',monospace\">Market Return :  0.17%   |   Portfolio Return : -5.76%   |   Position Changes : 237   |   Episode Length : 1330   |\n",
       "</pre>\n"
      ],
      "text/plain": [
       "Market Return :  0.17%   |   Portfolio Return : -5.76%   |   Position Changes : 237   |   Episode Length : 1330   |\n"
      ]
     },
     "metadata": {},
     "output_type": "display_data"
    },
    {
     "data": {
      "text/html": [
       "<pre style=\"white-space:pre;overflow-x:auto;line-height:normal;font-family:Menlo,'DejaVu Sans Mono',consolas,'Courier New',monospace\">Market Return :  5.05%   |   Portfolio Return : -9.05%   |   Position Changes : 159   |   Episode Length : 1330   |\n",
       "</pre>\n"
      ],
      "text/plain": [
       "Market Return :  5.05%   |   Portfolio Return : -9.05%   |   Position Changes : 159   |   Episode Length : 1330   |\n"
      ]
     },
     "metadata": {},
     "output_type": "display_data"
    },
    {
     "data": {
      "text/html": [
       "<pre style=\"white-space:pre;overflow-x:auto;line-height:normal;font-family:Menlo,'DejaVu Sans Mono',consolas,'Courier New',monospace\">Market Return :  1.99%   |   Portfolio Return : -4.36%   |   Position Changes : 147   |   Episode Length : 1330   |\n",
       "</pre>\n"
      ],
      "text/plain": [
       "Market Return :  1.99%   |   Portfolio Return : -4.36%   |   Position Changes : 147   |   Episode Length : 1330   |\n"
      ]
     },
     "metadata": {},
     "output_type": "display_data"
    },
    {
     "data": {
      "text/html": [
       "<pre style=\"white-space:pre;overflow-x:auto;line-height:normal;font-family:Menlo,'DejaVu Sans Mono',consolas,'Courier New',monospace\">Market Return :  0.09%   |   Portfolio Return : -2.63%   |   Position Changes : 143   |   Episode Length : 1330   |\n",
       "</pre>\n"
      ],
      "text/plain": [
       "Market Return :  0.09%   |   Portfolio Return : -2.63%   |   Position Changes : 143   |   Episode Length : 1330   |\n"
      ]
     },
     "metadata": {},
     "output_type": "display_data"
    },
    {
     "data": {
      "text/html": [
       "<pre style=\"white-space:pre;overflow-x:auto;line-height:normal;font-family:Menlo,'DejaVu Sans Mono',consolas,'Courier New',monospace\">Market Return : -0.24%   |   Portfolio Return :  6.24%   |   Position Changes : 194   |   Episode Length : 1330   |\n",
       "</pre>\n"
      ],
      "text/plain": [
       "Market Return : -0.24%   |   Portfolio Return :  6.24%   |   Position Changes : 194   |   Episode Length : 1330   |\n"
      ]
     },
     "metadata": {},
     "output_type": "display_data"
    },
    {
     "data": {
      "text/html": [
       "<pre style=\"white-space:pre;overflow-x:auto;line-height:normal;font-family:Menlo,'DejaVu Sans Mono',consolas,'Courier New',monospace\">Market Return :  6.37%   |   Portfolio Return :  0.35%   |   Position Changes : 148   |   Episode Length : 1330   |\n",
       "</pre>\n"
      ],
      "text/plain": [
       "Market Return :  6.37%   |   Portfolio Return :  0.35%   |   Position Changes : 148   |   Episode Length : 1330   |\n"
      ]
     },
     "metadata": {},
     "output_type": "display_data"
    },
    {
     "data": {
      "text/html": [
       "<pre style=\"white-space:pre;overflow-x:auto;line-height:normal;font-family:Menlo,'DejaVu Sans Mono',consolas,'Courier New',monospace\">Market Return : -1.47%   |   Portfolio Return : -3.88%   |   Position Changes : 175   |   Episode Length : 1330   |\n",
       "</pre>\n"
      ],
      "text/plain": [
       "Market Return : -1.47%   |   Portfolio Return : -3.88%   |   Position Changes : 175   |   Episode Length : 1330   |\n"
      ]
     },
     "metadata": {},
     "output_type": "display_data"
    },
    {
     "data": {
      "text/html": [
       "<pre style=\"white-space:pre;overflow-x:auto;line-height:normal;font-family:Menlo,'DejaVu Sans Mono',consolas,'Courier New',monospace\">Market Return : -0.83%   |   Portfolio Return : -5.01%   |   Position Changes : 257   |   Episode Length : 1330   |\n",
       "</pre>\n"
      ],
      "text/plain": [
       "Market Return : -0.83%   |   Portfolio Return : -5.01%   |   Position Changes : 257   |   Episode Length : 1330   |\n"
      ]
     },
     "metadata": {},
     "output_type": "display_data"
    },
    {
     "data": {
      "text/html": [
       "<pre style=\"white-space:pre;overflow-x:auto;line-height:normal;font-family:Menlo,'DejaVu Sans Mono',consolas,'Courier New',monospace\">Market Return : -0.21%   |   Portfolio Return : -7.28%   |   Position Changes : 251   |   Episode Length : 1330   |\n",
       "</pre>\n"
      ],
      "text/plain": [
       "Market Return : -0.21%   |   Portfolio Return : -7.28%   |   Position Changes : 251   |   Episode Length : 1330   |\n"
      ]
     },
     "metadata": {},
     "output_type": "display_data"
    },
    {
     "data": {
      "text/html": [
       "<pre style=\"white-space:pre;overflow-x:auto;line-height:normal;font-family:Menlo,'DejaVu Sans Mono',consolas,'Courier New',monospace\">Market Return : -0.15%   |   Portfolio Return : -7.51%   |   Position Changes : 205   |   Episode Length : 1330   |\n",
       "</pre>\n"
      ],
      "text/plain": [
       "Market Return : -0.15%   |   Portfolio Return : -7.51%   |   Position Changes : 205   |   Episode Length : 1330   |\n"
      ]
     },
     "metadata": {},
     "output_type": "display_data"
    },
    {
     "data": {
      "text/html": [
       "<pre style=\"white-space:pre;overflow-x:auto;line-height:normal;font-family:Menlo,'DejaVu Sans Mono',consolas,'Courier New',monospace\">Market Return : -4.64%   |   Portfolio Return : -6.54%   |   Position Changes : 176   |   Episode Length : 1330   |\n",
       "</pre>\n"
      ],
      "text/plain": [
       "Market Return : -4.64%   |   Portfolio Return : -6.54%   |   Position Changes : 176   |   Episode Length : 1330   |\n"
      ]
     },
     "metadata": {},
     "output_type": "display_data"
    },
    {
     "data": {
      "text/html": [
       "<pre style=\"white-space:pre;overflow-x:auto;line-height:normal;font-family:Menlo,'DejaVu Sans Mono',consolas,'Courier New',monospace\">Market Return : -0.17%   |   Portfolio Return : -2.33%   |   Position Changes : 143   |   Episode Length : 1330   |\n",
       "</pre>\n"
      ],
      "text/plain": [
       "Market Return : -0.17%   |   Portfolio Return : -2.33%   |   Position Changes : 143   |   Episode Length : 1330   |\n"
      ]
     },
     "metadata": {},
     "output_type": "display_data"
    },
    {
     "data": {
      "text/html": [
       "<pre style=\"white-space:pre;overflow-x:auto;line-height:normal;font-family:Menlo,'DejaVu Sans Mono',consolas,'Courier New',monospace\">Market Return : -1.47%   |   Portfolio Return : -5.38%   |   Position Changes : 190   |   Episode Length : 1330   |\n",
       "</pre>\n"
      ],
      "text/plain": [
       "Market Return : -1.47%   |   Portfolio Return : -5.38%   |   Position Changes : 190   |   Episode Length : 1330   |\n"
      ]
     },
     "metadata": {},
     "output_type": "display_data"
    },
    {
     "data": {
      "text/html": [
       "<pre style=\"white-space:pre;overflow-x:auto;line-height:normal;font-family:Menlo,'DejaVu Sans Mono',consolas,'Courier New',monospace\">Market Return :  0.44%   |   Portfolio Return : -2.12%   |   Position Changes : 162   |   Episode Length : 1330   |\n",
       "</pre>\n"
      ],
      "text/plain": [
       "Market Return :  0.44%   |   Portfolio Return : -2.12%   |   Position Changes : 162   |   Episode Length : 1330   |\n"
      ]
     },
     "metadata": {},
     "output_type": "display_data"
    },
    {
     "data": {
      "text/html": [
       "<pre style=\"white-space:pre;overflow-x:auto;line-height:normal;font-family:Menlo,'DejaVu Sans Mono',consolas,'Courier New',monospace\">Market Return :  1.48%   |   Portfolio Return : -5.07%   |   Position Changes : 249   |   Episode Length : 1330   |\n",
       "</pre>\n"
      ],
      "text/plain": [
       "Market Return :  1.48%   |   Portfolio Return : -5.07%   |   Position Changes : 249   |   Episode Length : 1330   |\n"
      ]
     },
     "metadata": {},
     "output_type": "display_data"
    },
    {
     "data": {
      "text/html": [
       "<pre style=\"white-space:pre;overflow-x:auto;line-height:normal;font-family:Menlo,'DejaVu Sans Mono',consolas,'Courier New',monospace\">Market Return :  0.59%   |   Portfolio Return : -2.35%   |   Position Changes : 301   |   Episode Length : 1330   |\n",
       "</pre>\n"
      ],
      "text/plain": [
       "Market Return :  0.59%   |   Portfolio Return : -2.35%   |   Position Changes : 301   |   Episode Length : 1330   |\n"
      ]
     },
     "metadata": {},
     "output_type": "display_data"
    },
    {
     "data": {
      "text/html": [
       "<pre style=\"white-space:pre;overflow-x:auto;line-height:normal;font-family:Menlo,'DejaVu Sans Mono',consolas,'Courier New',monospace\">Market Return : -1.35%   |   Portfolio Return : -0.85%   |   Position Changes : 167   |   Episode Length : 1330   |\n",
       "</pre>\n"
      ],
      "text/plain": [
       "Market Return : -1.35%   |   Portfolio Return : -0.85%   |   Position Changes : 167   |   Episode Length : 1330   |\n"
      ]
     },
     "metadata": {},
     "output_type": "display_data"
    },
    {
     "data": {
      "text/html": [
       "<pre style=\"white-space:pre;overflow-x:auto;line-height:normal;font-family:Menlo,'DejaVu Sans Mono',consolas,'Courier New',monospace\">Market Return :  2.87%   |   Portfolio Return : -6.15%   |   Position Changes : 224   |   Episode Length : 1330   |\n",
       "</pre>\n"
      ],
      "text/plain": [
       "Market Return :  2.87%   |   Portfolio Return : -6.15%   |   Position Changes : 224   |   Episode Length : 1330   |\n"
      ]
     },
     "metadata": {},
     "output_type": "display_data"
    },
    {
     "data": {
      "text/html": [
       "<pre style=\"white-space:pre;overflow-x:auto;line-height:normal;font-family:Menlo,'DejaVu Sans Mono',consolas,'Courier New',monospace\">Market Return : -0.96%   |   Portfolio Return : -4.50%   |   Position Changes : 260   |   Episode Length : 1330   |\n",
       "</pre>\n"
      ],
      "text/plain": [
       "Market Return : -0.96%   |   Portfolio Return : -4.50%   |   Position Changes : 260   |   Episode Length : 1330   |\n"
      ]
     },
     "metadata": {},
     "output_type": "display_data"
    },
    {
     "data": {
      "text/html": [
       "<pre style=\"white-space:pre;overflow-x:auto;line-height:normal;font-family:Menlo,'DejaVu Sans Mono',consolas,'Courier New',monospace\">Market Return : -1.26%   |   Portfolio Return : -3.24%   |   Position Changes : 225   |   Episode Length : 1330   |\n",
       "</pre>\n"
      ],
      "text/plain": [
       "Market Return : -1.26%   |   Portfolio Return : -3.24%   |   Position Changes : 225   |   Episode Length : 1330   |\n"
      ]
     },
     "metadata": {},
     "output_type": "display_data"
    },
    {
     "data": {
      "text/html": [
       "<pre style=\"white-space:pre;overflow-x:auto;line-height:normal;font-family:Menlo,'DejaVu Sans Mono',consolas,'Courier New',monospace\">Market Return : -0.17%   |   Portfolio Return : -5.73%   |   Position Changes : 246   |   Episode Length : 1330   |\n",
       "</pre>\n"
      ],
      "text/plain": [
       "Market Return : -0.17%   |   Portfolio Return : -5.73%   |   Position Changes : 246   |   Episode Length : 1330   |\n"
      ]
     },
     "metadata": {},
     "output_type": "display_data"
    },
    {
     "data": {
      "text/html": [
       "<pre style=\"white-space:pre;overflow-x:auto;line-height:normal;font-family:Menlo,'DejaVu Sans Mono',consolas,'Courier New',monospace\">Market Return : -8.81%   |   Portfolio Return : -11.05%   |   Position Changes : 335   |   Episode Length : 1330   \n",
       "|   \n",
       "</pre>\n"
      ],
      "text/plain": [
       "Market Return : -8.81%   |   Portfolio Return : -11.05%   |   Position Changes : 335   |   Episode Length : 1330   \n",
       "|   \n"
      ]
     },
     "metadata": {},
     "output_type": "display_data"
    },
    {
     "data": {
      "text/html": [
       "<pre style=\"white-space:pre;overflow-x:auto;line-height:normal;font-family:Menlo,'DejaVu Sans Mono',consolas,'Courier New',monospace\">Market Return : -0.40%   |   Portfolio Return : -4.80%   |   Position Changes : 203   |   Episode Length : 1330   |\n",
       "</pre>\n"
      ],
      "text/plain": [
       "Market Return : -0.40%   |   Portfolio Return : -4.80%   |   Position Changes : 203   |   Episode Length : 1330   |\n"
      ]
     },
     "metadata": {},
     "output_type": "display_data"
    },
    {
     "data": {
      "text/html": [
       "<pre style=\"white-space:pre;overflow-x:auto;line-height:normal;font-family:Menlo,'DejaVu Sans Mono',consolas,'Courier New',monospace\">Market Return : -0.12%   |   Portfolio Return : -2.87%   |   Position Changes : 175   |   Episode Length : 1330   |\n",
       "</pre>\n"
      ],
      "text/plain": [
       "Market Return : -0.12%   |   Portfolio Return : -2.87%   |   Position Changes : 175   |   Episode Length : 1330   |\n"
      ]
     },
     "metadata": {},
     "output_type": "display_data"
    },
    {
     "data": {
      "text/html": [
       "<pre style=\"white-space:pre;overflow-x:auto;line-height:normal;font-family:Menlo,'DejaVu Sans Mono',consolas,'Courier New',monospace\">Market Return :  2.49%   |   Portfolio Return : -4.61%   |   Position Changes : 215   |   Episode Length : 1330   |\n",
       "</pre>\n"
      ],
      "text/plain": [
       "Market Return :  2.49%   |   Portfolio Return : -4.61%   |   Position Changes : 215   |   Episode Length : 1330   |\n"
      ]
     },
     "metadata": {},
     "output_type": "display_data"
    },
    {
     "data": {
      "text/html": [
       "<pre style=\"white-space:pre;overflow-x:auto;line-height:normal;font-family:Menlo,'DejaVu Sans Mono',consolas,'Courier New',monospace\">Market Return :  0.49%   |   Portfolio Return : -5.56%   |   Position Changes : 156   |   Episode Length : 1330   |\n",
       "</pre>\n"
      ],
      "text/plain": [
       "Market Return :  0.49%   |   Portfolio Return : -5.56%   |   Position Changes : 156   |   Episode Length : 1330   |\n"
      ]
     },
     "metadata": {},
     "output_type": "display_data"
    },
    {
     "data": {
      "text/html": [
       "<pre style=\"white-space:pre;overflow-x:auto;line-height:normal;font-family:Menlo,'DejaVu Sans Mono',consolas,'Courier New',monospace\">Market Return : -1.63%   |   Portfolio Return : -5.17%   |   Position Changes : 280   |   Episode Length : 1330   |\n",
       "</pre>\n"
      ],
      "text/plain": [
       "Market Return : -1.63%   |   Portfolio Return : -5.17%   |   Position Changes : 280   |   Episode Length : 1330   |\n"
      ]
     },
     "metadata": {},
     "output_type": "display_data"
    },
    {
     "data": {
      "text/html": [
       "<pre style=\"white-space:pre;overflow-x:auto;line-height:normal;font-family:Menlo,'DejaVu Sans Mono',consolas,'Courier New',monospace\">Market Return : -3.27%   |   Portfolio Return : -5.50%   |   Position Changes : 154   |   Episode Length : 1330   |\n",
       "</pre>\n"
      ],
      "text/plain": [
       "Market Return : -3.27%   |   Portfolio Return : -5.50%   |   Position Changes : 154   |   Episode Length : 1330   |\n"
      ]
     },
     "metadata": {},
     "output_type": "display_data"
    },
    {
     "data": {
      "text/html": [
       "<pre style=\"white-space:pre;overflow-x:auto;line-height:normal;font-family:Menlo,'DejaVu Sans Mono',consolas,'Courier New',monospace\">Market Return : -0.15%   |   Portfolio Return : -8.19%   |   Position Changes : 200   |   Episode Length : 1330   |\n",
       "</pre>\n"
      ],
      "text/plain": [
       "Market Return : -0.15%   |   Portfolio Return : -8.19%   |   Position Changes : 200   |   Episode Length : 1330   |\n"
      ]
     },
     "metadata": {},
     "output_type": "display_data"
    },
    {
     "data": {
      "text/html": [
       "<pre style=\"white-space:pre;overflow-x:auto;line-height:normal;font-family:Menlo,'DejaVu Sans Mono',consolas,'Courier New',monospace\">Market Return :  1.44%   |   Portfolio Return : -3.83%   |   Position Changes : 191   |   Episode Length : 1330   |\n",
       "</pre>\n"
      ],
      "text/plain": [
       "Market Return :  1.44%   |   Portfolio Return : -3.83%   |   Position Changes : 191   |   Episode Length : 1330   |\n"
      ]
     },
     "metadata": {},
     "output_type": "display_data"
    },
    {
     "data": {
      "text/html": [
       "<pre style=\"white-space:pre;overflow-x:auto;line-height:normal;font-family:Menlo,'DejaVu Sans Mono',consolas,'Courier New',monospace\">Market Return :  1.64%   |   Portfolio Return : -3.94%   |   Position Changes : 219   |   Episode Length : 1330   |\n",
       "</pre>\n"
      ],
      "text/plain": [
       "Market Return :  1.64%   |   Portfolio Return : -3.94%   |   Position Changes : 219   |   Episode Length : 1330   |\n"
      ]
     },
     "metadata": {},
     "output_type": "display_data"
    },
    {
     "data": {
      "text/html": [
       "<pre style=\"white-space:pre;overflow-x:auto;line-height:normal;font-family:Menlo,'DejaVu Sans Mono',consolas,'Courier New',monospace\">Market Return : -1.24%   |   Portfolio Return : -3.47%   |   Position Changes : 165   |   Episode Length : 1330   |\n",
       "</pre>\n"
      ],
      "text/plain": [
       "Market Return : -1.24%   |   Portfolio Return : -3.47%   |   Position Changes : 165   |   Episode Length : 1330   |\n"
      ]
     },
     "metadata": {},
     "output_type": "display_data"
    },
    {
     "data": {
      "text/html": [
       "<pre style=\"white-space:pre;overflow-x:auto;line-height:normal;font-family:Menlo,'DejaVu Sans Mono',consolas,'Courier New',monospace\">Market Return :  1.35%   |   Portfolio Return : -4.80%   |   Position Changes : 185   |   Episode Length : 1330   |\n",
       "</pre>\n"
      ],
      "text/plain": [
       "Market Return :  1.35%   |   Portfolio Return : -4.80%   |   Position Changes : 185   |   Episode Length : 1330   |\n"
      ]
     },
     "metadata": {},
     "output_type": "display_data"
    },
    {
     "data": {
      "text/html": [
       "<pre style=\"white-space:pre;overflow-x:auto;line-height:normal;font-family:Menlo,'DejaVu Sans Mono',consolas,'Courier New',monospace\">Market Return :  0.98%   |   Portfolio Return : -8.51%   |   Position Changes : 220   |   Episode Length : 1330   |\n",
       "</pre>\n"
      ],
      "text/plain": [
       "Market Return :  0.98%   |   Portfolio Return : -8.51%   |   Position Changes : 220   |   Episode Length : 1330   |\n"
      ]
     },
     "metadata": {},
     "output_type": "display_data"
    },
    {
     "data": {
      "text/html": [
       "<pre style=\"white-space:pre;overflow-x:auto;line-height:normal;font-family:Menlo,'DejaVu Sans Mono',consolas,'Courier New',monospace\">Market Return :  7.84%   |   Portfolio Return : -8.71%   |   Position Changes : 184   |   Episode Length : 1330   |\n",
       "</pre>\n"
      ],
      "text/plain": [
       "Market Return :  7.84%   |   Portfolio Return : -8.71%   |   Position Changes : 184   |   Episode Length : 1330   |\n"
      ]
     },
     "metadata": {},
     "output_type": "display_data"
    },
    {
     "data": {
      "text/html": [
       "<pre style=\"white-space:pre;overflow-x:auto;line-height:normal;font-family:Menlo,'DejaVu Sans Mono',consolas,'Courier New',monospace\">Market Return :  0.82%   |   Portfolio Return :  0.52%   |   Position Changes : 182   |   Episode Length : 1330   |\n",
       "</pre>\n"
      ],
      "text/plain": [
       "Market Return :  0.82%   |   Portfolio Return :  0.52%   |   Position Changes : 182   |   Episode Length : 1330   |\n"
      ]
     },
     "metadata": {},
     "output_type": "display_data"
    },
    {
     "data": {
      "text/html": [
       "<pre style=\"white-space:pre;overflow-x:auto;line-height:normal;font-family:Menlo,'DejaVu Sans Mono',consolas,'Courier New',monospace\">Market Return : -1.23%   |   Portfolio Return : -2.43%   |   Position Changes : 264   |   Episode Length : 1330   |\n",
       "</pre>\n"
      ],
      "text/plain": [
       "Market Return : -1.23%   |   Portfolio Return : -2.43%   |   Position Changes : 264   |   Episode Length : 1330   |\n"
      ]
     },
     "metadata": {},
     "output_type": "display_data"
    },
    {
     "data": {
      "text/html": [
       "<pre style=\"white-space:pre;overflow-x:auto;line-height:normal;font-family:Menlo,'DejaVu Sans Mono',consolas,'Courier New',monospace\">Market Return :  2.84%   |   Portfolio Return : -7.19%   |   Position Changes : 270   |   Episode Length : 1330   |\n",
       "</pre>\n"
      ],
      "text/plain": [
       "Market Return :  2.84%   |   Portfolio Return : -7.19%   |   Position Changes : 270   |   Episode Length : 1330   |\n"
      ]
     },
     "metadata": {},
     "output_type": "display_data"
    },
    {
     "data": {
      "text/html": [
       "<pre style=\"white-space:pre;overflow-x:auto;line-height:normal;font-family:Menlo,'DejaVu Sans Mono',consolas,'Courier New',monospace\">Market Return : 13.50%   |   Portfolio Return : -16.69%   |   Position Changes : 224   |   Episode Length : 1330   \n",
       "|   \n",
       "</pre>\n"
      ],
      "text/plain": [
       "Market Return : 13.50%   |   Portfolio Return : -16.69%   |   Position Changes : 224   |   Episode Length : 1330   \n",
       "|   \n"
      ]
     },
     "metadata": {},
     "output_type": "display_data"
    },
    {
     "data": {
      "text/html": [
       "<pre style=\"white-space:pre;overflow-x:auto;line-height:normal;font-family:Menlo,'DejaVu Sans Mono',consolas,'Courier New',monospace\">Market Return :  1.10%   |   Portfolio Return : -3.39%   |   Position Changes : 191   |   Episode Length : 1330   |\n",
       "</pre>\n"
      ],
      "text/plain": [
       "Market Return :  1.10%   |   Portfolio Return : -3.39%   |   Position Changes : 191   |   Episode Length : 1330   |\n"
      ]
     },
     "metadata": {},
     "output_type": "display_data"
    },
    {
     "data": {
      "text/html": [
       "<pre style=\"white-space:pre;overflow-x:auto;line-height:normal;font-family:Menlo,'DejaVu Sans Mono',consolas,'Courier New',monospace\">Market Return : -9.02%   |   Portfolio Return :  9.29%   |   Position Changes : 88   |   Episode Length : 1330   | \n",
       "</pre>\n"
      ],
      "text/plain": [
       "Market Return : -9.02%   |   Portfolio Return :  9.29%   |   Position Changes : 88   |   Episode Length : 1330   | \n"
      ]
     },
     "metadata": {},
     "output_type": "display_data"
    },
    {
     "data": {
      "text/html": [
       "<pre style=\"white-space:pre;overflow-x:auto;line-height:normal;font-family:Menlo,'DejaVu Sans Mono',consolas,'Courier New',monospace\">Market Return :  0.11%   |   Portfolio Return : -7.68%   |   Position Changes : 200   |   Episode Length : 1330   |\n",
       "</pre>\n"
      ],
      "text/plain": [
       "Market Return :  0.11%   |   Portfolio Return : -7.68%   |   Position Changes : 200   |   Episode Length : 1330   |\n"
      ]
     },
     "metadata": {},
     "output_type": "display_data"
    },
    {
     "data": {
      "text/html": [
       "<pre style=\"white-space:pre;overflow-x:auto;line-height:normal;font-family:Menlo,'DejaVu Sans Mono',consolas,'Courier New',monospace\">Market Return :  1.04%   |   Portfolio Return : -2.44%   |   Position Changes : 192   |   Episode Length : 1330   |\n",
       "</pre>\n"
      ],
      "text/plain": [
       "Market Return :  1.04%   |   Portfolio Return : -2.44%   |   Position Changes : 192   |   Episode Length : 1330   |\n"
      ]
     },
     "metadata": {},
     "output_type": "display_data"
    },
    {
     "data": {
      "text/html": [
       "<pre style=\"white-space:pre;overflow-x:auto;line-height:normal;font-family:Menlo,'DejaVu Sans Mono',consolas,'Courier New',monospace\">Market Return : -0.18%   |   Portfolio Return :  0.97%   |   Position Changes : 238   |   Episode Length : 1330   |\n",
       "</pre>\n"
      ],
      "text/plain": [
       "Market Return : -0.18%   |   Portfolio Return :  0.97%   |   Position Changes : 238   |   Episode Length : 1330   |\n"
      ]
     },
     "metadata": {},
     "output_type": "display_data"
    },
    {
     "data": {
      "text/html": [
       "<pre style=\"white-space:pre;overflow-x:auto;line-height:normal;font-family:Menlo,'DejaVu Sans Mono',consolas,'Courier New',monospace\">Market Return : -2.45%   |   Portfolio Return : -3.88%   |   Position Changes : 167   |   Episode Length : 1330   |\n",
       "</pre>\n"
      ],
      "text/plain": [
       "Market Return : -2.45%   |   Portfolio Return : -3.88%   |   Position Changes : 167   |   Episode Length : 1330   |\n"
      ]
     },
     "metadata": {},
     "output_type": "display_data"
    },
    {
     "data": {
      "text/html": [
       "<pre style=\"white-space:pre;overflow-x:auto;line-height:normal;font-family:Menlo,'DejaVu Sans Mono',consolas,'Courier New',monospace\">Market Return :  1.21%   |   Portfolio Return : -3.50%   |   Position Changes : 198   |   Episode Length : 1330   |\n",
       "</pre>\n"
      ],
      "text/plain": [
       "Market Return :  1.21%   |   Portfolio Return : -3.50%   |   Position Changes : 198   |   Episode Length : 1330   |\n"
      ]
     },
     "metadata": {},
     "output_type": "display_data"
    },
    {
     "data": {
      "text/html": [
       "<pre style=\"white-space:pre;overflow-x:auto;line-height:normal;font-family:Menlo,'DejaVu Sans Mono',consolas,'Courier New',monospace\">Market Return : -0.44%   |   Portfolio Return : -2.79%   |   Position Changes : 144   |   Episode Length : 1330   |\n",
       "</pre>\n"
      ],
      "text/plain": [
       "Market Return : -0.44%   |   Portfolio Return : -2.79%   |   Position Changes : 144   |   Episode Length : 1330   |\n"
      ]
     },
     "metadata": {},
     "output_type": "display_data"
    },
    {
     "data": {
      "text/html": [
       "<pre style=\"white-space:pre;overflow-x:auto;line-height:normal;font-family:Menlo,'DejaVu Sans Mono',consolas,'Courier New',monospace\">Market Return : -4.05%   |   Portfolio Return : -8.42%   |   Position Changes : 207   |   Episode Length : 1330   |\n",
       "</pre>\n"
      ],
      "text/plain": [
       "Market Return : -4.05%   |   Portfolio Return : -8.42%   |   Position Changes : 207   |   Episode Length : 1330   |\n"
      ]
     },
     "metadata": {},
     "output_type": "display_data"
    },
    {
     "data": {
      "text/html": [
       "<pre style=\"white-space:pre;overflow-x:auto;line-height:normal;font-family:Menlo,'DejaVu Sans Mono',consolas,'Courier New',monospace\">Market Return :  2.27%   |   Portfolio Return : -1.72%   |   Position Changes : 193   |   Episode Length : 1330   |\n",
       "</pre>\n"
      ],
      "text/plain": [
       "Market Return :  2.27%   |   Portfolio Return : -1.72%   |   Position Changes : 193   |   Episode Length : 1330   |\n"
      ]
     },
     "metadata": {},
     "output_type": "display_data"
    },
    {
     "data": {
      "text/html": [
       "<pre style=\"white-space:pre;overflow-x:auto;line-height:normal;font-family:Menlo,'DejaVu Sans Mono',consolas,'Courier New',monospace\">Market Return :  0.29%   |   Portfolio Return : -7.99%   |   Position Changes : 269   |   Episode Length : 1330   |\n",
       "</pre>\n"
      ],
      "text/plain": [
       "Market Return :  0.29%   |   Portfolio Return : -7.99%   |   Position Changes : 269   |   Episode Length : 1330   |\n"
      ]
     },
     "metadata": {},
     "output_type": "display_data"
    },
    {
     "data": {
      "text/html": [
       "<pre style=\"white-space:pre;overflow-x:auto;line-height:normal;font-family:Menlo,'DejaVu Sans Mono',consolas,'Courier New',monospace\">Market Return :  1.55%   |   Portfolio Return : -3.77%   |   Position Changes : 219   |   Episode Length : 1330   |\n",
       "</pre>\n"
      ],
      "text/plain": [
       "Market Return :  1.55%   |   Portfolio Return : -3.77%   |   Position Changes : 219   |   Episode Length : 1330   |\n"
      ]
     },
     "metadata": {},
     "output_type": "display_data"
    },
    {
     "data": {
      "text/html": [
       "<pre style=\"white-space:pre;overflow-x:auto;line-height:normal;font-family:Menlo,'DejaVu Sans Mono',consolas,'Courier New',monospace\">Market Return : -1.88%   |   Portfolio Return : -3.24%   |   Position Changes : 192   |   Episode Length : 1120   |\n",
       "</pre>\n"
      ],
      "text/plain": [
       "Market Return : -1.88%   |   Portfolio Return : -3.24%   |   Position Changes : 192   |   Episode Length : 1120   |\n"
      ]
     },
     "metadata": {},
     "output_type": "display_data"
    },
    {
     "data": {
      "text/html": [
       "<pre style=\"white-space:pre;overflow-x:auto;line-height:normal;font-family:Menlo,'DejaVu Sans Mono',consolas,'Courier New',monospace\">Market Return :  2.15%   |   Portfolio Return : -2.83%   |   Position Changes : 228   |   Episode Length : 1330   |\n",
       "</pre>\n"
      ],
      "text/plain": [
       "Market Return :  2.15%   |   Portfolio Return : -2.83%   |   Position Changes : 228   |   Episode Length : 1330   |\n"
      ]
     },
     "metadata": {},
     "output_type": "display_data"
    },
    {
     "data": {
      "text/html": [
       "<pre style=\"white-space:pre;overflow-x:auto;line-height:normal;font-family:Menlo,'DejaVu Sans Mono',consolas,'Courier New',monospace\">Market Return : -1.62%   |   Portfolio Return : -4.36%   |   Position Changes : 182   |   Episode Length : 1330   |\n",
       "</pre>\n"
      ],
      "text/plain": [
       "Market Return : -1.62%   |   Portfolio Return : -4.36%   |   Position Changes : 182   |   Episode Length : 1330   |\n"
      ]
     },
     "metadata": {},
     "output_type": "display_data"
    },
    {
     "data": {
      "text/html": [
       "<pre style=\"white-space:pre;overflow-x:auto;line-height:normal;font-family:Menlo,'DejaVu Sans Mono',consolas,'Courier New',monospace\">Market Return :  0.58%   |   Portfolio Return : -5.76%   |   Position Changes : 204   |   Episode Length : 1330   |\n",
       "</pre>\n"
      ],
      "text/plain": [
       "Market Return :  0.58%   |   Portfolio Return : -5.76%   |   Position Changes : 204   |   Episode Length : 1330   |\n"
      ]
     },
     "metadata": {},
     "output_type": "display_data"
    },
    {
     "data": {
      "text/html": [
       "<pre style=\"white-space:pre;overflow-x:auto;line-height:normal;font-family:Menlo,'DejaVu Sans Mono',consolas,'Courier New',monospace\">Market Return : -1.59%   |   Portfolio Return : -5.06%   |   Position Changes : 181   |   Episode Length : 1330   |\n",
       "</pre>\n"
      ],
      "text/plain": [
       "Market Return : -1.59%   |   Portfolio Return : -5.06%   |   Position Changes : 181   |   Episode Length : 1330   |\n"
      ]
     },
     "metadata": {},
     "output_type": "display_data"
    },
    {
     "data": {
      "text/html": [
       "<pre style=\"white-space:pre;overflow-x:auto;line-height:normal;font-family:Menlo,'DejaVu Sans Mono',consolas,'Courier New',monospace\">Market Return :  0.44%   |   Portfolio Return : -3.37%   |   Position Changes : 208   |   Episode Length : 1330   |\n",
       "</pre>\n"
      ],
      "text/plain": [
       "Market Return :  0.44%   |   Portfolio Return : -3.37%   |   Position Changes : 208   |   Episode Length : 1330   |\n"
      ]
     },
     "metadata": {},
     "output_type": "display_data"
    },
    {
     "data": {
      "text/html": [
       "<pre style=\"white-space:pre;overflow-x:auto;line-height:normal;font-family:Menlo,'DejaVu Sans Mono',consolas,'Courier New',monospace\">Market Return : -3.23%   |   Portfolio Return : -0.97%   |   Position Changes : 187   |   Episode Length : 1330   |\n",
       "</pre>\n"
      ],
      "text/plain": [
       "Market Return : -3.23%   |   Portfolio Return : -0.97%   |   Position Changes : 187   |   Episode Length : 1330   |\n"
      ]
     },
     "metadata": {},
     "output_type": "display_data"
    },
    {
     "data": {
      "text/html": [
       "<pre style=\"white-space:pre;overflow-x:auto;line-height:normal;font-family:Menlo,'DejaVu Sans Mono',consolas,'Courier New',monospace\">Market Return : -0.90%   |   Portfolio Return : -4.16%   |   Position Changes : 223   |   Episode Length : 1330   |\n",
       "</pre>\n"
      ],
      "text/plain": [
       "Market Return : -0.90%   |   Portfolio Return : -4.16%   |   Position Changes : 223   |   Episode Length : 1330   |\n"
      ]
     },
     "metadata": {},
     "output_type": "display_data"
    },
    {
     "data": {
      "text/html": [
       "<pre style=\"white-space:pre;overflow-x:auto;line-height:normal;font-family:Menlo,'DejaVu Sans Mono',consolas,'Courier New',monospace\">Market Return : -3.03%   |   Portfolio Return : -0.63%   |   Position Changes : 165   |   Episode Length : 1330   |\n",
       "</pre>\n"
      ],
      "text/plain": [
       "Market Return : -3.03%   |   Portfolio Return : -0.63%   |   Position Changes : 165   |   Episode Length : 1330   |\n"
      ]
     },
     "metadata": {},
     "output_type": "display_data"
    },
    {
     "data": {
      "text/html": [
       "<pre style=\"white-space:pre;overflow-x:auto;line-height:normal;font-family:Menlo,'DejaVu Sans Mono',consolas,'Courier New',monospace\">Market Return :  2.14%   |   Portfolio Return : -4.64%   |   Position Changes : 161   |   Episode Length : 1330   |\n",
       "</pre>\n"
      ],
      "text/plain": [
       "Market Return :  2.14%   |   Portfolio Return : -4.64%   |   Position Changes : 161   |   Episode Length : 1330   |\n"
      ]
     },
     "metadata": {},
     "output_type": "display_data"
    },
    {
     "data": {
      "text/html": [
       "<pre style=\"white-space:pre;overflow-x:auto;line-height:normal;font-family:Menlo,'DejaVu Sans Mono',consolas,'Courier New',monospace\">Market Return :  0.14%   |   Portfolio Return : -3.85%   |   Position Changes : 191   |   Episode Length : 1330   |\n",
       "</pre>\n"
      ],
      "text/plain": [
       "Market Return :  0.14%   |   Portfolio Return : -3.85%   |   Position Changes : 191   |   Episode Length : 1330   |\n"
      ]
     },
     "metadata": {},
     "output_type": "display_data"
    },
    {
     "data": {
      "text/html": [
       "<pre style=\"white-space:pre;overflow-x:auto;line-height:normal;font-family:Menlo,'DejaVu Sans Mono',consolas,'Courier New',monospace\">Market Return : -0.47%   |   Portfolio Return : -4.17%   |   Position Changes : 197   |   Episode Length : 1330   |\n",
       "</pre>\n"
      ],
      "text/plain": [
       "Market Return : -0.47%   |   Portfolio Return : -4.17%   |   Position Changes : 197   |   Episode Length : 1330   |\n"
      ]
     },
     "metadata": {},
     "output_type": "display_data"
    },
    {
     "data": {
      "text/html": [
       "<pre style=\"white-space:pre;overflow-x:auto;line-height:normal;font-family:Menlo,'DejaVu Sans Mono',consolas,'Courier New',monospace\">Market Return :  0.92%   |   Portfolio Return : -2.47%   |   Position Changes : 183   |   Episode Length : 1330   |\n",
       "</pre>\n"
      ],
      "text/plain": [
       "Market Return :  0.92%   |   Portfolio Return : -2.47%   |   Position Changes : 183   |   Episode Length : 1330   |\n"
      ]
     },
     "metadata": {},
     "output_type": "display_data"
    },
    {
     "data": {
      "text/html": [
       "<pre style=\"white-space:pre;overflow-x:auto;line-height:normal;font-family:Menlo,'DejaVu Sans Mono',consolas,'Courier New',monospace\">Market Return :  5.02%   |   Portfolio Return : -2.81%   |   Position Changes : 195   |   Episode Length : 1330   |\n",
       "</pre>\n"
      ],
      "text/plain": [
       "Market Return :  5.02%   |   Portfolio Return : -2.81%   |   Position Changes : 195   |   Episode Length : 1330   |\n"
      ]
     },
     "metadata": {},
     "output_type": "display_data"
    },
    {
     "data": {
      "text/html": [
       "<pre style=\"white-space:pre;overflow-x:auto;line-height:normal;font-family:Menlo,'DejaVu Sans Mono',consolas,'Courier New',monospace\">Market Return :  1.26%   |   Portfolio Return : -2.57%   |   Position Changes : 154   |   Episode Length : 1330   |\n",
       "</pre>\n"
      ],
      "text/plain": [
       "Market Return :  1.26%   |   Portfolio Return : -2.57%   |   Position Changes : 154   |   Episode Length : 1330   |\n"
      ]
     },
     "metadata": {},
     "output_type": "display_data"
    },
    {
     "data": {
      "text/html": [
       "<pre style=\"white-space:pre;overflow-x:auto;line-height:normal;font-family:Menlo,'DejaVu Sans Mono',consolas,'Courier New',monospace\">Market Return :  4.14%   |   Portfolio Return : -9.42%   |   Position Changes : 310   |   Episode Length : 1330   |\n",
       "</pre>\n"
      ],
      "text/plain": [
       "Market Return :  4.14%   |   Portfolio Return : -9.42%   |   Position Changes : 310   |   Episode Length : 1330   |\n"
      ]
     },
     "metadata": {},
     "output_type": "display_data"
    },
    {
     "data": {
      "text/html": [
       "<pre style=\"white-space:pre;overflow-x:auto;line-height:normal;font-family:Menlo,'DejaVu Sans Mono',consolas,'Courier New',monospace\">Market Return :  0.05%   |   Portfolio Return : -4.91%   |   Position Changes : 236   |   Episode Length : 1330   |\n",
       "</pre>\n"
      ],
      "text/plain": [
       "Market Return :  0.05%   |   Portfolio Return : -4.91%   |   Position Changes : 236   |   Episode Length : 1330   |\n"
      ]
     },
     "metadata": {},
     "output_type": "display_data"
    },
    {
     "data": {
      "text/html": [
       "<pre style=\"white-space:pre;overflow-x:auto;line-height:normal;font-family:Menlo,'DejaVu Sans Mono',consolas,'Courier New',monospace\">Market Return :  2.92%   |   Portfolio Return : -14.57%   |   Position Changes : 213   |   Episode Length : 1330   \n",
       "|   \n",
       "</pre>\n"
      ],
      "text/plain": [
       "Market Return :  2.92%   |   Portfolio Return : -14.57%   |   Position Changes : 213   |   Episode Length : 1330   \n",
       "|   \n"
      ]
     },
     "metadata": {},
     "output_type": "display_data"
    },
    {
     "data": {
      "text/html": [
       "<pre style=\"white-space:pre;overflow-x:auto;line-height:normal;font-family:Menlo,'DejaVu Sans Mono',consolas,'Courier New',monospace\">Market Return : -1.24%   |   Portfolio Return : -3.04%   |   Position Changes : 174   |   Episode Length : 1330   |\n",
       "</pre>\n"
      ],
      "text/plain": [
       "Market Return : -1.24%   |   Portfolio Return : -3.04%   |   Position Changes : 174   |   Episode Length : 1330   |\n"
      ]
     },
     "metadata": {},
     "output_type": "display_data"
    },
    {
     "data": {
      "text/html": [
       "<pre style=\"white-space:pre;overflow-x:auto;line-height:normal;font-family:Menlo,'DejaVu Sans Mono',consolas,'Courier New',monospace\">Market Return : 13.26%   |   Portfolio Return : -1.09%   |   Position Changes : 115   |   Episode Length : 1330   |\n",
       "</pre>\n"
      ],
      "text/plain": [
       "Market Return : 13.26%   |   Portfolio Return : -1.09%   |   Position Changes : 115   |   Episode Length : 1330   |\n"
      ]
     },
     "metadata": {},
     "output_type": "display_data"
    },
    {
     "data": {
      "text/html": [
       "<pre style=\"white-space:pre;overflow-x:auto;line-height:normal;font-family:Menlo,'DejaVu Sans Mono',consolas,'Courier New',monospace\">Market Return : -1.25%   |   Portfolio Return : -2.59%   |   Position Changes : 211   |   Episode Length : 1330   |\n",
       "</pre>\n"
      ],
      "text/plain": [
       "Market Return : -1.25%   |   Portfolio Return : -2.59%   |   Position Changes : 211   |   Episode Length : 1330   |\n"
      ]
     },
     "metadata": {},
     "output_type": "display_data"
    },
    {
     "data": {
      "text/html": [
       "<pre style=\"white-space:pre;overflow-x:auto;line-height:normal;font-family:Menlo,'DejaVu Sans Mono',consolas,'Courier New',monospace\">Market Return :  2.36%   |   Portfolio Return : -3.61%   |   Position Changes : 208   |   Episode Length : 1330   |\n",
       "</pre>\n"
      ],
      "text/plain": [
       "Market Return :  2.36%   |   Portfolio Return : -3.61%   |   Position Changes : 208   |   Episode Length : 1330   |\n"
      ]
     },
     "metadata": {},
     "output_type": "display_data"
    },
    {
     "data": {
      "text/html": [
       "<pre style=\"white-space:pre;overflow-x:auto;line-height:normal;font-family:Menlo,'DejaVu Sans Mono',consolas,'Courier New',monospace\">Market Return : -0.49%   |   Portfolio Return : -8.42%   |   Position Changes : 247   |   Episode Length : 1330   |\n",
       "</pre>\n"
      ],
      "text/plain": [
       "Market Return : -0.49%   |   Portfolio Return : -8.42%   |   Position Changes : 247   |   Episode Length : 1330   |\n"
      ]
     },
     "metadata": {},
     "output_type": "display_data"
    },
    {
     "data": {
      "text/html": [
       "<pre style=\"white-space:pre;overflow-x:auto;line-height:normal;font-family:Menlo,'DejaVu Sans Mono',consolas,'Courier New',monospace\">Market Return : -3.05%   |   Portfolio Return : -4.68%   |   Position Changes : 210   |   Episode Length : 1330   |\n",
       "</pre>\n"
      ],
      "text/plain": [
       "Market Return : -3.05%   |   Portfolio Return : -4.68%   |   Position Changes : 210   |   Episode Length : 1330   |\n"
      ]
     },
     "metadata": {},
     "output_type": "display_data"
    },
    {
     "data": {
      "text/html": [
       "<pre style=\"white-space:pre;overflow-x:auto;line-height:normal;font-family:Menlo,'DejaVu Sans Mono',consolas,'Courier New',monospace\">Market Return :  0.66%   |   Portfolio Return : -1.13%   |   Position Changes : 200   |   Episode Length : 1330   |\n",
       "</pre>\n"
      ],
      "text/plain": [
       "Market Return :  0.66%   |   Portfolio Return : -1.13%   |   Position Changes : 200   |   Episode Length : 1330   |\n"
      ]
     },
     "metadata": {},
     "output_type": "display_data"
    },
    {
     "data": {
      "text/html": [
       "<pre style=\"white-space:pre;overflow-x:auto;line-height:normal;font-family:Menlo,'DejaVu Sans Mono',consolas,'Courier New',monospace\">Market Return :  0.01%   |   Portfolio Return : -2.21%   |   Position Changes : 144   |   Episode Length : 1330   |\n",
       "</pre>\n"
      ],
      "text/plain": [
       "Market Return :  0.01%   |   Portfolio Return : -2.21%   |   Position Changes : 144   |   Episode Length : 1330   |\n"
      ]
     },
     "metadata": {},
     "output_type": "display_data"
    },
    {
     "data": {
      "text/html": [
       "<pre style=\"white-space:pre;overflow-x:auto;line-height:normal;font-family:Menlo,'DejaVu Sans Mono',consolas,'Courier New',monospace\">Market Return : -2.45%   |   Portfolio Return : -1.62%   |   Position Changes : 185   |   Episode Length : 1330   |\n",
       "</pre>\n"
      ],
      "text/plain": [
       "Market Return : -2.45%   |   Portfolio Return : -1.62%   |   Position Changes : 185   |   Episode Length : 1330   |\n"
      ]
     },
     "metadata": {},
     "output_type": "display_data"
    },
    {
     "data": {
      "text/html": [
       "<pre style=\"white-space:pre;overflow-x:auto;line-height:normal;font-family:Menlo,'DejaVu Sans Mono',consolas,'Courier New',monospace\">Market Return :  2.84%   |   Portfolio Return : -4.70%   |   Position Changes : 188   |   Episode Length : 1330   |\n",
       "</pre>\n"
      ],
      "text/plain": [
       "Market Return :  2.84%   |   Portfolio Return : -4.70%   |   Position Changes : 188   |   Episode Length : 1330   |\n"
      ]
     },
     "metadata": {},
     "output_type": "display_data"
    },
    {
     "data": {
      "text/html": [
       "<pre style=\"white-space:pre;overflow-x:auto;line-height:normal;font-family:Menlo,'DejaVu Sans Mono',consolas,'Courier New',monospace\">Market Return :  3.21%   |   Portfolio Return : -3.72%   |   Position Changes : 237   |   Episode Length : 1330   |\n",
       "</pre>\n"
      ],
      "text/plain": [
       "Market Return :  3.21%   |   Portfolio Return : -3.72%   |   Position Changes : 237   |   Episode Length : 1330   |\n"
      ]
     },
     "metadata": {},
     "output_type": "display_data"
    },
    {
     "data": {
      "text/html": [
       "<pre style=\"white-space:pre;overflow-x:auto;line-height:normal;font-family:Menlo,'DejaVu Sans Mono',consolas,'Courier New',monospace\">Market Return : -0.47%   |   Portfolio Return : -11.80%   |   Position Changes : 158   |   Episode Length : 1330   \n",
       "|   \n",
       "</pre>\n"
      ],
      "text/plain": [
       "Market Return : -0.47%   |   Portfolio Return : -11.80%   |   Position Changes : 158   |   Episode Length : 1330   \n",
       "|   \n"
      ]
     },
     "metadata": {},
     "output_type": "display_data"
    },
    {
     "data": {
      "text/html": [
       "<pre style=\"white-space:pre;overflow-x:auto;line-height:normal;font-family:Menlo,'DejaVu Sans Mono',consolas,'Courier New',monospace\">Market Return : -4.64%   |   Portfolio Return : -1.89%   |   Position Changes : 167   |   Episode Length : 1330   |\n",
       "</pre>\n"
      ],
      "text/plain": [
       "Market Return : -4.64%   |   Portfolio Return : -1.89%   |   Position Changes : 167   |   Episode Length : 1330   |\n"
      ]
     },
     "metadata": {},
     "output_type": "display_data"
    },
    {
     "data": {
      "text/html": [
       "<pre style=\"white-space:pre;overflow-x:auto;line-height:normal;font-family:Menlo,'DejaVu Sans Mono',consolas,'Courier New',monospace\">Market Return :  8.36%   |   Portfolio Return :  0.20%   |   Position Changes : 235   |   Episode Length : 1330   |\n",
       "</pre>\n"
      ],
      "text/plain": [
       "Market Return :  8.36%   |   Portfolio Return :  0.20%   |   Position Changes : 235   |   Episode Length : 1330   |\n"
      ]
     },
     "metadata": {},
     "output_type": "display_data"
    },
    {
     "data": {
      "text/html": [
       "<pre style=\"white-space:pre;overflow-x:auto;line-height:normal;font-family:Menlo,'DejaVu Sans Mono',consolas,'Courier New',monospace\">Market Return : -4.13%   |   Portfolio Return : -4.55%   |   Position Changes : 192   |   Episode Length : 1330   |\n",
       "</pre>\n"
      ],
      "text/plain": [
       "Market Return : -4.13%   |   Portfolio Return : -4.55%   |   Position Changes : 192   |   Episode Length : 1330   |\n"
      ]
     },
     "metadata": {},
     "output_type": "display_data"
    },
    {
     "data": {
      "text/html": [
       "<pre style=\"white-space:pre;overflow-x:auto;line-height:normal;font-family:Menlo,'DejaVu Sans Mono',consolas,'Courier New',monospace\">Market Return :  0.15%   |   Portfolio Return : -4.43%   |   Position Changes : 188   |   Episode Length : 1330   |\n",
       "</pre>\n"
      ],
      "text/plain": [
       "Market Return :  0.15%   |   Portfolio Return : -4.43%   |   Position Changes : 188   |   Episode Length : 1330   |\n"
      ]
     },
     "metadata": {},
     "output_type": "display_data"
    },
    {
     "data": {
      "text/html": [
       "<pre style=\"white-space:pre;overflow-x:auto;line-height:normal;font-family:Menlo,'DejaVu Sans Mono',consolas,'Courier New',monospace\">Market Return :  3.88%   |   Portfolio Return : -3.80%   |   Position Changes : 188   |   Episode Length : 1330   |\n",
       "</pre>\n"
      ],
      "text/plain": [
       "Market Return :  3.88%   |   Portfolio Return : -3.80%   |   Position Changes : 188   |   Episode Length : 1330   |\n"
      ]
     },
     "metadata": {},
     "output_type": "display_data"
    },
    {
     "data": {
      "text/html": [
       "<pre style=\"white-space:pre;overflow-x:auto;line-height:normal;font-family:Menlo,'DejaVu Sans Mono',consolas,'Courier New',monospace\">Market Return :  0.75%   |   Portfolio Return : -2.25%   |   Position Changes : 213   |   Episode Length : 1330   |\n",
       "</pre>\n"
      ],
      "text/plain": [
       "Market Return :  0.75%   |   Portfolio Return : -2.25%   |   Position Changes : 213   |   Episode Length : 1330   |\n"
      ]
     },
     "metadata": {},
     "output_type": "display_data"
    },
    {
     "data": {
      "text/html": [
       "<pre style=\"white-space:pre;overflow-x:auto;line-height:normal;font-family:Menlo,'DejaVu Sans Mono',consolas,'Courier New',monospace\">Market Return : -0.31%   |   Portfolio Return : -3.13%   |   Position Changes : 192   |   Episode Length : 1330   |\n",
       "</pre>\n"
      ],
      "text/plain": [
       "Market Return : -0.31%   |   Portfolio Return : -3.13%   |   Position Changes : 192   |   Episode Length : 1330   |\n"
      ]
     },
     "metadata": {},
     "output_type": "display_data"
    },
    {
     "data": {
      "text/html": [
       "<pre style=\"white-space:pre;overflow-x:auto;line-height:normal;font-family:Menlo,'DejaVu Sans Mono',consolas,'Courier New',monospace\">Market Return : -4.46%   |   Portfolio Return : -3.55%   |   Position Changes : 269   |   Episode Length : 1330   |\n",
       "</pre>\n"
      ],
      "text/plain": [
       "Market Return : -4.46%   |   Portfolio Return : -3.55%   |   Position Changes : 269   |   Episode Length : 1330   |\n"
      ]
     },
     "metadata": {},
     "output_type": "display_data"
    },
    {
     "data": {
      "text/html": [
       "<pre style=\"white-space:pre;overflow-x:auto;line-height:normal;font-family:Menlo,'DejaVu Sans Mono',consolas,'Courier New',monospace\">Market Return :  1.91%   |   Portfolio Return : -5.55%   |   Position Changes : 315   |   Episode Length : 1330   |\n",
       "</pre>\n"
      ],
      "text/plain": [
       "Market Return :  1.91%   |   Portfolio Return : -5.55%   |   Position Changes : 315   |   Episode Length : 1330   |\n"
      ]
     },
     "metadata": {},
     "output_type": "display_data"
    },
    {
     "data": {
      "text/html": [
       "<pre style=\"white-space:pre;overflow-x:auto;line-height:normal;font-family:Menlo,'DejaVu Sans Mono',consolas,'Courier New',monospace\">Market Return : -1.40%   |   Portfolio Return : -1.51%   |   Position Changes : 222   |   Episode Length : 1330   |\n",
       "</pre>\n"
      ],
      "text/plain": [
       "Market Return : -1.40%   |   Portfolio Return : -1.51%   |   Position Changes : 222   |   Episode Length : 1330   |\n"
      ]
     },
     "metadata": {},
     "output_type": "display_data"
    },
    {
     "data": {
      "text/html": [
       "<pre style=\"white-space:pre;overflow-x:auto;line-height:normal;font-family:Menlo,'DejaVu Sans Mono',consolas,'Courier New',monospace\">Market Return :  0.04%   |   Portfolio Return : -0.25%   |   Position Changes : 139   |   Episode Length : 1330   |\n",
       "</pre>\n"
      ],
      "text/plain": [
       "Market Return :  0.04%   |   Portfolio Return : -0.25%   |   Position Changes : 139   |   Episode Length : 1330   |\n"
      ]
     },
     "metadata": {},
     "output_type": "display_data"
    },
    {
     "data": {
      "text/html": [
       "<pre style=\"white-space:pre;overflow-x:auto;line-height:normal;font-family:Menlo,'DejaVu Sans Mono',consolas,'Courier New',monospace\">Market Return : -5.75%   |   Portfolio Return : -2.39%   |   Position Changes : 181   |   Episode Length : 1330   |\n",
       "</pre>\n"
      ],
      "text/plain": [
       "Market Return : -5.75%   |   Portfolio Return : -2.39%   |   Position Changes : 181   |   Episode Length : 1330   |\n"
      ]
     },
     "metadata": {},
     "output_type": "display_data"
    },
    {
     "data": {
      "text/html": [
       "<pre style=\"white-space:pre;overflow-x:auto;line-height:normal;font-family:Menlo,'DejaVu Sans Mono',consolas,'Courier New',monospace\">Market Return : -3.76%   |   Portfolio Return : -1.58%   |   Position Changes : 297   |   Episode Length : 1330   |\n",
       "</pre>\n"
      ],
      "text/plain": [
       "Market Return : -3.76%   |   Portfolio Return : -1.58%   |   Position Changes : 297   |   Episode Length : 1330   |\n"
      ]
     },
     "metadata": {},
     "output_type": "display_data"
    },
    {
     "data": {
      "text/html": [
       "<pre style=\"white-space:pre;overflow-x:auto;line-height:normal;font-family:Menlo,'DejaVu Sans Mono',consolas,'Courier New',monospace\">Market Return :  0.15%   |   Portfolio Return : -7.11%   |   Position Changes : 206   |   Episode Length : 1330   |\n",
       "</pre>\n"
      ],
      "text/plain": [
       "Market Return :  0.15%   |   Portfolio Return : -7.11%   |   Position Changes : 206   |   Episode Length : 1330   |\n"
      ]
     },
     "metadata": {},
     "output_type": "display_data"
    },
    {
     "data": {
      "text/html": [
       "<pre style=\"white-space:pre;overflow-x:auto;line-height:normal;font-family:Menlo,'DejaVu Sans Mono',consolas,'Courier New',monospace\">Market Return :  1.80%   |   Portfolio Return : -0.66%   |   Position Changes : 201   |   Episode Length : 1330   |\n",
       "</pre>\n"
      ],
      "text/plain": [
       "Market Return :  1.80%   |   Portfolio Return : -0.66%   |   Position Changes : 201   |   Episode Length : 1330   |\n"
      ]
     },
     "metadata": {},
     "output_type": "display_data"
    },
    {
     "data": {
      "text/html": [
       "<pre style=\"white-space:pre;overflow-x:auto;line-height:normal;font-family:Menlo,'DejaVu Sans Mono',consolas,'Courier New',monospace\">Market Return : -0.13%   |   Portfolio Return : -2.80%   |   Position Changes : 174   |   Episode Length : 1330   |\n",
       "</pre>\n"
      ],
      "text/plain": [
       "Market Return : -0.13%   |   Portfolio Return : -2.80%   |   Position Changes : 174   |   Episode Length : 1330   |\n"
      ]
     },
     "metadata": {},
     "output_type": "display_data"
    },
    {
     "data": {
      "text/html": [
       "<pre style=\"white-space:pre;overflow-x:auto;line-height:normal;font-family:Menlo,'DejaVu Sans Mono',consolas,'Courier New',monospace\">Market Return :  6.37%   |   Portfolio Return : -1.68%   |   Position Changes : 186   |   Episode Length : 1330   |\n",
       "</pre>\n"
      ],
      "text/plain": [
       "Market Return :  6.37%   |   Portfolio Return : -1.68%   |   Position Changes : 186   |   Episode Length : 1330   |\n"
      ]
     },
     "metadata": {},
     "output_type": "display_data"
    },
    {
     "data": {
      "text/html": [
       "<pre style=\"white-space:pre;overflow-x:auto;line-height:normal;font-family:Menlo,'DejaVu Sans Mono',consolas,'Courier New',monospace\">Market Return :  2.52%   |   Portfolio Return : -3.00%   |   Position Changes : 166   |   Episode Length : 1330   |\n",
       "</pre>\n"
      ],
      "text/plain": [
       "Market Return :  2.52%   |   Portfolio Return : -3.00%   |   Position Changes : 166   |   Episode Length : 1330   |\n"
      ]
     },
     "metadata": {},
     "output_type": "display_data"
    },
    {
     "data": {
      "text/html": [
       "<pre style=\"white-space:pre;overflow-x:auto;line-height:normal;font-family:Menlo,'DejaVu Sans Mono',consolas,'Courier New',monospace\">Market Return : -0.88%   |   Portfolio Return : -4.29%   |   Position Changes : 184   |   Episode Length : 1330   |\n",
       "</pre>\n"
      ],
      "text/plain": [
       "Market Return : -0.88%   |   Portfolio Return : -4.29%   |   Position Changes : 184   |   Episode Length : 1330   |\n"
      ]
     },
     "metadata": {},
     "output_type": "display_data"
    },
    {
     "data": {
      "text/html": [
       "<pre style=\"white-space:pre;overflow-x:auto;line-height:normal;font-family:Menlo,'DejaVu Sans Mono',consolas,'Courier New',monospace\">Market Return :  1.18%   |   Portfolio Return : -3.32%   |   Position Changes : 220   |   Episode Length : 1330   |\n",
       "</pre>\n"
      ],
      "text/plain": [
       "Market Return :  1.18%   |   Portfolio Return : -3.32%   |   Position Changes : 220   |   Episode Length : 1330   |\n"
      ]
     },
     "metadata": {},
     "output_type": "display_data"
    },
    {
     "data": {
      "text/html": [
       "<pre style=\"white-space:pre;overflow-x:auto;line-height:normal;font-family:Menlo,'DejaVu Sans Mono',consolas,'Courier New',monospace\">Market Return :  0.25%   |   Portfolio Return : -1.14%   |   Position Changes : 315   |   Episode Length : 1330   |\n",
       "</pre>\n"
      ],
      "text/plain": [
       "Market Return :  0.25%   |   Portfolio Return : -1.14%   |   Position Changes : 315   |   Episode Length : 1330   |\n"
      ]
     },
     "metadata": {},
     "output_type": "display_data"
    },
    {
     "data": {
      "text/html": [
       "<pre style=\"white-space:pre;overflow-x:auto;line-height:normal;font-family:Menlo,'DejaVu Sans Mono',consolas,'Courier New',monospace\">Market Return :  3.44%   |   Portfolio Return :  3.27%   |   Position Changes : 198   |   Episode Length : 1330   |\n",
       "</pre>\n"
      ],
      "text/plain": [
       "Market Return :  3.44%   |   Portfolio Return :  3.27%   |   Position Changes : 198   |   Episode Length : 1330   |\n"
      ]
     },
     "metadata": {},
     "output_type": "display_data"
    },
    {
     "data": {
      "text/html": [
       "<pre style=\"white-space:pre;overflow-x:auto;line-height:normal;font-family:Menlo,'DejaVu Sans Mono',consolas,'Courier New',monospace\">Market Return : -7.61%   |   Portfolio Return : -5.15%   |   Position Changes : 213   |   Episode Length : 1330   |\n",
       "</pre>\n"
      ],
      "text/plain": [
       "Market Return : -7.61%   |   Portfolio Return : -5.15%   |   Position Changes : 213   |   Episode Length : 1330   |\n"
      ]
     },
     "metadata": {},
     "output_type": "display_data"
    },
    {
     "data": {
      "text/html": [
       "<pre style=\"white-space:pre;overflow-x:auto;line-height:normal;font-family:Menlo,'DejaVu Sans Mono',consolas,'Courier New',monospace\">Market Return : -0.78%   |   Portfolio Return : -2.80%   |   Position Changes : 180   |   Episode Length : 1330   |\n",
       "</pre>\n"
      ],
      "text/plain": [
       "Market Return : -0.78%   |   Portfolio Return : -2.80%   |   Position Changes : 180   |   Episode Length : 1330   |\n"
      ]
     },
     "metadata": {},
     "output_type": "display_data"
    },
    {
     "data": {
      "text/html": [
       "<pre style=\"white-space:pre;overflow-x:auto;line-height:normal;font-family:Menlo,'DejaVu Sans Mono',consolas,'Courier New',monospace\">Market Return :  0.74%   |   Portfolio Return : -2.54%   |   Position Changes : 203   |   Episode Length : 1330   |\n",
       "</pre>\n"
      ],
      "text/plain": [
       "Market Return :  0.74%   |   Portfolio Return : -2.54%   |   Position Changes : 203   |   Episode Length : 1330   |\n"
      ]
     },
     "metadata": {},
     "output_type": "display_data"
    },
    {
     "data": {
      "text/html": [
       "<pre style=\"white-space:pre;overflow-x:auto;line-height:normal;font-family:Menlo,'DejaVu Sans Mono',consolas,'Courier New',monospace\">Market Return :  3.14%   |   Portfolio Return :  5.02%   |   Position Changes : 199   |   Episode Length : 1180   |\n",
       "</pre>\n"
      ],
      "text/plain": [
       "Market Return :  3.14%   |   Portfolio Return :  5.02%   |   Position Changes : 199   |   Episode Length : 1180   |\n"
      ]
     },
     "metadata": {},
     "output_type": "display_data"
    },
    {
     "data": {
      "text/html": [
       "<pre style=\"white-space:pre;overflow-x:auto;line-height:normal;font-family:Menlo,'DejaVu Sans Mono',consolas,'Courier New',monospace\">Market Return :  1.49%   |   Portfolio Return : -3.94%   |   Position Changes : 189   |   Episode Length : 1330   |\n",
       "</pre>\n"
      ],
      "text/plain": [
       "Market Return :  1.49%   |   Portfolio Return : -3.94%   |   Position Changes : 189   |   Episode Length : 1330   |\n"
      ]
     },
     "metadata": {},
     "output_type": "display_data"
    },
    {
     "data": {
      "text/html": [
       "<pre style=\"white-space:pre;overflow-x:auto;line-height:normal;font-family:Menlo,'DejaVu Sans Mono',consolas,'Courier New',monospace\">Market Return : -4.38%   |   Portfolio Return : -1.55%   |   Position Changes : 226   |   Episode Length : 1330   |\n",
       "</pre>\n"
      ],
      "text/plain": [
       "Market Return : -4.38%   |   Portfolio Return : -1.55%   |   Position Changes : 226   |   Episode Length : 1330   |\n"
      ]
     },
     "metadata": {},
     "output_type": "display_data"
    },
    {
     "data": {
      "text/html": [
       "<pre style=\"white-space:pre;overflow-x:auto;line-height:normal;font-family:Menlo,'DejaVu Sans Mono',consolas,'Courier New',monospace\">Market Return : -0.18%   |   Portfolio Return :  0.28%   |   Position Changes : 258   |   Episode Length : 1330   |\n",
       "</pre>\n"
      ],
      "text/plain": [
       "Market Return : -0.18%   |   Portfolio Return :  0.28%   |   Position Changes : 258   |   Episode Length : 1330   |\n"
      ]
     },
     "metadata": {},
     "output_type": "display_data"
    },
    {
     "data": {
      "text/html": [
       "<pre style=\"white-space:pre;overflow-x:auto;line-height:normal;font-family:Menlo,'DejaVu Sans Mono',consolas,'Courier New',monospace\">Market Return : -0.63%   |   Portfolio Return : -0.21%   |   Position Changes : 245   |   Episode Length : 1330   |\n",
       "</pre>\n"
      ],
      "text/plain": [
       "Market Return : -0.63%   |   Portfolio Return : -0.21%   |   Position Changes : 245   |   Episode Length : 1330   |\n"
      ]
     },
     "metadata": {},
     "output_type": "display_data"
    },
    {
     "data": {
      "text/html": [
       "<pre style=\"white-space:pre;overflow-x:auto;line-height:normal;font-family:Menlo,'DejaVu Sans Mono',consolas,'Courier New',monospace\">Market Return : -0.57%   |   Portfolio Return :  0.03%   |   Position Changes : 224   |   Episode Length : 1330   |\n",
       "</pre>\n"
      ],
      "text/plain": [
       "Market Return : -0.57%   |   Portfolio Return :  0.03%   |   Position Changes : 224   |   Episode Length : 1330   |\n"
      ]
     },
     "metadata": {},
     "output_type": "display_data"
    },
    {
     "data": {
      "text/html": [
       "<pre style=\"white-space:pre;overflow-x:auto;line-height:normal;font-family:Menlo,'DejaVu Sans Mono',consolas,'Courier New',monospace\">Market Return :  0.44%   |   Portfolio Return : -5.14%   |   Position Changes : 298   |   Episode Length : 1330   |\n",
       "</pre>\n"
      ],
      "text/plain": [
       "Market Return :  0.44%   |   Portfolio Return : -5.14%   |   Position Changes : 298   |   Episode Length : 1330   |\n"
      ]
     },
     "metadata": {},
     "output_type": "display_data"
    },
    {
     "data": {
      "text/html": [
       "<pre style=\"white-space:pre;overflow-x:auto;line-height:normal;font-family:Menlo,'DejaVu Sans Mono',consolas,'Courier New',monospace\">Market Return : 20.47%   |   Portfolio Return : -8.10%   |   Position Changes : 67   |   Episode Length : 1330   | \n",
       "</pre>\n"
      ],
      "text/plain": [
       "Market Return : 20.47%   |   Portfolio Return : -8.10%   |   Position Changes : 67   |   Episode Length : 1330   | \n"
      ]
     },
     "metadata": {},
     "output_type": "display_data"
    },
    {
     "data": {
      "text/html": [
       "<pre style=\"white-space:pre;overflow-x:auto;line-height:normal;font-family:Menlo,'DejaVu Sans Mono',consolas,'Courier New',monospace\">Market Return : 20.02%   |   Portfolio Return : -21.58%   |   Position Changes : 154   |   Episode Length : 1330   \n",
       "|   \n",
       "</pre>\n"
      ],
      "text/plain": [
       "Market Return : 20.02%   |   Portfolio Return : -21.58%   |   Position Changes : 154   |   Episode Length : 1330   \n",
       "|   \n"
      ]
     },
     "metadata": {},
     "output_type": "display_data"
    },
    {
     "data": {
      "text/html": [
       "<pre style=\"white-space:pre;overflow-x:auto;line-height:normal;font-family:Menlo,'DejaVu Sans Mono',consolas,'Courier New',monospace\">Market Return : -5.91%   |   Portfolio Return :  2.63%   |   Position Changes : 175   |   Episode Length : 1330   |\n",
       "</pre>\n"
      ],
      "text/plain": [
       "Market Return : -5.91%   |   Portfolio Return :  2.63%   |   Position Changes : 175   |   Episode Length : 1330   |\n"
      ]
     },
     "metadata": {},
     "output_type": "display_data"
    },
    {
     "data": {
      "text/html": [
       "<pre style=\"white-space:pre;overflow-x:auto;line-height:normal;font-family:Menlo,'DejaVu Sans Mono',consolas,'Courier New',monospace\">Market Return :  1.19%   |   Portfolio Return : -0.91%   |   Position Changes : 184   |   Episode Length : 1330   |\n",
       "</pre>\n"
      ],
      "text/plain": [
       "Market Return :  1.19%   |   Portfolio Return : -0.91%   |   Position Changes : 184   |   Episode Length : 1330   |\n"
      ]
     },
     "metadata": {},
     "output_type": "display_data"
    },
    {
     "data": {
      "text/html": [
       "<pre style=\"white-space:pre;overflow-x:auto;line-height:normal;font-family:Menlo,'DejaVu Sans Mono',consolas,'Courier New',monospace\">Market Return :  1.07%   |   Portfolio Return : -5.07%   |   Position Changes : 206   |   Episode Length : 1330   |\n",
       "</pre>\n"
      ],
      "text/plain": [
       "Market Return :  1.07%   |   Portfolio Return : -5.07%   |   Position Changes : 206   |   Episode Length : 1330   |\n"
      ]
     },
     "metadata": {},
     "output_type": "display_data"
    },
    {
     "data": {
      "text/html": [
       "<pre style=\"white-space:pre;overflow-x:auto;line-height:normal;font-family:Menlo,'DejaVu Sans Mono',consolas,'Courier New',monospace\">Market Return :  1.89%   |   Portfolio Return : -5.21%   |   Position Changes : 298   |   Episode Length : 1330   |\n",
       "</pre>\n"
      ],
      "text/plain": [
       "Market Return :  1.89%   |   Portfolio Return : -5.21%   |   Position Changes : 298   |   Episode Length : 1330   |\n"
      ]
     },
     "metadata": {},
     "output_type": "display_data"
    },
    {
     "data": {
      "text/html": [
       "<pre style=\"white-space:pre;overflow-x:auto;line-height:normal;font-family:Menlo,'DejaVu Sans Mono',consolas,'Courier New',monospace\">Market Return : -0.00%   |   Portfolio Return : -2.47%   |   Position Changes : 197   |   Episode Length : 1330   |\n",
       "</pre>\n"
      ],
      "text/plain": [
       "Market Return : -0.00%   |   Portfolio Return : -2.47%   |   Position Changes : 197   |   Episode Length : 1330   |\n"
      ]
     },
     "metadata": {},
     "output_type": "display_data"
    },
    {
     "data": {
      "text/html": [
       "<pre style=\"white-space:pre;overflow-x:auto;line-height:normal;font-family:Menlo,'DejaVu Sans Mono',consolas,'Courier New',monospace\">Market Return :  5.22%   |   Portfolio Return :  0.21%   |   Position Changes : 248   |   Episode Length : 1330   |\n",
       "</pre>\n"
      ],
      "text/plain": [
       "Market Return :  5.22%   |   Portfolio Return :  0.21%   |   Position Changes : 248   |   Episode Length : 1330   |\n"
      ]
     },
     "metadata": {},
     "output_type": "display_data"
    },
    {
     "data": {
      "text/html": [
       "<pre style=\"white-space:pre;overflow-x:auto;line-height:normal;font-family:Menlo,'DejaVu Sans Mono',consolas,'Courier New',monospace\">Market Return :  1.42%   |   Portfolio Return : -7.45%   |   Position Changes : 231   |   Episode Length : 1330   |\n",
       "</pre>\n"
      ],
      "text/plain": [
       "Market Return :  1.42%   |   Portfolio Return : -7.45%   |   Position Changes : 231   |   Episode Length : 1330   |\n"
      ]
     },
     "metadata": {},
     "output_type": "display_data"
    },
    {
     "data": {
      "text/html": [
       "<pre style=\"white-space:pre;overflow-x:auto;line-height:normal;font-family:Menlo,'DejaVu Sans Mono',consolas,'Courier New',monospace\">Market Return :  2.27%   |   Portfolio Return :  0.07%   |   Position Changes : 254   |   Episode Length : 1330   |\n",
       "</pre>\n"
      ],
      "text/plain": [
       "Market Return :  2.27%   |   Portfolio Return :  0.07%   |   Position Changes : 254   |   Episode Length : 1330   |\n"
      ]
     },
     "metadata": {},
     "output_type": "display_data"
    },
    {
     "data": {
      "text/html": [
       "<pre style=\"white-space:pre;overflow-x:auto;line-height:normal;font-family:Menlo,'DejaVu Sans Mono',consolas,'Courier New',monospace\">Market Return :  1.91%   |   Portfolio Return : -6.14%   |   Position Changes : 256   |   Episode Length : 1330   |\n",
       "</pre>\n"
      ],
      "text/plain": [
       "Market Return :  1.91%   |   Portfolio Return : -6.14%   |   Position Changes : 256   |   Episode Length : 1330   |\n"
      ]
     },
     "metadata": {},
     "output_type": "display_data"
    },
    {
     "data": {
      "text/html": [
       "<pre style=\"white-space:pre;overflow-x:auto;line-height:normal;font-family:Menlo,'DejaVu Sans Mono',consolas,'Courier New',monospace\">Market Return :  4.20%   |   Portfolio Return :  3.32%   |   Position Changes : 206   |   Episode Length : 1330   |\n",
       "</pre>\n"
      ],
      "text/plain": [
       "Market Return :  4.20%   |   Portfolio Return :  3.32%   |   Position Changes : 206   |   Episode Length : 1330   |\n"
      ]
     },
     "metadata": {},
     "output_type": "display_data"
    },
    {
     "data": {
      "text/html": [
       "<pre style=\"white-space:pre;overflow-x:auto;line-height:normal;font-family:Menlo,'DejaVu Sans Mono',consolas,'Courier New',monospace\">Market Return :  1.23%   |   Portfolio Return : -2.89%   |   Position Changes : 219   |   Episode Length : 1330   |\n",
       "</pre>\n"
      ],
      "text/plain": [
       "Market Return :  1.23%   |   Portfolio Return : -2.89%   |   Position Changes : 219   |   Episode Length : 1330   |\n"
      ]
     },
     "metadata": {},
     "output_type": "display_data"
    },
    {
     "data": {
      "text/html": [
       "<pre style=\"white-space:pre;overflow-x:auto;line-height:normal;font-family:Menlo,'DejaVu Sans Mono',consolas,'Courier New',monospace\">Market Return : -0.77%   |   Portfolio Return : -2.00%   |   Position Changes : 215   |   Episode Length : 1330   |\n",
       "</pre>\n"
      ],
      "text/plain": [
       "Market Return : -0.77%   |   Portfolio Return : -2.00%   |   Position Changes : 215   |   Episode Length : 1330   |\n"
      ]
     },
     "metadata": {},
     "output_type": "display_data"
    },
    {
     "data": {
      "text/html": [
       "<pre style=\"white-space:pre;overflow-x:auto;line-height:normal;font-family:Menlo,'DejaVu Sans Mono',consolas,'Courier New',monospace\">Market Return :  2.92%   |   Portfolio Return :  5.49%   |   Position Changes : 233   |   Episode Length : 1330   |\n",
       "</pre>\n"
      ],
      "text/plain": [
       "Market Return :  2.92%   |   Portfolio Return :  5.49%   |   Position Changes : 233   |   Episode Length : 1330   |\n"
      ]
     },
     "metadata": {},
     "output_type": "display_data"
    },
    {
     "data": {
      "text/html": [
       "<pre style=\"white-space:pre;overflow-x:auto;line-height:normal;font-family:Menlo,'DejaVu Sans Mono',consolas,'Courier New',monospace\">Market Return :  0.81%   |   Portfolio Return : -4.39%   |   Position Changes : 208   |   Episode Length : 1330   |\n",
       "</pre>\n"
      ],
      "text/plain": [
       "Market Return :  0.81%   |   Portfolio Return : -4.39%   |   Position Changes : 208   |   Episode Length : 1330   |\n"
      ]
     },
     "metadata": {},
     "output_type": "display_data"
    },
    {
     "data": {
      "text/html": [
       "<pre style=\"white-space:pre;overflow-x:auto;line-height:normal;font-family:Menlo,'DejaVu Sans Mono',consolas,'Courier New',monospace\">Market Return :  0.88%   |   Portfolio Return : -0.30%   |   Position Changes : 215   |   Episode Length : 1330   |\n",
       "</pre>\n"
      ],
      "text/plain": [
       "Market Return :  0.88%   |   Portfolio Return : -0.30%   |   Position Changes : 215   |   Episode Length : 1330   |\n"
      ]
     },
     "metadata": {},
     "output_type": "display_data"
    },
    {
     "data": {
      "text/html": [
       "<pre style=\"white-space:pre;overflow-x:auto;line-height:normal;font-family:Menlo,'DejaVu Sans Mono',consolas,'Courier New',monospace\">Market Return :  0.42%   |   Portfolio Return : -0.87%   |   Position Changes : 190   |   Episode Length : 1330   |\n",
       "</pre>\n"
      ],
      "text/plain": [
       "Market Return :  0.42%   |   Portfolio Return : -0.87%   |   Position Changes : 190   |   Episode Length : 1330   |\n"
      ]
     },
     "metadata": {},
     "output_type": "display_data"
    },
    {
     "data": {
      "text/html": [
       "<pre style=\"white-space:pre;overflow-x:auto;line-height:normal;font-family:Menlo,'DejaVu Sans Mono',consolas,'Courier New',monospace\">Market Return : -0.63%   |   Portfolio Return :  1.13%   |   Position Changes : 257   |   Episode Length : 1330   |\n",
       "</pre>\n"
      ],
      "text/plain": [
       "Market Return : -0.63%   |   Portfolio Return :  1.13%   |   Position Changes : 257   |   Episode Length : 1330   |\n"
      ]
     },
     "metadata": {},
     "output_type": "display_data"
    },
    {
     "data": {
      "text/html": [
       "<pre style=\"white-space:pre;overflow-x:auto;line-height:normal;font-family:Menlo,'DejaVu Sans Mono',consolas,'Courier New',monospace\">Market Return :  2.78%   |   Portfolio Return : -3.10%   |   Position Changes : 258   |   Episode Length : 1330   |\n",
       "</pre>\n"
      ],
      "text/plain": [
       "Market Return :  2.78%   |   Portfolio Return : -3.10%   |   Position Changes : 258   |   Episode Length : 1330   |\n"
      ]
     },
     "metadata": {},
     "output_type": "display_data"
    },
    {
     "data": {
      "text/html": [
       "<pre style=\"white-space:pre;overflow-x:auto;line-height:normal;font-family:Menlo,'DejaVu Sans Mono',consolas,'Courier New',monospace\">Market Return :  9.77%   |   Portfolio Return : -8.39%   |   Position Changes : 243   |   Episode Length : 1330   |\n",
       "</pre>\n"
      ],
      "text/plain": [
       "Market Return :  9.77%   |   Portfolio Return : -8.39%   |   Position Changes : 243   |   Episode Length : 1330   |\n"
      ]
     },
     "metadata": {},
     "output_type": "display_data"
    },
    {
     "data": {
      "text/html": [
       "<pre style=\"white-space:pre;overflow-x:auto;line-height:normal;font-family:Menlo,'DejaVu Sans Mono',consolas,'Courier New',monospace\">Market Return :  1.30%   |   Portfolio Return : -5.29%   |   Position Changes : 241   |   Episode Length : 1330   |\n",
       "</pre>\n"
      ],
      "text/plain": [
       "Market Return :  1.30%   |   Portfolio Return : -5.29%   |   Position Changes : 241   |   Episode Length : 1330   |\n"
      ]
     },
     "metadata": {},
     "output_type": "display_data"
    },
    {
     "data": {
      "text/html": [
       "<pre style=\"white-space:pre;overflow-x:auto;line-height:normal;font-family:Menlo,'DejaVu Sans Mono',consolas,'Courier New',monospace\">Market Return :  4.42%   |   Portfolio Return : -1.26%   |   Position Changes : 218   |   Episode Length : 1330   |\n",
       "</pre>\n"
      ],
      "text/plain": [
       "Market Return :  4.42%   |   Portfolio Return : -1.26%   |   Position Changes : 218   |   Episode Length : 1330   |\n"
      ]
     },
     "metadata": {},
     "output_type": "display_data"
    },
    {
     "data": {
      "text/html": [
       "<pre style=\"white-space:pre;overflow-x:auto;line-height:normal;font-family:Menlo,'DejaVu Sans Mono',consolas,'Courier New',monospace\">Market Return :  3.36%   |   Portfolio Return : -0.68%   |   Position Changes : 195   |   Episode Length : 1330   |\n",
       "</pre>\n"
      ],
      "text/plain": [
       "Market Return :  3.36%   |   Portfolio Return : -0.68%   |   Position Changes : 195   |   Episode Length : 1330   |\n"
      ]
     },
     "metadata": {},
     "output_type": "display_data"
    },
    {
     "data": {
      "text/html": [
       "<pre style=\"white-space:pre;overflow-x:auto;line-height:normal;font-family:Menlo,'DejaVu Sans Mono',consolas,'Courier New',monospace\">Market Return :  5.18%   |   Portfolio Return : -5.88%   |   Position Changes : 326   |   Episode Length : 1330   |\n",
       "</pre>\n"
      ],
      "text/plain": [
       "Market Return :  5.18%   |   Portfolio Return : -5.88%   |   Position Changes : 326   |   Episode Length : 1330   |\n"
      ]
     },
     "metadata": {},
     "output_type": "display_data"
    },
    {
     "data": {
      "text/html": [
       "<pre style=\"white-space:pre;overflow-x:auto;line-height:normal;font-family:Menlo,'DejaVu Sans Mono',consolas,'Courier New',monospace\">Market Return : -3.23%   |   Portfolio Return : -0.29%   |   Position Changes : 250   |   Episode Length : 1330   |\n",
       "</pre>\n"
      ],
      "text/plain": [
       "Market Return : -3.23%   |   Portfolio Return : -0.29%   |   Position Changes : 250   |   Episode Length : 1330   |\n"
      ]
     },
     "metadata": {},
     "output_type": "display_data"
    },
    {
     "data": {
      "text/html": [
       "<pre style=\"white-space:pre;overflow-x:auto;line-height:normal;font-family:Menlo,'DejaVu Sans Mono',consolas,'Courier New',monospace\">Market Return : -1.06%   |   Portfolio Return : -7.87%   |   Position Changes : 266   |   Episode Length : 1330   |\n",
       "</pre>\n"
      ],
      "text/plain": [
       "Market Return : -1.06%   |   Portfolio Return : -7.87%   |   Position Changes : 266   |   Episode Length : 1330   |\n"
      ]
     },
     "metadata": {},
     "output_type": "display_data"
    },
    {
     "data": {
      "text/html": [
       "<pre style=\"white-space:pre;overflow-x:auto;line-height:normal;font-family:Menlo,'DejaVu Sans Mono',consolas,'Courier New',monospace\">Market Return : -4.03%   |   Portfolio Return : -8.74%   |   Position Changes : 239   |   Episode Length : 1330   |\n",
       "</pre>\n"
      ],
      "text/plain": [
       "Market Return : -4.03%   |   Portfolio Return : -8.74%   |   Position Changes : 239   |   Episode Length : 1330   |\n"
      ]
     },
     "metadata": {},
     "output_type": "display_data"
    },
    {
     "data": {
      "text/html": [
       "<pre style=\"white-space:pre;overflow-x:auto;line-height:normal;font-family:Menlo,'DejaVu Sans Mono',consolas,'Courier New',monospace\">Market Return :  0.59%   |   Portfolio Return :  0.48%   |   Position Changes : 164   |   Episode Length : 1330   |\n",
       "</pre>\n"
      ],
      "text/plain": [
       "Market Return :  0.59%   |   Portfolio Return :  0.48%   |   Position Changes : 164   |   Episode Length : 1330   |\n"
      ]
     },
     "metadata": {},
     "output_type": "display_data"
    },
    {
     "data": {
      "text/html": [
       "<pre style=\"white-space:pre;overflow-x:auto;line-height:normal;font-family:Menlo,'DejaVu Sans Mono',consolas,'Courier New',monospace\">Market Return : 10.61%   |   Portfolio Return : -3.49%   |   Position Changes : 220   |   Episode Length : 1330   |\n",
       "</pre>\n"
      ],
      "text/plain": [
       "Market Return : 10.61%   |   Portfolio Return : -3.49%   |   Position Changes : 220   |   Episode Length : 1330   |\n"
      ]
     },
     "metadata": {},
     "output_type": "display_data"
    },
    {
     "data": {
      "text/html": [
       "<pre style=\"white-space:pre;overflow-x:auto;line-height:normal;font-family:Menlo,'DejaVu Sans Mono',consolas,'Courier New',monospace\">Market Return :  0.06%   |   Portfolio Return : -1.16%   |   Position Changes : 202   |   Episode Length : 1330   |\n",
       "</pre>\n"
      ],
      "text/plain": [
       "Market Return :  0.06%   |   Portfolio Return : -1.16%   |   Position Changes : 202   |   Episode Length : 1330   |\n"
      ]
     },
     "metadata": {},
     "output_type": "display_data"
    },
    {
     "data": {
      "text/html": [
       "<pre style=\"white-space:pre;overflow-x:auto;line-height:normal;font-family:Menlo,'DejaVu Sans Mono',consolas,'Courier New',monospace\">Market Return : 12.66%   |   Portfolio Return : -4.86%   |   Position Changes : 192   |   Episode Length : 1330   |\n",
       "</pre>\n"
      ],
      "text/plain": [
       "Market Return : 12.66%   |   Portfolio Return : -4.86%   |   Position Changes : 192   |   Episode Length : 1330   |\n"
      ]
     },
     "metadata": {},
     "output_type": "display_data"
    },
    {
     "data": {
      "text/html": [
       "<pre style=\"white-space:pre;overflow-x:auto;line-height:normal;font-family:Menlo,'DejaVu Sans Mono',consolas,'Courier New',monospace\">Market Return : -0.53%   |   Portfolio Return : -3.55%   |   Position Changes : 204   |   Episode Length : 1330   |\n",
       "</pre>\n"
      ],
      "text/plain": [
       "Market Return : -0.53%   |   Portfolio Return : -3.55%   |   Position Changes : 204   |   Episode Length : 1330   |\n"
      ]
     },
     "metadata": {},
     "output_type": "display_data"
    },
    {
     "data": {
      "text/html": [
       "<pre style=\"white-space:pre;overflow-x:auto;line-height:normal;font-family:Menlo,'DejaVu Sans Mono',consolas,'Courier New',monospace\">Market Return :  3.61%   |   Portfolio Return : -0.20%   |   Position Changes : 233   |   Episode Length : 1330   |\n",
       "</pre>\n"
      ],
      "text/plain": [
       "Market Return :  3.61%   |   Portfolio Return : -0.20%   |   Position Changes : 233   |   Episode Length : 1330   |\n"
      ]
     },
     "metadata": {},
     "output_type": "display_data"
    },
    {
     "data": {
      "text/html": [
       "<pre style=\"white-space:pre;overflow-x:auto;line-height:normal;font-family:Menlo,'DejaVu Sans Mono',consolas,'Courier New',monospace\">Market Return :  4.65%   |   Portfolio Return : -2.76%   |   Position Changes : 200   |   Episode Length : 1330   |\n",
       "</pre>\n"
      ],
      "text/plain": [
       "Market Return :  4.65%   |   Portfolio Return : -2.76%   |   Position Changes : 200   |   Episode Length : 1330   |\n"
      ]
     },
     "metadata": {},
     "output_type": "display_data"
    },
    {
     "data": {
      "text/html": [
       "<pre style=\"white-space:pre;overflow-x:auto;line-height:normal;font-family:Menlo,'DejaVu Sans Mono',consolas,'Courier New',monospace\">Market Return :  0.84%   |   Portfolio Return :  0.80%   |   Position Changes : 212   |   Episode Length : 1330   |\n",
       "</pre>\n"
      ],
      "text/plain": [
       "Market Return :  0.84%   |   Portfolio Return :  0.80%   |   Position Changes : 212   |   Episode Length : 1330   |\n"
      ]
     },
     "metadata": {},
     "output_type": "display_data"
    },
    {
     "data": {
      "text/html": [
       "<pre style=\"white-space:pre;overflow-x:auto;line-height:normal;font-family:Menlo,'DejaVu Sans Mono',consolas,'Courier New',monospace\">Market Return : -1.25%   |   Portfolio Return : -3.87%   |   Position Changes : 221   |   Episode Length : 1270   |\n",
       "</pre>\n"
      ],
      "text/plain": [
       "Market Return : -1.25%   |   Portfolio Return : -3.87%   |   Position Changes : 221   |   Episode Length : 1270   |\n"
      ]
     },
     "metadata": {},
     "output_type": "display_data"
    },
    {
     "data": {
      "text/html": [
       "<pre style=\"white-space:pre;overflow-x:auto;line-height:normal;font-family:Menlo,'DejaVu Sans Mono',consolas,'Courier New',monospace\">Market Return : -0.14%   |   Portfolio Return : -3.79%   |   Position Changes : 226   |   Episode Length : 1330   |\n",
       "</pre>\n"
      ],
      "text/plain": [
       "Market Return : -0.14%   |   Portfolio Return : -3.79%   |   Position Changes : 226   |   Episode Length : 1330   |\n"
      ]
     },
     "metadata": {},
     "output_type": "display_data"
    },
    {
     "data": {
      "text/html": [
       "<pre style=\"white-space:pre;overflow-x:auto;line-height:normal;font-family:Menlo,'DejaVu Sans Mono',consolas,'Courier New',monospace\">Market Return : -0.15%   |   Portfolio Return : -1.37%   |   Position Changes : 221   |   Episode Length : 1330   |\n",
       "</pre>\n"
      ],
      "text/plain": [
       "Market Return : -0.15%   |   Portfolio Return : -1.37%   |   Position Changes : 221   |   Episode Length : 1330   |\n"
      ]
     },
     "metadata": {},
     "output_type": "display_data"
    },
    {
     "data": {
      "text/html": [
       "<pre style=\"white-space:pre;overflow-x:auto;line-height:normal;font-family:Menlo,'DejaVu Sans Mono',consolas,'Courier New',monospace\">Market Return :  1.28%   |   Portfolio Return : -6.83%   |   Position Changes : 269   |   Episode Length : 1330   |\n",
       "</pre>\n"
      ],
      "text/plain": [
       "Market Return :  1.28%   |   Portfolio Return : -6.83%   |   Position Changes : 269   |   Episode Length : 1330   |\n"
      ]
     },
     "metadata": {},
     "output_type": "display_data"
    },
    {
     "data": {
      "text/html": [
       "<pre style=\"white-space:pre;overflow-x:auto;line-height:normal;font-family:Menlo,'DejaVu Sans Mono',consolas,'Courier New',monospace\">Market Return :  0.63%   |   Portfolio Return : -5.67%   |   Position Changes : 225   |   Episode Length : 1330   |\n",
       "</pre>\n"
      ],
      "text/plain": [
       "Market Return :  0.63%   |   Portfolio Return : -5.67%   |   Position Changes : 225   |   Episode Length : 1330   |\n"
      ]
     },
     "metadata": {},
     "output_type": "display_data"
    },
    {
     "data": {
      "text/html": [
       "<pre style=\"white-space:pre;overflow-x:auto;line-height:normal;font-family:Menlo,'DejaVu Sans Mono',consolas,'Courier New',monospace\">Market Return : -0.65%   |   Portfolio Return : -4.48%   |   Position Changes : 248   |   Episode Length : 1330   |\n",
       "</pre>\n"
      ],
      "text/plain": [
       "Market Return : -0.65%   |   Portfolio Return : -4.48%   |   Position Changes : 248   |   Episode Length : 1330   |\n"
      ]
     },
     "metadata": {},
     "output_type": "display_data"
    },
    {
     "data": {
      "text/html": [
       "<pre style=\"white-space:pre;overflow-x:auto;line-height:normal;font-family:Menlo,'DejaVu Sans Mono',consolas,'Courier New',monospace\">Market Return : -5.01%   |   Portfolio Return : -5.31%   |   Position Changes : 209   |   Episode Length : 1330   |\n",
       "</pre>\n"
      ],
      "text/plain": [
       "Market Return : -5.01%   |   Portfolio Return : -5.31%   |   Position Changes : 209   |   Episode Length : 1330   |\n"
      ]
     },
     "metadata": {},
     "output_type": "display_data"
    },
    {
     "data": {
      "text/html": [
       "<pre style=\"white-space:pre;overflow-x:auto;line-height:normal;font-family:Menlo,'DejaVu Sans Mono',consolas,'Courier New',monospace\">Market Return : -3.19%   |   Portfolio Return : -3.19%   |   Position Changes : 179   |   Episode Length : 1330   |\n",
       "</pre>\n"
      ],
      "text/plain": [
       "Market Return : -3.19%   |   Portfolio Return : -3.19%   |   Position Changes : 179   |   Episode Length : 1330   |\n"
      ]
     },
     "metadata": {},
     "output_type": "display_data"
    },
    {
     "data": {
      "text/html": [
       "<pre style=\"white-space:pre;overflow-x:auto;line-height:normal;font-family:Menlo,'DejaVu Sans Mono',consolas,'Courier New',monospace\">Market Return : 15.15%   |   Portfolio Return : -6.62%   |   Position Changes : 279   |   Episode Length : 1330   |\n",
       "</pre>\n"
      ],
      "text/plain": [
       "Market Return : 15.15%   |   Portfolio Return : -6.62%   |   Position Changes : 279   |   Episode Length : 1330   |\n"
      ]
     },
     "metadata": {},
     "output_type": "display_data"
    },
    {
     "data": {
      "text/html": [
       "<pre style=\"white-space:pre;overflow-x:auto;line-height:normal;font-family:Menlo,'DejaVu Sans Mono',consolas,'Courier New',monospace\">Market Return :  0.71%   |   Portfolio Return : -1.48%   |   Position Changes : 206   |   Episode Length : 1330   |\n",
       "</pre>\n"
      ],
      "text/plain": [
       "Market Return :  0.71%   |   Portfolio Return : -1.48%   |   Position Changes : 206   |   Episode Length : 1330   |\n"
      ]
     },
     "metadata": {},
     "output_type": "display_data"
    },
    {
     "data": {
      "text/html": [
       "<pre style=\"white-space:pre;overflow-x:auto;line-height:normal;font-family:Menlo,'DejaVu Sans Mono',consolas,'Courier New',monospace\">Market Return :  4.51%   |   Portfolio Return :  3.15%   |   Position Changes : 263   |   Episode Length : 1330   |\n",
       "</pre>\n"
      ],
      "text/plain": [
       "Market Return :  4.51%   |   Portfolio Return :  3.15%   |   Position Changes : 263   |   Episode Length : 1330   |\n"
      ]
     },
     "metadata": {},
     "output_type": "display_data"
    },
    {
     "data": {
      "text/html": [
       "<pre style=\"white-space:pre;overflow-x:auto;line-height:normal;font-family:Menlo,'DejaVu Sans Mono',consolas,'Courier New',monospace\">Market Return :  0.14%   |   Portfolio Return : -1.13%   |   Position Changes : 220   |   Episode Length : 1269   |\n",
       "</pre>\n"
      ],
      "text/plain": [
       "Market Return :  0.14%   |   Portfolio Return : -1.13%   |   Position Changes : 220   |   Episode Length : 1269   |\n"
      ]
     },
     "metadata": {},
     "output_type": "display_data"
    },
    {
     "data": {
      "text/html": [
       "<pre style=\"white-space:pre;overflow-x:auto;line-height:normal;font-family:Menlo,'DejaVu Sans Mono',consolas,'Courier New',monospace\">Market Return :  0.35%   |   Portfolio Return : -4.93%   |   Position Changes : 261   |   Episode Length : 1330   |\n",
       "</pre>\n"
      ],
      "text/plain": [
       "Market Return :  0.35%   |   Portfolio Return : -4.93%   |   Position Changes : 261   |   Episode Length : 1330   |\n"
      ]
     },
     "metadata": {},
     "output_type": "display_data"
    },
    {
     "data": {
      "text/html": [
       "<pre style=\"white-space:pre;overflow-x:auto;line-height:normal;font-family:Menlo,'DejaVu Sans Mono',consolas,'Courier New',monospace\">Market Return : -1.23%   |   Portfolio Return : -3.29%   |   Position Changes : 245   |   Episode Length : 1330   |\n",
       "</pre>\n"
      ],
      "text/plain": [
       "Market Return : -1.23%   |   Portfolio Return : -3.29%   |   Position Changes : 245   |   Episode Length : 1330   |\n"
      ]
     },
     "metadata": {},
     "output_type": "display_data"
    },
    {
     "data": {
      "text/html": [
       "<pre style=\"white-space:pre;overflow-x:auto;line-height:normal;font-family:Menlo,'DejaVu Sans Mono',consolas,'Courier New',monospace\">Market Return : -1.19%   |   Portfolio Return : -1.61%   |   Position Changes : 232   |   Episode Length : 1330   |\n",
       "</pre>\n"
      ],
      "text/plain": [
       "Market Return : -1.19%   |   Portfolio Return : -1.61%   |   Position Changes : 232   |   Episode Length : 1330   |\n"
      ]
     },
     "metadata": {},
     "output_type": "display_data"
    },
    {
     "data": {
      "text/html": [
       "<pre style=\"white-space:pre;overflow-x:auto;line-height:normal;font-family:Menlo,'DejaVu Sans Mono',consolas,'Courier New',monospace\">Market Return : -2.56%   |   Portfolio Return : -3.33%   |   Position Changes : 227   |   Episode Length : 1330   |\n",
       "</pre>\n"
      ],
      "text/plain": [
       "Market Return : -2.56%   |   Portfolio Return : -3.33%   |   Position Changes : 227   |   Episode Length : 1330   |\n"
      ]
     },
     "metadata": {},
     "output_type": "display_data"
    },
    {
     "data": {
      "text/html": [
       "<pre style=\"white-space:pre;overflow-x:auto;line-height:normal;font-family:Menlo,'DejaVu Sans Mono',consolas,'Courier New',monospace\">Market Return :  0.29%   |   Portfolio Return : -5.96%   |   Position Changes : 229   |   Episode Length : 1330   |\n",
       "</pre>\n"
      ],
      "text/plain": [
       "Market Return :  0.29%   |   Portfolio Return : -5.96%   |   Position Changes : 229   |   Episode Length : 1330   |\n"
      ]
     },
     "metadata": {},
     "output_type": "display_data"
    },
    {
     "data": {
      "text/html": [
       "<pre style=\"white-space:pre;overflow-x:auto;line-height:normal;font-family:Menlo,'DejaVu Sans Mono',consolas,'Courier New',monospace\">Market Return :  5.21%   |   Portfolio Return : -1.34%   |   Position Changes : 285   |   Episode Length : 1330   |\n",
       "</pre>\n"
      ],
      "text/plain": [
       "Market Return :  5.21%   |   Portfolio Return : -1.34%   |   Position Changes : 285   |   Episode Length : 1330   |\n"
      ]
     },
     "metadata": {},
     "output_type": "display_data"
    },
    {
     "data": {
      "text/html": [
       "<pre style=\"white-space:pre;overflow-x:auto;line-height:normal;font-family:Menlo,'DejaVu Sans Mono',consolas,'Courier New',monospace\">Market Return : -2.19%   |   Portfolio Return : -4.44%   |   Position Changes : 229   |   Episode Length : 1330   |\n",
       "</pre>\n"
      ],
      "text/plain": [
       "Market Return : -2.19%   |   Portfolio Return : -4.44%   |   Position Changes : 229   |   Episode Length : 1330   |\n"
      ]
     },
     "metadata": {},
     "output_type": "display_data"
    },
    {
     "data": {
      "text/html": [
       "<pre style=\"white-space:pre;overflow-x:auto;line-height:normal;font-family:Menlo,'DejaVu Sans Mono',consolas,'Courier New',monospace\">Market Return : -1.48%   |   Portfolio Return : -3.26%   |   Position Changes : 216   |   Episode Length : 1330   |\n",
       "</pre>\n"
      ],
      "text/plain": [
       "Market Return : -1.48%   |   Portfolio Return : -3.26%   |   Position Changes : 216   |   Episode Length : 1330   |\n"
      ]
     },
     "metadata": {},
     "output_type": "display_data"
    },
    {
     "data": {
      "text/html": [
       "<pre style=\"white-space:pre;overflow-x:auto;line-height:normal;font-family:Menlo,'DejaVu Sans Mono',consolas,'Courier New',monospace\">Market Return : -0.85%   |   Portfolio Return : -3.58%   |   Position Changes : 236   |   Episode Length : 1330   |\n",
       "</pre>\n"
      ],
      "text/plain": [
       "Market Return : -0.85%   |   Portfolio Return : -3.58%   |   Position Changes : 236   |   Episode Length : 1330   |\n"
      ]
     },
     "metadata": {},
     "output_type": "display_data"
    },
    {
     "data": {
      "text/html": [
       "<pre style=\"white-space:pre;overflow-x:auto;line-height:normal;font-family:Menlo,'DejaVu Sans Mono',consolas,'Courier New',monospace\">Market Return :  1.16%   |   Portfolio Return : -6.08%   |   Position Changes : 265   |   Episode Length : 1330   |\n",
       "</pre>\n"
      ],
      "text/plain": [
       "Market Return :  1.16%   |   Portfolio Return : -6.08%   |   Position Changes : 265   |   Episode Length : 1330   |\n"
      ]
     },
     "metadata": {},
     "output_type": "display_data"
    },
    {
     "data": {
      "text/html": [
       "<pre style=\"white-space:pre;overflow-x:auto;line-height:normal;font-family:Menlo,'DejaVu Sans Mono',consolas,'Courier New',monospace\">Market Return : -2.40%   |   Portfolio Return : -2.08%   |   Position Changes : 228   |   Episode Length : 1330   |\n",
       "</pre>\n"
      ],
      "text/plain": [
       "Market Return : -2.40%   |   Portfolio Return : -2.08%   |   Position Changes : 228   |   Episode Length : 1330   |\n"
      ]
     },
     "metadata": {},
     "output_type": "display_data"
    },
    {
     "data": {
      "text/html": [
       "<pre style=\"white-space:pre;overflow-x:auto;line-height:normal;font-family:Menlo,'DejaVu Sans Mono',consolas,'Courier New',monospace\">Market Return : -1.01%   |   Portfolio Return : -1.07%   |   Position Changes : 228   |   Episode Length : 1330   |\n",
       "</pre>\n"
      ],
      "text/plain": [
       "Market Return : -1.01%   |   Portfolio Return : -1.07%   |   Position Changes : 228   |   Episode Length : 1330   |\n"
      ]
     },
     "metadata": {},
     "output_type": "display_data"
    },
    {
     "data": {
      "text/html": [
       "<pre style=\"white-space:pre;overflow-x:auto;line-height:normal;font-family:Menlo,'DejaVu Sans Mono',consolas,'Courier New',monospace\">Market Return : -0.60%   |   Portfolio Return : -7.56%   |   Position Changes : 232   |   Episode Length : 1330   |\n",
       "</pre>\n"
      ],
      "text/plain": [
       "Market Return : -0.60%   |   Portfolio Return : -7.56%   |   Position Changes : 232   |   Episode Length : 1330   |\n"
      ]
     },
     "metadata": {},
     "output_type": "display_data"
    },
    {
     "data": {
      "text/html": [
       "<pre style=\"white-space:pre;overflow-x:auto;line-height:normal;font-family:Menlo,'DejaVu Sans Mono',consolas,'Courier New',monospace\">Market Return : -3.23%   |   Portfolio Return : -5.23%   |   Position Changes : 200   |   Episode Length : 1330   |\n",
       "</pre>\n"
      ],
      "text/plain": [
       "Market Return : -3.23%   |   Portfolio Return : -5.23%   |   Position Changes : 200   |   Episode Length : 1330   |\n"
      ]
     },
     "metadata": {},
     "output_type": "display_data"
    },
    {
     "data": {
      "text/html": [
       "<pre style=\"white-space:pre;overflow-x:auto;line-height:normal;font-family:Menlo,'DejaVu Sans Mono',consolas,'Courier New',monospace\">Market Return : -0.03%   |   Portfolio Return :  3.32%   |   Position Changes : 211   |   Episode Length : 1330   |\n",
       "</pre>\n"
      ],
      "text/plain": [
       "Market Return : -0.03%   |   Portfolio Return :  3.32%   |   Position Changes : 211   |   Episode Length : 1330   |\n"
      ]
     },
     "metadata": {},
     "output_type": "display_data"
    },
    {
     "data": {
      "text/html": [
       "<pre style=\"white-space:pre;overflow-x:auto;line-height:normal;font-family:Menlo,'DejaVu Sans Mono',consolas,'Courier New',monospace\">Market Return : -0.60%   |   Portfolio Return : -2.69%   |   Position Changes : 265   |   Episode Length : 1330   |\n",
       "</pre>\n"
      ],
      "text/plain": [
       "Market Return : -0.60%   |   Portfolio Return : -2.69%   |   Position Changes : 265   |   Episode Length : 1330   |\n"
      ]
     },
     "metadata": {},
     "output_type": "display_data"
    },
    {
     "data": {
      "text/html": [
       "<pre style=\"white-space:pre;overflow-x:auto;line-height:normal;font-family:Menlo,'DejaVu Sans Mono',consolas,'Courier New',monospace\">Market Return :  0.07%   |   Portfolio Return : -5.03%   |   Position Changes : 188   |   Episode Length : 1330   |\n",
       "</pre>\n"
      ],
      "text/plain": [
       "Market Return :  0.07%   |   Portfolio Return : -5.03%   |   Position Changes : 188   |   Episode Length : 1330   |\n"
      ]
     },
     "metadata": {},
     "output_type": "display_data"
    },
    {
     "data": {
      "text/html": [
       "<pre style=\"white-space:pre;overflow-x:auto;line-height:normal;font-family:Menlo,'DejaVu Sans Mono',consolas,'Courier New',monospace\">Market Return : -0.42%   |   Portfolio Return : -1.16%   |   Position Changes : 253   |   Episode Length : 1330   |\n",
       "</pre>\n"
      ],
      "text/plain": [
       "Market Return : -0.42%   |   Portfolio Return : -1.16%   |   Position Changes : 253   |   Episode Length : 1330   |\n"
      ]
     },
     "metadata": {},
     "output_type": "display_data"
    },
    {
     "data": {
      "text/html": [
       "<pre style=\"white-space:pre;overflow-x:auto;line-height:normal;font-family:Menlo,'DejaVu Sans Mono',consolas,'Courier New',monospace\">Market Return :  1.12%   |   Portfolio Return : -1.38%   |   Position Changes : 198   |   Episode Length : 1330   |\n",
       "</pre>\n"
      ],
      "text/plain": [
       "Market Return :  1.12%   |   Portfolio Return : -1.38%   |   Position Changes : 198   |   Episode Length : 1330   |\n"
      ]
     },
     "metadata": {},
     "output_type": "display_data"
    },
    {
     "data": {
      "text/html": [
       "<pre style=\"white-space:pre;overflow-x:auto;line-height:normal;font-family:Menlo,'DejaVu Sans Mono',consolas,'Courier New',monospace\">Market Return :  3.10%   |   Portfolio Return : -2.85%   |   Position Changes : 226   |   Episode Length : 1330   |\n",
       "</pre>\n"
      ],
      "text/plain": [
       "Market Return :  3.10%   |   Portfolio Return : -2.85%   |   Position Changes : 226   |   Episode Length : 1330   |\n"
      ]
     },
     "metadata": {},
     "output_type": "display_data"
    },
    {
     "data": {
      "text/html": [
       "<pre style=\"white-space:pre;overflow-x:auto;line-height:normal;font-family:Menlo,'DejaVu Sans Mono',consolas,'Courier New',monospace\">Market Return : -0.87%   |   Portfolio Return :  2.56%   |   Position Changes : 177   |   Episode Length : 1330   |\n",
       "</pre>\n"
      ],
      "text/plain": [
       "Market Return : -0.87%   |   Portfolio Return :  2.56%   |   Position Changes : 177   |   Episode Length : 1330   |\n"
      ]
     },
     "metadata": {},
     "output_type": "display_data"
    },
    {
     "data": {
      "text/html": [
       "<pre style=\"white-space:pre;overflow-x:auto;line-height:normal;font-family:Menlo,'DejaVu Sans Mono',consolas,'Courier New',monospace\">Market Return : -1.90%   |   Portfolio Return : -8.42%   |   Position Changes : 237   |   Episode Length : 1330   |\n",
       "</pre>\n"
      ],
      "text/plain": [
       "Market Return : -1.90%   |   Portfolio Return : -8.42%   |   Position Changes : 237   |   Episode Length : 1330   |\n"
      ]
     },
     "metadata": {},
     "output_type": "display_data"
    },
    {
     "data": {
      "text/html": [
       "<pre style=\"white-space:pre;overflow-x:auto;line-height:normal;font-family:Menlo,'DejaVu Sans Mono',consolas,'Courier New',monospace\">Market Return : -1.58%   |   Portfolio Return : -1.21%   |   Position Changes : 217   |   Episode Length : 1330   |\n",
       "</pre>\n"
      ],
      "text/plain": [
       "Market Return : -1.58%   |   Portfolio Return : -1.21%   |   Position Changes : 217   |   Episode Length : 1330   |\n"
      ]
     },
     "metadata": {},
     "output_type": "display_data"
    },
    {
     "data": {
      "text/html": [
       "<pre style=\"white-space:pre;overflow-x:auto;line-height:normal;font-family:Menlo,'DejaVu Sans Mono',consolas,'Courier New',monospace\">Market Return :  2.55%   |   Portfolio Return : -3.85%   |   Position Changes : 193   |   Episode Length : 1330   |\n",
       "</pre>\n"
      ],
      "text/plain": [
       "Market Return :  2.55%   |   Portfolio Return : -3.85%   |   Position Changes : 193   |   Episode Length : 1330   |\n"
      ]
     },
     "metadata": {},
     "output_type": "display_data"
    },
    {
     "data": {
      "text/html": [
       "<pre style=\"white-space:pre;overflow-x:auto;line-height:normal;font-family:Menlo,'DejaVu Sans Mono',consolas,'Courier New',monospace\">Market Return :  2.61%   |   Portfolio Return : -10.98%   |   Position Changes : 297   |   Episode Length : 1330   \n",
       "|   \n",
       "</pre>\n"
      ],
      "text/plain": [
       "Market Return :  2.61%   |   Portfolio Return : -10.98%   |   Position Changes : 297   |   Episode Length : 1330   \n",
       "|   \n"
      ]
     },
     "metadata": {},
     "output_type": "display_data"
    },
    {
     "data": {
      "text/html": [
       "<pre style=\"white-space:pre;overflow-x:auto;line-height:normal;font-family:Menlo,'DejaVu Sans Mono',consolas,'Courier New',monospace\">Market Return : -6.90%   |   Portfolio Return : -0.51%   |   Position Changes : 251   |   Episode Length : 1330   |\n",
       "</pre>\n"
      ],
      "text/plain": [
       "Market Return : -6.90%   |   Portfolio Return : -0.51%   |   Position Changes : 251   |   Episode Length : 1330   |\n"
      ]
     },
     "metadata": {},
     "output_type": "display_data"
    },
    {
     "data": {
      "text/html": [
       "<pre style=\"white-space:pre;overflow-x:auto;line-height:normal;font-family:Menlo,'DejaVu Sans Mono',consolas,'Courier New',monospace\">Market Return : -2.64%   |   Portfolio Return : -1.56%   |   Position Changes : 243   |   Episode Length : 1330   |\n",
       "</pre>\n"
      ],
      "text/plain": [
       "Market Return : -2.64%   |   Portfolio Return : -1.56%   |   Position Changes : 243   |   Episode Length : 1330   |\n"
      ]
     },
     "metadata": {},
     "output_type": "display_data"
    },
    {
     "data": {
      "text/html": [
       "<pre style=\"white-space:pre;overflow-x:auto;line-height:normal;font-family:Menlo,'DejaVu Sans Mono',consolas,'Courier New',monospace\">Market Return : -0.08%   |   Portfolio Return : -2.20%   |   Position Changes : 194   |   Episode Length : 1330   |\n",
       "</pre>\n"
      ],
      "text/plain": [
       "Market Return : -0.08%   |   Portfolio Return : -2.20%   |   Position Changes : 194   |   Episode Length : 1330   |\n"
      ]
     },
     "metadata": {},
     "output_type": "display_data"
    },
    {
     "data": {
      "text/html": [
       "<pre style=\"white-space:pre;overflow-x:auto;line-height:normal;font-family:Menlo,'DejaVu Sans Mono',consolas,'Courier New',monospace\">Market Return :  8.12%   |   Portfolio Return : -3.92%   |   Position Changes : 231   |   Episode Length : 1330   |\n",
       "</pre>\n"
      ],
      "text/plain": [
       "Market Return :  8.12%   |   Portfolio Return : -3.92%   |   Position Changes : 231   |   Episode Length : 1330   |\n"
      ]
     },
     "metadata": {},
     "output_type": "display_data"
    },
    {
     "data": {
      "text/html": [
       "<pre style=\"white-space:pre;overflow-x:auto;line-height:normal;font-family:Menlo,'DejaVu Sans Mono',consolas,'Courier New',monospace\">Market Return : -1.62%   |   Portfolio Return : -9.85%   |   Position Changes : 253   |   Episode Length : 1330   |\n",
       "</pre>\n"
      ],
      "text/plain": [
       "Market Return : -1.62%   |   Portfolio Return : -9.85%   |   Position Changes : 253   |   Episode Length : 1330   |\n"
      ]
     },
     "metadata": {},
     "output_type": "display_data"
    },
    {
     "data": {
      "text/html": [
       "<pre style=\"white-space:pre;overflow-x:auto;line-height:normal;font-family:Menlo,'DejaVu Sans Mono',consolas,'Courier New',monospace\">Market Return : -1.50%   |   Portfolio Return : -3.39%   |   Position Changes : 195   |   Episode Length : 1330   |\n",
       "</pre>\n"
      ],
      "text/plain": [
       "Market Return : -1.50%   |   Portfolio Return : -3.39%   |   Position Changes : 195   |   Episode Length : 1330   |\n"
      ]
     },
     "metadata": {},
     "output_type": "display_data"
    },
    {
     "data": {
      "text/html": [
       "<pre style=\"white-space:pre;overflow-x:auto;line-height:normal;font-family:Menlo,'DejaVu Sans Mono',consolas,'Courier New',monospace\">Market Return :  2.36%   |   Portfolio Return : -3.39%   |   Position Changes : 213   |   Episode Length : 1330   |\n",
       "</pre>\n"
      ],
      "text/plain": [
       "Market Return :  2.36%   |   Portfolio Return : -3.39%   |   Position Changes : 213   |   Episode Length : 1330   |\n"
      ]
     },
     "metadata": {},
     "output_type": "display_data"
    },
    {
     "data": {
      "text/html": [
       "<pre style=\"white-space:pre;overflow-x:auto;line-height:normal;font-family:Menlo,'DejaVu Sans Mono',consolas,'Courier New',monospace\">Market Return :  1.13%   |   Portfolio Return : -3.05%   |   Position Changes : 205   |   Episode Length : 1330   |\n",
       "</pre>\n"
      ],
      "text/plain": [
       "Market Return :  1.13%   |   Portfolio Return : -3.05%   |   Position Changes : 205   |   Episode Length : 1330   |\n"
      ]
     },
     "metadata": {},
     "output_type": "display_data"
    },
    {
     "data": {
      "text/html": [
       "<pre style=\"white-space:pre;overflow-x:auto;line-height:normal;font-family:Menlo,'DejaVu Sans Mono',consolas,'Courier New',monospace\">Market Return : -0.50%   |   Portfolio Return : -5.30%   |   Position Changes : 204   |   Episode Length : 1330   |\n",
       "</pre>\n"
      ],
      "text/plain": [
       "Market Return : -0.50%   |   Portfolio Return : -5.30%   |   Position Changes : 204   |   Episode Length : 1330   |\n"
      ]
     },
     "metadata": {},
     "output_type": "display_data"
    },
    {
     "data": {
      "text/html": [
       "<pre style=\"white-space:pre;overflow-x:auto;line-height:normal;font-family:Menlo,'DejaVu Sans Mono',consolas,'Courier New',monospace\">Market Return : -4.29%   |   Portfolio Return :  5.33%   |   Position Changes : 197   |   Episode Length : 1330   |\n",
       "</pre>\n"
      ],
      "text/plain": [
       "Market Return : -4.29%   |   Portfolio Return :  5.33%   |   Position Changes : 197   |   Episode Length : 1330   |\n"
      ]
     },
     "metadata": {},
     "output_type": "display_data"
    },
    {
     "data": {
      "text/html": [
       "<pre style=\"white-space:pre;overflow-x:auto;line-height:normal;font-family:Menlo,'DejaVu Sans Mono',consolas,'Courier New',monospace\">Market Return :  3.55%   |   Portfolio Return : -7.53%   |   Position Changes : 253   |   Episode Length : 1330   |\n",
       "</pre>\n"
      ],
      "text/plain": [
       "Market Return :  3.55%   |   Portfolio Return : -7.53%   |   Position Changes : 253   |   Episode Length : 1330   |\n"
      ]
     },
     "metadata": {},
     "output_type": "display_data"
    },
    {
     "data": {
      "text/html": [
       "<pre style=\"white-space:pre;overflow-x:auto;line-height:normal;font-family:Menlo,'DejaVu Sans Mono',consolas,'Courier New',monospace\">Market Return : -3.65%   |   Portfolio Return : -4.46%   |   Position Changes : 182   |   Episode Length : 1330   |\n",
       "</pre>\n"
      ],
      "text/plain": [
       "Market Return : -3.65%   |   Portfolio Return : -4.46%   |   Position Changes : 182   |   Episode Length : 1330   |\n"
      ]
     },
     "metadata": {},
     "output_type": "display_data"
    },
    {
     "data": {
      "text/html": [
       "<pre style=\"white-space:pre;overflow-x:auto;line-height:normal;font-family:Menlo,'DejaVu Sans Mono',consolas,'Courier New',monospace\">Market Return : -4.54%   |   Portfolio Return :  3.78%   |   Position Changes : 208   |   Episode Length : 1330   |\n",
       "</pre>\n"
      ],
      "text/plain": [
       "Market Return : -4.54%   |   Portfolio Return :  3.78%   |   Position Changes : 208   |   Episode Length : 1330   |\n"
      ]
     },
     "metadata": {},
     "output_type": "display_data"
    },
    {
     "data": {
      "text/html": [
       "<pre style=\"white-space:pre;overflow-x:auto;line-height:normal;font-family:Menlo,'DejaVu Sans Mono',consolas,'Courier New',monospace\">Market Return :  1.84%   |   Portfolio Return : -2.22%   |   Position Changes : 218   |   Episode Length : 1330   |\n",
       "</pre>\n"
      ],
      "text/plain": [
       "Market Return :  1.84%   |   Portfolio Return : -2.22%   |   Position Changes : 218   |   Episode Length : 1330   |\n"
      ]
     },
     "metadata": {},
     "output_type": "display_data"
    },
    {
     "data": {
      "text/html": [
       "<pre style=\"white-space:pre;overflow-x:auto;line-height:normal;font-family:Menlo,'DejaVu Sans Mono',consolas,'Courier New',monospace\">Market Return : -1.71%   |   Portfolio Return : -4.77%   |   Position Changes : 262   |   Episode Length : 1330   |\n",
       "</pre>\n"
      ],
      "text/plain": [
       "Market Return : -1.71%   |   Portfolio Return : -4.77%   |   Position Changes : 262   |   Episode Length : 1330   |\n"
      ]
     },
     "metadata": {},
     "output_type": "display_data"
    },
    {
     "data": {
      "text/html": [
       "<pre style=\"white-space:pre;overflow-x:auto;line-height:normal;font-family:Menlo,'DejaVu Sans Mono',consolas,'Courier New',monospace\">Market Return : -0.97%   |   Portfolio Return : -4.43%   |   Position Changes : 180   |   Episode Length : 1330   |\n",
       "</pre>\n"
      ],
      "text/plain": [
       "Market Return : -0.97%   |   Portfolio Return : -4.43%   |   Position Changes : 180   |   Episode Length : 1330   |\n"
      ]
     },
     "metadata": {},
     "output_type": "display_data"
    },
    {
     "data": {
      "text/html": [
       "<pre style=\"white-space:pre;overflow-x:auto;line-height:normal;font-family:Menlo,'DejaVu Sans Mono',consolas,'Courier New',monospace\">Market Return : -0.94%   |   Portfolio Return : -3.22%   |   Position Changes : 156   |   Episode Length : 1120   |\n",
       "</pre>\n"
      ],
      "text/plain": [
       "Market Return : -0.94%   |   Portfolio Return : -3.22%   |   Position Changes : 156   |   Episode Length : 1120   |\n"
      ]
     },
     "metadata": {},
     "output_type": "display_data"
    },
    {
     "data": {
      "text/html": [
       "<pre style=\"white-space:pre;overflow-x:auto;line-height:normal;font-family:Menlo,'DejaVu Sans Mono',consolas,'Courier New',monospace\">Market Return : -1.10%   |   Portfolio Return : -2.40%   |   Position Changes : 206   |   Episode Length : 1330   |\n",
       "</pre>\n"
      ],
      "text/plain": [
       "Market Return : -1.10%   |   Portfolio Return : -2.40%   |   Position Changes : 206   |   Episode Length : 1330   |\n"
      ]
     },
     "metadata": {},
     "output_type": "display_data"
    },
    {
     "data": {
      "text/html": [
       "<pre style=\"white-space:pre;overflow-x:auto;line-height:normal;font-family:Menlo,'DejaVu Sans Mono',consolas,'Courier New',monospace\">Market Return :  6.66%   |   Portfolio Return : -3.09%   |   Position Changes : 244   |   Episode Length : 1330   |\n",
       "</pre>\n"
      ],
      "text/plain": [
       "Market Return :  6.66%   |   Portfolio Return : -3.09%   |   Position Changes : 244   |   Episode Length : 1330   |\n"
      ]
     },
     "metadata": {},
     "output_type": "display_data"
    },
    {
     "data": {
      "text/html": [
       "<pre style=\"white-space:pre;overflow-x:auto;line-height:normal;font-family:Menlo,'DejaVu Sans Mono',consolas,'Courier New',monospace\">Market Return : -0.56%   |   Portfolio Return : -2.83%   |   Position Changes : 177   |   Episode Length : 1330   |\n",
       "</pre>\n"
      ],
      "text/plain": [
       "Market Return : -0.56%   |   Portfolio Return : -2.83%   |   Position Changes : 177   |   Episode Length : 1330   |\n"
      ]
     },
     "metadata": {},
     "output_type": "display_data"
    },
    {
     "data": {
      "text/html": [
       "<pre style=\"white-space:pre;overflow-x:auto;line-height:normal;font-family:Menlo,'DejaVu Sans Mono',consolas,'Courier New',monospace\">Market Return :  3.97%   |   Portfolio Return : -3.27%   |   Position Changes : 241   |   Episode Length : 1330   |\n",
       "</pre>\n"
      ],
      "text/plain": [
       "Market Return :  3.97%   |   Portfolio Return : -3.27%   |   Position Changes : 241   |   Episode Length : 1330   |\n"
      ]
     },
     "metadata": {},
     "output_type": "display_data"
    },
    {
     "data": {
      "text/html": [
       "<pre style=\"white-space:pre;overflow-x:auto;line-height:normal;font-family:Menlo,'DejaVu Sans Mono',consolas,'Courier New',monospace\">Market Return :  0.20%   |   Portfolio Return : -7.45%   |   Position Changes : 241   |   Episode Length : 1330   |\n",
       "</pre>\n"
      ],
      "text/plain": [
       "Market Return :  0.20%   |   Portfolio Return : -7.45%   |   Position Changes : 241   |   Episode Length : 1330   |\n"
      ]
     },
     "metadata": {},
     "output_type": "display_data"
    },
    {
     "data": {
      "text/html": [
       "<pre style=\"white-space:pre;overflow-x:auto;line-height:normal;font-family:Menlo,'DejaVu Sans Mono',consolas,'Courier New',monospace\">Market Return :  1.56%   |   Portfolio Return : -0.77%   |   Position Changes : 222   |   Episode Length : 1330   |\n",
       "</pre>\n"
      ],
      "text/plain": [
       "Market Return :  1.56%   |   Portfolio Return : -0.77%   |   Position Changes : 222   |   Episode Length : 1330   |\n"
      ]
     },
     "metadata": {},
     "output_type": "display_data"
    },
    {
     "data": {
      "text/html": [
       "<pre style=\"white-space:pre;overflow-x:auto;line-height:normal;font-family:Menlo,'DejaVu Sans Mono',consolas,'Courier New',monospace\">Market Return :  0.37%   |   Portfolio Return :  0.52%   |   Position Changes : 258   |   Episode Length : 1330   |\n",
       "</pre>\n"
      ],
      "text/plain": [
       "Market Return :  0.37%   |   Portfolio Return :  0.52%   |   Position Changes : 258   |   Episode Length : 1330   |\n"
      ]
     },
     "metadata": {},
     "output_type": "display_data"
    },
    {
     "data": {
      "text/html": [
       "<pre style=\"white-space:pre;overflow-x:auto;line-height:normal;font-family:Menlo,'DejaVu Sans Mono',consolas,'Courier New',monospace\">Market Return :  1.44%   |   Portfolio Return : -3.02%   |   Position Changes : 214   |   Episode Length : 1330   |\n",
       "</pre>\n"
      ],
      "text/plain": [
       "Market Return :  1.44%   |   Portfolio Return : -3.02%   |   Position Changes : 214   |   Episode Length : 1330   |\n"
      ]
     },
     "metadata": {},
     "output_type": "display_data"
    },
    {
     "data": {
      "text/html": [
       "<pre style=\"white-space:pre;overflow-x:auto;line-height:normal;font-family:Menlo,'DejaVu Sans Mono',consolas,'Courier New',monospace\">Market Return : -0.57%   |   Portfolio Return : -1.38%   |   Position Changes : 217   |   Episode Length : 1330   |\n",
       "</pre>\n"
      ],
      "text/plain": [
       "Market Return : -0.57%   |   Portfolio Return : -1.38%   |   Position Changes : 217   |   Episode Length : 1330   |\n"
      ]
     },
     "metadata": {},
     "output_type": "display_data"
    },
    {
     "data": {
      "text/html": [
       "<pre style=\"white-space:pre;overflow-x:auto;line-height:normal;font-family:Menlo,'DejaVu Sans Mono',consolas,'Courier New',monospace\">Market Return :  2.81%   |   Portfolio Return : -1.79%   |   Position Changes : 216   |   Episode Length : 1330   |\n",
       "</pre>\n"
      ],
      "text/plain": [
       "Market Return :  2.81%   |   Portfolio Return : -1.79%   |   Position Changes : 216   |   Episode Length : 1330   |\n"
      ]
     },
     "metadata": {},
     "output_type": "display_data"
    },
    {
     "data": {
      "text/html": [
       "<pre style=\"white-space:pre;overflow-x:auto;line-height:normal;font-family:Menlo,'DejaVu Sans Mono',consolas,'Courier New',monospace\">Market Return : -4.08%   |   Portfolio Return : -3.86%   |   Position Changes : 256   |   Episode Length : 1330   |\n",
       "</pre>\n"
      ],
      "text/plain": [
       "Market Return : -4.08%   |   Portfolio Return : -3.86%   |   Position Changes : 256   |   Episode Length : 1330   |\n"
      ]
     },
     "metadata": {},
     "output_type": "display_data"
    },
    {
     "data": {
      "text/html": [
       "<pre style=\"white-space:pre;overflow-x:auto;line-height:normal;font-family:Menlo,'DejaVu Sans Mono',consolas,'Courier New',monospace\">Market Return :  2.81%   |   Portfolio Return : -4.63%   |   Position Changes : 245   |   Episode Length : 1330   |\n",
       "</pre>\n"
      ],
      "text/plain": [
       "Market Return :  2.81%   |   Portfolio Return : -4.63%   |   Position Changes : 245   |   Episode Length : 1330   |\n"
      ]
     },
     "metadata": {},
     "output_type": "display_data"
    },
    {
     "data": {
      "text/html": [
       "<pre style=\"white-space:pre;overflow-x:auto;line-height:normal;font-family:Menlo,'DejaVu Sans Mono',consolas,'Courier New',monospace\">Market Return : -7.55%   |   Portfolio Return : -1.23%   |   Position Changes : 229   |   Episode Length : 1330   |\n",
       "</pre>\n"
      ],
      "text/plain": [
       "Market Return : -7.55%   |   Portfolio Return : -1.23%   |   Position Changes : 229   |   Episode Length : 1330   |\n"
      ]
     },
     "metadata": {},
     "output_type": "display_data"
    },
    {
     "data": {
      "text/html": [
       "<pre style=\"white-space:pre;overflow-x:auto;line-height:normal;font-family:Menlo,'DejaVu Sans Mono',consolas,'Courier New',monospace\">Market Return :  2.44%   |   Portfolio Return : -5.94%   |   Position Changes : 226   |   Episode Length : 1330   |\n",
       "</pre>\n"
      ],
      "text/plain": [
       "Market Return :  2.44%   |   Portfolio Return : -5.94%   |   Position Changes : 226   |   Episode Length : 1330   |\n"
      ]
     },
     "metadata": {},
     "output_type": "display_data"
    },
    {
     "data": {
      "text/html": [
       "<pre style=\"white-space:pre;overflow-x:auto;line-height:normal;font-family:Menlo,'DejaVu Sans Mono',consolas,'Courier New',monospace\">Market Return : -0.87%   |   Portfolio Return : -9.26%   |   Position Changes : 249   |   Episode Length : 1330   |\n",
       "</pre>\n"
      ],
      "text/plain": [
       "Market Return : -0.87%   |   Portfolio Return : -9.26%   |   Position Changes : 249   |   Episode Length : 1330   |\n"
      ]
     },
     "metadata": {},
     "output_type": "display_data"
    },
    {
     "data": {
      "text/html": [
       "<pre style=\"white-space:pre;overflow-x:auto;line-height:normal;font-family:Menlo,'DejaVu Sans Mono',consolas,'Courier New',monospace\">Market Return :  0.88%   |   Portfolio Return : -3.71%   |   Position Changes : 187   |   Episode Length : 1330   |\n",
       "</pre>\n"
      ],
      "text/plain": [
       "Market Return :  0.88%   |   Portfolio Return : -3.71%   |   Position Changes : 187   |   Episode Length : 1330   |\n"
      ]
     },
     "metadata": {},
     "output_type": "display_data"
    },
    {
     "data": {
      "text/html": [
       "<pre style=\"white-space:pre;overflow-x:auto;line-height:normal;font-family:Menlo,'DejaVu Sans Mono',consolas,'Courier New',monospace\">Market Return :  1.50%   |   Portfolio Return : -4.73%   |   Position Changes : 256   |   Episode Length : 1330   |\n",
       "</pre>\n"
      ],
      "text/plain": [
       "Market Return :  1.50%   |   Portfolio Return : -4.73%   |   Position Changes : 256   |   Episode Length : 1330   |\n"
      ]
     },
     "metadata": {},
     "output_type": "display_data"
    },
    {
     "data": {
      "text/html": [
       "<pre style=\"white-space:pre;overflow-x:auto;line-height:normal;font-family:Menlo,'DejaVu Sans Mono',consolas,'Courier New',monospace\">Market Return :  0.99%   |   Portfolio Return : -17.07%   |   Position Changes : 244   |   Episode Length : 1330   \n",
       "|   \n",
       "</pre>\n"
      ],
      "text/plain": [
       "Market Return :  0.99%   |   Portfolio Return : -17.07%   |   Position Changes : 244   |   Episode Length : 1330   \n",
       "|   \n"
      ]
     },
     "metadata": {},
     "output_type": "display_data"
    },
    {
     "data": {
      "text/html": [
       "<pre style=\"white-space:pre;overflow-x:auto;line-height:normal;font-family:Menlo,'DejaVu Sans Mono',consolas,'Courier New',monospace\">Market Return :  1.03%   |   Portfolio Return : -3.29%   |   Position Changes : 213   |   Episode Length : 1330   |\n",
       "</pre>\n"
      ],
      "text/plain": [
       "Market Return :  1.03%   |   Portfolio Return : -3.29%   |   Position Changes : 213   |   Episode Length : 1330   |\n"
      ]
     },
     "metadata": {},
     "output_type": "display_data"
    },
    {
     "data": {
      "text/html": [
       "<pre style=\"white-space:pre;overflow-x:auto;line-height:normal;font-family:Menlo,'DejaVu Sans Mono',consolas,'Courier New',monospace\">Market Return : -1.75%   |   Portfolio Return : -2.95%   |   Position Changes : 224   |   Episode Length : 1330   |\n",
       "</pre>\n"
      ],
      "text/plain": [
       "Market Return : -1.75%   |   Portfolio Return : -2.95%   |   Position Changes : 224   |   Episode Length : 1330   |\n"
      ]
     },
     "metadata": {},
     "output_type": "display_data"
    },
    {
     "data": {
      "text/html": [
       "<pre style=\"white-space:pre;overflow-x:auto;line-height:normal;font-family:Menlo,'DejaVu Sans Mono',consolas,'Courier New',monospace\">Market Return : -0.08%   |   Portfolio Return : -3.13%   |   Position Changes : 174   |   Episode Length : 1330   |\n",
       "</pre>\n"
      ],
      "text/plain": [
       "Market Return : -0.08%   |   Portfolio Return : -3.13%   |   Position Changes : 174   |   Episode Length : 1330   |\n"
      ]
     },
     "metadata": {},
     "output_type": "display_data"
    },
    {
     "data": {
      "text/html": [
       "<pre style=\"white-space:pre;overflow-x:auto;line-height:normal;font-family:Menlo,'DejaVu Sans Mono',consolas,'Courier New',monospace\">Market Return : -2.41%   |   Portfolio Return : -4.10%   |   Position Changes : 309   |   Episode Length : 1330   |\n",
       "</pre>\n"
      ],
      "text/plain": [
       "Market Return : -2.41%   |   Portfolio Return : -4.10%   |   Position Changes : 309   |   Episode Length : 1330   |\n"
      ]
     },
     "metadata": {},
     "output_type": "display_data"
    },
    {
     "data": {
      "text/html": [
       "<pre style=\"white-space:pre;overflow-x:auto;line-height:normal;font-family:Menlo,'DejaVu Sans Mono',consolas,'Courier New',monospace\">Market Return :  3.88%   |   Portfolio Return : -3.32%   |   Position Changes : 245   |   Episode Length : 1330   |\n",
       "</pre>\n"
      ],
      "text/plain": [
       "Market Return :  3.88%   |   Portfolio Return : -3.32%   |   Position Changes : 245   |   Episode Length : 1330   |\n"
      ]
     },
     "metadata": {},
     "output_type": "display_data"
    },
    {
     "data": {
      "text/html": [
       "<pre style=\"white-space:pre;overflow-x:auto;line-height:normal;font-family:Menlo,'DejaVu Sans Mono',consolas,'Courier New',monospace\">Market Return : -6.57%   |   Portfolio Return : -4.00%   |   Position Changes : 260   |   Episode Length : 1330   |\n",
       "</pre>\n"
      ],
      "text/plain": [
       "Market Return : -6.57%   |   Portfolio Return : -4.00%   |   Position Changes : 260   |   Episode Length : 1330   |\n"
      ]
     },
     "metadata": {},
     "output_type": "display_data"
    },
    {
     "data": {
      "text/html": [
       "<pre style=\"white-space:pre;overflow-x:auto;line-height:normal;font-family:Menlo,'DejaVu Sans Mono',consolas,'Courier New',monospace\">Market Return : -0.35%   |   Portfolio Return : -3.69%   |   Position Changes : 232   |   Episode Length : 1330   |\n",
       "</pre>\n"
      ],
      "text/plain": [
       "Market Return : -0.35%   |   Portfolio Return : -3.69%   |   Position Changes : 232   |   Episode Length : 1330   |\n"
      ]
     },
     "metadata": {},
     "output_type": "display_data"
    },
    {
     "data": {
      "text/html": [
       "<pre style=\"white-space:pre;overflow-x:auto;line-height:normal;font-family:Menlo,'DejaVu Sans Mono',consolas,'Courier New',monospace\">Market Return :  1.25%   |   Portfolio Return : -1.58%   |   Position Changes : 201   |   Episode Length : 1330   |\n",
       "</pre>\n"
      ],
      "text/plain": [
       "Market Return :  1.25%   |   Portfolio Return : -1.58%   |   Position Changes : 201   |   Episode Length : 1330   |\n"
      ]
     },
     "metadata": {},
     "output_type": "display_data"
    },
    {
     "data": {
      "text/html": [
       "<pre style=\"white-space:pre;overflow-x:auto;line-height:normal;font-family:Menlo,'DejaVu Sans Mono',consolas,'Courier New',monospace\">Market Return :  0.91%   |   Portfolio Return : -3.67%   |   Position Changes : 249   |   Episode Length : 1330   |\n",
       "</pre>\n"
      ],
      "text/plain": [
       "Market Return :  0.91%   |   Portfolio Return : -3.67%   |   Position Changes : 249   |   Episode Length : 1330   |\n"
      ]
     },
     "metadata": {},
     "output_type": "display_data"
    },
    {
     "data": {
      "text/html": [
       "<pre style=\"white-space:pre;overflow-x:auto;line-height:normal;font-family:Menlo,'DejaVu Sans Mono',consolas,'Courier New',monospace\">Market Return : -1.10%   |   Portfolio Return : -5.54%   |   Position Changes : 236   |   Episode Length : 1330   |\n",
       "</pre>\n"
      ],
      "text/plain": [
       "Market Return : -1.10%   |   Portfolio Return : -5.54%   |   Position Changes : 236   |   Episode Length : 1330   |\n"
      ]
     },
     "metadata": {},
     "output_type": "display_data"
    },
    {
     "data": {
      "text/html": [
       "<pre style=\"white-space:pre;overflow-x:auto;line-height:normal;font-family:Menlo,'DejaVu Sans Mono',consolas,'Courier New',monospace\">Market Return :  0.04%   |   Portfolio Return : -2.27%   |   Position Changes : 199   |   Episode Length : 1330   |\n",
       "</pre>\n"
      ],
      "text/plain": [
       "Market Return :  0.04%   |   Portfolio Return : -2.27%   |   Position Changes : 199   |   Episode Length : 1330   |\n"
      ]
     },
     "metadata": {},
     "output_type": "display_data"
    },
    {
     "data": {
      "text/html": [
       "<pre style=\"white-space:pre;overflow-x:auto;line-height:normal;font-family:Menlo,'DejaVu Sans Mono',consolas,'Courier New',monospace\">Market Return :  3.55%   |   Portfolio Return : -2.23%   |   Position Changes : 218   |   Episode Length : 1330   |\n",
       "</pre>\n"
      ],
      "text/plain": [
       "Market Return :  3.55%   |   Portfolio Return : -2.23%   |   Position Changes : 218   |   Episode Length : 1330   |\n"
      ]
     },
     "metadata": {},
     "output_type": "display_data"
    },
    {
     "data": {
      "text/html": [
       "<pre style=\"white-space:pre;overflow-x:auto;line-height:normal;font-family:Menlo,'DejaVu Sans Mono',consolas,'Courier New',monospace\">Market Return :  1.24%   |   Portfolio Return : -1.40%   |   Position Changes : 198   |   Episode Length : 1330   |\n",
       "</pre>\n"
      ],
      "text/plain": [
       "Market Return :  1.24%   |   Portfolio Return : -1.40%   |   Position Changes : 198   |   Episode Length : 1330   |\n"
      ]
     },
     "metadata": {},
     "output_type": "display_data"
    },
    {
     "data": {
      "text/html": [
       "<pre style=\"white-space:pre;overflow-x:auto;line-height:normal;font-family:Menlo,'DejaVu Sans Mono',consolas,'Courier New',monospace\">Market Return :  1.28%   |   Portfolio Return : -1.31%   |   Position Changes : 238   |   Episode Length : 1330   |\n",
       "</pre>\n"
      ],
      "text/plain": [
       "Market Return :  1.28%   |   Portfolio Return : -1.31%   |   Position Changes : 238   |   Episode Length : 1330   |\n"
      ]
     },
     "metadata": {},
     "output_type": "display_data"
    },
    {
     "data": {
      "text/html": [
       "<pre style=\"white-space:pre;overflow-x:auto;line-height:normal;font-family:Menlo,'DejaVu Sans Mono',consolas,'Courier New',monospace\">Market Return :  0.31%   |   Portfolio Return : -5.12%   |   Position Changes : 217   |   Episode Length : 1330   |\n",
       "</pre>\n"
      ],
      "text/plain": [
       "Market Return :  0.31%   |   Portfolio Return : -5.12%   |   Position Changes : 217   |   Episode Length : 1330   |\n"
      ]
     },
     "metadata": {},
     "output_type": "display_data"
    },
    {
     "data": {
      "text/html": [
       "<pre style=\"white-space:pre;overflow-x:auto;line-height:normal;font-family:Menlo,'DejaVu Sans Mono',consolas,'Courier New',monospace\">Market Return :  1.21%   |   Portfolio Return : -5.05%   |   Position Changes : 202   |   Episode Length : 1330   |\n",
       "</pre>\n"
      ],
      "text/plain": [
       "Market Return :  1.21%   |   Portfolio Return : -5.05%   |   Position Changes : 202   |   Episode Length : 1330   |\n"
      ]
     },
     "metadata": {},
     "output_type": "display_data"
    },
    {
     "data": {
      "text/html": [
       "<pre style=\"white-space:pre;overflow-x:auto;line-height:normal;font-family:Menlo,'DejaVu Sans Mono',consolas,'Courier New',monospace\">Market Return :  1.30%   |   Portfolio Return : -8.80%   |   Position Changes : 267   |   Episode Length : 1330   |\n",
       "</pre>\n"
      ],
      "text/plain": [
       "Market Return :  1.30%   |   Portfolio Return : -8.80%   |   Position Changes : 267   |   Episode Length : 1330   |\n"
      ]
     },
     "metadata": {},
     "output_type": "display_data"
    },
    {
     "data": {
      "text/html": [
       "<pre style=\"white-space:pre;overflow-x:auto;line-height:normal;font-family:Menlo,'DejaVu Sans Mono',consolas,'Courier New',monospace\">Market Return : -0.88%   |   Portfolio Return : -0.82%   |   Position Changes : 232   |   Episode Length : 1330   |\n",
       "</pre>\n"
      ],
      "text/plain": [
       "Market Return : -0.88%   |   Portfolio Return : -0.82%   |   Position Changes : 232   |   Episode Length : 1330   |\n"
      ]
     },
     "metadata": {},
     "output_type": "display_data"
    },
    {
     "data": {
      "text/html": [
       "<pre style=\"white-space:pre;overflow-x:auto;line-height:normal;font-family:Menlo,'DejaVu Sans Mono',consolas,'Courier New',monospace\">Market Return : -0.81%   |   Portfolio Return : -1.22%   |   Position Changes : 251   |   Episode Length : 1330   |\n",
       "</pre>\n"
      ],
      "text/plain": [
       "Market Return : -0.81%   |   Portfolio Return : -1.22%   |   Position Changes : 251   |   Episode Length : 1330   |\n"
      ]
     },
     "metadata": {},
     "output_type": "display_data"
    },
    {
     "data": {
      "text/html": [
       "<pre style=\"white-space:pre;overflow-x:auto;line-height:normal;font-family:Menlo,'DejaVu Sans Mono',consolas,'Courier New',monospace\">Market Return :  0.29%   |   Portfolio Return : -1.56%   |   Position Changes : 222   |   Episode Length : 1330   |\n",
       "</pre>\n"
      ],
      "text/plain": [
       "Market Return :  0.29%   |   Portfolio Return : -1.56%   |   Position Changes : 222   |   Episode Length : 1330   |\n"
      ]
     },
     "metadata": {},
     "output_type": "display_data"
    },
    {
     "data": {
      "text/html": [
       "<pre style=\"white-space:pre;overflow-x:auto;line-height:normal;font-family:Menlo,'DejaVu Sans Mono',consolas,'Courier New',monospace\">Market Return : -1.55%   |   Portfolio Return : -1.02%   |   Position Changes : 200   |   Episode Length : 1330   |\n",
       "</pre>\n"
      ],
      "text/plain": [
       "Market Return : -1.55%   |   Portfolio Return : -1.02%   |   Position Changes : 200   |   Episode Length : 1330   |\n"
      ]
     },
     "metadata": {},
     "output_type": "display_data"
    },
    {
     "data": {
      "text/html": [
       "<pre style=\"white-space:pre;overflow-x:auto;line-height:normal;font-family:Menlo,'DejaVu Sans Mono',consolas,'Courier New',monospace\">Market Return :  0.56%   |   Portfolio Return : -2.31%   |   Position Changes : 190   |   Episode Length : 1330   |\n",
       "</pre>\n"
      ],
      "text/plain": [
       "Market Return :  0.56%   |   Portfolio Return : -2.31%   |   Position Changes : 190   |   Episode Length : 1330   |\n"
      ]
     },
     "metadata": {},
     "output_type": "display_data"
    },
    {
     "data": {
      "text/html": [
       "<pre style=\"white-space:pre;overflow-x:auto;line-height:normal;font-family:Menlo,'DejaVu Sans Mono',consolas,'Courier New',monospace\">Market Return : -0.49%   |   Portfolio Return : -3.20%   |   Position Changes : 177   |   Episode Length : 1330   |\n",
       "</pre>\n"
      ],
      "text/plain": [
       "Market Return : -0.49%   |   Portfolio Return : -3.20%   |   Position Changes : 177   |   Episode Length : 1330   |\n"
      ]
     },
     "metadata": {},
     "output_type": "display_data"
    },
    {
     "data": {
      "text/html": [
       "<pre style=\"white-space:pre;overflow-x:auto;line-height:normal;font-family:Menlo,'DejaVu Sans Mono',consolas,'Courier New',monospace\">Market Return : -0.44%   |   Portfolio Return : -6.74%   |   Position Changes : 233   |   Episode Length : 1330   |\n",
       "</pre>\n"
      ],
      "text/plain": [
       "Market Return : -0.44%   |   Portfolio Return : -6.74%   |   Position Changes : 233   |   Episode Length : 1330   |\n"
      ]
     },
     "metadata": {},
     "output_type": "display_data"
    },
    {
     "data": {
      "text/html": [
       "<pre style=\"white-space:pre;overflow-x:auto;line-height:normal;font-family:Menlo,'DejaVu Sans Mono',consolas,'Courier New',monospace\">Market Return : -2.47%   |   Portfolio Return : -5.62%   |   Position Changes : 236   |   Episode Length : 1330   |\n",
       "</pre>\n"
      ],
      "text/plain": [
       "Market Return : -2.47%   |   Portfolio Return : -5.62%   |   Position Changes : 236   |   Episode Length : 1330   |\n"
      ]
     },
     "metadata": {},
     "output_type": "display_data"
    },
    {
     "data": {
      "text/html": [
       "<pre style=\"white-space:pre;overflow-x:auto;line-height:normal;font-family:Menlo,'DejaVu Sans Mono',consolas,'Courier New',monospace\">Market Return :  0.04%   |   Portfolio Return : -0.98%   |   Position Changes : 228   |   Episode Length : 1330   |\n",
       "</pre>\n"
      ],
      "text/plain": [
       "Market Return :  0.04%   |   Portfolio Return : -0.98%   |   Position Changes : 228   |   Episode Length : 1330   |\n"
      ]
     },
     "metadata": {},
     "output_type": "display_data"
    },
    {
     "data": {
      "text/html": [
       "<pre style=\"white-space:pre;overflow-x:auto;line-height:normal;font-family:Menlo,'DejaVu Sans Mono',consolas,'Courier New',monospace\">Market Return : -4.34%   |   Portfolio Return : -2.10%   |   Position Changes : 253   |   Episode Length : 1330   |\n",
       "</pre>\n"
      ],
      "text/plain": [
       "Market Return : -4.34%   |   Portfolio Return : -2.10%   |   Position Changes : 253   |   Episode Length : 1330   |\n"
      ]
     },
     "metadata": {},
     "output_type": "display_data"
    },
    {
     "data": {
      "text/html": [
       "<pre style=\"white-space:pre;overflow-x:auto;line-height:normal;font-family:Menlo,'DejaVu Sans Mono',consolas,'Courier New',monospace\">Market Return : 15.15%   |   Portfolio Return : -6.41%   |   Position Changes : 250   |   Episode Length : 1330   |\n",
       "</pre>\n"
      ],
      "text/plain": [
       "Market Return : 15.15%   |   Portfolio Return : -6.41%   |   Position Changes : 250   |   Episode Length : 1330   |\n"
      ]
     },
     "metadata": {},
     "output_type": "display_data"
    },
    {
     "data": {
      "text/html": [
       "<pre style=\"white-space:pre;overflow-x:auto;line-height:normal;font-family:Menlo,'DejaVu Sans Mono',consolas,'Courier New',monospace\">Market Return :  4.57%   |   Portfolio Return : -8.21%   |   Position Changes : 280   |   Episode Length : 1330   |\n",
       "</pre>\n"
      ],
      "text/plain": [
       "Market Return :  4.57%   |   Portfolio Return : -8.21%   |   Position Changes : 280   |   Episode Length : 1330   |\n"
      ]
     },
     "metadata": {},
     "output_type": "display_data"
    },
    {
     "data": {
      "text/html": [
       "<pre style=\"white-space:pre;overflow-x:auto;line-height:normal;font-family:Menlo,'DejaVu Sans Mono',consolas,'Courier New',monospace\">Market Return :  3.13%   |   Portfolio Return : -0.17%   |   Position Changes : 198   |   Episode Length : 1330   |\n",
       "</pre>\n"
      ],
      "text/plain": [
       "Market Return :  3.13%   |   Portfolio Return : -0.17%   |   Position Changes : 198   |   Episode Length : 1330   |\n"
      ]
     },
     "metadata": {},
     "output_type": "display_data"
    },
    {
     "data": {
      "text/html": [
       "<pre style=\"white-space:pre;overflow-x:auto;line-height:normal;font-family:Menlo,'DejaVu Sans Mono',consolas,'Courier New',monospace\">Market Return :  2.78%   |   Portfolio Return : -7.61%   |   Position Changes : 259   |   Episode Length : 1330   |\n",
       "</pre>\n"
      ],
      "text/plain": [
       "Market Return :  2.78%   |   Portfolio Return : -7.61%   |   Position Changes : 259   |   Episode Length : 1330   |\n"
      ]
     },
     "metadata": {},
     "output_type": "display_data"
    },
    {
     "data": {
      "text/html": [
       "<pre style=\"white-space:pre;overflow-x:auto;line-height:normal;font-family:Menlo,'DejaVu Sans Mono',consolas,'Courier New',monospace\">Market Return :  2.95%   |   Portfolio Return : -3.87%   |   Position Changes : 290   |   Episode Length : 1330   |\n",
       "</pre>\n"
      ],
      "text/plain": [
       "Market Return :  2.95%   |   Portfolio Return : -3.87%   |   Position Changes : 290   |   Episode Length : 1330   |\n"
      ]
     },
     "metadata": {},
     "output_type": "display_data"
    },
    {
     "data": {
      "text/html": [
       "<pre style=\"white-space:pre;overflow-x:auto;line-height:normal;font-family:Menlo,'DejaVu Sans Mono',consolas,'Courier New',monospace\">Market Return :  5.11%   |   Portfolio Return : -8.47%   |   Position Changes : 247   |   Episode Length : 1330   |\n",
       "</pre>\n"
      ],
      "text/plain": [
       "Market Return :  5.11%   |   Portfolio Return : -8.47%   |   Position Changes : 247   |   Episode Length : 1330   |\n"
      ]
     },
     "metadata": {},
     "output_type": "display_data"
    },
    {
     "data": {
      "text/html": [
       "<pre style=\"white-space:pre;overflow-x:auto;line-height:normal;font-family:Menlo,'DejaVu Sans Mono',consolas,'Courier New',monospace\">Market Return : -0.22%   |   Portfolio Return : -2.97%   |   Position Changes : 175   |   Episode Length : 1330   |\n",
       "</pre>\n"
      ],
      "text/plain": [
       "Market Return : -0.22%   |   Portfolio Return : -2.97%   |   Position Changes : 175   |   Episode Length : 1330   |\n"
      ]
     },
     "metadata": {},
     "output_type": "display_data"
    },
    {
     "data": {
      "text/html": [
       "<pre style=\"white-space:pre;overflow-x:auto;line-height:normal;font-family:Menlo,'DejaVu Sans Mono',consolas,'Courier New',monospace\">Market Return : -3.61%   |   Portfolio Return :  3.97%   |   Position Changes : 312   |   Episode Length : 1330   |\n",
       "</pre>\n"
      ],
      "text/plain": [
       "Market Return : -3.61%   |   Portfolio Return :  3.97%   |   Position Changes : 312   |   Episode Length : 1330   |\n"
      ]
     },
     "metadata": {},
     "output_type": "display_data"
    },
    {
     "data": {
      "text/html": [
       "<pre style=\"white-space:pre;overflow-x:auto;line-height:normal;font-family:Menlo,'DejaVu Sans Mono',consolas,'Courier New',monospace\">Market Return :  0.91%   |   Portfolio Return :  0.15%   |   Position Changes : 219   |   Episode Length : 1330   |\n",
       "</pre>\n"
      ],
      "text/plain": [
       "Market Return :  0.91%   |   Portfolio Return :  0.15%   |   Position Changes : 219   |   Episode Length : 1330   |\n"
      ]
     },
     "metadata": {},
     "output_type": "display_data"
    },
    {
     "data": {
      "text/html": [
       "<pre style=\"white-space:pre;overflow-x:auto;line-height:normal;font-family:Menlo,'DejaVu Sans Mono',consolas,'Courier New',monospace\">Market Return :  1.28%   |   Portfolio Return : -5.28%   |   Position Changes : 211   |   Episode Length : 1330   |\n",
       "</pre>\n"
      ],
      "text/plain": [
       "Market Return :  1.28%   |   Portfolio Return : -5.28%   |   Position Changes : 211   |   Episode Length : 1330   |\n"
      ]
     },
     "metadata": {},
     "output_type": "display_data"
    },
    {
     "data": {
      "text/html": [
       "<pre style=\"white-space:pre;overflow-x:auto;line-height:normal;font-family:Menlo,'DejaVu Sans Mono',consolas,'Courier New',monospace\">Market Return :  1.62%   |   Portfolio Return : -5.25%   |   Position Changes : 224   |   Episode Length : 1330   |\n",
       "</pre>\n"
      ],
      "text/plain": [
       "Market Return :  1.62%   |   Portfolio Return : -5.25%   |   Position Changes : 224   |   Episode Length : 1330   |\n"
      ]
     },
     "metadata": {},
     "output_type": "display_data"
    },
    {
     "data": {
      "text/html": [
       "<pre style=\"white-space:pre;overflow-x:auto;line-height:normal;font-family:Menlo,'DejaVu Sans Mono',consolas,'Courier New',monospace\">Market Return : -0.69%   |   Portfolio Return : -4.49%   |   Position Changes : 233   |   Episode Length : 1330   |\n",
       "</pre>\n"
      ],
      "text/plain": [
       "Market Return : -0.69%   |   Portfolio Return : -4.49%   |   Position Changes : 233   |   Episode Length : 1330   |\n"
      ]
     },
     "metadata": {},
     "output_type": "display_data"
    },
    {
     "data": {
      "text/html": [
       "<pre style=\"white-space:pre;overflow-x:auto;line-height:normal;font-family:Menlo,'DejaVu Sans Mono',consolas,'Courier New',monospace\">Market Return : -1.32%   |   Portfolio Return : -3.88%   |   Position Changes : 198   |   Episode Length : 1330   |\n",
       "</pre>\n"
      ],
      "text/plain": [
       "Market Return : -1.32%   |   Portfolio Return : -3.88%   |   Position Changes : 198   |   Episode Length : 1330   |\n"
      ]
     },
     "metadata": {},
     "output_type": "display_data"
    },
    {
     "data": {
      "text/html": [
       "<pre style=\"white-space:pre;overflow-x:auto;line-height:normal;font-family:Menlo,'DejaVu Sans Mono',consolas,'Courier New',monospace\">Market Return :  2.70%   |   Portfolio Return : -2.99%   |   Position Changes : 188   |   Episode Length : 1270   |\n",
       "</pre>\n"
      ],
      "text/plain": [
       "Market Return :  2.70%   |   Portfolio Return : -2.99%   |   Position Changes : 188   |   Episode Length : 1270   |\n"
      ]
     },
     "metadata": {},
     "output_type": "display_data"
    },
    {
     "data": {
      "text/html": [
       "<pre style=\"white-space:pre;overflow-x:auto;line-height:normal;font-family:Menlo,'DejaVu Sans Mono',consolas,'Courier New',monospace\">Market Return :  3.16%   |   Portfolio Return : -4.76%   |   Position Changes : 231   |   Episode Length : 1330   |\n",
       "</pre>\n"
      ],
      "text/plain": [
       "Market Return :  3.16%   |   Portfolio Return : -4.76%   |   Position Changes : 231   |   Episode Length : 1330   |\n"
      ]
     },
     "metadata": {},
     "output_type": "display_data"
    },
    {
     "data": {
      "text/html": [
       "<pre style=\"white-space:pre;overflow-x:auto;line-height:normal;font-family:Menlo,'DejaVu Sans Mono',consolas,'Courier New',monospace\">Market Return : -0.24%   |   Portfolio Return :  3.06%   |   Position Changes : 275   |   Episode Length : 1330   |\n",
       "</pre>\n"
      ],
      "text/plain": [
       "Market Return : -0.24%   |   Portfolio Return :  3.06%   |   Position Changes : 275   |   Episode Length : 1330   |\n"
      ]
     },
     "metadata": {},
     "output_type": "display_data"
    },
    {
     "data": {
      "text/html": [
       "<pre style=\"white-space:pre;overflow-x:auto;line-height:normal;font-family:Menlo,'DejaVu Sans Mono',consolas,'Courier New',monospace\">Market Return : -1.50%   |   Portfolio Return : -4.69%   |   Position Changes : 225   |   Episode Length : 1330   |\n",
       "</pre>\n"
      ],
      "text/plain": [
       "Market Return : -1.50%   |   Portfolio Return : -4.69%   |   Position Changes : 225   |   Episode Length : 1330   |\n"
      ]
     },
     "metadata": {},
     "output_type": "display_data"
    },
    {
     "data": {
      "text/html": [
       "<pre style=\"white-space:pre;overflow-x:auto;line-height:normal;font-family:Menlo,'DejaVu Sans Mono',consolas,'Courier New',monospace\">Market Return : -1.25%   |   Portfolio Return : -6.52%   |   Position Changes : 253   |   Episode Length : 1270   |\n",
       "</pre>\n"
      ],
      "text/plain": [
       "Market Return : -1.25%   |   Portfolio Return : -6.52%   |   Position Changes : 253   |   Episode Length : 1270   |\n"
      ]
     },
     "metadata": {},
     "output_type": "display_data"
    },
    {
     "data": {
      "text/html": [
       "<pre style=\"white-space:pre;overflow-x:auto;line-height:normal;font-family:Menlo,'DejaVu Sans Mono',consolas,'Courier New',monospace\">Market Return : -4.07%   |   Portfolio Return : -7.65%   |   Position Changes : 297   |   Episode Length : 1330   |\n",
       "</pre>\n"
      ],
      "text/plain": [
       "Market Return : -4.07%   |   Portfolio Return : -7.65%   |   Position Changes : 297   |   Episode Length : 1330   |\n"
      ]
     },
     "metadata": {},
     "output_type": "display_data"
    },
    {
     "data": {
      "text/html": [
       "<pre style=\"white-space:pre;overflow-x:auto;line-height:normal;font-family:Menlo,'DejaVu Sans Mono',consolas,'Courier New',monospace\">Market Return : -0.08%   |   Portfolio Return : -4.39%   |   Position Changes : 227   |   Episode Length : 1330   |\n",
       "</pre>\n"
      ],
      "text/plain": [
       "Market Return : -0.08%   |   Portfolio Return : -4.39%   |   Position Changes : 227   |   Episode Length : 1330   |\n"
      ]
     },
     "metadata": {},
     "output_type": "display_data"
    },
    {
     "data": {
      "text/html": [
       "<pre style=\"white-space:pre;overflow-x:auto;line-height:normal;font-family:Menlo,'DejaVu Sans Mono',consolas,'Courier New',monospace\">Market Return : -8.95%   |   Portfolio Return : -4.50%   |   Position Changes : 213   |   Episode Length : 1330   |\n",
       "</pre>\n"
      ],
      "text/plain": [
       "Market Return : -8.95%   |   Portfolio Return : -4.50%   |   Position Changes : 213   |   Episode Length : 1330   |\n"
      ]
     },
     "metadata": {},
     "output_type": "display_data"
    },
    {
     "data": {
      "text/html": [
       "<pre style=\"white-space:pre;overflow-x:auto;line-height:normal;font-family:Menlo,'DejaVu Sans Mono',consolas,'Courier New',monospace\">Market Return :  0.29%   |   Portfolio Return : -1.27%   |   Position Changes : 246   |   Episode Length : 1330   |\n",
       "</pre>\n"
      ],
      "text/plain": [
       "Market Return :  0.29%   |   Portfolio Return : -1.27%   |   Position Changes : 246   |   Episode Length : 1330   |\n"
      ]
     },
     "metadata": {},
     "output_type": "display_data"
    },
    {
     "data": {
      "text/html": [
       "<pre style=\"white-space:pre;overflow-x:auto;line-height:normal;font-family:Menlo,'DejaVu Sans Mono',consolas,'Courier New',monospace\">Market Return : -0.92%   |   Portfolio Return : -7.83%   |   Position Changes : 316   |   Episode Length : 1330   |\n",
       "</pre>\n"
      ],
      "text/plain": [
       "Market Return : -0.92%   |   Portfolio Return : -7.83%   |   Position Changes : 316   |   Episode Length : 1330   |\n"
      ]
     },
     "metadata": {},
     "output_type": "display_data"
    },
    {
     "data": {
      "text/html": [
       "<pre style=\"white-space:pre;overflow-x:auto;line-height:normal;font-family:Menlo,'DejaVu Sans Mono',consolas,'Courier New',monospace\">Market Return : -0.12%   |   Portfolio Return : -4.10%   |   Position Changes : 238   |   Episode Length : 1330   |\n",
       "</pre>\n"
      ],
      "text/plain": [
       "Market Return : -0.12%   |   Portfolio Return : -4.10%   |   Position Changes : 238   |   Episode Length : 1330   |\n"
      ]
     },
     "metadata": {},
     "output_type": "display_data"
    },
    {
     "data": {
      "text/html": [
       "<pre style=\"white-space:pre;overflow-x:auto;line-height:normal;font-family:Menlo,'DejaVu Sans Mono',consolas,'Courier New',monospace\">Market Return : -0.52%   |   Portfolio Return : -5.53%   |   Position Changes : 230   |   Episode Length : 1330   |\n",
       "</pre>\n"
      ],
      "text/plain": [
       "Market Return : -0.52%   |   Portfolio Return : -5.53%   |   Position Changes : 230   |   Episode Length : 1330   |\n"
      ]
     },
     "metadata": {},
     "output_type": "display_data"
    },
    {
     "data": {
      "text/html": [
       "<pre style=\"white-space:pre;overflow-x:auto;line-height:normal;font-family:Menlo,'DejaVu Sans Mono',consolas,'Courier New',monospace\">Market Return : -4.61%   |   Portfolio Return : -1.85%   |   Position Changes : 309   |   Episode Length : 1330   |\n",
       "</pre>\n"
      ],
      "text/plain": [
       "Market Return : -4.61%   |   Portfolio Return : -1.85%   |   Position Changes : 309   |   Episode Length : 1330   |\n"
      ]
     },
     "metadata": {},
     "output_type": "display_data"
    },
    {
     "data": {
      "text/html": [
       "<pre style=\"white-space:pre;overflow-x:auto;line-height:normal;font-family:Menlo,'DejaVu Sans Mono',consolas,'Courier New',monospace\">Market Return :  4.57%   |   Portfolio Return : -3.30%   |   Position Changes : 269   |   Episode Length : 1330   |\n",
       "</pre>\n"
      ],
      "text/plain": [
       "Market Return :  4.57%   |   Portfolio Return : -3.30%   |   Position Changes : 269   |   Episode Length : 1330   |\n"
      ]
     },
     "metadata": {},
     "output_type": "display_data"
    },
    {
     "data": {
      "text/html": [
       "<pre style=\"white-space:pre;overflow-x:auto;line-height:normal;font-family:Menlo,'DejaVu Sans Mono',consolas,'Courier New',monospace\">Market Return : -3.76%   |   Portfolio Return : -6.02%   |   Position Changes : 315   |   Episode Length : 1330   |\n",
       "</pre>\n"
      ],
      "text/plain": [
       "Market Return : -3.76%   |   Portfolio Return : -6.02%   |   Position Changes : 315   |   Episode Length : 1330   |\n"
      ]
     },
     "metadata": {},
     "output_type": "display_data"
    },
    {
     "data": {
      "text/html": [
       "<pre style=\"white-space:pre;overflow-x:auto;line-height:normal;font-family:Menlo,'DejaVu Sans Mono',consolas,'Courier New',monospace\">Market Return : -3.54%   |   Portfolio Return : -4.84%   |   Position Changes : 254   |   Episode Length : 1330   |\n",
       "</pre>\n"
      ],
      "text/plain": [
       "Market Return : -3.54%   |   Portfolio Return : -4.84%   |   Position Changes : 254   |   Episode Length : 1330   |\n"
      ]
     },
     "metadata": {},
     "output_type": "display_data"
    },
    {
     "data": {
      "text/html": [
       "<pre style=\"white-space:pre;overflow-x:auto;line-height:normal;font-family:Menlo,'DejaVu Sans Mono',consolas,'Courier New',monospace\">Market Return : -10.47%   |   Portfolio Return :  6.74%   |   Position Changes : 330   |   Episode Length : 1330   \n",
       "|   \n",
       "</pre>\n"
      ],
      "text/plain": [
       "Market Return : -10.47%   |   Portfolio Return :  6.74%   |   Position Changes : 330   |   Episode Length : 1330   \n",
       "|   \n"
      ]
     },
     "metadata": {},
     "output_type": "display_data"
    },
    {
     "data": {
      "text/html": [
       "<pre style=\"white-space:pre;overflow-x:auto;line-height:normal;font-family:Menlo,'DejaVu Sans Mono',consolas,'Courier New',monospace\">Market Return :  8.35%   |   Portfolio Return : -3.91%   |   Position Changes : 241   |   Episode Length : 1330   |\n",
       "</pre>\n"
      ],
      "text/plain": [
       "Market Return :  8.35%   |   Portfolio Return : -3.91%   |   Position Changes : 241   |   Episode Length : 1330   |\n"
      ]
     },
     "metadata": {},
     "output_type": "display_data"
    },
    {
     "data": {
      "text/html": [
       "<pre style=\"white-space:pre;overflow-x:auto;line-height:normal;font-family:Menlo,'DejaVu Sans Mono',consolas,'Courier New',monospace\">Market Return : -0.63%   |   Portfolio Return : -6.42%   |   Position Changes : 290   |   Episode Length : 1330   |\n",
       "</pre>\n"
      ],
      "text/plain": [
       "Market Return : -0.63%   |   Portfolio Return : -6.42%   |   Position Changes : 290   |   Episode Length : 1330   |\n"
      ]
     },
     "metadata": {},
     "output_type": "display_data"
    },
    {
     "data": {
      "text/html": [
       "<pre style=\"white-space:pre;overflow-x:auto;line-height:normal;font-family:Menlo,'DejaVu Sans Mono',consolas,'Courier New',monospace\">Market Return : -3.41%   |   Portfolio Return : -2.37%   |   Position Changes : 252   |   Episode Length : 1330   |\n",
       "</pre>\n"
      ],
      "text/plain": [
       "Market Return : -3.41%   |   Portfolio Return : -2.37%   |   Position Changes : 252   |   Episode Length : 1330   |\n"
      ]
     },
     "metadata": {},
     "output_type": "display_data"
    },
    {
     "data": {
      "text/html": [
       "<pre style=\"white-space:pre;overflow-x:auto;line-height:normal;font-family:Menlo,'DejaVu Sans Mono',consolas,'Courier New',monospace\">Market Return : -3.72%   |   Portfolio Return : -4.65%   |   Position Changes : 265   |   Episode Length : 1330   |\n",
       "</pre>\n"
      ],
      "text/plain": [
       "Market Return : -3.72%   |   Portfolio Return : -4.65%   |   Position Changes : 265   |   Episode Length : 1330   |\n"
      ]
     },
     "metadata": {},
     "output_type": "display_data"
    },
    {
     "data": {
      "text/html": [
       "<pre style=\"white-space:pre;overflow-x:auto;line-height:normal;font-family:Menlo,'DejaVu Sans Mono',consolas,'Courier New',monospace\">Market Return : -2.12%   |   Portfolio Return : -2.70%   |   Position Changes : 230   |   Episode Length : 1330   |\n",
       "</pre>\n"
      ],
      "text/plain": [
       "Market Return : -2.12%   |   Portfolio Return : -2.70%   |   Position Changes : 230   |   Episode Length : 1330   |\n"
      ]
     },
     "metadata": {},
     "output_type": "display_data"
    },
    {
     "data": {
      "text/html": [
       "<pre style=\"white-space:pre;overflow-x:auto;line-height:normal;font-family:Menlo,'DejaVu Sans Mono',consolas,'Courier New',monospace\">Market Return : -5.51%   |   Portfolio Return : -2.15%   |   Position Changes : 319   |   Episode Length : 1330   |\n",
       "</pre>\n"
      ],
      "text/plain": [
       "Market Return : -5.51%   |   Portfolio Return : -2.15%   |   Position Changes : 319   |   Episode Length : 1330   |\n"
      ]
     },
     "metadata": {},
     "output_type": "display_data"
    },
    {
     "data": {
      "text/html": [
       "<pre style=\"white-space:pre;overflow-x:auto;line-height:normal;font-family:Menlo,'DejaVu Sans Mono',consolas,'Courier New',monospace\">Market Return : -0.35%   |   Portfolio Return : -4.10%   |   Position Changes : 253   |   Episode Length : 1330   |\n",
       "</pre>\n"
      ],
      "text/plain": [
       "Market Return : -0.35%   |   Portfolio Return : -4.10%   |   Position Changes : 253   |   Episode Length : 1330   |\n"
      ]
     },
     "metadata": {},
     "output_type": "display_data"
    },
    {
     "data": {
      "text/html": [
       "<pre style=\"white-space:pre;overflow-x:auto;line-height:normal;font-family:Menlo,'DejaVu Sans Mono',consolas,'Courier New',monospace\">Market Return : -0.32%   |   Portfolio Return : -4.45%   |   Position Changes : 224   |   Episode Length : 1330   |\n",
       "</pre>\n"
      ],
      "text/plain": [
       "Market Return : -0.32%   |   Portfolio Return : -4.45%   |   Position Changes : 224   |   Episode Length : 1330   |\n"
      ]
     },
     "metadata": {},
     "output_type": "display_data"
    },
    {
     "data": {
      "text/html": [
       "<pre style=\"white-space:pre;overflow-x:auto;line-height:normal;font-family:Menlo,'DejaVu Sans Mono',consolas,'Courier New',monospace\">Market Return : -10.22%   |   Portfolio Return : -5.75%   |   Position Changes : 237   |   Episode Length : 1330   \n",
       "|   \n",
       "</pre>\n"
      ],
      "text/plain": [
       "Market Return : -10.22%   |   Portfolio Return : -5.75%   |   Position Changes : 237   |   Episode Length : 1330   \n",
       "|   \n"
      ]
     },
     "metadata": {},
     "output_type": "display_data"
    },
    {
     "data": {
      "text/html": [
       "<pre style=\"white-space:pre;overflow-x:auto;line-height:normal;font-family:Menlo,'DejaVu Sans Mono',consolas,'Courier New',monospace\">Market Return :  5.62%   |   Portfolio Return :  0.04%   |   Position Changes : 203   |   Episode Length : 1330   |\n",
       "</pre>\n"
      ],
      "text/plain": [
       "Market Return :  5.62%   |   Portfolio Return :  0.04%   |   Position Changes : 203   |   Episode Length : 1330   |\n"
      ]
     },
     "metadata": {},
     "output_type": "display_data"
    },
    {
     "data": {
      "text/html": [
       "<pre style=\"white-space:pre;overflow-x:auto;line-height:normal;font-family:Menlo,'DejaVu Sans Mono',consolas,'Courier New',monospace\">Market Return : -11.88%   |   Portfolio Return : -9.59%   |   Position Changes : 318   |   Episode Length : 1330   \n",
       "|   \n",
       "</pre>\n"
      ],
      "text/plain": [
       "Market Return : -11.88%   |   Portfolio Return : -9.59%   |   Position Changes : 318   |   Episode Length : 1330   \n",
       "|   \n"
      ]
     },
     "metadata": {},
     "output_type": "display_data"
    },
    {
     "data": {
      "text/html": [
       "<pre style=\"white-space:pre;overflow-x:auto;line-height:normal;font-family:Menlo,'DejaVu Sans Mono',consolas,'Courier New',monospace\">Market Return :  2.23%   |   Portfolio Return : -1.73%   |   Position Changes : 171   |   Episode Length : 1330   |\n",
       "</pre>\n"
      ],
      "text/plain": [
       "Market Return :  2.23%   |   Portfolio Return : -1.73%   |   Position Changes : 171   |   Episode Length : 1330   |\n"
      ]
     },
     "metadata": {},
     "output_type": "display_data"
    },
    {
     "data": {
      "text/html": [
       "<pre style=\"white-space:pre;overflow-x:auto;line-height:normal;font-family:Menlo,'DejaVu Sans Mono',consolas,'Courier New',monospace\">Market Return :  3.53%   |   Portfolio Return : -6.37%   |   Position Changes : 224   |   Episode Length : 1330   |\n",
       "</pre>\n"
      ],
      "text/plain": [
       "Market Return :  3.53%   |   Portfolio Return : -6.37%   |   Position Changes : 224   |   Episode Length : 1330   |\n"
      ]
     },
     "metadata": {},
     "output_type": "display_data"
    },
    {
     "data": {
      "text/html": [
       "<pre style=\"white-space:pre;overflow-x:auto;line-height:normal;font-family:Menlo,'DejaVu Sans Mono',consolas,'Courier New',monospace\">Market Return :  4.36%   |   Portfolio Return : -5.48%   |   Position Changes : 232   |   Episode Length : 1330   |\n",
       "</pre>\n"
      ],
      "text/plain": [
       "Market Return :  4.36%   |   Portfolio Return : -5.48%   |   Position Changes : 232   |   Episode Length : 1330   |\n"
      ]
     },
     "metadata": {},
     "output_type": "display_data"
    },
    {
     "data": {
      "text/html": [
       "<pre style=\"white-space:pre;overflow-x:auto;line-height:normal;font-family:Menlo,'DejaVu Sans Mono',consolas,'Courier New',monospace\">Market Return : -1.96%   |   Portfolio Return : -7.74%   |   Position Changes : 273   |   Episode Length : 1330   |\n",
       "</pre>\n"
      ],
      "text/plain": [
       "Market Return : -1.96%   |   Portfolio Return : -7.74%   |   Position Changes : 273   |   Episode Length : 1330   |\n"
      ]
     },
     "metadata": {},
     "output_type": "display_data"
    },
    {
     "data": {
      "text/html": [
       "<pre style=\"white-space:pre;overflow-x:auto;line-height:normal;font-family:Menlo,'DejaVu Sans Mono',consolas,'Courier New',monospace\">Market Return :  3.85%   |   Portfolio Return : -6.80%   |   Position Changes : 240   |   Episode Length : 1330   |\n",
       "</pre>\n"
      ],
      "text/plain": [
       "Market Return :  3.85%   |   Portfolio Return : -6.80%   |   Position Changes : 240   |   Episode Length : 1330   |\n"
      ]
     },
     "metadata": {},
     "output_type": "display_data"
    },
    {
     "data": {
      "text/html": [
       "<pre style=\"white-space:pre;overflow-x:auto;line-height:normal;font-family:Menlo,'DejaVu Sans Mono',consolas,'Courier New',monospace\">Market Return :  1.91%   |   Portfolio Return : -2.41%   |   Position Changes : 218   |   Episode Length : 1330   |\n",
       "</pre>\n"
      ],
      "text/plain": [
       "Market Return :  1.91%   |   Portfolio Return : -2.41%   |   Position Changes : 218   |   Episode Length : 1330   |\n"
      ]
     },
     "metadata": {},
     "output_type": "display_data"
    },
    {
     "data": {
      "text/html": [
       "<pre style=\"white-space:pre;overflow-x:auto;line-height:normal;font-family:Menlo,'DejaVu Sans Mono',consolas,'Courier New',monospace\">Market Return :  1.26%   |   Portfolio Return : -6.93%   |   Position Changes : 259   |   Episode Length : 1330   |\n",
       "</pre>\n"
      ],
      "text/plain": [
       "Market Return :  1.26%   |   Portfolio Return : -6.93%   |   Position Changes : 259   |   Episode Length : 1330   |\n"
      ]
     },
     "metadata": {},
     "output_type": "display_data"
    },
    {
     "data": {
      "text/html": [
       "<pre style=\"white-space:pre;overflow-x:auto;line-height:normal;font-family:Menlo,'DejaVu Sans Mono',consolas,'Courier New',monospace\">Market Return :  3.24%   |   Portfolio Return : -7.01%   |   Position Changes : 222   |   Episode Length : 1330   |\n",
       "</pre>\n"
      ],
      "text/plain": [
       "Market Return :  3.24%   |   Portfolio Return : -7.01%   |   Position Changes : 222   |   Episode Length : 1330   |\n"
      ]
     },
     "metadata": {},
     "output_type": "display_data"
    },
    {
     "data": {
      "text/html": [
       "<pre style=\"white-space:pre;overflow-x:auto;line-height:normal;font-family:Menlo,'DejaVu Sans Mono',consolas,'Courier New',monospace\">Market Return :  1.24%   |   Portfolio Return : -2.85%   |   Position Changes : 217   |   Episode Length : 1330   |\n",
       "</pre>\n"
      ],
      "text/plain": [
       "Market Return :  1.24%   |   Portfolio Return : -2.85%   |   Position Changes : 217   |   Episode Length : 1330   |\n"
      ]
     },
     "metadata": {},
     "output_type": "display_data"
    },
    {
     "data": {
      "text/html": [
       "<pre style=\"white-space:pre;overflow-x:auto;line-height:normal;font-family:Menlo,'DejaVu Sans Mono',consolas,'Courier New',monospace\">Market Return :  4.77%   |   Portfolio Return : -1.68%   |   Position Changes : 207   |   Episode Length : 1330   |\n",
       "</pre>\n"
      ],
      "text/plain": [
       "Market Return :  4.77%   |   Portfolio Return : -1.68%   |   Position Changes : 207   |   Episode Length : 1330   |\n"
      ]
     },
     "metadata": {},
     "output_type": "display_data"
    },
    {
     "data": {
      "text/html": [
       "<pre style=\"white-space:pre;overflow-x:auto;line-height:normal;font-family:Menlo,'DejaVu Sans Mono',consolas,'Courier New',monospace\">Market Return : -0.81%   |   Portfolio Return : -4.55%   |   Position Changes : 202   |   Episode Length : 1330   |\n",
       "</pre>\n"
      ],
      "text/plain": [
       "Market Return : -0.81%   |   Portfolio Return : -4.55%   |   Position Changes : 202   |   Episode Length : 1330   |\n"
      ]
     },
     "metadata": {},
     "output_type": "display_data"
    },
    {
     "data": {
      "text/html": [
       "<pre style=\"white-space:pre;overflow-x:auto;line-height:normal;font-family:Menlo,'DejaVu Sans Mono',consolas,'Courier New',monospace\">Market Return : -2.15%   |   Portfolio Return : -6.52%   |   Position Changes : 307   |   Episode Length : 1330   |\n",
       "</pre>\n"
      ],
      "text/plain": [
       "Market Return : -2.15%   |   Portfolio Return : -6.52%   |   Position Changes : 307   |   Episode Length : 1330   |\n"
      ]
     },
     "metadata": {},
     "output_type": "display_data"
    },
    {
     "data": {
      "text/html": [
       "<pre style=\"white-space:pre;overflow-x:auto;line-height:normal;font-family:Menlo,'DejaVu Sans Mono',consolas,'Courier New',monospace\">Market Return :  0.65%   |   Portfolio Return : -3.85%   |   Position Changes : 181   |   Episode Length : 1330   |\n",
       "</pre>\n"
      ],
      "text/plain": [
       "Market Return :  0.65%   |   Portfolio Return : -3.85%   |   Position Changes : 181   |   Episode Length : 1330   |\n"
      ]
     },
     "metadata": {},
     "output_type": "display_data"
    },
    {
     "data": {
      "text/html": [
       "<pre style=\"white-space:pre;overflow-x:auto;line-height:normal;font-family:Menlo,'DejaVu Sans Mono',consolas,'Courier New',monospace\">Market Return :  4.20%   |   Portfolio Return :  1.95%   |   Position Changes : 291   |   Episode Length : 1330   |\n",
       "</pre>\n"
      ],
      "text/plain": [
       "Market Return :  4.20%   |   Portfolio Return :  1.95%   |   Position Changes : 291   |   Episode Length : 1330   |\n"
      ]
     },
     "metadata": {},
     "output_type": "display_data"
    },
    {
     "data": {
      "text/html": [
       "<pre style=\"white-space:pre;overflow-x:auto;line-height:normal;font-family:Menlo,'DejaVu Sans Mono',consolas,'Courier New',monospace\">Market Return : -0.89%   |   Portfolio Return : -6.68%   |   Position Changes : 204   |   Episode Length : 1330   |\n",
       "</pre>\n"
      ],
      "text/plain": [
       "Market Return : -0.89%   |   Portfolio Return : -6.68%   |   Position Changes : 204   |   Episode Length : 1330   |\n"
      ]
     },
     "metadata": {},
     "output_type": "display_data"
    },
    {
     "data": {
      "text/html": [
       "<pre style=\"white-space:pre;overflow-x:auto;line-height:normal;font-family:Menlo,'DejaVu Sans Mono',consolas,'Courier New',monospace\">Market Return :  2.60%   |   Portfolio Return : -2.07%   |   Position Changes : 229   |   Episode Length : 1330   |\n",
       "</pre>\n"
      ],
      "text/plain": [
       "Market Return :  2.60%   |   Portfolio Return : -2.07%   |   Position Changes : 229   |   Episode Length : 1330   |\n"
      ]
     },
     "metadata": {},
     "output_type": "display_data"
    },
    {
     "data": {
      "text/html": [
       "<pre style=\"white-space:pre;overflow-x:auto;line-height:normal;font-family:Menlo,'DejaVu Sans Mono',consolas,'Courier New',monospace\">Market Return : -1.37%   |   Portfolio Return : -3.57%   |   Position Changes : 223   |   Episode Length : 1330   |\n",
       "</pre>\n"
      ],
      "text/plain": [
       "Market Return : -1.37%   |   Portfolio Return : -3.57%   |   Position Changes : 223   |   Episode Length : 1330   |\n"
      ]
     },
     "metadata": {},
     "output_type": "display_data"
    },
    {
     "data": {
      "text/html": [
       "<pre style=\"white-space:pre;overflow-x:auto;line-height:normal;font-family:Menlo,'DejaVu Sans Mono',consolas,'Courier New',monospace\">Market Return : -0.13%   |   Portfolio Return : -5.57%   |   Position Changes : 194   |   Episode Length : 1330   |\n",
       "</pre>\n"
      ],
      "text/plain": [
       "Market Return : -0.13%   |   Portfolio Return : -5.57%   |   Position Changes : 194   |   Episode Length : 1330   |\n"
      ]
     },
     "metadata": {},
     "output_type": "display_data"
    },
    {
     "data": {
      "text/html": [
       "<pre style=\"white-space:pre;overflow-x:auto;line-height:normal;font-family:Menlo,'DejaVu Sans Mono',consolas,'Courier New',monospace\">Market Return :  0.51%   |   Portfolio Return : -4.68%   |   Position Changes : 295   |   Episode Length : 1330   |\n",
       "</pre>\n"
      ],
      "text/plain": [
       "Market Return :  0.51%   |   Portfolio Return : -4.68%   |   Position Changes : 295   |   Episode Length : 1330   |\n"
      ]
     },
     "metadata": {},
     "output_type": "display_data"
    },
    {
     "data": {
      "text/html": [
       "<pre style=\"white-space:pre;overflow-x:auto;line-height:normal;font-family:Menlo,'DejaVu Sans Mono',consolas,'Courier New',monospace\">Market Return : -3.52%   |   Portfolio Return : -4.66%   |   Position Changes : 262   |   Episode Length : 1330   |\n",
       "</pre>\n"
      ],
      "text/plain": [
       "Market Return : -3.52%   |   Portfolio Return : -4.66%   |   Position Changes : 262   |   Episode Length : 1330   |\n"
      ]
     },
     "metadata": {},
     "output_type": "display_data"
    },
    {
     "data": {
      "text/html": [
       "<pre style=\"white-space:pre;overflow-x:auto;line-height:normal;font-family:Menlo,'DejaVu Sans Mono',consolas,'Courier New',monospace\">Market Return : -0.53%   |   Portfolio Return :  1.67%   |   Position Changes : 216   |   Episode Length : 1330   |\n",
       "</pre>\n"
      ],
      "text/plain": [
       "Market Return : -0.53%   |   Portfolio Return :  1.67%   |   Position Changes : 216   |   Episode Length : 1330   |\n"
      ]
     },
     "metadata": {},
     "output_type": "display_data"
    },
    {
     "data": {
      "text/html": [
       "<pre style=\"white-space:pre;overflow-x:auto;line-height:normal;font-family:Menlo,'DejaVu Sans Mono',consolas,'Courier New',monospace\">Market Return :  1.85%   |   Portfolio Return : -6.37%   |   Position Changes : 291   |   Episode Length : 1330   |\n",
       "</pre>\n"
      ],
      "text/plain": [
       "Market Return :  1.85%   |   Portfolio Return : -6.37%   |   Position Changes : 291   |   Episode Length : 1330   |\n"
      ]
     },
     "metadata": {},
     "output_type": "display_data"
    },
    {
     "data": {
      "text/html": [
       "<pre style=\"white-space:pre;overflow-x:auto;line-height:normal;font-family:Menlo,'DejaVu Sans Mono',consolas,'Courier New',monospace\">Market Return :  1.70%   |   Portfolio Return : -4.07%   |   Position Changes : 245   |   Episode Length : 1330   |\n",
       "</pre>\n"
      ],
      "text/plain": [
       "Market Return :  1.70%   |   Portfolio Return : -4.07%   |   Position Changes : 245   |   Episode Length : 1330   |\n"
      ]
     },
     "metadata": {},
     "output_type": "display_data"
    },
    {
     "data": {
      "text/html": [
       "<pre style=\"white-space:pre;overflow-x:auto;line-height:normal;font-family:Menlo,'DejaVu Sans Mono',consolas,'Courier New',monospace\">Market Return :  0.08%   |   Portfolio Return : -0.26%   |   Position Changes : 268   |   Episode Length : 1330   |\n",
       "</pre>\n"
      ],
      "text/plain": [
       "Market Return :  0.08%   |   Portfolio Return : -0.26%   |   Position Changes : 268   |   Episode Length : 1330   |\n"
      ]
     },
     "metadata": {},
     "output_type": "display_data"
    },
    {
     "data": {
      "text/html": [
       "<pre style=\"white-space:pre;overflow-x:auto;line-height:normal;font-family:Menlo,'DejaVu Sans Mono',consolas,'Courier New',monospace\">Market Return :  2.39%   |   Portfolio Return : -3.98%   |   Position Changes : 201   |   Episode Length : 1330   |\n",
       "</pre>\n"
      ],
      "text/plain": [
       "Market Return :  2.39%   |   Portfolio Return : -3.98%   |   Position Changes : 201   |   Episode Length : 1330   |\n"
      ]
     },
     "metadata": {},
     "output_type": "display_data"
    },
    {
     "data": {
      "text/html": [
       "<pre style=\"white-space:pre;overflow-x:auto;line-height:normal;font-family:Menlo,'DejaVu Sans Mono',consolas,'Courier New',monospace\">Market Return :  5.76%   |   Portfolio Return : -5.42%   |   Position Changes : 296   |   Episode Length : 1330   |\n",
       "</pre>\n"
      ],
      "text/plain": [
       "Market Return :  5.76%   |   Portfolio Return : -5.42%   |   Position Changes : 296   |   Episode Length : 1330   |\n"
      ]
     },
     "metadata": {},
     "output_type": "display_data"
    },
    {
     "data": {
      "text/html": [
       "<pre style=\"white-space:pre;overflow-x:auto;line-height:normal;font-family:Menlo,'DejaVu Sans Mono',consolas,'Courier New',monospace\">Market Return :  0.00%   |   Portfolio Return : -6.05%   |   Position Changes : 287   |   Episode Length : 1330   |\n",
       "</pre>\n"
      ],
      "text/plain": [
       "Market Return :  0.00%   |   Portfolio Return : -6.05%   |   Position Changes : 287   |   Episode Length : 1330   |\n"
      ]
     },
     "metadata": {},
     "output_type": "display_data"
    },
    {
     "data": {
      "text/html": [
       "<pre style=\"white-space:pre;overflow-x:auto;line-height:normal;font-family:Menlo,'DejaVu Sans Mono',consolas,'Courier New',monospace\">Market Return :  0.57%   |   Portfolio Return : -7.56%   |   Position Changes : 267   |   Episode Length : 1330   |\n",
       "</pre>\n"
      ],
      "text/plain": [
       "Market Return :  0.57%   |   Portfolio Return : -7.56%   |   Position Changes : 267   |   Episode Length : 1330   |\n"
      ]
     },
     "metadata": {},
     "output_type": "display_data"
    },
    {
     "data": {
      "text/html": [
       "<pre style=\"white-space:pre;overflow-x:auto;line-height:normal;font-family:Menlo,'DejaVu Sans Mono',consolas,'Courier New',monospace\">Market Return :  2.36%   |   Portfolio Return : -3.49%   |   Position Changes : 228   |   Episode Length : 1330   |\n",
       "</pre>\n"
      ],
      "text/plain": [
       "Market Return :  2.36%   |   Portfolio Return : -3.49%   |   Position Changes : 228   |   Episode Length : 1330   |\n"
      ]
     },
     "metadata": {},
     "output_type": "display_data"
    },
    {
     "data": {
      "text/html": [
       "<pre style=\"white-space:pre;overflow-x:auto;line-height:normal;font-family:Menlo,'DejaVu Sans Mono',consolas,'Courier New',monospace\">Market Return : -0.36%   |   Portfolio Return : -2.88%   |   Position Changes : 246   |   Episode Length : 1330   |\n",
       "</pre>\n"
      ],
      "text/plain": [
       "Market Return : -0.36%   |   Portfolio Return : -2.88%   |   Position Changes : 246   |   Episode Length : 1330   |\n"
      ]
     },
     "metadata": {},
     "output_type": "display_data"
    },
    {
     "data": {
      "text/html": [
       "<pre style=\"white-space:pre;overflow-x:auto;line-height:normal;font-family:Menlo,'DejaVu Sans Mono',consolas,'Courier New',monospace\">Market Return :  0.01%   |   Portfolio Return : -2.65%   |   Position Changes : 276   |   Episode Length : 1330   |\n",
       "</pre>\n"
      ],
      "text/plain": [
       "Market Return :  0.01%   |   Portfolio Return : -2.65%   |   Position Changes : 276   |   Episode Length : 1330   |\n"
      ]
     },
     "metadata": {},
     "output_type": "display_data"
    },
    {
     "data": {
      "text/html": [
       "<pre style=\"white-space:pre;overflow-x:auto;line-height:normal;font-family:Menlo,'DejaVu Sans Mono',consolas,'Courier New',monospace\">Market Return :  1.06%   |   Portfolio Return : -4.79%   |   Position Changes : 230   |   Episode Length : 1330   |\n",
       "</pre>\n"
      ],
      "text/plain": [
       "Market Return :  1.06%   |   Portfolio Return : -4.79%   |   Position Changes : 230   |   Episode Length : 1330   |\n"
      ]
     },
     "metadata": {},
     "output_type": "display_data"
    },
    {
     "data": {
      "text/html": [
       "<pre style=\"white-space:pre;overflow-x:auto;line-height:normal;font-family:Menlo,'DejaVu Sans Mono',consolas,'Courier New',monospace\">Market Return : 13.26%   |   Portfolio Return : -20.79%   |   Position Changes : 357   |   Episode Length : 1330   \n",
       "|   \n",
       "</pre>\n"
      ],
      "text/plain": [
       "Market Return : 13.26%   |   Portfolio Return : -20.79%   |   Position Changes : 357   |   Episode Length : 1330   \n",
       "|   \n"
      ]
     },
     "metadata": {},
     "output_type": "display_data"
    },
    {
     "data": {
      "text/html": [
       "<pre style=\"white-space:pre;overflow-x:auto;line-height:normal;font-family:Menlo,'DejaVu Sans Mono',consolas,'Courier New',monospace\">Market Return :  4.44%   |   Portfolio Return : -3.53%   |   Position Changes : 190   |   Episode Length : 1330   |\n",
       "</pre>\n"
      ],
      "text/plain": [
       "Market Return :  4.44%   |   Portfolio Return : -3.53%   |   Position Changes : 190   |   Episode Length : 1330   |\n"
      ]
     },
     "metadata": {},
     "output_type": "display_data"
    },
    {
     "data": {
      "text/html": [
       "<pre style=\"white-space:pre;overflow-x:auto;line-height:normal;font-family:Menlo,'DejaVu Sans Mono',consolas,'Courier New',monospace\">Market Return : -8.01%   |   Portfolio Return : -7.61%   |   Position Changes : 279   |   Episode Length : 1330   |\n",
       "</pre>\n"
      ],
      "text/plain": [
       "Market Return : -8.01%   |   Portfolio Return : -7.61%   |   Position Changes : 279   |   Episode Length : 1330   |\n"
      ]
     },
     "metadata": {},
     "output_type": "display_data"
    },
    {
     "data": {
      "text/html": [
       "<pre style=\"white-space:pre;overflow-x:auto;line-height:normal;font-family:Menlo,'DejaVu Sans Mono',consolas,'Courier New',monospace\">Market Return :  2.08%   |   Portfolio Return : -2.56%   |   Position Changes : 271   |   Episode Length : 1330   |\n",
       "</pre>\n"
      ],
      "text/plain": [
       "Market Return :  2.08%   |   Portfolio Return : -2.56%   |   Position Changes : 271   |   Episode Length : 1330   |\n"
      ]
     },
     "metadata": {},
     "output_type": "display_data"
    },
    {
     "data": {
      "text/html": [
       "<pre style=\"white-space:pre;overflow-x:auto;line-height:normal;font-family:Menlo,'DejaVu Sans Mono',consolas,'Courier New',monospace\">Market Return : -1.71%   |   Portfolio Return : -3.66%   |   Position Changes : 216   |   Episode Length : 1330   |\n",
       "</pre>\n"
      ],
      "text/plain": [
       "Market Return : -1.71%   |   Portfolio Return : -3.66%   |   Position Changes : 216   |   Episode Length : 1330   |\n"
      ]
     },
     "metadata": {},
     "output_type": "display_data"
    },
    {
     "data": {
      "text/html": [
       "<pre style=\"white-space:pre;overflow-x:auto;line-height:normal;font-family:Menlo,'DejaVu Sans Mono',consolas,'Courier New',monospace\">Market Return : -4.85%   |   Portfolio Return : -0.07%   |   Position Changes : 280   |   Episode Length : 1330   |\n",
       "</pre>\n"
      ],
      "text/plain": [
       "Market Return : -4.85%   |   Portfolio Return : -0.07%   |   Position Changes : 280   |   Episode Length : 1330   |\n"
      ]
     },
     "metadata": {},
     "output_type": "display_data"
    },
    {
     "data": {
      "text/html": [
       "<pre style=\"white-space:pre;overflow-x:auto;line-height:normal;font-family:Menlo,'DejaVu Sans Mono',consolas,'Courier New',monospace\">Market Return :  1.58%   |   Portfolio Return : -10.54%   |   Position Changes : 333   |   Episode Length : 1330   \n",
       "|   \n",
       "</pre>\n"
      ],
      "text/plain": [
       "Market Return :  1.58%   |   Portfolio Return : -10.54%   |   Position Changes : 333   |   Episode Length : 1330   \n",
       "|   \n"
      ]
     },
     "metadata": {},
     "output_type": "display_data"
    },
    {
     "data": {
      "text/html": [
       "<pre style=\"white-space:pre;overflow-x:auto;line-height:normal;font-family:Menlo,'DejaVu Sans Mono',consolas,'Courier New',monospace\">Market Return : -0.34%   |   Portfolio Return : -4.90%   |   Position Changes : 221   |   Episode Length : 1330   |\n",
       "</pre>\n"
      ],
      "text/plain": [
       "Market Return : -0.34%   |   Portfolio Return : -4.90%   |   Position Changes : 221   |   Episode Length : 1330   |\n"
      ]
     },
     "metadata": {},
     "output_type": "display_data"
    },
    {
     "data": {
      "text/html": [
       "<pre style=\"white-space:pre;overflow-x:auto;line-height:normal;font-family:Menlo,'DejaVu Sans Mono',consolas,'Courier New',monospace\">Market Return :  0.25%   |   Portfolio Return : -6.25%   |   Position Changes : 279   |   Episode Length : 1330   |\n",
       "</pre>\n"
      ],
      "text/plain": [
       "Market Return :  0.25%   |   Portfolio Return : -6.25%   |   Position Changes : 279   |   Episode Length : 1330   |\n"
      ]
     },
     "metadata": {},
     "output_type": "display_data"
    },
    {
     "data": {
      "text/html": [
       "<pre style=\"white-space:pre;overflow-x:auto;line-height:normal;font-family:Menlo,'DejaVu Sans Mono',consolas,'Courier New',monospace\">Market Return : -0.18%   |   Portfolio Return : -4.20%   |   Position Changes : 217   |   Episode Length : 1330   |\n",
       "</pre>\n"
      ],
      "text/plain": [
       "Market Return : -0.18%   |   Portfolio Return : -4.20%   |   Position Changes : 217   |   Episode Length : 1330   |\n"
      ]
     },
     "metadata": {},
     "output_type": "display_data"
    },
    {
     "data": {
      "text/html": [
       "<pre style=\"white-space:pre;overflow-x:auto;line-height:normal;font-family:Menlo,'DejaVu Sans Mono',consolas,'Courier New',monospace\">Market Return :  2.81%   |   Portfolio Return : -3.01%   |   Position Changes : 287   |   Episode Length : 1330   |\n",
       "</pre>\n"
      ],
      "text/plain": [
       "Market Return :  2.81%   |   Portfolio Return : -3.01%   |   Position Changes : 287   |   Episode Length : 1330   |\n"
      ]
     },
     "metadata": {},
     "output_type": "display_data"
    },
    {
     "data": {
      "text/html": [
       "<pre style=\"white-space:pre;overflow-x:auto;line-height:normal;font-family:Menlo,'DejaVu Sans Mono',consolas,'Courier New',monospace\">Market Return :  2.28%   |   Portfolio Return : -10.39%   |   Position Changes : 312   |   Episode Length : 1330   \n",
       "|   \n",
       "</pre>\n"
      ],
      "text/plain": [
       "Market Return :  2.28%   |   Portfolio Return : -10.39%   |   Position Changes : 312   |   Episode Length : 1330   \n",
       "|   \n"
      ]
     },
     "metadata": {},
     "output_type": "display_data"
    },
    {
     "data": {
      "text/html": [
       "<pre style=\"white-space:pre;overflow-x:auto;line-height:normal;font-family:Menlo,'DejaVu Sans Mono',consolas,'Courier New',monospace\">Market Return : -2.80%   |   Portfolio Return : -12.83%   |   Position Changes : 441   |   Episode Length : 1330   \n",
       "|   \n",
       "</pre>\n"
      ],
      "text/plain": [
       "Market Return : -2.80%   |   Portfolio Return : -12.83%   |   Position Changes : 441   |   Episode Length : 1330   \n",
       "|   \n"
      ]
     },
     "metadata": {},
     "output_type": "display_data"
    },
    {
     "data": {
      "text/html": [
       "<pre style=\"white-space:pre;overflow-x:auto;line-height:normal;font-family:Menlo,'DejaVu Sans Mono',consolas,'Courier New',monospace\">Market Return : 11.98%   |   Portfolio Return : -12.43%   |   Position Changes : 234   |   Episode Length : 1330   \n",
       "|   \n",
       "</pre>\n"
      ],
      "text/plain": [
       "Market Return : 11.98%   |   Portfolio Return : -12.43%   |   Position Changes : 234   |   Episode Length : 1330   \n",
       "|   \n"
      ]
     },
     "metadata": {},
     "output_type": "display_data"
    },
    {
     "data": {
      "text/html": [
       "<pre style=\"white-space:pre;overflow-x:auto;line-height:normal;font-family:Menlo,'DejaVu Sans Mono',consolas,'Courier New',monospace\">Market Return :  0.92%   |   Portfolio Return : -3.84%   |   Position Changes : 268   |   Episode Length : 1330   |\n",
       "</pre>\n"
      ],
      "text/plain": [
       "Market Return :  0.92%   |   Portfolio Return : -3.84%   |   Position Changes : 268   |   Episode Length : 1330   |\n"
      ]
     },
     "metadata": {},
     "output_type": "display_data"
    },
    {
     "data": {
      "text/html": [
       "<pre style=\"white-space:pre;overflow-x:auto;line-height:normal;font-family:Menlo,'DejaVu Sans Mono',consolas,'Courier New',monospace\">Market Return :  0.49%   |   Portfolio Return : -2.56%   |   Position Changes : 267   |   Episode Length : 1330   |\n",
       "</pre>\n"
      ],
      "text/plain": [
       "Market Return :  0.49%   |   Portfolio Return : -2.56%   |   Position Changes : 267   |   Episode Length : 1330   |\n"
      ]
     },
     "metadata": {},
     "output_type": "display_data"
    },
    {
     "data": {
      "text/html": [
       "<pre style=\"white-space:pre;overflow-x:auto;line-height:normal;font-family:Menlo,'DejaVu Sans Mono',consolas,'Courier New',monospace\">Market Return :  0.77%   |   Portfolio Return : -5.70%   |   Position Changes : 238   |   Episode Length : 1330   |\n",
       "</pre>\n"
      ],
      "text/plain": [
       "Market Return :  0.77%   |   Portfolio Return : -5.70%   |   Position Changes : 238   |   Episode Length : 1330   |\n"
      ]
     },
     "metadata": {},
     "output_type": "display_data"
    },
    {
     "data": {
      "text/html": [
       "<pre style=\"white-space:pre;overflow-x:auto;line-height:normal;font-family:Menlo,'DejaVu Sans Mono',consolas,'Courier New',monospace\">Market Return :  4.10%   |   Portfolio Return : -0.50%   |   Position Changes : 196   |   Episode Length : 1330   |\n",
       "</pre>\n"
      ],
      "text/plain": [
       "Market Return :  4.10%   |   Portfolio Return : -0.50%   |   Position Changes : 196   |   Episode Length : 1330   |\n"
      ]
     },
     "metadata": {},
     "output_type": "display_data"
    },
    {
     "data": {
      "text/html": [
       "<pre style=\"white-space:pre;overflow-x:auto;line-height:normal;font-family:Menlo,'DejaVu Sans Mono',consolas,'Courier New',monospace\">Market Return : -2.13%   |   Portfolio Return : -3.13%   |   Position Changes : 206   |   Episode Length : 1330   |\n",
       "</pre>\n"
      ],
      "text/plain": [
       "Market Return : -2.13%   |   Portfolio Return : -3.13%   |   Position Changes : 206   |   Episode Length : 1330   |\n"
      ]
     },
     "metadata": {},
     "output_type": "display_data"
    },
    {
     "data": {
      "text/html": [
       "<pre style=\"white-space:pre;overflow-x:auto;line-height:normal;font-family:Menlo,'DejaVu Sans Mono',consolas,'Courier New',monospace\">Market Return :  1.21%   |   Portfolio Return : -1.64%   |   Position Changes : 248   |   Episode Length : 1330   |\n",
       "</pre>\n"
      ],
      "text/plain": [
       "Market Return :  1.21%   |   Portfolio Return : -1.64%   |   Position Changes : 248   |   Episode Length : 1330   |\n"
      ]
     },
     "metadata": {},
     "output_type": "display_data"
    },
    {
     "data": {
      "text/html": [
       "<pre style=\"white-space:pre;overflow-x:auto;line-height:normal;font-family:Menlo,'DejaVu Sans Mono',consolas,'Courier New',monospace\">Market Return : -8.95%   |   Portfolio Return : -13.39%   |   Position Changes : 286   |   Episode Length : 1330   \n",
       "|   \n",
       "</pre>\n"
      ],
      "text/plain": [
       "Market Return : -8.95%   |   Portfolio Return : -13.39%   |   Position Changes : 286   |   Episode Length : 1330   \n",
       "|   \n"
      ]
     },
     "metadata": {},
     "output_type": "display_data"
    },
    {
     "data": {
      "text/html": [
       "<pre style=\"white-space:pre;overflow-x:auto;line-height:normal;font-family:Menlo,'DejaVu Sans Mono',consolas,'Courier New',monospace\">Market Return : -2.89%   |   Portfolio Return : -3.76%   |   Position Changes : 201   |   Episode Length : 1330   |\n",
       "</pre>\n"
      ],
      "text/plain": [
       "Market Return : -2.89%   |   Portfolio Return : -3.76%   |   Position Changes : 201   |   Episode Length : 1330   |\n"
      ]
     },
     "metadata": {},
     "output_type": "display_data"
    },
    {
     "data": {
      "text/html": [
       "<pre style=\"white-space:pre;overflow-x:auto;line-height:normal;font-family:Menlo,'DejaVu Sans Mono',consolas,'Courier New',monospace\">Market Return : -7.08%   |   Portfolio Return : -4.32%   |   Position Changes : 292   |   Episode Length : 1330   |\n",
       "</pre>\n"
      ],
      "text/plain": [
       "Market Return : -7.08%   |   Portfolio Return : -4.32%   |   Position Changes : 292   |   Episode Length : 1330   |\n"
      ]
     },
     "metadata": {},
     "output_type": "display_data"
    },
    {
     "data": {
      "text/html": [
       "<pre style=\"white-space:pre;overflow-x:auto;line-height:normal;font-family:Menlo,'DejaVu Sans Mono',consolas,'Courier New',monospace\">Market Return :  0.21%   |   Portfolio Return : -2.07%   |   Position Changes : 272   |   Episode Length : 1330   |\n",
       "</pre>\n"
      ],
      "text/plain": [
       "Market Return :  0.21%   |   Portfolio Return : -2.07%   |   Position Changes : 272   |   Episode Length : 1330   |\n"
      ]
     },
     "metadata": {},
     "output_type": "display_data"
    },
    {
     "data": {
      "text/html": [
       "<pre style=\"white-space:pre;overflow-x:auto;line-height:normal;font-family:Menlo,'DejaVu Sans Mono',consolas,'Courier New',monospace\">Market Return :  0.52%   |   Portfolio Return : -5.36%   |   Position Changes : 233   |   Episode Length : 1330   |\n",
       "</pre>\n"
      ],
      "text/plain": [
       "Market Return :  0.52%   |   Portfolio Return : -5.36%   |   Position Changes : 233   |   Episode Length : 1330   |\n"
      ]
     },
     "metadata": {},
     "output_type": "display_data"
    },
    {
     "data": {
      "text/html": [
       "<pre style=\"white-space:pre;overflow-x:auto;line-height:normal;font-family:Menlo,'DejaVu Sans Mono',consolas,'Courier New',monospace\">Market Return : -1.38%   |   Portfolio Return : -5.83%   |   Position Changes : 229   |   Episode Length : 1330   |\n",
       "</pre>\n"
      ],
      "text/plain": [
       "Market Return : -1.38%   |   Portfolio Return : -5.83%   |   Position Changes : 229   |   Episode Length : 1330   |\n"
      ]
     },
     "metadata": {},
     "output_type": "display_data"
    },
    {
     "data": {
      "text/html": [
       "<pre style=\"white-space:pre;overflow-x:auto;line-height:normal;font-family:Menlo,'DejaVu Sans Mono',consolas,'Courier New',monospace\">Market Return : -4.03%   |   Portfolio Return : -6.42%   |   Position Changes : 309   |   Episode Length : 1330   |\n",
       "</pre>\n"
      ],
      "text/plain": [
       "Market Return : -4.03%   |   Portfolio Return : -6.42%   |   Position Changes : 309   |   Episode Length : 1330   |\n"
      ]
     },
     "metadata": {},
     "output_type": "display_data"
    },
    {
     "data": {
      "text/html": [
       "<pre style=\"white-space:pre;overflow-x:auto;line-height:normal;font-family:Menlo,'DejaVu Sans Mono',consolas,'Courier New',monospace\">Market Return : -0.22%   |   Portfolio Return : -7.68%   |   Position Changes : 241   |   Episode Length : 1330   |\n",
       "</pre>\n"
      ],
      "text/plain": [
       "Market Return : -0.22%   |   Portfolio Return : -7.68%   |   Position Changes : 241   |   Episode Length : 1330   |\n"
      ]
     },
     "metadata": {},
     "output_type": "display_data"
    },
    {
     "data": {
      "text/html": [
       "<pre style=\"white-space:pre;overflow-x:auto;line-height:normal;font-family:Menlo,'DejaVu Sans Mono',consolas,'Courier New',monospace\">Market Return :  0.40%   |   Portfolio Return : -1.62%   |   Position Changes : 242   |   Episode Length : 1330   |\n",
       "</pre>\n"
      ],
      "text/plain": [
       "Market Return :  0.40%   |   Portfolio Return : -1.62%   |   Position Changes : 242   |   Episode Length : 1330   |\n"
      ]
     },
     "metadata": {},
     "output_type": "display_data"
    },
    {
     "data": {
      "text/html": [
       "<pre style=\"white-space:pre;overflow-x:auto;line-height:normal;font-family:Menlo,'DejaVu Sans Mono',consolas,'Courier New',monospace\">Market Return :  0.42%   |   Portfolio Return : -3.46%   |   Position Changes : 251   |   Episode Length : 1330   |\n",
       "</pre>\n"
      ],
      "text/plain": [
       "Market Return :  0.42%   |   Portfolio Return : -3.46%   |   Position Changes : 251   |   Episode Length : 1330   |\n"
      ]
     },
     "metadata": {},
     "output_type": "display_data"
    },
    {
     "data": {
      "text/html": [
       "<pre style=\"white-space:pre;overflow-x:auto;line-height:normal;font-family:Menlo,'DejaVu Sans Mono',consolas,'Courier New',monospace\">Market Return :  2.71%   |   Portfolio Return : -3.76%   |   Position Changes : 245   |   Episode Length : 1330   |\n",
       "</pre>\n"
      ],
      "text/plain": [
       "Market Return :  2.71%   |   Portfolio Return : -3.76%   |   Position Changes : 245   |   Episode Length : 1330   |\n"
      ]
     },
     "metadata": {},
     "output_type": "display_data"
    },
    {
     "data": {
      "text/html": [
       "<pre style=\"white-space:pre;overflow-x:auto;line-height:normal;font-family:Menlo,'DejaVu Sans Mono',consolas,'Courier New',monospace\">Market Return :  2.72%   |   Portfolio Return : -2.03%   |   Position Changes : 236   |   Episode Length : 1330   |\n",
       "</pre>\n"
      ],
      "text/plain": [
       "Market Return :  2.72%   |   Portfolio Return : -2.03%   |   Position Changes : 236   |   Episode Length : 1330   |\n"
      ]
     },
     "metadata": {},
     "output_type": "display_data"
    },
    {
     "data": {
      "text/html": [
       "<pre style=\"white-space:pre;overflow-x:auto;line-height:normal;font-family:Menlo,'DejaVu Sans Mono',consolas,'Courier New',monospace\">Market Return :  0.45%   |   Portfolio Return : -2.34%   |   Position Changes : 253   |   Episode Length : 1330   |\n",
       "</pre>\n"
      ],
      "text/plain": [
       "Market Return :  0.45%   |   Portfolio Return : -2.34%   |   Position Changes : 253   |   Episode Length : 1330   |\n"
      ]
     },
     "metadata": {},
     "output_type": "display_data"
    },
    {
     "data": {
      "text/html": [
       "<pre style=\"white-space:pre;overflow-x:auto;line-height:normal;font-family:Menlo,'DejaVu Sans Mono',consolas,'Courier New',monospace\">Market Return : -3.03%   |   Portfolio Return : -4.08%   |   Position Changes : 248   |   Episode Length : 1330   |\n",
       "</pre>\n"
      ],
      "text/plain": [
       "Market Return : -3.03%   |   Portfolio Return : -4.08%   |   Position Changes : 248   |   Episode Length : 1330   |\n"
      ]
     },
     "metadata": {},
     "output_type": "display_data"
    },
    {
     "data": {
      "text/html": [
       "<pre style=\"white-space:pre;overflow-x:auto;line-height:normal;font-family:Menlo,'DejaVu Sans Mono',consolas,'Courier New',monospace\">Market Return : -0.67%   |   Portfolio Return : -7.22%   |   Position Changes : 234   |   Episode Length : 1330   |\n",
       "</pre>\n"
      ],
      "text/plain": [
       "Market Return : -0.67%   |   Portfolio Return : -7.22%   |   Position Changes : 234   |   Episode Length : 1330   |\n"
      ]
     },
     "metadata": {},
     "output_type": "display_data"
    },
    {
     "data": {
      "text/html": [
       "<pre style=\"white-space:pre;overflow-x:auto;line-height:normal;font-family:Menlo,'DejaVu Sans Mono',consolas,'Courier New',monospace\">Market Return : -4.56%   |   Portfolio Return : -6.95%   |   Position Changes : 232   |   Episode Length : 1330   |\n",
       "</pre>\n"
      ],
      "text/plain": [
       "Market Return : -4.56%   |   Portfolio Return : -6.95%   |   Position Changes : 232   |   Episode Length : 1330   |\n"
      ]
     },
     "metadata": {},
     "output_type": "display_data"
    },
    {
     "data": {
      "text/html": [
       "<pre style=\"white-space:pre;overflow-x:auto;line-height:normal;font-family:Menlo,'DejaVu Sans Mono',consolas,'Courier New',monospace\">Market Return :  6.53%   |   Portfolio Return : -7.28%   |   Position Changes : 392   |   Episode Length : 1330   |\n",
       "</pre>\n"
      ],
      "text/plain": [
       "Market Return :  6.53%   |   Portfolio Return : -7.28%   |   Position Changes : 392   |   Episode Length : 1330   |\n"
      ]
     },
     "metadata": {},
     "output_type": "display_data"
    },
    {
     "data": {
      "text/html": [
       "<pre style=\"white-space:pre;overflow-x:auto;line-height:normal;font-family:Menlo,'DejaVu Sans Mono',consolas,'Courier New',monospace\">Market Return :  0.34%   |   Portfolio Return : -5.53%   |   Position Changes : 242   |   Episode Length : 1330   |\n",
       "</pre>\n"
      ],
      "text/plain": [
       "Market Return :  0.34%   |   Portfolio Return : -5.53%   |   Position Changes : 242   |   Episode Length : 1330   |\n"
      ]
     },
     "metadata": {},
     "output_type": "display_data"
    },
    {
     "data": {
      "text/html": [
       "<pre style=\"white-space:pre;overflow-x:auto;line-height:normal;font-family:Menlo,'DejaVu Sans Mono',consolas,'Courier New',monospace\">Market Return :  6.88%   |   Portfolio Return : -11.46%   |   Position Changes : 273   |   Episode Length : 1330   \n",
       "|   \n",
       "</pre>\n"
      ],
      "text/plain": [
       "Market Return :  6.88%   |   Portfolio Return : -11.46%   |   Position Changes : 273   |   Episode Length : 1330   \n",
       "|   \n"
      ]
     },
     "metadata": {},
     "output_type": "display_data"
    },
    {
     "data": {
      "text/html": [
       "<pre style=\"white-space:pre;overflow-x:auto;line-height:normal;font-family:Menlo,'DejaVu Sans Mono',consolas,'Courier New',monospace\">Market Return :  0.57%   |   Portfolio Return : -3.38%   |   Position Changes : 212   |   Episode Length : 1330   |\n",
       "</pre>\n"
      ],
      "text/plain": [
       "Market Return :  0.57%   |   Portfolio Return : -3.38%   |   Position Changes : 212   |   Episode Length : 1330   |\n"
      ]
     },
     "metadata": {},
     "output_type": "display_data"
    },
    {
     "data": {
      "text/html": [
       "<pre style=\"white-space:pre;overflow-x:auto;line-height:normal;font-family:Menlo,'DejaVu Sans Mono',consolas,'Courier New',monospace\">Market Return :  2.79%   |   Portfolio Return : -3.08%   |   Position Changes : 278   |   Episode Length : 1330   |\n",
       "</pre>\n"
      ],
      "text/plain": [
       "Market Return :  2.79%   |   Portfolio Return : -3.08%   |   Position Changes : 278   |   Episode Length : 1330   |\n"
      ]
     },
     "metadata": {},
     "output_type": "display_data"
    },
    {
     "data": {
      "text/html": [
       "<pre style=\"white-space:pre;overflow-x:auto;line-height:normal;font-family:Menlo,'DejaVu Sans Mono',consolas,'Courier New',monospace\">Market Return :  0.69%   |   Portfolio Return : -3.28%   |   Position Changes : 208   |   Episode Length : 1330   |\n",
       "</pre>\n"
      ],
      "text/plain": [
       "Market Return :  0.69%   |   Portfolio Return : -3.28%   |   Position Changes : 208   |   Episode Length : 1330   |\n"
      ]
     },
     "metadata": {},
     "output_type": "display_data"
    },
    {
     "data": {
      "text/html": [
       "<pre style=\"white-space:pre;overflow-x:auto;line-height:normal;font-family:Menlo,'DejaVu Sans Mono',consolas,'Courier New',monospace\">Market Return :  0.64%   |   Portfolio Return : -3.84%   |   Position Changes : 241   |   Episode Length : 1330   |\n",
       "</pre>\n"
      ],
      "text/plain": [
       "Market Return :  0.64%   |   Portfolio Return : -3.84%   |   Position Changes : 241   |   Episode Length : 1330   |\n"
      ]
     },
     "metadata": {},
     "output_type": "display_data"
    },
    {
     "data": {
      "text/html": [
       "<pre style=\"white-space:pre;overflow-x:auto;line-height:normal;font-family:Menlo,'DejaVu Sans Mono',consolas,'Courier New',monospace\">Market Return : -2.09%   |   Portfolio Return : -6.63%   |   Position Changes : 290   |   Episode Length : 1330   |\n",
       "</pre>\n"
      ],
      "text/plain": [
       "Market Return : -2.09%   |   Portfolio Return : -6.63%   |   Position Changes : 290   |   Episode Length : 1330   |\n"
      ]
     },
     "metadata": {},
     "output_type": "display_data"
    },
    {
     "data": {
      "text/html": [
       "<pre style=\"white-space:pre;overflow-x:auto;line-height:normal;font-family:Menlo,'DejaVu Sans Mono',consolas,'Courier New',monospace\">Market Return : -2.02%   |   Portfolio Return : -4.80%   |   Position Changes : 230   |   Episode Length : 1330   |\n",
       "</pre>\n"
      ],
      "text/plain": [
       "Market Return : -2.02%   |   Portfolio Return : -4.80%   |   Position Changes : 230   |   Episode Length : 1330   |\n"
      ]
     },
     "metadata": {},
     "output_type": "display_data"
    },
    {
     "data": {
      "text/html": [
       "<pre style=\"white-space:pre;overflow-x:auto;line-height:normal;font-family:Menlo,'DejaVu Sans Mono',consolas,'Courier New',monospace\">Market Return : -1.08%   |   Portfolio Return : -4.65%   |   Position Changes : 365   |   Episode Length : 1330   |\n",
       "</pre>\n"
      ],
      "text/plain": [
       "Market Return : -1.08%   |   Portfolio Return : -4.65%   |   Position Changes : 365   |   Episode Length : 1330   |\n"
      ]
     },
     "metadata": {},
     "output_type": "display_data"
    },
    {
     "data": {
      "text/html": [
       "<pre style=\"white-space:pre;overflow-x:auto;line-height:normal;font-family:Menlo,'DejaVu Sans Mono',consolas,'Courier New',monospace\">Market Return : -5.26%   |   Portfolio Return : -8.52%   |   Position Changes : 252   |   Episode Length : 1330   |\n",
       "</pre>\n"
      ],
      "text/plain": [
       "Market Return : -5.26%   |   Portfolio Return : -8.52%   |   Position Changes : 252   |   Episode Length : 1330   |\n"
      ]
     },
     "metadata": {},
     "output_type": "display_data"
    },
    {
     "data": {
      "text/html": [
       "<pre style=\"white-space:pre;overflow-x:auto;line-height:normal;font-family:Menlo,'DejaVu Sans Mono',consolas,'Courier New',monospace\">Market Return : -2.55%   |   Portfolio Return : -5.39%   |   Position Changes : 245   |   Episode Length : 1330   |\n",
       "</pre>\n"
      ],
      "text/plain": [
       "Market Return : -2.55%   |   Portfolio Return : -5.39%   |   Position Changes : 245   |   Episode Length : 1330   |\n"
      ]
     },
     "metadata": {},
     "output_type": "display_data"
    },
    {
     "data": {
      "text/html": [
       "<pre style=\"white-space:pre;overflow-x:auto;line-height:normal;font-family:Menlo,'DejaVu Sans Mono',consolas,'Courier New',monospace\">Market Return : -0.54%   |   Portfolio Return : -3.74%   |   Position Changes : 198   |   Episode Length : 1330   |\n",
       "</pre>\n"
      ],
      "text/plain": [
       "Market Return : -0.54%   |   Portfolio Return : -3.74%   |   Position Changes : 198   |   Episode Length : 1330   |\n"
      ]
     },
     "metadata": {},
     "output_type": "display_data"
    },
    {
     "data": {
      "text/html": [
       "<pre style=\"white-space:pre;overflow-x:auto;line-height:normal;font-family:Menlo,'DejaVu Sans Mono',consolas,'Courier New',monospace\">Market Return :  0.10%   |   Portfolio Return : -4.00%   |   Position Changes : 265   |   Episode Length : 1330   |\n",
       "</pre>\n"
      ],
      "text/plain": [
       "Market Return :  0.10%   |   Portfolio Return : -4.00%   |   Position Changes : 265   |   Episode Length : 1330   |\n"
      ]
     },
     "metadata": {},
     "output_type": "display_data"
    },
    {
     "data": {
      "text/html": [
       "<pre style=\"white-space:pre;overflow-x:auto;line-height:normal;font-family:Menlo,'DejaVu Sans Mono',consolas,'Courier New',monospace\">Market Return :  0.21%   |   Portfolio Return : -7.46%   |   Position Changes : 401   |   Episode Length : 1330   |\n",
       "</pre>\n"
      ],
      "text/plain": [
       "Market Return :  0.21%   |   Portfolio Return : -7.46%   |   Position Changes : 401   |   Episode Length : 1330   |\n"
      ]
     },
     "metadata": {},
     "output_type": "display_data"
    },
    {
     "data": {
      "text/html": [
       "<pre style=\"white-space:pre;overflow-x:auto;line-height:normal;font-family:Menlo,'DejaVu Sans Mono',consolas,'Courier New',monospace\">Market Return : -9.85%   |   Portfolio Return :  4.20%   |   Position Changes : 320   |   Episode Length : 1330   |\n",
       "</pre>\n"
      ],
      "text/plain": [
       "Market Return : -9.85%   |   Portfolio Return :  4.20%   |   Position Changes : 320   |   Episode Length : 1330   |\n"
      ]
     },
     "metadata": {},
     "output_type": "display_data"
    },
    {
     "data": {
      "text/html": [
       "<pre style=\"white-space:pre;overflow-x:auto;line-height:normal;font-family:Menlo,'DejaVu Sans Mono',consolas,'Courier New',monospace\">Market Return : -2.29%   |   Portfolio Return : -7.32%   |   Position Changes : 256   |   Episode Length : 1330   |\n",
       "</pre>\n"
      ],
      "text/plain": [
       "Market Return : -2.29%   |   Portfolio Return : -7.32%   |   Position Changes : 256   |   Episode Length : 1330   |\n"
      ]
     },
     "metadata": {},
     "output_type": "display_data"
    },
    {
     "data": {
      "text/html": [
       "<pre style=\"white-space:pre;overflow-x:auto;line-height:normal;font-family:Menlo,'DejaVu Sans Mono',consolas,'Courier New',monospace\">Market Return :  1.31%   |   Portfolio Return : -8.30%   |   Position Changes : 272   |   Episode Length : 1330   |\n",
       "</pre>\n"
      ],
      "text/plain": [
       "Market Return :  1.31%   |   Portfolio Return : -8.30%   |   Position Changes : 272   |   Episode Length : 1330   |\n"
      ]
     },
     "metadata": {},
     "output_type": "display_data"
    },
    {
     "data": {
      "text/html": [
       "<pre style=\"white-space:pre;overflow-x:auto;line-height:normal;font-family:Menlo,'DejaVu Sans Mono',consolas,'Courier New',monospace\">Market Return :  2.61%   |   Portfolio Return :  2.39%   |   Position Changes : 292   |   Episode Length : 1330   |\n",
       "</pre>\n"
      ],
      "text/plain": [
       "Market Return :  2.61%   |   Portfolio Return :  2.39%   |   Position Changes : 292   |   Episode Length : 1330   |\n"
      ]
     },
     "metadata": {},
     "output_type": "display_data"
    },
    {
     "data": {
      "text/html": [
       "<pre style=\"white-space:pre;overflow-x:auto;line-height:normal;font-family:Menlo,'DejaVu Sans Mono',consolas,'Courier New',monospace\">Market Return : -0.88%   |   Portfolio Return : -4.07%   |   Position Changes : 300   |   Episode Length : 1330   |\n",
       "</pre>\n"
      ],
      "text/plain": [
       "Market Return : -0.88%   |   Portfolio Return : -4.07%   |   Position Changes : 300   |   Episode Length : 1330   |\n"
      ]
     },
     "metadata": {},
     "output_type": "display_data"
    },
    {
     "data": {
      "text/html": [
       "<pre style=\"white-space:pre;overflow-x:auto;line-height:normal;font-family:Menlo,'DejaVu Sans Mono',consolas,'Courier New',monospace\">Market Return : -1.68%   |   Portfolio Return : -1.14%   |   Position Changes : 268   |   Episode Length : 1330   |\n",
       "</pre>\n"
      ],
      "text/plain": [
       "Market Return : -1.68%   |   Portfolio Return : -1.14%   |   Position Changes : 268   |   Episode Length : 1330   |\n"
      ]
     },
     "metadata": {},
     "output_type": "display_data"
    },
    {
     "data": {
      "text/html": [
       "<pre style=\"white-space:pre;overflow-x:auto;line-height:normal;font-family:Menlo,'DejaVu Sans Mono',consolas,'Courier New',monospace\">Market Return : -1.95%   |   Portfolio Return : -4.18%   |   Position Changes : 275   |   Episode Length : 1330   |\n",
       "</pre>\n"
      ],
      "text/plain": [
       "Market Return : -1.95%   |   Portfolio Return : -4.18%   |   Position Changes : 275   |   Episode Length : 1330   |\n"
      ]
     },
     "metadata": {},
     "output_type": "display_data"
    },
    {
     "data": {
      "text/html": [
       "<pre style=\"white-space:pre;overflow-x:auto;line-height:normal;font-family:Menlo,'DejaVu Sans Mono',consolas,'Courier New',monospace\">Market Return :  0.41%   |   Portfolio Return : -4.49%   |   Position Changes : 256   |   Episode Length : 1330   |\n",
       "</pre>\n"
      ],
      "text/plain": [
       "Market Return :  0.41%   |   Portfolio Return : -4.49%   |   Position Changes : 256   |   Episode Length : 1330   |\n"
      ]
     },
     "metadata": {},
     "output_type": "display_data"
    },
    {
     "data": {
      "text/html": [
       "<pre style=\"white-space:pre;overflow-x:auto;line-height:normal;font-family:Menlo,'DejaVu Sans Mono',consolas,'Courier New',monospace\">Market Return : -1.54%   |   Portfolio Return : -6.18%   |   Position Changes : 255   |   Episode Length : 1330   |\n",
       "</pre>\n"
      ],
      "text/plain": [
       "Market Return : -1.54%   |   Portfolio Return : -6.18%   |   Position Changes : 255   |   Episode Length : 1330   |\n"
      ]
     },
     "metadata": {},
     "output_type": "display_data"
    },
    {
     "data": {
      "text/html": [
       "<pre style=\"white-space:pre;overflow-x:auto;line-height:normal;font-family:Menlo,'DejaVu Sans Mono',consolas,'Courier New',monospace\">Market Return :  5.08%   |   Portfolio Return : -4.09%   |   Position Changes : 262   |   Episode Length : 1330   |\n",
       "</pre>\n"
      ],
      "text/plain": [
       "Market Return :  5.08%   |   Portfolio Return : -4.09%   |   Position Changes : 262   |   Episode Length : 1330   |\n"
      ]
     },
     "metadata": {},
     "output_type": "display_data"
    },
    {
     "data": {
      "text/html": [
       "<pre style=\"white-space:pre;overflow-x:auto;line-height:normal;font-family:Menlo,'DejaVu Sans Mono',consolas,'Courier New',monospace\">Market Return : -3.44%   |   Portfolio Return : -3.97%   |   Position Changes : 235   |   Episode Length : 1330   |\n",
       "</pre>\n"
      ],
      "text/plain": [
       "Market Return : -3.44%   |   Portfolio Return : -3.97%   |   Position Changes : 235   |   Episode Length : 1330   |\n"
      ]
     },
     "metadata": {},
     "output_type": "display_data"
    },
    {
     "data": {
      "text/html": [
       "<pre style=\"white-space:pre;overflow-x:auto;line-height:normal;font-family:Menlo,'DejaVu Sans Mono',consolas,'Courier New',monospace\">Market Return : -8.15%   |   Portfolio Return : -14.83%   |   Position Changes : 346   |   Episode Length : 1330   \n",
       "|   \n",
       "</pre>\n"
      ],
      "text/plain": [
       "Market Return : -8.15%   |   Portfolio Return : -14.83%   |   Position Changes : 346   |   Episode Length : 1330   \n",
       "|   \n"
      ]
     },
     "metadata": {},
     "output_type": "display_data"
    },
    {
     "data": {
      "text/html": [
       "<pre style=\"white-space:pre;overflow-x:auto;line-height:normal;font-family:Menlo,'DejaVu Sans Mono',consolas,'Courier New',monospace\">Market Return : -2.05%   |   Portfolio Return : -2.46%   |   Position Changes : 218   |   Episode Length : 1330   |\n",
       "</pre>\n"
      ],
      "text/plain": [
       "Market Return : -2.05%   |   Portfolio Return : -2.46%   |   Position Changes : 218   |   Episode Length : 1330   |\n"
      ]
     },
     "metadata": {},
     "output_type": "display_data"
    },
    {
     "data": {
      "text/html": [
       "<pre style=\"white-space:pre;overflow-x:auto;line-height:normal;font-family:Menlo,'DejaVu Sans Mono',consolas,'Courier New',monospace\">Market Return :  1.84%   |   Portfolio Return : -2.65%   |   Position Changes : 217   |   Episode Length : 1330   |\n",
       "</pre>\n"
      ],
      "text/plain": [
       "Market Return :  1.84%   |   Portfolio Return : -2.65%   |   Position Changes : 217   |   Episode Length : 1330   |\n"
      ]
     },
     "metadata": {},
     "output_type": "display_data"
    },
    {
     "data": {
      "text/html": [
       "<pre style=\"white-space:pre;overflow-x:auto;line-height:normal;font-family:Menlo,'DejaVu Sans Mono',consolas,'Courier New',monospace\">Market Return :  6.49%   |   Portfolio Return : -4.07%   |   Position Changes : 288   |   Episode Length : 1330   |\n",
       "</pre>\n"
      ],
      "text/plain": [
       "Market Return :  6.49%   |   Portfolio Return : -4.07%   |   Position Changes : 288   |   Episode Length : 1330   |\n"
      ]
     },
     "metadata": {},
     "output_type": "display_data"
    },
    {
     "data": {
      "text/html": [
       "<pre style=\"white-space:pre;overflow-x:auto;line-height:normal;font-family:Menlo,'DejaVu Sans Mono',consolas,'Courier New',monospace\">Market Return : -0.30%   |   Portfolio Return : -5.67%   |   Position Changes : 259   |   Episode Length : 1330   |\n",
       "</pre>\n"
      ],
      "text/plain": [
       "Market Return : -0.30%   |   Portfolio Return : -5.67%   |   Position Changes : 259   |   Episode Length : 1330   |\n"
      ]
     },
     "metadata": {},
     "output_type": "display_data"
    },
    {
     "data": {
      "text/html": [
       "<pre style=\"white-space:pre;overflow-x:auto;line-height:normal;font-family:Menlo,'DejaVu Sans Mono',consolas,'Courier New',monospace\">Market Return :  0.30%   |   Portfolio Return : -3.33%   |   Position Changes : 257   |   Episode Length : 1330   |\n",
       "</pre>\n"
      ],
      "text/plain": [
       "Market Return :  0.30%   |   Portfolio Return : -3.33%   |   Position Changes : 257   |   Episode Length : 1330   |\n"
      ]
     },
     "metadata": {},
     "output_type": "display_data"
    },
    {
     "data": {
      "text/html": [
       "<pre style=\"white-space:pre;overflow-x:auto;line-height:normal;font-family:Menlo,'DejaVu Sans Mono',consolas,'Courier New',monospace\">Market Return :  3.94%   |   Portfolio Return : -1.74%   |   Position Changes : 268   |   Episode Length : 1330   |\n",
       "</pre>\n"
      ],
      "text/plain": [
       "Market Return :  3.94%   |   Portfolio Return : -1.74%   |   Position Changes : 268   |   Episode Length : 1330   |\n"
      ]
     },
     "metadata": {},
     "output_type": "display_data"
    },
    {
     "data": {
      "text/html": [
       "<pre style=\"white-space:pre;overflow-x:auto;line-height:normal;font-family:Menlo,'DejaVu Sans Mono',consolas,'Courier New',monospace\">Market Return :  3.93%   |   Portfolio Return : -4.60%   |   Position Changes : 341   |   Episode Length : 1315   |\n",
       "</pre>\n"
      ],
      "text/plain": [
       "Market Return :  3.93%   |   Portfolio Return : -4.60%   |   Position Changes : 341   |   Episode Length : 1315   |\n"
      ]
     },
     "metadata": {},
     "output_type": "display_data"
    },
    {
     "data": {
      "text/html": [
       "<pre style=\"white-space:pre;overflow-x:auto;line-height:normal;font-family:Menlo,'DejaVu Sans Mono',consolas,'Courier New',monospace\">Market Return : -6.54%   |   Portfolio Return : -6.01%   |   Position Changes : 319   |   Episode Length : 1330   |\n",
       "</pre>\n"
      ],
      "text/plain": [
       "Market Return : -6.54%   |   Portfolio Return : -6.01%   |   Position Changes : 319   |   Episode Length : 1330   |\n"
      ]
     },
     "metadata": {},
     "output_type": "display_data"
    },
    {
     "data": {
      "text/html": [
       "<pre style=\"white-space:pre;overflow-x:auto;line-height:normal;font-family:Menlo,'DejaVu Sans Mono',consolas,'Courier New',monospace\">Market Return : -5.09%   |   Portfolio Return : -10.20%   |   Position Changes : 348   |   Episode Length : 1330   \n",
       "|   \n",
       "</pre>\n"
      ],
      "text/plain": [
       "Market Return : -5.09%   |   Portfolio Return : -10.20%   |   Position Changes : 348   |   Episode Length : 1330   \n",
       "|   \n"
      ]
     },
     "metadata": {},
     "output_type": "display_data"
    },
    {
     "data": {
      "text/html": [
       "<pre style=\"white-space:pre;overflow-x:auto;line-height:normal;font-family:Menlo,'DejaVu Sans Mono',consolas,'Courier New',monospace\">Market Return :  5.21%   |   Portfolio Return : -7.87%   |   Position Changes : 284   |   Episode Length : 1330   |\n",
       "</pre>\n"
      ],
      "text/plain": [
       "Market Return :  5.21%   |   Portfolio Return : -7.87%   |   Position Changes : 284   |   Episode Length : 1330   |\n"
      ]
     },
     "metadata": {},
     "output_type": "display_data"
    },
    {
     "data": {
      "text/html": [
       "<pre style=\"white-space:pre;overflow-x:auto;line-height:normal;font-family:Menlo,'DejaVu Sans Mono',consolas,'Courier New',monospace\">Market Return :  0.24%   |   Portfolio Return : -3.59%   |   Position Changes : 170   |   Episode Length : 1330   |\n",
       "</pre>\n"
      ],
      "text/plain": [
       "Market Return :  0.24%   |   Portfolio Return : -3.59%   |   Position Changes : 170   |   Episode Length : 1330   |\n"
      ]
     },
     "metadata": {},
     "output_type": "display_data"
    },
    {
     "data": {
      "text/html": [
       "<pre style=\"white-space:pre;overflow-x:auto;line-height:normal;font-family:Menlo,'DejaVu Sans Mono',consolas,'Courier New',monospace\">Market Return :  1.20%   |   Portfolio Return :  4.06%   |   Position Changes : 302   |   Episode Length : 1210   |\n",
       "</pre>\n"
      ],
      "text/plain": [
       "Market Return :  1.20%   |   Portfolio Return :  4.06%   |   Position Changes : 302   |   Episode Length : 1210   |\n"
      ]
     },
     "metadata": {},
     "output_type": "display_data"
    },
    {
     "data": {
      "text/html": [
       "<pre style=\"white-space:pre;overflow-x:auto;line-height:normal;font-family:Menlo,'DejaVu Sans Mono',consolas,'Courier New',monospace\">Market Return :  0.15%   |   Portfolio Return : -3.68%   |   Position Changes : 200   |   Episode Length : 1330   |\n",
       "</pre>\n"
      ],
      "text/plain": [
       "Market Return :  0.15%   |   Portfolio Return : -3.68%   |   Position Changes : 200   |   Episode Length : 1330   |\n"
      ]
     },
     "metadata": {},
     "output_type": "display_data"
    },
    {
     "data": {
      "text/html": [
       "<pre style=\"white-space:pre;overflow-x:auto;line-height:normal;font-family:Menlo,'DejaVu Sans Mono',consolas,'Courier New',monospace\">Market Return :  2.26%   |   Portfolio Return : -4.71%   |   Position Changes : 236   |   Episode Length : 1330   |\n",
       "</pre>\n"
      ],
      "text/plain": [
       "Market Return :  2.26%   |   Portfolio Return : -4.71%   |   Position Changes : 236   |   Episode Length : 1330   |\n"
      ]
     },
     "metadata": {},
     "output_type": "display_data"
    },
    {
     "data": {
      "text/html": [
       "<pre style=\"white-space:pre;overflow-x:auto;line-height:normal;font-family:Menlo,'DejaVu Sans Mono',consolas,'Courier New',monospace\">Market Return : -6.14%   |   Portfolio Return : -2.48%   |   Position Changes : 256   |   Episode Length : 1330   |\n",
       "</pre>\n"
      ],
      "text/plain": [
       "Market Return : -6.14%   |   Portfolio Return : -2.48%   |   Position Changes : 256   |   Episode Length : 1330   |\n"
      ]
     },
     "metadata": {},
     "output_type": "display_data"
    },
    {
     "data": {
      "text/html": [
       "<pre style=\"white-space:pre;overflow-x:auto;line-height:normal;font-family:Menlo,'DejaVu Sans Mono',consolas,'Courier New',monospace\">Market Return : -0.57%   |   Portfolio Return : -2.66%   |   Position Changes : 227   |   Episode Length : 1330   |\n",
       "</pre>\n"
      ],
      "text/plain": [
       "Market Return : -0.57%   |   Portfolio Return : -2.66%   |   Position Changes : 227   |   Episode Length : 1330   |\n"
      ]
     },
     "metadata": {},
     "output_type": "display_data"
    },
    {
     "data": {
      "text/html": [
       "<pre style=\"white-space:pre;overflow-x:auto;line-height:normal;font-family:Menlo,'DejaVu Sans Mono',consolas,'Courier New',monospace\">Market Return :  1.04%   |   Portfolio Return : -4.39%   |   Position Changes : 209   |   Episode Length : 1330   |\n",
       "</pre>\n"
      ],
      "text/plain": [
       "Market Return :  1.04%   |   Portfolio Return : -4.39%   |   Position Changes : 209   |   Episode Length : 1330   |\n"
      ]
     },
     "metadata": {},
     "output_type": "display_data"
    },
    {
     "data": {
      "text/html": [
       "<pre style=\"white-space:pre;overflow-x:auto;line-height:normal;font-family:Menlo,'DejaVu Sans Mono',consolas,'Courier New',monospace\">Market Return :  1.16%   |   Portfolio Return : -5.98%   |   Position Changes : 271   |   Episode Length : 1330   |\n",
       "</pre>\n"
      ],
      "text/plain": [
       "Market Return :  1.16%   |   Portfolio Return : -5.98%   |   Position Changes : 271   |   Episode Length : 1330   |\n"
      ]
     },
     "metadata": {},
     "output_type": "display_data"
    },
    {
     "data": {
      "text/html": [
       "<pre style=\"white-space:pre;overflow-x:auto;line-height:normal;font-family:Menlo,'DejaVu Sans Mono',consolas,'Courier New',monospace\">Market Return :  1.76%   |   Portfolio Return : -2.92%   |   Position Changes : 242   |   Episode Length : 1330   |\n",
       "</pre>\n"
      ],
      "text/plain": [
       "Market Return :  1.76%   |   Portfolio Return : -2.92%   |   Position Changes : 242   |   Episode Length : 1330   |\n"
      ]
     },
     "metadata": {},
     "output_type": "display_data"
    },
    {
     "data": {
      "text/html": [
       "<pre style=\"white-space:pre;overflow-x:auto;line-height:normal;font-family:Menlo,'DejaVu Sans Mono',consolas,'Courier New',monospace\">Market Return : -0.25%   |   Portfolio Return : -5.78%   |   Position Changes : 253   |   Episode Length : 1330   |\n",
       "</pre>\n"
      ],
      "text/plain": [
       "Market Return : -0.25%   |   Portfolio Return : -5.78%   |   Position Changes : 253   |   Episode Length : 1330   |\n"
      ]
     },
     "metadata": {},
     "output_type": "display_data"
    },
    {
     "data": {
      "text/html": [
       "<pre style=\"white-space:pre;overflow-x:auto;line-height:normal;font-family:Menlo,'DejaVu Sans Mono',consolas,'Courier New',monospace\">Market Return :  0.23%   |   Portfolio Return : -4.16%   |   Position Changes : 253   |   Episode Length : 1330   |\n",
       "</pre>\n"
      ],
      "text/plain": [
       "Market Return :  0.23%   |   Portfolio Return : -4.16%   |   Position Changes : 253   |   Episode Length : 1330   |\n"
      ]
     },
     "metadata": {},
     "output_type": "display_data"
    },
    {
     "data": {
      "text/html": [
       "<pre style=\"white-space:pre;overflow-x:auto;line-height:normal;font-family:Menlo,'DejaVu Sans Mono',consolas,'Courier New',monospace\">Market Return : -0.51%   |   Portfolio Return : -3.92%   |   Position Changes : 276   |   Episode Length : 1330   |\n",
       "</pre>\n"
      ],
      "text/plain": [
       "Market Return : -0.51%   |   Portfolio Return : -3.92%   |   Position Changes : 276   |   Episode Length : 1330   |\n"
      ]
     },
     "metadata": {},
     "output_type": "display_data"
    },
    {
     "data": {
      "text/html": [
       "<pre style=\"white-space:pre;overflow-x:auto;line-height:normal;font-family:Menlo,'DejaVu Sans Mono',consolas,'Courier New',monospace\">Market Return :  0.55%   |   Portfolio Return : -4.93%   |   Position Changes : 192   |   Episode Length : 1330   |\n",
       "</pre>\n"
      ],
      "text/plain": [
       "Market Return :  0.55%   |   Portfolio Return : -4.93%   |   Position Changes : 192   |   Episode Length : 1330   |\n"
      ]
     },
     "metadata": {},
     "output_type": "display_data"
    },
    {
     "data": {
      "text/html": [
       "<pre style=\"white-space:pre;overflow-x:auto;line-height:normal;font-family:Menlo,'DejaVu Sans Mono',consolas,'Courier New',monospace\">Market Return :  3.97%   |   Portfolio Return : -5.04%   |   Position Changes : 253   |   Episode Length : 1330   |\n",
       "</pre>\n"
      ],
      "text/plain": [
       "Market Return :  3.97%   |   Portfolio Return : -5.04%   |   Position Changes : 253   |   Episode Length : 1330   |\n"
      ]
     },
     "metadata": {},
     "output_type": "display_data"
    },
    {
     "data": {
      "text/html": [
       "<pre style=\"white-space:pre;overflow-x:auto;line-height:normal;font-family:Menlo,'DejaVu Sans Mono',consolas,'Courier New',monospace\">Market Return : -5.09%   |   Portfolio Return : -13.16%   |   Position Changes : 316   |   Episode Length : 1330   \n",
       "|   \n",
       "</pre>\n"
      ],
      "text/plain": [
       "Market Return : -5.09%   |   Portfolio Return : -13.16%   |   Position Changes : 316   |   Episode Length : 1330   \n",
       "|   \n"
      ]
     },
     "metadata": {},
     "output_type": "display_data"
    },
    {
     "data": {
      "text/html": [
       "<pre style=\"white-space:pre;overflow-x:auto;line-height:normal;font-family:Menlo,'DejaVu Sans Mono',consolas,'Courier New',monospace\">Market Return : -4.38%   |   Portfolio Return : -0.73%   |   Position Changes : 259   |   Episode Length : 1330   |\n",
       "</pre>\n"
      ],
      "text/plain": [
       "Market Return : -4.38%   |   Portfolio Return : -0.73%   |   Position Changes : 259   |   Episode Length : 1330   |\n"
      ]
     },
     "metadata": {},
     "output_type": "display_data"
    },
    {
     "data": {
      "text/html": [
       "<pre style=\"white-space:pre;overflow-x:auto;line-height:normal;font-family:Menlo,'DejaVu Sans Mono',consolas,'Courier New',monospace\">Market Return :  4.08%   |   Portfolio Return : -9.90%   |   Position Changes : 315   |   Episode Length : 1330   |\n",
       "</pre>\n"
      ],
      "text/plain": [
       "Market Return :  4.08%   |   Portfolio Return : -9.90%   |   Position Changes : 315   |   Episode Length : 1330   |\n"
      ]
     },
     "metadata": {},
     "output_type": "display_data"
    },
    {
     "data": {
      "text/html": [
       "<pre style=\"white-space:pre;overflow-x:auto;line-height:normal;font-family:Menlo,'DejaVu Sans Mono',consolas,'Courier New',monospace\">Market Return :  0.25%   |   Portfolio Return :  1.48%   |   Position Changes : 285   |   Episode Length : 1330   |\n",
       "</pre>\n"
      ],
      "text/plain": [
       "Market Return :  0.25%   |   Portfolio Return :  1.48%   |   Position Changes : 285   |   Episode Length : 1330   |\n"
      ]
     },
     "metadata": {},
     "output_type": "display_data"
    },
    {
     "data": {
      "text/html": [
       "<pre style=\"white-space:pre;overflow-x:auto;line-height:normal;font-family:Menlo,'DejaVu Sans Mono',consolas,'Courier New',monospace\">Market Return : -2.54%   |   Portfolio Return : -2.75%   |   Position Changes : 198   |   Episode Length : 1330   |\n",
       "</pre>\n"
      ],
      "text/plain": [
       "Market Return : -2.54%   |   Portfolio Return : -2.75%   |   Position Changes : 198   |   Episode Length : 1330   |\n"
      ]
     },
     "metadata": {},
     "output_type": "display_data"
    },
    {
     "data": {
      "text/html": [
       "<pre style=\"white-space:pre;overflow-x:auto;line-height:normal;font-family:Menlo,'DejaVu Sans Mono',consolas,'Courier New',monospace\">Market Return : -2.45%   |   Portfolio Return : -3.55%   |   Position Changes : 301   |   Episode Length : 1330   |\n",
       "</pre>\n"
      ],
      "text/plain": [
       "Market Return : -2.45%   |   Portfolio Return : -3.55%   |   Position Changes : 301   |   Episode Length : 1330   |\n"
      ]
     },
     "metadata": {},
     "output_type": "display_data"
    },
    {
     "data": {
      "text/html": [
       "<pre style=\"white-space:pre;overflow-x:auto;line-height:normal;font-family:Menlo,'DejaVu Sans Mono',consolas,'Courier New',monospace\">Market Return :  1.13%   |   Portfolio Return : -3.61%   |   Position Changes : 240   |   Episode Length : 1330   |\n",
       "</pre>\n"
      ],
      "text/plain": [
       "Market Return :  1.13%   |   Portfolio Return : -3.61%   |   Position Changes : 240   |   Episode Length : 1330   |\n"
      ]
     },
     "metadata": {},
     "output_type": "display_data"
    },
    {
     "data": {
      "text/html": [
       "<pre style=\"white-space:pre;overflow-x:auto;line-height:normal;font-family:Menlo,'DejaVu Sans Mono',consolas,'Courier New',monospace\">Market Return :  0.39%   |   Portfolio Return : -4.29%   |   Position Changes : 239   |   Episode Length : 1330   |\n",
       "</pre>\n"
      ],
      "text/plain": [
       "Market Return :  0.39%   |   Portfolio Return : -4.29%   |   Position Changes : 239   |   Episode Length : 1330   |\n"
      ]
     },
     "metadata": {},
     "output_type": "display_data"
    },
    {
     "data": {
      "text/html": [
       "<pre style=\"white-space:pre;overflow-x:auto;line-height:normal;font-family:Menlo,'DejaVu Sans Mono',consolas,'Courier New',monospace\">Market Return : -0.19%   |   Portfolio Return : -6.06%   |   Position Changes : 220   |   Episode Length : 1330   |\n",
       "</pre>\n"
      ],
      "text/plain": [
       "Market Return : -0.19%   |   Portfolio Return : -6.06%   |   Position Changes : 220   |   Episode Length : 1330   |\n"
      ]
     },
     "metadata": {},
     "output_type": "display_data"
    },
    {
     "data": {
      "text/html": [
       "<pre style=\"white-space:pre;overflow-x:auto;line-height:normal;font-family:Menlo,'DejaVu Sans Mono',consolas,'Courier New',monospace\">Market Return : 10.64%   |   Portfolio Return : -9.53%   |   Position Changes : 343   |   Episode Length : 1330   |\n",
       "</pre>\n"
      ],
      "text/plain": [
       "Market Return : 10.64%   |   Portfolio Return : -9.53%   |   Position Changes : 343   |   Episode Length : 1330   |\n"
      ]
     },
     "metadata": {},
     "output_type": "display_data"
    },
    {
     "data": {
      "text/html": [
       "<pre style=\"white-space:pre;overflow-x:auto;line-height:normal;font-family:Menlo,'DejaVu Sans Mono',consolas,'Courier New',monospace\">Market Return : -0.43%   |   Portfolio Return : -2.40%   |   Position Changes : 267   |   Episode Length : 1330   |\n",
       "</pre>\n"
      ],
      "text/plain": [
       "Market Return : -0.43%   |   Portfolio Return : -2.40%   |   Position Changes : 267   |   Episode Length : 1330   |\n"
      ]
     },
     "metadata": {},
     "output_type": "display_data"
    },
    {
     "data": {
      "text/html": [
       "<pre style=\"white-space:pre;overflow-x:auto;line-height:normal;font-family:Menlo,'DejaVu Sans Mono',consolas,'Courier New',monospace\">Market Return :  3.69%   |   Portfolio Return : -8.95%   |   Position Changes : 319   |   Episode Length : 1330   |\n",
       "</pre>\n"
      ],
      "text/plain": [
       "Market Return :  3.69%   |   Portfolio Return : -8.95%   |   Position Changes : 319   |   Episode Length : 1330   |\n"
      ]
     },
     "metadata": {},
     "output_type": "display_data"
    },
    {
     "data": {
      "text/html": [
       "<pre style=\"white-space:pre;overflow-x:auto;line-height:normal;font-family:Menlo,'DejaVu Sans Mono',consolas,'Courier New',monospace\">Market Return : -1.59%   |   Portfolio Return : -5.40%   |   Position Changes : 285   |   Episode Length : 1330   |\n",
       "</pre>\n"
      ],
      "text/plain": [
       "Market Return : -1.59%   |   Portfolio Return : -5.40%   |   Position Changes : 285   |   Episode Length : 1330   |\n"
      ]
     },
     "metadata": {},
     "output_type": "display_data"
    },
    {
     "data": {
      "text/html": [
       "<pre style=\"white-space:pre;overflow-x:auto;line-height:normal;font-family:Menlo,'DejaVu Sans Mono',consolas,'Courier New',monospace\">Market Return :  1.44%   |   Portfolio Return : -5.13%   |   Position Changes : 185   |   Episode Length : 1330   |\n",
       "</pre>\n"
      ],
      "text/plain": [
       "Market Return :  1.44%   |   Portfolio Return : -5.13%   |   Position Changes : 185   |   Episode Length : 1330   |\n"
      ]
     },
     "metadata": {},
     "output_type": "display_data"
    },
    {
     "data": {
      "text/html": [
       "<pre style=\"white-space:pre;overflow-x:auto;line-height:normal;font-family:Menlo,'DejaVu Sans Mono',consolas,'Courier New',monospace\">Market Return : -2.11%   |   Portfolio Return : -4.21%   |   Position Changes : 247   |   Episode Length : 1330   |\n",
       "</pre>\n"
      ],
      "text/plain": [
       "Market Return : -2.11%   |   Portfolio Return : -4.21%   |   Position Changes : 247   |   Episode Length : 1330   |\n"
      ]
     },
     "metadata": {},
     "output_type": "display_data"
    },
    {
     "data": {
      "text/html": [
       "<pre style=\"white-space:pre;overflow-x:auto;line-height:normal;font-family:Menlo,'DejaVu Sans Mono',consolas,'Courier New',monospace\">Market Return : -0.21%   |   Portfolio Return : -6.23%   |   Position Changes : 252   |   Episode Length : 1330   |\n",
       "</pre>\n"
      ],
      "text/plain": [
       "Market Return : -0.21%   |   Portfolio Return : -6.23%   |   Position Changes : 252   |   Episode Length : 1330   |\n"
      ]
     },
     "metadata": {},
     "output_type": "display_data"
    },
    {
     "data": {
      "text/html": [
       "<pre style=\"white-space:pre;overflow-x:auto;line-height:normal;font-family:Menlo,'DejaVu Sans Mono',consolas,'Courier New',monospace\">Market Return :  0.91%   |   Portfolio Return : -1.70%   |   Position Changes : 246   |   Episode Length : 1330   |\n",
       "</pre>\n"
      ],
      "text/plain": [
       "Market Return :  0.91%   |   Portfolio Return : -1.70%   |   Position Changes : 246   |   Episode Length : 1330   |\n"
      ]
     },
     "metadata": {},
     "output_type": "display_data"
    },
    {
     "data": {
      "text/html": [
       "<pre style=\"white-space:pre;overflow-x:auto;line-height:normal;font-family:Menlo,'DejaVu Sans Mono',consolas,'Courier New',monospace\">Market Return : -1.17%   |   Portfolio Return : -3.65%   |   Position Changes : 336   |   Episode Length : 1330   |\n",
       "</pre>\n"
      ],
      "text/plain": [
       "Market Return : -1.17%   |   Portfolio Return : -3.65%   |   Position Changes : 336   |   Episode Length : 1330   |\n"
      ]
     },
     "metadata": {},
     "output_type": "display_data"
    },
    {
     "data": {
      "text/html": [
       "<pre style=\"white-space:pre;overflow-x:auto;line-height:normal;font-family:Menlo,'DejaVu Sans Mono',consolas,'Courier New',monospace\">Market Return : -5.84%   |   Portfolio Return : -2.91%   |   Position Changes : 268   |   Episode Length : 1330   |\n",
       "</pre>\n"
      ],
      "text/plain": [
       "Market Return : -5.84%   |   Portfolio Return : -2.91%   |   Position Changes : 268   |   Episode Length : 1330   |\n"
      ]
     },
     "metadata": {},
     "output_type": "display_data"
    },
    {
     "data": {
      "text/html": [
       "<pre style=\"white-space:pre;overflow-x:auto;line-height:normal;font-family:Menlo,'DejaVu Sans Mono',consolas,'Courier New',monospace\">Market Return : -1.43%   |   Portfolio Return : -5.80%   |   Position Changes : 314   |   Episode Length : 1330   |\n",
       "</pre>\n"
      ],
      "text/plain": [
       "Market Return : -1.43%   |   Portfolio Return : -5.80%   |   Position Changes : 314   |   Episode Length : 1330   |\n"
      ]
     },
     "metadata": {},
     "output_type": "display_data"
    },
    {
     "data": {
      "text/html": [
       "<pre style=\"white-space:pre;overflow-x:auto;line-height:normal;font-family:Menlo,'DejaVu Sans Mono',consolas,'Courier New',monospace\">Market Return : -5.75%   |   Portfolio Return : -0.77%   |   Position Changes : 258   |   Episode Length : 1330   |\n",
       "</pre>\n"
      ],
      "text/plain": [
       "Market Return : -5.75%   |   Portfolio Return : -0.77%   |   Position Changes : 258   |   Episode Length : 1330   |\n"
      ]
     },
     "metadata": {},
     "output_type": "display_data"
    },
    {
     "data": {
      "text/html": [
       "<pre style=\"white-space:pre;overflow-x:auto;line-height:normal;font-family:Menlo,'DejaVu Sans Mono',consolas,'Courier New',monospace\">Market Return : -5.42%   |   Portfolio Return : -5.94%   |   Position Changes : 260   |   Episode Length : 1330   |\n",
       "</pre>\n"
      ],
      "text/plain": [
       "Market Return : -5.42%   |   Portfolio Return : -5.94%   |   Position Changes : 260   |   Episode Length : 1330   |\n"
      ]
     },
     "metadata": {},
     "output_type": "display_data"
    },
    {
     "data": {
      "text/html": [
       "<pre style=\"white-space:pre;overflow-x:auto;line-height:normal;font-family:Menlo,'DejaVu Sans Mono',consolas,'Courier New',monospace\">Market Return :  0.60%   |   Portfolio Return : -5.44%   |   Position Changes : 251   |   Episode Length : 1330   |\n",
       "</pre>\n"
      ],
      "text/plain": [
       "Market Return :  0.60%   |   Portfolio Return : -5.44%   |   Position Changes : 251   |   Episode Length : 1330   |\n"
      ]
     },
     "metadata": {},
     "output_type": "display_data"
    },
    {
     "data": {
      "text/html": [
       "<pre style=\"white-space:pre;overflow-x:auto;line-height:normal;font-family:Menlo,'DejaVu Sans Mono',consolas,'Courier New',monospace\">Market Return :  0.02%   |   Portfolio Return : -3.33%   |   Position Changes : 236   |   Episode Length : 1330   |\n",
       "</pre>\n"
      ],
      "text/plain": [
       "Market Return :  0.02%   |   Portfolio Return : -3.33%   |   Position Changes : 236   |   Episode Length : 1330   |\n"
      ]
     },
     "metadata": {},
     "output_type": "display_data"
    },
    {
     "data": {
      "text/html": [
       "<pre style=\"white-space:pre;overflow-x:auto;line-height:normal;font-family:Menlo,'DejaVu Sans Mono',consolas,'Courier New',monospace\">Market Return :  0.09%   |   Portfolio Return : -2.77%   |   Position Changes : 194   |   Episode Length : 1330   |\n",
       "</pre>\n"
      ],
      "text/plain": [
       "Market Return :  0.09%   |   Portfolio Return : -2.77%   |   Position Changes : 194   |   Episode Length : 1330   |\n"
      ]
     },
     "metadata": {},
     "output_type": "display_data"
    },
    {
     "data": {
      "text/html": [
       "<pre style=\"white-space:pre;overflow-x:auto;line-height:normal;font-family:Menlo,'DejaVu Sans Mono',consolas,'Courier New',monospace\">Market Return :  7.20%   |   Portfolio Return : -2.65%   |   Position Changes : 260   |   Episode Length : 1330   |\n",
       "</pre>\n"
      ],
      "text/plain": [
       "Market Return :  7.20%   |   Portfolio Return : -2.65%   |   Position Changes : 260   |   Episode Length : 1330   |\n"
      ]
     },
     "metadata": {},
     "output_type": "display_data"
    },
    {
     "data": {
      "text/html": [
       "<pre style=\"white-space:pre;overflow-x:auto;line-height:normal;font-family:Menlo,'DejaVu Sans Mono',consolas,'Courier New',monospace\">Market Return : -4.97%   |   Portfolio Return : -6.89%   |   Position Changes : 252   |   Episode Length : 1318   |\n",
       "</pre>\n"
      ],
      "text/plain": [
       "Market Return : -4.97%   |   Portfolio Return : -6.89%   |   Position Changes : 252   |   Episode Length : 1318   |\n"
      ]
     },
     "metadata": {},
     "output_type": "display_data"
    },
    {
     "data": {
      "text/html": [
       "<pre style=\"white-space:pre;overflow-x:auto;line-height:normal;font-family:Menlo,'DejaVu Sans Mono',consolas,'Courier New',monospace\">Market Return :  2.19%   |   Portfolio Return : -7.38%   |   Position Changes : 228   |   Episode Length : 1330   |\n",
       "</pre>\n"
      ],
      "text/plain": [
       "Market Return :  2.19%   |   Portfolio Return : -7.38%   |   Position Changes : 228   |   Episode Length : 1330   |\n"
      ]
     },
     "metadata": {},
     "output_type": "display_data"
    },
    {
     "data": {
      "text/html": [
       "<pre style=\"white-space:pre;overflow-x:auto;line-height:normal;font-family:Menlo,'DejaVu Sans Mono',consolas,'Courier New',monospace\">Market Return : -3.15%   |   Portfolio Return : -6.94%   |   Position Changes : 255   |   Episode Length : 1330   |\n",
       "</pre>\n"
      ],
      "text/plain": [
       "Market Return : -3.15%   |   Portfolio Return : -6.94%   |   Position Changes : 255   |   Episode Length : 1330   |\n"
      ]
     },
     "metadata": {},
     "output_type": "display_data"
    },
    {
     "data": {
      "text/html": [
       "<pre style=\"white-space:pre;overflow-x:auto;line-height:normal;font-family:Menlo,'DejaVu Sans Mono',consolas,'Courier New',monospace\">Market Return :  0.30%   |   Portfolio Return : -4.58%   |   Position Changes : 250   |   Episode Length : 1330   |\n",
       "</pre>\n"
      ],
      "text/plain": [
       "Market Return :  0.30%   |   Portfolio Return : -4.58%   |   Position Changes : 250   |   Episode Length : 1330   |\n"
      ]
     },
     "metadata": {},
     "output_type": "display_data"
    },
    {
     "data": {
      "text/html": [
       "<pre style=\"white-space:pre;overflow-x:auto;line-height:normal;font-family:Menlo,'DejaVu Sans Mono',consolas,'Courier New',monospace\">Market Return :  3.54%   |   Portfolio Return : -5.75%   |   Position Changes : 245   |   Episode Length : 1330   |\n",
       "</pre>\n"
      ],
      "text/plain": [
       "Market Return :  3.54%   |   Portfolio Return : -5.75%   |   Position Changes : 245   |   Episode Length : 1330   |\n"
      ]
     },
     "metadata": {},
     "output_type": "display_data"
    },
    {
     "data": {
      "text/html": [
       "<pre style=\"white-space:pre;overflow-x:auto;line-height:normal;font-family:Menlo,'DejaVu Sans Mono',consolas,'Courier New',monospace\">Market Return : -8.95%   |   Portfolio Return :  1.85%   |   Position Changes : 256   |   Episode Length : 1330   |\n",
       "</pre>\n"
      ],
      "text/plain": [
       "Market Return : -8.95%   |   Portfolio Return :  1.85%   |   Position Changes : 256   |   Episode Length : 1330   |\n"
      ]
     },
     "metadata": {},
     "output_type": "display_data"
    },
    {
     "data": {
      "text/html": [
       "<pre style=\"white-space:pre;overflow-x:auto;line-height:normal;font-family:Menlo,'DejaVu Sans Mono',consolas,'Courier New',monospace\">Market Return :  0.47%   |   Portfolio Return : -2.51%   |   Position Changes : 306   |   Episode Length : 1330   |\n",
       "</pre>\n"
      ],
      "text/plain": [
       "Market Return :  0.47%   |   Portfolio Return : -2.51%   |   Position Changes : 306   |   Episode Length : 1330   |\n"
      ]
     },
     "metadata": {},
     "output_type": "display_data"
    },
    {
     "data": {
      "text/html": [
       "<pre style=\"white-space:pre;overflow-x:auto;line-height:normal;font-family:Menlo,'DejaVu Sans Mono',consolas,'Courier New',monospace\">Market Return :  2.92%   |   Portfolio Return : -3.65%   |   Position Changes : 186   |   Episode Length : 1330   |\n",
       "</pre>\n"
      ],
      "text/plain": [
       "Market Return :  2.92%   |   Portfolio Return : -3.65%   |   Position Changes : 186   |   Episode Length : 1330   |\n"
      ]
     },
     "metadata": {},
     "output_type": "display_data"
    },
    {
     "data": {
      "text/html": [
       "<pre style=\"white-space:pre;overflow-x:auto;line-height:normal;font-family:Menlo,'DejaVu Sans Mono',consolas,'Courier New',monospace\">Market Return :  2.36%   |   Portfolio Return : -4.50%   |   Position Changes : 214   |   Episode Length : 1330   |\n",
       "</pre>\n"
      ],
      "text/plain": [
       "Market Return :  2.36%   |   Portfolio Return : -4.50%   |   Position Changes : 214   |   Episode Length : 1330   |\n"
      ]
     },
     "metadata": {},
     "output_type": "display_data"
    },
    {
     "data": {
      "text/html": [
       "<pre style=\"white-space:pre;overflow-x:auto;line-height:normal;font-family:Menlo,'DejaVu Sans Mono',consolas,'Courier New',monospace\">Market Return :  2.49%   |   Portfolio Return : -1.43%   |   Position Changes : 218   |   Episode Length : 1330   |\n",
       "</pre>\n"
      ],
      "text/plain": [
       "Market Return :  2.49%   |   Portfolio Return : -1.43%   |   Position Changes : 218   |   Episode Length : 1330   |\n"
      ]
     },
     "metadata": {},
     "output_type": "display_data"
    },
    {
     "data": {
      "text/html": [
       "<pre style=\"white-space:pre;overflow-x:auto;line-height:normal;font-family:Menlo,'DejaVu Sans Mono',consolas,'Courier New',monospace\">Market Return : -0.57%   |   Portfolio Return : -2.90%   |   Position Changes : 194   |   Episode Length : 1330   |\n",
       "</pre>\n"
      ],
      "text/plain": [
       "Market Return : -0.57%   |   Portfolio Return : -2.90%   |   Position Changes : 194   |   Episode Length : 1330   |\n"
      ]
     },
     "metadata": {},
     "output_type": "display_data"
    },
    {
     "data": {
      "text/html": [
       "<pre style=\"white-space:pre;overflow-x:auto;line-height:normal;font-family:Menlo,'DejaVu Sans Mono',consolas,'Courier New',monospace\">Market Return :  1.44%   |   Portfolio Return : -3.01%   |   Position Changes : 273   |   Episode Length : 1330   |\n",
       "</pre>\n"
      ],
      "text/plain": [
       "Market Return :  1.44%   |   Portfolio Return : -3.01%   |   Position Changes : 273   |   Episode Length : 1330   |\n"
      ]
     },
     "metadata": {},
     "output_type": "display_data"
    },
    {
     "data": {
      "text/html": [
       "<pre style=\"white-space:pre;overflow-x:auto;line-height:normal;font-family:Menlo,'DejaVu Sans Mono',consolas,'Courier New',monospace\">Market Return : -1.76%   |   Portfolio Return : -3.93%   |   Position Changes : 192   |   Episode Length : 1330   |\n",
       "</pre>\n"
      ],
      "text/plain": [
       "Market Return : -1.76%   |   Portfolio Return : -3.93%   |   Position Changes : 192   |   Episode Length : 1330   |\n"
      ]
     },
     "metadata": {},
     "output_type": "display_data"
    },
    {
     "data": {
      "text/html": [
       "<pre style=\"white-space:pre;overflow-x:auto;line-height:normal;font-family:Menlo,'DejaVu Sans Mono',consolas,'Courier New',monospace\">Market Return : -1.50%   |   Portfolio Return : -4.95%   |   Position Changes : 221   |   Episode Length : 1330   |\n",
       "</pre>\n"
      ],
      "text/plain": [
       "Market Return : -1.50%   |   Portfolio Return : -4.95%   |   Position Changes : 221   |   Episode Length : 1330   |\n"
      ]
     },
     "metadata": {},
     "output_type": "display_data"
    },
    {
     "data": {
      "text/html": [
       "<pre style=\"white-space:pre;overflow-x:auto;line-height:normal;font-family:Menlo,'DejaVu Sans Mono',consolas,'Courier New',monospace\">Market Return :  3.88%   |   Portfolio Return : -2.19%   |   Position Changes : 311   |   Episode Length : 1330   |\n",
       "</pre>\n"
      ],
      "text/plain": [
       "Market Return :  3.88%   |   Portfolio Return : -2.19%   |   Position Changes : 311   |   Episode Length : 1330   |\n"
      ]
     },
     "metadata": {},
     "output_type": "display_data"
    },
    {
     "data": {
      "text/html": [
       "<pre style=\"white-space:pre;overflow-x:auto;line-height:normal;font-family:Menlo,'DejaVu Sans Mono',consolas,'Courier New',monospace\">Market Return :  0.20%   |   Portfolio Return : -2.39%   |   Position Changes : 176   |   Episode Length : 1330   |\n",
       "</pre>\n"
      ],
      "text/plain": [
       "Market Return :  0.20%   |   Portfolio Return : -2.39%   |   Position Changes : 176   |   Episode Length : 1330   |\n"
      ]
     },
     "metadata": {},
     "output_type": "display_data"
    },
    {
     "data": {
      "text/html": [
       "<pre style=\"white-space:pre;overflow-x:auto;line-height:normal;font-family:Menlo,'DejaVu Sans Mono',consolas,'Courier New',monospace\">Market Return : -0.71%   |   Portfolio Return : -2.20%   |   Position Changes : 168   |   Episode Length : 1330   |\n",
       "</pre>\n"
      ],
      "text/plain": [
       "Market Return : -0.71%   |   Portfolio Return : -2.20%   |   Position Changes : 168   |   Episode Length : 1330   |\n"
      ]
     },
     "metadata": {},
     "output_type": "display_data"
    },
    {
     "data": {
      "text/html": [
       "<pre style=\"white-space:pre;overflow-x:auto;line-height:normal;font-family:Menlo,'DejaVu Sans Mono',consolas,'Courier New',monospace\">Market Return :  0.21%   |   Portfolio Return : -1.45%   |   Position Changes : 353   |   Episode Length : 1330   |\n",
       "</pre>\n"
      ],
      "text/plain": [
       "Market Return :  0.21%   |   Portfolio Return : -1.45%   |   Position Changes : 353   |   Episode Length : 1330   |\n"
      ]
     },
     "metadata": {},
     "output_type": "display_data"
    },
    {
     "data": {
      "text/html": [
       "<pre style=\"white-space:pre;overflow-x:auto;line-height:normal;font-family:Menlo,'DejaVu Sans Mono',consolas,'Courier New',monospace\">Market Return :  4.18%   |   Portfolio Return : -7.30%   |   Position Changes : 309   |   Episode Length : 1330   |\n",
       "</pre>\n"
      ],
      "text/plain": [
       "Market Return :  4.18%   |   Portfolio Return : -7.30%   |   Position Changes : 309   |   Episode Length : 1330   |\n"
      ]
     },
     "metadata": {},
     "output_type": "display_data"
    },
    {
     "data": {
      "text/html": [
       "<pre style=\"white-space:pre;overflow-x:auto;line-height:normal;font-family:Menlo,'DejaVu Sans Mono',consolas,'Courier New',monospace\">Market Return : -1.10%   |   Portfolio Return : -4.02%   |   Position Changes : 227   |   Episode Length : 1330   |\n",
       "</pre>\n"
      ],
      "text/plain": [
       "Market Return : -1.10%   |   Portfolio Return : -4.02%   |   Position Changes : 227   |   Episode Length : 1330   |\n"
      ]
     },
     "metadata": {},
     "output_type": "display_data"
    },
    {
     "data": {
      "text/html": [
       "<pre style=\"white-space:pre;overflow-x:auto;line-height:normal;font-family:Menlo,'DejaVu Sans Mono',consolas,'Courier New',monospace\">Market Return :  0.12%   |   Portfolio Return : -2.40%   |   Position Changes : 268   |   Episode Length : 1330   |\n",
       "</pre>\n"
      ],
      "text/plain": [
       "Market Return :  0.12%   |   Portfolio Return : -2.40%   |   Position Changes : 268   |   Episode Length : 1330   |\n"
      ]
     },
     "metadata": {},
     "output_type": "display_data"
    },
    {
     "data": {
      "text/html": [
       "<pre style=\"white-space:pre;overflow-x:auto;line-height:normal;font-family:Menlo,'DejaVu Sans Mono',consolas,'Courier New',monospace\">Market Return : 11.88%   |   Portfolio Return :  6.72%   |   Position Changes : 348   |   Episode Length : 1330   |\n",
       "</pre>\n"
      ],
      "text/plain": [
       "Market Return : 11.88%   |   Portfolio Return :  6.72%   |   Position Changes : 348   |   Episode Length : 1330   |\n"
      ]
     },
     "metadata": {},
     "output_type": "display_data"
    },
    {
     "data": {
      "text/html": [
       "<pre style=\"white-space:pre;overflow-x:auto;line-height:normal;font-family:Menlo,'DejaVu Sans Mono',consolas,'Courier New',monospace\">Market Return :  1.76%   |   Portfolio Return : -4.70%   |   Position Changes : 229   |   Episode Length : 1330   |\n",
       "</pre>\n"
      ],
      "text/plain": [
       "Market Return :  1.76%   |   Portfolio Return : -4.70%   |   Position Changes : 229   |   Episode Length : 1330   |\n"
      ]
     },
     "metadata": {},
     "output_type": "display_data"
    },
    {
     "data": {
      "text/html": [
       "<pre style=\"white-space:pre;overflow-x:auto;line-height:normal;font-family:Menlo,'DejaVu Sans Mono',consolas,'Courier New',monospace\">Market Return :  7.88%   |   Portfolio Return : -2.37%   |   Position Changes : 259   |   Episode Length : 1330   |\n",
       "</pre>\n"
      ],
      "text/plain": [
       "Market Return :  7.88%   |   Portfolio Return : -2.37%   |   Position Changes : 259   |   Episode Length : 1330   |\n"
      ]
     },
     "metadata": {},
     "output_type": "display_data"
    },
    {
     "data": {
      "text/html": [
       "<pre style=\"white-space:pre;overflow-x:auto;line-height:normal;font-family:Menlo,'DejaVu Sans Mono',consolas,'Courier New',monospace\">Market Return : -1.23%   |   Portfolio Return : -0.61%   |   Position Changes : 302   |   Episode Length : 1330   |\n",
       "</pre>\n"
      ],
      "text/plain": [
       "Market Return : -1.23%   |   Portfolio Return : -0.61%   |   Position Changes : 302   |   Episode Length : 1330   |\n"
      ]
     },
     "metadata": {},
     "output_type": "display_data"
    },
    {
     "data": {
      "text/html": [
       "<pre style=\"white-space:pre;overflow-x:auto;line-height:normal;font-family:Menlo,'DejaVu Sans Mono',consolas,'Courier New',monospace\">Market Return :  4.10%   |   Portfolio Return : -4.60%   |   Position Changes : 239   |   Episode Length : 1330   |\n",
       "</pre>\n"
      ],
      "text/plain": [
       "Market Return :  4.10%   |   Portfolio Return : -4.60%   |   Position Changes : 239   |   Episode Length : 1330   |\n"
      ]
     },
     "metadata": {},
     "output_type": "display_data"
    },
    {
     "data": {
      "text/html": [
       "<pre style=\"white-space:pre;overflow-x:auto;line-height:normal;font-family:Menlo,'DejaVu Sans Mono',consolas,'Courier New',monospace\">Market Return : -0.54%   |   Portfolio Return : -2.09%   |   Position Changes : 206   |   Episode Length : 1330   |\n",
       "</pre>\n"
      ],
      "text/plain": [
       "Market Return : -0.54%   |   Portfolio Return : -2.09%   |   Position Changes : 206   |   Episode Length : 1330   |\n"
      ]
     },
     "metadata": {},
     "output_type": "display_data"
    },
    {
     "data": {
      "text/html": [
       "<pre style=\"white-space:pre;overflow-x:auto;line-height:normal;font-family:Menlo,'DejaVu Sans Mono',consolas,'Courier New',monospace\">Market Return : -0.09%   |   Portfolio Return : -1.68%   |   Position Changes : 215   |   Episode Length : 1330   |\n",
       "</pre>\n"
      ],
      "text/plain": [
       "Market Return : -0.09%   |   Portfolio Return : -1.68%   |   Position Changes : 215   |   Episode Length : 1330   |\n"
      ]
     },
     "metadata": {},
     "output_type": "display_data"
    },
    {
     "data": {
      "text/html": [
       "<pre style=\"white-space:pre;overflow-x:auto;line-height:normal;font-family:Menlo,'DejaVu Sans Mono',consolas,'Courier New',monospace\">Market Return : -0.51%   |   Portfolio Return : -3.42%   |   Position Changes : 260   |   Episode Length : 1330   |\n",
       "</pre>\n"
      ],
      "text/plain": [
       "Market Return : -0.51%   |   Portfolio Return : -3.42%   |   Position Changes : 260   |   Episode Length : 1330   |\n"
      ]
     },
     "metadata": {},
     "output_type": "display_data"
    },
    {
     "data": {
      "text/html": [
       "<pre style=\"white-space:pre;overflow-x:auto;line-height:normal;font-family:Menlo,'DejaVu Sans Mono',consolas,'Courier New',monospace\">Market Return : -0.63%   |   Portfolio Return : -3.40%   |   Position Changes : 241   |   Episode Length : 1330   |\n",
       "</pre>\n"
      ],
      "text/plain": [
       "Market Return : -0.63%   |   Portfolio Return : -3.40%   |   Position Changes : 241   |   Episode Length : 1330   |\n"
      ]
     },
     "metadata": {},
     "output_type": "display_data"
    },
    {
     "data": {
      "text/html": [
       "<pre style=\"white-space:pre;overflow-x:auto;line-height:normal;font-family:Menlo,'DejaVu Sans Mono',consolas,'Courier New',monospace\">Market Return : -0.39%   |   Portfolio Return : -3.71%   |   Position Changes : 181   |   Episode Length : 1330   |\n",
       "</pre>\n"
      ],
      "text/plain": [
       "Market Return : -0.39%   |   Portfolio Return : -3.71%   |   Position Changes : 181   |   Episode Length : 1330   |\n"
      ]
     },
     "metadata": {},
     "output_type": "display_data"
    },
    {
     "data": {
      "text/html": [
       "<pre style=\"white-space:pre;overflow-x:auto;line-height:normal;font-family:Menlo,'DejaVu Sans Mono',consolas,'Courier New',monospace\">Market Return :  0.09%   |   Portfolio Return : -3.30%   |   Position Changes : 212   |   Episode Length : 1330   |\n",
       "</pre>\n"
      ],
      "text/plain": [
       "Market Return :  0.09%   |   Portfolio Return : -3.30%   |   Position Changes : 212   |   Episode Length : 1330   |\n"
      ]
     },
     "metadata": {},
     "output_type": "display_data"
    },
    {
     "data": {
      "text/html": [
       "<pre style=\"white-space:pre;overflow-x:auto;line-height:normal;font-family:Menlo,'DejaVu Sans Mono',consolas,'Courier New',monospace\">Market Return : -0.59%   |   Portfolio Return : -1.14%   |   Position Changes : 248   |   Episode Length : 1330   |\n",
       "</pre>\n"
      ],
      "text/plain": [
       "Market Return : -0.59%   |   Portfolio Return : -1.14%   |   Position Changes : 248   |   Episode Length : 1330   |\n"
      ]
     },
     "metadata": {},
     "output_type": "display_data"
    },
    {
     "data": {
      "text/html": [
       "<pre style=\"white-space:pre;overflow-x:auto;line-height:normal;font-family:Menlo,'DejaVu Sans Mono',consolas,'Courier New',monospace\">Market Return :  1.20%   |   Portfolio Return : -3.94%   |   Position Changes : 214   |   Episode Length : 1330   |\n",
       "</pre>\n"
      ],
      "text/plain": [
       "Market Return :  1.20%   |   Portfolio Return : -3.94%   |   Position Changes : 214   |   Episode Length : 1330   |\n"
      ]
     },
     "metadata": {},
     "output_type": "display_data"
    },
    {
     "data": {
      "text/html": [
       "<pre style=\"white-space:pre;overflow-x:auto;line-height:normal;font-family:Menlo,'DejaVu Sans Mono',consolas,'Courier New',monospace\">Market Return :  2.37%   |   Portfolio Return : -3.68%   |   Position Changes : 248   |   Episode Length : 1330   |\n",
       "</pre>\n"
      ],
      "text/plain": [
       "Market Return :  2.37%   |   Portfolio Return : -3.68%   |   Position Changes : 248   |   Episode Length : 1330   |\n"
      ]
     },
     "metadata": {},
     "output_type": "display_data"
    },
    {
     "data": {
      "text/html": [
       "<pre style=\"white-space:pre;overflow-x:auto;line-height:normal;font-family:Menlo,'DejaVu Sans Mono',consolas,'Courier New',monospace\">Market Return :  0.13%   |   Portfolio Return : -9.75%   |   Position Changes : 332   |   Episode Length : 1330   |\n",
       "</pre>\n"
      ],
      "text/plain": [
       "Market Return :  0.13%   |   Portfolio Return : -9.75%   |   Position Changes : 332   |   Episode Length : 1330   |\n"
      ]
     },
     "metadata": {},
     "output_type": "display_data"
    },
    {
     "data": {
      "text/html": [
       "<pre style=\"white-space:pre;overflow-x:auto;line-height:normal;font-family:Menlo,'DejaVu Sans Mono',consolas,'Courier New',monospace\">Market Return : -0.55%   |   Portfolio Return : -6.20%   |   Position Changes : 305   |   Episode Length : 1330   |\n",
       "</pre>\n"
      ],
      "text/plain": [
       "Market Return : -0.55%   |   Portfolio Return : -6.20%   |   Position Changes : 305   |   Episode Length : 1330   |\n"
      ]
     },
     "metadata": {},
     "output_type": "display_data"
    },
    {
     "data": {
      "text/html": [
       "<pre style=\"white-space:pre;overflow-x:auto;line-height:normal;font-family:Menlo,'DejaVu Sans Mono',consolas,'Courier New',monospace\">Market Return : -1.33%   |   Portfolio Return : -1.27%   |   Position Changes : 175   |   Episode Length : 1330   |\n",
       "</pre>\n"
      ],
      "text/plain": [
       "Market Return : -1.33%   |   Portfolio Return : -1.27%   |   Position Changes : 175   |   Episode Length : 1330   |\n"
      ]
     },
     "metadata": {},
     "output_type": "display_data"
    },
    {
     "data": {
      "text/html": [
       "<pre style=\"white-space:pre;overflow-x:auto;line-height:normal;font-family:Menlo,'DejaVu Sans Mono',consolas,'Courier New',monospace\">Market Return :  4.22%   |   Portfolio Return : -2.45%   |   Position Changes : 308   |   Episode Length : 1330   |\n",
       "</pre>\n"
      ],
      "text/plain": [
       "Market Return :  4.22%   |   Portfolio Return : -2.45%   |   Position Changes : 308   |   Episode Length : 1330   |\n"
      ]
     },
     "metadata": {},
     "output_type": "display_data"
    },
    {
     "data": {
      "text/html": [
       "<pre style=\"white-space:pre;overflow-x:auto;line-height:normal;font-family:Menlo,'DejaVu Sans Mono',consolas,'Courier New',monospace\">Market Return :  0.82%   |   Portfolio Return : -2.98%   |   Position Changes : 231   |   Episode Length : 1330   |\n",
       "</pre>\n"
      ],
      "text/plain": [
       "Market Return :  0.82%   |   Portfolio Return : -2.98%   |   Position Changes : 231   |   Episode Length : 1330   |\n"
      ]
     },
     "metadata": {},
     "output_type": "display_data"
    },
    {
     "data": {
      "text/html": [
       "<pre style=\"white-space:pre;overflow-x:auto;line-height:normal;font-family:Menlo,'DejaVu Sans Mono',consolas,'Courier New',monospace\">Market Return : -0.49%   |   Portfolio Return : -4.59%   |   Position Changes : 253   |   Episode Length : 1330   |\n",
       "</pre>\n"
      ],
      "text/plain": [
       "Market Return : -0.49%   |   Portfolio Return : -4.59%   |   Position Changes : 253   |   Episode Length : 1330   |\n"
      ]
     },
     "metadata": {},
     "output_type": "display_data"
    },
    {
     "data": {
      "text/html": [
       "<pre style=\"white-space:pre;overflow-x:auto;line-height:normal;font-family:Menlo,'DejaVu Sans Mono',consolas,'Courier New',monospace\">Market Return : -8.78%   |   Portfolio Return : -4.70%   |   Position Changes : 260   |   Episode Length : 1330   |\n",
       "</pre>\n"
      ],
      "text/plain": [
       "Market Return : -8.78%   |   Portfolio Return : -4.70%   |   Position Changes : 260   |   Episode Length : 1330   |\n"
      ]
     },
     "metadata": {},
     "output_type": "display_data"
    },
    {
     "data": {
      "text/html": [
       "<pre style=\"white-space:pre;overflow-x:auto;line-height:normal;font-family:Menlo,'DejaVu Sans Mono',consolas,'Courier New',monospace\">Market Return : -2.35%   |   Portfolio Return : -3.14%   |   Position Changes : 235   |   Episode Length : 1330   |\n",
       "</pre>\n"
      ],
      "text/plain": [
       "Market Return : -2.35%   |   Portfolio Return : -3.14%   |   Position Changes : 235   |   Episode Length : 1330   |\n"
      ]
     },
     "metadata": {},
     "output_type": "display_data"
    },
    {
     "data": {
      "text/html": [
       "<pre style=\"white-space:pre;overflow-x:auto;line-height:normal;font-family:Menlo,'DejaVu Sans Mono',consolas,'Courier New',monospace\">Market Return : -0.63%   |   Portfolio Return : -8.83%   |   Position Changes : 253   |   Episode Length : 1330   |\n",
       "</pre>\n"
      ],
      "text/plain": [
       "Market Return : -0.63%   |   Portfolio Return : -8.83%   |   Position Changes : 253   |   Episode Length : 1330   |\n"
      ]
     },
     "metadata": {},
     "output_type": "display_data"
    },
    {
     "data": {
      "text/html": [
       "<pre style=\"white-space:pre;overflow-x:auto;line-height:normal;font-family:Menlo,'DejaVu Sans Mono',consolas,'Courier New',monospace\">Market Return :  1.30%   |   Portfolio Return : -3.40%   |   Position Changes : 250   |   Episode Length : 1330   |\n",
       "</pre>\n"
      ],
      "text/plain": [
       "Market Return :  1.30%   |   Portfolio Return : -3.40%   |   Position Changes : 250   |   Episode Length : 1330   |\n"
      ]
     },
     "metadata": {},
     "output_type": "display_data"
    },
    {
     "data": {
      "text/html": [
       "<pre style=\"white-space:pre;overflow-x:auto;line-height:normal;font-family:Menlo,'DejaVu Sans Mono',consolas,'Courier New',monospace\">Market Return :  1.58%   |   Portfolio Return : -10.67%   |   Position Changes : 317   |   Episode Length : 1330   \n",
       "|   \n",
       "</pre>\n"
      ],
      "text/plain": [
       "Market Return :  1.58%   |   Portfolio Return : -10.67%   |   Position Changes : 317   |   Episode Length : 1330   \n",
       "|   \n"
      ]
     },
     "metadata": {},
     "output_type": "display_data"
    },
    {
     "data": {
      "text/html": [
       "<pre style=\"white-space:pre;overflow-x:auto;line-height:normal;font-family:Menlo,'DejaVu Sans Mono',consolas,'Courier New',monospace\">Market Return :  1.16%   |   Portfolio Return : -1.43%   |   Position Changes : 209   |   Episode Length : 1330   |\n",
       "</pre>\n"
      ],
      "text/plain": [
       "Market Return :  1.16%   |   Portfolio Return : -1.43%   |   Position Changes : 209   |   Episode Length : 1330   |\n"
      ]
     },
     "metadata": {},
     "output_type": "display_data"
    },
    {
     "data": {
      "text/html": [
       "<pre style=\"white-space:pre;overflow-x:auto;line-height:normal;font-family:Menlo,'DejaVu Sans Mono',consolas,'Courier New',monospace\">Market Return : -1.40%   |   Portfolio Return : -6.46%   |   Position Changes : 251   |   Episode Length : 1330   |\n",
       "</pre>\n"
      ],
      "text/plain": [
       "Market Return : -1.40%   |   Portfolio Return : -6.46%   |   Position Changes : 251   |   Episode Length : 1330   |\n"
      ]
     },
     "metadata": {},
     "output_type": "display_data"
    },
    {
     "data": {
      "text/html": [
       "<pre style=\"white-space:pre;overflow-x:auto;line-height:normal;font-family:Menlo,'DejaVu Sans Mono',consolas,'Courier New',monospace\">Market Return : -0.94%   |   Portfolio Return : -6.23%   |   Position Changes : 228   |   Episode Length : 1330   |\n",
       "</pre>\n"
      ],
      "text/plain": [
       "Market Return : -0.94%   |   Portfolio Return : -6.23%   |   Position Changes : 228   |   Episode Length : 1330   |\n"
      ]
     },
     "metadata": {},
     "output_type": "display_data"
    },
    {
     "data": {
      "text/html": [
       "<pre style=\"white-space:pre;overflow-x:auto;line-height:normal;font-family:Menlo,'DejaVu Sans Mono',consolas,'Courier New',monospace\">Market Return : -1.03%   |   Portfolio Return :  1.64%   |   Position Changes : 320   |   Episode Length : 1330   |\n",
       "</pre>\n"
      ],
      "text/plain": [
       "Market Return : -1.03%   |   Portfolio Return :  1.64%   |   Position Changes : 320   |   Episode Length : 1330   |\n"
      ]
     },
     "metadata": {},
     "output_type": "display_data"
    },
    {
     "data": {
      "text/html": [
       "<pre style=\"white-space:pre;overflow-x:auto;line-height:normal;font-family:Menlo,'DejaVu Sans Mono',consolas,'Courier New',monospace\">Market Return :  2.47%   |   Portfolio Return : -1.81%   |   Position Changes : 238   |   Episode Length : 1330   |\n",
       "</pre>\n"
      ],
      "text/plain": [
       "Market Return :  2.47%   |   Portfolio Return : -1.81%   |   Position Changes : 238   |   Episode Length : 1330   |\n"
      ]
     },
     "metadata": {},
     "output_type": "display_data"
    },
    {
     "data": {
      "text/html": [
       "<pre style=\"white-space:pre;overflow-x:auto;line-height:normal;font-family:Menlo,'DejaVu Sans Mono',consolas,'Courier New',monospace\">Market Return : -0.10%   |   Portfolio Return : -4.25%   |   Position Changes : 228   |   Episode Length : 1330   |\n",
       "</pre>\n"
      ],
      "text/plain": [
       "Market Return : -0.10%   |   Portfolio Return : -4.25%   |   Position Changes : 228   |   Episode Length : 1330   |\n"
      ]
     },
     "metadata": {},
     "output_type": "display_data"
    },
    {
     "data": {
      "text/html": [
       "<pre style=\"white-space:pre;overflow-x:auto;line-height:normal;font-family:Menlo,'DejaVu Sans Mono',consolas,'Courier New',monospace\">Market Return :  7.59%   |   Portfolio Return : -7.58%   |   Position Changes : 369   |   Episode Length : 1330   |\n",
       "</pre>\n"
      ],
      "text/plain": [
       "Market Return :  7.59%   |   Portfolio Return : -7.58%   |   Position Changes : 369   |   Episode Length : 1330   |\n"
      ]
     },
     "metadata": {},
     "output_type": "display_data"
    },
    {
     "data": {
      "text/html": [
       "<pre style=\"white-space:pre;overflow-x:auto;line-height:normal;font-family:Menlo,'DejaVu Sans Mono',consolas,'Courier New',monospace\">Market Return :  1.94%   |   Portfolio Return : -2.02%   |   Position Changes : 201   |   Episode Length : 1330   |\n",
       "</pre>\n"
      ],
      "text/plain": [
       "Market Return :  1.94%   |   Portfolio Return : -2.02%   |   Position Changes : 201   |   Episode Length : 1330   |\n"
      ]
     },
     "metadata": {},
     "output_type": "display_data"
    },
    {
     "data": {
      "text/html": [
       "<pre style=\"white-space:pre;overflow-x:auto;line-height:normal;font-family:Menlo,'DejaVu Sans Mono',consolas,'Courier New',monospace\">Market Return : -0.21%   |   Portfolio Return : -4.03%   |   Position Changes : 233   |   Episode Length : 1330   |\n",
       "</pre>\n"
      ],
      "text/plain": [
       "Market Return : -0.21%   |   Portfolio Return : -4.03%   |   Position Changes : 233   |   Episode Length : 1330   |\n"
      ]
     },
     "metadata": {},
     "output_type": "display_data"
    },
    {
     "data": {
      "text/html": [
       "<pre style=\"white-space:pre;overflow-x:auto;line-height:normal;font-family:Menlo,'DejaVu Sans Mono',consolas,'Courier New',monospace\">Market Return :  0.21%   |   Portfolio Return : -3.05%   |   Position Changes : 226   |   Episode Length : 1330   |\n",
       "</pre>\n"
      ],
      "text/plain": [
       "Market Return :  0.21%   |   Portfolio Return : -3.05%   |   Position Changes : 226   |   Episode Length : 1330   |\n"
      ]
     },
     "metadata": {},
     "output_type": "display_data"
    },
    {
     "data": {
      "text/html": [
       "<pre style=\"white-space:pre;overflow-x:auto;line-height:normal;font-family:Menlo,'DejaVu Sans Mono',consolas,'Courier New',monospace\">Market Return :  3.66%   |   Portfolio Return :  0.28%   |   Position Changes : 198   |   Episode Length : 1330   |\n",
       "</pre>\n"
      ],
      "text/plain": [
       "Market Return :  3.66%   |   Portfolio Return :  0.28%   |   Position Changes : 198   |   Episode Length : 1330   |\n"
      ]
     },
     "metadata": {},
     "output_type": "display_data"
    },
    {
     "data": {
      "text/html": [
       "<pre style=\"white-space:pre;overflow-x:auto;line-height:normal;font-family:Menlo,'DejaVu Sans Mono',consolas,'Courier New',monospace\">Market Return :  1.12%   |   Portfolio Return : -8.12%   |   Position Changes : 224   |   Episode Length : 1330   |\n",
       "</pre>\n"
      ],
      "text/plain": [
       "Market Return :  1.12%   |   Portfolio Return : -8.12%   |   Position Changes : 224   |   Episode Length : 1330   |\n"
      ]
     },
     "metadata": {},
     "output_type": "display_data"
    },
    {
     "data": {
      "text/html": [
       "<pre style=\"white-space:pre;overflow-x:auto;line-height:normal;font-family:Menlo,'DejaVu Sans Mono',consolas,'Courier New',monospace\">Market Return :  0.59%   |   Portfolio Return : -4.38%   |   Position Changes : 196   |   Episode Length : 1330   |\n",
       "</pre>\n"
      ],
      "text/plain": [
       "Market Return :  0.59%   |   Portfolio Return : -4.38%   |   Position Changes : 196   |   Episode Length : 1330   |\n"
      ]
     },
     "metadata": {},
     "output_type": "display_data"
    },
    {
     "data": {
      "text/html": [
       "<pre style=\"white-space:pre;overflow-x:auto;line-height:normal;font-family:Menlo,'DejaVu Sans Mono',consolas,'Courier New',monospace\">Market Return : -0.87%   |   Portfolio Return : -10.20%   |   Position Changes : 303   |   Episode Length : 1330   \n",
       "|   \n",
       "</pre>\n"
      ],
      "text/plain": [
       "Market Return : -0.87%   |   Portfolio Return : -10.20%   |   Position Changes : 303   |   Episode Length : 1330   \n",
       "|   \n"
      ]
     },
     "metadata": {},
     "output_type": "display_data"
    },
    {
     "data": {
      "text/html": [
       "<pre style=\"white-space:pre;overflow-x:auto;line-height:normal;font-family:Menlo,'DejaVu Sans Mono',consolas,'Courier New',monospace\">Market Return :  4.72%   |   Portfolio Return : -6.38%   |   Position Changes : 202   |   Episode Length : 1330   |\n",
       "</pre>\n"
      ],
      "text/plain": [
       "Market Return :  4.72%   |   Portfolio Return : -6.38%   |   Position Changes : 202   |   Episode Length : 1330   |\n"
      ]
     },
     "metadata": {},
     "output_type": "display_data"
    },
    {
     "data": {
      "text/html": [
       "<pre style=\"white-space:pre;overflow-x:auto;line-height:normal;font-family:Menlo,'DejaVu Sans Mono',consolas,'Courier New',monospace\">Market Return : -7.11%   |   Portfolio Return : -0.28%   |   Position Changes : 240   |   Episode Length : 1330   |\n",
       "</pre>\n"
      ],
      "text/plain": [
       "Market Return : -7.11%   |   Portfolio Return : -0.28%   |   Position Changes : 240   |   Episode Length : 1330   |\n"
      ]
     },
     "metadata": {},
     "output_type": "display_data"
    },
    {
     "data": {
      "text/html": [
       "<pre style=\"white-space:pre;overflow-x:auto;line-height:normal;font-family:Menlo,'DejaVu Sans Mono',consolas,'Courier New',monospace\">Market Return :  1.84%   |   Portfolio Return : -5.01%   |   Position Changes : 214   |   Episode Length : 1330   |\n",
       "</pre>\n"
      ],
      "text/plain": [
       "Market Return :  1.84%   |   Portfolio Return : -5.01%   |   Position Changes : 214   |   Episode Length : 1330   |\n"
      ]
     },
     "metadata": {},
     "output_type": "display_data"
    },
    {
     "data": {
      "text/html": [
       "<pre style=\"white-space:pre;overflow-x:auto;line-height:normal;font-family:Menlo,'DejaVu Sans Mono',consolas,'Courier New',monospace\">Market Return :  3.03%   |   Portfolio Return : -5.76%   |   Position Changes : 203   |   Episode Length : 1330   |\n",
       "</pre>\n"
      ],
      "text/plain": [
       "Market Return :  3.03%   |   Portfolio Return : -5.76%   |   Position Changes : 203   |   Episode Length : 1330   |\n"
      ]
     },
     "metadata": {},
     "output_type": "display_data"
    },
    {
     "data": {
      "text/html": [
       "<pre style=\"white-space:pre;overflow-x:auto;line-height:normal;font-family:Menlo,'DejaVu Sans Mono',consolas,'Courier New',monospace\">Market Return :  2.82%   |   Portfolio Return :  0.39%   |   Position Changes : 244   |   Episode Length : 1330   |\n",
       "</pre>\n"
      ],
      "text/plain": [
       "Market Return :  2.82%   |   Portfolio Return :  0.39%   |   Position Changes : 244   |   Episode Length : 1330   |\n"
      ]
     },
     "metadata": {},
     "output_type": "display_data"
    },
    {
     "data": {
      "text/html": [
       "<pre style=\"white-space:pre;overflow-x:auto;line-height:normal;font-family:Menlo,'DejaVu Sans Mono',consolas,'Courier New',monospace\">Market Return : -0.65%   |   Portfolio Return : -2.14%   |   Position Changes : 175   |   Episode Length : 1046   |\n",
       "</pre>\n"
      ],
      "text/plain": [
       "Market Return : -0.65%   |   Portfolio Return : -2.14%   |   Position Changes : 175   |   Episode Length : 1046   |\n"
      ]
     },
     "metadata": {},
     "output_type": "display_data"
    },
    {
     "data": {
      "text/html": [
       "<pre style=\"white-space:pre;overflow-x:auto;line-height:normal;font-family:Menlo,'DejaVu Sans Mono',consolas,'Courier New',monospace\">Market Return : -0.13%   |   Portfolio Return : -2.00%   |   Position Changes : 327   |   Episode Length : 1330   |\n",
       "</pre>\n"
      ],
      "text/plain": [
       "Market Return : -0.13%   |   Portfolio Return : -2.00%   |   Position Changes : 327   |   Episode Length : 1330   |\n"
      ]
     },
     "metadata": {},
     "output_type": "display_data"
    },
    {
     "data": {
      "text/html": [
       "<pre style=\"white-space:pre;overflow-x:auto;line-height:normal;font-family:Menlo,'DejaVu Sans Mono',consolas,'Courier New',monospace\">Market Return :  0.33%   |   Portfolio Return : -3.66%   |   Position Changes : 231   |   Episode Length : 1330   |\n",
       "</pre>\n"
      ],
      "text/plain": [
       "Market Return :  0.33%   |   Portfolio Return : -3.66%   |   Position Changes : 231   |   Episode Length : 1330   |\n"
      ]
     },
     "metadata": {},
     "output_type": "display_data"
    },
    {
     "data": {
      "text/html": [
       "<pre style=\"white-space:pre;overflow-x:auto;line-height:normal;font-family:Menlo,'DejaVu Sans Mono',consolas,'Courier New',monospace\">Market Return :  0.15%   |   Portfolio Return : -3.85%   |   Position Changes : 213   |   Episode Length : 1330   |\n",
       "</pre>\n"
      ],
      "text/plain": [
       "Market Return :  0.15%   |   Portfolio Return : -3.85%   |   Position Changes : 213   |   Episode Length : 1330   |\n"
      ]
     },
     "metadata": {},
     "output_type": "display_data"
    },
    {
     "data": {
      "text/html": [
       "<pre style=\"white-space:pre;overflow-x:auto;line-height:normal;font-family:Menlo,'DejaVu Sans Mono',consolas,'Courier New',monospace\">Market Return : -0.65%   |   Portfolio Return : -2.32%   |   Position Changes : 200   |   Episode Length : 1046   |\n",
       "</pre>\n"
      ],
      "text/plain": [
       "Market Return : -0.65%   |   Portfolio Return : -2.32%   |   Position Changes : 200   |   Episode Length : 1046   |\n"
      ]
     },
     "metadata": {},
     "output_type": "display_data"
    },
    {
     "data": {
      "text/html": [
       "<pre style=\"white-space:pre;overflow-x:auto;line-height:normal;font-family:Menlo,'DejaVu Sans Mono',consolas,'Courier New',monospace\">Market Return : -0.68%   |   Portfolio Return : -3.59%   |   Position Changes : 180   |   Episode Length : 1330   |\n",
       "</pre>\n"
      ],
      "text/plain": [
       "Market Return : -0.68%   |   Portfolio Return : -3.59%   |   Position Changes : 180   |   Episode Length : 1330   |\n"
      ]
     },
     "metadata": {},
     "output_type": "display_data"
    },
    {
     "data": {
      "text/html": [
       "<pre style=\"white-space:pre;overflow-x:auto;line-height:normal;font-family:Menlo,'DejaVu Sans Mono',consolas,'Courier New',monospace\">Market Return :  2.77%   |   Portfolio Return : -2.57%   |   Position Changes : 238   |   Episode Length : 1330   |\n",
       "</pre>\n"
      ],
      "text/plain": [
       "Market Return :  2.77%   |   Portfolio Return : -2.57%   |   Position Changes : 238   |   Episode Length : 1330   |\n"
      ]
     },
     "metadata": {},
     "output_type": "display_data"
    },
    {
     "data": {
      "text/html": [
       "<pre style=\"white-space:pre;overflow-x:auto;line-height:normal;font-family:Menlo,'DejaVu Sans Mono',consolas,'Courier New',monospace\">Market Return : 12.66%   |   Portfolio Return : -8.05%   |   Position Changes : 244   |   Episode Length : 1330   |\n",
       "</pre>\n"
      ],
      "text/plain": [
       "Market Return : 12.66%   |   Portfolio Return : -8.05%   |   Position Changes : 244   |   Episode Length : 1330   |\n"
      ]
     },
     "metadata": {},
     "output_type": "display_data"
    },
    {
     "data": {
      "text/html": [
       "<pre style=\"white-space:pre;overflow-x:auto;line-height:normal;font-family:Menlo,'DejaVu Sans Mono',consolas,'Courier New',monospace\">Market Return :  1.42%   |   Portfolio Return : -7.66%   |   Position Changes : 271   |   Episode Length : 1330   |\n",
       "</pre>\n"
      ],
      "text/plain": [
       "Market Return :  1.42%   |   Portfolio Return : -7.66%   |   Position Changes : 271   |   Episode Length : 1330   |\n"
      ]
     },
     "metadata": {},
     "output_type": "display_data"
    },
    {
     "data": {
      "text/html": [
       "<pre style=\"white-space:pre;overflow-x:auto;line-height:normal;font-family:Menlo,'DejaVu Sans Mono',consolas,'Courier New',monospace\">Market Return :  1.07%   |   Portfolio Return : -2.81%   |   Position Changes : 237   |   Episode Length : 1330   |\n",
       "</pre>\n"
      ],
      "text/plain": [
       "Market Return :  1.07%   |   Portfolio Return : -2.81%   |   Position Changes : 237   |   Episode Length : 1330   |\n"
      ]
     },
     "metadata": {},
     "output_type": "display_data"
    },
    {
     "data": {
      "text/html": [
       "<pre style=\"white-space:pre;overflow-x:auto;line-height:normal;font-family:Menlo,'DejaVu Sans Mono',consolas,'Courier New',monospace\">Market Return : -1.47%   |   Portfolio Return : -2.97%   |   Position Changes : 195   |   Episode Length : 1330   |\n",
       "</pre>\n"
      ],
      "text/plain": [
       "Market Return : -1.47%   |   Portfolio Return : -2.97%   |   Position Changes : 195   |   Episode Length : 1330   |\n"
      ]
     },
     "metadata": {},
     "output_type": "display_data"
    },
    {
     "data": {
      "text/html": [
       "<pre style=\"white-space:pre;overflow-x:auto;line-height:normal;font-family:Menlo,'DejaVu Sans Mono',consolas,'Courier New',monospace\">Market Return :  0.67%   |   Portfolio Return : -4.07%   |   Position Changes : 227   |   Episode Length : 1330   |\n",
       "</pre>\n"
      ],
      "text/plain": [
       "Market Return :  0.67%   |   Portfolio Return : -4.07%   |   Position Changes : 227   |   Episode Length : 1330   |\n"
      ]
     },
     "metadata": {},
     "output_type": "display_data"
    },
    {
     "data": {
      "text/html": [
       "<pre style=\"white-space:pre;overflow-x:auto;line-height:normal;font-family:Menlo,'DejaVu Sans Mono',consolas,'Courier New',monospace\">Market Return : 10.64%   |   Portfolio Return : -0.58%   |   Position Changes : 378   |   Episode Length : 1330   |\n",
       "</pre>\n"
      ],
      "text/plain": [
       "Market Return : 10.64%   |   Portfolio Return : -0.58%   |   Position Changes : 378   |   Episode Length : 1330   |\n"
      ]
     },
     "metadata": {},
     "output_type": "display_data"
    },
    {
     "data": {
      "text/html": [
       "<pre style=\"white-space:pre;overflow-x:auto;line-height:normal;font-family:Menlo,'DejaVu Sans Mono',consolas,'Courier New',monospace\">Market Return :  0.01%   |   Portfolio Return : -4.98%   |   Position Changes : 243   |   Episode Length : 1330   |\n",
       "</pre>\n"
      ],
      "text/plain": [
       "Market Return :  0.01%   |   Portfolio Return : -4.98%   |   Position Changes : 243   |   Episode Length : 1330   |\n"
      ]
     },
     "metadata": {},
     "output_type": "display_data"
    },
    {
     "data": {
      "text/html": [
       "<pre style=\"white-space:pre;overflow-x:auto;line-height:normal;font-family:Menlo,'DejaVu Sans Mono',consolas,'Courier New',monospace\">Market Return : -1.26%   |   Portfolio Return : -2.88%   |   Position Changes : 211   |   Episode Length : 1330   |\n",
       "</pre>\n"
      ],
      "text/plain": [
       "Market Return : -1.26%   |   Portfolio Return : -2.88%   |   Position Changes : 211   |   Episode Length : 1330   |\n"
      ]
     },
     "metadata": {},
     "output_type": "display_data"
    },
    {
     "data": {
      "text/html": [
       "<pre style=\"white-space:pre;overflow-x:auto;line-height:normal;font-family:Menlo,'DejaVu Sans Mono',consolas,'Courier New',monospace\">Market Return :  3.04%   |   Portfolio Return :  1.82%   |   Position Changes : 211   |   Episode Length : 1330   |\n",
       "</pre>\n"
      ],
      "text/plain": [
       "Market Return :  3.04%   |   Portfolio Return :  1.82%   |   Position Changes : 211   |   Episode Length : 1330   |\n"
      ]
     },
     "metadata": {},
     "output_type": "display_data"
    },
    {
     "data": {
      "text/html": [
       "<pre style=\"white-space:pre;overflow-x:auto;line-height:normal;font-family:Menlo,'DejaVu Sans Mono',consolas,'Courier New',monospace\">Market Return : -4.47%   |   Portfolio Return : -9.76%   |   Position Changes : 437   |   Episode Length : 1330   |\n",
       "</pre>\n"
      ],
      "text/plain": [
       "Market Return : -4.47%   |   Portfolio Return : -9.76%   |   Position Changes : 437   |   Episode Length : 1330   |\n"
      ]
     },
     "metadata": {},
     "output_type": "display_data"
    },
    {
     "data": {
      "text/html": [
       "<pre style=\"white-space:pre;overflow-x:auto;line-height:normal;font-family:Menlo,'DejaVu Sans Mono',consolas,'Courier New',monospace\">Market Return : -1.08%   |   Portfolio Return : 12.73%   |   Position Changes : 424   |   Episode Length : 1330   |\n",
       "</pre>\n"
      ],
      "text/plain": [
       "Market Return : -1.08%   |   Portfolio Return : 12.73%   |   Position Changes : 424   |   Episode Length : 1330   |\n"
      ]
     },
     "metadata": {},
     "output_type": "display_data"
    },
    {
     "data": {
      "text/html": [
       "<pre style=\"white-space:pre;overflow-x:auto;line-height:normal;font-family:Menlo,'DejaVu Sans Mono',consolas,'Courier New',monospace\">Market Return :  2.71%   |   Portfolio Return : -4.88%   |   Position Changes : 209   |   Episode Length : 1330   |\n",
       "</pre>\n"
      ],
      "text/plain": [
       "Market Return :  2.71%   |   Portfolio Return : -4.88%   |   Position Changes : 209   |   Episode Length : 1330   |\n"
      ]
     },
     "metadata": {},
     "output_type": "display_data"
    },
    {
     "data": {
      "text/html": [
       "<pre style=\"white-space:pre;overflow-x:auto;line-height:normal;font-family:Menlo,'DejaVu Sans Mono',consolas,'Courier New',monospace\">Market Return :  1.95%   |   Portfolio Return : -7.82%   |   Position Changes : 274   |   Episode Length : 1330   |\n",
       "</pre>\n"
      ],
      "text/plain": [
       "Market Return :  1.95%   |   Portfolio Return : -7.82%   |   Position Changes : 274   |   Episode Length : 1330   |\n"
      ]
     },
     "metadata": {},
     "output_type": "display_data"
    },
    {
     "data": {
      "text/html": [
       "<pre style=\"white-space:pre;overflow-x:auto;line-height:normal;font-family:Menlo,'DejaVu Sans Mono',consolas,'Courier New',monospace\">Market Return : -9.49%   |   Portfolio Return : -7.82%   |   Position Changes : 405   |   Episode Length : 1330   |\n",
       "</pre>\n"
      ],
      "text/plain": [
       "Market Return : -9.49%   |   Portfolio Return : -7.82%   |   Position Changes : 405   |   Episode Length : 1330   |\n"
      ]
     },
     "metadata": {},
     "output_type": "display_data"
    },
    {
     "data": {
      "text/html": [
       "<pre style=\"white-space:pre;overflow-x:auto;line-height:normal;font-family:Menlo,'DejaVu Sans Mono',consolas,'Courier New',monospace\">Market Return :  0.64%   |   Portfolio Return : -5.34%   |   Position Changes : 276   |   Episode Length : 1330   |\n",
       "</pre>\n"
      ],
      "text/plain": [
       "Market Return :  0.64%   |   Portfolio Return : -5.34%   |   Position Changes : 276   |   Episode Length : 1330   |\n"
      ]
     },
     "metadata": {},
     "output_type": "display_data"
    },
    {
     "data": {
      "text/html": [
       "<pre style=\"white-space:pre;overflow-x:auto;line-height:normal;font-family:Menlo,'DejaVu Sans Mono',consolas,'Courier New',monospace\">Market Return : -8.88%   |   Portfolio Return : -6.99%   |   Position Changes : 251   |   Episode Length : 1330   |\n",
       "</pre>\n"
      ],
      "text/plain": [
       "Market Return : -8.88%   |   Portfolio Return : -6.99%   |   Position Changes : 251   |   Episode Length : 1330   |\n"
      ]
     },
     "metadata": {},
     "output_type": "display_data"
    },
    {
     "data": {
      "text/html": [
       "<pre style=\"white-space:pre;overflow-x:auto;line-height:normal;font-family:Menlo,'DejaVu Sans Mono',consolas,'Courier New',monospace\">Market Return : -0.19%   |   Portfolio Return : -3.79%   |   Position Changes : 232   |   Episode Length : 1330   |\n",
       "</pre>\n"
      ],
      "text/plain": [
       "Market Return : -0.19%   |   Portfolio Return : -3.79%   |   Position Changes : 232   |   Episode Length : 1330   |\n"
      ]
     },
     "metadata": {},
     "output_type": "display_data"
    },
    {
     "data": {
      "text/html": [
       "<pre style=\"white-space:pre;overflow-x:auto;line-height:normal;font-family:Menlo,'DejaVu Sans Mono',consolas,'Courier New',monospace\">Market Return : -0.53%   |   Portfolio Return : -5.05%   |   Position Changes : 239   |   Episode Length : 1330   |\n",
       "</pre>\n"
      ],
      "text/plain": [
       "Market Return : -0.53%   |   Portfolio Return : -5.05%   |   Position Changes : 239   |   Episode Length : 1330   |\n"
      ]
     },
     "metadata": {},
     "output_type": "display_data"
    },
    {
     "data": {
      "text/html": [
       "<pre style=\"white-space:pre;overflow-x:auto;line-height:normal;font-family:Menlo,'DejaVu Sans Mono',consolas,'Courier New',monospace\">Market Return : 10.61%   |   Portfolio Return : -5.81%   |   Position Changes : 300   |   Episode Length : 1330   |\n",
       "</pre>\n"
      ],
      "text/plain": [
       "Market Return : 10.61%   |   Portfolio Return : -5.81%   |   Position Changes : 300   |   Episode Length : 1330   |\n"
      ]
     },
     "metadata": {},
     "output_type": "display_data"
    },
    {
     "data": {
      "text/html": [
       "<pre style=\"white-space:pre;overflow-x:auto;line-height:normal;font-family:Menlo,'DejaVu Sans Mono',consolas,'Courier New',monospace\">Market Return : -4.04%   |   Portfolio Return :  2.61%   |   Position Changes : 311   |   Episode Length : 1330   |\n",
       "</pre>\n"
      ],
      "text/plain": [
       "Market Return : -4.04%   |   Portfolio Return :  2.61%   |   Position Changes : 311   |   Episode Length : 1330   |\n"
      ]
     },
     "metadata": {},
     "output_type": "display_data"
    },
    {
     "data": {
      "text/html": [
       "<pre style=\"white-space:pre;overflow-x:auto;line-height:normal;font-family:Menlo,'DejaVu Sans Mono',consolas,'Courier New',monospace\">Market Return :  7.28%   |   Portfolio Return : -3.13%   |   Position Changes : 285   |   Episode Length : 1330   |\n",
       "</pre>\n"
      ],
      "text/plain": [
       "Market Return :  7.28%   |   Portfolio Return : -3.13%   |   Position Changes : 285   |   Episode Length : 1330   |\n"
      ]
     },
     "metadata": {},
     "output_type": "display_data"
    },
    {
     "data": {
      "text/html": [
       "<pre style=\"white-space:pre;overflow-x:auto;line-height:normal;font-family:Menlo,'DejaVu Sans Mono',consolas,'Courier New',monospace\">Market Return :  4.03%   |   Portfolio Return : -10.11%   |   Position Changes : 241   |   Episode Length : 1330   \n",
       "|   \n",
       "</pre>\n"
      ],
      "text/plain": [
       "Market Return :  4.03%   |   Portfolio Return : -10.11%   |   Position Changes : 241   |   Episode Length : 1330   \n",
       "|   \n"
      ]
     },
     "metadata": {},
     "output_type": "display_data"
    },
    {
     "data": {
      "text/html": [
       "<pre style=\"white-space:pre;overflow-x:auto;line-height:normal;font-family:Menlo,'DejaVu Sans Mono',consolas,'Courier New',monospace\">Market Return : -1.90%   |   Portfolio Return : -3.25%   |   Position Changes : 287   |   Episode Length : 1330   |\n",
       "</pre>\n"
      ],
      "text/plain": [
       "Market Return : -1.90%   |   Portfolio Return : -3.25%   |   Position Changes : 287   |   Episode Length : 1330   |\n"
      ]
     },
     "metadata": {},
     "output_type": "display_data"
    },
    {
     "data": {
      "text/html": [
       "<pre style=\"white-space:pre;overflow-x:auto;line-height:normal;font-family:Menlo,'DejaVu Sans Mono',consolas,'Courier New',monospace\">Market Return :  2.04%   |   Portfolio Return : -2.28%   |   Position Changes : 232   |   Episode Length : 1330   |\n",
       "</pre>\n"
      ],
      "text/plain": [
       "Market Return :  2.04%   |   Portfolio Return : -2.28%   |   Position Changes : 232   |   Episode Length : 1330   |\n"
      ]
     },
     "metadata": {},
     "output_type": "display_data"
    },
    {
     "data": {
      "text/html": [
       "<pre style=\"white-space:pre;overflow-x:auto;line-height:normal;font-family:Menlo,'DejaVu Sans Mono',consolas,'Courier New',monospace\">Market Return : -3.47%   |   Portfolio Return : -4.63%   |   Position Changes : 280   |   Episode Length : 1330   |\n",
       "</pre>\n"
      ],
      "text/plain": [
       "Market Return : -3.47%   |   Portfolio Return : -4.63%   |   Position Changes : 280   |   Episode Length : 1330   |\n"
      ]
     },
     "metadata": {},
     "output_type": "display_data"
    },
    {
     "data": {
      "text/html": [
       "<pre style=\"white-space:pre;overflow-x:auto;line-height:normal;font-family:Menlo,'DejaVu Sans Mono',consolas,'Courier New',monospace\">Market Return : -1.76%   |   Portfolio Return : -4.04%   |   Position Changes : 155   |   Episode Length : 730   | \n",
       "</pre>\n"
      ],
      "text/plain": [
       "Market Return : -1.76%   |   Portfolio Return : -4.04%   |   Position Changes : 155   |   Episode Length : 730   | \n"
      ]
     },
     "metadata": {},
     "output_type": "display_data"
    },
    {
     "data": {
      "text/html": [
       "<pre style=\"white-space:pre;overflow-x:auto;line-height:normal;font-family:Menlo,'DejaVu Sans Mono',consolas,'Courier New',monospace\">Market Return :  0.15%   |   Portfolio Return : -4.72%   |   Position Changes : 227   |   Episode Length : 1330   |\n",
       "</pre>\n"
      ],
      "text/plain": [
       "Market Return :  0.15%   |   Portfolio Return : -4.72%   |   Position Changes : 227   |   Episode Length : 1330   |\n"
      ]
     },
     "metadata": {},
     "output_type": "display_data"
    },
    {
     "data": {
      "text/html": [
       "<pre style=\"white-space:pre;overflow-x:auto;line-height:normal;font-family:Menlo,'DejaVu Sans Mono',consolas,'Courier New',monospace\">Market Return :  8.25%   |   Portfolio Return : -2.95%   |   Position Changes : 350   |   Episode Length : 1330   |\n",
       "</pre>\n"
      ],
      "text/plain": [
       "Market Return :  8.25%   |   Portfolio Return : -2.95%   |   Position Changes : 350   |   Episode Length : 1330   |\n"
      ]
     },
     "metadata": {},
     "output_type": "display_data"
    },
    {
     "data": {
      "text/html": [
       "<pre style=\"white-space:pre;overflow-x:auto;line-height:normal;font-family:Menlo,'DejaVu Sans Mono',consolas,'Courier New',monospace\">Market Return : -1.28%   |   Portfolio Return : -3.51%   |   Position Changes : 266   |   Episode Length : 1330   |\n",
       "</pre>\n"
      ],
      "text/plain": [
       "Market Return : -1.28%   |   Portfolio Return : -3.51%   |   Position Changes : 266   |   Episode Length : 1330   |\n"
      ]
     },
     "metadata": {},
     "output_type": "display_data"
    },
    {
     "data": {
      "text/html": [
       "<pre style=\"white-space:pre;overflow-x:auto;line-height:normal;font-family:Menlo,'DejaVu Sans Mono',consolas,'Courier New',monospace\">Market Return : -1.22%   |   Portfolio Return : -3.82%   |   Position Changes : 298   |   Episode Length : 1330   |\n",
       "</pre>\n"
      ],
      "text/plain": [
       "Market Return : -1.22%   |   Portfolio Return : -3.82%   |   Position Changes : 298   |   Episode Length : 1330   |\n"
      ]
     },
     "metadata": {},
     "output_type": "display_data"
    },
    {
     "data": {
      "text/html": [
       "<pre style=\"white-space:pre;overflow-x:auto;line-height:normal;font-family:Menlo,'DejaVu Sans Mono',consolas,'Courier New',monospace\">Market Return :  1.16%   |   Portfolio Return : -5.71%   |   Position Changes : 243   |   Episode Length : 1330   |\n",
       "</pre>\n"
      ],
      "text/plain": [
       "Market Return :  1.16%   |   Portfolio Return : -5.71%   |   Position Changes : 243   |   Episode Length : 1330   |\n"
      ]
     },
     "metadata": {},
     "output_type": "display_data"
    },
    {
     "data": {
      "text/html": [
       "<pre style=\"white-space:pre;overflow-x:auto;line-height:normal;font-family:Menlo,'DejaVu Sans Mono',consolas,'Courier New',monospace\">Market Return : -4.07%   |   Portfolio Return : -4.95%   |   Position Changes : 259   |   Episode Length : 1330   |\n",
       "</pre>\n"
      ],
      "text/plain": [
       "Market Return : -4.07%   |   Portfolio Return : -4.95%   |   Position Changes : 259   |   Episode Length : 1330   |\n"
      ]
     },
     "metadata": {},
     "output_type": "display_data"
    },
    {
     "data": {
      "text/html": [
       "<pre style=\"white-space:pre;overflow-x:auto;line-height:normal;font-family:Menlo,'DejaVu Sans Mono',consolas,'Courier New',monospace\">Market Return :  5.18%   |   Portfolio Return : -6.73%   |   Position Changes : 278   |   Episode Length : 1330   |\n",
       "</pre>\n"
      ],
      "text/plain": [
       "Market Return :  5.18%   |   Portfolio Return : -6.73%   |   Position Changes : 278   |   Episode Length : 1330   |\n"
      ]
     },
     "metadata": {},
     "output_type": "display_data"
    },
    {
     "data": {
      "text/html": [
       "<pre style=\"white-space:pre;overflow-x:auto;line-height:normal;font-family:Menlo,'DejaVu Sans Mono',consolas,'Courier New',monospace\">Market Return : -9.69%   |   Portfolio Return : -27.49%   |   Position Changes : 345   |   Episode Length : 1330   \n",
       "|   \n",
       "</pre>\n"
      ],
      "text/plain": [
       "Market Return : -9.69%   |   Portfolio Return : -27.49%   |   Position Changes : 345   |   Episode Length : 1330   \n",
       "|   \n"
      ]
     },
     "metadata": {},
     "output_type": "display_data"
    },
    {
     "data": {
      "text/html": [
       "<pre style=\"white-space:pre;overflow-x:auto;line-height:normal;font-family:Menlo,'DejaVu Sans Mono',consolas,'Courier New',monospace\">Market Return :  1.81%   |   Portfolio Return : -1.73%   |   Position Changes : 216   |   Episode Length : 1330   |\n",
       "</pre>\n"
      ],
      "text/plain": [
       "Market Return :  1.81%   |   Portfolio Return : -1.73%   |   Position Changes : 216   |   Episode Length : 1330   |\n"
      ]
     },
     "metadata": {},
     "output_type": "display_data"
    },
    {
     "data": {
      "text/html": [
       "<pre style=\"white-space:pre;overflow-x:auto;line-height:normal;font-family:Menlo,'DejaVu Sans Mono',consolas,'Courier New',monospace\">Market Return :  5.40%   |   Portfolio Return : -4.67%   |   Position Changes : 278   |   Episode Length : 1330   |\n",
       "</pre>\n"
      ],
      "text/plain": [
       "Market Return :  5.40%   |   Portfolio Return : -4.67%   |   Position Changes : 278   |   Episode Length : 1330   |\n"
      ]
     },
     "metadata": {},
     "output_type": "display_data"
    },
    {
     "data": {
      "text/html": [
       "<pre style=\"white-space:pre;overflow-x:auto;line-height:normal;font-family:Menlo,'DejaVu Sans Mono',consolas,'Courier New',monospace\">Market Return : -0.93%   |   Portfolio Return : -3.79%   |   Position Changes : 275   |   Episode Length : 1330   |\n",
       "</pre>\n"
      ],
      "text/plain": [
       "Market Return : -0.93%   |   Portfolio Return : -3.79%   |   Position Changes : 275   |   Episode Length : 1330   |\n"
      ]
     },
     "metadata": {},
     "output_type": "display_data"
    },
    {
     "data": {
      "text/html": [
       "<pre style=\"white-space:pre;overflow-x:auto;line-height:normal;font-family:Menlo,'DejaVu Sans Mono',consolas,'Courier New',monospace\">Market Return : -0.55%   |   Portfolio Return : -8.03%   |   Position Changes : 210   |   Episode Length : 1330   |\n",
       "</pre>\n"
      ],
      "text/plain": [
       "Market Return : -0.55%   |   Portfolio Return : -8.03%   |   Position Changes : 210   |   Episode Length : 1330   |\n"
      ]
     },
     "metadata": {},
     "output_type": "display_data"
    },
    {
     "data": {
      "text/html": [
       "<pre style=\"white-space:pre;overflow-x:auto;line-height:normal;font-family:Menlo,'DejaVu Sans Mono',consolas,'Courier New',monospace\">Market Return :  1.44%   |   Portfolio Return : -4.95%   |   Position Changes : 218   |   Episode Length : 1330   |\n",
       "</pre>\n"
      ],
      "text/plain": [
       "Market Return :  1.44%   |   Portfolio Return : -4.95%   |   Position Changes : 218   |   Episode Length : 1330   |\n"
      ]
     },
     "metadata": {},
     "output_type": "display_data"
    },
    {
     "data": {
      "text/html": [
       "<pre style=\"white-space:pre;overflow-x:auto;line-height:normal;font-family:Menlo,'DejaVu Sans Mono',consolas,'Courier New',monospace\">Market Return :  2.37%   |   Portfolio Return : -4.14%   |   Position Changes : 227   |   Episode Length : 1330   |\n",
       "</pre>\n"
      ],
      "text/plain": [
       "Market Return :  2.37%   |   Portfolio Return : -4.14%   |   Position Changes : 227   |   Episode Length : 1330   |\n"
      ]
     },
     "metadata": {},
     "output_type": "display_data"
    },
    {
     "data": {
      "text/html": [
       "<pre style=\"white-space:pre;overflow-x:auto;line-height:normal;font-family:Menlo,'DejaVu Sans Mono',consolas,'Courier New',monospace\">Market Return : -0.87%   |   Portfolio Return : -10.50%   |   Position Changes : 255   |   Episode Length : 1330   \n",
       "|   \n",
       "</pre>\n"
      ],
      "text/plain": [
       "Market Return : -0.87%   |   Portfolio Return : -10.50%   |   Position Changes : 255   |   Episode Length : 1330   \n",
       "|   \n"
      ]
     },
     "metadata": {},
     "output_type": "display_data"
    },
    {
     "data": {
      "text/html": [
       "<pre style=\"white-space:pre;overflow-x:auto;line-height:normal;font-family:Menlo,'DejaVu Sans Mono',consolas,'Courier New',monospace\">Market Return :  0.37%   |   Portfolio Return : -2.08%   |   Position Changes : 276   |   Episode Length : 1330   |\n",
       "</pre>\n"
      ],
      "text/plain": [
       "Market Return :  0.37%   |   Portfolio Return : -2.08%   |   Position Changes : 276   |   Episode Length : 1330   |\n"
      ]
     },
     "metadata": {},
     "output_type": "display_data"
    },
    {
     "data": {
      "text/html": [
       "<pre style=\"white-space:pre;overflow-x:auto;line-height:normal;font-family:Menlo,'DejaVu Sans Mono',consolas,'Courier New',monospace\">Market Return : -1.48%   |   Portfolio Return : -4.80%   |   Position Changes : 219   |   Episode Length : 1330   |\n",
       "</pre>\n"
      ],
      "text/plain": [
       "Market Return : -1.48%   |   Portfolio Return : -4.80%   |   Position Changes : 219   |   Episode Length : 1330   |\n"
      ]
     },
     "metadata": {},
     "output_type": "display_data"
    },
    {
     "data": {
      "text/html": [
       "<pre style=\"white-space:pre;overflow-x:auto;line-height:normal;font-family:Menlo,'DejaVu Sans Mono',consolas,'Courier New',monospace\">Market Return : -3.67%   |   Portfolio Return : -3.65%   |   Position Changes : 236   |   Episode Length : 1330   |\n",
       "</pre>\n"
      ],
      "text/plain": [
       "Market Return : -3.67%   |   Portfolio Return : -3.65%   |   Position Changes : 236   |   Episode Length : 1330   |\n"
      ]
     },
     "metadata": {},
     "output_type": "display_data"
    },
    {
     "data": {
      "text/html": [
       "<pre style=\"white-space:pre;overflow-x:auto;line-height:normal;font-family:Menlo,'DejaVu Sans Mono',consolas,'Courier New',monospace\">Market Return : -0.03%   |   Portfolio Return : -2.21%   |   Position Changes : 200   |   Episode Length : 1330   |\n",
       "</pre>\n"
      ],
      "text/plain": [
       "Market Return : -0.03%   |   Portfolio Return : -2.21%   |   Position Changes : 200   |   Episode Length : 1330   |\n"
      ]
     },
     "metadata": {},
     "output_type": "display_data"
    },
    {
     "data": {
      "text/html": [
       "<pre style=\"white-space:pre;overflow-x:auto;line-height:normal;font-family:Menlo,'DejaVu Sans Mono',consolas,'Courier New',monospace\">Market Return :  1.30%   |   Portfolio Return : -4.59%   |   Position Changes : 273   |   Episode Length : 1330   |\n",
       "</pre>\n"
      ],
      "text/plain": [
       "Market Return :  1.30%   |   Portfolio Return : -4.59%   |   Position Changes : 273   |   Episode Length : 1330   |\n"
      ]
     },
     "metadata": {},
     "output_type": "display_data"
    },
    {
     "data": {
      "text/html": [
       "<pre style=\"white-space:pre;overflow-x:auto;line-height:normal;font-family:Menlo,'DejaVu Sans Mono',consolas,'Courier New',monospace\">Market Return : -0.49%   |   Portfolio Return : -2.85%   |   Position Changes : 205   |   Episode Length : 1330   |\n",
       "</pre>\n"
      ],
      "text/plain": [
       "Market Return : -0.49%   |   Portfolio Return : -2.85%   |   Position Changes : 205   |   Episode Length : 1330   |\n"
      ]
     },
     "metadata": {},
     "output_type": "display_data"
    },
    {
     "data": {
      "text/html": [
       "<pre style=\"white-space:pre;overflow-x:auto;line-height:normal;font-family:Menlo,'DejaVu Sans Mono',consolas,'Courier New',monospace\">Market Return :  8.30%   |   Portfolio Return : -1.41%   |   Position Changes : 275   |   Episode Length : 1330   |\n",
       "</pre>\n"
      ],
      "text/plain": [
       "Market Return :  8.30%   |   Portfolio Return : -1.41%   |   Position Changes : 275   |   Episode Length : 1330   |\n"
      ]
     },
     "metadata": {},
     "output_type": "display_data"
    },
    {
     "data": {
      "text/html": [
       "<pre style=\"white-space:pre;overflow-x:auto;line-height:normal;font-family:Menlo,'DejaVu Sans Mono',consolas,'Courier New',monospace\">Market Return :  6.73%   |   Portfolio Return : -5.47%   |   Position Changes : 242   |   Episode Length : 1330   |\n",
       "</pre>\n"
      ],
      "text/plain": [
       "Market Return :  6.73%   |   Portfolio Return : -5.47%   |   Position Changes : 242   |   Episode Length : 1330   |\n"
      ]
     },
     "metadata": {},
     "output_type": "display_data"
    },
    {
     "data": {
      "text/html": [
       "<pre style=\"white-space:pre;overflow-x:auto;line-height:normal;font-family:Menlo,'DejaVu Sans Mono',consolas,'Courier New',monospace\">Market Return : -0.81%   |   Portfolio Return : -3.91%   |   Position Changes : 244   |   Episode Length : 1330   |\n",
       "</pre>\n"
      ],
      "text/plain": [
       "Market Return : -0.81%   |   Portfolio Return : -3.91%   |   Position Changes : 244   |   Episode Length : 1330   |\n"
      ]
     },
     "metadata": {},
     "output_type": "display_data"
    },
    {
     "data": {
      "text/html": [
       "<pre style=\"white-space:pre;overflow-x:auto;line-height:normal;font-family:Menlo,'DejaVu Sans Mono',consolas,'Courier New',monospace\">Market Return : -0.35%   |   Portfolio Return : -4.64%   |   Position Changes : 276   |   Episode Length : 1330   |\n",
       "</pre>\n"
      ],
      "text/plain": [
       "Market Return : -0.35%   |   Portfolio Return : -4.64%   |   Position Changes : 276   |   Episode Length : 1330   |\n"
      ]
     },
     "metadata": {},
     "output_type": "display_data"
    },
    {
     "data": {
      "text/html": [
       "<pre style=\"white-space:pre;overflow-x:auto;line-height:normal;font-family:Menlo,'DejaVu Sans Mono',consolas,'Courier New',monospace\">Market Return : -1.63%   |   Portfolio Return : -6.30%   |   Position Changes : 277   |   Episode Length : 1330   |\n",
       "</pre>\n"
      ],
      "text/plain": [
       "Market Return : -1.63%   |   Portfolio Return : -6.30%   |   Position Changes : 277   |   Episode Length : 1330   |\n"
      ]
     },
     "metadata": {},
     "output_type": "display_data"
    },
    {
     "data": {
      "text/html": [
       "<pre style=\"white-space:pre;overflow-x:auto;line-height:normal;font-family:Menlo,'DejaVu Sans Mono',consolas,'Courier New',monospace\">Market Return : -0.03%   |   Portfolio Return : -0.50%   |   Position Changes : 243   |   Episode Length : 1330   |\n",
       "</pre>\n"
      ],
      "text/plain": [
       "Market Return : -0.03%   |   Portfolio Return : -0.50%   |   Position Changes : 243   |   Episode Length : 1330   |\n"
      ]
     },
     "metadata": {},
     "output_type": "display_data"
    },
    {
     "data": {
      "text/html": [
       "<pre style=\"white-space:pre;overflow-x:auto;line-height:normal;font-family:Menlo,'DejaVu Sans Mono',consolas,'Courier New',monospace\">Market Return : -3.96%   |   Portfolio Return : -0.86%   |   Position Changes : 249   |   Episode Length : 1330   |\n",
       "</pre>\n"
      ],
      "text/plain": [
       "Market Return : -3.96%   |   Portfolio Return : -0.86%   |   Position Changes : 249   |   Episode Length : 1330   |\n"
      ]
     },
     "metadata": {},
     "output_type": "display_data"
    },
    {
     "data": {
      "text/html": [
       "<pre style=\"white-space:pre;overflow-x:auto;line-height:normal;font-family:Menlo,'DejaVu Sans Mono',consolas,'Courier New',monospace\">Market Return : -0.16%   |   Portfolio Return : -3.09%   |   Position Changes : 246   |   Episode Length : 1330   |\n",
       "</pre>\n"
      ],
      "text/plain": [
       "Market Return : -0.16%   |   Portfolio Return : -3.09%   |   Position Changes : 246   |   Episode Length : 1330   |\n"
      ]
     },
     "metadata": {},
     "output_type": "display_data"
    },
    {
     "data": {
      "text/html": [
       "<pre style=\"white-space:pre;overflow-x:auto;line-height:normal;font-family:Menlo,'DejaVu Sans Mono',consolas,'Courier New',monospace\">Market Return :  1.64%   |   Portfolio Return : -3.32%   |   Position Changes : 234   |   Episode Length : 1330   |\n",
       "</pre>\n"
      ],
      "text/plain": [
       "Market Return :  1.64%   |   Portfolio Return : -3.32%   |   Position Changes : 234   |   Episode Length : 1330   |\n"
      ]
     },
     "metadata": {},
     "output_type": "display_data"
    },
    {
     "data": {
      "text/html": [
       "<pre style=\"white-space:pre;overflow-x:auto;line-height:normal;font-family:Menlo,'DejaVu Sans Mono',consolas,'Courier New',monospace\">Market Return :  4.46%   |   Portfolio Return : -4.85%   |   Position Changes : 307   |   Episode Length : 1330   |\n",
       "</pre>\n"
      ],
      "text/plain": [
       "Market Return :  4.46%   |   Portfolio Return : -4.85%   |   Position Changes : 307   |   Episode Length : 1330   |\n"
      ]
     },
     "metadata": {},
     "output_type": "display_data"
    },
    {
     "data": {
      "text/html": [
       "<pre style=\"white-space:pre;overflow-x:auto;line-height:normal;font-family:Menlo,'DejaVu Sans Mono',consolas,'Courier New',monospace\">Market Return : -0.94%   |   Portfolio Return : -4.20%   |   Position Changes : 224   |   Episode Length : 1330   |\n",
       "</pre>\n"
      ],
      "text/plain": [
       "Market Return : -0.94%   |   Portfolio Return : -4.20%   |   Position Changes : 224   |   Episode Length : 1330   |\n"
      ]
     },
     "metadata": {},
     "output_type": "display_data"
    },
    {
     "data": {
      "text/html": [
       "<pre style=\"white-space:pre;overflow-x:auto;line-height:normal;font-family:Menlo,'DejaVu Sans Mono',consolas,'Courier New',monospace\">Market Return :  0.99%   |   Portfolio Return :  1.03%   |   Position Changes : 265   |   Episode Length : 1330   |\n",
       "</pre>\n"
      ],
      "text/plain": [
       "Market Return :  0.99%   |   Portfolio Return :  1.03%   |   Position Changes : 265   |   Episode Length : 1330   |\n"
      ]
     },
     "metadata": {},
     "output_type": "display_data"
    },
    {
     "data": {
      "text/html": [
       "<pre style=\"white-space:pre;overflow-x:auto;line-height:normal;font-family:Menlo,'DejaVu Sans Mono',consolas,'Courier New',monospace\">Market Return :  0.64%   |   Portfolio Return : -5.35%   |   Position Changes : 217   |   Episode Length : 1330   |\n",
       "</pre>\n"
      ],
      "text/plain": [
       "Market Return :  0.64%   |   Portfolio Return : -5.35%   |   Position Changes : 217   |   Episode Length : 1330   |\n"
      ]
     },
     "metadata": {},
     "output_type": "display_data"
    },
    {
     "data": {
      "text/html": [
       "<pre style=\"white-space:pre;overflow-x:auto;line-height:normal;font-family:Menlo,'DejaVu Sans Mono',consolas,'Courier New',monospace\">Market Return :  1.31%   |   Portfolio Return : -9.22%   |   Position Changes : 272   |   Episode Length : 1330   |\n",
       "</pre>\n"
      ],
      "text/plain": [
       "Market Return :  1.31%   |   Portfolio Return : -9.22%   |   Position Changes : 272   |   Episode Length : 1330   |\n"
      ]
     },
     "metadata": {},
     "output_type": "display_data"
    },
    {
     "data": {
      "text/html": [
       "<pre style=\"white-space:pre;overflow-x:auto;line-height:normal;font-family:Menlo,'DejaVu Sans Mono',consolas,'Courier New',monospace\">Market Return : -1.50%   |   Portfolio Return : -6.23%   |   Position Changes : 266   |   Episode Length : 1330   |\n",
       "</pre>\n"
      ],
      "text/plain": [
       "Market Return : -1.50%   |   Portfolio Return : -6.23%   |   Position Changes : 266   |   Episode Length : 1330   |\n"
      ]
     },
     "metadata": {},
     "output_type": "display_data"
    },
    {
     "data": {
      "text/html": [
       "<pre style=\"white-space:pre;overflow-x:auto;line-height:normal;font-family:Menlo,'DejaVu Sans Mono',consolas,'Courier New',monospace\">Market Return :  2.36%   |   Portfolio Return : -1.16%   |   Position Changes : 195   |   Episode Length : 1330   |\n",
       "</pre>\n"
      ],
      "text/plain": [
       "Market Return :  2.36%   |   Portfolio Return : -1.16%   |   Position Changes : 195   |   Episode Length : 1330   |\n"
      ]
     },
     "metadata": {},
     "output_type": "display_data"
    },
    {
     "data": {
      "text/html": [
       "<pre style=\"white-space:pre;overflow-x:auto;line-height:normal;font-family:Menlo,'DejaVu Sans Mono',consolas,'Courier New',monospace\">Market Return : -0.00%   |   Portfolio Return : -5.32%   |   Position Changes : 255   |   Episode Length : 1330   |\n",
       "</pre>\n"
      ],
      "text/plain": [
       "Market Return : -0.00%   |   Portfolio Return : -5.32%   |   Position Changes : 255   |   Episode Length : 1330   |\n"
      ]
     },
     "metadata": {},
     "output_type": "display_data"
    },
    {
     "data": {
      "text/html": [
       "<pre style=\"white-space:pre;overflow-x:auto;line-height:normal;font-family:Menlo,'DejaVu Sans Mono',consolas,'Courier New',monospace\">Market Return :  1.23%   |   Portfolio Return : -2.87%   |   Position Changes : 226   |   Episode Length : 1330   |\n",
       "</pre>\n"
      ],
      "text/plain": [
       "Market Return :  1.23%   |   Portfolio Return : -2.87%   |   Position Changes : 226   |   Episode Length : 1330   |\n"
      ]
     },
     "metadata": {},
     "output_type": "display_data"
    },
    {
     "data": {
      "text/html": [
       "<pre style=\"white-space:pre;overflow-x:auto;line-height:normal;font-family:Menlo,'DejaVu Sans Mono',consolas,'Courier New',monospace\">Market Return : -1.53%   |   Portfolio Return : -4.59%   |   Position Changes : 268   |   Episode Length : 1330   |\n",
       "</pre>\n"
      ],
      "text/plain": [
       "Market Return : -1.53%   |   Portfolio Return : -4.59%   |   Position Changes : 268   |   Episode Length : 1330   |\n"
      ]
     },
     "metadata": {},
     "output_type": "display_data"
    },
    {
     "data": {
      "text/html": [
       "<pre style=\"white-space:pre;overflow-x:auto;line-height:normal;font-family:Menlo,'DejaVu Sans Mono',consolas,'Courier New',monospace\">Market Return : -1.24%   |   Portfolio Return : -7.45%   |   Position Changes : 234   |   Episode Length : 1330   |\n",
       "</pre>\n"
      ],
      "text/plain": [
       "Market Return : -1.24%   |   Portfolio Return : -7.45%   |   Position Changes : 234   |   Episode Length : 1330   |\n"
      ]
     },
     "metadata": {},
     "output_type": "display_data"
    },
    {
     "data": {
      "text/html": [
       "<pre style=\"white-space:pre;overflow-x:auto;line-height:normal;font-family:Menlo,'DejaVu Sans Mono',consolas,'Courier New',monospace\">Market Return :  5.98%   |   Portfolio Return : -7.11%   |   Position Changes : 264   |   Episode Length : 1270   |\n",
       "</pre>\n"
      ],
      "text/plain": [
       "Market Return :  5.98%   |   Portfolio Return : -7.11%   |   Position Changes : 264   |   Episode Length : 1270   |\n"
      ]
     },
     "metadata": {},
     "output_type": "display_data"
    },
    {
     "data": {
      "text/html": [
       "<pre style=\"white-space:pre;overflow-x:auto;line-height:normal;font-family:Menlo,'DejaVu Sans Mono',consolas,'Courier New',monospace\">Market Return : -0.10%   |   Portfolio Return : -8.34%   |   Position Changes : 241   |   Episode Length : 1330   |\n",
       "</pre>\n"
      ],
      "text/plain": [
       "Market Return : -0.10%   |   Portfolio Return : -8.34%   |   Position Changes : 241   |   Episode Length : 1330   |\n"
      ]
     },
     "metadata": {},
     "output_type": "display_data"
    },
    {
     "data": {
      "text/html": [
       "<pre style=\"white-space:pre;overflow-x:auto;line-height:normal;font-family:Menlo,'DejaVu Sans Mono',consolas,'Courier New',monospace\">Market Return :  1.08%   |   Portfolio Return : -3.47%   |   Position Changes : 181   |   Episode Length : 1180   |\n",
       "</pre>\n"
      ],
      "text/plain": [
       "Market Return :  1.08%   |   Portfolio Return : -3.47%   |   Position Changes : 181   |   Episode Length : 1180   |\n"
      ]
     },
     "metadata": {},
     "output_type": "display_data"
    },
    {
     "data": {
      "text/html": [
       "<pre style=\"white-space:pre;overflow-x:auto;line-height:normal;font-family:Menlo,'DejaVu Sans Mono',consolas,'Courier New',monospace\">Market Return : -4.47%   |   Portfolio Return :  0.01%   |   Position Changes : 406   |   Episode Length : 1330   |\n",
       "</pre>\n"
      ],
      "text/plain": [
       "Market Return : -4.47%   |   Portfolio Return :  0.01%   |   Position Changes : 406   |   Episode Length : 1330   |\n"
      ]
     },
     "metadata": {},
     "output_type": "display_data"
    },
    {
     "data": {
      "text/html": [
       "<pre style=\"white-space:pre;overflow-x:auto;line-height:normal;font-family:Menlo,'DejaVu Sans Mono',consolas,'Courier New',monospace\">Market Return :  2.23%   |   Portfolio Return : -5.40%   |   Position Changes : 213   |   Episode Length : 1330   |\n",
       "</pre>\n"
      ],
      "text/plain": [
       "Market Return :  2.23%   |   Portfolio Return : -5.40%   |   Position Changes : 213   |   Episode Length : 1330   |\n"
      ]
     },
     "metadata": {},
     "output_type": "display_data"
    },
    {
     "data": {
      "text/html": [
       "<pre style=\"white-space:pre;overflow-x:auto;line-height:normal;font-family:Menlo,'DejaVu Sans Mono',consolas,'Courier New',monospace\">Market Return : -0.21%   |   Portfolio Return : -6.36%   |   Position Changes : 268   |   Episode Length : 1330   |\n",
       "</pre>\n"
      ],
      "text/plain": [
       "Market Return : -0.21%   |   Portfolio Return : -6.36%   |   Position Changes : 268   |   Episode Length : 1330   |\n"
      ]
     },
     "metadata": {},
     "output_type": "display_data"
    },
    {
     "data": {
      "text/html": [
       "<pre style=\"white-space:pre;overflow-x:auto;line-height:normal;font-family:Menlo,'DejaVu Sans Mono',consolas,'Courier New',monospace\">Market Return : -0.87%   |   Portfolio Return :  0.61%   |   Position Changes : 316   |   Episode Length : 1330   |\n",
       "</pre>\n"
      ],
      "text/plain": [
       "Market Return : -0.87%   |   Portfolio Return :  0.61%   |   Position Changes : 316   |   Episode Length : 1330   |\n"
      ]
     },
     "metadata": {},
     "output_type": "display_data"
    },
    {
     "data": {
      "text/html": [
       "<pre style=\"white-space:pre;overflow-x:auto;line-height:normal;font-family:Menlo,'DejaVu Sans Mono',consolas,'Courier New',monospace\">Market Return :  4.20%   |   Portfolio Return : -0.53%   |   Position Changes : 283   |   Episode Length : 1330   |\n",
       "</pre>\n"
      ],
      "text/plain": [
       "Market Return :  4.20%   |   Portfolio Return : -0.53%   |   Position Changes : 283   |   Episode Length : 1330   |\n"
      ]
     },
     "metadata": {},
     "output_type": "display_data"
    },
    {
     "data": {
      "text/html": [
       "<pre style=\"white-space:pre;overflow-x:auto;line-height:normal;font-family:Menlo,'DejaVu Sans Mono',consolas,'Courier New',monospace\">Market Return : -0.90%   |   Portfolio Return : -3.31%   |   Position Changes : 257   |   Episode Length : 1330   |\n",
       "</pre>\n"
      ],
      "text/plain": [
       "Market Return : -0.90%   |   Portfolio Return : -3.31%   |   Position Changes : 257   |   Episode Length : 1330   |\n"
      ]
     },
     "metadata": {},
     "output_type": "display_data"
    },
    {
     "data": {
      "text/html": [
       "<pre style=\"white-space:pre;overflow-x:auto;line-height:normal;font-family:Menlo,'DejaVu Sans Mono',consolas,'Courier New',monospace\">Market Return : -2.45%   |   Portfolio Return :  0.03%   |   Position Changes : 296   |   Episode Length : 1330   |\n",
       "</pre>\n"
      ],
      "text/plain": [
       "Market Return : -2.45%   |   Portfolio Return :  0.03%   |   Position Changes : 296   |   Episode Length : 1330   |\n"
      ]
     },
     "metadata": {},
     "output_type": "display_data"
    },
    {
     "data": {
      "text/html": [
       "<pre style=\"white-space:pre;overflow-x:auto;line-height:normal;font-family:Menlo,'DejaVu Sans Mono',consolas,'Courier New',monospace\">Market Return : -0.93%   |   Portfolio Return : -1.59%   |   Position Changes : 276   |   Episode Length : 1330   |\n",
       "</pre>\n"
      ],
      "text/plain": [
       "Market Return : -0.93%   |   Portfolio Return : -1.59%   |   Position Changes : 276   |   Episode Length : 1330   |\n"
      ]
     },
     "metadata": {},
     "output_type": "display_data"
    },
    {
     "data": {
      "text/html": [
       "<pre style=\"white-space:pre;overflow-x:auto;line-height:normal;font-family:Menlo,'DejaVu Sans Mono',consolas,'Courier New',monospace\">Market Return :  3.45%   |   Portfolio Return : -4.11%   |   Position Changes : 225   |   Episode Length : 1330   |\n",
       "</pre>\n"
      ],
      "text/plain": [
       "Market Return :  3.45%   |   Portfolio Return : -4.11%   |   Position Changes : 225   |   Episode Length : 1330   |\n"
      ]
     },
     "metadata": {},
     "output_type": "display_data"
    },
    {
     "data": {
      "text/html": [
       "<pre style=\"white-space:pre;overflow-x:auto;line-height:normal;font-family:Menlo,'DejaVu Sans Mono',consolas,'Courier New',monospace\">Market Return : -3.97%   |   Portfolio Return : -3.20%   |   Position Changes : 256   |   Episode Length : 1330   |\n",
       "</pre>\n"
      ],
      "text/plain": [
       "Market Return : -3.97%   |   Portfolio Return : -3.20%   |   Position Changes : 256   |   Episode Length : 1330   |\n"
      ]
     },
     "metadata": {},
     "output_type": "display_data"
    },
    {
     "data": {
      "text/html": [
       "<pre style=\"white-space:pre;overflow-x:auto;line-height:normal;font-family:Menlo,'DejaVu Sans Mono',consolas,'Courier New',monospace\">Market Return :  1.95%   |   Portfolio Return : -3.69%   |   Position Changes : 262   |   Episode Length : 1330   |\n",
       "</pre>\n"
      ],
      "text/plain": [
       "Market Return :  1.95%   |   Portfolio Return : -3.69%   |   Position Changes : 262   |   Episode Length : 1330   |\n"
      ]
     },
     "metadata": {},
     "output_type": "display_data"
    },
    {
     "data": {
      "text/html": [
       "<pre style=\"white-space:pre;overflow-x:auto;line-height:normal;font-family:Menlo,'DejaVu Sans Mono',consolas,'Courier New',monospace\">Market Return : -0.27%   |   Portfolio Return : -5.27%   |   Position Changes : 302   |   Episode Length : 1330   |\n",
       "</pre>\n"
      ],
      "text/plain": [
       "Market Return : -0.27%   |   Portfolio Return : -5.27%   |   Position Changes : 302   |   Episode Length : 1330   |\n"
      ]
     },
     "metadata": {},
     "output_type": "display_data"
    },
    {
     "data": {
      "text/html": [
       "<pre style=\"white-space:pre;overflow-x:auto;line-height:normal;font-family:Menlo,'DejaVu Sans Mono',consolas,'Courier New',monospace\">Market Return : -0.23%   |   Portfolio Return : -3.65%   |   Position Changes : 221   |   Episode Length : 1330   |\n",
       "</pre>\n"
      ],
      "text/plain": [
       "Market Return : -0.23%   |   Portfolio Return : -3.65%   |   Position Changes : 221   |   Episode Length : 1330   |\n"
      ]
     },
     "metadata": {},
     "output_type": "display_data"
    },
    {
     "data": {
      "text/html": [
       "<pre style=\"white-space:pre;overflow-x:auto;line-height:normal;font-family:Menlo,'DejaVu Sans Mono',consolas,'Courier New',monospace\">Market Return : -1.63%   |   Portfolio Return : -1.20%   |   Position Changes : 288   |   Episode Length : 1330   |\n",
       "</pre>\n"
      ],
      "text/plain": [
       "Market Return : -1.63%   |   Portfolio Return : -1.20%   |   Position Changes : 288   |   Episode Length : 1330   |\n"
      ]
     },
     "metadata": {},
     "output_type": "display_data"
    },
    {
     "data": {
      "text/html": [
       "<pre style=\"white-space:pre;overflow-x:auto;line-height:normal;font-family:Menlo,'DejaVu Sans Mono',consolas,'Courier New',monospace\">Market Return :  1.18%   |   Portfolio Return : -5.58%   |   Position Changes : 310   |   Episode Length : 1330   |\n",
       "</pre>\n"
      ],
      "text/plain": [
       "Market Return :  1.18%   |   Portfolio Return : -5.58%   |   Position Changes : 310   |   Episode Length : 1330   |\n"
      ]
     },
     "metadata": {},
     "output_type": "display_data"
    },
    {
     "data": {
      "text/html": [
       "<pre style=\"white-space:pre;overflow-x:auto;line-height:normal;font-family:Menlo,'DejaVu Sans Mono',consolas,'Courier New',monospace\">Market Return : -1.20%   |   Portfolio Return : -2.35%   |   Position Changes : 214   |   Episode Length : 1330   |\n",
       "</pre>\n"
      ],
      "text/plain": [
       "Market Return : -1.20%   |   Portfolio Return : -2.35%   |   Position Changes : 214   |   Episode Length : 1330   |\n"
      ]
     },
     "metadata": {},
     "output_type": "display_data"
    },
    {
     "data": {
      "text/html": [
       "<pre style=\"white-space:pre;overflow-x:auto;line-height:normal;font-family:Menlo,'DejaVu Sans Mono',consolas,'Courier New',monospace\">Market Return :  2.08%   |   Portfolio Return : -2.89%   |   Position Changes : 267   |   Episode Length : 1330   |\n",
       "</pre>\n"
      ],
      "text/plain": [
       "Market Return :  2.08%   |   Portfolio Return : -2.89%   |   Position Changes : 267   |   Episode Length : 1330   |\n"
      ]
     },
     "metadata": {},
     "output_type": "display_data"
    },
    {
     "data": {
      "text/html": [
       "<pre style=\"white-space:pre;overflow-x:auto;line-height:normal;font-family:Menlo,'DejaVu Sans Mono',consolas,'Courier New',monospace\">Market Return : -1.27%   |   Portfolio Return :  0.42%   |   Position Changes : 214   |   Episode Length : 1330   |\n",
       "</pre>\n"
      ],
      "text/plain": [
       "Market Return : -1.27%   |   Portfolio Return :  0.42%   |   Position Changes : 214   |   Episode Length : 1330   |\n"
      ]
     },
     "metadata": {},
     "output_type": "display_data"
    },
    {
     "data": {
      "text/html": [
       "<pre style=\"white-space:pre;overflow-x:auto;line-height:normal;font-family:Menlo,'DejaVu Sans Mono',consolas,'Courier New',monospace\">Market Return :  0.01%   |   Portfolio Return : -3.80%   |   Position Changes : 242   |   Episode Length : 1330   |\n",
       "</pre>\n"
      ],
      "text/plain": [
       "Market Return :  0.01%   |   Portfolio Return : -3.80%   |   Position Changes : 242   |   Episode Length : 1330   |\n"
      ]
     },
     "metadata": {},
     "output_type": "display_data"
    },
    {
     "data": {
      "text/html": [
       "<pre style=\"white-space:pre;overflow-x:auto;line-height:normal;font-family:Menlo,'DejaVu Sans Mono',consolas,'Courier New',monospace\">Market Return :  0.89%   |   Portfolio Return :  0.97%   |   Position Changes : 360   |   Episode Length : 1330   |\n",
       "</pre>\n"
      ],
      "text/plain": [
       "Market Return :  0.89%   |   Portfolio Return :  0.97%   |   Position Changes : 360   |   Episode Length : 1330   |\n"
      ]
     },
     "metadata": {},
     "output_type": "display_data"
    },
    {
     "data": {
      "text/html": [
       "<pre style=\"white-space:pre;overflow-x:auto;line-height:normal;font-family:Menlo,'DejaVu Sans Mono',consolas,'Courier New',monospace\">Market Return : -4.61%   |   Portfolio Return : -3.27%   |   Position Changes : 241   |   Episode Length : 1330   |\n",
       "</pre>\n"
      ],
      "text/plain": [
       "Market Return : -4.61%   |   Portfolio Return : -3.27%   |   Position Changes : 241   |   Episode Length : 1330   |\n"
      ]
     },
     "metadata": {},
     "output_type": "display_data"
    },
    {
     "data": {
      "text/html": [
       "<pre style=\"white-space:pre;overflow-x:auto;line-height:normal;font-family:Menlo,'DejaVu Sans Mono',consolas,'Courier New',monospace\">Market Return : -1.17%   |   Portfolio Return : -2.74%   |   Position Changes : 285   |   Episode Length : 1330   |\n",
       "</pre>\n"
      ],
      "text/plain": [
       "Market Return : -1.17%   |   Portfolio Return : -2.74%   |   Position Changes : 285   |   Episode Length : 1330   |\n"
      ]
     },
     "metadata": {},
     "output_type": "display_data"
    },
    {
     "data": {
      "text/html": [
       "<pre style=\"white-space:pre;overflow-x:auto;line-height:normal;font-family:Menlo,'DejaVu Sans Mono',consolas,'Courier New',monospace\">Market Return :  4.28%   |   Portfolio Return :  1.04%   |   Position Changes : 376   |   Episode Length : 1330   |\n",
       "</pre>\n"
      ],
      "text/plain": [
       "Market Return :  4.28%   |   Portfolio Return :  1.04%   |   Position Changes : 376   |   Episode Length : 1330   |\n"
      ]
     },
     "metadata": {},
     "output_type": "display_data"
    },
    {
     "data": {
      "text/html": [
       "<pre style=\"white-space:pre;overflow-x:auto;line-height:normal;font-family:Menlo,'DejaVu Sans Mono',consolas,'Courier New',monospace\">Market Return :  1.30%   |   Portfolio Return : -10.28%   |   Position Changes : 369   |   Episode Length : 1330   \n",
       "|   \n",
       "</pre>\n"
      ],
      "text/plain": [
       "Market Return :  1.30%   |   Portfolio Return : -10.28%   |   Position Changes : 369   |   Episode Length : 1330   \n",
       "|   \n"
      ]
     },
     "metadata": {},
     "output_type": "display_data"
    },
    {
     "data": {
      "text/html": [
       "<pre style=\"white-space:pre;overflow-x:auto;line-height:normal;font-family:Menlo,'DejaVu Sans Mono',consolas,'Courier New',monospace\">Market Return :  2.56%   |   Portfolio Return : -6.70%   |   Position Changes : 243   |   Episode Length : 1330   |\n",
       "</pre>\n"
      ],
      "text/plain": [
       "Market Return :  2.56%   |   Portfolio Return : -6.70%   |   Position Changes : 243   |   Episode Length : 1330   |\n"
      ]
     },
     "metadata": {},
     "output_type": "display_data"
    },
    {
     "data": {
      "text/html": [
       "<pre style=\"white-space:pre;overflow-x:auto;line-height:normal;font-family:Menlo,'DejaVu Sans Mono',consolas,'Courier New',monospace\">Market Return :  1.30%   |   Portfolio Return : -2.49%   |   Position Changes : 235   |   Episode Length : 1330   |\n",
       "</pre>\n"
      ],
      "text/plain": [
       "Market Return :  1.30%   |   Portfolio Return : -2.49%   |   Position Changes : 235   |   Episode Length : 1330   |\n"
      ]
     },
     "metadata": {},
     "output_type": "display_data"
    },
    {
     "data": {
      "text/html": [
       "<pre style=\"white-space:pre;overflow-x:auto;line-height:normal;font-family:Menlo,'DejaVu Sans Mono',consolas,'Courier New',monospace\">Market Return :  2.81%   |   Portfolio Return : -5.58%   |   Position Changes : 230   |   Episode Length : 1330   |\n",
       "</pre>\n"
      ],
      "text/plain": [
       "Market Return :  2.81%   |   Portfolio Return : -5.58%   |   Position Changes : 230   |   Episode Length : 1330   |\n"
      ]
     },
     "metadata": {},
     "output_type": "display_data"
    },
    {
     "data": {
      "text/html": [
       "<pre style=\"white-space:pre;overflow-x:auto;line-height:normal;font-family:Menlo,'DejaVu Sans Mono',consolas,'Courier New',monospace\">Market Return : -2.80%   |   Portfolio Return : -29.39%   |   Position Changes : 484   |   Episode Length : 1330   \n",
       "|   \n",
       "</pre>\n"
      ],
      "text/plain": [
       "Market Return : -2.80%   |   Portfolio Return : -29.39%   |   Position Changes : 484   |   Episode Length : 1330   \n",
       "|   \n"
      ]
     },
     "metadata": {},
     "output_type": "display_data"
    },
    {
     "data": {
      "text/html": [
       "<pre style=\"white-space:pre;overflow-x:auto;line-height:normal;font-family:Menlo,'DejaVu Sans Mono',consolas,'Courier New',monospace\">Market Return : -2.38%   |   Portfolio Return : -5.98%   |   Position Changes : 314   |   Episode Length : 1330   |\n",
       "</pre>\n"
      ],
      "text/plain": [
       "Market Return : -2.38%   |   Portfolio Return : -5.98%   |   Position Changes : 314   |   Episode Length : 1330   |\n"
      ]
     },
     "metadata": {},
     "output_type": "display_data"
    },
    {
     "data": {
      "text/html": [
       "<pre style=\"white-space:pre;overflow-x:auto;line-height:normal;font-family:Menlo,'DejaVu Sans Mono',consolas,'Courier New',monospace\">Market Return :  2.60%   |   Portfolio Return : -5.29%   |   Position Changes : 211   |   Episode Length : 1330   |\n",
       "</pre>\n"
      ],
      "text/plain": [
       "Market Return :  2.60%   |   Portfolio Return : -5.29%   |   Position Changes : 211   |   Episode Length : 1330   |\n"
      ]
     },
     "metadata": {},
     "output_type": "display_data"
    },
    {
     "data": {
      "text/html": [
       "<pre style=\"white-space:pre;overflow-x:auto;line-height:normal;font-family:Menlo,'DejaVu Sans Mono',consolas,'Courier New',monospace\">Market Return :  2.09%   |   Portfolio Return : -6.26%   |   Position Changes : 218   |   Episode Length : 1330   |\n",
       "</pre>\n"
      ],
      "text/plain": [
       "Market Return :  2.09%   |   Portfolio Return : -6.26%   |   Position Changes : 218   |   Episode Length : 1330   |\n"
      ]
     },
     "metadata": {},
     "output_type": "display_data"
    },
    {
     "data": {
      "text/html": [
       "<pre style=\"white-space:pre;overflow-x:auto;line-height:normal;font-family:Menlo,'DejaVu Sans Mono',consolas,'Courier New',monospace\">Market Return :  1.10%   |   Portfolio Return : -4.00%   |   Position Changes : 249   |   Episode Length : 1330   |\n",
       "</pre>\n"
      ],
      "text/plain": [
       "Market Return :  1.10%   |   Portfolio Return : -4.00%   |   Position Changes : 249   |   Episode Length : 1330   |\n"
      ]
     },
     "metadata": {},
     "output_type": "display_data"
    },
    {
     "data": {
      "text/html": [
       "<pre style=\"white-space:pre;overflow-x:auto;line-height:normal;font-family:Menlo,'DejaVu Sans Mono',consolas,'Courier New',monospace\">Market Return : -9.99%   |   Portfolio Return :  2.48%   |   Position Changes : 279   |   Episode Length : 1330   |\n",
       "</pre>\n"
      ],
      "text/plain": [
       "Market Return : -9.99%   |   Portfolio Return :  2.48%   |   Position Changes : 279   |   Episode Length : 1330   |\n"
      ]
     },
     "metadata": {},
     "output_type": "display_data"
    },
    {
     "data": {
      "text/html": [
       "<pre style=\"white-space:pre;overflow-x:auto;line-height:normal;font-family:Menlo,'DejaVu Sans Mono',consolas,'Courier New',monospace\">Market Return : -1.47%   |   Portfolio Return : -5.58%   |   Position Changes : 188   |   Episode Length : 910   | \n",
       "</pre>\n"
      ],
      "text/plain": [
       "Market Return : -1.47%   |   Portfolio Return : -5.58%   |   Position Changes : 188   |   Episode Length : 910   | \n"
      ]
     },
     "metadata": {},
     "output_type": "display_data"
    },
    {
     "data": {
      "text/html": [
       "<pre style=\"white-space:pre;overflow-x:auto;line-height:normal;font-family:Menlo,'DejaVu Sans Mono',consolas,'Courier New',monospace\">Market Return : -6.31%   |   Portfolio Return : -5.13%   |   Position Changes : 354   |   Episode Length : 1330   |\n",
       "</pre>\n"
      ],
      "text/plain": [
       "Market Return : -6.31%   |   Portfolio Return : -5.13%   |   Position Changes : 354   |   Episode Length : 1330   |\n"
      ]
     },
     "metadata": {},
     "output_type": "display_data"
    },
    {
     "data": {
      "text/html": [
       "<pre style=\"white-space:pre;overflow-x:auto;line-height:normal;font-family:Menlo,'DejaVu Sans Mono',consolas,'Courier New',monospace\">Market Return : -0.32%   |   Portfolio Return : -1.77%   |   Position Changes : 212   |   Episode Length : 1330   |\n",
       "</pre>\n"
      ],
      "text/plain": [
       "Market Return : -0.32%   |   Portfolio Return : -1.77%   |   Position Changes : 212   |   Episode Length : 1330   |\n"
      ]
     },
     "metadata": {},
     "output_type": "display_data"
    },
    {
     "data": {
      "text/html": [
       "<pre style=\"white-space:pre;overflow-x:auto;line-height:normal;font-family:Menlo,'DejaVu Sans Mono',consolas,'Courier New',monospace\">Market Return :  1.16%   |   Portfolio Return : -2.30%   |   Position Changes : 295   |   Episode Length : 1330   |\n",
       "</pre>\n"
      ],
      "text/plain": [
       "Market Return :  1.16%   |   Portfolio Return : -2.30%   |   Position Changes : 295   |   Episode Length : 1330   |\n"
      ]
     },
     "metadata": {},
     "output_type": "display_data"
    },
    {
     "data": {
      "text/html": [
       "<pre style=\"white-space:pre;overflow-x:auto;line-height:normal;font-family:Menlo,'DejaVu Sans Mono',consolas,'Courier New',monospace\">Market Return : -3.49%   |   Portfolio Return : -3.98%   |   Position Changes : 224   |   Episode Length : 1330   |\n",
       "</pre>\n"
      ],
      "text/plain": [
       "Market Return : -3.49%   |   Portfolio Return : -3.98%   |   Position Changes : 224   |   Episode Length : 1330   |\n"
      ]
     },
     "metadata": {},
     "output_type": "display_data"
    },
    {
     "data": {
      "text/html": [
       "<pre style=\"white-space:pre;overflow-x:auto;line-height:normal;font-family:Menlo,'DejaVu Sans Mono',consolas,'Courier New',monospace\">Market Return : -6.15%   |   Portfolio Return :  0.30%   |   Position Changes : 274   |   Episode Length : 1330   |\n",
       "</pre>\n"
      ],
      "text/plain": [
       "Market Return : -6.15%   |   Portfolio Return :  0.30%   |   Position Changes : 274   |   Episode Length : 1330   |\n"
      ]
     },
     "metadata": {},
     "output_type": "display_data"
    },
    {
     "data": {
      "text/html": [
       "<pre style=\"white-space:pre;overflow-x:auto;line-height:normal;font-family:Menlo,'DejaVu Sans Mono',consolas,'Courier New',monospace\">Market Return :  1.89%   |   Portfolio Return : -0.12%   |   Position Changes : 301   |   Episode Length : 1330   |\n",
       "</pre>\n"
      ],
      "text/plain": [
       "Market Return :  1.89%   |   Portfolio Return : -0.12%   |   Position Changes : 301   |   Episode Length : 1330   |\n"
      ]
     },
     "metadata": {},
     "output_type": "display_data"
    },
    {
     "data": {
      "text/html": [
       "<pre style=\"white-space:pre;overflow-x:auto;line-height:normal;font-family:Menlo,'DejaVu Sans Mono',consolas,'Courier New',monospace\">Market Return :  1.77%   |   Portfolio Return : -3.91%   |   Position Changes : 264   |   Episode Length : 1330   |\n",
       "</pre>\n"
      ],
      "text/plain": [
       "Market Return :  1.77%   |   Portfolio Return : -3.91%   |   Position Changes : 264   |   Episode Length : 1330   |\n"
      ]
     },
     "metadata": {},
     "output_type": "display_data"
    },
    {
     "data": {
      "text/html": [
       "<pre style=\"white-space:pre;overflow-x:auto;line-height:normal;font-family:Menlo,'DejaVu Sans Mono',consolas,'Courier New',monospace\">Market Return : -0.48%   |   Portfolio Return : -5.15%   |   Position Changes : 222   |   Episode Length : 1330   |\n",
       "</pre>\n"
      ],
      "text/plain": [
       "Market Return : -0.48%   |   Portfolio Return : -5.15%   |   Position Changes : 222   |   Episode Length : 1330   |\n"
      ]
     },
     "metadata": {},
     "output_type": "display_data"
    },
    {
     "data": {
      "text/html": [
       "<pre style=\"white-space:pre;overflow-x:auto;line-height:normal;font-family:Menlo,'DejaVu Sans Mono',consolas,'Courier New',monospace\">Market Return : -0.88%   |   Portfolio Return : -3.51%   |   Position Changes : 306   |   Episode Length : 1330   |\n",
       "</pre>\n"
      ],
      "text/plain": [
       "Market Return : -0.88%   |   Portfolio Return : -3.51%   |   Position Changes : 306   |   Episode Length : 1330   |\n"
      ]
     },
     "metadata": {},
     "output_type": "display_data"
    },
    {
     "data": {
      "text/html": [
       "<pre style=\"white-space:pre;overflow-x:auto;line-height:normal;font-family:Menlo,'DejaVu Sans Mono',consolas,'Courier New',monospace\">Market Return : -1.34%   |   Portfolio Return : -11.15%   |   Position Changes : 313   |   Episode Length : 1330   \n",
       "|   \n",
       "</pre>\n"
      ],
      "text/plain": [
       "Market Return : -1.34%   |   Portfolio Return : -11.15%   |   Position Changes : 313   |   Episode Length : 1330   \n",
       "|   \n"
      ]
     },
     "metadata": {},
     "output_type": "display_data"
    },
    {
     "data": {
      "text/html": [
       "<pre style=\"white-space:pre;overflow-x:auto;line-height:normal;font-family:Menlo,'DejaVu Sans Mono',consolas,'Courier New',monospace\">Market Return :  0.36%   |   Portfolio Return : -5.32%   |   Position Changes : 301   |   Episode Length : 1330   |\n",
       "</pre>\n"
      ],
      "text/plain": [
       "Market Return :  0.36%   |   Portfolio Return : -5.32%   |   Position Changes : 301   |   Episode Length : 1330   |\n"
      ]
     },
     "metadata": {},
     "output_type": "display_data"
    },
    {
     "data": {
      "text/html": [
       "<pre style=\"white-space:pre;overflow-x:auto;line-height:normal;font-family:Menlo,'DejaVu Sans Mono',consolas,'Courier New',monospace\">Market Return :  5.32%   |   Portfolio Return : -2.44%   |   Position Changes : 268   |   Episode Length : 1330   |\n",
       "</pre>\n"
      ],
      "text/plain": [
       "Market Return :  5.32%   |   Portfolio Return : -2.44%   |   Position Changes : 268   |   Episode Length : 1330   |\n"
      ]
     },
     "metadata": {},
     "output_type": "display_data"
    },
    {
     "data": {
      "text/html": [
       "<pre style=\"white-space:pre;overflow-x:auto;line-height:normal;font-family:Menlo,'DejaVu Sans Mono',consolas,'Courier New',monospace\">Market Return :  0.27%   |   Portfolio Return : -3.80%   |   Position Changes : 226   |   Episode Length : 1330   |\n",
       "</pre>\n"
      ],
      "text/plain": [
       "Market Return :  0.27%   |   Portfolio Return : -3.80%   |   Position Changes : 226   |   Episode Length : 1330   |\n"
      ]
     },
     "metadata": {},
     "output_type": "display_data"
    },
    {
     "data": {
      "text/html": [
       "<pre style=\"white-space:pre;overflow-x:auto;line-height:normal;font-family:Menlo,'DejaVu Sans Mono',consolas,'Courier New',monospace\">Market Return :  0.03%   |   Portfolio Return : -3.48%   |   Position Changes : 200   |   Episode Length : 1330   |\n",
       "</pre>\n"
      ],
      "text/plain": [
       "Market Return :  0.03%   |   Portfolio Return : -3.48%   |   Position Changes : 200   |   Episode Length : 1330   |\n"
      ]
     },
     "metadata": {},
     "output_type": "display_data"
    },
    {
     "data": {
      "text/html": [
       "<pre style=\"white-space:pre;overflow-x:auto;line-height:normal;font-family:Menlo,'DejaVu Sans Mono',consolas,'Courier New',monospace\">Market Return : -1.63%   |   Portfolio Return : -6.29%   |   Position Changes : 222   |   Episode Length : 1330   |\n",
       "</pre>\n"
      ],
      "text/plain": [
       "Market Return : -1.63%   |   Portfolio Return : -6.29%   |   Position Changes : 222   |   Episode Length : 1330   |\n"
      ]
     },
     "metadata": {},
     "output_type": "display_data"
    },
    {
     "data": {
      "text/html": [
       "<pre style=\"white-space:pre;overflow-x:auto;line-height:normal;font-family:Menlo,'DejaVu Sans Mono',consolas,'Courier New',monospace\">Market Return :  1.95%   |   Portfolio Return : -2.12%   |   Position Changes : 276   |   Episode Length : 1330   |\n",
       "</pre>\n"
      ],
      "text/plain": [
       "Market Return :  1.95%   |   Portfolio Return : -2.12%   |   Position Changes : 276   |   Episode Length : 1330   |\n"
      ]
     },
     "metadata": {},
     "output_type": "display_data"
    },
    {
     "data": {
      "text/html": [
       "<pre style=\"white-space:pre;overflow-x:auto;line-height:normal;font-family:Menlo,'DejaVu Sans Mono',consolas,'Courier New',monospace\">Market Return :  0.87%   |   Portfolio Return : -4.19%   |   Position Changes : 240   |   Episode Length : 1330   |\n",
       "</pre>\n"
      ],
      "text/plain": [
       "Market Return :  0.87%   |   Portfolio Return : -4.19%   |   Position Changes : 240   |   Episode Length : 1330   |\n"
      ]
     },
     "metadata": {},
     "output_type": "display_data"
    },
    {
     "data": {
      "text/html": [
       "<pre style=\"white-space:pre;overflow-x:auto;line-height:normal;font-family:Menlo,'DejaVu Sans Mono',consolas,'Courier New',monospace\">Market Return : -0.64%   |   Portfolio Return : -7.21%   |   Position Changes : 277   |   Episode Length : 1330   |\n",
       "</pre>\n"
      ],
      "text/plain": [
       "Market Return : -0.64%   |   Portfolio Return : -7.21%   |   Position Changes : 277   |   Episode Length : 1330   |\n"
      ]
     },
     "metadata": {},
     "output_type": "display_data"
    },
    {
     "data": {
      "text/html": [
       "<pre style=\"white-space:pre;overflow-x:auto;line-height:normal;font-family:Menlo,'DejaVu Sans Mono',consolas,'Courier New',monospace\">Market Return :  0.52%   |   Portfolio Return : -6.38%   |   Position Changes : 252   |   Episode Length : 1330   |\n",
       "</pre>\n"
      ],
      "text/plain": [
       "Market Return :  0.52%   |   Portfolio Return : -6.38%   |   Position Changes : 252   |   Episode Length : 1330   |\n"
      ]
     },
     "metadata": {},
     "output_type": "display_data"
    },
    {
     "data": {
      "text/html": [
       "<pre style=\"white-space:pre;overflow-x:auto;line-height:normal;font-family:Menlo,'DejaVu Sans Mono',consolas,'Courier New',monospace\">Market Return :  0.30%   |   Portfolio Return : -3.91%   |   Position Changes : 302   |   Episode Length : 1330   |\n",
       "</pre>\n"
      ],
      "text/plain": [
       "Market Return :  0.30%   |   Portfolio Return : -3.91%   |   Position Changes : 302   |   Episode Length : 1330   |\n"
      ]
     },
     "metadata": {},
     "output_type": "display_data"
    },
    {
     "data": {
      "text/html": [
       "<pre style=\"white-space:pre;overflow-x:auto;line-height:normal;font-family:Menlo,'DejaVu Sans Mono',consolas,'Courier New',monospace\">Market Return :  1.08%   |   Portfolio Return : -5.50%   |   Position Changes : 249   |   Episode Length : 1330   |\n",
       "</pre>\n"
      ],
      "text/plain": [
       "Market Return :  1.08%   |   Portfolio Return : -5.50%   |   Position Changes : 249   |   Episode Length : 1330   |\n"
      ]
     },
     "metadata": {},
     "output_type": "display_data"
    },
    {
     "data": {
      "text/html": [
       "<pre style=\"white-space:pre;overflow-x:auto;line-height:normal;font-family:Menlo,'DejaVu Sans Mono',consolas,'Courier New',monospace\">Market Return :  1.03%   |   Portfolio Return : -0.99%   |   Position Changes : 272   |   Episode Length : 1330   |\n",
       "</pre>\n"
      ],
      "text/plain": [
       "Market Return :  1.03%   |   Portfolio Return : -0.99%   |   Position Changes : 272   |   Episode Length : 1330   |\n"
      ]
     },
     "metadata": {},
     "output_type": "display_data"
    },
    {
     "data": {
      "text/html": [
       "<pre style=\"white-space:pre;overflow-x:auto;line-height:normal;font-family:Menlo,'DejaVu Sans Mono',consolas,'Courier New',monospace\">Market Return : -1.66%   |   Portfolio Return : -7.02%   |   Position Changes : 294   |   Episode Length : 1330   |\n",
       "</pre>\n"
      ],
      "text/plain": [
       "Market Return : -1.66%   |   Portfolio Return : -7.02%   |   Position Changes : 294   |   Episode Length : 1330   |\n"
      ]
     },
     "metadata": {},
     "output_type": "display_data"
    },
    {
     "data": {
      "text/html": [
       "<pre style=\"white-space:pre;overflow-x:auto;line-height:normal;font-family:Menlo,'DejaVu Sans Mono',consolas,'Courier New',monospace\">Market Return :  0.58%   |   Portfolio Return : -5.63%   |   Position Changes : 381   |   Episode Length : 1330   |\n",
       "</pre>\n"
      ],
      "text/plain": [
       "Market Return :  0.58%   |   Portfolio Return : -5.63%   |   Position Changes : 381   |   Episode Length : 1330   |\n"
      ]
     },
     "metadata": {},
     "output_type": "display_data"
    },
    {
     "data": {
      "text/html": [
       "<pre style=\"white-space:pre;overflow-x:auto;line-height:normal;font-family:Menlo,'DejaVu Sans Mono',consolas,'Courier New',monospace\">Market Return : -2.03%   |   Portfolio Return : -8.92%   |   Position Changes : 317   |   Episode Length : 1330   |\n",
       "</pre>\n"
      ],
      "text/plain": [
       "Market Return : -2.03%   |   Portfolio Return : -8.92%   |   Position Changes : 317   |   Episode Length : 1330   |\n"
      ]
     },
     "metadata": {},
     "output_type": "display_data"
    },
    {
     "data": {
      "text/html": [
       "<pre style=\"white-space:pre;overflow-x:auto;line-height:normal;font-family:Menlo,'DejaVu Sans Mono',consolas,'Courier New',monospace\">Market Return : -1.23%   |   Portfolio Return :  2.75%   |   Position Changes : 293   |   Episode Length : 1330   |\n",
       "</pre>\n"
      ],
      "text/plain": [
       "Market Return : -1.23%   |   Portfolio Return :  2.75%   |   Position Changes : 293   |   Episode Length : 1330   |\n"
      ]
     },
     "metadata": {},
     "output_type": "display_data"
    },
    {
     "data": {
      "text/html": [
       "<pre style=\"white-space:pre;overflow-x:auto;line-height:normal;font-family:Menlo,'DejaVu Sans Mono',consolas,'Courier New',monospace\">Market Return : -0.63%   |   Portfolio Return : -12.71%   |   Position Changes : 383   |   Episode Length : 1330   \n",
       "|   \n",
       "</pre>\n"
      ],
      "text/plain": [
       "Market Return : -0.63%   |   Portfolio Return : -12.71%   |   Position Changes : 383   |   Episode Length : 1330   \n",
       "|   \n"
      ]
     },
     "metadata": {},
     "output_type": "display_data"
    },
    {
     "data": {
      "text/html": [
       "<pre style=\"white-space:pre;overflow-x:auto;line-height:normal;font-family:Menlo,'DejaVu Sans Mono',consolas,'Courier New',monospace\">Market Return : -2.31%   |   Portfolio Return : -9.04%   |   Position Changes : 341   |   Episode Length : 1330   |\n",
       "</pre>\n"
      ],
      "text/plain": [
       "Market Return : -2.31%   |   Portfolio Return : -9.04%   |   Position Changes : 341   |   Episode Length : 1330   |\n"
      ]
     },
     "metadata": {},
     "output_type": "display_data"
    },
    {
     "data": {
      "text/html": [
       "<pre style=\"white-space:pre;overflow-x:auto;line-height:normal;font-family:Menlo,'DejaVu Sans Mono',consolas,'Courier New',monospace\">Market Return :  5.38%   |   Portfolio Return : -8.36%   |   Position Changes : 264   |   Episode Length : 1330   |\n",
       "</pre>\n"
      ],
      "text/plain": [
       "Market Return :  5.38%   |   Portfolio Return : -8.36%   |   Position Changes : 264   |   Episode Length : 1330   |\n"
      ]
     },
     "metadata": {},
     "output_type": "display_data"
    },
    {
     "data": {
      "text/html": [
       "<pre style=\"white-space:pre;overflow-x:auto;line-height:normal;font-family:Menlo,'DejaVu Sans Mono',consolas,'Courier New',monospace\">Market Return : 11.88%   |   Portfolio Return : -0.16%   |   Position Changes : 416   |   Episode Length : 1330   |\n",
       "</pre>\n"
      ],
      "text/plain": [
       "Market Return : 11.88%   |   Portfolio Return : -0.16%   |   Position Changes : 416   |   Episode Length : 1330   |\n"
      ]
     },
     "metadata": {},
     "output_type": "display_data"
    },
    {
     "data": {
      "text/html": [
       "<pre style=\"white-space:pre;overflow-x:auto;line-height:normal;font-family:Menlo,'DejaVu Sans Mono',consolas,'Courier New',monospace\">Market Return : -0.72%   |   Portfolio Return : -4.05%   |   Position Changes : 293   |   Episode Length : 1330   |\n",
       "</pre>\n"
      ],
      "text/plain": [
       "Market Return : -0.72%   |   Portfolio Return : -4.05%   |   Position Changes : 293   |   Episode Length : 1330   |\n"
      ]
     },
     "metadata": {},
     "output_type": "display_data"
    },
    {
     "data": {
      "text/html": [
       "<pre style=\"white-space:pre;overflow-x:auto;line-height:normal;font-family:Menlo,'DejaVu Sans Mono',consolas,'Courier New',monospace\">Market Return :  3.07%   |   Portfolio Return : -2.41%   |   Position Changes : 298   |   Episode Length : 1330   |\n",
       "</pre>\n"
      ],
      "text/plain": [
       "Market Return :  3.07%   |   Portfolio Return : -2.41%   |   Position Changes : 298   |   Episode Length : 1330   |\n"
      ]
     },
     "metadata": {},
     "output_type": "display_data"
    },
    {
     "data": {
      "text/html": [
       "<pre style=\"white-space:pre;overflow-x:auto;line-height:normal;font-family:Menlo,'DejaVu Sans Mono',consolas,'Courier New',monospace\">Market Return :  2.71%   |   Portfolio Return : -6.74%   |   Position Changes : 259   |   Episode Length : 1330   |\n",
       "</pre>\n"
      ],
      "text/plain": [
       "Market Return :  2.71%   |   Portfolio Return : -6.74%   |   Position Changes : 259   |   Episode Length : 1330   |\n"
      ]
     },
     "metadata": {},
     "output_type": "display_data"
    },
    {
     "data": {
      "text/html": [
       "<pre style=\"white-space:pre;overflow-x:auto;line-height:normal;font-family:Menlo,'DejaVu Sans Mono',consolas,'Courier New',monospace\">Market Return : -3.41%   |   Portfolio Return : -7.58%   |   Position Changes : 379   |   Episode Length : 1330   |\n",
       "</pre>\n"
      ],
      "text/plain": [
       "Market Return : -3.41%   |   Portfolio Return : -7.58%   |   Position Changes : 379   |   Episode Length : 1330   |\n"
      ]
     },
     "metadata": {},
     "output_type": "display_data"
    },
    {
     "data": {
      "text/html": [
       "<pre style=\"white-space:pre;overflow-x:auto;line-height:normal;font-family:Menlo,'DejaVu Sans Mono',consolas,'Courier New',monospace\">Market Return : -0.30%   |   Portfolio Return : -6.17%   |   Position Changes : 283   |   Episode Length : 1330   |\n",
       "</pre>\n"
      ],
      "text/plain": [
       "Market Return : -0.30%   |   Portfolio Return : -6.17%   |   Position Changes : 283   |   Episode Length : 1330   |\n"
      ]
     },
     "metadata": {},
     "output_type": "display_data"
    },
    {
     "data": {
      "text/html": [
       "<pre style=\"white-space:pre;overflow-x:auto;line-height:normal;font-family:Menlo,'DejaVu Sans Mono',consolas,'Courier New',monospace\">Market Return :  2.82%   |   Portfolio Return : -3.46%   |   Position Changes : 254   |   Episode Length : 1330   |\n",
       "</pre>\n"
      ],
      "text/plain": [
       "Market Return :  2.82%   |   Portfolio Return : -3.46%   |   Position Changes : 254   |   Episode Length : 1330   |\n"
      ]
     },
     "metadata": {},
     "output_type": "display_data"
    },
    {
     "data": {
      "text/html": [
       "<pre style=\"white-space:pre;overflow-x:auto;line-height:normal;font-family:Menlo,'DejaVu Sans Mono',consolas,'Courier New',monospace\">Market Return :  0.70%   |   Portfolio Return : -3.49%   |   Position Changes : 207   |   Episode Length : 1330   |\n",
       "</pre>\n"
      ],
      "text/plain": [
       "Market Return :  0.70%   |   Portfolio Return : -3.49%   |   Position Changes : 207   |   Episode Length : 1330   |\n"
      ]
     },
     "metadata": {},
     "output_type": "display_data"
    },
    {
     "data": {
      "text/html": [
       "<pre style=\"white-space:pre;overflow-x:auto;line-height:normal;font-family:Menlo,'DejaVu Sans Mono',consolas,'Courier New',monospace\">Market Return : -3.81%   |   Portfolio Return : -4.65%   |   Position Changes : 277   |   Episode Length : 1330   |\n",
       "</pre>\n"
      ],
      "text/plain": [
       "Market Return : -3.81%   |   Portfolio Return : -4.65%   |   Position Changes : 277   |   Episode Length : 1330   |\n"
      ]
     },
     "metadata": {},
     "output_type": "display_data"
    },
    {
     "data": {
      "text/html": [
       "<pre style=\"white-space:pre;overflow-x:auto;line-height:normal;font-family:Menlo,'DejaVu Sans Mono',consolas,'Courier New',monospace\">Market Return : -3.38%   |   Portfolio Return :  5.98%   |   Position Changes : 344   |   Episode Length : 1330   |\n",
       "</pre>\n"
      ],
      "text/plain": [
       "Market Return : -3.38%   |   Portfolio Return :  5.98%   |   Position Changes : 344   |   Episode Length : 1330   |\n"
      ]
     },
     "metadata": {},
     "output_type": "display_data"
    },
    {
     "data": {
      "text/html": [
       "<pre style=\"white-space:pre;overflow-x:auto;line-height:normal;font-family:Menlo,'DejaVu Sans Mono',consolas,'Courier New',monospace\">Market Return :  2.88%   |   Portfolio Return : -4.38%   |   Position Changes : 245   |   Episode Length : 1330   |\n",
       "</pre>\n"
      ],
      "text/plain": [
       "Market Return :  2.88%   |   Portfolio Return : -4.38%   |   Position Changes : 245   |   Episode Length : 1330   |\n"
      ]
     },
     "metadata": {},
     "output_type": "display_data"
    },
    {
     "data": {
      "text/html": [
       "<pre style=\"white-space:pre;overflow-x:auto;line-height:normal;font-family:Menlo,'DejaVu Sans Mono',consolas,'Courier New',monospace\">Market Return : -0.25%   |   Portfolio Return : -5.50%   |   Position Changes : 268   |   Episode Length : 1330   |\n",
       "</pre>\n"
      ],
      "text/plain": [
       "Market Return : -0.25%   |   Portfolio Return : -5.50%   |   Position Changes : 268   |   Episode Length : 1330   |\n"
      ]
     },
     "metadata": {},
     "output_type": "display_data"
    },
    {
     "data": {
      "text/html": [
       "<pre style=\"white-space:pre;overflow-x:auto;line-height:normal;font-family:Menlo,'DejaVu Sans Mono',consolas,'Courier New',monospace\">Market Return :  0.62%   |   Portfolio Return :  4.43%   |   Position Changes : 394   |   Episode Length : 1330   |\n",
       "</pre>\n"
      ],
      "text/plain": [
       "Market Return :  0.62%   |   Portfolio Return :  4.43%   |   Position Changes : 394   |   Episode Length : 1330   |\n"
      ]
     },
     "metadata": {},
     "output_type": "display_data"
    },
    {
     "data": {
      "text/html": [
       "<pre style=\"white-space:pre;overflow-x:auto;line-height:normal;font-family:Menlo,'DejaVu Sans Mono',consolas,'Courier New',monospace\">Market Return :  7.59%   |   Portfolio Return : -4.42%   |   Position Changes : 427   |   Episode Length : 1330   |\n",
       "</pre>\n"
      ],
      "text/plain": [
       "Market Return :  7.59%   |   Portfolio Return : -4.42%   |   Position Changes : 427   |   Episode Length : 1330   |\n"
      ]
     },
     "metadata": {},
     "output_type": "display_data"
    },
    {
     "data": {
      "text/html": [
       "<pre style=\"white-space:pre;overflow-x:auto;line-height:normal;font-family:Menlo,'DejaVu Sans Mono',consolas,'Courier New',monospace\">Market Return : -0.90%   |   Portfolio Return : -3.47%   |   Position Changes : 201   |   Episode Length : 1330   |\n",
       "</pre>\n"
      ],
      "text/plain": [
       "Market Return : -0.90%   |   Portfolio Return : -3.47%   |   Position Changes : 201   |   Episode Length : 1330   |\n"
      ]
     },
     "metadata": {},
     "output_type": "display_data"
    },
    {
     "data": {
      "text/html": [
       "<pre style=\"white-space:pre;overflow-x:auto;line-height:normal;font-family:Menlo,'DejaVu Sans Mono',consolas,'Courier New',monospace\">Market Return :  3.59%   |   Portfolio Return :  2.93%   |   Position Changes : 378   |   Episode Length : 1330   |\n",
       "</pre>\n"
      ],
      "text/plain": [
       "Market Return :  3.59%   |   Portfolio Return :  2.93%   |   Position Changes : 378   |   Episode Length : 1330   |\n"
      ]
     },
     "metadata": {},
     "output_type": "display_data"
    },
    {
     "data": {
      "text/html": [
       "<pre style=\"white-space:pre;overflow-x:auto;line-height:normal;font-family:Menlo,'DejaVu Sans Mono',consolas,'Courier New',monospace\">Market Return : 15.15%   |   Portfolio Return :  3.56%   |   Position Changes : 293   |   Episode Length : 1330   |\n",
       "</pre>\n"
      ],
      "text/plain": [
       "Market Return : 15.15%   |   Portfolio Return :  3.56%   |   Position Changes : 293   |   Episode Length : 1330   |\n"
      ]
     },
     "metadata": {},
     "output_type": "display_data"
    },
    {
     "data": {
      "text/html": [
       "<pre style=\"white-space:pre;overflow-x:auto;line-height:normal;font-family:Menlo,'DejaVu Sans Mono',consolas,'Courier New',monospace\">Market Return :  8.30%   |   Portfolio Return : -7.55%   |   Position Changes : 327   |   Episode Length : 1330   |\n",
       "</pre>\n"
      ],
      "text/plain": [
       "Market Return :  8.30%   |   Portfolio Return : -7.55%   |   Position Changes : 327   |   Episode Length : 1330   |\n"
      ]
     },
     "metadata": {},
     "output_type": "display_data"
    },
    {
     "data": {
      "text/html": [
       "<pre style=\"white-space:pre;overflow-x:auto;line-height:normal;font-family:Menlo,'DejaVu Sans Mono',consolas,'Courier New',monospace\">Market Return :  0.89%   |   Portfolio Return : -4.09%   |   Position Changes : 233   |   Episode Length : 1330   |\n",
       "</pre>\n"
      ],
      "text/plain": [
       "Market Return :  0.89%   |   Portfolio Return : -4.09%   |   Position Changes : 233   |   Episode Length : 1330   |\n"
      ]
     },
     "metadata": {},
     "output_type": "display_data"
    },
    {
     "data": {
      "text/html": [
       "<pre style=\"white-space:pre;overflow-x:auto;line-height:normal;font-family:Menlo,'DejaVu Sans Mono',consolas,'Courier New',monospace\">Market Return : -0.18%   |   Portfolio Return : -1.12%   |   Position Changes : 216   |   Episode Length : 1330   |\n",
       "</pre>\n"
      ],
      "text/plain": [
       "Market Return : -0.18%   |   Portfolio Return : -1.12%   |   Position Changes : 216   |   Episode Length : 1330   |\n"
      ]
     },
     "metadata": {},
     "output_type": "display_data"
    },
    {
     "data": {
      "text/html": [
       "<pre style=\"white-space:pre;overflow-x:auto;line-height:normal;font-family:Menlo,'DejaVu Sans Mono',consolas,'Courier New',monospace\">Market Return :  2.99%   |   Portfolio Return : -4.24%   |   Position Changes : 258   |   Episode Length : 1330   |\n",
       "</pre>\n"
      ],
      "text/plain": [
       "Market Return :  2.99%   |   Portfolio Return : -4.24%   |   Position Changes : 258   |   Episode Length : 1330   |\n"
      ]
     },
     "metadata": {},
     "output_type": "display_data"
    },
    {
     "data": {
      "text/html": [
       "<pre style=\"white-space:pre;overflow-x:auto;line-height:normal;font-family:Menlo,'DejaVu Sans Mono',consolas,'Courier New',monospace\">Market Return : -2.81%   |   Portfolio Return : -3.25%   |   Position Changes : 238   |   Episode Length : 1330   |\n",
       "</pre>\n"
      ],
      "text/plain": [
       "Market Return : -2.81%   |   Portfolio Return : -3.25%   |   Position Changes : 238   |   Episode Length : 1330   |\n"
      ]
     },
     "metadata": {},
     "output_type": "display_data"
    },
    {
     "data": {
      "text/html": [
       "<pre style=\"white-space:pre;overflow-x:auto;line-height:normal;font-family:Menlo,'DejaVu Sans Mono',consolas,'Courier New',monospace\">Market Return :  0.40%   |   Portfolio Return : -6.90%   |   Position Changes : 253   |   Episode Length : 1330   |\n",
       "</pre>\n"
      ],
      "text/plain": [
       "Market Return :  0.40%   |   Portfolio Return : -6.90%   |   Position Changes : 253   |   Episode Length : 1330   |\n"
      ]
     },
     "metadata": {},
     "output_type": "display_data"
    },
    {
     "data": {
      "text/html": [
       "<pre style=\"white-space:pre;overflow-x:auto;line-height:normal;font-family:Menlo,'DejaVu Sans Mono',consolas,'Courier New',monospace\">Market Return :  0.07%   |   Portfolio Return : -4.86%   |   Position Changes : 310   |   Episode Length : 1330   |\n",
       "</pre>\n"
      ],
      "text/plain": [
       "Market Return :  0.07%   |   Portfolio Return : -4.86%   |   Position Changes : 310   |   Episode Length : 1330   |\n"
      ]
     },
     "metadata": {},
     "output_type": "display_data"
    },
    {
     "data": {
      "text/html": [
       "<pre style=\"white-space:pre;overflow-x:auto;line-height:normal;font-family:Menlo,'DejaVu Sans Mono',consolas,'Courier New',monospace\">Market Return : -2.93%   |   Portfolio Return : -6.00%   |   Position Changes : 265   |   Episode Length : 1330   |\n",
       "</pre>\n"
      ],
      "text/plain": [
       "Market Return : -2.93%   |   Portfolio Return : -6.00%   |   Position Changes : 265   |   Episode Length : 1330   |\n"
      ]
     },
     "metadata": {},
     "output_type": "display_data"
    },
    {
     "data": {
      "text/html": [
       "<pre style=\"white-space:pre;overflow-x:auto;line-height:normal;font-family:Menlo,'DejaVu Sans Mono',consolas,'Courier New',monospace\">Market Return : -3.60%   |   Portfolio Return : -5.65%   |   Position Changes : 239   |   Episode Length : 1330   |\n",
       "</pre>\n"
      ],
      "text/plain": [
       "Market Return : -3.60%   |   Portfolio Return : -5.65%   |   Position Changes : 239   |   Episode Length : 1330   |\n"
      ]
     },
     "metadata": {},
     "output_type": "display_data"
    },
    {
     "data": {
      "text/html": [
       "<pre style=\"white-space:pre;overflow-x:auto;line-height:normal;font-family:Menlo,'DejaVu Sans Mono',consolas,'Courier New',monospace\">Market Return :  0.84%   |   Portfolio Return :  0.44%   |   Position Changes : 241   |   Episode Length : 1330   |\n",
       "</pre>\n"
      ],
      "text/plain": [
       "Market Return :  0.84%   |   Portfolio Return :  0.44%   |   Position Changes : 241   |   Episode Length : 1330   |\n"
      ]
     },
     "metadata": {},
     "output_type": "display_data"
    },
    {
     "data": {
      "text/html": [
       "<pre style=\"white-space:pre;overflow-x:auto;line-height:normal;font-family:Menlo,'DejaVu Sans Mono',consolas,'Courier New',monospace\">Market Return : -1.25%   |   Portfolio Return : -1.95%   |   Position Changes : 340   |   Episode Length : 1330   |\n",
       "</pre>\n"
      ],
      "text/plain": [
       "Market Return : -1.25%   |   Portfolio Return : -1.95%   |   Position Changes : 340   |   Episode Length : 1330   |\n"
      ]
     },
     "metadata": {},
     "output_type": "display_data"
    },
    {
     "data": {
      "text/html": [
       "<pre style=\"white-space:pre;overflow-x:auto;line-height:normal;font-family:Menlo,'DejaVu Sans Mono',consolas,'Courier New',monospace\">Market Return :  3.21%   |   Portfolio Return : -6.54%   |   Position Changes : 255   |   Episode Length : 1330   |\n",
       "</pre>\n"
      ],
      "text/plain": [
       "Market Return :  3.21%   |   Portfolio Return : -6.54%   |   Position Changes : 255   |   Episode Length : 1330   |\n"
      ]
     },
     "metadata": {},
     "output_type": "display_data"
    },
    {
     "data": {
      "text/html": [
       "<pre style=\"white-space:pre;overflow-x:auto;line-height:normal;font-family:Menlo,'DejaVu Sans Mono',consolas,'Courier New',monospace\">Market Return :  0.45%   |   Portfolio Return : -4.40%   |   Position Changes : 291   |   Episode Length : 1330   |\n",
       "</pre>\n"
      ],
      "text/plain": [
       "Market Return :  0.45%   |   Portfolio Return : -4.40%   |   Position Changes : 291   |   Episode Length : 1330   |\n"
      ]
     },
     "metadata": {},
     "output_type": "display_data"
    },
    {
     "data": {
      "text/html": [
       "<pre style=\"white-space:pre;overflow-x:auto;line-height:normal;font-family:Menlo,'DejaVu Sans Mono',consolas,'Courier New',monospace\">Market Return :  3.18%   |   Portfolio Return : -7.81%   |   Position Changes : 349   |   Episode Length : 1330   |\n",
       "</pre>\n"
      ],
      "text/plain": [
       "Market Return :  3.18%   |   Portfolio Return : -7.81%   |   Position Changes : 349   |   Episode Length : 1330   |\n"
      ]
     },
     "metadata": {},
     "output_type": "display_data"
    },
    {
     "data": {
      "text/html": [
       "<pre style=\"white-space:pre;overflow-x:auto;line-height:normal;font-family:Menlo,'DejaVu Sans Mono',consolas,'Courier New',monospace\">Market Return : -4.84%   |   Portfolio Return : -3.21%   |   Position Changes : 190   |   Episode Length : 850   | \n",
       "</pre>\n"
      ],
      "text/plain": [
       "Market Return : -4.84%   |   Portfolio Return : -3.21%   |   Position Changes : 190   |   Episode Length : 850   | \n"
      ]
     },
     "metadata": {},
     "output_type": "display_data"
    },
    {
     "data": {
      "text/html": [
       "<pre style=\"white-space:pre;overflow-x:auto;line-height:normal;font-family:Menlo,'DejaVu Sans Mono',consolas,'Courier New',monospace\">Market Return : -2.11%   |   Portfolio Return : -2.61%   |   Position Changes : 233   |   Episode Length : 1330   |\n",
       "</pre>\n"
      ],
      "text/plain": [
       "Market Return : -2.11%   |   Portfolio Return : -2.61%   |   Position Changes : 233   |   Episode Length : 1330   |\n"
      ]
     },
     "metadata": {},
     "output_type": "display_data"
    },
    {
     "data": {
      "text/html": [
       "<pre style=\"white-space:pre;overflow-x:auto;line-height:normal;font-family:Menlo,'DejaVu Sans Mono',consolas,'Courier New',monospace\">Market Return : 15.43%   |   Portfolio Return : -6.38%   |   Position Changes : 538   |   Episode Length : 1330   |\n",
       "</pre>\n"
      ],
      "text/plain": [
       "Market Return : 15.43%   |   Portfolio Return : -6.38%   |   Position Changes : 538   |   Episode Length : 1330   |\n"
      ]
     },
     "metadata": {},
     "output_type": "display_data"
    },
    {
     "data": {
      "text/html": [
       "<pre style=\"white-space:pre;overflow-x:auto;line-height:normal;font-family:Menlo,'DejaVu Sans Mono',consolas,'Courier New',monospace\">Market Return :  2.95%   |   Portfolio Return : -3.22%   |   Position Changes : 267   |   Episode Length : 1330   |\n",
       "</pre>\n"
      ],
      "text/plain": [
       "Market Return :  2.95%   |   Portfolio Return : -3.22%   |   Position Changes : 267   |   Episode Length : 1330   |\n"
      ]
     },
     "metadata": {},
     "output_type": "display_data"
    },
    {
     "data": {
      "text/html": [
       "<pre style=\"white-space:pre;overflow-x:auto;line-height:normal;font-family:Menlo,'DejaVu Sans Mono',consolas,'Courier New',monospace\">Market Return : -1.95%   |   Portfolio Return : -4.99%   |   Position Changes : 343   |   Episode Length : 1330   |\n",
       "</pre>\n"
      ],
      "text/plain": [
       "Market Return : -1.95%   |   Portfolio Return : -4.99%   |   Position Changes : 343   |   Episode Length : 1330   |\n"
      ]
     },
     "metadata": {},
     "output_type": "display_data"
    },
    {
     "data": {
      "text/html": [
       "<pre style=\"white-space:pre;overflow-x:auto;line-height:normal;font-family:Menlo,'DejaVu Sans Mono',consolas,'Courier New',monospace\">Market Return : -1.66%   |   Portfolio Return : -4.80%   |   Position Changes : 262   |   Episode Length : 1330   |\n",
       "</pre>\n"
      ],
      "text/plain": [
       "Market Return : -1.66%   |   Portfolio Return : -4.80%   |   Position Changes : 262   |   Episode Length : 1330   |\n"
      ]
     },
     "metadata": {},
     "output_type": "display_data"
    },
    {
     "data": {
      "text/html": [
       "<pre style=\"white-space:pre;overflow-x:auto;line-height:normal;font-family:Menlo,'DejaVu Sans Mono',consolas,'Courier New',monospace\">Market Return : -0.21%   |   Portfolio Return : -6.53%   |   Position Changes : 255   |   Episode Length : 1330   |\n",
       "</pre>\n"
      ],
      "text/plain": [
       "Market Return : -0.21%   |   Portfolio Return : -6.53%   |   Position Changes : 255   |   Episode Length : 1330   |\n"
      ]
     },
     "metadata": {},
     "output_type": "display_data"
    },
    {
     "data": {
      "text/html": [
       "<pre style=\"white-space:pre;overflow-x:auto;line-height:normal;font-family:Menlo,'DejaVu Sans Mono',consolas,'Courier New',monospace\">Market Return :  0.20%   |   Portfolio Return : -3.17%   |   Position Changes : 290   |   Episode Length : 1330   |\n",
       "</pre>\n"
      ],
      "text/plain": [
       "Market Return :  0.20%   |   Portfolio Return : -3.17%   |   Position Changes : 290   |   Episode Length : 1330   |\n"
      ]
     },
     "metadata": {},
     "output_type": "display_data"
    },
    {
     "data": {
      "text/html": [
       "<pre style=\"white-space:pre;overflow-x:auto;line-height:normal;font-family:Menlo,'DejaVu Sans Mono',consolas,'Courier New',monospace\">Market Return : -1.14%   |   Portfolio Return : -2.40%   |   Position Changes : 259   |   Episode Length : 1330   |\n",
       "</pre>\n"
      ],
      "text/plain": [
       "Market Return : -1.14%   |   Portfolio Return : -2.40%   |   Position Changes : 259   |   Episode Length : 1330   |\n"
      ]
     },
     "metadata": {},
     "output_type": "display_data"
    },
    {
     "data": {
      "text/html": [
       "<pre style=\"white-space:pre;overflow-x:auto;line-height:normal;font-family:Menlo,'DejaVu Sans Mono',consolas,'Courier New',monospace\">Market Return : -2.80%   |   Portfolio Return : -28.47%   |   Position Changes : 571   |   Episode Length : 1330   \n",
       "|   \n",
       "</pre>\n"
      ],
      "text/plain": [
       "Market Return : -2.80%   |   Portfolio Return : -28.47%   |   Position Changes : 571   |   Episode Length : 1330   \n",
       "|   \n"
      ]
     },
     "metadata": {},
     "output_type": "display_data"
    },
    {
     "data": {
      "text/html": [
       "<pre style=\"white-space:pre;overflow-x:auto;line-height:normal;font-family:Menlo,'DejaVu Sans Mono',consolas,'Courier New',monospace\">Market Return :  2.01%   |   Portfolio Return : -2.18%   |   Position Changes : 214   |   Episode Length : 1330   |\n",
       "</pre>\n"
      ],
      "text/plain": [
       "Market Return :  2.01%   |   Portfolio Return : -2.18%   |   Position Changes : 214   |   Episode Length : 1330   |\n"
      ]
     },
     "metadata": {},
     "output_type": "display_data"
    },
    {
     "data": {
      "text/html": [
       "<pre style=\"white-space:pre;overflow-x:auto;line-height:normal;font-family:Menlo,'DejaVu Sans Mono',consolas,'Courier New',monospace\">Market Return : -1.88%   |   Portfolio Return : -3.11%   |   Position Changes : 176   |   Episode Length : 1120   |\n",
       "</pre>\n"
      ],
      "text/plain": [
       "Market Return : -1.88%   |   Portfolio Return : -3.11%   |   Position Changes : 176   |   Episode Length : 1120   |\n"
      ]
     },
     "metadata": {},
     "output_type": "display_data"
    },
    {
     "data": {
      "text/html": [
       "<pre style=\"white-space:pre;overflow-x:auto;line-height:normal;font-family:Menlo,'DejaVu Sans Mono',consolas,'Courier New',monospace\">Market Return : -2.61%   |   Portfolio Return : -2.77%   |   Position Changes : 236   |   Episode Length : 1330   |\n",
       "</pre>\n"
      ],
      "text/plain": [
       "Market Return : -2.61%   |   Portfolio Return : -2.77%   |   Position Changes : 236   |   Episode Length : 1330   |\n"
      ]
     },
     "metadata": {},
     "output_type": "display_data"
    },
    {
     "data": {
      "text/html": [
       "<pre style=\"white-space:pre;overflow-x:auto;line-height:normal;font-family:Menlo,'DejaVu Sans Mono',consolas,'Courier New',monospace\">Market Return : -0.02%   |   Portfolio Return : -6.66%   |   Position Changes : 226   |   Episode Length : 1330   |\n",
       "</pre>\n"
      ],
      "text/plain": [
       "Market Return : -0.02%   |   Portfolio Return : -6.66%   |   Position Changes : 226   |   Episode Length : 1330   |\n"
      ]
     },
     "metadata": {},
     "output_type": "display_data"
    },
    {
     "data": {
      "text/html": [
       "<pre style=\"white-space:pre;overflow-x:auto;line-height:normal;font-family:Menlo,'DejaVu Sans Mono',consolas,'Courier New',monospace\">Market Return :  5.32%   |   Portfolio Return : -6.70%   |   Position Changes : 263   |   Episode Length : 1330   |\n",
       "</pre>\n"
      ],
      "text/plain": [
       "Market Return :  5.32%   |   Portfolio Return : -6.70%   |   Position Changes : 263   |   Episode Length : 1330   |\n"
      ]
     },
     "metadata": {},
     "output_type": "display_data"
    },
    {
     "data": {
      "text/html": [
       "<pre style=\"white-space:pre;overflow-x:auto;line-height:normal;font-family:Menlo,'DejaVu Sans Mono',consolas,'Courier New',monospace\">Market Return : -2.12%   |   Portfolio Return : -7.65%   |   Position Changes : 247   |   Episode Length : 1330   |\n",
       "</pre>\n"
      ],
      "text/plain": [
       "Market Return : -2.12%   |   Portfolio Return : -7.65%   |   Position Changes : 247   |   Episode Length : 1330   |\n"
      ]
     },
     "metadata": {},
     "output_type": "display_data"
    },
    {
     "data": {
      "text/html": [
       "<pre style=\"white-space:pre;overflow-x:auto;line-height:normal;font-family:Menlo,'DejaVu Sans Mono',consolas,'Courier New',monospace\">Market Return :  0.74%   |   Portfolio Return : -2.25%   |   Position Changes : 228   |   Episode Length : 1330   |\n",
       "</pre>\n"
      ],
      "text/plain": [
       "Market Return :  0.74%   |   Portfolio Return : -2.25%   |   Position Changes : 228   |   Episode Length : 1330   |\n"
      ]
     },
     "metadata": {},
     "output_type": "display_data"
    },
    {
     "data": {
      "text/html": [
       "<pre style=\"white-space:pre;overflow-x:auto;line-height:normal;font-family:Menlo,'DejaVu Sans Mono',consolas,'Courier New',monospace\">Market Return : -4.39%   |   Portfolio Return : -4.88%   |   Position Changes : 428   |   Episode Length : 1330   |\n",
       "</pre>\n"
      ],
      "text/plain": [
       "Market Return : -4.39%   |   Portfolio Return : -4.88%   |   Position Changes : 428   |   Episode Length : 1330   |\n"
      ]
     },
     "metadata": {},
     "output_type": "display_data"
    },
    {
     "data": {
      "text/html": [
       "<pre style=\"white-space:pre;overflow-x:auto;line-height:normal;font-family:Menlo,'DejaVu Sans Mono',consolas,'Courier New',monospace\">Market Return :  1.21%   |   Portfolio Return : -6.10%   |   Position Changes : 252   |   Episode Length : 1330   |\n",
       "</pre>\n"
      ],
      "text/plain": [
       "Market Return :  1.21%   |   Portfolio Return : -6.10%   |   Position Changes : 252   |   Episode Length : 1330   |\n"
      ]
     },
     "metadata": {},
     "output_type": "display_data"
    },
    {
     "data": {
      "text/html": [
       "<pre style=\"white-space:pre;overflow-x:auto;line-height:normal;font-family:Menlo,'DejaVu Sans Mono',consolas,'Courier New',monospace\">Market Return : -1.51%   |   Portfolio Return : -6.00%   |   Position Changes : 249   |   Episode Length : 1330   |\n",
       "</pre>\n"
      ],
      "text/plain": [
       "Market Return : -1.51%   |   Portfolio Return : -6.00%   |   Position Changes : 249   |   Episode Length : 1330   |\n"
      ]
     },
     "metadata": {},
     "output_type": "display_data"
    },
    {
     "data": {
      "text/html": [
       "<pre style=\"white-space:pre;overflow-x:auto;line-height:normal;font-family:Menlo,'DejaVu Sans Mono',consolas,'Courier New',monospace\">Market Return : -1.44%   |   Portfolio Return : -8.75%   |   Position Changes : 416   |   Episode Length : 1330   |\n",
       "</pre>\n"
      ],
      "text/plain": [
       "Market Return : -1.44%   |   Portfolio Return : -8.75%   |   Position Changes : 416   |   Episode Length : 1330   |\n"
      ]
     },
     "metadata": {},
     "output_type": "display_data"
    },
    {
     "data": {
      "text/html": [
       "<pre style=\"white-space:pre;overflow-x:auto;line-height:normal;font-family:Menlo,'DejaVu Sans Mono',consolas,'Courier New',monospace\">Market Return : -1.10%   |   Portfolio Return : -4.57%   |   Position Changes : 303   |   Episode Length : 1330   |\n",
       "</pre>\n"
      ],
      "text/plain": [
       "Market Return : -1.10%   |   Portfolio Return : -4.57%   |   Position Changes : 303   |   Episode Length : 1330   |\n"
      ]
     },
     "metadata": {},
     "output_type": "display_data"
    },
    {
     "data": {
      "text/html": [
       "<pre style=\"white-space:pre;overflow-x:auto;line-height:normal;font-family:Menlo,'DejaVu Sans Mono',consolas,'Courier New',monospace\">Market Return :  2.99%   |   Portfolio Return : -2.15%   |   Position Changes : 260   |   Episode Length : 1330   |\n",
       "</pre>\n"
      ],
      "text/plain": [
       "Market Return :  2.99%   |   Portfolio Return : -2.15%   |   Position Changes : 260   |   Episode Length : 1330   |\n"
      ]
     },
     "metadata": {},
     "output_type": "display_data"
    },
    {
     "data": {
      "text/html": [
       "<pre style=\"white-space:pre;overflow-x:auto;line-height:normal;font-family:Menlo,'DejaVu Sans Mono',consolas,'Courier New',monospace\">Market Return :  1.58%   |   Portfolio Return : -5.07%   |   Position Changes : 296   |   Episode Length : 1330   |\n",
       "</pre>\n"
      ],
      "text/plain": [
       "Market Return :  1.58%   |   Portfolio Return : -5.07%   |   Position Changes : 296   |   Episode Length : 1330   |\n"
      ]
     },
     "metadata": {},
     "output_type": "display_data"
    },
    {
     "data": {
      "text/html": [
       "<pre style=\"white-space:pre;overflow-x:auto;line-height:normal;font-family:Menlo,'DejaVu Sans Mono',consolas,'Courier New',monospace\">Market Return : -3.41%   |   Portfolio Return : -4.36%   |   Position Changes : 293   |   Episode Length : 1330   |\n",
       "</pre>\n"
      ],
      "text/plain": [
       "Market Return : -3.41%   |   Portfolio Return : -4.36%   |   Position Changes : 293   |   Episode Length : 1330   |\n"
      ]
     },
     "metadata": {},
     "output_type": "display_data"
    },
    {
     "data": {
      "text/html": [
       "<pre style=\"white-space:pre;overflow-x:auto;line-height:normal;font-family:Menlo,'DejaVu Sans Mono',consolas,'Courier New',monospace\">Market Return :  0.47%   |   Portfolio Return : -6.82%   |   Position Changes : 317   |   Episode Length : 1330   |\n",
       "</pre>\n"
      ],
      "text/plain": [
       "Market Return :  0.47%   |   Portfolio Return : -6.82%   |   Position Changes : 317   |   Episode Length : 1330   |\n"
      ]
     },
     "metadata": {},
     "output_type": "display_data"
    },
    {
     "data": {
      "text/html": [
       "<pre style=\"white-space:pre;overflow-x:auto;line-height:normal;font-family:Menlo,'DejaVu Sans Mono',consolas,'Courier New',monospace\">Market Return :  6.19%   |   Portfolio Return : -3.67%   |   Position Changes : 349   |   Episode Length : 1330   |\n",
       "</pre>\n"
      ],
      "text/plain": [
       "Market Return :  6.19%   |   Portfolio Return : -3.67%   |   Position Changes : 349   |   Episode Length : 1330   |\n"
      ]
     },
     "metadata": {},
     "output_type": "display_data"
    },
    {
     "data": {
      "text/html": [
       "<pre style=\"white-space:pre;overflow-x:auto;line-height:normal;font-family:Menlo,'DejaVu Sans Mono',consolas,'Courier New',monospace\">Market Return : -2.77%   |   Portfolio Return : -2.91%   |   Position Changes : 226   |   Episode Length : 1330   |\n",
       "</pre>\n"
      ],
      "text/plain": [
       "Market Return : -2.77%   |   Portfolio Return : -2.91%   |   Position Changes : 226   |   Episode Length : 1330   |\n"
      ]
     },
     "metadata": {},
     "output_type": "display_data"
    },
    {
     "data": {
      "text/html": [
       "<pre style=\"white-space:pre;overflow-x:auto;line-height:normal;font-family:Menlo,'DejaVu Sans Mono',consolas,'Courier New',monospace\">Market Return :  0.66%   |   Portfolio Return : -3.59%   |   Position Changes : 229   |   Episode Length : 1330   |\n",
       "</pre>\n"
      ],
      "text/plain": [
       "Market Return :  0.66%   |   Portfolio Return : -3.59%   |   Position Changes : 229   |   Episode Length : 1330   |\n"
      ]
     },
     "metadata": {},
     "output_type": "display_data"
    },
    {
     "data": {
      "text/html": [
       "<pre style=\"white-space:pre;overflow-x:auto;line-height:normal;font-family:Menlo,'DejaVu Sans Mono',consolas,'Courier New',monospace\">Market Return :  3.11%   |   Portfolio Return : -3.64%   |   Position Changes : 251   |   Episode Length : 1330   |\n",
       "</pre>\n"
      ],
      "text/plain": [
       "Market Return :  3.11%   |   Portfolio Return : -3.64%   |   Position Changes : 251   |   Episode Length : 1330   |\n"
      ]
     },
     "metadata": {},
     "output_type": "display_data"
    },
    {
     "data": {
      "text/html": [
       "<pre style=\"white-space:pre;overflow-x:auto;line-height:normal;font-family:Menlo,'DejaVu Sans Mono',consolas,'Courier New',monospace\">Market Return : -7.65%   |   Portfolio Return : -8.95%   |   Position Changes : 287   |   Episode Length : 1330   |\n",
       "</pre>\n"
      ],
      "text/plain": [
       "Market Return : -7.65%   |   Portfolio Return : -8.95%   |   Position Changes : 287   |   Episode Length : 1330   |\n"
      ]
     },
     "metadata": {},
     "output_type": "display_data"
    },
    {
     "data": {
      "text/html": [
       "<pre style=\"white-space:pre;overflow-x:auto;line-height:normal;font-family:Menlo,'DejaVu Sans Mono',consolas,'Courier New',monospace\">Market Return :  0.42%   |   Portfolio Return : -5.72%   |   Position Changes : 276   |   Episode Length : 1330   |\n",
       "</pre>\n"
      ],
      "text/plain": [
       "Market Return :  0.42%   |   Portfolio Return : -5.72%   |   Position Changes : 276   |   Episode Length : 1330   |\n"
      ]
     },
     "metadata": {},
     "output_type": "display_data"
    },
    {
     "data": {
      "text/html": [
       "<pre style=\"white-space:pre;overflow-x:auto;line-height:normal;font-family:Menlo,'DejaVu Sans Mono',consolas,'Courier New',monospace\">Market Return :  3.83%   |   Portfolio Return : -8.21%   |   Position Changes : 297   |   Episode Length : 1330   |\n",
       "</pre>\n"
      ],
      "text/plain": [
       "Market Return :  3.83%   |   Portfolio Return : -8.21%   |   Position Changes : 297   |   Episode Length : 1330   |\n"
      ]
     },
     "metadata": {},
     "output_type": "display_data"
    },
    {
     "data": {
      "text/html": [
       "<pre style=\"white-space:pre;overflow-x:auto;line-height:normal;font-family:Menlo,'DejaVu Sans Mono',consolas,'Courier New',monospace\">Market Return : -11.85%   |   Portfolio Return : -18.70%   |   Position Changes : 389   |   Episode Length : 1330  \n",
       "|   \n",
       "</pre>\n"
      ],
      "text/plain": [
       "Market Return : -11.85%   |   Portfolio Return : -18.70%   |   Position Changes : 389   |   Episode Length : 1330  \n",
       "|   \n"
      ]
     },
     "metadata": {},
     "output_type": "display_data"
    },
    {
     "data": {
      "text/html": [
       "<pre style=\"white-space:pre;overflow-x:auto;line-height:normal;font-family:Menlo,'DejaVu Sans Mono',consolas,'Courier New',monospace\">Market Return :  4.28%   |   Portfolio Return : -3.98%   |   Position Changes : 298   |   Episode Length : 1330   |\n",
       "</pre>\n"
      ],
      "text/plain": [
       "Market Return :  4.28%   |   Portfolio Return : -3.98%   |   Position Changes : 298   |   Episode Length : 1330   |\n"
      ]
     },
     "metadata": {},
     "output_type": "display_data"
    },
    {
     "data": {
      "text/html": [
       "<pre style=\"white-space:pre;overflow-x:auto;line-height:normal;font-family:Menlo,'DejaVu Sans Mono',consolas,'Courier New',monospace\">Market Return : -2.29%   |   Portfolio Return : -7.70%   |   Position Changes : 271   |   Episode Length : 1330   |\n",
       "</pre>\n"
      ],
      "text/plain": [
       "Market Return : -2.29%   |   Portfolio Return : -7.70%   |   Position Changes : 271   |   Episode Length : 1330   |\n"
      ]
     },
     "metadata": {},
     "output_type": "display_data"
    },
    {
     "data": {
      "text/html": [
       "<pre style=\"white-space:pre;overflow-x:auto;line-height:normal;font-family:Menlo,'DejaVu Sans Mono',consolas,'Courier New',monospace\">Market Return : -0.47%   |   Portfolio Return : -3.95%   |   Position Changes : 268   |   Episode Length : 1330   |\n",
       "</pre>\n"
      ],
      "text/plain": [
       "Market Return : -0.47%   |   Portfolio Return : -3.95%   |   Position Changes : 268   |   Episode Length : 1330   |\n"
      ]
     },
     "metadata": {},
     "output_type": "display_data"
    },
    {
     "data": {
      "text/html": [
       "<pre style=\"white-space:pre;overflow-x:auto;line-height:normal;font-family:Menlo,'DejaVu Sans Mono',consolas,'Courier New',monospace\">Market Return : -1.50%   |   Portfolio Return : -3.28%   |   Position Changes : 297   |   Episode Length : 1330   |\n",
       "</pre>\n"
      ],
      "text/plain": [
       "Market Return : -1.50%   |   Portfolio Return : -3.28%   |   Position Changes : 297   |   Episode Length : 1330   |\n"
      ]
     },
     "metadata": {},
     "output_type": "display_data"
    },
    {
     "data": {
      "text/html": [
       "<pre style=\"white-space:pre;overflow-x:auto;line-height:normal;font-family:Menlo,'DejaVu Sans Mono',consolas,'Courier New',monospace\">Market Return : -0.43%   |   Portfolio Return : -8.86%   |   Position Changes : 328   |   Episode Length : 1330   |\n",
       "</pre>\n"
      ],
      "text/plain": [
       "Market Return : -0.43%   |   Portfolio Return : -8.86%   |   Position Changes : 328   |   Episode Length : 1330   |\n"
      ]
     },
     "metadata": {},
     "output_type": "display_data"
    },
    {
     "data": {
      "text/html": [
       "<pre style=\"white-space:pre;overflow-x:auto;line-height:normal;font-family:Menlo,'DejaVu Sans Mono',consolas,'Courier New',monospace\">Market Return : -0.12%   |   Portfolio Return : -5.69%   |   Position Changes : 286   |   Episode Length : 1330   |\n",
       "</pre>\n"
      ],
      "text/plain": [
       "Market Return : -0.12%   |   Portfolio Return : -5.69%   |   Position Changes : 286   |   Episode Length : 1330   |\n"
      ]
     },
     "metadata": {},
     "output_type": "display_data"
    },
    {
     "data": {
      "text/html": [
       "<pre style=\"white-space:pre;overflow-x:auto;line-height:normal;font-family:Menlo,'DejaVu Sans Mono',consolas,'Courier New',monospace\">Market Return :  0.66%   |   Portfolio Return : -4.32%   |   Position Changes : 259   |   Episode Length : 1330   |\n",
       "</pre>\n"
      ],
      "text/plain": [
       "Market Return :  0.66%   |   Portfolio Return : -4.32%   |   Position Changes : 259   |   Episode Length : 1330   |\n"
      ]
     },
     "metadata": {},
     "output_type": "display_data"
    },
    {
     "data": {
      "text/html": [
       "<pre style=\"white-space:pre;overflow-x:auto;line-height:normal;font-family:Menlo,'DejaVu Sans Mono',consolas,'Courier New',monospace\">Market Return :  0.49%   |   Portfolio Return : -5.01%   |   Position Changes : 294   |   Episode Length : 1330   |\n",
       "</pre>\n"
      ],
      "text/plain": [
       "Market Return :  0.49%   |   Portfolio Return : -5.01%   |   Position Changes : 294   |   Episode Length : 1330   |\n"
      ]
     },
     "metadata": {},
     "output_type": "display_data"
    },
    {
     "data": {
      "text/html": [
       "<pre style=\"white-space:pre;overflow-x:auto;line-height:normal;font-family:Menlo,'DejaVu Sans Mono',consolas,'Courier New',monospace\">Market Return : -1.08%   |   Portfolio Return : -5.67%   |   Position Changes : 255   |   Episode Length : 1330   |\n",
       "</pre>\n"
      ],
      "text/plain": [
       "Market Return : -1.08%   |   Portfolio Return : -5.67%   |   Position Changes : 255   |   Episode Length : 1330   |\n"
      ]
     },
     "metadata": {},
     "output_type": "display_data"
    },
    {
     "data": {
      "text/html": [
       "<pre style=\"white-space:pre;overflow-x:auto;line-height:normal;font-family:Menlo,'DejaVu Sans Mono',consolas,'Courier New',monospace\">Market Return :  7.64%   |   Portfolio Return : -5.35%   |   Position Changes : 243   |   Episode Length : 1330   |\n",
       "</pre>\n"
      ],
      "text/plain": [
       "Market Return :  7.64%   |   Portfolio Return : -5.35%   |   Position Changes : 243   |   Episode Length : 1330   |\n"
      ]
     },
     "metadata": {},
     "output_type": "display_data"
    },
    {
     "data": {
      "text/html": [
       "<pre style=\"white-space:pre;overflow-x:auto;line-height:normal;font-family:Menlo,'DejaVu Sans Mono',consolas,'Courier New',monospace\">Market Return : -0.97%   |   Portfolio Return : -4.14%   |   Position Changes : 222   |   Episode Length : 1330   |\n",
       "</pre>\n"
      ],
      "text/plain": [
       "Market Return : -0.97%   |   Portfolio Return : -4.14%   |   Position Changes : 222   |   Episode Length : 1330   |\n"
      ]
     },
     "metadata": {},
     "output_type": "display_data"
    },
    {
     "data": {
      "text/html": [
       "<pre style=\"white-space:pre;overflow-x:auto;line-height:normal;font-family:Menlo,'DejaVu Sans Mono',consolas,'Courier New',monospace\">Market Return : -1.43%   |   Portfolio Return : -6.53%   |   Position Changes : 315   |   Episode Length : 1330   |\n",
       "</pre>\n"
      ],
      "text/plain": [
       "Market Return : -1.43%   |   Portfolio Return : -6.53%   |   Position Changes : 315   |   Episode Length : 1330   |\n"
      ]
     },
     "metadata": {},
     "output_type": "display_data"
    },
    {
     "data": {
      "text/html": [
       "<pre style=\"white-space:pre;overflow-x:auto;line-height:normal;font-family:Menlo,'DejaVu Sans Mono',consolas,'Courier New',monospace\">Market Return : -0.49%   |   Portfolio Return : -3.08%   |   Position Changes : 229   |   Episode Length : 1330   |\n",
       "</pre>\n"
      ],
      "text/plain": [
       "Market Return : -0.49%   |   Portfolio Return : -3.08%   |   Position Changes : 229   |   Episode Length : 1330   |\n"
      ]
     },
     "metadata": {},
     "output_type": "display_data"
    },
    {
     "data": {
      "text/html": [
       "<pre style=\"white-space:pre;overflow-x:auto;line-height:normal;font-family:Menlo,'DejaVu Sans Mono',consolas,'Courier New',monospace\">Market Return : -1.44%   |   Portfolio Return : -9.04%   |   Position Changes : 341   |   Episode Length : 1330   |\n",
       "</pre>\n"
      ],
      "text/plain": [
       "Market Return : -1.44%   |   Portfolio Return : -9.04%   |   Position Changes : 341   |   Episode Length : 1330   |\n"
      ]
     },
     "metadata": {},
     "output_type": "display_data"
    },
    {
     "data": {
      "text/html": [
       "<pre style=\"white-space:pre;overflow-x:auto;line-height:normal;font-family:Menlo,'DejaVu Sans Mono',consolas,'Courier New',monospace\">Market Return :  1.28%   |   Portfolio Return :  3.07%   |   Position Changes : 331   |   Episode Length : 1330   |\n",
       "</pre>\n"
      ],
      "text/plain": [
       "Market Return :  1.28%   |   Portfolio Return :  3.07%   |   Position Changes : 331   |   Episode Length : 1330   |\n"
      ]
     },
     "metadata": {},
     "output_type": "display_data"
    },
    {
     "data": {
      "text/html": [
       "<pre style=\"white-space:pre;overflow-x:auto;line-height:normal;font-family:Menlo,'DejaVu Sans Mono',consolas,'Courier New',monospace\">Market Return :  0.32%   |   Portfolio Return : -5.85%   |   Position Changes : 262   |   Episode Length : 1330   |\n",
       "</pre>\n"
      ],
      "text/plain": [
       "Market Return :  0.32%   |   Portfolio Return : -5.85%   |   Position Changes : 262   |   Episode Length : 1330   |\n"
      ]
     },
     "metadata": {},
     "output_type": "display_data"
    },
    {
     "data": {
      "text/html": [
       "<pre style=\"white-space:pre;overflow-x:auto;line-height:normal;font-family:Menlo,'DejaVu Sans Mono',consolas,'Courier New',monospace\">Market Return :  0.09%   |   Portfolio Return : -4.16%   |   Position Changes : 236   |   Episode Length : 1330   |\n",
       "</pre>\n"
      ],
      "text/plain": [
       "Market Return :  0.09%   |   Portfolio Return : -4.16%   |   Position Changes : 236   |   Episode Length : 1330   |\n"
      ]
     },
     "metadata": {},
     "output_type": "display_data"
    },
    {
     "data": {
      "text/html": [
       "<pre style=\"white-space:pre;overflow-x:auto;line-height:normal;font-family:Menlo,'DejaVu Sans Mono',consolas,'Courier New',monospace\">Market Return : -0.19%   |   Portfolio Return : -4.86%   |   Position Changes : 267   |   Episode Length : 1330   |\n",
       "</pre>\n"
      ],
      "text/plain": [
       "Market Return : -0.19%   |   Portfolio Return : -4.86%   |   Position Changes : 267   |   Episode Length : 1330   |\n"
      ]
     },
     "metadata": {},
     "output_type": "display_data"
    },
    {
     "data": {
      "text/html": [
       "<pre style=\"white-space:pre;overflow-x:auto;line-height:normal;font-family:Menlo,'DejaVu Sans Mono',consolas,'Courier New',monospace\">Market Return :  2.00%   |   Portfolio Return : -8.02%   |   Position Changes : 289   |   Episode Length : 1330   |\n",
       "</pre>\n"
      ],
      "text/plain": [
       "Market Return :  2.00%   |   Portfolio Return : -8.02%   |   Position Changes : 289   |   Episode Length : 1330   |\n"
      ]
     },
     "metadata": {},
     "output_type": "display_data"
    },
    {
     "data": {
      "text/html": [
       "<pre style=\"white-space:pre;overflow-x:auto;line-height:normal;font-family:Menlo,'DejaVu Sans Mono',consolas,'Courier New',monospace\">Market Return : -6.98%   |   Portfolio Return : -14.06%   |   Position Changes : 413   |   Episode Length : 1330   \n",
       "|   \n",
       "</pre>\n"
      ],
      "text/plain": [
       "Market Return : -6.98%   |   Portfolio Return : -14.06%   |   Position Changes : 413   |   Episode Length : 1330   \n",
       "|   \n"
      ]
     },
     "metadata": {},
     "output_type": "display_data"
    },
    {
     "data": {
      "text/html": [
       "<pre style=\"white-space:pre;overflow-x:auto;line-height:normal;font-family:Menlo,'DejaVu Sans Mono',consolas,'Courier New',monospace\">Market Return : -0.69%   |   Portfolio Return : -9.06%   |   Position Changes : 266   |   Episode Length : 1330   |\n",
       "</pre>\n"
      ],
      "text/plain": [
       "Market Return : -0.69%   |   Portfolio Return : -9.06%   |   Position Changes : 266   |   Episode Length : 1330   |\n"
      ]
     },
     "metadata": {},
     "output_type": "display_data"
    },
    {
     "data": {
      "text/html": [
       "<pre style=\"white-space:pre;overflow-x:auto;line-height:normal;font-family:Menlo,'DejaVu Sans Mono',consolas,'Courier New',monospace\">Market Return : -0.48%   |   Portfolio Return : -4.54%   |   Position Changes : 234   |   Episode Length : 1330   |\n",
       "</pre>\n"
      ],
      "text/plain": [
       "Market Return : -0.48%   |   Portfolio Return : -4.54%   |   Position Changes : 234   |   Episode Length : 1330   |\n"
      ]
     },
     "metadata": {},
     "output_type": "display_data"
    },
    {
     "data": {
      "text/html": [
       "<pre style=\"white-space:pre;overflow-x:auto;line-height:normal;font-family:Menlo,'DejaVu Sans Mono',consolas,'Courier New',monospace\">Market Return :  3.45%   |   Portfolio Return : -7.67%   |   Position Changes : 275   |   Episode Length : 1330   |\n",
       "</pre>\n"
      ],
      "text/plain": [
       "Market Return :  3.45%   |   Portfolio Return : -7.67%   |   Position Changes : 275   |   Episode Length : 1330   |\n"
      ]
     },
     "metadata": {},
     "output_type": "display_data"
    },
    {
     "data": {
      "text/html": [
       "<pre style=\"white-space:pre;overflow-x:auto;line-height:normal;font-family:Menlo,'DejaVu Sans Mono',consolas,'Courier New',monospace\">Market Return :  0.90%   |   Portfolio Return : -6.84%   |   Position Changes : 294   |   Episode Length : 1330   |\n",
       "</pre>\n"
      ],
      "text/plain": [
       "Market Return :  0.90%   |   Portfolio Return : -6.84%   |   Position Changes : 294   |   Episode Length : 1330   |\n"
      ]
     },
     "metadata": {},
     "output_type": "display_data"
    },
    {
     "data": {
      "text/html": [
       "<pre style=\"white-space:pre;overflow-x:auto;line-height:normal;font-family:Menlo,'DejaVu Sans Mono',consolas,'Courier New',monospace\">Market Return :  1.19%   |   Portfolio Return : -6.10%   |   Position Changes : 258   |   Episode Length : 1330   |\n",
       "</pre>\n"
      ],
      "text/plain": [
       "Market Return :  1.19%   |   Portfolio Return : -6.10%   |   Position Changes : 258   |   Episode Length : 1330   |\n"
      ]
     },
     "metadata": {},
     "output_type": "display_data"
    },
    {
     "data": {
      "text/html": [
       "<pre style=\"white-space:pre;overflow-x:auto;line-height:normal;font-family:Menlo,'DejaVu Sans Mono',consolas,'Courier New',monospace\">Market Return : -0.31%   |   Portfolio Return : -4.65%   |   Position Changes : 236   |   Episode Length : 1330   |\n",
       "</pre>\n"
      ],
      "text/plain": [
       "Market Return : -0.31%   |   Portfolio Return : -4.65%   |   Position Changes : 236   |   Episode Length : 1330   |\n"
      ]
     },
     "metadata": {},
     "output_type": "display_data"
    },
    {
     "data": {
      "text/html": [
       "<pre style=\"white-space:pre;overflow-x:auto;line-height:normal;font-family:Menlo,'DejaVu Sans Mono',consolas,'Courier New',monospace\">Market Return : -2.69%   |   Portfolio Return : -6.10%   |   Position Changes : 321   |   Episode Length : 1330   |\n",
       "</pre>\n"
      ],
      "text/plain": [
       "Market Return : -2.69%   |   Portfolio Return : -6.10%   |   Position Changes : 321   |   Episode Length : 1330   |\n"
      ]
     },
     "metadata": {},
     "output_type": "display_data"
    },
    {
     "data": {
      "text/html": [
       "<pre style=\"white-space:pre;overflow-x:auto;line-height:normal;font-family:Menlo,'DejaVu Sans Mono',consolas,'Courier New',monospace\">Market Return : -0.59%   |   Portfolio Return : -1.29%   |   Position Changes : 185   |   Episode Length : 730   | \n",
       "</pre>\n"
      ],
      "text/plain": [
       "Market Return : -0.59%   |   Portfolio Return : -1.29%   |   Position Changes : 185   |   Episode Length : 730   | \n"
      ]
     },
     "metadata": {},
     "output_type": "display_data"
    },
    {
     "data": {
      "text/html": [
       "<pre style=\"white-space:pre;overflow-x:auto;line-height:normal;font-family:Menlo,'DejaVu Sans Mono',consolas,'Courier New',monospace\">Market Return : -0.15%   |   Portfolio Return : -3.51%   |   Position Changes : 222   |   Episode Length : 1330   |\n",
       "</pre>\n"
      ],
      "text/plain": [
       "Market Return : -0.15%   |   Portfolio Return : -3.51%   |   Position Changes : 222   |   Episode Length : 1330   |\n"
      ]
     },
     "metadata": {},
     "output_type": "display_data"
    },
    {
     "data": {
      "text/html": [
       "<pre style=\"white-space:pre;overflow-x:auto;line-height:normal;font-family:Menlo,'DejaVu Sans Mono',consolas,'Courier New',monospace\">Market Return :  4.64%   |   Portfolio Return : -0.84%   |   Position Changes : 238   |   Episode Length : 1330   |\n",
       "</pre>\n"
      ],
      "text/plain": [
       "Market Return :  4.64%   |   Portfolio Return : -0.84%   |   Position Changes : 238   |   Episode Length : 1330   |\n"
      ]
     },
     "metadata": {},
     "output_type": "display_data"
    },
    {
     "data": {
      "text/html": [
       "<pre style=\"white-space:pre;overflow-x:auto;line-height:normal;font-family:Menlo,'DejaVu Sans Mono',consolas,'Courier New',monospace\">Market Return : -3.23%   |   Portfolio Return : -3.52%   |   Position Changes : 281   |   Episode Length : 1330   |\n",
       "</pre>\n"
      ],
      "text/plain": [
       "Market Return : -3.23%   |   Portfolio Return : -3.52%   |   Position Changes : 281   |   Episode Length : 1330   |\n"
      ]
     },
     "metadata": {},
     "output_type": "display_data"
    },
    {
     "data": {
      "text/html": [
       "<pre style=\"white-space:pre;overflow-x:auto;line-height:normal;font-family:Menlo,'DejaVu Sans Mono',consolas,'Courier New',monospace\">Market Return : -1.62%   |   Portfolio Return : -12.44%   |   Position Changes : 367   |   Episode Length : 1330   \n",
       "|   \n",
       "</pre>\n"
      ],
      "text/plain": [
       "Market Return : -1.62%   |   Portfolio Return : -12.44%   |   Position Changes : 367   |   Episode Length : 1330   \n",
       "|   \n"
      ]
     },
     "metadata": {},
     "output_type": "display_data"
    },
    {
     "data": {
      "text/html": [
       "<pre style=\"white-space:pre;overflow-x:auto;line-height:normal;font-family:Menlo,'DejaVu Sans Mono',consolas,'Courier New',monospace\">Market Return : 13.50%   |   Portfolio Return : -6.93%   |   Position Changes : 311   |   Episode Length : 1330   |\n",
       "</pre>\n"
      ],
      "text/plain": [
       "Market Return : 13.50%   |   Portfolio Return : -6.93%   |   Position Changes : 311   |   Episode Length : 1330   |\n"
      ]
     },
     "metadata": {},
     "output_type": "display_data"
    },
    {
     "data": {
      "text/html": [
       "<pre style=\"white-space:pre;overflow-x:auto;line-height:normal;font-family:Menlo,'DejaVu Sans Mono',consolas,'Courier New',monospace\">Market Return :  2.48%   |   Portfolio Return : -6.58%   |   Position Changes : 252   |   Episode Length : 1330   |\n",
       "</pre>\n"
      ],
      "text/plain": [
       "Market Return :  2.48%   |   Portfolio Return : -6.58%   |   Position Changes : 252   |   Episode Length : 1330   |\n"
      ]
     },
     "metadata": {},
     "output_type": "display_data"
    },
    {
     "data": {
      "text/html": [
       "<pre style=\"white-space:pre;overflow-x:auto;line-height:normal;font-family:Menlo,'DejaVu Sans Mono',consolas,'Courier New',monospace\">Market Return :  2.91%   |   Portfolio Return : -3.89%   |   Position Changes : 356   |   Episode Length : 1330   |\n",
       "</pre>\n"
      ],
      "text/plain": [
       "Market Return :  2.91%   |   Portfolio Return : -3.89%   |   Position Changes : 356   |   Episode Length : 1330   |\n"
      ]
     },
     "metadata": {},
     "output_type": "display_data"
    },
    {
     "data": {
      "text/html": [
       "<pre style=\"white-space:pre;overflow-x:auto;line-height:normal;font-family:Menlo,'DejaVu Sans Mono',consolas,'Courier New',monospace\">Market Return :  0.81%   |   Portfolio Return : -7.24%   |   Position Changes : 274   |   Episode Length : 1330   |\n",
       "</pre>\n"
      ],
      "text/plain": [
       "Market Return :  0.81%   |   Portfolio Return : -7.24%   |   Position Changes : 274   |   Episode Length : 1330   |\n"
      ]
     },
     "metadata": {},
     "output_type": "display_data"
    },
    {
     "data": {
      "text/html": [
       "<pre style=\"white-space:pre;overflow-x:auto;line-height:normal;font-family:Menlo,'DejaVu Sans Mono',consolas,'Courier New',monospace\">Market Return :  1.21%   |   Portfolio Return : -3.52%   |   Position Changes : 220   |   Episode Length : 1330   |\n",
       "</pre>\n"
      ],
      "text/plain": [
       "Market Return :  1.21%   |   Portfolio Return : -3.52%   |   Position Changes : 220   |   Episode Length : 1330   |\n"
      ]
     },
     "metadata": {},
     "output_type": "display_data"
    },
    {
     "data": {
      "text/html": [
       "<pre style=\"white-space:pre;overflow-x:auto;line-height:normal;font-family:Menlo,'DejaVu Sans Mono',consolas,'Courier New',monospace\">Market Return : -2.21%   |   Portfolio Return : -5.17%   |   Position Changes : 271   |   Episode Length : 1330   |\n",
       "</pre>\n"
      ],
      "text/plain": [
       "Market Return : -2.21%   |   Portfolio Return : -5.17%   |   Position Changes : 271   |   Episode Length : 1330   |\n"
      ]
     },
     "metadata": {},
     "output_type": "display_data"
    },
    {
     "data": {
      "text/html": [
       "<pre style=\"white-space:pre;overflow-x:auto;line-height:normal;font-family:Menlo,'DejaVu Sans Mono',consolas,'Courier New',monospace\">Market Return : -0.91%   |   Portfolio Return : -5.46%   |   Position Changes : 287   |   Episode Length : 1330   |\n",
       "</pre>\n"
      ],
      "text/plain": [
       "Market Return : -0.91%   |   Portfolio Return : -5.46%   |   Position Changes : 287   |   Episode Length : 1330   |\n"
      ]
     },
     "metadata": {},
     "output_type": "display_data"
    },
    {
     "data": {
      "text/html": [
       "<pre style=\"white-space:pre;overflow-x:auto;line-height:normal;font-family:Menlo,'DejaVu Sans Mono',consolas,'Courier New',monospace\">Market Return : -0.14%   |   Portfolio Return : -6.57%   |   Position Changes : 298   |   Episode Length : 1330   |\n",
       "</pre>\n"
      ],
      "text/plain": [
       "Market Return : -0.14%   |   Portfolio Return : -6.57%   |   Position Changes : 298   |   Episode Length : 1330   |\n"
      ]
     },
     "metadata": {},
     "output_type": "display_data"
    },
    {
     "data": {
      "text/html": [
       "<pre style=\"white-space:pre;overflow-x:auto;line-height:normal;font-family:Menlo,'DejaVu Sans Mono',consolas,'Courier New',monospace\">Market Return : -0.83%   |   Portfolio Return : -8.08%   |   Position Changes : 263   |   Episode Length : 1330   |\n",
       "</pre>\n"
      ],
      "text/plain": [
       "Market Return : -0.83%   |   Portfolio Return : -8.08%   |   Position Changes : 263   |   Episode Length : 1330   |\n"
      ]
     },
     "metadata": {},
     "output_type": "display_data"
    },
    {
     "data": {
      "text/html": [
       "<pre style=\"white-space:pre;overflow-x:auto;line-height:normal;font-family:Menlo,'DejaVu Sans Mono',consolas,'Courier New',monospace\">Market Return :  0.06%   |   Portfolio Return : -6.62%   |   Position Changes : 246   |   Episode Length : 1330   |\n",
       "</pre>\n"
      ],
      "text/plain": [
       "Market Return :  0.06%   |   Portfolio Return : -6.62%   |   Position Changes : 246   |   Episode Length : 1330   |\n"
      ]
     },
     "metadata": {},
     "output_type": "display_data"
    },
    {
     "data": {
      "text/html": [
       "<pre style=\"white-space:pre;overflow-x:auto;line-height:normal;font-family:Menlo,'DejaVu Sans Mono',consolas,'Courier New',monospace\">Market Return :  0.92%   |   Portfolio Return : -1.67%   |   Position Changes : 285   |   Episode Length : 1330   |\n",
       "</pre>\n"
      ],
      "text/plain": [
       "Market Return :  0.92%   |   Portfolio Return : -1.67%   |   Position Changes : 285   |   Episode Length : 1330   |\n"
      ]
     },
     "metadata": {},
     "output_type": "display_data"
    },
    {
     "data": {
      "text/html": [
       "<pre style=\"white-space:pre;overflow-x:auto;line-height:normal;font-family:Menlo,'DejaVu Sans Mono',consolas,'Courier New',monospace\">Market Return : -4.07%   |   Portfolio Return : -3.65%   |   Position Changes : 323   |   Episode Length : 1330   |\n",
       "</pre>\n"
      ],
      "text/plain": [
       "Market Return : -4.07%   |   Portfolio Return : -3.65%   |   Position Changes : 323   |   Episode Length : 1330   |\n"
      ]
     },
     "metadata": {},
     "output_type": "display_data"
    },
    {
     "data": {
      "text/html": [
       "<pre style=\"white-space:pre;overflow-x:auto;line-height:normal;font-family:Menlo,'DejaVu Sans Mono',consolas,'Courier New',monospace\">Market Return :  4.62%   |   Portfolio Return : -7.98%   |   Position Changes : 304   |   Episode Length : 1330   |\n",
       "</pre>\n"
      ],
      "text/plain": [
       "Market Return :  4.62%   |   Portfolio Return : -7.98%   |   Position Changes : 304   |   Episode Length : 1330   |\n"
      ]
     },
     "metadata": {},
     "output_type": "display_data"
    },
    {
     "data": {
      "text/html": [
       "<pre style=\"white-space:pre;overflow-x:auto;line-height:normal;font-family:Menlo,'DejaVu Sans Mono',consolas,'Courier New',monospace\">Market Return :  4.46%   |   Portfolio Return : -9.69%   |   Position Changes : 353   |   Episode Length : 1330   |\n",
       "</pre>\n"
      ],
      "text/plain": [
       "Market Return :  4.46%   |   Portfolio Return : -9.69%   |   Position Changes : 353   |   Episode Length : 1330   |\n"
      ]
     },
     "metadata": {},
     "output_type": "display_data"
    },
    {
     "data": {
      "text/html": [
       "<pre style=\"white-space:pre;overflow-x:auto;line-height:normal;font-family:Menlo,'DejaVu Sans Mono',consolas,'Courier New',monospace\">Market Return : -0.10%   |   Portfolio Return : -6.23%   |   Position Changes : 310   |   Episode Length : 1330   |\n",
       "</pre>\n"
      ],
      "text/plain": [
       "Market Return : -0.10%   |   Portfolio Return : -6.23%   |   Position Changes : 310   |   Episode Length : 1330   |\n"
      ]
     },
     "metadata": {},
     "output_type": "display_data"
    },
    {
     "data": {
      "text/html": [
       "<pre style=\"white-space:pre;overflow-x:auto;line-height:normal;font-family:Menlo,'DejaVu Sans Mono',consolas,'Courier New',monospace\">Market Return : -0.76%   |   Portfolio Return : -2.18%   |   Position Changes : 237   |   Episode Length : 1330   |\n",
       "</pre>\n"
      ],
      "text/plain": [
       "Market Return : -0.76%   |   Portfolio Return : -2.18%   |   Position Changes : 237   |   Episode Length : 1330   |\n"
      ]
     },
     "metadata": {},
     "output_type": "display_data"
    },
    {
     "data": {
      "text/html": [
       "<pre style=\"white-space:pre;overflow-x:auto;line-height:normal;font-family:Menlo,'DejaVu Sans Mono',consolas,'Courier New',monospace\">Market Return : -2.77%   |   Portfolio Return :  1.52%   |   Position Changes : 304   |   Episode Length : 1330   |\n",
       "</pre>\n"
      ],
      "text/plain": [
       "Market Return : -2.77%   |   Portfolio Return :  1.52%   |   Position Changes : 304   |   Episode Length : 1330   |\n"
      ]
     },
     "metadata": {},
     "output_type": "display_data"
    },
    {
     "data": {
      "text/html": [
       "<pre style=\"white-space:pre;overflow-x:auto;line-height:normal;font-family:Menlo,'DejaVu Sans Mono',consolas,'Courier New',monospace\">Market Return :  3.88%   |   Portfolio Return : -7.16%   |   Position Changes : 299   |   Episode Length : 1330   |\n",
       "</pre>\n"
      ],
      "text/plain": [
       "Market Return :  3.88%   |   Portfolio Return : -7.16%   |   Position Changes : 299   |   Episode Length : 1330   |\n"
      ]
     },
     "metadata": {},
     "output_type": "display_data"
    },
    {
     "data": {
      "text/html": [
       "<pre style=\"white-space:pre;overflow-x:auto;line-height:normal;font-family:Menlo,'DejaVu Sans Mono',consolas,'Courier New',monospace\">Market Return : -4.47%   |   Portfolio Return :  6.51%   |   Position Changes : 474   |   Episode Length : 1330   |\n",
       "</pre>\n"
      ],
      "text/plain": [
       "Market Return : -4.47%   |   Portfolio Return :  6.51%   |   Position Changes : 474   |   Episode Length : 1330   |\n"
      ]
     },
     "metadata": {},
     "output_type": "display_data"
    },
    {
     "data": {
      "text/html": [
       "<pre style=\"white-space:pre;overflow-x:auto;line-height:normal;font-family:Menlo,'DejaVu Sans Mono',consolas,'Courier New',monospace\">Market Return :  4.95%   |   Portfolio Return : -3.72%   |   Position Changes : 294   |   Episode Length : 1330   |\n",
       "</pre>\n"
      ],
      "text/plain": [
       "Market Return :  4.95%   |   Portfolio Return : -3.72%   |   Position Changes : 294   |   Episode Length : 1330   |\n"
      ]
     },
     "metadata": {},
     "output_type": "display_data"
    },
    {
     "data": {
      "text/html": [
       "<pre style=\"white-space:pre;overflow-x:auto;line-height:normal;font-family:Menlo,'DejaVu Sans Mono',consolas,'Courier New',monospace\">Market Return : -4.48%   |   Portfolio Return : -5.85%   |   Position Changes : 356   |   Episode Length : 1330   |\n",
       "</pre>\n"
      ],
      "text/plain": [
       "Market Return : -4.48%   |   Portfolio Return : -5.85%   |   Position Changes : 356   |   Episode Length : 1330   |\n"
      ]
     },
     "metadata": {},
     "output_type": "display_data"
    },
    {
     "data": {
      "text/html": [
       "<pre style=\"white-space:pre;overflow-x:auto;line-height:normal;font-family:Menlo,'DejaVu Sans Mono',consolas,'Courier New',monospace\">Market Return : -0.71%   |   Portfolio Return : -3.77%   |   Position Changes : 216   |   Episode Length : 1330   |\n",
       "</pre>\n"
      ],
      "text/plain": [
       "Market Return : -0.71%   |   Portfolio Return : -3.77%   |   Position Changes : 216   |   Episode Length : 1330   |\n"
      ]
     },
     "metadata": {},
     "output_type": "display_data"
    },
    {
     "data": {
      "text/html": [
       "<pre style=\"white-space:pre;overflow-x:auto;line-height:normal;font-family:Menlo,'DejaVu Sans Mono',consolas,'Courier New',monospace\">Market Return : -0.57%   |   Portfolio Return : -3.27%   |   Position Changes : 241   |   Episode Length : 1330   |\n",
       "</pre>\n"
      ],
      "text/plain": [
       "Market Return : -0.57%   |   Portfolio Return : -3.27%   |   Position Changes : 241   |   Episode Length : 1330   |\n"
      ]
     },
     "metadata": {},
     "output_type": "display_data"
    },
    {
     "data": {
      "text/html": [
       "<pre style=\"white-space:pre;overflow-x:auto;line-height:normal;font-family:Menlo,'DejaVu Sans Mono',consolas,'Courier New',monospace\">Market Return : -0.59%   |   Portfolio Return : -4.86%   |   Position Changes : 260   |   Episode Length : 1330   |\n",
       "</pre>\n"
      ],
      "text/plain": [
       "Market Return : -0.59%   |   Portfolio Return : -4.86%   |   Position Changes : 260   |   Episode Length : 1330   |\n"
      ]
     },
     "metadata": {},
     "output_type": "display_data"
    },
    {
     "data": {
      "text/html": [
       "<pre style=\"white-space:pre;overflow-x:auto;line-height:normal;font-family:Menlo,'DejaVu Sans Mono',consolas,'Courier New',monospace\">Market Return : -1.26%   |   Portfolio Return : -4.27%   |   Position Changes : 234   |   Episode Length : 1330   |\n",
       "</pre>\n"
      ],
      "text/plain": [
       "Market Return : -1.26%   |   Portfolio Return : -4.27%   |   Position Changes : 234   |   Episode Length : 1330   |\n"
      ]
     },
     "metadata": {},
     "output_type": "display_data"
    },
    {
     "data": {
      "text/html": [
       "<pre style=\"white-space:pre;overflow-x:auto;line-height:normal;font-family:Menlo,'DejaVu Sans Mono',consolas,'Courier New',monospace\">Market Return : -0.36%   |   Portfolio Return : -8.37%   |   Position Changes : 316   |   Episode Length : 1330   |\n",
       "</pre>\n"
      ],
      "text/plain": [
       "Market Return : -0.36%   |   Portfolio Return : -8.37%   |   Position Changes : 316   |   Episode Length : 1330   |\n"
      ]
     },
     "metadata": {},
     "output_type": "display_data"
    },
    {
     "data": {
      "text/html": [
       "<pre style=\"white-space:pre;overflow-x:auto;line-height:normal;font-family:Menlo,'DejaVu Sans Mono',consolas,'Courier New',monospace\">Market Return :  7.97%   |   Portfolio Return : -17.75%   |   Position Changes : 292   |   Episode Length : 1330   \n",
       "|   \n",
       "</pre>\n"
      ],
      "text/plain": [
       "Market Return :  7.97%   |   Portfolio Return : -17.75%   |   Position Changes : 292   |   Episode Length : 1330   \n",
       "|   \n"
      ]
     },
     "metadata": {},
     "output_type": "display_data"
    },
    {
     "data": {
      "text/html": [
       "<pre style=\"white-space:pre;overflow-x:auto;line-height:normal;font-family:Menlo,'DejaVu Sans Mono',consolas,'Courier New',monospace\">Market Return :  6.23%   |   Portfolio Return :  1.14%   |   Position Changes : 332   |   Episode Length : 1330   |\n",
       "</pre>\n"
      ],
      "text/plain": [
       "Market Return :  6.23%   |   Portfolio Return :  1.14%   |   Position Changes : 332   |   Episode Length : 1330   |\n"
      ]
     },
     "metadata": {},
     "output_type": "display_data"
    },
    {
     "data": {
      "text/html": [
       "<pre style=\"white-space:pre;overflow-x:auto;line-height:normal;font-family:Menlo,'DejaVu Sans Mono',consolas,'Courier New',monospace\">Market Return :  5.18%   |   Portfolio Return : -4.31%   |   Position Changes : 372   |   Episode Length : 1330   |\n",
       "</pre>\n"
      ],
      "text/plain": [
       "Market Return :  5.18%   |   Portfolio Return : -4.31%   |   Position Changes : 372   |   Episode Length : 1330   |\n"
      ]
     },
     "metadata": {},
     "output_type": "display_data"
    },
    {
     "data": {
      "text/html": [
       "<pre style=\"white-space:pre;overflow-x:auto;line-height:normal;font-family:Menlo,'DejaVu Sans Mono',consolas,'Courier New',monospace\">Market Return : -0.23%   |   Portfolio Return : -2.63%   |   Position Changes : 204   |   Episode Length : 1330   |\n",
       "</pre>\n"
      ],
      "text/plain": [
       "Market Return : -0.23%   |   Portfolio Return : -2.63%   |   Position Changes : 204   |   Episode Length : 1330   |\n"
      ]
     },
     "metadata": {},
     "output_type": "display_data"
    },
    {
     "data": {
      "text/html": [
       "<pre style=\"white-space:pre;overflow-x:auto;line-height:normal;font-family:Menlo,'DejaVu Sans Mono',consolas,'Courier New',monospace\">Market Return :  2.27%   |   Portfolio Return : -9.48%   |   Position Changes : 278   |   Episode Length : 1330   |\n",
       "</pre>\n"
      ],
      "text/plain": [
       "Market Return :  2.27%   |   Portfolio Return : -9.48%   |   Position Changes : 278   |   Episode Length : 1330   |\n"
      ]
     },
     "metadata": {},
     "output_type": "display_data"
    },
    {
     "data": {
      "text/html": [
       "<pre style=\"white-space:pre;overflow-x:auto;line-height:normal;font-family:Menlo,'DejaVu Sans Mono',consolas,'Courier New',monospace\">Market Return :  6.23%   |   Portfolio Return : -6.77%   |   Position Changes : 341   |   Episode Length : 1330   |\n",
       "</pre>\n"
      ],
      "text/plain": [
       "Market Return :  6.23%   |   Portfolio Return : -6.77%   |   Position Changes : 341   |   Episode Length : 1330   |\n"
      ]
     },
     "metadata": {},
     "output_type": "display_data"
    },
    {
     "data": {
      "text/html": [
       "<pre style=\"white-space:pre;overflow-x:auto;line-height:normal;font-family:Menlo,'DejaVu Sans Mono',consolas,'Courier New',monospace\">Market Return :  9.20%   |   Portfolio Return : -13.56%   |   Position Changes : 477   |   Episode Length : 1330   \n",
       "|   \n",
       "</pre>\n"
      ],
      "text/plain": [
       "Market Return :  9.20%   |   Portfolio Return : -13.56%   |   Position Changes : 477   |   Episode Length : 1330   \n",
       "|   \n"
      ]
     },
     "metadata": {},
     "output_type": "display_data"
    },
    {
     "data": {
      "text/html": [
       "<pre style=\"white-space:pre;overflow-x:auto;line-height:normal;font-family:Menlo,'DejaVu Sans Mono',consolas,'Courier New',monospace\">Market Return : -0.01%   |   Portfolio Return : -5.22%   |   Position Changes : 183   |   Episode Length : 1330   |\n",
       "</pre>\n"
      ],
      "text/plain": [
       "Market Return : -0.01%   |   Portfolio Return : -5.22%   |   Position Changes : 183   |   Episode Length : 1330   |\n"
      ]
     },
     "metadata": {},
     "output_type": "display_data"
    },
    {
     "data": {
      "text/html": [
       "<pre style=\"white-space:pre;overflow-x:auto;line-height:normal;font-family:Menlo,'DejaVu Sans Mono',consolas,'Courier New',monospace\">Market Return : -0.08%   |   Portfolio Return : -3.58%   |   Position Changes : 225   |   Episode Length : 1330   |\n",
       "</pre>\n"
      ],
      "text/plain": [
       "Market Return : -0.08%   |   Portfolio Return : -3.58%   |   Position Changes : 225   |   Episode Length : 1330   |\n"
      ]
     },
     "metadata": {},
     "output_type": "display_data"
    },
    {
     "data": {
      "text/html": [
       "<pre style=\"white-space:pre;overflow-x:auto;line-height:normal;font-family:Menlo,'DejaVu Sans Mono',consolas,'Courier New',monospace\">Market Return :  1.23%   |   Portfolio Return : -3.47%   |   Position Changes : 255   |   Episode Length : 1330   |\n",
       "</pre>\n"
      ],
      "text/plain": [
       "Market Return :  1.23%   |   Portfolio Return : -3.47%   |   Position Changes : 255   |   Episode Length : 1330   |\n"
      ]
     },
     "metadata": {},
     "output_type": "display_data"
    },
    {
     "data": {
      "text/html": [
       "<pre style=\"white-space:pre;overflow-x:auto;line-height:normal;font-family:Menlo,'DejaVu Sans Mono',consolas,'Courier New',monospace\">Market Return : -1.66%   |   Portfolio Return : -4.12%   |   Position Changes : 309   |   Episode Length : 1330   |\n",
       "</pre>\n"
      ],
      "text/plain": [
       "Market Return : -1.66%   |   Portfolio Return : -4.12%   |   Position Changes : 309   |   Episode Length : 1330   |\n"
      ]
     },
     "metadata": {},
     "output_type": "display_data"
    },
    {
     "data": {
      "text/html": [
       "<pre style=\"white-space:pre;overflow-x:auto;line-height:normal;font-family:Menlo,'DejaVu Sans Mono',consolas,'Courier New',monospace\">Market Return : -0.49%   |   Portfolio Return : -4.03%   |   Position Changes : 241   |   Episode Length : 1330   |\n",
       "</pre>\n"
      ],
      "text/plain": [
       "Market Return : -0.49%   |   Portfolio Return : -4.03%   |   Position Changes : 241   |   Episode Length : 1330   |\n"
      ]
     },
     "metadata": {},
     "output_type": "display_data"
    },
    {
     "data": {
      "text/html": [
       "<pre style=\"white-space:pre;overflow-x:auto;line-height:normal;font-family:Menlo,'DejaVu Sans Mono',consolas,'Courier New',monospace\">Market Return : -2.59%   |   Portfolio Return : -7.99%   |   Position Changes : 299   |   Episode Length : 1330   |\n",
       "</pre>\n"
      ],
      "text/plain": [
       "Market Return : -2.59%   |   Portfolio Return : -7.99%   |   Position Changes : 299   |   Episode Length : 1330   |\n"
      ]
     },
     "metadata": {},
     "output_type": "display_data"
    },
    {
     "data": {
      "text/html": [
       "<pre style=\"white-space:pre;overflow-x:auto;line-height:normal;font-family:Menlo,'DejaVu Sans Mono',consolas,'Courier New',monospace\">Market Return : -4.34%   |   Portfolio Return : -9.23%   |   Position Changes : 319   |   Episode Length : 1330   |\n",
       "</pre>\n"
      ],
      "text/plain": [
       "Market Return : -4.34%   |   Portfolio Return : -9.23%   |   Position Changes : 319   |   Episode Length : 1330   |\n"
      ]
     },
     "metadata": {},
     "output_type": "display_data"
    },
    {
     "data": {
      "text/html": [
       "<pre style=\"white-space:pre;overflow-x:auto;line-height:normal;font-family:Menlo,'DejaVu Sans Mono',consolas,'Courier New',monospace\">Market Return :  1.31%   |   Portfolio Return : -5.58%   |   Position Changes : 305   |   Episode Length : 1330   |\n",
       "</pre>\n"
      ],
      "text/plain": [
       "Market Return :  1.31%   |   Portfolio Return : -5.58%   |   Position Changes : 305   |   Episode Length : 1330   |\n"
      ]
     },
     "metadata": {},
     "output_type": "display_data"
    },
    {
     "data": {
      "text/html": [
       "<pre style=\"white-space:pre;overflow-x:auto;line-height:normal;font-family:Menlo,'DejaVu Sans Mono',consolas,'Courier New',monospace\">Market Return : -0.18%   |   Portfolio Return : -8.36%   |   Position Changes : 289   |   Episode Length : 1330   |\n",
       "</pre>\n"
      ],
      "text/plain": [
       "Market Return : -0.18%   |   Portfolio Return : -8.36%   |   Position Changes : 289   |   Episode Length : 1330   |\n"
      ]
     },
     "metadata": {},
     "output_type": "display_data"
    },
    {
     "data": {
      "text/html": [
       "<pre style=\"white-space:pre;overflow-x:auto;line-height:normal;font-family:Menlo,'DejaVu Sans Mono',consolas,'Courier New',monospace\">Market Return :  0.14%   |   Portfolio Return : -5.65%   |   Position Changes : 280   |   Episode Length : 1269   |\n",
       "</pre>\n"
      ],
      "text/plain": [
       "Market Return :  0.14%   |   Portfolio Return : -5.65%   |   Position Changes : 280   |   Episode Length : 1269   |\n"
      ]
     },
     "metadata": {},
     "output_type": "display_data"
    },
    {
     "data": {
      "text/html": [
       "<pre style=\"white-space:pre;overflow-x:auto;line-height:normal;font-family:Menlo,'DejaVu Sans Mono',consolas,'Courier New',monospace\">Market Return : -1.68%   |   Portfolio Return : -8.14%   |   Position Changes : 280   |   Episode Length : 1330   |\n",
       "</pre>\n"
      ],
      "text/plain": [
       "Market Return : -1.68%   |   Portfolio Return : -8.14%   |   Position Changes : 280   |   Episode Length : 1330   |\n"
      ]
     },
     "metadata": {},
     "output_type": "display_data"
    },
    {
     "data": {
      "text/html": [
       "<pre style=\"white-space:pre;overflow-x:auto;line-height:normal;font-family:Menlo,'DejaVu Sans Mono',consolas,'Courier New',monospace\">Market Return : -1.71%   |   Portfolio Return : -0.53%   |   Position Changes : 337   |   Episode Length : 1330   |\n",
       "</pre>\n"
      ],
      "text/plain": [
       "Market Return : -1.71%   |   Portfolio Return : -0.53%   |   Position Changes : 337   |   Episode Length : 1330   |\n"
      ]
     },
     "metadata": {},
     "output_type": "display_data"
    },
    {
     "data": {
      "text/html": [
       "<pre style=\"white-space:pre;overflow-x:auto;line-height:normal;font-family:Menlo,'DejaVu Sans Mono',consolas,'Courier New',monospace\">Market Return :  1.14%   |   Portfolio Return : -6.12%   |   Position Changes : 277   |   Episode Length : 1330   |\n",
       "</pre>\n"
      ],
      "text/plain": [
       "Market Return :  1.14%   |   Portfolio Return : -6.12%   |   Position Changes : 277   |   Episode Length : 1330   |\n"
      ]
     },
     "metadata": {},
     "output_type": "display_data"
    },
    {
     "data": {
      "text/html": [
       "<pre style=\"white-space:pre;overflow-x:auto;line-height:normal;font-family:Menlo,'DejaVu Sans Mono',consolas,'Courier New',monospace\">Market Return : -3.36%   |   Portfolio Return : -2.50%   |   Position Changes : 268   |   Episode Length : 1330   |\n",
       "</pre>\n"
      ],
      "text/plain": [
       "Market Return : -3.36%   |   Portfolio Return : -2.50%   |   Position Changes : 268   |   Episode Length : 1330   |\n"
      ]
     },
     "metadata": {},
     "output_type": "display_data"
    },
    {
     "data": {
      "text/html": [
       "<pre style=\"white-space:pre;overflow-x:auto;line-height:normal;font-family:Menlo,'DejaVu Sans Mono',consolas,'Courier New',monospace\">Market Return :  0.84%   |   Portfolio Return : -2.39%   |   Position Changes : 238   |   Episode Length : 1330   |\n",
       "</pre>\n"
      ],
      "text/plain": [
       "Market Return :  0.84%   |   Portfolio Return : -2.39%   |   Position Changes : 238   |   Episode Length : 1330   |\n"
      ]
     },
     "metadata": {},
     "output_type": "display_data"
    },
    {
     "data": {
      "text/html": [
       "<pre style=\"white-space:pre;overflow-x:auto;line-height:normal;font-family:Menlo,'DejaVu Sans Mono',consolas,'Courier New',monospace\">Market Return :  0.52%   |   Portfolio Return : -4.57%   |   Position Changes : 263   |   Episode Length : 1330   |\n",
       "</pre>\n"
      ],
      "text/plain": [
       "Market Return :  0.52%   |   Portfolio Return : -4.57%   |   Position Changes : 263   |   Episode Length : 1330   |\n"
      ]
     },
     "metadata": {},
     "output_type": "display_data"
    },
    {
     "data": {
      "text/html": [
       "<pre style=\"white-space:pre;overflow-x:auto;line-height:normal;font-family:Menlo,'DejaVu Sans Mono',consolas,'Courier New',monospace\">Market Return : -0.45%   |   Portfolio Return : -6.03%   |   Position Changes : 264   |   Episode Length : 1330   |\n",
       "</pre>\n"
      ],
      "text/plain": [
       "Market Return : -0.45%   |   Portfolio Return : -6.03%   |   Position Changes : 264   |   Episode Length : 1330   |\n"
      ]
     },
     "metadata": {},
     "output_type": "display_data"
    },
    {
     "data": {
      "text/html": [
       "<pre style=\"white-space:pre;overflow-x:auto;line-height:normal;font-family:Menlo,'DejaVu Sans Mono',consolas,'Courier New',monospace\">Market Return : -3.03%   |   Portfolio Return : -5.71%   |   Position Changes : 333   |   Episode Length : 1330   |\n",
       "</pre>\n"
      ],
      "text/plain": [
       "Market Return : -3.03%   |   Portfolio Return : -5.71%   |   Position Changes : 333   |   Episode Length : 1330   |\n"
      ]
     },
     "metadata": {},
     "output_type": "display_data"
    },
    {
     "data": {
      "text/html": [
       "<pre style=\"white-space:pre;overflow-x:auto;line-height:normal;font-family:Menlo,'DejaVu Sans Mono',consolas,'Courier New',monospace\">Market Return :  0.14%   |   Portfolio Return : -4.30%   |   Position Changes : 253   |   Episode Length : 1330   |\n",
       "</pre>\n"
      ],
      "text/plain": [
       "Market Return :  0.14%   |   Portfolio Return : -4.30%   |   Position Changes : 253   |   Episode Length : 1330   |\n"
      ]
     },
     "metadata": {},
     "output_type": "display_data"
    },
    {
     "data": {
      "text/html": [
       "<pre style=\"white-space:pre;overflow-x:auto;line-height:normal;font-family:Menlo,'DejaVu Sans Mono',consolas,'Courier New',monospace\">Market Return : -0.08%   |   Portfolio Return : -3.69%   |   Position Changes : 256   |   Episode Length : 1330   |\n",
       "</pre>\n"
      ],
      "text/plain": [
       "Market Return : -0.08%   |   Portfolio Return : -3.69%   |   Position Changes : 256   |   Episode Length : 1330   |\n"
      ]
     },
     "metadata": {},
     "output_type": "display_data"
    },
    {
     "data": {
      "text/html": [
       "<pre style=\"white-space:pre;overflow-x:auto;line-height:normal;font-family:Menlo,'DejaVu Sans Mono',consolas,'Courier New',monospace\">Market Return : -2.87%   |   Portfolio Return : -5.38%   |   Position Changes : 246   |   Episode Length : 1330   |\n",
       "</pre>\n"
      ],
      "text/plain": [
       "Market Return : -2.87%   |   Portfolio Return : -5.38%   |   Position Changes : 246   |   Episode Length : 1330   |\n"
      ]
     },
     "metadata": {},
     "output_type": "display_data"
    },
    {
     "data": {
      "text/html": [
       "<pre style=\"white-space:pre;overflow-x:auto;line-height:normal;font-family:Menlo,'DejaVu Sans Mono',consolas,'Courier New',monospace\">Market Return : 10.14%   |   Portfolio Return : -3.31%   |   Position Changes : 378   |   Episode Length : 1330   |\n",
       "</pre>\n"
      ],
      "text/plain": [
       "Market Return : 10.14%   |   Portfolio Return : -3.31%   |   Position Changes : 378   |   Episode Length : 1330   |\n"
      ]
     },
     "metadata": {},
     "output_type": "display_data"
    },
    {
     "data": {
      "text/html": [
       "<pre style=\"white-space:pre;overflow-x:auto;line-height:normal;font-family:Menlo,'DejaVu Sans Mono',consolas,'Courier New',monospace\">Market Return : -0.08%   |   Portfolio Return : -6.01%   |   Position Changes : 273   |   Episode Length : 1330   |\n",
       "</pre>\n"
      ],
      "text/plain": [
       "Market Return : -0.08%   |   Portfolio Return : -6.01%   |   Position Changes : 273   |   Episode Length : 1330   |\n"
      ]
     },
     "metadata": {},
     "output_type": "display_data"
    },
    {
     "data": {
      "text/html": [
       "<pre style=\"white-space:pre;overflow-x:auto;line-height:normal;font-family:Menlo,'DejaVu Sans Mono',consolas,'Courier New',monospace\">Market Return : -4.63%   |   Portfolio Return : -2.51%   |   Position Changes : 334   |   Episode Length : 1330   |\n",
       "</pre>\n"
      ],
      "text/plain": [
       "Market Return : -4.63%   |   Portfolio Return : -2.51%   |   Position Changes : 334   |   Episode Length : 1330   |\n"
      ]
     },
     "metadata": {},
     "output_type": "display_data"
    },
    {
     "data": {
      "text/html": [
       "<pre style=\"white-space:pre;overflow-x:auto;line-height:normal;font-family:Menlo,'DejaVu Sans Mono',consolas,'Courier New',monospace\">Market Return :  3.16%   |   Portfolio Return : -5.84%   |   Position Changes : 261   |   Episode Length : 1330   |\n",
       "</pre>\n"
      ],
      "text/plain": [
       "Market Return :  3.16%   |   Portfolio Return : -5.84%   |   Position Changes : 261   |   Episode Length : 1330   |\n"
      ]
     },
     "metadata": {},
     "output_type": "display_data"
    },
    {
     "data": {
      "text/html": [
       "<pre style=\"white-space:pre;overflow-x:auto;line-height:normal;font-family:Menlo,'DejaVu Sans Mono',consolas,'Courier New',monospace\">Market Return : -0.41%   |   Portfolio Return : -5.38%   |   Position Changes : 271   |   Episode Length : 1330   |\n",
       "</pre>\n"
      ],
      "text/plain": [
       "Market Return : -0.41%   |   Portfolio Return : -5.38%   |   Position Changes : 271   |   Episode Length : 1330   |\n"
      ]
     },
     "metadata": {},
     "output_type": "display_data"
    },
    {
     "data": {
      "text/html": [
       "<pre style=\"white-space:pre;overflow-x:auto;line-height:normal;font-family:Menlo,'DejaVu Sans Mono',consolas,'Courier New',monospace\">Market Return :  1.16%   |   Portfolio Return : -4.09%   |   Position Changes : 257   |   Episode Length : 1330   |\n",
       "</pre>\n"
      ],
      "text/plain": [
       "Market Return :  1.16%   |   Portfolio Return : -4.09%   |   Position Changes : 257   |   Episode Length : 1330   |\n"
      ]
     },
     "metadata": {},
     "output_type": "display_data"
    },
    {
     "data": {
      "text/html": [
       "<pre style=\"white-space:pre;overflow-x:auto;line-height:normal;font-family:Menlo,'DejaVu Sans Mono',consolas,'Courier New',monospace\">Market Return :  2.28%   |   Portfolio Return : -8.41%   |   Position Changes : 404   |   Episode Length : 1330   |\n",
       "</pre>\n"
      ],
      "text/plain": [
       "Market Return :  2.28%   |   Portfolio Return : -8.41%   |   Position Changes : 404   |   Episode Length : 1330   |\n"
      ]
     },
     "metadata": {},
     "output_type": "display_data"
    },
    {
     "data": {
      "text/html": [
       "<pre style=\"white-space:pre;overflow-x:auto;line-height:normal;font-family:Menlo,'DejaVu Sans Mono',consolas,'Courier New',monospace\">Market Return : 10.93%   |   Portfolio Return : -0.25%   |   Position Changes : 348   |   Episode Length : 1330   |\n",
       "</pre>\n"
      ],
      "text/plain": [
       "Market Return : 10.93%   |   Portfolio Return : -0.25%   |   Position Changes : 348   |   Episode Length : 1330   |\n"
      ]
     },
     "metadata": {},
     "output_type": "display_data"
    },
    {
     "data": {
      "text/html": [
       "<pre style=\"white-space:pre;overflow-x:auto;line-height:normal;font-family:Menlo,'DejaVu Sans Mono',consolas,'Courier New',monospace\">Market Return :  0.91%   |   Portfolio Return : -4.08%   |   Position Changes : 245   |   Episode Length : 1330   |\n",
       "</pre>\n"
      ],
      "text/plain": [
       "Market Return :  0.91%   |   Portfolio Return : -4.08%   |   Position Changes : 245   |   Episode Length : 1330   |\n"
      ]
     },
     "metadata": {},
     "output_type": "display_data"
    },
    {
     "data": {
      "text/html": [
       "<pre style=\"white-space:pre;overflow-x:auto;line-height:normal;font-family:Menlo,'DejaVu Sans Mono',consolas,'Courier New',monospace\">Market Return : -0.29%   |   Portfolio Return : -5.98%   |   Position Changes : 234   |   Episode Length : 1330   |\n",
       "</pre>\n"
      ],
      "text/plain": [
       "Market Return : -0.29%   |   Portfolio Return : -5.98%   |   Position Changes : 234   |   Episode Length : 1330   |\n"
      ]
     },
     "metadata": {},
     "output_type": "display_data"
    },
    {
     "data": {
      "text/html": [
       "<pre style=\"white-space:pre;overflow-x:auto;line-height:normal;font-family:Menlo,'DejaVu Sans Mono',consolas,'Courier New',monospace\">Market Return : -4.47%   |   Portfolio Return : -16.87%   |   Position Changes : 501   |   Episode Length : 1330   \n",
       "|   \n",
       "</pre>\n"
      ],
      "text/plain": [
       "Market Return : -4.47%   |   Portfolio Return : -16.87%   |   Position Changes : 501   |   Episode Length : 1330   \n",
       "|   \n"
      ]
     },
     "metadata": {},
     "output_type": "display_data"
    },
    {
     "data": {
      "text/html": [
       "<pre style=\"white-space:pre;overflow-x:auto;line-height:normal;font-family:Menlo,'DejaVu Sans Mono',consolas,'Courier New',monospace\">Market Return :  0.43%   |   Portfolio Return : -4.03%   |   Position Changes : 230   |   Episode Length : 1330   |\n",
       "</pre>\n"
      ],
      "text/plain": [
       "Market Return :  0.43%   |   Portfolio Return : -4.03%   |   Position Changes : 230   |   Episode Length : 1330   |\n"
      ]
     },
     "metadata": {},
     "output_type": "display_data"
    },
    {
     "data": {
      "text/html": [
       "<pre style=\"white-space:pre;overflow-x:auto;line-height:normal;font-family:Menlo,'DejaVu Sans Mono',consolas,'Courier New',monospace\">Market Return :  1.21%   |   Portfolio Return : -0.88%   |   Position Changes : 182   |   Episode Length : 1330   |\n",
       "</pre>\n"
      ],
      "text/plain": [
       "Market Return :  1.21%   |   Portfolio Return : -0.88%   |   Position Changes : 182   |   Episode Length : 1330   |\n"
      ]
     },
     "metadata": {},
     "output_type": "display_data"
    },
    {
     "data": {
      "text/html": [
       "<pre style=\"white-space:pre;overflow-x:auto;line-height:normal;font-family:Menlo,'DejaVu Sans Mono',consolas,'Courier New',monospace\">Market Return :  0.32%   |   Portfolio Return : -6.23%   |   Position Changes : 284   |   Episode Length : 1330   |\n",
       "</pre>\n"
      ],
      "text/plain": [
       "Market Return :  0.32%   |   Portfolio Return : -6.23%   |   Position Changes : 284   |   Episode Length : 1330   |\n"
      ]
     },
     "metadata": {},
     "output_type": "display_data"
    },
    {
     "data": {
      "text/html": [
       "<pre style=\"white-space:pre;overflow-x:auto;line-height:normal;font-family:Menlo,'DejaVu Sans Mono',consolas,'Courier New',monospace\">Market Return : -0.20%   |   Portfolio Return : -7.63%   |   Position Changes : 225   |   Episode Length : 1330   |\n",
       "</pre>\n"
      ],
      "text/plain": [
       "Market Return : -0.20%   |   Portfolio Return : -7.63%   |   Position Changes : 225   |   Episode Length : 1330   |\n"
      ]
     },
     "metadata": {},
     "output_type": "display_data"
    },
    {
     "data": {
      "text/html": [
       "<pre style=\"white-space:pre;overflow-x:auto;line-height:normal;font-family:Menlo,'DejaVu Sans Mono',consolas,'Courier New',monospace\">Market Return :  3.51%   |   Portfolio Return : -7.29%   |   Position Changes : 242   |   Episode Length : 1330   |\n",
       "</pre>\n"
      ],
      "text/plain": [
       "Market Return :  3.51%   |   Portfolio Return : -7.29%   |   Position Changes : 242   |   Episode Length : 1330   |\n"
      ]
     },
     "metadata": {},
     "output_type": "display_data"
    },
    {
     "data": {
      "text/html": [
       "<pre style=\"white-space:pre;overflow-x:auto;line-height:normal;font-family:Menlo,'DejaVu Sans Mono',consolas,'Courier New',monospace\">Market Return :  1.89%   |   Portfolio Return : -1.03%   |   Position Changes : 313   |   Episode Length : 1330   |\n",
       "</pre>\n"
      ],
      "text/plain": [
       "Market Return :  1.89%   |   Portfolio Return : -1.03%   |   Position Changes : 313   |   Episode Length : 1330   |\n"
      ]
     },
     "metadata": {},
     "output_type": "display_data"
    },
    {
     "data": {
      "text/html": [
       "<pre style=\"white-space:pre;overflow-x:auto;line-height:normal;font-family:Menlo,'DejaVu Sans Mono',consolas,'Courier New',monospace\">Market Return :  3.80%   |   Portfolio Return : -11.89%   |   Position Changes : 369   |   Episode Length : 1330   \n",
       "|   \n",
       "</pre>\n"
      ],
      "text/plain": [
       "Market Return :  3.80%   |   Portfolio Return : -11.89%   |   Position Changes : 369   |   Episode Length : 1330   \n",
       "|   \n"
      ]
     },
     "metadata": {},
     "output_type": "display_data"
    },
    {
     "data": {
      "text/html": [
       "<pre style=\"white-space:pre;overflow-x:auto;line-height:normal;font-family:Menlo,'DejaVu Sans Mono',consolas,'Courier New',monospace\">Market Return :  0.38%   |   Portfolio Return : -2.90%   |   Position Changes : 264   |   Episode Length : 1330   |\n",
       "</pre>\n"
      ],
      "text/plain": [
       "Market Return :  0.38%   |   Portfolio Return : -2.90%   |   Position Changes : 264   |   Episode Length : 1330   |\n"
      ]
     },
     "metadata": {},
     "output_type": "display_data"
    },
    {
     "data": {
      "text/html": [
       "<pre style=\"white-space:pre;overflow-x:auto;line-height:normal;font-family:Menlo,'DejaVu Sans Mono',consolas,'Courier New',monospace\">Market Return :  2.39%   |   Portfolio Return : -5.26%   |   Position Changes : 264   |   Episode Length : 1330   |\n",
       "</pre>\n"
      ],
      "text/plain": [
       "Market Return :  2.39%   |   Portfolio Return : -5.26%   |   Position Changes : 264   |   Episode Length : 1330   |\n"
      ]
     },
     "metadata": {},
     "output_type": "display_data"
    },
    {
     "data": {
      "text/html": [
       "<pre style=\"white-space:pre;overflow-x:auto;line-height:normal;font-family:Menlo,'DejaVu Sans Mono',consolas,'Courier New',monospace\">Market Return : -3.54%   |   Portfolio Return : -3.71%   |   Position Changes : 366   |   Episode Length : 1330   |\n",
       "</pre>\n"
      ],
      "text/plain": [
       "Market Return : -3.54%   |   Portfolio Return : -3.71%   |   Position Changes : 366   |   Episode Length : 1330   |\n"
      ]
     },
     "metadata": {},
     "output_type": "display_data"
    },
    {
     "data": {
      "text/html": [
       "<pre style=\"white-space:pre;overflow-x:auto;line-height:normal;font-family:Menlo,'DejaVu Sans Mono',consolas,'Courier New',monospace\">Market Return : -1.25%   |   Portfolio Return :  0.65%   |   Position Changes : 328   |   Episode Length : 1330   |\n",
       "</pre>\n"
      ],
      "text/plain": [
       "Market Return : -1.25%   |   Portfolio Return :  0.65%   |   Position Changes : 328   |   Episode Length : 1330   |\n"
      ]
     },
     "metadata": {},
     "output_type": "display_data"
    },
    {
     "data": {
      "text/html": [
       "<pre style=\"white-space:pre;overflow-x:auto;line-height:normal;font-family:Menlo,'DejaVu Sans Mono',consolas,'Courier New',monospace\">Market Return :  0.43%   |   Portfolio Return : -7.14%   |   Position Changes : 255   |   Episode Length : 1330   |\n",
       "</pre>\n"
      ],
      "text/plain": [
       "Market Return :  0.43%   |   Portfolio Return : -7.14%   |   Position Changes : 255   |   Episode Length : 1330   |\n"
      ]
     },
     "metadata": {},
     "output_type": "display_data"
    },
    {
     "data": {
      "text/html": [
       "<pre style=\"white-space:pre;overflow-x:auto;line-height:normal;font-family:Menlo,'DejaVu Sans Mono',consolas,'Courier New',monospace\">Market Return : -1.94%   |   Portfolio Return :  0.85%   |   Position Changes : 356   |   Episode Length : 1330   |\n",
       "</pre>\n"
      ],
      "text/plain": [
       "Market Return : -1.94%   |   Portfolio Return :  0.85%   |   Position Changes : 356   |   Episode Length : 1330   |\n"
      ]
     },
     "metadata": {},
     "output_type": "display_data"
    },
    {
     "data": {
      "text/html": [
       "<pre style=\"white-space:pre;overflow-x:auto;line-height:normal;font-family:Menlo,'DejaVu Sans Mono',consolas,'Courier New',monospace\">Market Return : -0.48%   |   Portfolio Return : -2.90%   |   Position Changes : 259   |   Episode Length : 1330   |\n",
       "</pre>\n"
      ],
      "text/plain": [
       "Market Return : -0.48%   |   Portfolio Return : -2.90%   |   Position Changes : 259   |   Episode Length : 1330   |\n"
      ]
     },
     "metadata": {},
     "output_type": "display_data"
    },
    {
     "data": {
      "text/html": [
       "<pre style=\"white-space:pre;overflow-x:auto;line-height:normal;font-family:Menlo,'DejaVu Sans Mono',consolas,'Courier New',monospace\">Market Return :  0.24%   |   Portfolio Return : -4.23%   |   Position Changes : 215   |   Episode Length : 1330   |\n",
       "</pre>\n"
      ],
      "text/plain": [
       "Market Return :  0.24%   |   Portfolio Return : -4.23%   |   Position Changes : 215   |   Episode Length : 1330   |\n"
      ]
     },
     "metadata": {},
     "output_type": "display_data"
    },
    {
     "data": {
      "text/html": [
       "<pre style=\"white-space:pre;overflow-x:auto;line-height:normal;font-family:Menlo,'DejaVu Sans Mono',consolas,'Courier New',monospace\">Market Return : -0.49%   |   Portfolio Return : -2.79%   |   Position Changes : 250   |   Episode Length : 1330   |\n",
       "</pre>\n"
      ],
      "text/plain": [
       "Market Return : -0.49%   |   Portfolio Return : -2.79%   |   Position Changes : 250   |   Episode Length : 1330   |\n"
      ]
     },
     "metadata": {},
     "output_type": "display_data"
    },
    {
     "data": {
      "text/html": [
       "<pre style=\"white-space:pre;overflow-x:auto;line-height:normal;font-family:Menlo,'DejaVu Sans Mono',consolas,'Courier New',monospace\">Market Return :  0.08%   |   Portfolio Return : -4.25%   |   Position Changes : 257   |   Episode Length : 1330   |\n",
       "</pre>\n"
      ],
      "text/plain": [
       "Market Return :  0.08%   |   Portfolio Return : -4.25%   |   Position Changes : 257   |   Episode Length : 1330   |\n"
      ]
     },
     "metadata": {},
     "output_type": "display_data"
    },
    {
     "data": {
      "text/html": [
       "<pre style=\"white-space:pre;overflow-x:auto;line-height:normal;font-family:Menlo,'DejaVu Sans Mono',consolas,'Courier New',monospace\">Market Return : -0.43%   |   Portfolio Return : -5.10%   |   Position Changes : 302   |   Episode Length : 1330   |\n",
       "</pre>\n"
      ],
      "text/plain": [
       "Market Return : -0.43%   |   Portfolio Return : -5.10%   |   Position Changes : 302   |   Episode Length : 1330   |\n"
      ]
     },
     "metadata": {},
     "output_type": "display_data"
    },
    {
     "data": {
      "text/html": [
       "<pre style=\"white-space:pre;overflow-x:auto;line-height:normal;font-family:Menlo,'DejaVu Sans Mono',consolas,'Courier New',monospace\">Market Return : -1.88%   |   Portfolio Return : -2.97%   |   Position Changes : 225   |   Episode Length : 1120   |\n",
       "</pre>\n"
      ],
      "text/plain": [
       "Market Return : -1.88%   |   Portfolio Return : -2.97%   |   Position Changes : 225   |   Episode Length : 1120   |\n"
      ]
     },
     "metadata": {},
     "output_type": "display_data"
    },
    {
     "data": {
      "text/html": [
       "<pre style=\"white-space:pre;overflow-x:auto;line-height:normal;font-family:Menlo,'DejaVu Sans Mono',consolas,'Courier New',monospace\">Market Return : -7.38%   |   Portfolio Return : -2.91%   |   Position Changes : 226   |   Episode Length : 1330   |\n",
       "</pre>\n"
      ],
      "text/plain": [
       "Market Return : -7.38%   |   Portfolio Return : -2.91%   |   Position Changes : 226   |   Episode Length : 1330   |\n"
      ]
     },
     "metadata": {},
     "output_type": "display_data"
    },
    {
     "data": {
      "text/html": [
       "<pre style=\"white-space:pre;overflow-x:auto;line-height:normal;font-family:Menlo,'DejaVu Sans Mono',consolas,'Courier New',monospace\">Market Return : -4.03%   |   Portfolio Return : -11.67%   |   Position Changes : 320   |   Episode Length : 1330   \n",
       "|   \n",
       "</pre>\n"
      ],
      "text/plain": [
       "Market Return : -4.03%   |   Portfolio Return : -11.67%   |   Position Changes : 320   |   Episode Length : 1330   \n",
       "|   \n"
      ]
     },
     "metadata": {},
     "output_type": "display_data"
    },
    {
     "data": {
      "text/html": [
       "<pre style=\"white-space:pre;overflow-x:auto;line-height:normal;font-family:Menlo,'DejaVu Sans Mono',consolas,'Courier New',monospace\">Market Return :  0.85%   |   Portfolio Return : -5.30%   |   Position Changes : 231   |   Episode Length : 1330   |\n",
       "</pre>\n"
      ],
      "text/plain": [
       "Market Return :  0.85%   |   Portfolio Return : -5.30%   |   Position Changes : 231   |   Episode Length : 1330   |\n"
      ]
     },
     "metadata": {},
     "output_type": "display_data"
    },
    {
     "data": {
      "text/html": [
       "<pre style=\"white-space:pre;overflow-x:auto;line-height:normal;font-family:Menlo,'DejaVu Sans Mono',consolas,'Courier New',monospace\">Market Return :  9.71%   |   Portfolio Return : -6.62%   |   Position Changes : 412   |   Episode Length : 1330   |\n",
       "</pre>\n"
      ],
      "text/plain": [
       "Market Return :  9.71%   |   Portfolio Return : -6.62%   |   Position Changes : 412   |   Episode Length : 1330   |\n"
      ]
     },
     "metadata": {},
     "output_type": "display_data"
    },
    {
     "data": {
      "text/html": [
       "<pre style=\"white-space:pre;overflow-x:auto;line-height:normal;font-family:Menlo,'DejaVu Sans Mono',consolas,'Courier New',monospace\">Market Return : -3.75%   |   Portfolio Return : -6.38%   |   Position Changes : 306   |   Episode Length : 1330   |\n",
       "</pre>\n"
      ],
      "text/plain": [
       "Market Return : -3.75%   |   Portfolio Return : -6.38%   |   Position Changes : 306   |   Episode Length : 1330   |\n"
      ]
     },
     "metadata": {},
     "output_type": "display_data"
    },
    {
     "data": {
      "text/html": [
       "<pre style=\"white-space:pre;overflow-x:auto;line-height:normal;font-family:Menlo,'DejaVu Sans Mono',consolas,'Courier New',monospace\">Market Return : -1.16%   |   Portfolio Return : -7.20%   |   Position Changes : 264   |   Episode Length : 1330   |\n",
       "</pre>\n"
      ],
      "text/plain": [
       "Market Return : -1.16%   |   Portfolio Return : -7.20%   |   Position Changes : 264   |   Episode Length : 1330   |\n"
      ]
     },
     "metadata": {},
     "output_type": "display_data"
    },
    {
     "data": {
      "text/html": [
       "<pre style=\"white-space:pre;overflow-x:auto;line-height:normal;font-family:Menlo,'DejaVu Sans Mono',consolas,'Courier New',monospace\">Market Return : -2.38%   |   Portfolio Return :  0.32%   |   Position Changes : 254   |   Episode Length : 1330   |\n",
       "</pre>\n"
      ],
      "text/plain": [
       "Market Return : -2.38%   |   Portfolio Return :  0.32%   |   Position Changes : 254   |   Episode Length : 1330   |\n"
      ]
     },
     "metadata": {},
     "output_type": "display_data"
    },
    {
     "data": {
      "text/html": [
       "<pre style=\"white-space:pre;overflow-x:auto;line-height:normal;font-family:Menlo,'DejaVu Sans Mono',consolas,'Courier New',monospace\">Market Return : -0.71%   |   Portfolio Return : -3.77%   |   Position Changes : 213   |   Episode Length : 1330   |\n",
       "</pre>\n"
      ],
      "text/plain": [
       "Market Return : -0.71%   |   Portfolio Return : -3.77%   |   Position Changes : 213   |   Episode Length : 1330   |\n"
      ]
     },
     "metadata": {},
     "output_type": "display_data"
    },
    {
     "data": {
      "text/html": [
       "<pre style=\"white-space:pre;overflow-x:auto;line-height:normal;font-family:Menlo,'DejaVu Sans Mono',consolas,'Courier New',monospace\">Market Return : -0.48%   |   Portfolio Return : -4.36%   |   Position Changes : 228   |   Episode Length : 1330   |\n",
       "</pre>\n"
      ],
      "text/plain": [
       "Market Return : -0.48%   |   Portfolio Return : -4.36%   |   Position Changes : 228   |   Episode Length : 1330   |\n"
      ]
     },
     "metadata": {},
     "output_type": "display_data"
    },
    {
     "data": {
      "text/html": [
       "<pre style=\"white-space:pre;overflow-x:auto;line-height:normal;font-family:Menlo,'DejaVu Sans Mono',consolas,'Courier New',monospace\">Market Return : -3.52%   |   Portfolio Return : -3.58%   |   Position Changes : 277   |   Episode Length : 1330   |\n",
       "</pre>\n"
      ],
      "text/plain": [
       "Market Return : -3.52%   |   Portfolio Return : -3.58%   |   Position Changes : 277   |   Episode Length : 1330   |\n"
      ]
     },
     "metadata": {},
     "output_type": "display_data"
    },
    {
     "data": {
      "text/html": [
       "<pre style=\"white-space:pre;overflow-x:auto;line-height:normal;font-family:Menlo,'DejaVu Sans Mono',consolas,'Courier New',monospace\">Market Return : -11.61%   |   Portfolio Return :  5.37%   |   Position Changes : 369   |   Episode Length : 1330   \n",
       "|   \n",
       "</pre>\n"
      ],
      "text/plain": [
       "Market Return : -11.61%   |   Portfolio Return :  5.37%   |   Position Changes : 369   |   Episode Length : 1330   \n",
       "|   \n"
      ]
     },
     "metadata": {},
     "output_type": "display_data"
    },
    {
     "data": {
      "text/html": [
       "<pre style=\"white-space:pre;overflow-x:auto;line-height:normal;font-family:Menlo,'DejaVu Sans Mono',consolas,'Courier New',monospace\">Market Return : -0.43%   |   Portfolio Return : -6.93%   |   Position Changes : 320   |   Episode Length : 1330   |\n",
       "</pre>\n"
      ],
      "text/plain": [
       "Market Return : -0.43%   |   Portfolio Return : -6.93%   |   Position Changes : 320   |   Episode Length : 1330   |\n"
      ]
     },
     "metadata": {},
     "output_type": "display_data"
    },
    {
     "data": {
      "text/html": [
       "<pre style=\"white-space:pre;overflow-x:auto;line-height:normal;font-family:Menlo,'DejaVu Sans Mono',consolas,'Courier New',monospace\">Market Return : -2.44%   |   Portfolio Return : -6.20%   |   Position Changes : 264   |   Episode Length : 1330   |\n",
       "</pre>\n"
      ],
      "text/plain": [
       "Market Return : -2.44%   |   Portfolio Return : -6.20%   |   Position Changes : 264   |   Episode Length : 1330   |\n"
      ]
     },
     "metadata": {},
     "output_type": "display_data"
    },
    {
     "data": {
      "text/html": [
       "<pre style=\"white-space:pre;overflow-x:auto;line-height:normal;font-family:Menlo,'DejaVu Sans Mono',consolas,'Courier New',monospace\">Market Return : -0.85%   |   Portfolio Return : -6.23%   |   Position Changes : 256   |   Episode Length : 1330   |\n",
       "</pre>\n"
      ],
      "text/plain": [
       "Market Return : -0.85%   |   Portfolio Return : -6.23%   |   Position Changes : 256   |   Episode Length : 1330   |\n"
      ]
     },
     "metadata": {},
     "output_type": "display_data"
    },
    {
     "data": {
      "text/html": [
       "<pre style=\"white-space:pre;overflow-x:auto;line-height:normal;font-family:Menlo,'DejaVu Sans Mono',consolas,'Courier New',monospace\">Market Return : -5.45%   |   Portfolio Return : -6.49%   |   Position Changes : 261   |   Episode Length : 1330   |\n",
       "</pre>\n"
      ],
      "text/plain": [
       "Market Return : -5.45%   |   Portfolio Return : -6.49%   |   Position Changes : 261   |   Episode Length : 1330   |\n"
      ]
     },
     "metadata": {},
     "output_type": "display_data"
    },
    {
     "data": {
      "text/html": [
       "<pre style=\"white-space:pre;overflow-x:auto;line-height:normal;font-family:Menlo,'DejaVu Sans Mono',consolas,'Courier New',monospace\">Market Return :  1.07%   |   Portfolio Return : -4.42%   |   Position Changes : 199   |   Episode Length : 1330   |\n",
       "</pre>\n"
      ],
      "text/plain": [
       "Market Return :  1.07%   |   Portfolio Return : -4.42%   |   Position Changes : 199   |   Episode Length : 1330   |\n"
      ]
     },
     "metadata": {},
     "output_type": "display_data"
    },
    {
     "data": {
      "text/html": [
       "<pre style=\"white-space:pre;overflow-x:auto;line-height:normal;font-family:Menlo,'DejaVu Sans Mono',consolas,'Courier New',monospace\">Market Return :  0.64%   |   Portfolio Return : -4.78%   |   Position Changes : 234   |   Episode Length : 1330   |\n",
       "</pre>\n"
      ],
      "text/plain": [
       "Market Return :  0.64%   |   Portfolio Return : -4.78%   |   Position Changes : 234   |   Episode Length : 1330   |\n"
      ]
     },
     "metadata": {},
     "output_type": "display_data"
    },
    {
     "data": {
      "text/html": [
       "<pre style=\"white-space:pre;overflow-x:auto;line-height:normal;font-family:Menlo,'DejaVu Sans Mono',consolas,'Courier New',monospace\">Market Return :  3.54%   |   Portfolio Return : -6.22%   |   Position Changes : 283   |   Episode Length : 1330   |\n",
       "</pre>\n"
      ],
      "text/plain": [
       "Market Return :  3.54%   |   Portfolio Return : -6.22%   |   Position Changes : 283   |   Episode Length : 1330   |\n"
      ]
     },
     "metadata": {},
     "output_type": "display_data"
    },
    {
     "data": {
      "text/html": [
       "<pre style=\"white-space:pre;overflow-x:auto;line-height:normal;font-family:Menlo,'DejaVu Sans Mono',consolas,'Courier New',monospace\">Market Return :  1.25%   |   Portfolio Return : -11.57%   |   Position Changes : 324   |   Episode Length : 1330   \n",
       "|   \n",
       "</pre>\n"
      ],
      "text/plain": [
       "Market Return :  1.25%   |   Portfolio Return : -11.57%   |   Position Changes : 324   |   Episode Length : 1330   \n",
       "|   \n"
      ]
     },
     "metadata": {},
     "output_type": "display_data"
    },
    {
     "data": {
      "text/html": [
       "<pre style=\"white-space:pre;overflow-x:auto;line-height:normal;font-family:Menlo,'DejaVu Sans Mono',consolas,'Courier New',monospace\">Market Return : -0.85%   |   Portfolio Return : -5.28%   |   Position Changes : 235   |   Episode Length : 1330   |\n",
       "</pre>\n"
      ],
      "text/plain": [
       "Market Return : -0.85%   |   Portfolio Return : -5.28%   |   Position Changes : 235   |   Episode Length : 1330   |\n"
      ]
     },
     "metadata": {},
     "output_type": "display_data"
    },
    {
     "data": {
      "text/html": [
       "<pre style=\"white-space:pre;overflow-x:auto;line-height:normal;font-family:Menlo,'DejaVu Sans Mono',consolas,'Courier New',monospace\">Market Return : -0.57%   |   Portfolio Return : -5.46%   |   Position Changes : 184   |   Episode Length : 1330   |\n",
       "</pre>\n"
      ],
      "text/plain": [
       "Market Return : -0.57%   |   Portfolio Return : -5.46%   |   Position Changes : 184   |   Episode Length : 1330   |\n"
      ]
     },
     "metadata": {},
     "output_type": "display_data"
    },
    {
     "data": {
      "text/html": [
       "<pre style=\"white-space:pre;overflow-x:auto;line-height:normal;font-family:Menlo,'DejaVu Sans Mono',consolas,'Courier New',monospace\">Market Return : -1.89%   |   Portfolio Return :  1.06%   |   Position Changes : 391   |   Episode Length : 1330   |\n",
       "</pre>\n"
      ],
      "text/plain": [
       "Market Return : -1.89%   |   Portfolio Return :  1.06%   |   Position Changes : 391   |   Episode Length : 1330   |\n"
      ]
     },
     "metadata": {},
     "output_type": "display_data"
    },
    {
     "data": {
      "text/html": [
       "<pre style=\"white-space:pre;overflow-x:auto;line-height:normal;font-family:Menlo,'DejaVu Sans Mono',consolas,'Courier New',monospace\">Market Return : -9.17%   |   Portfolio Return : -3.66%   |   Position Changes : 283   |   Episode Length : 1330   |\n",
       "</pre>\n"
      ],
      "text/plain": [
       "Market Return : -9.17%   |   Portfolio Return : -3.66%   |   Position Changes : 283   |   Episode Length : 1330   |\n"
      ]
     },
     "metadata": {},
     "output_type": "display_data"
    },
    {
     "data": {
      "text/html": [
       "<pre style=\"white-space:pre;overflow-x:auto;line-height:normal;font-family:Menlo,'DejaVu Sans Mono',consolas,'Courier New',monospace\">Market Return : -0.68%   |   Portfolio Return : -1.14%   |   Position Changes : 195   |   Episode Length : 1330   |\n",
       "</pre>\n"
      ],
      "text/plain": [
       "Market Return : -0.68%   |   Portfolio Return : -1.14%   |   Position Changes : 195   |   Episode Length : 1330   |\n"
      ]
     },
     "metadata": {},
     "output_type": "display_data"
    },
    {
     "data": {
      "text/html": [
       "<pre style=\"white-space:pre;overflow-x:auto;line-height:normal;font-family:Menlo,'DejaVu Sans Mono',consolas,'Courier New',monospace\">Market Return : -0.12%   |   Portfolio Return : -4.20%   |   Position Changes : 175   |   Episode Length : 1330   |\n",
       "</pre>\n"
      ],
      "text/plain": [
       "Market Return : -0.12%   |   Portfolio Return : -4.20%   |   Position Changes : 175   |   Episode Length : 1330   |\n"
      ]
     },
     "metadata": {},
     "output_type": "display_data"
    },
    {
     "data": {
      "text/html": [
       "<pre style=\"white-space:pre;overflow-x:auto;line-height:normal;font-family:Menlo,'DejaVu Sans Mono',consolas,'Courier New',monospace\">Market Return :  0.33%   |   Portfolio Return : -2.79%   |   Position Changes : 218   |   Episode Length : 1330   |\n",
       "</pre>\n"
      ],
      "text/plain": [
       "Market Return :  0.33%   |   Portfolio Return : -2.79%   |   Position Changes : 218   |   Episode Length : 1330   |\n"
      ]
     },
     "metadata": {},
     "output_type": "display_data"
    },
    {
     "data": {
      "text/html": [
       "<pre style=\"white-space:pre;overflow-x:auto;line-height:normal;font-family:Menlo,'DejaVu Sans Mono',consolas,'Courier New',monospace\">Market Return :  7.49%   |   Portfolio Return : -6.13%   |   Position Changes : 328   |   Episode Length : 1330   |\n",
       "</pre>\n"
      ],
      "text/plain": [
       "Market Return :  7.49%   |   Portfolio Return : -6.13%   |   Position Changes : 328   |   Episode Length : 1330   |\n"
      ]
     },
     "metadata": {},
     "output_type": "display_data"
    },
    {
     "data": {
      "text/html": [
       "<pre style=\"white-space:pre;overflow-x:auto;line-height:normal;font-family:Menlo,'DejaVu Sans Mono',consolas,'Courier New',monospace\">Market Return :  0.20%   |   Portfolio Return : -2.97%   |   Position Changes : 179   |   Episode Length : 1330   |\n",
       "</pre>\n"
      ],
      "text/plain": [
       "Market Return :  0.20%   |   Portfolio Return : -2.97%   |   Position Changes : 179   |   Episode Length : 1330   |\n"
      ]
     },
     "metadata": {},
     "output_type": "display_data"
    },
    {
     "data": {
      "text/html": [
       "<pre style=\"white-space:pre;overflow-x:auto;line-height:normal;font-family:Menlo,'DejaVu Sans Mono',consolas,'Courier New',monospace\">Market Return :  1.39%   |   Portfolio Return : -1.28%   |   Position Changes : 188   |   Episode Length : 1330   |\n",
       "</pre>\n"
      ],
      "text/plain": [
       "Market Return :  1.39%   |   Portfolio Return : -1.28%   |   Position Changes : 188   |   Episode Length : 1330   |\n"
      ]
     },
     "metadata": {},
     "output_type": "display_data"
    },
    {
     "data": {
      "text/html": [
       "<pre style=\"white-space:pre;overflow-x:auto;line-height:normal;font-family:Menlo,'DejaVu Sans Mono',consolas,'Courier New',monospace\">Market Return :  0.25%   |   Portfolio Return : -0.41%   |   Position Changes : 282   |   Episode Length : 1330   |\n",
       "</pre>\n"
      ],
      "text/plain": [
       "Market Return :  0.25%   |   Portfolio Return : -0.41%   |   Position Changes : 282   |   Episode Length : 1330   |\n"
      ]
     },
     "metadata": {},
     "output_type": "display_data"
    },
    {
     "data": {
      "text/html": [
       "<pre style=\"white-space:pre;overflow-x:auto;line-height:normal;font-family:Menlo,'DejaVu Sans Mono',consolas,'Courier New',monospace\">Market Return :  0.78%   |   Portfolio Return : -5.61%   |   Position Changes : 208   |   Episode Length : 1330   |\n",
       "</pre>\n"
      ],
      "text/plain": [
       "Market Return :  0.78%   |   Portfolio Return : -5.61%   |   Position Changes : 208   |   Episode Length : 1330   |\n"
      ]
     },
     "metadata": {},
     "output_type": "display_data"
    },
    {
     "data": {
      "text/html": [
       "<pre style=\"white-space:pre;overflow-x:auto;line-height:normal;font-family:Menlo,'DejaVu Sans Mono',consolas,'Courier New',monospace\">Market Return :  0.56%   |   Portfolio Return : -6.34%   |   Position Changes : 216   |   Episode Length : 1330   |\n",
       "</pre>\n"
      ],
      "text/plain": [
       "Market Return :  0.56%   |   Portfolio Return : -6.34%   |   Position Changes : 216   |   Episode Length : 1330   |\n"
      ]
     },
     "metadata": {},
     "output_type": "display_data"
    },
    {
     "data": {
      "text/html": [
       "<pre style=\"white-space:pre;overflow-x:auto;line-height:normal;font-family:Menlo,'DejaVu Sans Mono',consolas,'Courier New',monospace\">Market Return : -0.21%   |   Portfolio Return : -4.18%   |   Position Changes : 251   |   Episode Length : 1330   |\n",
       "</pre>\n"
      ],
      "text/plain": [
       "Market Return : -0.21%   |   Portfolio Return : -4.18%   |   Position Changes : 251   |   Episode Length : 1330   |\n"
      ]
     },
     "metadata": {},
     "output_type": "display_data"
    },
    {
     "data": {
      "text/html": [
       "<pre style=\"white-space:pre;overflow-x:auto;line-height:normal;font-family:Menlo,'DejaVu Sans Mono',consolas,'Courier New',monospace\">Market Return :  7.28%   |   Portfolio Return :  0.11%   |   Position Changes : 243   |   Episode Length : 1330   |\n",
       "</pre>\n"
      ],
      "text/plain": [
       "Market Return :  7.28%   |   Portfolio Return :  0.11%   |   Position Changes : 243   |   Episode Length : 1330   |\n"
      ]
     },
     "metadata": {},
     "output_type": "display_data"
    },
    {
     "data": {
      "text/html": [
       "<pre style=\"white-space:pre;overflow-x:auto;line-height:normal;font-family:Menlo,'DejaVu Sans Mono',consolas,'Courier New',monospace\">Market Return : 10.77%   |   Portfolio Return :  1.72%   |   Position Changes : 261   |   Episode Length : 1330   |\n",
       "</pre>\n"
      ],
      "text/plain": [
       "Market Return : 10.77%   |   Portfolio Return :  1.72%   |   Position Changes : 261   |   Episode Length : 1330   |\n"
      ]
     },
     "metadata": {},
     "output_type": "display_data"
    },
    {
     "data": {
      "text/html": [
       "<pre style=\"white-space:pre;overflow-x:auto;line-height:normal;font-family:Menlo,'DejaVu Sans Mono',consolas,'Courier New',monospace\">Market Return : -2.40%   |   Portfolio Return : -4.41%   |   Position Changes : 259   |   Episode Length : 1330   |\n",
       "</pre>\n"
      ],
      "text/plain": [
       "Market Return : -2.40%   |   Portfolio Return : -4.41%   |   Position Changes : 259   |   Episode Length : 1330   |\n"
      ]
     },
     "metadata": {},
     "output_type": "display_data"
    },
    {
     "data": {
      "text/html": [
       "<pre style=\"white-space:pre;overflow-x:auto;line-height:normal;font-family:Menlo,'DejaVu Sans Mono',consolas,'Courier New',monospace\">Market Return :  0.14%   |   Portfolio Return : -1.92%   |   Position Changes : 244   |   Episode Length : 1269   |\n",
       "</pre>\n"
      ],
      "text/plain": [
       "Market Return :  0.14%   |   Portfolio Return : -1.92%   |   Position Changes : 244   |   Episode Length : 1269   |\n"
      ]
     },
     "metadata": {},
     "output_type": "display_data"
    },
    {
     "data": {
      "text/html": [
       "<pre style=\"white-space:pre;overflow-x:auto;line-height:normal;font-family:Menlo,'DejaVu Sans Mono',consolas,'Courier New',monospace\">Market Return : -1.12%   |   Portfolio Return : -3.13%   |   Position Changes : 250   |   Episode Length : 1330   |\n",
       "</pre>\n"
      ],
      "text/plain": [
       "Market Return : -1.12%   |   Portfolio Return : -3.13%   |   Position Changes : 250   |   Episode Length : 1330   |\n"
      ]
     },
     "metadata": {},
     "output_type": "display_data"
    },
    {
     "data": {
      "text/html": [
       "<pre style=\"white-space:pre;overflow-x:auto;line-height:normal;font-family:Menlo,'DejaVu Sans Mono',consolas,'Courier New',monospace\">Market Return :  0.18%   |   Portfolio Return : -5.96%   |   Position Changes : 257   |   Episode Length : 1330   |\n",
       "</pre>\n"
      ],
      "text/plain": [
       "Market Return :  0.18%   |   Portfolio Return : -5.96%   |   Position Changes : 257   |   Episode Length : 1330   |\n"
      ]
     },
     "metadata": {},
     "output_type": "display_data"
    },
    {
     "data": {
      "text/html": [
       "<pre style=\"white-space:pre;overflow-x:auto;line-height:normal;font-family:Menlo,'DejaVu Sans Mono',consolas,'Courier New',monospace\">Market Return :  1.74%   |   Portfolio Return : -0.33%   |   Position Changes : 190   |   Episode Length : 1330   |\n",
       "</pre>\n"
      ],
      "text/plain": [
       "Market Return :  1.74%   |   Portfolio Return : -0.33%   |   Position Changes : 190   |   Episode Length : 1330   |\n"
      ]
     },
     "metadata": {},
     "output_type": "display_data"
    },
    {
     "data": {
      "text/html": [
       "<pre style=\"white-space:pre;overflow-x:auto;line-height:normal;font-family:Menlo,'DejaVu Sans Mono',consolas,'Courier New',monospace\">Market Return :  1.23%   |   Portfolio Return : -4.47%   |   Position Changes : 296   |   Episode Length : 1330   |\n",
       "</pre>\n"
      ],
      "text/plain": [
       "Market Return :  1.23%   |   Portfolio Return : -4.47%   |   Position Changes : 296   |   Episode Length : 1330   |\n"
      ]
     },
     "metadata": {},
     "output_type": "display_data"
    },
    {
     "data": {
      "text/html": [
       "<pre style=\"white-space:pre;overflow-x:auto;line-height:normal;font-family:Menlo,'DejaVu Sans Mono',consolas,'Courier New',monospace\">Market Return :  0.10%   |   Portfolio Return : -5.80%   |   Position Changes : 219   |   Episode Length : 1330   |\n",
       "</pre>\n"
      ],
      "text/plain": [
       "Market Return :  0.10%   |   Portfolio Return : -5.80%   |   Position Changes : 219   |   Episode Length : 1330   |\n"
      ]
     },
     "metadata": {},
     "output_type": "display_data"
    },
    {
     "data": {
      "text/html": [
       "<pre style=\"white-space:pre;overflow-x:auto;line-height:normal;font-family:Menlo,'DejaVu Sans Mono',consolas,'Courier New',monospace\">Market Return : -2.69%   |   Portfolio Return : -2.40%   |   Position Changes : 258   |   Episode Length : 1330   |\n",
       "</pre>\n"
      ],
      "text/plain": [
       "Market Return : -2.69%   |   Portfolio Return : -2.40%   |   Position Changes : 258   |   Episode Length : 1330   |\n"
      ]
     },
     "metadata": {},
     "output_type": "display_data"
    },
    {
     "data": {
      "text/html": [
       "<pre style=\"white-space:pre;overflow-x:auto;line-height:normal;font-family:Menlo,'DejaVu Sans Mono',consolas,'Courier New',monospace\">Market Return :  5.51%   |   Portfolio Return : -8.13%   |   Position Changes : 258   |   Episode Length : 1330   |\n",
       "</pre>\n"
      ],
      "text/plain": [
       "Market Return :  5.51%   |   Portfolio Return : -8.13%   |   Position Changes : 258   |   Episode Length : 1330   |\n"
      ]
     },
     "metadata": {},
     "output_type": "display_data"
    },
    {
     "data": {
      "text/html": [
       "<pre style=\"white-space:pre;overflow-x:auto;line-height:normal;font-family:Menlo,'DejaVu Sans Mono',consolas,'Courier New',monospace\">Market Return : -3.60%   |   Portfolio Return : -4.52%   |   Position Changes : 256   |   Episode Length : 1330   |\n",
       "</pre>\n"
      ],
      "text/plain": [
       "Market Return : -3.60%   |   Portfolio Return : -4.52%   |   Position Changes : 256   |   Episode Length : 1330   |\n"
      ]
     },
     "metadata": {},
     "output_type": "display_data"
    },
    {
     "data": {
      "text/html": [
       "<pre style=\"white-space:pre;overflow-x:auto;line-height:normal;font-family:Menlo,'DejaVu Sans Mono',consolas,'Courier New',monospace\">Market Return : -3.45%   |   Portfolio Return : -2.43%   |   Position Changes : 182   |   Episode Length : 1330   |\n",
       "</pre>\n"
      ],
      "text/plain": [
       "Market Return : -3.45%   |   Portfolio Return : -2.43%   |   Position Changes : 182   |   Episode Length : 1330   |\n"
      ]
     },
     "metadata": {},
     "output_type": "display_data"
    },
    {
     "data": {
      "text/html": [
       "<pre style=\"white-space:pre;overflow-x:auto;line-height:normal;font-family:Menlo,'DejaVu Sans Mono',consolas,'Courier New',monospace\">Market Return :  0.88%   |   Portfolio Return : -3.32%   |   Position Changes : 205   |   Episode Length : 1330   |\n",
       "</pre>\n"
      ],
      "text/plain": [
       "Market Return :  0.88%   |   Portfolio Return : -3.32%   |   Position Changes : 205   |   Episode Length : 1330   |\n"
      ]
     },
     "metadata": {},
     "output_type": "display_data"
    },
    {
     "data": {
      "text/html": [
       "<pre style=\"white-space:pre;overflow-x:auto;line-height:normal;font-family:Menlo,'DejaVu Sans Mono',consolas,'Courier New',monospace\">Market Return :  3.93%   |   Portfolio Return :  1.70%   |   Position Changes : 376   |   Episode Length : 1315   |\n",
       "</pre>\n"
      ],
      "text/plain": [
       "Market Return :  3.93%   |   Portfolio Return :  1.70%   |   Position Changes : 376   |   Episode Length : 1315   |\n"
      ]
     },
     "metadata": {},
     "output_type": "display_data"
    },
    {
     "data": {
      "text/html": [
       "<pre style=\"white-space:pre;overflow-x:auto;line-height:normal;font-family:Menlo,'DejaVu Sans Mono',consolas,'Courier New',monospace\">Market Return :  0.97%   |   Portfolio Return : -2.79%   |   Position Changes : 235   |   Episode Length : 1330   |\n",
       "</pre>\n"
      ],
      "text/plain": [
       "Market Return :  0.97%   |   Portfolio Return : -2.79%   |   Position Changes : 235   |   Episode Length : 1330   |\n"
      ]
     },
     "metadata": {},
     "output_type": "display_data"
    },
    {
     "data": {
      "text/html": [
       "<pre style=\"white-space:pre;overflow-x:auto;line-height:normal;font-family:Menlo,'DejaVu Sans Mono',consolas,'Courier New',monospace\">Market Return : -0.72%   |   Portfolio Return : -5.59%   |   Position Changes : 252   |   Episode Length : 1330   |\n",
       "</pre>\n"
      ],
      "text/plain": [
       "Market Return : -0.72%   |   Portfolio Return : -5.59%   |   Position Changes : 252   |   Episode Length : 1330   |\n"
      ]
     },
     "metadata": {},
     "output_type": "display_data"
    },
    {
     "data": {
      "text/html": [
       "<pre style=\"white-space:pre;overflow-x:auto;line-height:normal;font-family:Menlo,'DejaVu Sans Mono',consolas,'Courier New',monospace\">Market Return : -0.76%   |   Portfolio Return : -5.56%   |   Position Changes : 234   |   Episode Length : 1330   |\n",
       "</pre>\n"
      ],
      "text/plain": [
       "Market Return : -0.76%   |   Portfolio Return : -5.56%   |   Position Changes : 234   |   Episode Length : 1330   |\n"
      ]
     },
     "metadata": {},
     "output_type": "display_data"
    },
    {
     "data": {
      "text/html": [
       "<pre style=\"white-space:pre;overflow-x:auto;line-height:normal;font-family:Menlo,'DejaVu Sans Mono',consolas,'Courier New',monospace\">Market Return : -0.09%   |   Portfolio Return : -2.39%   |   Position Changes : 216   |   Episode Length : 1330   |\n",
       "</pre>\n"
      ],
      "text/plain": [
       "Market Return : -0.09%   |   Portfolio Return : -2.39%   |   Position Changes : 216   |   Episode Length : 1330   |\n"
      ]
     },
     "metadata": {},
     "output_type": "display_data"
    },
    {
     "data": {
      "text/html": [
       "<pre style=\"white-space:pre;overflow-x:auto;line-height:normal;font-family:Menlo,'DejaVu Sans Mono',consolas,'Courier New',monospace\">Market Return :  2.50%   |   Portfolio Return : -7.09%   |   Position Changes : 257   |   Episode Length : 1330   |\n",
       "</pre>\n"
      ],
      "text/plain": [
       "Market Return :  2.50%   |   Portfolio Return : -7.09%   |   Position Changes : 257   |   Episode Length : 1330   |\n"
      ]
     },
     "metadata": {},
     "output_type": "display_data"
    },
    {
     "data": {
      "text/html": [
       "<pre style=\"white-space:pre;overflow-x:auto;line-height:normal;font-family:Menlo,'DejaVu Sans Mono',consolas,'Courier New',monospace\">Market Return : -0.20%   |   Portfolio Return :  0.32%   |   Position Changes : 226   |   Episode Length : 1330   |\n",
       "</pre>\n"
      ],
      "text/plain": [
       "Market Return : -0.20%   |   Portfolio Return :  0.32%   |   Position Changes : 226   |   Episode Length : 1330   |\n"
      ]
     },
     "metadata": {},
     "output_type": "display_data"
    },
    {
     "data": {
      "text/html": [
       "<pre style=\"white-space:pre;overflow-x:auto;line-height:normal;font-family:Menlo,'DejaVu Sans Mono',consolas,'Courier New',monospace\">Market Return :  0.58%   |   Portfolio Return : -7.25%   |   Position Changes : 241   |   Episode Length : 1330   |\n",
       "</pre>\n"
      ],
      "text/plain": [
       "Market Return :  0.58%   |   Portfolio Return : -7.25%   |   Position Changes : 241   |   Episode Length : 1330   |\n"
      ]
     },
     "metadata": {},
     "output_type": "display_data"
    },
    {
     "data": {
      "text/html": [
       "<pre style=\"white-space:pre;overflow-x:auto;line-height:normal;font-family:Menlo,'DejaVu Sans Mono',consolas,'Courier New',monospace\">Market Return :  1.25%   |   Portfolio Return : -8.22%   |   Position Changes : 282   |   Episode Length : 1330   |\n",
       "</pre>\n"
      ],
      "text/plain": [
       "Market Return :  1.25%   |   Portfolio Return : -8.22%   |   Position Changes : 282   |   Episode Length : 1330   |\n"
      ]
     },
     "metadata": {},
     "output_type": "display_data"
    },
    {
     "data": {
      "text/html": [
       "<pre style=\"white-space:pre;overflow-x:auto;line-height:normal;font-family:Menlo,'DejaVu Sans Mono',consolas,'Courier New',monospace\">Market Return :  3.23%   |   Portfolio Return : -2.29%   |   Position Changes : 236   |   Episode Length : 1330   |\n",
       "</pre>\n"
      ],
      "text/plain": [
       "Market Return :  3.23%   |   Portfolio Return : -2.29%   |   Position Changes : 236   |   Episode Length : 1330   |\n"
      ]
     },
     "metadata": {},
     "output_type": "display_data"
    },
    {
     "data": {
      "text/html": [
       "<pre style=\"white-space:pre;overflow-x:auto;line-height:normal;font-family:Menlo,'DejaVu Sans Mono',consolas,'Courier New',monospace\">Market Return : -3.44%   |   Portfolio Return : -4.44%   |   Position Changes : 280   |   Episode Length : 1330   |\n",
       "</pre>\n"
      ],
      "text/plain": [
       "Market Return : -3.44%   |   Portfolio Return : -4.44%   |   Position Changes : 280   |   Episode Length : 1330   |\n"
      ]
     },
     "metadata": {},
     "output_type": "display_data"
    },
    {
     "data": {
      "text/html": [
       "<pre style=\"white-space:pre;overflow-x:auto;line-height:normal;font-family:Menlo,'DejaVu Sans Mono',consolas,'Courier New',monospace\">Market Return :  0.78%   |   Portfolio Return : -3.22%   |   Position Changes : 233   |   Episode Length : 1330   |\n",
       "</pre>\n"
      ],
      "text/plain": [
       "Market Return :  0.78%   |   Portfolio Return : -3.22%   |   Position Changes : 233   |   Episode Length : 1330   |\n"
      ]
     },
     "metadata": {},
     "output_type": "display_data"
    },
    {
     "data": {
      "text/html": [
       "<pre style=\"white-space:pre;overflow-x:auto;line-height:normal;font-family:Menlo,'DejaVu Sans Mono',consolas,'Courier New',monospace\">Market Return :  0.90%   |   Portfolio Return : -4.54%   |   Position Changes : 234   |   Episode Length : 1330   |\n",
       "</pre>\n"
      ],
      "text/plain": [
       "Market Return :  0.90%   |   Portfolio Return : -4.54%   |   Position Changes : 234   |   Episode Length : 1330   |\n"
      ]
     },
     "metadata": {},
     "output_type": "display_data"
    },
    {
     "data": {
      "text/html": [
       "<pre style=\"white-space:pre;overflow-x:auto;line-height:normal;font-family:Menlo,'DejaVu Sans Mono',consolas,'Courier New',monospace\">Market Return :  0.33%   |   Portfolio Return : -3.03%   |   Position Changes : 272   |   Episode Length : 1330   |\n",
       "</pre>\n"
      ],
      "text/plain": [
       "Market Return :  0.33%   |   Portfolio Return : -3.03%   |   Position Changes : 272   |   Episode Length : 1330   |\n"
      ]
     },
     "metadata": {},
     "output_type": "display_data"
    },
    {
     "data": {
      "text/html": [
       "<pre style=\"white-space:pre;overflow-x:auto;line-height:normal;font-family:Menlo,'DejaVu Sans Mono',consolas,'Courier New',monospace\">Market Return :  1.16%   |   Portfolio Return : -1.51%   |   Position Changes : 233   |   Episode Length : 1330   |\n",
       "</pre>\n"
      ],
      "text/plain": [
       "Market Return :  1.16%   |   Portfolio Return : -1.51%   |   Position Changes : 233   |   Episode Length : 1330   |\n"
      ]
     },
     "metadata": {},
     "output_type": "display_data"
    },
    {
     "data": {
      "text/html": [
       "<pre style=\"white-space:pre;overflow-x:auto;line-height:normal;font-family:Menlo,'DejaVu Sans Mono',consolas,'Courier New',monospace\">Market Return :  3.18%   |   Portfolio Return : -6.61%   |   Position Changes : 288   |   Episode Length : 1330   |\n",
       "</pre>\n"
      ],
      "text/plain": [
       "Market Return :  3.18%   |   Portfolio Return : -6.61%   |   Position Changes : 288   |   Episode Length : 1330   |\n"
      ]
     },
     "metadata": {},
     "output_type": "display_data"
    },
    {
     "data": {
      "text/html": [
       "<pre style=\"white-space:pre;overflow-x:auto;line-height:normal;font-family:Menlo,'DejaVu Sans Mono',consolas,'Courier New',monospace\">Market Return : -2.05%   |   Portfolio Return : -4.51%   |   Position Changes : 272   |   Episode Length : 1330   |\n",
       "</pre>\n"
      ],
      "text/plain": [
       "Market Return : -2.05%   |   Portfolio Return : -4.51%   |   Position Changes : 272   |   Episode Length : 1330   |\n"
      ]
     },
     "metadata": {},
     "output_type": "display_data"
    },
    {
     "data": {
      "text/html": [
       "<pre style=\"white-space:pre;overflow-x:auto;line-height:normal;font-family:Menlo,'DejaVu Sans Mono',consolas,'Courier New',monospace\">Market Return :  3.26%   |   Portfolio Return : -1.45%   |   Position Changes : 249   |   Episode Length : 1330   |\n",
       "</pre>\n"
      ],
      "text/plain": [
       "Market Return :  3.26%   |   Portfolio Return : -1.45%   |   Position Changes : 249   |   Episode Length : 1330   |\n"
      ]
     },
     "metadata": {},
     "output_type": "display_data"
    },
    {
     "data": {
      "text/html": [
       "<pre style=\"white-space:pre;overflow-x:auto;line-height:normal;font-family:Menlo,'DejaVu Sans Mono',consolas,'Courier New',monospace\">Market Return :  0.55%   |   Portfolio Return : -3.95%   |   Position Changes : 239   |   Episode Length : 1330   |\n",
       "</pre>\n"
      ],
      "text/plain": [
       "Market Return :  0.55%   |   Portfolio Return : -3.95%   |   Position Changes : 239   |   Episode Length : 1330   |\n"
      ]
     },
     "metadata": {},
     "output_type": "display_data"
    },
    {
     "data": {
      "text/html": [
       "<pre style=\"white-space:pre;overflow-x:auto;line-height:normal;font-family:Menlo,'DejaVu Sans Mono',consolas,'Courier New',monospace\">Market Return : -4.04%   |   Portfolio Return : -3.02%   |   Position Changes : 364   |   Episode Length : 1330   |\n",
       "</pre>\n"
      ],
      "text/plain": [
       "Market Return : -4.04%   |   Portfolio Return : -3.02%   |   Position Changes : 364   |   Episode Length : 1330   |\n"
      ]
     },
     "metadata": {},
     "output_type": "display_data"
    },
    {
     "data": {
      "text/html": [
       "<pre style=\"white-space:pre;overflow-x:auto;line-height:normal;font-family:Menlo,'DejaVu Sans Mono',consolas,'Courier New',monospace\">Market Return :  0.24%   |   Portfolio Return : -3.23%   |   Position Changes : 214   |   Episode Length : 1330   |\n",
       "</pre>\n"
      ],
      "text/plain": [
       "Market Return :  0.24%   |   Portfolio Return : -3.23%   |   Position Changes : 214   |   Episode Length : 1330   |\n"
      ]
     },
     "metadata": {},
     "output_type": "display_data"
    },
    {
     "data": {
      "text/html": [
       "<pre style=\"white-space:pre;overflow-x:auto;line-height:normal;font-family:Menlo,'DejaVu Sans Mono',consolas,'Courier New',monospace\">Market Return :  3.21%   |   Portfolio Return : -1.72%   |   Position Changes : 230   |   Episode Length : 1330   |\n",
       "</pre>\n"
      ],
      "text/plain": [
       "Market Return :  3.21%   |   Portfolio Return : -1.72%   |   Position Changes : 230   |   Episode Length : 1330   |\n"
      ]
     },
     "metadata": {},
     "output_type": "display_data"
    },
    {
     "data": {
      "text/html": [
       "<pre style=\"white-space:pre;overflow-x:auto;line-height:normal;font-family:Menlo,'DejaVu Sans Mono',consolas,'Courier New',monospace\">Market Return :  3.53%   |   Portfolio Return : -2.84%   |   Position Changes : 272   |   Episode Length : 1330   |\n",
       "</pre>\n"
      ],
      "text/plain": [
       "Market Return :  3.53%   |   Portfolio Return : -2.84%   |   Position Changes : 272   |   Episode Length : 1330   |\n"
      ]
     },
     "metadata": {},
     "output_type": "display_data"
    },
    {
     "data": {
      "text/html": [
       "<pre style=\"white-space:pre;overflow-x:auto;line-height:normal;font-family:Menlo,'DejaVu Sans Mono',consolas,'Courier New',monospace\">Market Return :  1.64%   |   Portfolio Return : -2.27%   |   Position Changes : 197   |   Episode Length : 1330   |\n",
       "</pre>\n"
      ],
      "text/plain": [
       "Market Return :  1.64%   |   Portfolio Return : -2.27%   |   Position Changes : 197   |   Episode Length : 1330   |\n"
      ]
     },
     "metadata": {},
     "output_type": "display_data"
    },
    {
     "data": {
      "text/html": [
       "<pre style=\"white-space:pre;overflow-x:auto;line-height:normal;font-family:Menlo,'DejaVu Sans Mono',consolas,'Courier New',monospace\">Market Return :  1.39%   |   Portfolio Return : -2.43%   |   Position Changes : 231   |   Episode Length : 1330   |\n",
       "</pre>\n"
      ],
      "text/plain": [
       "Market Return :  1.39%   |   Portfolio Return : -2.43%   |   Position Changes : 231   |   Episode Length : 1330   |\n"
      ]
     },
     "metadata": {},
     "output_type": "display_data"
    },
    {
     "data": {
      "text/html": [
       "<pre style=\"white-space:pre;overflow-x:auto;line-height:normal;font-family:Menlo,'DejaVu Sans Mono',consolas,'Courier New',monospace\">Market Return : -0.74%   |   Portfolio Return :  0.59%   |   Position Changes : 240   |   Episode Length : 1330   |\n",
       "</pre>\n"
      ],
      "text/plain": [
       "Market Return : -0.74%   |   Portfolio Return :  0.59%   |   Position Changes : 240   |   Episode Length : 1330   |\n"
      ]
     },
     "metadata": {},
     "output_type": "display_data"
    },
    {
     "data": {
      "text/html": [
       "<pre style=\"white-space:pre;overflow-x:auto;line-height:normal;font-family:Menlo,'DejaVu Sans Mono',consolas,'Courier New',monospace\">Market Return : -4.15%   |   Portfolio Return : -6.00%   |   Position Changes : 437   |   Episode Length : 1330   |\n",
       "</pre>\n"
      ],
      "text/plain": [
       "Market Return : -4.15%   |   Portfolio Return : -6.00%   |   Position Changes : 437   |   Episode Length : 1330   |\n"
      ]
     },
     "metadata": {},
     "output_type": "display_data"
    },
    {
     "data": {
      "text/html": [
       "<pre style=\"white-space:pre;overflow-x:auto;line-height:normal;font-family:Menlo,'DejaVu Sans Mono',consolas,'Courier New',monospace\">Market Return : -0.72%   |   Portfolio Return : -2.85%   |   Position Changes : 240   |   Episode Length : 1330   |\n",
       "</pre>\n"
      ],
      "text/plain": [
       "Market Return : -0.72%   |   Portfolio Return : -2.85%   |   Position Changes : 240   |   Episode Length : 1330   |\n"
      ]
     },
     "metadata": {},
     "output_type": "display_data"
    },
    {
     "data": {
      "text/html": [
       "<pre style=\"white-space:pre;overflow-x:auto;line-height:normal;font-family:Menlo,'DejaVu Sans Mono',consolas,'Courier New',monospace\">Market Return : -1.50%   |   Portfolio Return : -5.65%   |   Position Changes : 232   |   Episode Length : 1330   |\n",
       "</pre>\n"
      ],
      "text/plain": [
       "Market Return : -1.50%   |   Portfolio Return : -5.65%   |   Position Changes : 232   |   Episode Length : 1330   |\n"
      ]
     },
     "metadata": {},
     "output_type": "display_data"
    },
    {
     "data": {
      "text/html": [
       "<pre style=\"white-space:pre;overflow-x:auto;line-height:normal;font-family:Menlo,'DejaVu Sans Mono',consolas,'Courier New',monospace\">Market Return : -3.52%   |   Portfolio Return : -4.07%   |   Position Changes : 236   |   Episode Length : 1330   |\n",
       "</pre>\n"
      ],
      "text/plain": [
       "Market Return : -3.52%   |   Portfolio Return : -4.07%   |   Position Changes : 236   |   Episode Length : 1330   |\n"
      ]
     },
     "metadata": {},
     "output_type": "display_data"
    },
    {
     "data": {
      "text/html": [
       "<pre style=\"white-space:pre;overflow-x:auto;line-height:normal;font-family:Menlo,'DejaVu Sans Mono',consolas,'Courier New',monospace\">Market Return : -2.80%   |   Portfolio Return : -2.55%   |   Position Changes : 553   |   Episode Length : 1330   |\n",
       "</pre>\n"
      ],
      "text/plain": [
       "Market Return : -2.80%   |   Portfolio Return : -2.55%   |   Position Changes : 553   |   Episode Length : 1330   |\n"
      ]
     },
     "metadata": {},
     "output_type": "display_data"
    },
    {
     "data": {
      "text/html": [
       "<pre style=\"white-space:pre;overflow-x:auto;line-height:normal;font-family:Menlo,'DejaVu Sans Mono',consolas,'Courier New',monospace\">Market Return : -0.89%   |   Portfolio Return : -5.43%   |   Position Changes : 243   |   Episode Length : 1330   |\n",
       "</pre>\n"
      ],
      "text/plain": [
       "Market Return : -0.89%   |   Portfolio Return : -5.43%   |   Position Changes : 243   |   Episode Length : 1330   |\n"
      ]
     },
     "metadata": {},
     "output_type": "display_data"
    },
    {
     "data": {
      "text/html": [
       "<pre style=\"white-space:pre;overflow-x:auto;line-height:normal;font-family:Menlo,'DejaVu Sans Mono',consolas,'Courier New',monospace\">Market Return : -0.89%   |   Portfolio Return : -8.78%   |   Position Changes : 268   |   Episode Length : 1330   |\n",
       "</pre>\n"
      ],
      "text/plain": [
       "Market Return : -0.89%   |   Portfolio Return : -8.78%   |   Position Changes : 268   |   Episode Length : 1330   |\n"
      ]
     },
     "metadata": {},
     "output_type": "display_data"
    },
    {
     "data": {
      "text/html": [
       "<pre style=\"white-space:pre;overflow-x:auto;line-height:normal;font-family:Menlo,'DejaVu Sans Mono',consolas,'Courier New',monospace\">Market Return : -3.45%   |   Portfolio Return : -0.04%   |   Position Changes : 209   |   Episode Length : 1330   |\n",
       "</pre>\n"
      ],
      "text/plain": [
       "Market Return : -3.45%   |   Portfolio Return : -0.04%   |   Position Changes : 209   |   Episode Length : 1330   |\n"
      ]
     },
     "metadata": {},
     "output_type": "display_data"
    },
    {
     "data": {
      "text/html": [
       "<pre style=\"white-space:pre;overflow-x:auto;line-height:normal;font-family:Menlo,'DejaVu Sans Mono',consolas,'Courier New',monospace\">Market Return : -0.53%   |   Portfolio Return : -3.85%   |   Position Changes : 194   |   Episode Length : 1330   |\n",
       "</pre>\n"
      ],
      "text/plain": [
       "Market Return : -0.53%   |   Portfolio Return : -3.85%   |   Position Changes : 194   |   Episode Length : 1330   |\n"
      ]
     },
     "metadata": {},
     "output_type": "display_data"
    },
    {
     "data": {
      "text/html": [
       "<pre style=\"white-space:pre;overflow-x:auto;line-height:normal;font-family:Menlo,'DejaVu Sans Mono',consolas,'Courier New',monospace\">Market Return : -2.81%   |   Portfolio Return : -7.20%   |   Position Changes : 236   |   Episode Length : 1330   |\n",
       "</pre>\n"
      ],
      "text/plain": [
       "Market Return : -2.81%   |   Portfolio Return : -7.20%   |   Position Changes : 236   |   Episode Length : 1330   |\n"
      ]
     },
     "metadata": {},
     "output_type": "display_data"
    },
    {
     "data": {
      "text/html": [
       "<pre style=\"white-space:pre;overflow-x:auto;line-height:normal;font-family:Menlo,'DejaVu Sans Mono',consolas,'Courier New',monospace\">Market Return : -0.97%   |   Portfolio Return : -4.22%   |   Position Changes : 203   |   Episode Length : 1330   |\n",
       "</pre>\n"
      ],
      "text/plain": [
       "Market Return : -0.97%   |   Portfolio Return : -4.22%   |   Position Changes : 203   |   Episode Length : 1330   |\n"
      ]
     },
     "metadata": {},
     "output_type": "display_data"
    },
    {
     "data": {
      "text/html": [
       "<pre style=\"white-space:pre;overflow-x:auto;line-height:normal;font-family:Menlo,'DejaVu Sans Mono',consolas,'Courier New',monospace\">Market Return : -1.97%   |   Portfolio Return : -6.26%   |   Position Changes : 265   |   Episode Length : 1330   |\n",
       "</pre>\n"
      ],
      "text/plain": [
       "Market Return : -1.97%   |   Portfolio Return : -6.26%   |   Position Changes : 265   |   Episode Length : 1330   |\n"
      ]
     },
     "metadata": {},
     "output_type": "display_data"
    },
    {
     "data": {
      "text/html": [
       "<pre style=\"white-space:pre;overflow-x:auto;line-height:normal;font-family:Menlo,'DejaVu Sans Mono',consolas,'Courier New',monospace\">Market Return : -0.12%   |   Portfolio Return : -4.21%   |   Position Changes : 264   |   Episode Length : 1330   |\n",
       "</pre>\n"
      ],
      "text/plain": [
       "Market Return : -0.12%   |   Portfolio Return : -4.21%   |   Position Changes : 264   |   Episode Length : 1330   |\n"
      ]
     },
     "metadata": {},
     "output_type": "display_data"
    },
    {
     "data": {
      "text/html": [
       "<pre style=\"white-space:pre;overflow-x:auto;line-height:normal;font-family:Menlo,'DejaVu Sans Mono',consolas,'Courier New',monospace\">Market Return :  1.18%   |   Portfolio Return : -4.37%   |   Position Changes : 237   |   Episode Length : 1330   |\n",
       "</pre>\n"
      ],
      "text/plain": [
       "Market Return :  1.18%   |   Portfolio Return : -4.37%   |   Position Changes : 237   |   Episode Length : 1330   |\n"
      ]
     },
     "metadata": {},
     "output_type": "display_data"
    },
    {
     "data": {
      "text/html": [
       "<pre style=\"white-space:pre;overflow-x:auto;line-height:normal;font-family:Menlo,'DejaVu Sans Mono',consolas,'Courier New',monospace\">Market Return :  1.68%   |   Portfolio Return : -2.71%   |   Position Changes : 226   |   Episode Length : 1330   |\n",
       "</pre>\n"
      ],
      "text/plain": [
       "Market Return :  1.68%   |   Portfolio Return : -2.71%   |   Position Changes : 226   |   Episode Length : 1330   |\n"
      ]
     },
     "metadata": {},
     "output_type": "display_data"
    },
    {
     "data": {
      "text/html": [
       "<pre style=\"white-space:pre;overflow-x:auto;line-height:normal;font-family:Menlo,'DejaVu Sans Mono',consolas,'Courier New',monospace\">Market Return :  4.20%   |   Portfolio Return :  6.22%   |   Position Changes : 357   |   Episode Length : 1330   |\n",
       "</pre>\n"
      ],
      "text/plain": [
       "Market Return :  4.20%   |   Portfolio Return :  6.22%   |   Position Changes : 357   |   Episode Length : 1330   |\n"
      ]
     },
     "metadata": {},
     "output_type": "display_data"
    },
    {
     "data": {
      "text/html": [
       "<pre style=\"white-space:pre;overflow-x:auto;line-height:normal;font-family:Menlo,'DejaVu Sans Mono',consolas,'Courier New',monospace\">Market Return :  0.65%   |   Portfolio Return : -5.56%   |   Position Changes : 273   |   Episode Length : 1330   |\n",
       "</pre>\n"
      ],
      "text/plain": [
       "Market Return :  0.65%   |   Portfolio Return : -5.56%   |   Position Changes : 273   |   Episode Length : 1330   |\n"
      ]
     },
     "metadata": {},
     "output_type": "display_data"
    },
    {
     "data": {
      "text/html": [
       "<pre style=\"white-space:pre;overflow-x:auto;line-height:normal;font-family:Menlo,'DejaVu Sans Mono',consolas,'Courier New',monospace\">Market Return :  2.24%   |   Portfolio Return : -2.74%   |   Position Changes : 192   |   Episode Length : 1330   |\n",
       "</pre>\n"
      ],
      "text/plain": [
       "Market Return :  2.24%   |   Portfolio Return : -2.74%   |   Position Changes : 192   |   Episode Length : 1330   |\n"
      ]
     },
     "metadata": {},
     "output_type": "display_data"
    },
    {
     "data": {
      "text/html": [
       "<pre style=\"white-space:pre;overflow-x:auto;line-height:normal;font-family:Menlo,'DejaVu Sans Mono',consolas,'Courier New',monospace\">Market Return :  0.14%   |   Portfolio Return : -5.14%   |   Position Changes : 191   |   Episode Length : 1269   |\n",
       "</pre>\n"
      ],
      "text/plain": [
       "Market Return :  0.14%   |   Portfolio Return : -5.14%   |   Position Changes : 191   |   Episode Length : 1269   |\n"
      ]
     },
     "metadata": {},
     "output_type": "display_data"
    },
    {
     "data": {
      "text/html": [
       "<pre style=\"white-space:pre;overflow-x:auto;line-height:normal;font-family:Menlo,'DejaVu Sans Mono',consolas,'Courier New',monospace\">Market Return : -0.94%   |   Portfolio Return : -6.64%   |   Position Changes : 231   |   Episode Length : 1330   |\n",
       "</pre>\n"
      ],
      "text/plain": [
       "Market Return : -0.94%   |   Portfolio Return : -6.64%   |   Position Changes : 231   |   Episode Length : 1330   |\n"
      ]
     },
     "metadata": {},
     "output_type": "display_data"
    },
    {
     "data": {
      "text/html": [
       "<pre style=\"white-space:pre;overflow-x:auto;line-height:normal;font-family:Menlo,'DejaVu Sans Mono',consolas,'Courier New',monospace\">Market Return :  2.71%   |   Portfolio Return : -2.70%   |   Position Changes : 211   |   Episode Length : 1330   |\n",
       "</pre>\n"
      ],
      "text/plain": [
       "Market Return :  2.71%   |   Portfolio Return : -2.70%   |   Position Changes : 211   |   Episode Length : 1330   |\n"
      ]
     },
     "metadata": {},
     "output_type": "display_data"
    },
    {
     "data": {
      "text/html": [
       "<pre style=\"white-space:pre;overflow-x:auto;line-height:normal;font-family:Menlo,'DejaVu Sans Mono',consolas,'Courier New',monospace\">Market Return : -1.94%   |   Portfolio Return :  3.26%   |   Position Changes : 359   |   Episode Length : 1330   |\n",
       "</pre>\n"
      ],
      "text/plain": [
       "Market Return : -1.94%   |   Portfolio Return :  3.26%   |   Position Changes : 359   |   Episode Length : 1330   |\n"
      ]
     },
     "metadata": {},
     "output_type": "display_data"
    },
    {
     "data": {
      "text/html": [
       "<pre style=\"white-space:pre;overflow-x:auto;line-height:normal;font-family:Menlo,'DejaVu Sans Mono',consolas,'Courier New',monospace\">Market Return :  2.82%   |   Portfolio Return :  1.06%   |   Position Changes : 227   |   Episode Length : 1330   |\n",
       "</pre>\n"
      ],
      "text/plain": [
       "Market Return :  2.82%   |   Portfolio Return :  1.06%   |   Position Changes : 227   |   Episode Length : 1330   |\n"
      ]
     },
     "metadata": {},
     "output_type": "display_data"
    },
    {
     "data": {
      "text/html": [
       "<pre style=\"white-space:pre;overflow-x:auto;line-height:normal;font-family:Menlo,'DejaVu Sans Mono',consolas,'Courier New',monospace\">Market Return :  1.88%   |   Portfolio Return : -3.49%   |   Position Changes : 216   |   Episode Length : 1330   |\n",
       "</pre>\n"
      ],
      "text/plain": [
       "Market Return :  1.88%   |   Portfolio Return : -3.49%   |   Position Changes : 216   |   Episode Length : 1330   |\n"
      ]
     },
     "metadata": {},
     "output_type": "display_data"
    },
    {
     "data": {
      "text/html": [
       "<pre style=\"white-space:pre;overflow-x:auto;line-height:normal;font-family:Menlo,'DejaVu Sans Mono',consolas,'Courier New',monospace\">Market Return : -2.77%   |   Portfolio Return : -4.83%   |   Position Changes : 234   |   Episode Length : 1330   |\n",
       "</pre>\n"
      ],
      "text/plain": [
       "Market Return : -2.77%   |   Portfolio Return : -4.83%   |   Position Changes : 234   |   Episode Length : 1330   |\n"
      ]
     },
     "metadata": {},
     "output_type": "display_data"
    },
    {
     "data": {
      "text/html": [
       "<pre style=\"white-space:pre;overflow-x:auto;line-height:normal;font-family:Menlo,'DejaVu Sans Mono',consolas,'Courier New',monospace\">Market Return : -2.40%   |   Portfolio Return : -6.20%   |   Position Changes : 245   |   Episode Length : 1330   |\n",
       "</pre>\n"
      ],
      "text/plain": [
       "Market Return : -2.40%   |   Portfolio Return : -6.20%   |   Position Changes : 245   |   Episode Length : 1330   |\n"
      ]
     },
     "metadata": {},
     "output_type": "display_data"
    },
    {
     "data": {
      "text/html": [
       "<pre style=\"white-space:pre;overflow-x:auto;line-height:normal;font-family:Menlo,'DejaVu Sans Mono',consolas,'Courier New',monospace\">Market Return : -6.10%   |   Portfolio Return : -10.62%   |   Position Changes : 237   |   Episode Length : 1330   \n",
       "|   \n",
       "</pre>\n"
      ],
      "text/plain": [
       "Market Return : -6.10%   |   Portfolio Return : -10.62%   |   Position Changes : 237   |   Episode Length : 1330   \n",
       "|   \n"
      ]
     },
     "metadata": {},
     "output_type": "display_data"
    },
    {
     "data": {
      "text/html": [
       "<pre style=\"white-space:pre;overflow-x:auto;line-height:normal;font-family:Menlo,'DejaVu Sans Mono',consolas,'Courier New',monospace\">Market Return : -3.85%   |   Portfolio Return : -2.65%   |   Position Changes : 205   |   Episode Length : 1330   |\n",
       "</pre>\n"
      ],
      "text/plain": [
       "Market Return : -3.85%   |   Portfolio Return : -2.65%   |   Position Changes : 205   |   Episode Length : 1330   |\n"
      ]
     },
     "metadata": {},
     "output_type": "display_data"
    },
    {
     "data": {
      "text/html": [
       "<pre style=\"white-space:pre;overflow-x:auto;line-height:normal;font-family:Menlo,'DejaVu Sans Mono',consolas,'Courier New',monospace\">Market Return : -0.48%   |   Portfolio Return : -6.90%   |   Position Changes : 263   |   Episode Length : 1330   |\n",
       "</pre>\n"
      ],
      "text/plain": [
       "Market Return : -0.48%   |   Portfolio Return : -6.90%   |   Position Changes : 263   |   Episode Length : 1330   |\n"
      ]
     },
     "metadata": {},
     "output_type": "display_data"
    },
    {
     "data": {
      "text/html": [
       "<pre style=\"white-space:pre;overflow-x:auto;line-height:normal;font-family:Menlo,'DejaVu Sans Mono',consolas,'Courier New',monospace\">Market Return : -2.75%   |   Portfolio Return : -9.82%   |   Position Changes : 343   |   Episode Length : 1330   |\n",
       "</pre>\n"
      ],
      "text/plain": [
       "Market Return : -2.75%   |   Portfolio Return : -9.82%   |   Position Changes : 343   |   Episode Length : 1330   |\n"
      ]
     },
     "metadata": {},
     "output_type": "display_data"
    },
    {
     "data": {
      "text/html": [
       "<pre style=\"white-space:pre;overflow-x:auto;line-height:normal;font-family:Menlo,'DejaVu Sans Mono',consolas,'Courier New',monospace\">Market Return :  1.66%   |   Portfolio Return : -4.77%   |   Position Changes : 242   |   Episode Length : 1330   |\n",
       "</pre>\n"
      ],
      "text/plain": [
       "Market Return :  1.66%   |   Portfolio Return : -4.77%   |   Position Changes : 242   |   Episode Length : 1330   |\n"
      ]
     },
     "metadata": {},
     "output_type": "display_data"
    },
    {
     "data": {
      "text/html": [
       "<pre style=\"white-space:pre;overflow-x:auto;line-height:normal;font-family:Menlo,'DejaVu Sans Mono',consolas,'Courier New',monospace\">Market Return : -8.95%   |   Portfolio Return : -1.43%   |   Position Changes : 202   |   Episode Length : 1330   |\n",
       "</pre>\n"
      ],
      "text/plain": [
       "Market Return : -8.95%   |   Portfolio Return : -1.43%   |   Position Changes : 202   |   Episode Length : 1330   |\n"
      ]
     },
     "metadata": {},
     "output_type": "display_data"
    },
    {
     "data": {
      "text/html": [
       "<pre style=\"white-space:pre;overflow-x:auto;line-height:normal;font-family:Menlo,'DejaVu Sans Mono',consolas,'Courier New',monospace\">Market Return : -5.84%   |   Portfolio Return : -7.26%   |   Position Changes : 201   |   Episode Length : 1330   |\n",
       "</pre>\n"
      ],
      "text/plain": [
       "Market Return : -5.84%   |   Portfolio Return : -7.26%   |   Position Changes : 201   |   Episode Length : 1330   |\n"
      ]
     },
     "metadata": {},
     "output_type": "display_data"
    },
    {
     "data": {
      "text/html": [
       "<pre style=\"white-space:pre;overflow-x:auto;line-height:normal;font-family:Menlo,'DejaVu Sans Mono',consolas,'Courier New',monospace\">Market Return :  1.13%   |   Portfolio Return : -4.01%   |   Position Changes : 137   |   Episode Length : 970   | \n",
       "</pre>\n"
      ],
      "text/plain": [
       "Market Return :  1.13%   |   Portfolio Return : -4.01%   |   Position Changes : 137   |   Episode Length : 970   | \n"
      ]
     },
     "metadata": {},
     "output_type": "display_data"
    },
    {
     "data": {
      "text/html": [
       "<pre style=\"white-space:pre;overflow-x:auto;line-height:normal;font-family:Menlo,'DejaVu Sans Mono',consolas,'Courier New',monospace\">Market Return : -3.61%   |   Portfolio Return : -8.72%   |   Position Changes : 401   |   Episode Length : 1330   |\n",
       "</pre>\n"
      ],
      "text/plain": [
       "Market Return : -3.61%   |   Portfolio Return : -8.72%   |   Position Changes : 401   |   Episode Length : 1330   |\n"
      ]
     },
     "metadata": {},
     "output_type": "display_data"
    },
    {
     "data": {
      "text/html": [
       "<pre style=\"white-space:pre;overflow-x:auto;line-height:normal;font-family:Menlo,'DejaVu Sans Mono',consolas,'Courier New',monospace\">Market Return :  6.49%   |   Portfolio Return : -3.89%   |   Position Changes : 326   |   Episode Length : 1330   |\n",
       "</pre>\n"
      ],
      "text/plain": [
       "Market Return :  6.49%   |   Portfolio Return : -3.89%   |   Position Changes : 326   |   Episode Length : 1330   |\n"
      ]
     },
     "metadata": {},
     "output_type": "display_data"
    },
    {
     "data": {
      "text/html": [
       "<pre style=\"white-space:pre;overflow-x:auto;line-height:normal;font-family:Menlo,'DejaVu Sans Mono',consolas,'Courier New',monospace\">Market Return :  3.80%   |   Portfolio Return : -18.96%   |   Position Changes : 309   |   Episode Length : 1330   \n",
       "|   \n",
       "</pre>\n"
      ],
      "text/plain": [
       "Market Return :  3.80%   |   Portfolio Return : -18.96%   |   Position Changes : 309   |   Episode Length : 1330   \n",
       "|   \n"
      ]
     },
     "metadata": {},
     "output_type": "display_data"
    },
    {
     "data": {
      "text/html": [
       "<pre style=\"white-space:pre;overflow-x:auto;line-height:normal;font-family:Menlo,'DejaVu Sans Mono',consolas,'Courier New',monospace\">Market Return : -0.32%   |   Portfolio Return : -0.73%   |   Position Changes : 161   |   Episode Length : 1330   |\n",
       "</pre>\n"
      ],
      "text/plain": [
       "Market Return : -0.32%   |   Portfolio Return : -0.73%   |   Position Changes : 161   |   Episode Length : 1330   |\n"
      ]
     },
     "metadata": {},
     "output_type": "display_data"
    },
    {
     "data": {
      "text/html": [
       "<pre style=\"white-space:pre;overflow-x:auto;line-height:normal;font-family:Menlo,'DejaVu Sans Mono',consolas,'Courier New',monospace\">Market Return :  3.21%   |   Portfolio Return : -0.39%   |   Position Changes : 226   |   Episode Length : 1330   |\n",
       "</pre>\n"
      ],
      "text/plain": [
       "Market Return :  3.21%   |   Portfolio Return : -0.39%   |   Position Changes : 226   |   Episode Length : 1330   |\n"
      ]
     },
     "metadata": {},
     "output_type": "display_data"
    },
    {
     "data": {
      "text/html": [
       "<pre style=\"white-space:pre;overflow-x:auto;line-height:normal;font-family:Menlo,'DejaVu Sans Mono',consolas,'Courier New',monospace\">Market Return :  2.39%   |   Portfolio Return : -2.81%   |   Position Changes : 238   |   Episode Length : 1330   |\n",
       "</pre>\n"
      ],
      "text/plain": [
       "Market Return :  2.39%   |   Portfolio Return : -2.81%   |   Position Changes : 238   |   Episode Length : 1330   |\n"
      ]
     },
     "metadata": {},
     "output_type": "display_data"
    },
    {
     "data": {
      "text/html": [
       "<pre style=\"white-space:pre;overflow-x:auto;line-height:normal;font-family:Menlo,'DejaVu Sans Mono',consolas,'Courier New',monospace\">Market Return : -0.56%   |   Portfolio Return : -2.79%   |   Position Changes : 291   |   Episode Length : 1330   |\n",
       "</pre>\n"
      ],
      "text/plain": [
       "Market Return : -0.56%   |   Portfolio Return : -2.79%   |   Position Changes : 291   |   Episode Length : 1330   |\n"
      ]
     },
     "metadata": {},
     "output_type": "display_data"
    },
    {
     "data": {
      "text/html": [
       "<pre style=\"white-space:pre;overflow-x:auto;line-height:normal;font-family:Menlo,'DejaVu Sans Mono',consolas,'Courier New',monospace\">Market Return : -6.67%   |   Portfolio Return :  2.79%   |   Position Changes : 271   |   Episode Length : 1330   |\n",
       "</pre>\n"
      ],
      "text/plain": [
       "Market Return : -6.67%   |   Portfolio Return :  2.79%   |   Position Changes : 271   |   Episode Length : 1330   |\n"
      ]
     },
     "metadata": {},
     "output_type": "display_data"
    },
    {
     "data": {
      "text/html": [
       "<pre style=\"white-space:pre;overflow-x:auto;line-height:normal;font-family:Menlo,'DejaVu Sans Mono',consolas,'Courier New',monospace\">Market Return : -1.03%   |   Portfolio Return : -4.39%   |   Position Changes : 343   |   Episode Length : 1330   |\n",
       "</pre>\n"
      ],
      "text/plain": [
       "Market Return : -1.03%   |   Portfolio Return : -4.39%   |   Position Changes : 343   |   Episode Length : 1330   |\n"
      ]
     },
     "metadata": {},
     "output_type": "display_data"
    },
    {
     "data": {
      "text/html": [
       "<pre style=\"white-space:pre;overflow-x:auto;line-height:normal;font-family:Menlo,'DejaVu Sans Mono',consolas,'Courier New',monospace\">Market Return : -2.69%   |   Portfolio Return : -4.60%   |   Position Changes : 249   |   Episode Length : 1330   |\n",
       "</pre>\n"
      ],
      "text/plain": [
       "Market Return : -2.69%   |   Portfolio Return : -4.60%   |   Position Changes : 249   |   Episode Length : 1330   |\n"
      ]
     },
     "metadata": {},
     "output_type": "display_data"
    },
    {
     "data": {
      "text/html": [
       "<pre style=\"white-space:pre;overflow-x:auto;line-height:normal;font-family:Menlo,'DejaVu Sans Mono',consolas,'Courier New',monospace\">Market Return :  0.58%   |   Portfolio Return : -2.21%   |   Position Changes : 156   |   Episode Length : 1330   |\n",
       "</pre>\n"
      ],
      "text/plain": [
       "Market Return :  0.58%   |   Portfolio Return : -2.21%   |   Position Changes : 156   |   Episode Length : 1330   |\n"
      ]
     },
     "metadata": {},
     "output_type": "display_data"
    },
    {
     "data": {
      "text/html": [
       "<pre style=\"white-space:pre;overflow-x:auto;line-height:normal;font-family:Menlo,'DejaVu Sans Mono',consolas,'Courier New',monospace\">Market Return : -0.61%   |   Portfolio Return : -2.52%   |   Position Changes : 231   |   Episode Length : 1330   |\n",
       "</pre>\n"
      ],
      "text/plain": [
       "Market Return : -0.61%   |   Portfolio Return : -2.52%   |   Position Changes : 231   |   Episode Length : 1330   |\n"
      ]
     },
     "metadata": {},
     "output_type": "display_data"
    },
    {
     "data": {
      "text/html": [
       "<pre style=\"white-space:pre;overflow-x:auto;line-height:normal;font-family:Menlo,'DejaVu Sans Mono',consolas,'Courier New',monospace\">Market Return :  2.15%   |   Portfolio Return : -5.49%   |   Position Changes : 225   |   Episode Length : 1330   |\n",
       "</pre>\n"
      ],
      "text/plain": [
       "Market Return :  2.15%   |   Portfolio Return : -5.49%   |   Position Changes : 225   |   Episode Length : 1330   |\n"
      ]
     },
     "metadata": {},
     "output_type": "display_data"
    },
    {
     "data": {
      "text/html": [
       "<pre style=\"white-space:pre;overflow-x:auto;line-height:normal;font-family:Menlo,'DejaVu Sans Mono',consolas,'Courier New',monospace\">Market Return : -6.87%   |   Portfolio Return : 11.60%   |   Position Changes : 362   |   Episode Length : 1330   |\n",
       "</pre>\n"
      ],
      "text/plain": [
       "Market Return : -6.87%   |   Portfolio Return : 11.60%   |   Position Changes : 362   |   Episode Length : 1330   |\n"
      ]
     },
     "metadata": {},
     "output_type": "display_data"
    },
    {
     "data": {
      "text/html": [
       "<pre style=\"white-space:pre;overflow-x:auto;line-height:normal;font-family:Menlo,'DejaVu Sans Mono',consolas,'Courier New',monospace\">Market Return : -0.35%   |   Portfolio Return : -4.14%   |   Position Changes : 208   |   Episode Length : 1330   |\n",
       "</pre>\n"
      ],
      "text/plain": [
       "Market Return : -0.35%   |   Portfolio Return : -4.14%   |   Position Changes : 208   |   Episode Length : 1330   |\n"
      ]
     },
     "metadata": {},
     "output_type": "display_data"
    },
    {
     "data": {
      "text/html": [
       "<pre style=\"white-space:pre;overflow-x:auto;line-height:normal;font-family:Menlo,'DejaVu Sans Mono',consolas,'Courier New',monospace\">Market Return :  0.60%   |   Portfolio Return : -0.67%   |   Position Changes : 180   |   Episode Length : 1330   |\n",
       "</pre>\n"
      ],
      "text/plain": [
       "Market Return :  0.60%   |   Portfolio Return : -0.67%   |   Position Changes : 180   |   Episode Length : 1330   |\n"
      ]
     },
     "metadata": {},
     "output_type": "display_data"
    },
    {
     "data": {
      "text/html": [
       "<pre style=\"white-space:pre;overflow-x:auto;line-height:normal;font-family:Menlo,'DejaVu Sans Mono',consolas,'Courier New',monospace\">Market Return :  1.70%   |   Portfolio Return : -7.04%   |   Position Changes : 236   |   Episode Length : 1330   |\n",
       "</pre>\n"
      ],
      "text/plain": [
       "Market Return :  1.70%   |   Portfolio Return : -7.04%   |   Position Changes : 236   |   Episode Length : 1330   |\n"
      ]
     },
     "metadata": {},
     "output_type": "display_data"
    },
    {
     "data": {
      "text/html": [
       "<pre style=\"white-space:pre;overflow-x:auto;line-height:normal;font-family:Menlo,'DejaVu Sans Mono',consolas,'Courier New',monospace\">Market Return : -4.28%   |   Portfolio Return : -3.92%   |   Position Changes : 261   |   Episode Length : 1330   |\n",
       "</pre>\n"
      ],
      "text/plain": [
       "Market Return : -4.28%   |   Portfolio Return : -3.92%   |   Position Changes : 261   |   Episode Length : 1330   |\n"
      ]
     },
     "metadata": {},
     "output_type": "display_data"
    },
    {
     "data": {
      "text/html": [
       "<pre style=\"white-space:pre;overflow-x:auto;line-height:normal;font-family:Menlo,'DejaVu Sans Mono',consolas,'Courier New',monospace\">Market Return :  3.47%   |   Portfolio Return : -4.51%   |   Position Changes : 251   |   Episode Length : 1330   |\n",
       "</pre>\n"
      ],
      "text/plain": [
       "Market Return :  3.47%   |   Portfolio Return : -4.51%   |   Position Changes : 251   |   Episode Length : 1330   |\n"
      ]
     },
     "metadata": {},
     "output_type": "display_data"
    },
    {
     "data": {
      "text/html": [
       "<pre style=\"white-space:pre;overflow-x:auto;line-height:normal;font-family:Menlo,'DejaVu Sans Mono',consolas,'Courier New',monospace\">Market Return :  3.12%   |   Portfolio Return : -2.94%   |   Position Changes : 222   |   Episode Length : 1330   |\n",
       "</pre>\n"
      ],
      "text/plain": [
       "Market Return :  3.12%   |   Portfolio Return : -2.94%   |   Position Changes : 222   |   Episode Length : 1330   |\n"
      ]
     },
     "metadata": {},
     "output_type": "display_data"
    },
    {
     "data": {
      "text/html": [
       "<pre style=\"white-space:pre;overflow-x:auto;line-height:normal;font-family:Menlo,'DejaVu Sans Mono',consolas,'Courier New',monospace\">Market Return : -18.32%   |   Portfolio Return : 35.32%   |   Position Changes : 627   |   Episode Length : 1330   \n",
       "|   \n",
       "</pre>\n"
      ],
      "text/plain": [
       "Market Return : -18.32%   |   Portfolio Return : 35.32%   |   Position Changes : 627   |   Episode Length : 1330   \n",
       "|   \n"
      ]
     },
     "metadata": {},
     "output_type": "display_data"
    },
    {
     "data": {
      "text/html": [
       "<pre style=\"white-space:pre;overflow-x:auto;line-height:normal;font-family:Menlo,'DejaVu Sans Mono',consolas,'Courier New',monospace\">Market Return : -0.12%   |   Portfolio Return : -6.29%   |   Position Changes : 393   |   Episode Length : 1330   |\n",
       "</pre>\n"
      ],
      "text/plain": [
       "Market Return : -0.12%   |   Portfolio Return : -6.29%   |   Position Changes : 393   |   Episode Length : 1330   |\n"
      ]
     },
     "metadata": {},
     "output_type": "display_data"
    },
    {
     "data": {
      "text/html": [
       "<pre style=\"white-space:pre;overflow-x:auto;line-height:normal;font-family:Menlo,'DejaVu Sans Mono',consolas,'Courier New',monospace\">Market Return : -5.91%   |   Portfolio Return :  2.29%   |   Position Changes : 428   |   Episode Length : 1330   |\n",
       "</pre>\n"
      ],
      "text/plain": [
       "Market Return : -5.91%   |   Portfolio Return :  2.29%   |   Position Changes : 428   |   Episode Length : 1330   |\n"
      ]
     },
     "metadata": {},
     "output_type": "display_data"
    },
    {
     "data": {
      "text/html": [
       "<pre style=\"white-space:pre;overflow-x:auto;line-height:normal;font-family:Menlo,'DejaVu Sans Mono',consolas,'Courier New',monospace\">Market Return : -2.23%   |   Portfolio Return : -6.91%   |   Position Changes : 278   |   Episode Length : 1330   |\n",
       "</pre>\n"
      ],
      "text/plain": [
       "Market Return : -2.23%   |   Portfolio Return : -6.91%   |   Position Changes : 278   |   Episode Length : 1330   |\n"
      ]
     },
     "metadata": {},
     "output_type": "display_data"
    },
    {
     "data": {
      "text/html": [
       "<pre style=\"white-space:pre;overflow-x:auto;line-height:normal;font-family:Menlo,'DejaVu Sans Mono',consolas,'Courier New',monospace\">Market Return :  6.23%   |   Portfolio Return : -5.48%   |   Position Changes : 331   |   Episode Length : 1330   |\n",
       "</pre>\n"
      ],
      "text/plain": [
       "Market Return :  6.23%   |   Portfolio Return : -5.48%   |   Position Changes : 331   |   Episode Length : 1330   |\n"
      ]
     },
     "metadata": {},
     "output_type": "display_data"
    },
    {
     "data": {
      "text/html": [
       "<pre style=\"white-space:pre;overflow-x:auto;line-height:normal;font-family:Menlo,'DejaVu Sans Mono',consolas,'Courier New',monospace\">Market Return : -2.38%   |   Portfolio Return : -5.79%   |   Position Changes : 261   |   Episode Length : 1330   |\n",
       "</pre>\n"
      ],
      "text/plain": [
       "Market Return : -2.38%   |   Portfolio Return : -5.79%   |   Position Changes : 261   |   Episode Length : 1330   |\n"
      ]
     },
     "metadata": {},
     "output_type": "display_data"
    },
    {
     "data": {
      "text/html": [
       "<pre style=\"white-space:pre;overflow-x:auto;line-height:normal;font-family:Menlo,'DejaVu Sans Mono',consolas,'Courier New',monospace\">Market Return : -0.43%   |   Portfolio Return : -2.68%   |   Position Changes : 217   |   Episode Length : 1330   |\n",
       "</pre>\n"
      ],
      "text/plain": [
       "Market Return : -0.43%   |   Portfolio Return : -2.68%   |   Position Changes : 217   |   Episode Length : 1330   |\n"
      ]
     },
     "metadata": {},
     "output_type": "display_data"
    },
    {
     "data": {
      "text/html": [
       "<pre style=\"white-space:pre;overflow-x:auto;line-height:normal;font-family:Menlo,'DejaVu Sans Mono',consolas,'Courier New',monospace\">Market Return : -0.10%   |   Portfolio Return : -2.64%   |   Position Changes : 208   |   Episode Length : 1330   |\n",
       "</pre>\n"
      ],
      "text/plain": [
       "Market Return : -0.10%   |   Portfolio Return : -2.64%   |   Position Changes : 208   |   Episode Length : 1330   |\n"
      ]
     },
     "metadata": {},
     "output_type": "display_data"
    },
    {
     "data": {
      "text/html": [
       "<pre style=\"white-space:pre;overflow-x:auto;line-height:normal;font-family:Menlo,'DejaVu Sans Mono',consolas,'Courier New',monospace\">Market Return : -0.10%   |   Portfolio Return : -7.91%   |   Position Changes : 258   |   Episode Length : 1330   |\n",
       "</pre>\n"
      ],
      "text/plain": [
       "Market Return : -0.10%   |   Portfolio Return : -7.91%   |   Position Changes : 258   |   Episode Length : 1330   |\n"
      ]
     },
     "metadata": {},
     "output_type": "display_data"
    },
    {
     "data": {
      "text/html": [
       "<pre style=\"white-space:pre;overflow-x:auto;line-height:normal;font-family:Menlo,'DejaVu Sans Mono',consolas,'Courier New',monospace\">Market Return :  1.83%   |   Portfolio Return : -11.21%   |   Position Changes : 333   |   Episode Length : 1330   \n",
       "|   \n",
       "</pre>\n"
      ],
      "text/plain": [
       "Market Return :  1.83%   |   Portfolio Return : -11.21%   |   Position Changes : 333   |   Episode Length : 1330   \n",
       "|   \n"
      ]
     },
     "metadata": {},
     "output_type": "display_data"
    },
    {
     "data": {
      "text/html": [
       "<pre style=\"white-space:pre;overflow-x:auto;line-height:normal;font-family:Menlo,'DejaVu Sans Mono',consolas,'Courier New',monospace\">Market Return :  0.04%   |   Portfolio Return : -4.68%   |   Position Changes : 292   |   Episode Length : 1330   |\n",
       "</pre>\n"
      ],
      "text/plain": [
       "Market Return :  0.04%   |   Portfolio Return : -4.68%   |   Position Changes : 292   |   Episode Length : 1330   |\n"
      ]
     },
     "metadata": {},
     "output_type": "display_data"
    },
    {
     "data": {
      "text/html": [
       "<pre style=\"white-space:pre;overflow-x:auto;line-height:normal;font-family:Menlo,'DejaVu Sans Mono',consolas,'Courier New',monospace\">Market Return : -0.87%   |   Portfolio Return : -3.56%   |   Position Changes : 357   |   Episode Length : 1330   |\n",
       "</pre>\n"
      ],
      "text/plain": [
       "Market Return : -0.87%   |   Portfolio Return : -3.56%   |   Position Changes : 357   |   Episode Length : 1330   |\n"
      ]
     },
     "metadata": {},
     "output_type": "display_data"
    },
    {
     "data": {
      "text/html": [
       "<pre style=\"white-space:pre;overflow-x:auto;line-height:normal;font-family:Menlo,'DejaVu Sans Mono',consolas,'Courier New',monospace\">Market Return : -1.51%   |   Portfolio Return : -4.07%   |   Position Changes : 237   |   Episode Length : 1330   |\n",
       "</pre>\n"
      ],
      "text/plain": [
       "Market Return : -1.51%   |   Portfolio Return : -4.07%   |   Position Changes : 237   |   Episode Length : 1330   |\n"
      ]
     },
     "metadata": {},
     "output_type": "display_data"
    },
    {
     "data": {
      "text/html": [
       "<pre style=\"white-space:pre;overflow-x:auto;line-height:normal;font-family:Menlo,'DejaVu Sans Mono',consolas,'Courier New',monospace\">Market Return :  0.47%   |   Portfolio Return : -6.64%   |   Position Changes : 241   |   Episode Length : 1330   |\n",
       "</pre>\n"
      ],
      "text/plain": [
       "Market Return :  0.47%   |   Portfolio Return : -6.64%   |   Position Changes : 241   |   Episode Length : 1330   |\n"
      ]
     },
     "metadata": {},
     "output_type": "display_data"
    },
    {
     "data": {
      "text/html": [
       "<pre style=\"white-space:pre;overflow-x:auto;line-height:normal;font-family:Menlo,'DejaVu Sans Mono',consolas,'Courier New',monospace\">Market Return : -0.68%   |   Portfolio Return : -2.01%   |   Position Changes : 226   |   Episode Length : 1330   |\n",
       "</pre>\n"
      ],
      "text/plain": [
       "Market Return : -0.68%   |   Portfolio Return : -2.01%   |   Position Changes : 226   |   Episode Length : 1330   |\n"
      ]
     },
     "metadata": {},
     "output_type": "display_data"
    },
    {
     "data": {
      "text/html": [
       "<pre style=\"white-space:pre;overflow-x:auto;line-height:normal;font-family:Menlo,'DejaVu Sans Mono',consolas,'Courier New',monospace\">Market Return : -0.09%   |   Portfolio Return : -3.54%   |   Position Changes : 257   |   Episode Length : 1330   |\n",
       "</pre>\n"
      ],
      "text/plain": [
       "Market Return : -0.09%   |   Portfolio Return : -3.54%   |   Position Changes : 257   |   Episode Length : 1330   |\n"
      ]
     },
     "metadata": {},
     "output_type": "display_data"
    },
    {
     "data": {
      "text/html": [
       "<pre style=\"white-space:pre;overflow-x:auto;line-height:normal;font-family:Menlo,'DejaVu Sans Mono',consolas,'Courier New',monospace\">Market Return :  2.92%   |   Portfolio Return : -2.71%   |   Position Changes : 198   |   Episode Length : 1330   |\n",
       "</pre>\n"
      ],
      "text/plain": [
       "Market Return :  2.92%   |   Portfolio Return : -2.71%   |   Position Changes : 198   |   Episode Length : 1330   |\n"
      ]
     },
     "metadata": {},
     "output_type": "display_data"
    },
    {
     "data": {
      "text/html": [
       "<pre style=\"white-space:pre;overflow-x:auto;line-height:normal;font-family:Menlo,'DejaVu Sans Mono',consolas,'Courier New',monospace\">Market Return : -0.31%   |   Portfolio Return : -3.37%   |   Position Changes : 188   |   Episode Length : 1330   |\n",
       "</pre>\n"
      ],
      "text/plain": [
       "Market Return : -0.31%   |   Portfolio Return : -3.37%   |   Position Changes : 188   |   Episode Length : 1330   |\n"
      ]
     },
     "metadata": {},
     "output_type": "display_data"
    },
    {
     "data": {
      "text/html": [
       "<pre style=\"white-space:pre;overflow-x:auto;line-height:normal;font-family:Menlo,'DejaVu Sans Mono',consolas,'Courier New',monospace\">Market Return : -1.68%   |   Portfolio Return : -4.21%   |   Position Changes : 265   |   Episode Length : 1330   |\n",
       "</pre>\n"
      ],
      "text/plain": [
       "Market Return : -1.68%   |   Portfolio Return : -4.21%   |   Position Changes : 265   |   Episode Length : 1330   |\n"
      ]
     },
     "metadata": {},
     "output_type": "display_data"
    },
    {
     "data": {
      "text/html": [
       "<pre style=\"white-space:pre;overflow-x:auto;line-height:normal;font-family:Menlo,'DejaVu Sans Mono',consolas,'Courier New',monospace\">Market Return : -2.29%   |   Portfolio Return : -3.67%   |   Position Changes : 261   |   Episode Length : 1330   |\n",
       "</pre>\n"
      ],
      "text/plain": [
       "Market Return : -2.29%   |   Portfolio Return : -3.67%   |   Position Changes : 261   |   Episode Length : 1330   |\n"
      ]
     },
     "metadata": {},
     "output_type": "display_data"
    },
    {
     "data": {
      "text/html": [
       "<pre style=\"white-space:pre;overflow-x:auto;line-height:normal;font-family:Menlo,'DejaVu Sans Mono',consolas,'Courier New',monospace\">Market Return : -0.06%   |   Portfolio Return : -3.51%   |   Position Changes : 251   |   Episode Length : 1330   |\n",
       "</pre>\n"
      ],
      "text/plain": [
       "Market Return : -0.06%   |   Portfolio Return : -3.51%   |   Position Changes : 251   |   Episode Length : 1330   |\n"
      ]
     },
     "metadata": {},
     "output_type": "display_data"
    },
    {
     "data": {
      "text/html": [
       "<pre style=\"white-space:pre;overflow-x:auto;line-height:normal;font-family:Menlo,'DejaVu Sans Mono',consolas,'Courier New',monospace\">Market Return :  2.97%   |   Portfolio Return :  0.02%   |   Position Changes : 325   |   Episode Length : 1330   |\n",
       "</pre>\n"
      ],
      "text/plain": [
       "Market Return :  2.97%   |   Portfolio Return :  0.02%   |   Position Changes : 325   |   Episode Length : 1330   |\n"
      ]
     },
     "metadata": {},
     "output_type": "display_data"
    },
    {
     "data": {
      "text/html": [
       "<pre style=\"white-space:pre;overflow-x:auto;line-height:normal;font-family:Menlo,'DejaVu Sans Mono',consolas,'Courier New',monospace\">Market Return :  0.73%   |   Portfolio Return : -5.56%   |   Position Changes : 229   |   Episode Length : 1330   |\n",
       "</pre>\n"
      ],
      "text/plain": [
       "Market Return :  0.73%   |   Portfolio Return : -5.56%   |   Position Changes : 229   |   Episode Length : 1330   |\n"
      ]
     },
     "metadata": {},
     "output_type": "display_data"
    },
    {
     "data": {
      "text/html": [
       "<pre style=\"white-space:pre;overflow-x:auto;line-height:normal;font-family:Menlo,'DejaVu Sans Mono',consolas,'Courier New',monospace\">Market Return : -1.49%   |   Portfolio Return : -6.38%   |   Position Changes : 263   |   Episode Length : 1330   |\n",
       "</pre>\n"
      ],
      "text/plain": [
       "Market Return : -1.49%   |   Portfolio Return : -6.38%   |   Position Changes : 263   |   Episode Length : 1330   |\n"
      ]
     },
     "metadata": {},
     "output_type": "display_data"
    },
    {
     "data": {
      "text/html": [
       "<pre style=\"white-space:pre;overflow-x:auto;line-height:normal;font-family:Menlo,'DejaVu Sans Mono',consolas,'Courier New',monospace\">Market Return : -8.24%   |   Portfolio Return : -53.26%   |   Position Changes : 547   |   Episode Length : 1330   \n",
       "|   \n",
       "</pre>\n"
      ],
      "text/plain": [
       "Market Return : -8.24%   |   Portfolio Return : -53.26%   |   Position Changes : 547   |   Episode Length : 1330   \n",
       "|   \n"
      ]
     },
     "metadata": {},
     "output_type": "display_data"
    },
    {
     "data": {
      "text/html": [
       "<pre style=\"white-space:pre;overflow-x:auto;line-height:normal;font-family:Menlo,'DejaVu Sans Mono',consolas,'Courier New',monospace\">Market Return :  0.09%   |   Portfolio Return :  0.62%   |   Position Changes : 279   |   Episode Length : 1330   |\n",
       "</pre>\n"
      ],
      "text/plain": [
       "Market Return :  0.09%   |   Portfolio Return :  0.62%   |   Position Changes : 279   |   Episode Length : 1330   |\n"
      ]
     },
     "metadata": {},
     "output_type": "display_data"
    },
    {
     "data": {
      "text/html": [
       "<pre style=\"white-space:pre;overflow-x:auto;line-height:normal;font-family:Menlo,'DejaVu Sans Mono',consolas,'Courier New',monospace\">Market Return : -1.43%   |   Portfolio Return : -3.85%   |   Position Changes : 243   |   Episode Length : 1330   |\n",
       "</pre>\n"
      ],
      "text/plain": [
       "Market Return : -1.43%   |   Portfolio Return : -3.85%   |   Position Changes : 243   |   Episode Length : 1330   |\n"
      ]
     },
     "metadata": {},
     "output_type": "display_data"
    },
    {
     "data": {
      "text/html": [
       "<pre style=\"white-space:pre;overflow-x:auto;line-height:normal;font-family:Menlo,'DejaVu Sans Mono',consolas,'Courier New',monospace\">Market Return : -0.17%   |   Portfolio Return : -3.62%   |   Position Changes : 240   |   Episode Length : 1330   |\n",
       "</pre>\n"
      ],
      "text/plain": [
       "Market Return : -0.17%   |   Portfolio Return : -3.62%   |   Position Changes : 240   |   Episode Length : 1330   |\n"
      ]
     },
     "metadata": {},
     "output_type": "display_data"
    },
    {
     "data": {
      "text/html": [
       "<pre style=\"white-space:pre;overflow-x:auto;line-height:normal;font-family:Menlo,'DejaVu Sans Mono',consolas,'Courier New',monospace\">Market Return : -3.90%   |   Portfolio Return : -3.87%   |   Position Changes : 200   |   Episode Length : 519   | \n",
       "</pre>\n"
      ],
      "text/plain": [
       "Market Return : -3.90%   |   Portfolio Return : -3.87%   |   Position Changes : 200   |   Episode Length : 519   | \n"
      ]
     },
     "metadata": {},
     "output_type": "display_data"
    },
    {
     "data": {
      "text/html": [
       "<pre style=\"white-space:pre;overflow-x:auto;line-height:normal;font-family:Menlo,'DejaVu Sans Mono',consolas,'Courier New',monospace\">Market Return :  0.58%   |   Portfolio Return : -10.53%   |   Position Changes : 378   |   Episode Length : 1330   \n",
       "|   \n",
       "</pre>\n"
      ],
      "text/plain": [
       "Market Return :  0.58%   |   Portfolio Return : -10.53%   |   Position Changes : 378   |   Episode Length : 1330   \n",
       "|   \n"
      ]
     },
     "metadata": {},
     "output_type": "display_data"
    },
    {
     "data": {
      "text/html": [
       "<pre style=\"white-space:pre;overflow-x:auto;line-height:normal;font-family:Menlo,'DejaVu Sans Mono',consolas,'Courier New',monospace\">Market Return : -0.41%   |   Portfolio Return : -3.41%   |   Position Changes : 284   |   Episode Length : 1330   |\n",
       "</pre>\n"
      ],
      "text/plain": [
       "Market Return : -0.41%   |   Portfolio Return : -3.41%   |   Position Changes : 284   |   Episode Length : 1330   |\n"
      ]
     },
     "metadata": {},
     "output_type": "display_data"
    },
    {
     "data": {
      "text/html": [
       "<pre style=\"white-space:pre;overflow-x:auto;line-height:normal;font-family:Menlo,'DejaVu Sans Mono',consolas,'Courier New',monospace\">Market Return : -8.88%   |   Portfolio Return : -6.55%   |   Position Changes : 303   |   Episode Length : 1330   |\n",
       "</pre>\n"
      ],
      "text/plain": [
       "Market Return : -8.88%   |   Portfolio Return : -6.55%   |   Position Changes : 303   |   Episode Length : 1330   |\n"
      ]
     },
     "metadata": {},
     "output_type": "display_data"
    },
    {
     "data": {
      "text/html": [
       "<pre style=\"white-space:pre;overflow-x:auto;line-height:normal;font-family:Menlo,'DejaVu Sans Mono',consolas,'Courier New',monospace\">Market Return : -1.11%   |   Portfolio Return : -3.33%   |   Position Changes : 195   |   Episode Length : 1330   |\n",
       "</pre>\n"
      ],
      "text/plain": [
       "Market Return : -1.11%   |   Portfolio Return : -3.33%   |   Position Changes : 195   |   Episode Length : 1330   |\n"
      ]
     },
     "metadata": {},
     "output_type": "display_data"
    },
    {
     "data": {
      "text/html": [
       "<pre style=\"white-space:pre;overflow-x:auto;line-height:normal;font-family:Menlo,'DejaVu Sans Mono',consolas,'Courier New',monospace\">Market Return :  0.96%   |   Portfolio Return : -5.34%   |   Position Changes : 221   |   Episode Length : 1330   |\n",
       "</pre>\n"
      ],
      "text/plain": [
       "Market Return :  0.96%   |   Portfolio Return : -5.34%   |   Position Changes : 221   |   Episode Length : 1330   |\n"
      ]
     },
     "metadata": {},
     "output_type": "display_data"
    },
    {
     "data": {
      "text/html": [
       "<pre style=\"white-space:pre;overflow-x:auto;line-height:normal;font-family:Menlo,'DejaVu Sans Mono',consolas,'Courier New',monospace\">Market Return : -1.90%   |   Portfolio Return : -8.64%   |   Position Changes : 310   |   Episode Length : 1330   |\n",
       "</pre>\n"
      ],
      "text/plain": [
       "Market Return : -1.90%   |   Portfolio Return : -8.64%   |   Position Changes : 310   |   Episode Length : 1330   |\n"
      ]
     },
     "metadata": {},
     "output_type": "display_data"
    },
    {
     "data": {
      "text/html": [
       "<pre style=\"white-space:pre;overflow-x:auto;line-height:normal;font-family:Menlo,'DejaVu Sans Mono',consolas,'Courier New',monospace\">Market Return :  1.22%   |   Portfolio Return : -6.21%   |   Position Changes : 433   |   Episode Length : 1330   |\n",
       "</pre>\n"
      ],
      "text/plain": [
       "Market Return :  1.22%   |   Portfolio Return : -6.21%   |   Position Changes : 433   |   Episode Length : 1330   |\n"
      ]
     },
     "metadata": {},
     "output_type": "display_data"
    },
    {
     "data": {
      "text/html": [
       "<pre style=\"white-space:pre;overflow-x:auto;line-height:normal;font-family:Menlo,'DejaVu Sans Mono',consolas,'Courier New',monospace\">Market Return :  2.54%   |   Portfolio Return : -4.19%   |   Position Changes : 231   |   Episode Length : 1330   |\n",
       "</pre>\n"
      ],
      "text/plain": [
       "Market Return :  2.54%   |   Portfolio Return : -4.19%   |   Position Changes : 231   |   Episode Length : 1330   |\n"
      ]
     },
     "metadata": {},
     "output_type": "display_data"
    },
    {
     "data": {
      "text/html": [
       "<pre style=\"white-space:pre;overflow-x:auto;line-height:normal;font-family:Menlo,'DejaVu Sans Mono',consolas,'Courier New',monospace\">Market Return : -2.09%   |   Portfolio Return : -3.29%   |   Position Changes : 317   |   Episode Length : 1330   |\n",
       "</pre>\n"
      ],
      "text/plain": [
       "Market Return : -2.09%   |   Portfolio Return : -3.29%   |   Position Changes : 317   |   Episode Length : 1330   |\n"
      ]
     },
     "metadata": {},
     "output_type": "display_data"
    },
    {
     "data": {
      "text/html": [
       "<pre style=\"white-space:pre;overflow-x:auto;line-height:normal;font-family:Menlo,'DejaVu Sans Mono',consolas,'Courier New',monospace\">Market Return :  3.51%   |   Portfolio Return : -7.81%   |   Position Changes : 260   |   Episode Length : 1330   |\n",
       "</pre>\n"
      ],
      "text/plain": [
       "Market Return :  3.51%   |   Portfolio Return : -7.81%   |   Position Changes : 260   |   Episode Length : 1330   |\n"
      ]
     },
     "metadata": {},
     "output_type": "display_data"
    },
    {
     "data": {
      "text/html": [
       "<pre style=\"white-space:pre;overflow-x:auto;line-height:normal;font-family:Menlo,'DejaVu Sans Mono',consolas,'Courier New',monospace\">Market Return :  6.16%   |   Portfolio Return :  0.83%   |   Position Changes : 420   |   Episode Length : 1330   |\n",
       "</pre>\n"
      ],
      "text/plain": [
       "Market Return :  6.16%   |   Portfolio Return :  0.83%   |   Position Changes : 420   |   Episode Length : 1330   |\n"
      ]
     },
     "metadata": {},
     "output_type": "display_data"
    },
    {
     "data": {
      "text/html": [
       "<pre style=\"white-space:pre;overflow-x:auto;line-height:normal;font-family:Menlo,'DejaVu Sans Mono',consolas,'Courier New',monospace\">Market Return : -0.30%   |   Portfolio Return : -5.10%   |   Position Changes : 235   |   Episode Length : 1330   |\n",
       "</pre>\n"
      ],
      "text/plain": [
       "Market Return : -0.30%   |   Portfolio Return : -5.10%   |   Position Changes : 235   |   Episode Length : 1330   |\n"
      ]
     },
     "metadata": {},
     "output_type": "display_data"
    },
    {
     "data": {
      "text/html": [
       "<pre style=\"white-space:pre;overflow-x:auto;line-height:normal;font-family:Menlo,'DejaVu Sans Mono',consolas,'Courier New',monospace\">Market Return : -0.83%   |   Portfolio Return : -8.82%   |   Position Changes : 251   |   Episode Length : 1330   |\n",
       "</pre>\n"
      ],
      "text/plain": [
       "Market Return : -0.83%   |   Portfolio Return : -8.82%   |   Position Changes : 251   |   Episode Length : 1330   |\n"
      ]
     },
     "metadata": {},
     "output_type": "display_data"
    },
    {
     "data": {
      "text/html": [
       "<pre style=\"white-space:pre;overflow-x:auto;line-height:normal;font-family:Menlo,'DejaVu Sans Mono',consolas,'Courier New',monospace\">Market Return :  0.08%   |   Portfolio Return : -5.36%   |   Position Changes : 219   |   Episode Length : 1330   |\n",
       "</pre>\n"
      ],
      "text/plain": [
       "Market Return :  0.08%   |   Portfolio Return : -5.36%   |   Position Changes : 219   |   Episode Length : 1330   |\n"
      ]
     },
     "metadata": {},
     "output_type": "display_data"
    },
    {
     "data": {
      "text/html": [
       "<pre style=\"white-space:pre;overflow-x:auto;line-height:normal;font-family:Menlo,'DejaVu Sans Mono',consolas,'Courier New',monospace\">Market Return : -0.56%   |   Portfolio Return : -3.84%   |   Position Changes : 217   |   Episode Length : 1330   |\n",
       "</pre>\n"
      ],
      "text/plain": [
       "Market Return : -0.56%   |   Portfolio Return : -3.84%   |   Position Changes : 217   |   Episode Length : 1330   |\n"
      ]
     },
     "metadata": {},
     "output_type": "display_data"
    },
    {
     "data": {
      "text/html": [
       "<pre style=\"white-space:pre;overflow-x:auto;line-height:normal;font-family:Menlo,'DejaVu Sans Mono',consolas,'Courier New',monospace\">Market Return :  2.72%   |   Portfolio Return : -5.21%   |   Position Changes : 249   |   Episode Length : 1330   |\n",
       "</pre>\n"
      ],
      "text/plain": [
       "Market Return :  2.72%   |   Portfolio Return : -5.21%   |   Position Changes : 249   |   Episode Length : 1330   |\n"
      ]
     },
     "metadata": {},
     "output_type": "display_data"
    },
    {
     "data": {
      "text/html": [
       "<pre style=\"white-space:pre;overflow-x:auto;line-height:normal;font-family:Menlo,'DejaVu Sans Mono',consolas,'Courier New',monospace\">Market Return :  4.26%   |   Portfolio Return : -0.56%   |   Position Changes : 228   |   Episode Length : 1330   |\n",
       "</pre>\n"
      ],
      "text/plain": [
       "Market Return :  4.26%   |   Portfolio Return : -0.56%   |   Position Changes : 228   |   Episode Length : 1330   |\n"
      ]
     },
     "metadata": {},
     "output_type": "display_data"
    },
    {
     "data": {
      "text/html": [
       "<pre style=\"white-space:pre;overflow-x:auto;line-height:normal;font-family:Menlo,'DejaVu Sans Mono',consolas,'Courier New',monospace\">Market Return : -1.63%   |   Portfolio Return : -5.60%   |   Position Changes : 271   |   Episode Length : 1330   |\n",
       "</pre>\n"
      ],
      "text/plain": [
       "Market Return : -1.63%   |   Portfolio Return : -5.60%   |   Position Changes : 271   |   Episode Length : 1330   |\n"
      ]
     },
     "metadata": {},
     "output_type": "display_data"
    },
    {
     "data": {
      "text/html": [
       "<pre style=\"white-space:pre;overflow-x:auto;line-height:normal;font-family:Menlo,'DejaVu Sans Mono',consolas,'Courier New',monospace\">Market Return : -0.56%   |   Portfolio Return : -1.29%   |   Position Changes : 252   |   Episode Length : 1330   |\n",
       "</pre>\n"
      ],
      "text/plain": [
       "Market Return : -0.56%   |   Portfolio Return : -1.29%   |   Position Changes : 252   |   Episode Length : 1330   |\n"
      ]
     },
     "metadata": {},
     "output_type": "display_data"
    },
    {
     "data": {
      "text/html": [
       "<pre style=\"white-space:pre;overflow-x:auto;line-height:normal;font-family:Menlo,'DejaVu Sans Mono',consolas,'Courier New',monospace\">Market Return :  1.30%   |   Portfolio Return : -4.50%   |   Position Changes : 311   |   Episode Length : 1330   |\n",
       "</pre>\n"
      ],
      "text/plain": [
       "Market Return :  1.30%   |   Portfolio Return : -4.50%   |   Position Changes : 311   |   Episode Length : 1330   |\n"
      ]
     },
     "metadata": {},
     "output_type": "display_data"
    },
    {
     "data": {
      "text/html": [
       "<pre style=\"white-space:pre;overflow-x:auto;line-height:normal;font-family:Menlo,'DejaVu Sans Mono',consolas,'Courier New',monospace\">Market Return : -2.12%   |   Portfolio Return : -1.61%   |   Position Changes : 253   |   Episode Length : 1330   |\n",
       "</pre>\n"
      ],
      "text/plain": [
       "Market Return : -2.12%   |   Portfolio Return : -1.61%   |   Position Changes : 253   |   Episode Length : 1330   |\n"
      ]
     },
     "metadata": {},
     "output_type": "display_data"
    },
    {
     "data": {
      "text/html": [
       "<pre style=\"white-space:pre;overflow-x:auto;line-height:normal;font-family:Menlo,'DejaVu Sans Mono',consolas,'Courier New',monospace\">Market Return :  3.79%   |   Portfolio Return : -9.41%   |   Position Changes : 306   |   Episode Length : 1330   |\n",
       "</pre>\n"
      ],
      "text/plain": [
       "Market Return :  3.79%   |   Portfolio Return : -9.41%   |   Position Changes : 306   |   Episode Length : 1330   |\n"
      ]
     },
     "metadata": {},
     "output_type": "display_data"
    },
    {
     "data": {
      "text/html": [
       "<pre style=\"white-space:pre;overflow-x:auto;line-height:normal;font-family:Menlo,'DejaVu Sans Mono',consolas,'Courier New',monospace\">Market Return : -1.22%   |   Portfolio Return : -5.22%   |   Position Changes : 229   |   Episode Length : 1330   |\n",
       "</pre>\n"
      ],
      "text/plain": [
       "Market Return : -1.22%   |   Portfolio Return : -5.22%   |   Position Changes : 229   |   Episode Length : 1330   |\n"
      ]
     },
     "metadata": {},
     "output_type": "display_data"
    },
    {
     "data": {
      "text/html": [
       "<pre style=\"white-space:pre;overflow-x:auto;line-height:normal;font-family:Menlo,'DejaVu Sans Mono',consolas,'Courier New',monospace\">Market Return : -0.88%   |   Portfolio Return : -7.09%   |   Position Changes : 234   |   Episode Length : 1330   |\n",
       "</pre>\n"
      ],
      "text/plain": [
       "Market Return : -0.88%   |   Portfolio Return : -7.09%   |   Position Changes : 234   |   Episode Length : 1330   |\n"
      ]
     },
     "metadata": {},
     "output_type": "display_data"
    },
    {
     "data": {
      "text/html": [
       "<pre style=\"white-space:pre;overflow-x:auto;line-height:normal;font-family:Menlo,'DejaVu Sans Mono',consolas,'Courier New',monospace\">Market Return :  1.18%   |   Portfolio Return : -3.70%   |   Position Changes : 215   |   Episode Length : 1330   |\n",
       "</pre>\n"
      ],
      "text/plain": [
       "Market Return :  1.18%   |   Portfolio Return : -3.70%   |   Position Changes : 215   |   Episode Length : 1330   |\n"
      ]
     },
     "metadata": {},
     "output_type": "display_data"
    },
    {
     "data": {
      "text/html": [
       "<pre style=\"white-space:pre;overflow-x:auto;line-height:normal;font-family:Menlo,'DejaVu Sans Mono',consolas,'Courier New',monospace\">Market Return :  0.36%   |   Portfolio Return : -4.20%   |   Position Changes : 210   |   Episode Length : 1330   |\n",
       "</pre>\n"
      ],
      "text/plain": [
       "Market Return :  0.36%   |   Portfolio Return : -4.20%   |   Position Changes : 210   |   Episode Length : 1330   |\n"
      ]
     },
     "metadata": {},
     "output_type": "display_data"
    },
    {
     "data": {
      "text/html": [
       "<pre style=\"white-space:pre;overflow-x:auto;line-height:normal;font-family:Menlo,'DejaVu Sans Mono',consolas,'Courier New',monospace\">Market Return :  2.97%   |   Portfolio Return : -8.50%   |   Position Changes : 252   |   Episode Length : 1330   |\n",
       "</pre>\n"
      ],
      "text/plain": [
       "Market Return :  2.97%   |   Portfolio Return : -8.50%   |   Position Changes : 252   |   Episode Length : 1330   |\n"
      ]
     },
     "metadata": {},
     "output_type": "display_data"
    },
    {
     "data": {
      "text/html": [
       "<pre style=\"white-space:pre;overflow-x:auto;line-height:normal;font-family:Menlo,'DejaVu Sans Mono',consolas,'Courier New',monospace\">Market Return : -1.26%   |   Portfolio Return : -5.83%   |   Position Changes : 240   |   Episode Length : 1330   |\n",
       "</pre>\n"
      ],
      "text/plain": [
       "Market Return : -1.26%   |   Portfolio Return : -5.83%   |   Position Changes : 240   |   Episode Length : 1330   |\n"
      ]
     },
     "metadata": {},
     "output_type": "display_data"
    },
    {
     "data": {
      "text/html": [
       "<pre style=\"white-space:pre;overflow-x:auto;line-height:normal;font-family:Menlo,'DejaVu Sans Mono',consolas,'Courier New',monospace\">Market Return :  0.38%   |   Portfolio Return : -3.40%   |   Position Changes : 252   |   Episode Length : 1330   |\n",
       "</pre>\n"
      ],
      "text/plain": [
       "Market Return :  0.38%   |   Portfolio Return : -3.40%   |   Position Changes : 252   |   Episode Length : 1330   |\n"
      ]
     },
     "metadata": {},
     "output_type": "display_data"
    },
    {
     "data": {
      "text/html": [
       "<pre style=\"white-space:pre;overflow-x:auto;line-height:normal;font-family:Menlo,'DejaVu Sans Mono',consolas,'Courier New',monospace\">Market Return :  0.75%   |   Portfolio Return : -5.61%   |   Position Changes : 277   |   Episode Length : 1330   |\n",
       "</pre>\n"
      ],
      "text/plain": [
       "Market Return :  0.75%   |   Portfolio Return : -5.61%   |   Position Changes : 277   |   Episode Length : 1330   |\n"
      ]
     },
     "metadata": {},
     "output_type": "display_data"
    },
    {
     "data": {
      "text/html": [
       "<pre style=\"white-space:pre;overflow-x:auto;line-height:normal;font-family:Menlo,'DejaVu Sans Mono',consolas,'Courier New',monospace\">Market Return :  3.43%   |   Portfolio Return : -3.17%   |   Position Changes : 286   |   Episode Length : 1330   |\n",
       "</pre>\n"
      ],
      "text/plain": [
       "Market Return :  3.43%   |   Portfolio Return : -3.17%   |   Position Changes : 286   |   Episode Length : 1330   |\n"
      ]
     },
     "metadata": {},
     "output_type": "display_data"
    },
    {
     "data": {
      "text/html": [
       "<pre style=\"white-space:pre;overflow-x:auto;line-height:normal;font-family:Menlo,'DejaVu Sans Mono',consolas,'Courier New',monospace\">Market Return : 11.88%   |   Portfolio Return : 11.04%   |   Position Changes : 448   |   Episode Length : 1330   |\n",
       "</pre>\n"
      ],
      "text/plain": [
       "Market Return : 11.88%   |   Portfolio Return : 11.04%   |   Position Changes : 448   |   Episode Length : 1330   |\n"
      ]
     },
     "metadata": {},
     "output_type": "display_data"
    },
    {
     "data": {
      "text/html": [
       "<pre style=\"white-space:pre;overflow-x:auto;line-height:normal;font-family:Menlo,'DejaVu Sans Mono',consolas,'Courier New',monospace\">Market Return : -0.33%   |   Portfolio Return : -4.63%   |   Position Changes : 235   |   Episode Length : 1330   |\n",
       "</pre>\n"
      ],
      "text/plain": [
       "Market Return : -0.33%   |   Portfolio Return : -4.63%   |   Position Changes : 235   |   Episode Length : 1330   |\n"
      ]
     },
     "metadata": {},
     "output_type": "display_data"
    },
    {
     "data": {
      "text/html": [
       "<pre style=\"white-space:pre;overflow-x:auto;line-height:normal;font-family:Menlo,'DejaVu Sans Mono',consolas,'Courier New',monospace\">Market Return :  2.92%   |   Portfolio Return : -4.67%   |   Position Changes : 239   |   Episode Length : 1330   |\n",
       "</pre>\n"
      ],
      "text/plain": [
       "Market Return :  2.92%   |   Portfolio Return : -4.67%   |   Position Changes : 239   |   Episode Length : 1330   |\n"
      ]
     },
     "metadata": {},
     "output_type": "display_data"
    },
    {
     "data": {
      "text/html": [
       "<pre style=\"white-space:pre;overflow-x:auto;line-height:normal;font-family:Menlo,'DejaVu Sans Mono',consolas,'Courier New',monospace\">Market Return :  2.84%   |   Portfolio Return : -0.93%   |   Position Changes : 255   |   Episode Length : 1330   |\n",
       "</pre>\n"
      ],
      "text/plain": [
       "Market Return :  2.84%   |   Portfolio Return : -0.93%   |   Position Changes : 255   |   Episode Length : 1330   |\n"
      ]
     },
     "metadata": {},
     "output_type": "display_data"
    },
    {
     "data": {
      "text/html": [
       "<pre style=\"white-space:pre;overflow-x:auto;line-height:normal;font-family:Menlo,'DejaVu Sans Mono',consolas,'Courier New',monospace\">Market Return : -2.38%   |   Portfolio Return : -8.69%   |   Position Changes : 293   |   Episode Length : 1330   |\n",
       "</pre>\n"
      ],
      "text/plain": [
       "Market Return : -2.38%   |   Portfolio Return : -8.69%   |   Position Changes : 293   |   Episode Length : 1330   |\n"
      ]
     },
     "metadata": {},
     "output_type": "display_data"
    },
    {
     "data": {
      "text/html": [
       "<pre style=\"white-space:pre;overflow-x:auto;line-height:normal;font-family:Menlo,'DejaVu Sans Mono',consolas,'Courier New',monospace\">Market Return :  0.15%   |   Portfolio Return : -6.78%   |   Position Changes : 289   |   Episode Length : 1330   |\n",
       "</pre>\n"
      ],
      "text/plain": [
       "Market Return :  0.15%   |   Portfolio Return : -6.78%   |   Position Changes : 289   |   Episode Length : 1330   |\n"
      ]
     },
     "metadata": {},
     "output_type": "display_data"
    },
    {
     "data": {
      "text/html": [
       "<pre style=\"white-space:pre;overflow-x:auto;line-height:normal;font-family:Menlo,'DejaVu Sans Mono',consolas,'Courier New',monospace\">Market Return :  1.91%   |   Portfolio Return : -4.40%   |   Position Changes : 271   |   Episode Length : 1330   |\n",
       "</pre>\n"
      ],
      "text/plain": [
       "Market Return :  1.91%   |   Portfolio Return : -4.40%   |   Position Changes : 271   |   Episode Length : 1330   |\n"
      ]
     },
     "metadata": {},
     "output_type": "display_data"
    },
    {
     "data": {
      "text/html": [
       "<pre style=\"white-space:pre;overflow-x:auto;line-height:normal;font-family:Menlo,'DejaVu Sans Mono',consolas,'Courier New',monospace\">Market Return : -0.89%   |   Portfolio Return : -1.99%   |   Position Changes : 231   |   Episode Length : 1330   |\n",
       "</pre>\n"
      ],
      "text/plain": [
       "Market Return : -0.89%   |   Portfolio Return : -1.99%   |   Position Changes : 231   |   Episode Length : 1330   |\n"
      ]
     },
     "metadata": {},
     "output_type": "display_data"
    },
    {
     "data": {
      "text/html": [
       "<pre style=\"white-space:pre;overflow-x:auto;line-height:normal;font-family:Menlo,'DejaVu Sans Mono',consolas,'Courier New',monospace\">Market Return :  0.57%   |   Portfolio Return : -3.29%   |   Position Changes : 251   |   Episode Length : 1330   |\n",
       "</pre>\n"
      ],
      "text/plain": [
       "Market Return :  0.57%   |   Portfolio Return : -3.29%   |   Position Changes : 251   |   Episode Length : 1330   |\n"
      ]
     },
     "metadata": {},
     "output_type": "display_data"
    },
    {
     "data": {
      "text/html": [
       "<pre style=\"white-space:pre;overflow-x:auto;line-height:normal;font-family:Menlo,'DejaVu Sans Mono',consolas,'Courier New',monospace\">Market Return :  1.98%   |   Portfolio Return : -6.09%   |   Position Changes : 274   |   Episode Length : 1330   |\n",
       "</pre>\n"
      ],
      "text/plain": [
       "Market Return :  1.98%   |   Portfolio Return : -6.09%   |   Position Changes : 274   |   Episode Length : 1330   |\n"
      ]
     },
     "metadata": {},
     "output_type": "display_data"
    },
    {
     "data": {
      "text/html": [
       "<pre style=\"white-space:pre;overflow-x:auto;line-height:normal;font-family:Menlo,'DejaVu Sans Mono',consolas,'Courier New',monospace\">Market Return : -0.32%   |   Portfolio Return : -1.03%   |   Position Changes : 211   |   Episode Length : 1330   |\n",
       "</pre>\n"
      ],
      "text/plain": [
       "Market Return : -0.32%   |   Portfolio Return : -1.03%   |   Position Changes : 211   |   Episode Length : 1330   |\n"
      ]
     },
     "metadata": {},
     "output_type": "display_data"
    },
    {
     "data": {
      "text/html": [
       "<pre style=\"white-space:pre;overflow-x:auto;line-height:normal;font-family:Menlo,'DejaVu Sans Mono',consolas,'Courier New',monospace\">Market Return : -5.51%   |   Portfolio Return : -6.86%   |   Position Changes : 402   |   Episode Length : 1330   |\n",
       "</pre>\n"
      ],
      "text/plain": [
       "Market Return : -5.51%   |   Portfolio Return : -6.86%   |   Position Changes : 402   |   Episode Length : 1330   |\n"
      ]
     },
     "metadata": {},
     "output_type": "display_data"
    },
    {
     "data": {
      "text/html": [
       "<pre style=\"white-space:pre;overflow-x:auto;line-height:normal;font-family:Menlo,'DejaVu Sans Mono',consolas,'Courier New',monospace\">Market Return : -2.77%   |   Portfolio Return : -12.58%   |   Position Changes : 326   |   Episode Length : 1330   \n",
       "|   \n",
       "</pre>\n"
      ],
      "text/plain": [
       "Market Return : -2.77%   |   Portfolio Return : -12.58%   |   Position Changes : 326   |   Episode Length : 1330   \n",
       "|   \n"
      ]
     },
     "metadata": {},
     "output_type": "display_data"
    },
    {
     "data": {
      "text/html": [
       "<pre style=\"white-space:pre;overflow-x:auto;line-height:normal;font-family:Menlo,'DejaVu Sans Mono',consolas,'Courier New',monospace\">Market Return :  1.06%   |   Portfolio Return : -4.72%   |   Position Changes : 200   |   Episode Length : 1330   |\n",
       "</pre>\n"
      ],
      "text/plain": [
       "Market Return :  1.06%   |   Portfolio Return : -4.72%   |   Position Changes : 200   |   Episode Length : 1330   |\n"
      ]
     },
     "metadata": {},
     "output_type": "display_data"
    },
    {
     "data": {
      "text/html": [
       "<pre style=\"white-space:pre;overflow-x:auto;line-height:normal;font-family:Menlo,'DejaVu Sans Mono',consolas,'Courier New',monospace\">Market Return : -0.32%   |   Portfolio Return : -3.86%   |   Position Changes : 236   |   Episode Length : 1330   |\n",
       "</pre>\n"
      ],
      "text/plain": [
       "Market Return : -0.32%   |   Portfolio Return : -3.86%   |   Position Changes : 236   |   Episode Length : 1330   |\n"
      ]
     },
     "metadata": {},
     "output_type": "display_data"
    },
    {
     "data": {
      "text/html": [
       "<pre style=\"white-space:pre;overflow-x:auto;line-height:normal;font-family:Menlo,'DejaVu Sans Mono',consolas,'Courier New',monospace\">Market Return :  0.46%   |   Portfolio Return : -3.93%   |   Position Changes : 224   |   Episode Length : 1330   |\n",
       "</pre>\n"
      ],
      "text/plain": [
       "Market Return :  0.46%   |   Portfolio Return : -3.93%   |   Position Changes : 224   |   Episode Length : 1330   |\n"
      ]
     },
     "metadata": {},
     "output_type": "display_data"
    },
    {
     "data": {
      "text/html": [
       "<pre style=\"white-space:pre;overflow-x:auto;line-height:normal;font-family:Menlo,'DejaVu Sans Mono',consolas,'Courier New',monospace\">Market Return : 10.93%   |   Portfolio Return : -11.47%   |   Position Changes : 367   |   Episode Length : 1330   \n",
       "|   \n",
       "</pre>\n"
      ],
      "text/plain": [
       "Market Return : 10.93%   |   Portfolio Return : -11.47%   |   Position Changes : 367   |   Episode Length : 1330   \n",
       "|   \n"
      ]
     },
     "metadata": {},
     "output_type": "display_data"
    },
    {
     "data": {
      "text/html": [
       "<pre style=\"white-space:pre;overflow-x:auto;line-height:normal;font-family:Menlo,'DejaVu Sans Mono',consolas,'Courier New',monospace\">Market Return :  4.26%   |   Portfolio Return : -2.74%   |   Position Changes : 255   |   Episode Length : 1330   |\n",
       "</pre>\n"
      ],
      "text/plain": [
       "Market Return :  4.26%   |   Portfolio Return : -2.74%   |   Position Changes : 255   |   Episode Length : 1330   |\n"
      ]
     },
     "metadata": {},
     "output_type": "display_data"
    },
    {
     "data": {
      "text/html": [
       "<pre style=\"white-space:pre;overflow-x:auto;line-height:normal;font-family:Menlo,'DejaVu Sans Mono',consolas,'Courier New',monospace\">Market Return :  4.57%   |   Portfolio Return : -4.37%   |   Position Changes : 307   |   Episode Length : 1330   |\n",
       "</pre>\n"
      ],
      "text/plain": [
       "Market Return :  4.57%   |   Portfolio Return : -4.37%   |   Position Changes : 307   |   Episode Length : 1330   |\n"
      ]
     },
     "metadata": {},
     "output_type": "display_data"
    },
    {
     "data": {
      "text/html": [
       "<pre style=\"white-space:pre;overflow-x:auto;line-height:normal;font-family:Menlo,'DejaVu Sans Mono',consolas,'Courier New',monospace\">Market Return :  0.20%   |   Portfolio Return : -6.58%   |   Position Changes : 247   |   Episode Length : 1330   |\n",
       "</pre>\n"
      ],
      "text/plain": [
       "Market Return :  0.20%   |   Portfolio Return : -6.58%   |   Position Changes : 247   |   Episode Length : 1330   |\n"
      ]
     },
     "metadata": {},
     "output_type": "display_data"
    },
    {
     "data": {
      "text/html": [
       "<pre style=\"white-space:pre;overflow-x:auto;line-height:normal;font-family:Menlo,'DejaVu Sans Mono',consolas,'Courier New',monospace\">Market Return : -22.89%   |   Portfolio Return : -16.88%   |   Position Changes : 397   |   Episode Length : 1330  \n",
       "|   \n",
       "</pre>\n"
      ],
      "text/plain": [
       "Market Return : -22.89%   |   Portfolio Return : -16.88%   |   Position Changes : 397   |   Episode Length : 1330  \n",
       "|   \n"
      ]
     },
     "metadata": {},
     "output_type": "display_data"
    },
    {
     "data": {
      "text/html": [
       "<pre style=\"white-space:pre;overflow-x:auto;line-height:normal;font-family:Menlo,'DejaVu Sans Mono',consolas,'Courier New',monospace\">Market Return :  0.82%   |   Portfolio Return : -9.79%   |   Position Changes : 300   |   Episode Length : 1330   |\n",
       "</pre>\n"
      ],
      "text/plain": [
       "Market Return :  0.82%   |   Portfolio Return : -9.79%   |   Position Changes : 300   |   Episode Length : 1330   |\n"
      ]
     },
     "metadata": {},
     "output_type": "display_data"
    },
    {
     "data": {
      "text/html": [
       "<pre style=\"white-space:pre;overflow-x:auto;line-height:normal;font-family:Menlo,'DejaVu Sans Mono',consolas,'Courier New',monospace\">Market Return : -1.95%   |   Portfolio Return : -3.23%   |   Position Changes : 243   |   Episode Length : 1330   |\n",
       "</pre>\n"
      ],
      "text/plain": [
       "Market Return : -1.95%   |   Portfolio Return : -3.23%   |   Position Changes : 243   |   Episode Length : 1330   |\n"
      ]
     },
     "metadata": {},
     "output_type": "display_data"
    },
    {
     "data": {
      "text/html": [
       "<pre style=\"white-space:pre;overflow-x:auto;line-height:normal;font-family:Menlo,'DejaVu Sans Mono',consolas,'Courier New',monospace\">Market Return : -1.44%   |   Portfolio Return : -2.62%   |   Position Changes : 222   |   Episode Length : 1330   |\n",
       "</pre>\n"
      ],
      "text/plain": [
       "Market Return : -1.44%   |   Portfolio Return : -2.62%   |   Position Changes : 222   |   Episode Length : 1330   |\n"
      ]
     },
     "metadata": {},
     "output_type": "display_data"
    },
    {
     "data": {
      "text/html": [
       "<pre style=\"white-space:pre;overflow-x:auto;line-height:normal;font-family:Menlo,'DejaVu Sans Mono',consolas,'Courier New',monospace\">Market Return :  0.63%   |   Portfolio Return : -2.36%   |   Position Changes : 283   |   Episode Length : 1330   |\n",
       "</pre>\n"
      ],
      "text/plain": [
       "Market Return :  0.63%   |   Portfolio Return : -2.36%   |   Position Changes : 283   |   Episode Length : 1330   |\n"
      ]
     },
     "metadata": {},
     "output_type": "display_data"
    },
    {
     "data": {
      "text/html": [
       "<pre style=\"white-space:pre;overflow-x:auto;line-height:normal;font-family:Menlo,'DejaVu Sans Mono',consolas,'Courier New',monospace\">Market Return : -0.17%   |   Portfolio Return : -5.28%   |   Position Changes : 220   |   Episode Length : 1330   |\n",
       "</pre>\n"
      ],
      "text/plain": [
       "Market Return : -0.17%   |   Portfolio Return : -5.28%   |   Position Changes : 220   |   Episode Length : 1330   |\n"
      ]
     },
     "metadata": {},
     "output_type": "display_data"
    },
    {
     "data": {
      "text/html": [
       "<pre style=\"white-space:pre;overflow-x:auto;line-height:normal;font-family:Menlo,'DejaVu Sans Mono',consolas,'Courier New',monospace\">Market Return : -9.17%   |   Portfolio Return : -9.58%   |   Position Changes : 309   |   Episode Length : 1330   |\n",
       "</pre>\n"
      ],
      "text/plain": [
       "Market Return : -9.17%   |   Portfolio Return : -9.58%   |   Position Changes : 309   |   Episode Length : 1330   |\n"
      ]
     },
     "metadata": {},
     "output_type": "display_data"
    },
    {
     "data": {
      "text/html": [
       "<pre style=\"white-space:pre;overflow-x:auto;line-height:normal;font-family:Menlo,'DejaVu Sans Mono',consolas,'Courier New',monospace\">Market Return :  6.16%   |   Portfolio Return : -4.80%   |   Position Changes : 414   |   Episode Length : 1330   |\n",
       "</pre>\n"
      ],
      "text/plain": [
       "Market Return :  6.16%   |   Portfolio Return : -4.80%   |   Position Changes : 414   |   Episode Length : 1330   |\n"
      ]
     },
     "metadata": {},
     "output_type": "display_data"
    },
    {
     "data": {
      "text/html": [
       "<pre style=\"white-space:pre;overflow-x:auto;line-height:normal;font-family:Menlo,'DejaVu Sans Mono',consolas,'Courier New',monospace\">Market Return :  0.09%   |   Portfolio Return : -3.57%   |   Position Changes : 233   |   Episode Length : 1330   |\n",
       "</pre>\n"
      ],
      "text/plain": [
       "Market Return :  0.09%   |   Portfolio Return : -3.57%   |   Position Changes : 233   |   Episode Length : 1330   |\n"
      ]
     },
     "metadata": {},
     "output_type": "display_data"
    },
    {
     "data": {
      "text/html": [
       "<pre style=\"white-space:pre;overflow-x:auto;line-height:normal;font-family:Menlo,'DejaVu Sans Mono',consolas,'Courier New',monospace\">Market Return : -1.34%   |   Portfolio Return : -3.54%   |   Position Changes : 327   |   Episode Length : 1330   |\n",
       "</pre>\n"
      ],
      "text/plain": [
       "Market Return : -1.34%   |   Portfolio Return : -3.54%   |   Position Changes : 327   |   Episode Length : 1330   |\n"
      ]
     },
     "metadata": {},
     "output_type": "display_data"
    },
    {
     "data": {
      "text/html": [
       "<pre style=\"white-space:pre;overflow-x:auto;line-height:normal;font-family:Menlo,'DejaVu Sans Mono',consolas,'Courier New',monospace\">Market Return : -6.74%   |   Portfolio Return : -7.67%   |   Position Changes : 319   |   Episode Length : 1330   |\n",
       "</pre>\n"
      ],
      "text/plain": [
       "Market Return : -6.74%   |   Portfolio Return : -7.67%   |   Position Changes : 319   |   Episode Length : 1330   |\n"
      ]
     },
     "metadata": {},
     "output_type": "display_data"
    },
    {
     "data": {
      "text/html": [
       "<pre style=\"white-space:pre;overflow-x:auto;line-height:normal;font-family:Menlo,'DejaVu Sans Mono',consolas,'Courier New',monospace\">Market Return :  2.88%   |   Portfolio Return : -4.15%   |   Position Changes : 246   |   Episode Length : 1330   |\n",
       "</pre>\n"
      ],
      "text/plain": [
       "Market Return :  2.88%   |   Portfolio Return : -4.15%   |   Position Changes : 246   |   Episode Length : 1330   |\n"
      ]
     },
     "metadata": {},
     "output_type": "display_data"
    },
    {
     "data": {
      "text/html": [
       "<pre style=\"white-space:pre;overflow-x:auto;line-height:normal;font-family:Menlo,'DejaVu Sans Mono',consolas,'Courier New',monospace\">Market Return :  7.72%   |   Portfolio Return : -4.54%   |   Position Changes : 306   |   Episode Length : 1330   |\n",
       "</pre>\n"
      ],
      "text/plain": [
       "Market Return :  7.72%   |   Portfolio Return : -4.54%   |   Position Changes : 306   |   Episode Length : 1330   |\n"
      ]
     },
     "metadata": {},
     "output_type": "display_data"
    },
    {
     "data": {
      "text/html": [
       "<pre style=\"white-space:pre;overflow-x:auto;line-height:normal;font-family:Menlo,'DejaVu Sans Mono',consolas,'Courier New',monospace\">Market Return : -6.74%   |   Portfolio Return : -5.57%   |   Position Changes : 364   |   Episode Length : 1330   |\n",
       "</pre>\n"
      ],
      "text/plain": [
       "Market Return : -6.74%   |   Portfolio Return : -5.57%   |   Position Changes : 364   |   Episode Length : 1330   |\n"
      ]
     },
     "metadata": {},
     "output_type": "display_data"
    },
    {
     "data": {
      "text/html": [
       "<pre style=\"white-space:pre;overflow-x:auto;line-height:normal;font-family:Menlo,'DejaVu Sans Mono',consolas,'Courier New',monospace\">Market Return :  0.97%   |   Portfolio Return : -3.31%   |   Position Changes : 216   |   Episode Length : 1330   |\n",
       "</pre>\n"
      ],
      "text/plain": [
       "Market Return :  0.97%   |   Portfolio Return : -3.31%   |   Position Changes : 216   |   Episode Length : 1330   |\n"
      ]
     },
     "metadata": {},
     "output_type": "display_data"
    },
    {
     "data": {
      "text/html": [
       "<pre style=\"white-space:pre;overflow-x:auto;line-height:normal;font-family:Menlo,'DejaVu Sans Mono',consolas,'Courier New',monospace\">Market Return : -2.69%   |   Portfolio Return : -6.16%   |   Position Changes : 244   |   Episode Length : 1330   |\n",
       "</pre>\n"
      ],
      "text/plain": [
       "Market Return : -2.69%   |   Portfolio Return : -6.16%   |   Position Changes : 244   |   Episode Length : 1330   |\n"
      ]
     },
     "metadata": {},
     "output_type": "display_data"
    },
    {
     "data": {
      "text/html": [
       "<pre style=\"white-space:pre;overflow-x:auto;line-height:normal;font-family:Menlo,'DejaVu Sans Mono',consolas,'Courier New',monospace\">Market Return :  0.48%   |   Portfolio Return : -1.69%   |   Position Changes : 192   |   Episode Length : 1330   |\n",
       "</pre>\n"
      ],
      "text/plain": [
       "Market Return :  0.48%   |   Portfolio Return : -1.69%   |   Position Changes : 192   |   Episode Length : 1330   |\n"
      ]
     },
     "metadata": {},
     "output_type": "display_data"
    },
    {
     "data": {
      "text/html": [
       "<pre style=\"white-space:pre;overflow-x:auto;line-height:normal;font-family:Menlo,'DejaVu Sans Mono',consolas,'Courier New',monospace\">Market Return : -0.93%   |   Portfolio Return : -4.51%   |   Position Changes : 289   |   Episode Length : 1330   |\n",
       "</pre>\n"
      ],
      "text/plain": [
       "Market Return : -0.93%   |   Portfolio Return : -4.51%   |   Position Changes : 289   |   Episode Length : 1330   |\n"
      ]
     },
     "metadata": {},
     "output_type": "display_data"
    },
    {
     "data": {
      "text/html": [
       "<pre style=\"white-space:pre;overflow-x:auto;line-height:normal;font-family:Menlo,'DejaVu Sans Mono',consolas,'Courier New',monospace\">Market Return :  1.11%   |   Portfolio Return : -3.03%   |   Position Changes : 270   |   Episode Length : 1330   |\n",
       "</pre>\n"
      ],
      "text/plain": [
       "Market Return :  1.11%   |   Portfolio Return : -3.03%   |   Position Changes : 270   |   Episode Length : 1330   |\n"
      ]
     },
     "metadata": {},
     "output_type": "display_data"
    },
    {
     "data": {
      "text/html": [
       "<pre style=\"white-space:pre;overflow-x:auto;line-height:normal;font-family:Menlo,'DejaVu Sans Mono',consolas,'Courier New',monospace\">Market Return :  2.15%   |   Portfolio Return : -5.99%   |   Position Changes : 239   |   Episode Length : 1330   |\n",
       "</pre>\n"
      ],
      "text/plain": [
       "Market Return :  2.15%   |   Portfolio Return : -5.99%   |   Position Changes : 239   |   Episode Length : 1330   |\n"
      ]
     },
     "metadata": {},
     "output_type": "display_data"
    },
    {
     "data": {
      "text/html": [
       "<pre style=\"white-space:pre;overflow-x:auto;line-height:normal;font-family:Menlo,'DejaVu Sans Mono',consolas,'Courier New',monospace\">Market Return :  0.37%   |   Portfolio Return : -7.80%   |   Position Changes : 293   |   Episode Length : 1330   |\n",
       "</pre>\n"
      ],
      "text/plain": [
       "Market Return :  0.37%   |   Portfolio Return : -7.80%   |   Position Changes : 293   |   Episode Length : 1330   |\n"
      ]
     },
     "metadata": {},
     "output_type": "display_data"
    },
    {
     "data": {
      "text/html": [
       "<pre style=\"white-space:pre;overflow-x:auto;line-height:normal;font-family:Menlo,'DejaVu Sans Mono',consolas,'Courier New',monospace\">Market Return : -5.93%   |   Portfolio Return : -11.90%   |   Position Changes : 390   |   Episode Length : 1330   \n",
       "|   \n",
       "</pre>\n"
      ],
      "text/plain": [
       "Market Return : -5.93%   |   Portfolio Return : -11.90%   |   Position Changes : 390   |   Episode Length : 1330   \n",
       "|   \n"
      ]
     },
     "metadata": {},
     "output_type": "display_data"
    },
    {
     "data": {
      "text/html": [
       "<pre style=\"white-space:pre;overflow-x:auto;line-height:normal;font-family:Menlo,'DejaVu Sans Mono',consolas,'Courier New',monospace\">Market Return : -0.00%   |   Portfolio Return : -6.88%   |   Position Changes : 249   |   Episode Length : 1330   |\n",
       "</pre>\n"
      ],
      "text/plain": [
       "Market Return : -0.00%   |   Portfolio Return : -6.88%   |   Position Changes : 249   |   Episode Length : 1330   |\n"
      ]
     },
     "metadata": {},
     "output_type": "display_data"
    },
    {
     "data": {
      "text/html": [
       "<pre style=\"white-space:pre;overflow-x:auto;line-height:normal;font-family:Menlo,'DejaVu Sans Mono',consolas,'Courier New',monospace\">Market Return :  6.16%   |   Portfolio Return : -10.04%   |   Position Changes : 441   |   Episode Length : 1330   \n",
       "|   \n",
       "</pre>\n"
      ],
      "text/plain": [
       "Market Return :  6.16%   |   Portfolio Return : -10.04%   |   Position Changes : 441   |   Episode Length : 1330   \n",
       "|   \n"
      ]
     },
     "metadata": {},
     "output_type": "display_data"
    },
    {
     "data": {
      "text/html": [
       "<pre style=\"white-space:pre;overflow-x:auto;line-height:normal;font-family:Menlo,'DejaVu Sans Mono',consolas,'Courier New',monospace\">Market Return :  0.89%   |   Portfolio Return : -6.56%   |   Position Changes : 283   |   Episode Length : 1330   |\n",
       "</pre>\n"
      ],
      "text/plain": [
       "Market Return :  0.89%   |   Portfolio Return : -6.56%   |   Position Changes : 283   |   Episode Length : 1330   |\n"
      ]
     },
     "metadata": {},
     "output_type": "display_data"
    },
    {
     "data": {
      "text/html": [
       "<pre style=\"white-space:pre;overflow-x:auto;line-height:normal;font-family:Menlo,'DejaVu Sans Mono',consolas,'Courier New',monospace\">Market Return : -1.34%   |   Portfolio Return :  6.38%   |   Position Changes : 328   |   Episode Length : 1330   |\n",
       "</pre>\n"
      ],
      "text/plain": [
       "Market Return : -1.34%   |   Portfolio Return :  6.38%   |   Position Changes : 328   |   Episode Length : 1330   |\n"
      ]
     },
     "metadata": {},
     "output_type": "display_data"
    },
    {
     "data": {
      "text/html": [
       "<pre style=\"white-space:pre;overflow-x:auto;line-height:normal;font-family:Menlo,'DejaVu Sans Mono',consolas,'Courier New',monospace\">Market Return : -11.85%   |   Portfolio Return : -12.98%   |   Position Changes : 340   |   Episode Length : 1330  \n",
       "|   \n",
       "</pre>\n"
      ],
      "text/plain": [
       "Market Return : -11.85%   |   Portfolio Return : -12.98%   |   Position Changes : 340   |   Episode Length : 1330  \n",
       "|   \n"
      ]
     },
     "metadata": {},
     "output_type": "display_data"
    },
    {
     "data": {
      "text/html": [
       "<pre style=\"white-space:pre;overflow-x:auto;line-height:normal;font-family:Menlo,'DejaVu Sans Mono',consolas,'Courier New',monospace\">Market Return : -1.95%   |   Portfolio Return : -3.34%   |   Position Changes : 229   |   Episode Length : 1330   |\n",
       "</pre>\n"
      ],
      "text/plain": [
       "Market Return : -1.95%   |   Portfolio Return : -3.34%   |   Position Changes : 229   |   Episode Length : 1330   |\n"
      ]
     },
     "metadata": {},
     "output_type": "display_data"
    },
    {
     "data": {
      "text/html": [
       "<pre style=\"white-space:pre;overflow-x:auto;line-height:normal;font-family:Menlo,'DejaVu Sans Mono',consolas,'Courier New',monospace\">Market Return :  1.29%   |   Portfolio Return : -1.31%   |   Position Changes : 196   |   Episode Length : 1330   |\n",
       "</pre>\n"
      ],
      "text/plain": [
       "Market Return :  1.29%   |   Portfolio Return : -1.31%   |   Position Changes : 196   |   Episode Length : 1330   |\n"
      ]
     },
     "metadata": {},
     "output_type": "display_data"
    },
    {
     "data": {
      "text/html": [
       "<pre style=\"white-space:pre;overflow-x:auto;line-height:normal;font-family:Menlo,'DejaVu Sans Mono',consolas,'Courier New',monospace\">Market Return : -0.94%   |   Portfolio Return : -3.95%   |   Position Changes : 210   |   Episode Length : 1330   |\n",
       "</pre>\n"
      ],
      "text/plain": [
       "Market Return : -0.94%   |   Portfolio Return : -3.95%   |   Position Changes : 210   |   Episode Length : 1330   |\n"
      ]
     },
     "metadata": {},
     "output_type": "display_data"
    },
    {
     "data": {
      "text/html": [
       "<pre style=\"white-space:pre;overflow-x:auto;line-height:normal;font-family:Menlo,'DejaVu Sans Mono',consolas,'Courier New',monospace\">Market Return :  8.36%   |   Portfolio Return : -7.00%   |   Position Changes : 377   |   Episode Length : 1330   |\n",
       "</pre>\n"
      ],
      "text/plain": [
       "Market Return :  8.36%   |   Portfolio Return : -7.00%   |   Position Changes : 377   |   Episode Length : 1330   |\n"
      ]
     },
     "metadata": {},
     "output_type": "display_data"
    },
    {
     "data": {
      "text/html": [
       "<pre style=\"white-space:pre;overflow-x:auto;line-height:normal;font-family:Menlo,'DejaVu Sans Mono',consolas,'Courier New',monospace\">Market Return :  0.63%   |   Portfolio Return :  0.71%   |   Position Changes : 258   |   Episode Length : 1330   |\n",
       "</pre>\n"
      ],
      "text/plain": [
       "Market Return :  0.63%   |   Portfolio Return :  0.71%   |   Position Changes : 258   |   Episode Length : 1330   |\n"
      ]
     },
     "metadata": {},
     "output_type": "display_data"
    },
    {
     "data": {
      "text/html": [
       "<pre style=\"white-space:pre;overflow-x:auto;line-height:normal;font-family:Menlo,'DejaVu Sans Mono',consolas,'Courier New',monospace\">Market Return : -0.43%   |   Portfolio Return : -8.30%   |   Position Changes : 285   |   Episode Length : 1330   |\n",
       "</pre>\n"
      ],
      "text/plain": [
       "Market Return : -0.43%   |   Portfolio Return : -8.30%   |   Position Changes : 285   |   Episode Length : 1330   |\n"
      ]
     },
     "metadata": {},
     "output_type": "display_data"
    },
    {
     "data": {
      "text/html": [
       "<pre style=\"white-space:pre;overflow-x:auto;line-height:normal;font-family:Menlo,'DejaVu Sans Mono',consolas,'Courier New',monospace\">Market Return : -0.53%   |   Portfolio Return :  0.36%   |   Position Changes : 268   |   Episode Length : 1330   |\n",
       "</pre>\n"
      ],
      "text/plain": [
       "Market Return : -0.53%   |   Portfolio Return :  0.36%   |   Position Changes : 268   |   Episode Length : 1330   |\n"
      ]
     },
     "metadata": {},
     "output_type": "display_data"
    },
    {
     "data": {
      "text/html": [
       "<pre style=\"white-space:pre;overflow-x:auto;line-height:normal;font-family:Menlo,'DejaVu Sans Mono',consolas,'Courier New',monospace\">Market Return : -5.84%   |   Portfolio Return : -7.16%   |   Position Changes : 285   |   Episode Length : 1330   |\n",
       "</pre>\n"
      ],
      "text/plain": [
       "Market Return : -5.84%   |   Portfolio Return : -7.16%   |   Position Changes : 285   |   Episode Length : 1330   |\n"
      ]
     },
     "metadata": {},
     "output_type": "display_data"
    },
    {
     "data": {
      "text/html": [
       "<pre style=\"white-space:pre;overflow-x:auto;line-height:normal;font-family:Menlo,'DejaVu Sans Mono',consolas,'Courier New',monospace\">Market Return :  2.48%   |   Portfolio Return : -5.07%   |   Position Changes : 294   |   Episode Length : 1330   |\n",
       "</pre>\n"
      ],
      "text/plain": [
       "Market Return :  2.48%   |   Portfolio Return : -5.07%   |   Position Changes : 294   |   Episode Length : 1330   |\n"
      ]
     },
     "metadata": {},
     "output_type": "display_data"
    },
    {
     "data": {
      "text/html": [
       "<pre style=\"white-space:pre;overflow-x:auto;line-height:normal;font-family:Menlo,'DejaVu Sans Mono',consolas,'Courier New',monospace\">Market Return : -1.26%   |   Portfolio Return : -5.13%   |   Position Changes : 262   |   Episode Length : 1330   |\n",
       "</pre>\n"
      ],
      "text/plain": [
       "Market Return : -1.26%   |   Portfolio Return : -5.13%   |   Position Changes : 262   |   Episode Length : 1330   |\n"
      ]
     },
     "metadata": {},
     "output_type": "display_data"
    },
    {
     "data": {
      "text/html": [
       "<pre style=\"white-space:pre;overflow-x:auto;line-height:normal;font-family:Menlo,'DejaVu Sans Mono',consolas,'Courier New',monospace\">Market Return : -1.04%   |   Portfolio Return : -3.50%   |   Position Changes : 421   |   Episode Length : 1330   |\n",
       "</pre>\n"
      ],
      "text/plain": [
       "Market Return : -1.04%   |   Portfolio Return : -3.50%   |   Position Changes : 421   |   Episode Length : 1330   |\n"
      ]
     },
     "metadata": {},
     "output_type": "display_data"
    },
    {
     "data": {
      "text/html": [
       "<pre style=\"white-space:pre;overflow-x:auto;line-height:normal;font-family:Menlo,'DejaVu Sans Mono',consolas,'Courier New',monospace\">Market Return :  3.39%   |   Portfolio Return : -5.80%   |   Position Changes : 297   |   Episode Length : 1330   |\n",
       "</pre>\n"
      ],
      "text/plain": [
       "Market Return :  3.39%   |   Portfolio Return : -5.80%   |   Position Changes : 297   |   Episode Length : 1330   |\n"
      ]
     },
     "metadata": {},
     "output_type": "display_data"
    },
    {
     "data": {
      "text/html": [
       "<pre style=\"white-space:pre;overflow-x:auto;line-height:normal;font-family:Menlo,'DejaVu Sans Mono',consolas,'Courier New',monospace\">Market Return : 11.88%   |   Portfolio Return : 10.23%   |   Position Changes : 424   |   Episode Length : 1330   |\n",
       "</pre>\n"
      ],
      "text/plain": [
       "Market Return : 11.88%   |   Portfolio Return : 10.23%   |   Position Changes : 424   |   Episode Length : 1330   |\n"
      ]
     },
     "metadata": {},
     "output_type": "display_data"
    },
    {
     "data": {
      "text/html": [
       "<pre style=\"white-space:pre;overflow-x:auto;line-height:normal;font-family:Menlo,'DejaVu Sans Mono',consolas,'Courier New',monospace\">Market Return :  2.15%   |   Portfolio Return : -5.28%   |   Position Changes : 247   |   Episode Length : 1330   |\n",
       "</pre>\n"
      ],
      "text/plain": [
       "Market Return :  2.15%   |   Portfolio Return : -5.28%   |   Position Changes : 247   |   Episode Length : 1330   |\n"
      ]
     },
     "metadata": {},
     "output_type": "display_data"
    },
    {
     "data": {
      "text/html": [
       "<pre style=\"white-space:pre;overflow-x:auto;line-height:normal;font-family:Menlo,'DejaVu Sans Mono',consolas,'Courier New',monospace\">Market Return : -4.07%   |   Portfolio Return : -7.12%   |   Position Changes : 289   |   Episode Length : 1330   |\n",
       "</pre>\n"
      ],
      "text/plain": [
       "Market Return : -4.07%   |   Portfolio Return : -7.12%   |   Position Changes : 289   |   Episode Length : 1330   |\n"
      ]
     },
     "metadata": {},
     "output_type": "display_data"
    },
    {
     "data": {
      "text/html": [
       "<pre style=\"white-space:pre;overflow-x:auto;line-height:normal;font-family:Menlo,'DejaVu Sans Mono',consolas,'Courier New',monospace\">Market Return :  0.15%   |   Portfolio Return : -3.38%   |   Position Changes : 236   |   Episode Length : 1330   |\n",
       "</pre>\n"
      ],
      "text/plain": [
       "Market Return :  0.15%   |   Portfolio Return : -3.38%   |   Position Changes : 236   |   Episode Length : 1330   |\n"
      ]
     },
     "metadata": {},
     "output_type": "display_data"
    },
    {
     "data": {
      "text/html": [
       "<pre style=\"white-space:pre;overflow-x:auto;line-height:normal;font-family:Menlo,'DejaVu Sans Mono',consolas,'Courier New',monospace\">Market Return : -2.40%   |   Portfolio Return : -4.45%   |   Position Changes : 312   |   Episode Length : 1330   |\n",
       "</pre>\n"
      ],
      "text/plain": [
       "Market Return : -2.40%   |   Portfolio Return : -4.45%   |   Position Changes : 312   |   Episode Length : 1330   |\n"
      ]
     },
     "metadata": {},
     "output_type": "display_data"
    },
    {
     "data": {
      "text/html": [
       "<pre style=\"white-space:pre;overflow-x:auto;line-height:normal;font-family:Menlo,'DejaVu Sans Mono',consolas,'Courier New',monospace\">Market Return : -0.41%   |   Portfolio Return : -5.31%   |   Position Changes : 243   |   Episode Length : 1330   |\n",
       "</pre>\n"
      ],
      "text/plain": [
       "Market Return : -0.41%   |   Portfolio Return : -5.31%   |   Position Changes : 243   |   Episode Length : 1330   |\n"
      ]
     },
     "metadata": {},
     "output_type": "display_data"
    },
    {
     "data": {
      "text/html": [
       "<pre style=\"white-space:pre;overflow-x:auto;line-height:normal;font-family:Menlo,'DejaVu Sans Mono',consolas,'Courier New',monospace\">Market Return :  1.45%   |   Portfolio Return : -5.91%   |   Position Changes : 231   |   Episode Length : 1330   |\n",
       "</pre>\n"
      ],
      "text/plain": [
       "Market Return :  1.45%   |   Portfolio Return : -5.91%   |   Position Changes : 231   |   Episode Length : 1330   |\n"
      ]
     },
     "metadata": {},
     "output_type": "display_data"
    },
    {
     "data": {
      "text/html": [
       "<pre style=\"white-space:pre;overflow-x:auto;line-height:normal;font-family:Menlo,'DejaVu Sans Mono',consolas,'Courier New',monospace\">Market Return :  3.47%   |   Portfolio Return : -7.24%   |   Position Changes : 281   |   Episode Length : 1330   |\n",
       "</pre>\n"
      ],
      "text/plain": [
       "Market Return :  3.47%   |   Portfolio Return : -7.24%   |   Position Changes : 281   |   Episode Length : 1330   |\n"
      ]
     },
     "metadata": {},
     "output_type": "display_data"
    },
    {
     "data": {
      "text/html": [
       "<pre style=\"white-space:pre;overflow-x:auto;line-height:normal;font-family:Menlo,'DejaVu Sans Mono',consolas,'Courier New',monospace\">Market Return :  1.30%   |   Portfolio Return : -0.68%   |   Position Changes : 397   |   Episode Length : 1330   |\n",
       "</pre>\n"
      ],
      "text/plain": [
       "Market Return :  1.30%   |   Portfolio Return : -0.68%   |   Position Changes : 397   |   Episode Length : 1330   |\n"
      ]
     },
     "metadata": {},
     "output_type": "display_data"
    },
    {
     "data": {
      "text/html": [
       "<pre style=\"white-space:pre;overflow-x:auto;line-height:normal;font-family:Menlo,'DejaVu Sans Mono',consolas,'Courier New',monospace\">Market Return : -0.56%   |   Portfolio Return : -3.77%   |   Position Changes : 204   |   Episode Length : 1330   |\n",
       "</pre>\n"
      ],
      "text/plain": [
       "Market Return : -0.56%   |   Portfolio Return : -3.77%   |   Position Changes : 204   |   Episode Length : 1330   |\n"
      ]
     },
     "metadata": {},
     "output_type": "display_data"
    },
    {
     "data": {
      "text/html": [
       "<pre style=\"white-space:pre;overflow-x:auto;line-height:normal;font-family:Menlo,'DejaVu Sans Mono',consolas,'Courier New',monospace\">Market Return :  5.34%   |   Portfolio Return : -6.38%   |   Position Changes : 275   |   Episode Length : 1330   |\n",
       "</pre>\n"
      ],
      "text/plain": [
       "Market Return :  5.34%   |   Portfolio Return : -6.38%   |   Position Changes : 275   |   Episode Length : 1330   |\n"
      ]
     },
     "metadata": {},
     "output_type": "display_data"
    },
    {
     "data": {
      "text/html": [
       "<pre style=\"white-space:pre;overflow-x:auto;line-height:normal;font-family:Menlo,'DejaVu Sans Mono',consolas,'Courier New',monospace\">Market Return :  0.63%   |   Portfolio Return : -1.34%   |   Position Changes : 294   |   Episode Length : 1330   |\n",
       "</pre>\n"
      ],
      "text/plain": [
       "Market Return :  0.63%   |   Portfolio Return : -1.34%   |   Position Changes : 294   |   Episode Length : 1330   |\n"
      ]
     },
     "metadata": {},
     "output_type": "display_data"
    },
    {
     "data": {
      "text/html": [
       "<pre style=\"white-space:pre;overflow-x:auto;line-height:normal;font-family:Menlo,'DejaVu Sans Mono',consolas,'Courier New',monospace\">Market Return :  0.08%   |   Portfolio Return : -3.86%   |   Position Changes : 260   |   Episode Length : 1330   |\n",
       "</pre>\n"
      ],
      "text/plain": [
       "Market Return :  0.08%   |   Portfolio Return : -3.86%   |   Position Changes : 260   |   Episode Length : 1330   |\n"
      ]
     },
     "metadata": {},
     "output_type": "display_data"
    },
    {
     "data": {
      "text/html": [
       "<pre style=\"white-space:pre;overflow-x:auto;line-height:normal;font-family:Menlo,'DejaVu Sans Mono',consolas,'Courier New',monospace\">Market Return : -2.75%   |   Portfolio Return : -8.73%   |   Position Changes : 404   |   Episode Length : 1330   |\n",
       "</pre>\n"
      ],
      "text/plain": [
       "Market Return : -2.75%   |   Portfolio Return : -8.73%   |   Position Changes : 404   |   Episode Length : 1330   |\n"
      ]
     },
     "metadata": {},
     "output_type": "display_data"
    },
    {
     "data": {
      "text/html": [
       "<pre style=\"white-space:pre;overflow-x:auto;line-height:normal;font-family:Menlo,'DejaVu Sans Mono',consolas,'Courier New',monospace\">Market Return :  0.62%   |   Portfolio Return : -13.95%   |   Position Changes : 339   |   Episode Length : 1330   \n",
       "|   \n",
       "</pre>\n"
      ],
      "text/plain": [
       "Market Return :  0.62%   |   Portfolio Return : -13.95%   |   Position Changes : 339   |   Episode Length : 1330   \n",
       "|   \n"
      ]
     },
     "metadata": {},
     "output_type": "display_data"
    },
    {
     "data": {
      "text/html": [
       "<pre style=\"white-space:pre;overflow-x:auto;line-height:normal;font-family:Menlo,'DejaVu Sans Mono',consolas,'Courier New',monospace\">Market Return :  0.54%   |   Portfolio Return : -6.20%   |   Position Changes : 233   |   Episode Length : 1330   |\n",
       "</pre>\n"
      ],
      "text/plain": [
       "Market Return :  0.54%   |   Portfolio Return : -6.20%   |   Position Changes : 233   |   Episode Length : 1330   |\n"
      ]
     },
     "metadata": {},
     "output_type": "display_data"
    },
    {
     "data": {
      "text/html": [
       "<pre style=\"white-space:pre;overflow-x:auto;line-height:normal;font-family:Menlo,'DejaVu Sans Mono',consolas,'Courier New',monospace\">Market Return :  2.35%   |   Portfolio Return : -4.91%   |   Position Changes : 308   |   Episode Length : 1330   |\n",
       "</pre>\n"
      ],
      "text/plain": [
       "Market Return :  2.35%   |   Portfolio Return : -4.91%   |   Position Changes : 308   |   Episode Length : 1330   |\n"
      ]
     },
     "metadata": {},
     "output_type": "display_data"
    },
    {
     "data": {
      "text/html": [
       "<pre style=\"white-space:pre;overflow-x:auto;line-height:normal;font-family:Menlo,'DejaVu Sans Mono',consolas,'Courier New',monospace\">Market Return : -5.26%   |   Portfolio Return : -5.47%   |   Position Changes : 352   |   Episode Length : 1330   |\n",
       "</pre>\n"
      ],
      "text/plain": [
       "Market Return : -5.26%   |   Portfolio Return : -5.47%   |   Position Changes : 352   |   Episode Length : 1330   |\n"
      ]
     },
     "metadata": {},
     "output_type": "display_data"
    },
    {
     "data": {
      "text/html": [
       "<pre style=\"white-space:pre;overflow-x:auto;line-height:normal;font-family:Menlo,'DejaVu Sans Mono',consolas,'Courier New',monospace\">Market Return :  1.99%   |   Portfolio Return : -7.00%   |   Position Changes : 269   |   Episode Length : 1330   |\n",
       "</pre>\n"
      ],
      "text/plain": [
       "Market Return :  1.99%   |   Portfolio Return : -7.00%   |   Position Changes : 269   |   Episode Length : 1330   |\n"
      ]
     },
     "metadata": {},
     "output_type": "display_data"
    },
    {
     "data": {
      "text/html": [
       "<pre style=\"white-space:pre;overflow-x:auto;line-height:normal;font-family:Menlo,'DejaVu Sans Mono',consolas,'Courier New',monospace\">Market Return :  1.44%   |   Portfolio Return : -8.61%   |   Position Changes : 306   |   Episode Length : 1330   |\n",
       "</pre>\n"
      ],
      "text/plain": [
       "Market Return :  1.44%   |   Portfolio Return : -8.61%   |   Position Changes : 306   |   Episode Length : 1330   |\n"
      ]
     },
     "metadata": {},
     "output_type": "display_data"
    },
    {
     "data": {
      "text/html": [
       "<pre style=\"white-space:pre;overflow-x:auto;line-height:normal;font-family:Menlo,'DejaVu Sans Mono',consolas,'Courier New',monospace\">Market Return : -2.80%   |   Portfolio Return : -19.93%   |   Position Changes : 622   |   Episode Length : 1330   \n",
       "|   \n",
       "</pre>\n"
      ],
      "text/plain": [
       "Market Return : -2.80%   |   Portfolio Return : -19.93%   |   Position Changes : 622   |   Episode Length : 1330   \n",
       "|   \n"
      ]
     },
     "metadata": {},
     "output_type": "display_data"
    },
    {
     "data": {
      "text/html": [
       "<pre style=\"white-space:pre;overflow-x:auto;line-height:normal;font-family:Menlo,'DejaVu Sans Mono',consolas,'Courier New',monospace\">Market Return : -4.66%   |   Portfolio Return :  2.75%   |   Position Changes : 279   |   Episode Length : 1330   |\n",
       "</pre>\n"
      ],
      "text/plain": [
       "Market Return : -4.66%   |   Portfolio Return :  2.75%   |   Position Changes : 279   |   Episode Length : 1330   |\n"
      ]
     },
     "metadata": {},
     "output_type": "display_data"
    },
    {
     "data": {
      "text/html": [
       "<pre style=\"white-space:pre;overflow-x:auto;line-height:normal;font-family:Menlo,'DejaVu Sans Mono',consolas,'Courier New',monospace\">Market Return :  0.61%   |   Portfolio Return : -4.29%   |   Position Changes : 229   |   Episode Length : 1330   |\n",
       "</pre>\n"
      ],
      "text/plain": [
       "Market Return :  0.61%   |   Portfolio Return : -4.29%   |   Position Changes : 229   |   Episode Length : 1330   |\n"
      ]
     },
     "metadata": {},
     "output_type": "display_data"
    },
    {
     "data": {
      "text/html": [
       "<pre style=\"white-space:pre;overflow-x:auto;line-height:normal;font-family:Menlo,'DejaVu Sans Mono',consolas,'Courier New',monospace\">Market Return :  5.92%   |   Portfolio Return : -1.58%   |   Position Changes : 278   |   Episode Length : 1330   |\n",
       "</pre>\n"
      ],
      "text/plain": [
       "Market Return :  5.92%   |   Portfolio Return : -1.58%   |   Position Changes : 278   |   Episode Length : 1330   |\n"
      ]
     },
     "metadata": {},
     "output_type": "display_data"
    },
    {
     "data": {
      "text/html": [
       "<pre style=\"white-space:pre;overflow-x:auto;line-height:normal;font-family:Menlo,'DejaVu Sans Mono',consolas,'Courier New',monospace\">Market Return :  1.06%   |   Portfolio Return : -3.31%   |   Position Changes : 201   |   Episode Length : 1330   |\n",
       "</pre>\n"
      ],
      "text/plain": [
       "Market Return :  1.06%   |   Portfolio Return : -3.31%   |   Position Changes : 201   |   Episode Length : 1330   |\n"
      ]
     },
     "metadata": {},
     "output_type": "display_data"
    },
    {
     "data": {
      "text/html": [
       "<pre style=\"white-space:pre;overflow-x:auto;line-height:normal;font-family:Menlo,'DejaVu Sans Mono',consolas,'Courier New',monospace\">Market Return : -0.45%   |   Portfolio Return : -3.12%   |   Position Changes : 239   |   Episode Length : 1330   |\n",
       "</pre>\n"
      ],
      "text/plain": [
       "Market Return : -0.45%   |   Portfolio Return : -3.12%   |   Position Changes : 239   |   Episode Length : 1330   |\n"
      ]
     },
     "metadata": {},
     "output_type": "display_data"
    },
    {
     "data": {
      "text/html": [
       "<pre style=\"white-space:pre;overflow-x:auto;line-height:normal;font-family:Menlo,'DejaVu Sans Mono',consolas,'Courier New',monospace\">Market Return : -0.59%   |   Portfolio Return : -13.07%   |   Position Changes : 305   |   Episode Length : 1330   \n",
       "|   \n",
       "</pre>\n"
      ],
      "text/plain": [
       "Market Return : -0.59%   |   Portfolio Return : -13.07%   |   Position Changes : 305   |   Episode Length : 1330   \n",
       "|   \n"
      ]
     },
     "metadata": {},
     "output_type": "display_data"
    },
    {
     "data": {
      "text/html": [
       "<pre style=\"white-space:pre;overflow-x:auto;line-height:normal;font-family:Menlo,'DejaVu Sans Mono',consolas,'Courier New',monospace\">Market Return : -0.32%   |   Portfolio Return : -3.34%   |   Position Changes : 249   |   Episode Length : 1330   |\n",
       "</pre>\n"
      ],
      "text/plain": [
       "Market Return : -0.32%   |   Portfolio Return : -3.34%   |   Position Changes : 249   |   Episode Length : 1330   |\n"
      ]
     },
     "metadata": {},
     "output_type": "display_data"
    },
    {
     "data": {
      "text/html": [
       "<pre style=\"white-space:pre;overflow-x:auto;line-height:normal;font-family:Menlo,'DejaVu Sans Mono',consolas,'Courier New',monospace\">Market Return : -1.16%   |   Portfolio Return : -3.01%   |   Position Changes : 263   |   Episode Length : 1330   |\n",
       "</pre>\n"
      ],
      "text/plain": [
       "Market Return : -1.16%   |   Portfolio Return : -3.01%   |   Position Changes : 263   |   Episode Length : 1330   |\n"
      ]
     },
     "metadata": {},
     "output_type": "display_data"
    },
    {
     "data": {
      "text/html": [
       "<pre style=\"white-space:pre;overflow-x:auto;line-height:normal;font-family:Menlo,'DejaVu Sans Mono',consolas,'Courier New',monospace\">Market Return :  0.68%   |   Portfolio Return : -5.80%   |   Position Changes : 222   |   Episode Length : 1330   |\n",
       "</pre>\n"
      ],
      "text/plain": [
       "Market Return :  0.68%   |   Portfolio Return : -5.80%   |   Position Changes : 222   |   Episode Length : 1330   |\n"
      ]
     },
     "metadata": {},
     "output_type": "display_data"
    },
    {
     "data": {
      "text/html": [
       "<pre style=\"white-space:pre;overflow-x:auto;line-height:normal;font-family:Menlo,'DejaVu Sans Mono',consolas,'Courier New',monospace\">Market Return :  0.12%   |   Portfolio Return : -3.71%   |   Position Changes : 281   |   Episode Length : 1330   |\n",
       "</pre>\n"
      ],
      "text/plain": [
       "Market Return :  0.12%   |   Portfolio Return : -3.71%   |   Position Changes : 281   |   Episode Length : 1330   |\n"
      ]
     },
     "metadata": {},
     "output_type": "display_data"
    },
    {
     "data": {
      "text/html": [
       "<pre style=\"white-space:pre;overflow-x:auto;line-height:normal;font-family:Menlo,'DejaVu Sans Mono',consolas,'Courier New',monospace\">Market Return : -0.30%   |   Portfolio Return : -4.81%   |   Position Changes : 276   |   Episode Length : 1330   |\n",
       "</pre>\n"
      ],
      "text/plain": [
       "Market Return : -0.30%   |   Portfolio Return : -4.81%   |   Position Changes : 276   |   Episode Length : 1330   |\n"
      ]
     },
     "metadata": {},
     "output_type": "display_data"
    },
    {
     "data": {
      "text/html": [
       "<pre style=\"white-space:pre;overflow-x:auto;line-height:normal;font-family:Menlo,'DejaVu Sans Mono',consolas,'Courier New',monospace\">Market Return :  0.26%   |   Portfolio Return : -4.06%   |   Position Changes : 274   |   Episode Length : 1330   |\n",
       "</pre>\n"
      ],
      "text/plain": [
       "Market Return :  0.26%   |   Portfolio Return : -4.06%   |   Position Changes : 274   |   Episode Length : 1330   |\n"
      ]
     },
     "metadata": {},
     "output_type": "display_data"
    },
    {
     "data": {
      "text/html": [
       "<pre style=\"white-space:pre;overflow-x:auto;line-height:normal;font-family:Menlo,'DejaVu Sans Mono',consolas,'Courier New',monospace\">Market Return :  0.33%   |   Portfolio Return : -8.26%   |   Position Changes : 304   |   Episode Length : 1330   |\n",
       "</pre>\n"
      ],
      "text/plain": [
       "Market Return :  0.33%   |   Portfolio Return : -8.26%   |   Position Changes : 304   |   Episode Length : 1330   |\n"
      ]
     },
     "metadata": {},
     "output_type": "display_data"
    },
    {
     "data": {
      "text/html": [
       "<pre style=\"white-space:pre;overflow-x:auto;line-height:normal;font-family:Menlo,'DejaVu Sans Mono',consolas,'Courier New',monospace\">Market Return : -0.09%   |   Portfolio Return : -5.92%   |   Position Changes : 240   |   Episode Length : 1330   |\n",
       "</pre>\n"
      ],
      "text/plain": [
       "Market Return : -0.09%   |   Portfolio Return : -5.92%   |   Position Changes : 240   |   Episode Length : 1330   |\n"
      ]
     },
     "metadata": {},
     "output_type": "display_data"
    },
    {
     "data": {
      "text/html": [
       "<pre style=\"white-space:pre;overflow-x:auto;line-height:normal;font-family:Menlo,'DejaVu Sans Mono',consolas,'Courier New',monospace\">Market Return : -2.59%   |   Portfolio Return : -4.95%   |   Position Changes : 318   |   Episode Length : 1330   |\n",
       "</pre>\n"
      ],
      "text/plain": [
       "Market Return : -2.59%   |   Portfolio Return : -4.95%   |   Position Changes : 318   |   Episode Length : 1330   |\n"
      ]
     },
     "metadata": {},
     "output_type": "display_data"
    },
    {
     "data": {
      "text/html": [
       "<pre style=\"white-space:pre;overflow-x:auto;line-height:normal;font-family:Menlo,'DejaVu Sans Mono',consolas,'Courier New',monospace\">Market Return : -0.40%   |   Portfolio Return : -5.79%   |   Position Changes : 261   |   Episode Length : 1330   |\n",
       "</pre>\n"
      ],
      "text/plain": [
       "Market Return : -0.40%   |   Portfolio Return : -5.79%   |   Position Changes : 261   |   Episode Length : 1330   |\n"
      ]
     },
     "metadata": {},
     "output_type": "display_data"
    },
    {
     "data": {
      "text/html": [
       "<pre style=\"white-space:pre;overflow-x:auto;line-height:normal;font-family:Menlo,'DejaVu Sans Mono',consolas,'Courier New',monospace\">Market Return :  8.30%   |   Portfolio Return : -1.27%   |   Position Changes : 305   |   Episode Length : 1330   |\n",
       "</pre>\n"
      ],
      "text/plain": [
       "Market Return :  8.30%   |   Portfolio Return : -1.27%   |   Position Changes : 305   |   Episode Length : 1330   |\n"
      ]
     },
     "metadata": {},
     "output_type": "display_data"
    },
    {
     "data": {
      "text/html": [
       "<pre style=\"white-space:pre;overflow-x:auto;line-height:normal;font-family:Menlo,'DejaVu Sans Mono',consolas,'Courier New',monospace\">Market Return :  1.32%   |   Portfolio Return : -6.41%   |   Position Changes : 233   |   Episode Length : 1330   |\n",
       "</pre>\n"
      ],
      "text/plain": [
       "Market Return :  1.32%   |   Portfolio Return : -6.41%   |   Position Changes : 233   |   Episode Length : 1330   |\n"
      ]
     },
     "metadata": {},
     "output_type": "display_data"
    },
    {
     "data": {
      "text/html": [
       "<pre style=\"white-space:pre;overflow-x:auto;line-height:normal;font-family:Menlo,'DejaVu Sans Mono',consolas,'Courier New',monospace\">Market Return :  5.98%   |   Portfolio Return : -3.53%   |   Position Changes : 263   |   Episode Length : 1270   |\n",
       "</pre>\n"
      ],
      "text/plain": [
       "Market Return :  5.98%   |   Portfolio Return : -3.53%   |   Position Changes : 263   |   Episode Length : 1270   |\n"
      ]
     },
     "metadata": {},
     "output_type": "display_data"
    },
    {
     "data": {
      "text/html": [
       "<pre style=\"white-space:pre;overflow-x:auto;line-height:normal;font-family:Menlo,'DejaVu Sans Mono',consolas,'Courier New',monospace\">Market Return : -0.47%   |   Portfolio Return : -2.47%   |   Position Changes : 457   |   Episode Length : 1330   |\n",
       "</pre>\n"
      ],
      "text/plain": [
       "Market Return : -0.47%   |   Portfolio Return : -2.47%   |   Position Changes : 457   |   Episode Length : 1330   |\n"
      ]
     },
     "metadata": {},
     "output_type": "display_data"
    },
    {
     "data": {
      "text/html": [
       "<pre style=\"white-space:pre;overflow-x:auto;line-height:normal;font-family:Menlo,'DejaVu Sans Mono',consolas,'Courier New',monospace\">Market Return : -2.75%   |   Portfolio Return :  0.31%   |   Position Changes : 336   |   Episode Length : 1330   |\n",
       "</pre>\n"
      ],
      "text/plain": [
       "Market Return : -2.75%   |   Portfolio Return :  0.31%   |   Position Changes : 336   |   Episode Length : 1330   |\n"
      ]
     },
     "metadata": {},
     "output_type": "display_data"
    },
    {
     "data": {
      "text/html": [
       "<pre style=\"white-space:pre;overflow-x:auto;line-height:normal;font-family:Menlo,'DejaVu Sans Mono',consolas,'Courier New',monospace\">Market Return : -9.85%   |   Portfolio Return : -6.70%   |   Position Changes : 440   |   Episode Length : 1330   |\n",
       "</pre>\n"
      ],
      "text/plain": [
       "Market Return : -9.85%   |   Portfolio Return : -6.70%   |   Position Changes : 440   |   Episode Length : 1330   |\n"
      ]
     },
     "metadata": {},
     "output_type": "display_data"
    },
    {
     "data": {
      "text/html": [
       "<pre style=\"white-space:pre;overflow-x:auto;line-height:normal;font-family:Menlo,'DejaVu Sans Mono',consolas,'Courier New',monospace\">Market Return :  4.28%   |   Portfolio Return :  0.67%   |   Position Changes : 280   |   Episode Length : 1330   |\n",
       "</pre>\n"
      ],
      "text/plain": [
       "Market Return :  4.28%   |   Portfolio Return :  0.67%   |   Position Changes : 280   |   Episode Length : 1330   |\n"
      ]
     },
     "metadata": {},
     "output_type": "display_data"
    },
    {
     "data": {
      "text/html": [
       "<pre style=\"white-space:pre;overflow-x:auto;line-height:normal;font-family:Menlo,'DejaVu Sans Mono',consolas,'Courier New',monospace\">Market Return :  2.91%   |   Portfolio Return :  0.80%   |   Position Changes : 302   |   Episode Length : 1330   |\n",
       "</pre>\n"
      ],
      "text/plain": [
       "Market Return :  2.91%   |   Portfolio Return :  0.80%   |   Position Changes : 302   |   Episode Length : 1330   |\n"
      ]
     },
     "metadata": {},
     "output_type": "display_data"
    },
    {
     "data": {
      "text/html": [
       "<pre style=\"white-space:pre;overflow-x:auto;line-height:normal;font-family:Menlo,'DejaVu Sans Mono',consolas,'Courier New',monospace\">Market Return :  1.24%   |   Portfolio Return : -3.40%   |   Position Changes : 260   |   Episode Length : 1330   |\n",
       "</pre>\n"
      ],
      "text/plain": [
       "Market Return :  1.24%   |   Portfolio Return : -3.40%   |   Position Changes : 260   |   Episode Length : 1330   |\n"
      ]
     },
     "metadata": {},
     "output_type": "display_data"
    },
    {
     "data": {
      "text/html": [
       "<pre style=\"white-space:pre;overflow-x:auto;line-height:normal;font-family:Menlo,'DejaVu Sans Mono',consolas,'Courier New',monospace\">Market Return : -0.10%   |   Portfolio Return : -5.41%   |   Position Changes : 255   |   Episode Length : 1330   |\n",
       "</pre>\n"
      ],
      "text/plain": [
       "Market Return : -0.10%   |   Portfolio Return : -5.41%   |   Position Changes : 255   |   Episode Length : 1330   |\n"
      ]
     },
     "metadata": {},
     "output_type": "display_data"
    },
    {
     "data": {
      "text/html": [
       "<pre style=\"white-space:pre;overflow-x:auto;line-height:normal;font-family:Menlo,'DejaVu Sans Mono',consolas,'Courier New',monospace\">Market Return :  3.43%   |   Portfolio Return : -2.83%   |   Position Changes : 284   |   Episode Length : 1330   |\n",
       "</pre>\n"
      ],
      "text/plain": [
       "Market Return :  3.43%   |   Portfolio Return : -2.83%   |   Position Changes : 284   |   Episode Length : 1330   |\n"
      ]
     },
     "metadata": {},
     "output_type": "display_data"
    },
    {
     "data": {
      "text/html": [
       "<pre style=\"white-space:pre;overflow-x:auto;line-height:normal;font-family:Menlo,'DejaVu Sans Mono',consolas,'Courier New',monospace\">Market Return : -9.02%   |   Portfolio Return : -17.34%   |   Position Changes : 471   |   Episode Length : 1330   \n",
       "|   \n",
       "</pre>\n"
      ],
      "text/plain": [
       "Market Return : -9.02%   |   Portfolio Return : -17.34%   |   Position Changes : 471   |   Episode Length : 1330   \n",
       "|   \n"
      ]
     },
     "metadata": {},
     "output_type": "display_data"
    },
    {
     "data": {
      "text/html": [
       "<pre style=\"white-space:pre;overflow-x:auto;line-height:normal;font-family:Menlo,'DejaVu Sans Mono',consolas,'Courier New',monospace\">Market Return :  1.16%   |   Portfolio Return : -7.70%   |   Position Changes : 290   |   Episode Length : 1330   |\n",
       "</pre>\n"
      ],
      "text/plain": [
       "Market Return :  1.16%   |   Portfolio Return : -7.70%   |   Position Changes : 290   |   Episode Length : 1330   |\n"
      ]
     },
     "metadata": {},
     "output_type": "display_data"
    },
    {
     "data": {
      "text/html": [
       "<pre style=\"white-space:pre;overflow-x:auto;line-height:normal;font-family:Menlo,'DejaVu Sans Mono',consolas,'Courier New',monospace\">Market Return :  0.84%   |   Portfolio Return : -5.41%   |   Position Changes : 208   |   Episode Length : 1330   |\n",
       "</pre>\n"
      ],
      "text/plain": [
       "Market Return :  0.84%   |   Portfolio Return : -5.41%   |   Position Changes : 208   |   Episode Length : 1330   |\n"
      ]
     },
     "metadata": {},
     "output_type": "display_data"
    },
    {
     "data": {
      "text/html": [
       "<pre style=\"white-space:pre;overflow-x:auto;line-height:normal;font-family:Menlo,'DejaVu Sans Mono',consolas,'Courier New',monospace\">Market Return : -3.54%   |   Portfolio Return : -11.84%   |   Position Changes : 370   |   Episode Length : 1330   \n",
       "|   \n",
       "</pre>\n"
      ],
      "text/plain": [
       "Market Return : -3.54%   |   Portfolio Return : -11.84%   |   Position Changes : 370   |   Episode Length : 1330   \n",
       "|   \n"
      ]
     },
     "metadata": {},
     "output_type": "display_data"
    },
    {
     "data": {
      "text/html": [
       "<pre style=\"white-space:pre;overflow-x:auto;line-height:normal;font-family:Menlo,'DejaVu Sans Mono',consolas,'Courier New',monospace\">Market Return : -0.83%   |   Portfolio Return : -5.76%   |   Position Changes : 249   |   Episode Length : 1330   |\n",
       "</pre>\n"
      ],
      "text/plain": [
       "Market Return : -0.83%   |   Portfolio Return : -5.76%   |   Position Changes : 249   |   Episode Length : 1330   |\n"
      ]
     },
     "metadata": {},
     "output_type": "display_data"
    },
    {
     "data": {
      "text/html": [
       "<pre style=\"white-space:pre;overflow-x:auto;line-height:normal;font-family:Menlo,'DejaVu Sans Mono',consolas,'Courier New',monospace\">Market Return : -3.05%   |   Portfolio Return : -4.58%   |   Position Changes : 264   |   Episode Length : 1330   |\n",
       "</pre>\n"
      ],
      "text/plain": [
       "Market Return : -3.05%   |   Portfolio Return : -4.58%   |   Position Changes : 264   |   Episode Length : 1330   |\n"
      ]
     },
     "metadata": {},
     "output_type": "display_data"
    },
    {
     "data": {
      "text/html": [
       "<pre style=\"white-space:pre;overflow-x:auto;line-height:normal;font-family:Menlo,'DejaVu Sans Mono',consolas,'Courier New',monospace\">Market Return : -2.11%   |   Portfolio Return : -5.55%   |   Position Changes : 244   |   Episode Length : 1330   |\n",
       "</pre>\n"
      ],
      "text/plain": [
       "Market Return : -2.11%   |   Portfolio Return : -5.55%   |   Position Changes : 244   |   Episode Length : 1330   |\n"
      ]
     },
     "metadata": {},
     "output_type": "display_data"
    },
    {
     "data": {
      "text/html": [
       "<pre style=\"white-space:pre;overflow-x:auto;line-height:normal;font-family:Menlo,'DejaVu Sans Mono',consolas,'Courier New',monospace\">Market Return : -8.81%   |   Portfolio Return : -22.34%   |   Position Changes : 489   |   Episode Length : 1330   \n",
       "|   \n",
       "</pre>\n"
      ],
      "text/plain": [
       "Market Return : -8.81%   |   Portfolio Return : -22.34%   |   Position Changes : 489   |   Episode Length : 1330   \n",
       "|   \n"
      ]
     },
     "metadata": {},
     "output_type": "display_data"
    },
    {
     "data": {
      "text/html": [
       "<pre style=\"white-space:pre;overflow-x:auto;line-height:normal;font-family:Menlo,'DejaVu Sans Mono',consolas,'Courier New',monospace\">Market Return :  7.49%   |   Portfolio Return : -6.73%   |   Position Changes : 395   |   Episode Length : 1330   |\n",
       "</pre>\n"
      ],
      "text/plain": [
       "Market Return :  7.49%   |   Portfolio Return : -6.73%   |   Position Changes : 395   |   Episode Length : 1330   |\n"
      ]
     },
     "metadata": {},
     "output_type": "display_data"
    },
    {
     "data": {
      "text/html": [
       "<pre style=\"white-space:pre;overflow-x:auto;line-height:normal;font-family:Menlo,'DejaVu Sans Mono',consolas,'Courier New',monospace\">Market Return :  2.26%   |   Portfolio Return : -2.28%   |   Position Changes : 294   |   Episode Length : 1330   |\n",
       "</pre>\n"
      ],
      "text/plain": [
       "Market Return :  2.26%   |   Portfolio Return : -2.28%   |   Position Changes : 294   |   Episode Length : 1330   |\n"
      ]
     },
     "metadata": {},
     "output_type": "display_data"
    },
    {
     "data": {
      "text/html": [
       "<pre style=\"white-space:pre;overflow-x:auto;line-height:normal;font-family:Menlo,'DejaVu Sans Mono',consolas,'Courier New',monospace\">Market Return : -0.59%   |   Portfolio Return : -5.03%   |   Position Changes : 205   |   Episode Length : 730   | \n",
       "</pre>\n"
      ],
      "text/plain": [
       "Market Return : -0.59%   |   Portfolio Return : -5.03%   |   Position Changes : 205   |   Episode Length : 730   | \n"
      ]
     },
     "metadata": {},
     "output_type": "display_data"
    },
    {
     "data": {
      "text/html": [
       "<pre style=\"white-space:pre;overflow-x:auto;line-height:normal;font-family:Menlo,'DejaVu Sans Mono',consolas,'Courier New',monospace\">Market Return : -0.10%   |   Portfolio Return : -5.36%   |   Position Changes : 262   |   Episode Length : 1330   |\n",
       "</pre>\n"
      ],
      "text/plain": [
       "Market Return : -0.10%   |   Portfolio Return : -5.36%   |   Position Changes : 262   |   Episode Length : 1330   |\n"
      ]
     },
     "metadata": {},
     "output_type": "display_data"
    },
    {
     "data": {
      "text/html": [
       "<pre style=\"white-space:pre;overflow-x:auto;line-height:normal;font-family:Menlo,'DejaVu Sans Mono',consolas,'Courier New',monospace\">Market Return : -2.44%   |   Portfolio Return : -6.03%   |   Position Changes : 241   |   Episode Length : 1330   |\n",
       "</pre>\n"
      ],
      "text/plain": [
       "Market Return : -2.44%   |   Portfolio Return : -6.03%   |   Position Changes : 241   |   Episode Length : 1330   |\n"
      ]
     },
     "metadata": {},
     "output_type": "display_data"
    },
    {
     "data": {
      "text/html": [
       "<pre style=\"white-space:pre;overflow-x:auto;line-height:normal;font-family:Menlo,'DejaVu Sans Mono',consolas,'Courier New',monospace\">Market Return :  0.35%   |   Portfolio Return : -3.61%   |   Position Changes : 225   |   Episode Length : 1330   |\n",
       "</pre>\n"
      ],
      "text/plain": [
       "Market Return :  0.35%   |   Portfolio Return : -3.61%   |   Position Changes : 225   |   Episode Length : 1330   |\n"
      ]
     },
     "metadata": {},
     "output_type": "display_data"
    },
    {
     "data": {
      "text/html": [
       "<pre style=\"white-space:pre;overflow-x:auto;line-height:normal;font-family:Menlo,'DejaVu Sans Mono',consolas,'Courier New',monospace\">Market Return :  3.69%   |   Portfolio Return : -6.62%   |   Position Changes : 281   |   Episode Length : 1330   |\n",
       "</pre>\n"
      ],
      "text/plain": [
       "Market Return :  3.69%   |   Portfolio Return : -6.62%   |   Position Changes : 281   |   Episode Length : 1330   |\n"
      ]
     },
     "metadata": {},
     "output_type": "display_data"
    },
    {
     "data": {
      "text/html": [
       "<pre style=\"white-space:pre;overflow-x:auto;line-height:normal;font-family:Menlo,'DejaVu Sans Mono',consolas,'Courier New',monospace\">Market Return :  1.96%   |   Portfolio Return : -5.48%   |   Position Changes : 227   |   Episode Length : 1330   |\n",
       "</pre>\n"
      ],
      "text/plain": [
       "Market Return :  1.96%   |   Portfolio Return : -5.48%   |   Position Changes : 227   |   Episode Length : 1330   |\n"
      ]
     },
     "metadata": {},
     "output_type": "display_data"
    },
    {
     "data": {
      "text/html": [
       "<pre style=\"white-space:pre;overflow-x:auto;line-height:normal;font-family:Menlo,'DejaVu Sans Mono',consolas,'Courier New',monospace\">Market Return : -2.86%   |   Portfolio Return : -3.74%   |   Position Changes : 336   |   Episode Length : 1205   |\n",
       "</pre>\n"
      ],
      "text/plain": [
       "Market Return : -2.86%   |   Portfolio Return : -3.74%   |   Position Changes : 336   |   Episode Length : 1205   |\n"
      ]
     },
     "metadata": {},
     "output_type": "display_data"
    },
    {
     "data": {
      "text/html": [
       "<pre style=\"white-space:pre;overflow-x:auto;line-height:normal;font-family:Menlo,'DejaVu Sans Mono',consolas,'Courier New',monospace\">Market Return : -1.20%   |   Portfolio Return : -6.40%   |   Position Changes : 252   |   Episode Length : 1330   |\n",
       "</pre>\n"
      ],
      "text/plain": [
       "Market Return : -1.20%   |   Portfolio Return : -6.40%   |   Position Changes : 252   |   Episode Length : 1330   |\n"
      ]
     },
     "metadata": {},
     "output_type": "display_data"
    },
    {
     "data": {
      "text/html": [
       "<pre style=\"white-space:pre;overflow-x:auto;line-height:normal;font-family:Menlo,'DejaVu Sans Mono',consolas,'Courier New',monospace\">Market Return :  0.32%   |   Portfolio Return : -1.53%   |   Position Changes : 272   |   Episode Length : 1330   |\n",
       "</pre>\n"
      ],
      "text/plain": [
       "Market Return :  0.32%   |   Portfolio Return : -1.53%   |   Position Changes : 272   |   Episode Length : 1330   |\n"
      ]
     },
     "metadata": {},
     "output_type": "display_data"
    },
    {
     "data": {
      "text/html": [
       "<pre style=\"white-space:pre;overflow-x:auto;line-height:normal;font-family:Menlo,'DejaVu Sans Mono',consolas,'Courier New',monospace\">Market Return :  6.25%   |   Portfolio Return : -7.35%   |   Position Changes : 349   |   Episode Length : 1330   |\n",
       "</pre>\n"
      ],
      "text/plain": [
       "Market Return :  6.25%   |   Portfolio Return : -7.35%   |   Position Changes : 349   |   Episode Length : 1330   |\n"
      ]
     },
     "metadata": {},
     "output_type": "display_data"
    },
    {
     "data": {
      "text/html": [
       "<pre style=\"white-space:pre;overflow-x:auto;line-height:normal;font-family:Menlo,'DejaVu Sans Mono',consolas,'Courier New',monospace\">Market Return : -0.21%   |   Portfolio Return : -6.29%   |   Position Changes : 291   |   Episode Length : 1330   |\n",
       "</pre>\n"
      ],
      "text/plain": [
       "Market Return : -0.21%   |   Portfolio Return : -6.29%   |   Position Changes : 291   |   Episode Length : 1330   |\n"
      ]
     },
     "metadata": {},
     "output_type": "display_data"
    },
    {
     "data": {
      "text/html": [
       "<pre style=\"white-space:pre;overflow-x:auto;line-height:normal;font-family:Menlo,'DejaVu Sans Mono',consolas,'Courier New',monospace\">Market Return :  0.79%   |   Portfolio Return : -6.09%   |   Position Changes : 259   |   Episode Length : 1330   |\n",
       "</pre>\n"
      ],
      "text/plain": [
       "Market Return :  0.79%   |   Portfolio Return : -6.09%   |   Position Changes : 259   |   Episode Length : 1330   |\n"
      ]
     },
     "metadata": {},
     "output_type": "display_data"
    },
    {
     "data": {
      "text/html": [
       "<pre style=\"white-space:pre;overflow-x:auto;line-height:normal;font-family:Menlo,'DejaVu Sans Mono',consolas,'Courier New',monospace\">Market Return : -0.32%   |   Portfolio Return : -5.23%   |   Position Changes : 249   |   Episode Length : 1330   |\n",
       "</pre>\n"
      ],
      "text/plain": [
       "Market Return : -0.32%   |   Portfolio Return : -5.23%   |   Position Changes : 249   |   Episode Length : 1330   |\n"
      ]
     },
     "metadata": {},
     "output_type": "display_data"
    },
    {
     "data": {
      "text/html": [
       "<pre style=\"white-space:pre;overflow-x:auto;line-height:normal;font-family:Menlo,'DejaVu Sans Mono',consolas,'Courier New',monospace\">Market Return : -0.18%   |   Portfolio Return : -5.35%   |   Position Changes : 382   |   Episode Length : 1330   |\n",
       "</pre>\n"
      ],
      "text/plain": [
       "Market Return : -0.18%   |   Portfolio Return : -5.35%   |   Position Changes : 382   |   Episode Length : 1330   |\n"
      ]
     },
     "metadata": {},
     "output_type": "display_data"
    },
    {
     "data": {
      "text/html": [
       "<pre style=\"white-space:pre;overflow-x:auto;line-height:normal;font-family:Menlo,'DejaVu Sans Mono',consolas,'Courier New',monospace\">Market Return : -2.69%   |   Portfolio Return : -5.55%   |   Position Changes : 252   |   Episode Length : 1330   |\n",
       "</pre>\n"
      ],
      "text/plain": [
       "Market Return : -2.69%   |   Portfolio Return : -5.55%   |   Position Changes : 252   |   Episode Length : 1330   |\n"
      ]
     },
     "metadata": {},
     "output_type": "display_data"
    },
    {
     "data": {
      "text/html": [
       "<pre style=\"white-space:pre;overflow-x:auto;line-height:normal;font-family:Menlo,'DejaVu Sans Mono',consolas,'Courier New',monospace\">Market Return :  0.15%   |   Portfolio Return : -2.28%   |   Position Changes : 258   |   Episode Length : 1330   |\n",
       "</pre>\n"
      ],
      "text/plain": [
       "Market Return :  0.15%   |   Portfolio Return : -2.28%   |   Position Changes : 258   |   Episode Length : 1330   |\n"
      ]
     },
     "metadata": {},
     "output_type": "display_data"
    },
    {
     "data": {
      "text/html": [
       "<pre style=\"white-space:pre;overflow-x:auto;line-height:normal;font-family:Menlo,'DejaVu Sans Mono',consolas,'Courier New',monospace\">Market Return : -3.00%   |   Portfolio Return : -6.52%   |   Position Changes : 237   |   Episode Length : 1330   |\n",
       "</pre>\n"
      ],
      "text/plain": [
       "Market Return : -3.00%   |   Portfolio Return : -6.52%   |   Position Changes : 237   |   Episode Length : 1330   |\n"
      ]
     },
     "metadata": {},
     "output_type": "display_data"
    },
    {
     "data": {
      "text/html": [
       "<pre style=\"white-space:pre;overflow-x:auto;line-height:normal;font-family:Menlo,'DejaVu Sans Mono',consolas,'Courier New',monospace\">Market Return : -2.35%   |   Portfolio Return : -3.53%   |   Position Changes : 258   |   Episode Length : 1330   |\n",
       "</pre>\n"
      ],
      "text/plain": [
       "Market Return : -2.35%   |   Portfolio Return : -3.53%   |   Position Changes : 258   |   Episode Length : 1330   |\n"
      ]
     },
     "metadata": {},
     "output_type": "display_data"
    },
    {
     "data": {
      "text/html": [
       "<pre style=\"white-space:pre;overflow-x:auto;line-height:normal;font-family:Menlo,'DejaVu Sans Mono',consolas,'Courier New',monospace\">Market Return :  1.22%   |   Portfolio Return : -9.18%   |   Position Changes : 399   |   Episode Length : 1330   |\n",
       "</pre>\n"
      ],
      "text/plain": [
       "Market Return :  1.22%   |   Portfolio Return : -9.18%   |   Position Changes : 399   |   Episode Length : 1330   |\n"
      ]
     },
     "metadata": {},
     "output_type": "display_data"
    },
    {
     "data": {
      "text/html": [
       "<pre style=\"white-space:pre;overflow-x:auto;line-height:normal;font-family:Menlo,'DejaVu Sans Mono',consolas,'Courier New',monospace\">Market Return : -1.71%   |   Portfolio Return : -8.45%   |   Position Changes : 336   |   Episode Length : 1330   |\n",
       "</pre>\n"
      ],
      "text/plain": [
       "Market Return : -1.71%   |   Portfolio Return : -8.45%   |   Position Changes : 336   |   Episode Length : 1330   |\n"
      ]
     },
     "metadata": {},
     "output_type": "display_data"
    },
    {
     "data": {
      "text/html": [
       "<pre style=\"white-space:pre;overflow-x:auto;line-height:normal;font-family:Menlo,'DejaVu Sans Mono',consolas,'Courier New',monospace\">Market Return :  1.44%   |   Portfolio Return : -0.38%   |   Position Changes : 339   |   Episode Length : 1330   |\n",
       "</pre>\n"
      ],
      "text/plain": [
       "Market Return :  1.44%   |   Portfolio Return : -0.38%   |   Position Changes : 339   |   Episode Length : 1330   |\n"
      ]
     },
     "metadata": {},
     "output_type": "display_data"
    },
    {
     "data": {
      "text/html": [
       "<pre style=\"white-space:pre;overflow-x:auto;line-height:normal;font-family:Menlo,'DejaVu Sans Mono',consolas,'Courier New',monospace\">Market Return : -1.77%   |   Portfolio Return : -2.11%   |   Position Changes : 269   |   Episode Length : 1330   |\n",
       "</pre>\n"
      ],
      "text/plain": [
       "Market Return : -1.77%   |   Portfolio Return : -2.11%   |   Position Changes : 269   |   Episode Length : 1330   |\n"
      ]
     },
     "metadata": {},
     "output_type": "display_data"
    },
    {
     "data": {
      "text/html": [
       "<pre style=\"white-space:pre;overflow-x:auto;line-height:normal;font-family:Menlo,'DejaVu Sans Mono',consolas,'Courier New',monospace\">Market Return : -1.89%   |   Portfolio Return : -7.12%   |   Position Changes : 470   |   Episode Length : 1330   |\n",
       "</pre>\n"
      ],
      "text/plain": [
       "Market Return : -1.89%   |   Portfolio Return : -7.12%   |   Position Changes : 470   |   Episode Length : 1330   |\n"
      ]
     },
     "metadata": {},
     "output_type": "display_data"
    },
    {
     "data": {
      "text/html": [
       "<pre style=\"white-space:pre;overflow-x:auto;line-height:normal;font-family:Menlo,'DejaVu Sans Mono',consolas,'Courier New',monospace\">Market Return :  1.19%   |   Portfolio Return : -5.03%   |   Position Changes : 260   |   Episode Length : 1330   |\n",
       "</pre>\n"
      ],
      "text/plain": [
       "Market Return :  1.19%   |   Portfolio Return : -5.03%   |   Position Changes : 260   |   Episode Length : 1330   |\n"
      ]
     },
     "metadata": {},
     "output_type": "display_data"
    },
    {
     "data": {
      "text/html": [
       "<pre style=\"white-space:pre;overflow-x:auto;line-height:normal;font-family:Menlo,'DejaVu Sans Mono',consolas,'Courier New',monospace\">Market Return :  1.30%   |   Portfolio Return : -4.36%   |   Position Changes : 269   |   Episode Length : 1330   |\n",
       "</pre>\n"
      ],
      "text/plain": [
       "Market Return :  1.30%   |   Portfolio Return : -4.36%   |   Position Changes : 269   |   Episode Length : 1330   |\n"
      ]
     },
     "metadata": {},
     "output_type": "display_data"
    },
    {
     "data": {
      "text/html": [
       "<pre style=\"white-space:pre;overflow-x:auto;line-height:normal;font-family:Menlo,'DejaVu Sans Mono',consolas,'Courier New',monospace\">Market Return :  0.03%   |   Portfolio Return : -3.21%   |   Position Changes : 236   |   Episode Length : 1330   |\n",
       "</pre>\n"
      ],
      "text/plain": [
       "Market Return :  0.03%   |   Portfolio Return : -3.21%   |   Position Changes : 236   |   Episode Length : 1330   |\n"
      ]
     },
     "metadata": {},
     "output_type": "display_data"
    },
    {
     "data": {
      "text/html": [
       "<pre style=\"white-space:pre;overflow-x:auto;line-height:normal;font-family:Menlo,'DejaVu Sans Mono',consolas,'Courier New',monospace\">Market Return : -0.00%   |   Portfolio Return : -6.29%   |   Position Changes : 301   |   Episode Length : 1330   |\n",
       "</pre>\n"
      ],
      "text/plain": [
       "Market Return : -0.00%   |   Portfolio Return : -6.29%   |   Position Changes : 301   |   Episode Length : 1330   |\n"
      ]
     },
     "metadata": {},
     "output_type": "display_data"
    },
    {
     "data": {
      "text/html": [
       "<pre style=\"white-space:pre;overflow-x:auto;line-height:normal;font-family:Menlo,'DejaVu Sans Mono',consolas,'Courier New',monospace\">Market Return :  7.64%   |   Portfolio Return : -3.99%   |   Position Changes : 272   |   Episode Length : 1330   |\n",
       "</pre>\n"
      ],
      "text/plain": [
       "Market Return :  7.64%   |   Portfolio Return : -3.99%   |   Position Changes : 272   |   Episode Length : 1330   |\n"
      ]
     },
     "metadata": {},
     "output_type": "display_data"
    },
    {
     "data": {
      "text/html": [
       "<pre style=\"white-space:pre;overflow-x:auto;line-height:normal;font-family:Menlo,'DejaVu Sans Mono',consolas,'Courier New',monospace\">Market Return : -0.87%   |   Portfolio Return : -6.90%   |   Position Changes : 329   |   Episode Length : 1330   |\n",
       "</pre>\n"
      ],
      "text/plain": [
       "Market Return : -0.87%   |   Portfolio Return : -6.90%   |   Position Changes : 329   |   Episode Length : 1330   |\n"
      ]
     },
     "metadata": {},
     "output_type": "display_data"
    },
    {
     "data": {
      "text/html": [
       "<pre style=\"white-space:pre;overflow-x:auto;line-height:normal;font-family:Menlo,'DejaVu Sans Mono',consolas,'Courier New',monospace\">Market Return :  0.49%   |   Portfolio Return : -7.26%   |   Position Changes : 252   |   Episode Length : 1330   |\n",
       "</pre>\n"
      ],
      "text/plain": [
       "Market Return :  0.49%   |   Portfolio Return : -7.26%   |   Position Changes : 252   |   Episode Length : 1330   |\n"
      ]
     },
     "metadata": {},
     "output_type": "display_data"
    },
    {
     "data": {
      "text/html": [
       "<pre style=\"white-space:pre;overflow-x:auto;line-height:normal;font-family:Menlo,'DejaVu Sans Mono',consolas,'Courier New',monospace\">Market Return : -1.71%   |   Portfolio Return : -2.80%   |   Position Changes : 225   |   Episode Length : 1330   |\n",
       "</pre>\n"
      ],
      "text/plain": [
       "Market Return : -1.71%   |   Portfolio Return : -2.80%   |   Position Changes : 225   |   Episode Length : 1330   |\n"
      ]
     },
     "metadata": {},
     "output_type": "display_data"
    },
    {
     "data": {
      "text/html": [
       "<pre style=\"white-space:pre;overflow-x:auto;line-height:normal;font-family:Menlo,'DejaVu Sans Mono',consolas,'Courier New',monospace\">Market Return :  4.18%   |   Portfolio Return : -15.53%   |   Position Changes : 285   |   Episode Length : 1330   \n",
       "|   \n",
       "</pre>\n"
      ],
      "text/plain": [
       "Market Return :  4.18%   |   Portfolio Return : -15.53%   |   Position Changes : 285   |   Episode Length : 1330   \n",
       "|   \n"
      ]
     },
     "metadata": {},
     "output_type": "display_data"
    },
    {
     "data": {
      "text/html": [
       "<pre style=\"white-space:pre;overflow-x:auto;line-height:normal;font-family:Menlo,'DejaVu Sans Mono',consolas,'Courier New',monospace\">Market Return :  0.04%   |   Portfolio Return : -6.78%   |   Position Changes : 229   |   Episode Length : 1330   |\n",
       "</pre>\n"
      ],
      "text/plain": [
       "Market Return :  0.04%   |   Portfolio Return : -6.78%   |   Position Changes : 229   |   Episode Length : 1330   |\n"
      ]
     },
     "metadata": {},
     "output_type": "display_data"
    },
    {
     "data": {
      "text/html": [
       "<pre style=\"white-space:pre;overflow-x:auto;line-height:normal;font-family:Menlo,'DejaVu Sans Mono',consolas,'Courier New',monospace\">Market Return : -1.43%   |   Portfolio Return : -2.30%   |   Position Changes : 283   |   Episode Length : 1330   |\n",
       "</pre>\n"
      ],
      "text/plain": [
       "Market Return : -1.43%   |   Portfolio Return : -2.30%   |   Position Changes : 283   |   Episode Length : 1330   |\n"
      ]
     },
     "metadata": {},
     "output_type": "display_data"
    },
    {
     "data": {
      "text/html": [
       "<pre style=\"white-space:pre;overflow-x:auto;line-height:normal;font-family:Menlo,'DejaVu Sans Mono',consolas,'Courier New',monospace\">Market Return :  3.23%   |   Portfolio Return : -1.30%   |   Position Changes : 259   |   Episode Length : 1330   |\n",
       "</pre>\n"
      ],
      "text/plain": [
       "Market Return :  3.23%   |   Portfolio Return : -1.30%   |   Position Changes : 259   |   Episode Length : 1330   |\n"
      ]
     },
     "metadata": {},
     "output_type": "display_data"
    },
    {
     "data": {
      "text/html": [
       "<pre style=\"white-space:pre;overflow-x:auto;line-height:normal;font-family:Menlo,'DejaVu Sans Mono',consolas,'Courier New',monospace\">Market Return : -0.88%   |   Portfolio Return : -5.66%   |   Position Changes : 295   |   Episode Length : 1330   |\n",
       "</pre>\n"
      ],
      "text/plain": [
       "Market Return : -0.88%   |   Portfolio Return : -5.66%   |   Position Changes : 295   |   Episode Length : 1330   |\n"
      ]
     },
     "metadata": {},
     "output_type": "display_data"
    },
    {
     "data": {
      "text/html": [
       "<pre style=\"white-space:pre;overflow-x:auto;line-height:normal;font-family:Menlo,'DejaVu Sans Mono',consolas,'Courier New',monospace\">Market Return :  0.18%   |   Portfolio Return : -5.49%   |   Position Changes : 254   |   Episode Length : 1330   |\n",
       "</pre>\n"
      ],
      "text/plain": [
       "Market Return :  0.18%   |   Portfolio Return : -5.49%   |   Position Changes : 254   |   Episode Length : 1330   |\n"
      ]
     },
     "metadata": {},
     "output_type": "display_data"
    },
    {
     "data": {
      "text/html": [
       "<pre style=\"white-space:pre;overflow-x:auto;line-height:normal;font-family:Menlo,'DejaVu Sans Mono',consolas,'Courier New',monospace\">Market Return :  2.09%   |   Portfolio Return : -5.46%   |   Position Changes : 279   |   Episode Length : 1330   |\n",
       "</pre>\n"
      ],
      "text/plain": [
       "Market Return :  2.09%   |   Portfolio Return : -5.46%   |   Position Changes : 279   |   Episode Length : 1330   |\n"
      ]
     },
     "metadata": {},
     "output_type": "display_data"
    },
    {
     "data": {
      "text/html": [
       "<pre style=\"white-space:pre;overflow-x:auto;line-height:normal;font-family:Menlo,'DejaVu Sans Mono',consolas,'Courier New',monospace\">Market Return : -0.55%   |   Portfolio Return : -6.42%   |   Position Changes : 265   |   Episode Length : 1330   |\n",
       "</pre>\n"
      ],
      "text/plain": [
       "Market Return : -0.55%   |   Portfolio Return : -6.42%   |   Position Changes : 265   |   Episode Length : 1330   |\n"
      ]
     },
     "metadata": {},
     "output_type": "display_data"
    },
    {
     "data": {
      "text/html": [
       "<pre style=\"white-space:pre;overflow-x:auto;line-height:normal;font-family:Menlo,'DejaVu Sans Mono',consolas,'Courier New',monospace\">Market Return :  1.50%   |   Portfolio Return : -5.33%   |   Position Changes : 247   |   Episode Length : 1330   |\n",
       "</pre>\n"
      ],
      "text/plain": [
       "Market Return :  1.50%   |   Portfolio Return : -5.33%   |   Position Changes : 247   |   Episode Length : 1330   |\n"
      ]
     },
     "metadata": {},
     "output_type": "display_data"
    },
    {
     "data": {
      "text/html": [
       "<pre style=\"white-space:pre;overflow-x:auto;line-height:normal;font-family:Menlo,'DejaVu Sans Mono',consolas,'Courier New',monospace\">Market Return :  3.69%   |   Portfolio Return : -8.20%   |   Position Changes : 238   |   Episode Length : 1330   |\n",
       "</pre>\n"
      ],
      "text/plain": [
       "Market Return :  3.69%   |   Portfolio Return : -8.20%   |   Position Changes : 238   |   Episode Length : 1330   |\n"
      ]
     },
     "metadata": {},
     "output_type": "display_data"
    },
    {
     "data": {
      "text/html": [
       "<pre style=\"white-space:pre;overflow-x:auto;line-height:normal;font-family:Menlo,'DejaVu Sans Mono',consolas,'Courier New',monospace\">Market Return : -4.36%   |   Portfolio Return : -5.82%   |   Position Changes : 255   |   Episode Length : 1330   |\n",
       "</pre>\n"
      ],
      "text/plain": [
       "Market Return : -4.36%   |   Portfolio Return : -5.82%   |   Position Changes : 255   |   Episode Length : 1330   |\n"
      ]
     },
     "metadata": {},
     "output_type": "display_data"
    },
    {
     "data": {
      "text/html": [
       "<pre style=\"white-space:pre;overflow-x:auto;line-height:normal;font-family:Menlo,'DejaVu Sans Mono',consolas,'Courier New',monospace\">Market Return :  0.43%   |   Portfolio Return : -5.02%   |   Position Changes : 228   |   Episode Length : 1330   |\n",
       "</pre>\n"
      ],
      "text/plain": [
       "Market Return :  0.43%   |   Portfolio Return : -5.02%   |   Position Changes : 228   |   Episode Length : 1330   |\n"
      ]
     },
     "metadata": {},
     "output_type": "display_data"
    },
    {
     "data": {
      "text/html": [
       "<pre style=\"white-space:pre;overflow-x:auto;line-height:normal;font-family:Menlo,'DejaVu Sans Mono',consolas,'Courier New',monospace\">Market Return : -2.66%   |   Portfolio Return : -6.29%   |   Position Changes : 294   |   Episode Length : 1330   |\n",
       "</pre>\n"
      ],
      "text/plain": [
       "Market Return : -2.66%   |   Portfolio Return : -6.29%   |   Position Changes : 294   |   Episode Length : 1330   |\n"
      ]
     },
     "metadata": {},
     "output_type": "display_data"
    },
    {
     "data": {
      "text/html": [
       "<pre style=\"white-space:pre;overflow-x:auto;line-height:normal;font-family:Menlo,'DejaVu Sans Mono',consolas,'Courier New',monospace\">Market Return :  0.19%   |   Portfolio Return : -3.96%   |   Position Changes : 200   |   Episode Length : 1330   |\n",
       "</pre>\n"
      ],
      "text/plain": [
       "Market Return :  0.19%   |   Portfolio Return : -3.96%   |   Position Changes : 200   |   Episode Length : 1330   |\n"
      ]
     },
     "metadata": {},
     "output_type": "display_data"
    },
    {
     "data": {
      "text/html": [
       "<pre style=\"white-space:pre;overflow-x:auto;line-height:normal;font-family:Menlo,'DejaVu Sans Mono',consolas,'Courier New',monospace\">Market Return :  0.89%   |   Portfolio Return : -4.59%   |   Position Changes : 255   |   Episode Length : 1330   |\n",
       "</pre>\n"
      ],
      "text/plain": [
       "Market Return :  0.89%   |   Portfolio Return : -4.59%   |   Position Changes : 255   |   Episode Length : 1330   |\n"
      ]
     },
     "metadata": {},
     "output_type": "display_data"
    },
    {
     "data": {
      "text/html": [
       "<pre style=\"white-space:pre;overflow-x:auto;line-height:normal;font-family:Menlo,'DejaVu Sans Mono',consolas,'Courier New',monospace\">Market Return :  1.99%   |   Portfolio Return : -4.59%   |   Position Changes : 283   |   Episode Length : 1330   |\n",
       "</pre>\n"
      ],
      "text/plain": [
       "Market Return :  1.99%   |   Portfolio Return : -4.59%   |   Position Changes : 283   |   Episode Length : 1330   |\n"
      ]
     },
     "metadata": {},
     "output_type": "display_data"
    },
    {
     "data": {
      "text/html": [
       "<pre style=\"white-space:pre;overflow-x:auto;line-height:normal;font-family:Menlo,'DejaVu Sans Mono',consolas,'Courier New',monospace\">Market Return : -1.89%   |   Portfolio Return : -0.92%   |   Position Changes : 403   |   Episode Length : 1330   |\n",
       "</pre>\n"
      ],
      "text/plain": [
       "Market Return : -1.89%   |   Portfolio Return : -0.92%   |   Position Changes : 403   |   Episode Length : 1330   |\n"
      ]
     },
     "metadata": {},
     "output_type": "display_data"
    },
    {
     "data": {
      "text/html": [
       "<pre style=\"white-space:pre;overflow-x:auto;line-height:normal;font-family:Menlo,'DejaVu Sans Mono',consolas,'Courier New',monospace\">Market Return : -0.25%   |   Portfolio Return : -4.48%   |   Position Changes : 217   |   Episode Length : 1330   |\n",
       "</pre>\n"
      ],
      "text/plain": [
       "Market Return : -0.25%   |   Portfolio Return : -4.48%   |   Position Changes : 217   |   Episode Length : 1330   |\n"
      ]
     },
     "metadata": {},
     "output_type": "display_data"
    },
    {
     "data": {
      "text/html": [
       "<pre style=\"white-space:pre;overflow-x:auto;line-height:normal;font-family:Menlo,'DejaVu Sans Mono',consolas,'Courier New',monospace\">Market Return :  0.81%   |   Portfolio Return : -5.35%   |   Position Changes : 265   |   Episode Length : 1330   |\n",
       "</pre>\n"
      ],
      "text/plain": [
       "Market Return :  0.81%   |   Portfolio Return : -5.35%   |   Position Changes : 265   |   Episode Length : 1330   |\n"
      ]
     },
     "metadata": {},
     "output_type": "display_data"
    },
    {
     "data": {
      "text/html": [
       "<pre style=\"white-space:pre;overflow-x:auto;line-height:normal;font-family:Menlo,'DejaVu Sans Mono',consolas,'Courier New',monospace\">Market Return :  0.66%   |   Portfolio Return : -4.31%   |   Position Changes : 214   |   Episode Length : 1330   |\n",
       "</pre>\n"
      ],
      "text/plain": [
       "Market Return :  0.66%   |   Portfolio Return : -4.31%   |   Position Changes : 214   |   Episode Length : 1330   |\n"
      ]
     },
     "metadata": {},
     "output_type": "display_data"
    },
    {
     "data": {
      "text/html": [
       "<pre style=\"white-space:pre;overflow-x:auto;line-height:normal;font-family:Menlo,'DejaVu Sans Mono',consolas,'Courier New',monospace\">Market Return : -2.59%   |   Portfolio Return : -4.80%   |   Position Changes : 333   |   Episode Length : 1330   |\n",
       "</pre>\n"
      ],
      "text/plain": [
       "Market Return : -2.59%   |   Portfolio Return : -4.80%   |   Position Changes : 333   |   Episode Length : 1330   |\n"
      ]
     },
     "metadata": {},
     "output_type": "display_data"
    },
    {
     "data": {
      "text/html": [
       "<pre style=\"white-space:pre;overflow-x:auto;line-height:normal;font-family:Menlo,'DejaVu Sans Mono',consolas,'Courier New',monospace\">Market Return : -1.52%   |   Portfolio Return : -5.70%   |   Position Changes : 285   |   Episode Length : 1330   |\n",
       "</pre>\n"
      ],
      "text/plain": [
       "Market Return : -1.52%   |   Portfolio Return : -5.70%   |   Position Changes : 285   |   Episode Length : 1330   |\n"
      ]
     },
     "metadata": {},
     "output_type": "display_data"
    },
    {
     "data": {
      "text/html": [
       "<pre style=\"white-space:pre;overflow-x:auto;line-height:normal;font-family:Menlo,'DejaVu Sans Mono',consolas,'Courier New',monospace\">Market Return : -3.00%   |   Portfolio Return : -4.11%   |   Position Changes : 274   |   Episode Length : 1330   |\n",
       "</pre>\n"
      ],
      "text/plain": [
       "Market Return : -3.00%   |   Portfolio Return : -4.11%   |   Position Changes : 274   |   Episode Length : 1330   |\n"
      ]
     },
     "metadata": {},
     "output_type": "display_data"
    },
    {
     "data": {
      "text/html": [
       "<pre style=\"white-space:pre;overflow-x:auto;line-height:normal;font-family:Menlo,'DejaVu Sans Mono',consolas,'Courier New',monospace\">Market Return : -6.14%   |   Portfolio Return : -5.48%   |   Position Changes : 336   |   Episode Length : 1330   |\n",
       "</pre>\n"
      ],
      "text/plain": [
       "Market Return : -6.14%   |   Portfolio Return : -5.48%   |   Position Changes : 336   |   Episode Length : 1330   |\n"
      ]
     },
     "metadata": {},
     "output_type": "display_data"
    },
    {
     "data": {
      "text/html": [
       "<pre style=\"white-space:pre;overflow-x:auto;line-height:normal;font-family:Menlo,'DejaVu Sans Mono',consolas,'Courier New',monospace\">Market Return :  0.39%   |   Portfolio Return : -4.31%   |   Position Changes : 207   |   Episode Length : 1330   |\n",
       "</pre>\n"
      ],
      "text/plain": [
       "Market Return :  0.39%   |   Portfolio Return : -4.31%   |   Position Changes : 207   |   Episode Length : 1330   |\n"
      ]
     },
     "metadata": {},
     "output_type": "display_data"
    },
    {
     "data": {
      "text/html": [
       "<pre style=\"white-space:pre;overflow-x:auto;line-height:normal;font-family:Menlo,'DejaVu Sans Mono',consolas,'Courier New',monospace\">Market Return :  0.74%   |   Portfolio Return : -2.99%   |   Position Changes : 198   |   Episode Length : 1330   |\n",
       "</pre>\n"
      ],
      "text/plain": [
       "Market Return :  0.74%   |   Portfolio Return : -2.99%   |   Position Changes : 198   |   Episode Length : 1330   |\n"
      ]
     },
     "metadata": {},
     "output_type": "display_data"
    },
    {
     "data": {
      "text/html": [
       "<pre style=\"white-space:pre;overflow-x:auto;line-height:normal;font-family:Menlo,'DejaVu Sans Mono',consolas,'Courier New',monospace\">Market Return :  2.95%   |   Portfolio Return : -6.22%   |   Position Changes : 235   |   Episode Length : 1330   |\n",
       "</pre>\n"
      ],
      "text/plain": [
       "Market Return :  2.95%   |   Portfolio Return : -6.22%   |   Position Changes : 235   |   Episode Length : 1330   |\n"
      ]
     },
     "metadata": {},
     "output_type": "display_data"
    },
    {
     "data": {
      "text/html": [
       "<pre style=\"white-space:pre;overflow-x:auto;line-height:normal;font-family:Menlo,'DejaVu Sans Mono',consolas,'Courier New',monospace\">Market Return : -2.35%   |   Portfolio Return : -4.20%   |   Position Changes : 310   |   Episode Length : 1330   |\n",
       "</pre>\n"
      ],
      "text/plain": [
       "Market Return : -2.35%   |   Portfolio Return : -4.20%   |   Position Changes : 310   |   Episode Length : 1330   |\n"
      ]
     },
     "metadata": {},
     "output_type": "display_data"
    },
    {
     "data": {
      "text/html": [
       "<pre style=\"white-space:pre;overflow-x:auto;line-height:normal;font-family:Menlo,'DejaVu Sans Mono',consolas,'Courier New',monospace\">Market Return : -1.19%   |   Portfolio Return : -4.03%   |   Position Changes : 222   |   Episode Length : 1330   |\n",
       "</pre>\n"
      ],
      "text/plain": [
       "Market Return : -1.19%   |   Portfolio Return : -4.03%   |   Position Changes : 222   |   Episode Length : 1330   |\n"
      ]
     },
     "metadata": {},
     "output_type": "display_data"
    },
    {
     "data": {
      "text/html": [
       "<pre style=\"white-space:pre;overflow-x:auto;line-height:normal;font-family:Menlo,'DejaVu Sans Mono',consolas,'Courier New',monospace\">Market Return :  0.15%   |   Portfolio Return : -6.27%   |   Position Changes : 323   |   Episode Length : 1330   |\n",
       "</pre>\n"
      ],
      "text/plain": [
       "Market Return :  0.15%   |   Portfolio Return : -6.27%   |   Position Changes : 323   |   Episode Length : 1330   |\n"
      ]
     },
     "metadata": {},
     "output_type": "display_data"
    },
    {
     "data": {
      "text/html": [
       "<pre style=\"white-space:pre;overflow-x:auto;line-height:normal;font-family:Menlo,'DejaVu Sans Mono',consolas,'Courier New',monospace\">Market Return : -2.42%   |   Portfolio Return : -7.15%   |   Position Changes : 260   |   Episode Length : 1330   |\n",
       "</pre>\n"
      ],
      "text/plain": [
       "Market Return : -2.42%   |   Portfolio Return : -7.15%   |   Position Changes : 260   |   Episode Length : 1330   |\n"
      ]
     },
     "metadata": {},
     "output_type": "display_data"
    },
    {
     "data": {
      "text/html": [
       "<pre style=\"white-space:pre;overflow-x:auto;line-height:normal;font-family:Menlo,'DejaVu Sans Mono',consolas,'Courier New',monospace\">Market Return : -4.61%   |   Portfolio Return : -7.51%   |   Position Changes : 326   |   Episode Length : 1330   |\n",
       "</pre>\n"
      ],
      "text/plain": [
       "Market Return : -4.61%   |   Portfolio Return : -7.51%   |   Position Changes : 326   |   Episode Length : 1330   |\n"
      ]
     },
     "metadata": {},
     "output_type": "display_data"
    },
    {
     "data": {
      "text/html": [
       "<pre style=\"white-space:pre;overflow-x:auto;line-height:normal;font-family:Menlo,'DejaVu Sans Mono',consolas,'Courier New',monospace\">Market Return : -0.41%   |   Portfolio Return : -3.48%   |   Position Changes : 259   |   Episode Length : 1330   |\n",
       "</pre>\n"
      ],
      "text/plain": [
       "Market Return : -0.41%   |   Portfolio Return : -3.48%   |   Position Changes : 259   |   Episode Length : 1330   |\n"
      ]
     },
     "metadata": {},
     "output_type": "display_data"
    },
    {
     "data": {
      "text/html": [
       "<pre style=\"white-space:pre;overflow-x:auto;line-height:normal;font-family:Menlo,'DejaVu Sans Mono',consolas,'Courier New',monospace\">Market Return :  1.28%   |   Portfolio Return : -3.13%   |   Position Changes : 243   |   Episode Length : 1330   |\n",
       "</pre>\n"
      ],
      "text/plain": [
       "Market Return :  1.28%   |   Portfolio Return : -3.13%   |   Position Changes : 243   |   Episode Length : 1330   |\n"
      ]
     },
     "metadata": {},
     "output_type": "display_data"
    },
    {
     "data": {
      "text/html": [
       "<pre style=\"white-space:pre;overflow-x:auto;line-height:normal;font-family:Menlo,'DejaVu Sans Mono',consolas,'Courier New',monospace\">Market Return : -4.56%   |   Portfolio Return : -3.57%   |   Position Changes : 261   |   Episode Length : 1330   |\n",
       "</pre>\n"
      ],
      "text/plain": [
       "Market Return : -4.56%   |   Portfolio Return : -3.57%   |   Position Changes : 261   |   Episode Length : 1330   |\n"
      ]
     },
     "metadata": {},
     "output_type": "display_data"
    },
    {
     "data": {
      "text/html": [
       "<pre style=\"white-space:pre;overflow-x:auto;line-height:normal;font-family:Menlo,'DejaVu Sans Mono',consolas,'Courier New',monospace\">Market Return :  0.70%   |   Portfolio Return : -4.39%   |   Position Changes : 213   |   Episode Length : 1330   |\n",
       "</pre>\n"
      ],
      "text/plain": [
       "Market Return :  0.70%   |   Portfolio Return : -4.39%   |   Position Changes : 213   |   Episode Length : 1330   |\n"
      ]
     },
     "metadata": {},
     "output_type": "display_data"
    },
    {
     "data": {
      "text/html": [
       "<pre style=\"white-space:pre;overflow-x:auto;line-height:normal;font-family:Menlo,'DejaVu Sans Mono',consolas,'Courier New',monospace\">Market Return :  1.66%   |   Portfolio Return : -5.62%   |   Position Changes : 266   |   Episode Length : 1330   |\n",
       "</pre>\n"
      ],
      "text/plain": [
       "Market Return :  1.66%   |   Portfolio Return : -5.62%   |   Position Changes : 266   |   Episode Length : 1330   |\n"
      ]
     },
     "metadata": {},
     "output_type": "display_data"
    },
    {
     "data": {
      "text/html": [
       "<pre style=\"white-space:pre;overflow-x:auto;line-height:normal;font-family:Menlo,'DejaVu Sans Mono',consolas,'Courier New',monospace\">Market Return :  1.23%   |   Portfolio Return : -4.31%   |   Position Changes : 262   |   Episode Length : 1330   |\n",
       "</pre>\n"
      ],
      "text/plain": [
       "Market Return :  1.23%   |   Portfolio Return : -4.31%   |   Position Changes : 262   |   Episode Length : 1330   |\n"
      ]
     },
     "metadata": {},
     "output_type": "display_data"
    },
    {
     "data": {
      "text/html": [
       "<pre style=\"white-space:pre;overflow-x:auto;line-height:normal;font-family:Menlo,'DejaVu Sans Mono',consolas,'Courier New',monospace\">Market Return :  3.23%   |   Portfolio Return : -4.10%   |   Position Changes : 306   |   Episode Length : 1330   |\n",
       "</pre>\n"
      ],
      "text/plain": [
       "Market Return :  3.23%   |   Portfolio Return : -4.10%   |   Position Changes : 306   |   Episode Length : 1330   |\n"
      ]
     },
     "metadata": {},
     "output_type": "display_data"
    },
    {
     "data": {
      "text/html": [
       "<pre style=\"white-space:pre;overflow-x:auto;line-height:normal;font-family:Menlo,'DejaVu Sans Mono',consolas,'Courier New',monospace\">Market Return :  0.92%   |   Portfolio Return : -3.82%   |   Position Changes : 282   |   Episode Length : 1330   |\n",
       "</pre>\n"
      ],
      "text/plain": [
       "Market Return :  0.92%   |   Portfolio Return : -3.82%   |   Position Changes : 282   |   Episode Length : 1330   |\n"
      ]
     },
     "metadata": {},
     "output_type": "display_data"
    },
    {
     "data": {
      "text/html": [
       "<pre style=\"white-space:pre;overflow-x:auto;line-height:normal;font-family:Menlo,'DejaVu Sans Mono',consolas,'Courier New',monospace\">Market Return :  0.10%   |   Portfolio Return : -3.73%   |   Position Changes : 212   |   Episode Length : 1330   |\n",
       "</pre>\n"
      ],
      "text/plain": [
       "Market Return :  0.10%   |   Portfolio Return : -3.73%   |   Position Changes : 212   |   Episode Length : 1330   |\n"
      ]
     },
     "metadata": {},
     "output_type": "display_data"
    },
    {
     "data": {
      "text/html": [
       "<pre style=\"white-space:pre;overflow-x:auto;line-height:normal;font-family:Menlo,'DejaVu Sans Mono',consolas,'Courier New',monospace\">Market Return : -0.63%   |   Portfolio Return : -6.27%   |   Position Changes : 274   |   Episode Length : 1330   |\n",
       "</pre>\n"
      ],
      "text/plain": [
       "Market Return : -0.63%   |   Portfolio Return : -6.27%   |   Position Changes : 274   |   Episode Length : 1330   |\n"
      ]
     },
     "metadata": {},
     "output_type": "display_data"
    },
    {
     "data": {
      "text/html": [
       "<pre style=\"white-space:pre;overflow-x:auto;line-height:normal;font-family:Menlo,'DejaVu Sans Mono',consolas,'Courier New',monospace\">Market Return :  0.35%   |   Portfolio Return : -2.91%   |   Position Changes : 224   |   Episode Length : 1330   |\n",
       "</pre>\n"
      ],
      "text/plain": [
       "Market Return :  0.35%   |   Portfolio Return : -2.91%   |   Position Changes : 224   |   Episode Length : 1330   |\n"
      ]
     },
     "metadata": {},
     "output_type": "display_data"
    },
    {
     "data": {
      "text/html": [
       "<pre style=\"white-space:pre;overflow-x:auto;line-height:normal;font-family:Menlo,'DejaVu Sans Mono',consolas,'Courier New',monospace\">Market Return :  1.19%   |   Portfolio Return : -5.19%   |   Position Changes : 265   |   Episode Length : 1330   |\n",
       "</pre>\n"
      ],
      "text/plain": [
       "Market Return :  1.19%   |   Portfolio Return : -5.19%   |   Position Changes : 265   |   Episode Length : 1330   |\n"
      ]
     },
     "metadata": {},
     "output_type": "display_data"
    },
    {
     "data": {
      "text/html": [
       "<pre style=\"white-space:pre;overflow-x:auto;line-height:normal;font-family:Menlo,'DejaVu Sans Mono',consolas,'Courier New',monospace\">Market Return :  5.76%   |   Portfolio Return : -5.95%   |   Position Changes : 329   |   Episode Length : 1330   |\n",
       "</pre>\n"
      ],
      "text/plain": [
       "Market Return :  5.76%   |   Portfolio Return : -5.95%   |   Position Changes : 329   |   Episode Length : 1330   |\n"
      ]
     },
     "metadata": {},
     "output_type": "display_data"
    },
    {
     "data": {
      "text/html": [
       "<pre style=\"white-space:pre;overflow-x:auto;line-height:normal;font-family:Menlo,'DejaVu Sans Mono',consolas,'Courier New',monospace\">Market Return :  3.59%   |   Portfolio Return : -11.11%   |   Position Changes : 412   |   Episode Length : 1330   \n",
       "|   \n",
       "</pre>\n"
      ],
      "text/plain": [
       "Market Return :  3.59%   |   Portfolio Return : -11.11%   |   Position Changes : 412   |   Episode Length : 1330   \n",
       "|   \n"
      ]
     },
     "metadata": {},
     "output_type": "display_data"
    },
    {
     "data": {
      "text/html": [
       "<pre style=\"white-space:pre;overflow-x:auto;line-height:normal;font-family:Menlo,'DejaVu Sans Mono',consolas,'Courier New',monospace\">Market Return :  2.23%   |   Portfolio Return : -4.30%   |   Position Changes : 280   |   Episode Length : 1330   |\n",
       "</pre>\n"
      ],
      "text/plain": [
       "Market Return :  2.23%   |   Portfolio Return : -4.30%   |   Position Changes : 280   |   Episode Length : 1330   |\n"
      ]
     },
     "metadata": {},
     "output_type": "display_data"
    },
    {
     "data": {
      "text/html": [
       "<pre style=\"white-space:pre;overflow-x:auto;line-height:normal;font-family:Menlo,'DejaVu Sans Mono',consolas,'Courier New',monospace\">Market Return :  1.38%   |   Portfolio Return : -6.63%   |   Position Changes : 231   |   Episode Length : 1330   |\n",
       "</pre>\n"
      ],
      "text/plain": [
       "Market Return :  1.38%   |   Portfolio Return : -6.63%   |   Position Changes : 231   |   Episode Length : 1330   |\n"
      ]
     },
     "metadata": {},
     "output_type": "display_data"
    },
    {
     "data": {
      "text/html": [
       "<pre style=\"white-space:pre;overflow-x:auto;line-height:normal;font-family:Menlo,'DejaVu Sans Mono',consolas,'Courier New',monospace\">Market Return :  0.54%   |   Portfolio Return : -4.63%   |   Position Changes : 241   |   Episode Length : 1330   |\n",
       "</pre>\n"
      ],
      "text/plain": [
       "Market Return :  0.54%   |   Portfolio Return : -4.63%   |   Position Changes : 241   |   Episode Length : 1330   |\n"
      ]
     },
     "metadata": {},
     "output_type": "display_data"
    },
    {
     "data": {
      "text/html": [
       "<pre style=\"white-space:pre;overflow-x:auto;line-height:normal;font-family:Menlo,'DejaVu Sans Mono',consolas,'Courier New',monospace\">Market Return :  2.37%   |   Portfolio Return : -5.23%   |   Position Changes : 259   |   Episode Length : 1330   |\n",
       "</pre>\n"
      ],
      "text/plain": [
       "Market Return :  2.37%   |   Portfolio Return : -5.23%   |   Position Changes : 259   |   Episode Length : 1330   |\n"
      ]
     },
     "metadata": {},
     "output_type": "display_data"
    },
    {
     "data": {
      "text/html": [
       "<pre style=\"white-space:pre;overflow-x:auto;line-height:normal;font-family:Menlo,'DejaVu Sans Mono',consolas,'Courier New',monospace\">Market Return :  8.25%   |   Portfolio Return : -1.53%   |   Position Changes : 455   |   Episode Length : 1330   |\n",
       "</pre>\n"
      ],
      "text/plain": [
       "Market Return :  8.25%   |   Portfolio Return : -1.53%   |   Position Changes : 455   |   Episode Length : 1330   |\n"
      ]
     },
     "metadata": {},
     "output_type": "display_data"
    },
    {
     "data": {
      "text/html": [
       "<pre style=\"white-space:pre;overflow-x:auto;line-height:normal;font-family:Menlo,'DejaVu Sans Mono',consolas,'Courier New',monospace\">Market Return :  1.14%   |   Portfolio Return : -4.34%   |   Position Changes : 254   |   Episode Length : 1330   |\n",
       "</pre>\n"
      ],
      "text/plain": [
       "Market Return :  1.14%   |   Portfolio Return : -4.34%   |   Position Changes : 254   |   Episode Length : 1330   |\n"
      ]
     },
     "metadata": {},
     "output_type": "display_data"
    },
    {
     "data": {
      "text/html": [
       "<pre style=\"white-space:pre;overflow-x:auto;line-height:normal;font-family:Menlo,'DejaVu Sans Mono',consolas,'Courier New',monospace\">Market Return : -1.90%   |   Portfolio Return : -6.89%   |   Position Changes : 381   |   Episode Length : 1330   |\n",
       "</pre>\n"
      ],
      "text/plain": [
       "Market Return : -1.90%   |   Portfolio Return : -6.89%   |   Position Changes : 381   |   Episode Length : 1330   |\n"
      ]
     },
     "metadata": {},
     "output_type": "display_data"
    },
    {
     "data": {
      "text/html": [
       "<pre style=\"white-space:pre;overflow-x:auto;line-height:normal;font-family:Menlo,'DejaVu Sans Mono',consolas,'Courier New',monospace\">Market Return : -3.85%   |   Portfolio Return : -5.22%   |   Position Changes : 305   |   Episode Length : 1330   |\n",
       "</pre>\n"
      ],
      "text/plain": [
       "Market Return : -3.85%   |   Portfolio Return : -5.22%   |   Position Changes : 305   |   Episode Length : 1330   |\n"
      ]
     },
     "metadata": {},
     "output_type": "display_data"
    },
    {
     "data": {
      "text/html": [
       "<pre style=\"white-space:pre;overflow-x:auto;line-height:normal;font-family:Menlo,'DejaVu Sans Mono',consolas,'Courier New',monospace\">Market Return : -0.03%   |   Portfolio Return : -1.04%   |   Position Changes : 299   |   Episode Length : 1330   |\n",
       "</pre>\n"
      ],
      "text/plain": [
       "Market Return : -0.03%   |   Portfolio Return : -1.04%   |   Position Changes : 299   |   Episode Length : 1330   |\n"
      ]
     },
     "metadata": {},
     "output_type": "display_data"
    },
    {
     "data": {
      "text/html": [
       "<pre style=\"white-space:pre;overflow-x:auto;line-height:normal;font-family:Menlo,'DejaVu Sans Mono',consolas,'Courier New',monospace\">Market Return : -9.69%   |   Portfolio Return : -13.01%   |   Position Changes : 428   |   Episode Length : 1330   \n",
       "|   \n",
       "</pre>\n"
      ],
      "text/plain": [
       "Market Return : -9.69%   |   Portfolio Return : -13.01%   |   Position Changes : 428   |   Episode Length : 1330   \n",
       "|   \n"
      ]
     },
     "metadata": {},
     "output_type": "display_data"
    },
    {
     "data": {
      "text/html": [
       "<pre style=\"white-space:pre;overflow-x:auto;line-height:normal;font-family:Menlo,'DejaVu Sans Mono',consolas,'Courier New',monospace\">Market Return :  2.78%   |   Portfolio Return : -3.79%   |   Position Changes : 329   |   Episode Length : 1330   |\n",
       "</pre>\n"
      ],
      "text/plain": [
       "Market Return :  2.78%   |   Portfolio Return : -3.79%   |   Position Changes : 329   |   Episode Length : 1330   |\n"
      ]
     },
     "metadata": {},
     "output_type": "display_data"
    },
    {
     "data": {
      "text/html": [
       "<pre style=\"white-space:pre;overflow-x:auto;line-height:normal;font-family:Menlo,'DejaVu Sans Mono',consolas,'Courier New',monospace\">Market Return :  0.42%   |   Portfolio Return : -4.50%   |   Position Changes : 216   |   Episode Length : 1330   |\n",
       "</pre>\n"
      ],
      "text/plain": [
       "Market Return :  0.42%   |   Portfolio Return : -4.50%   |   Position Changes : 216   |   Episode Length : 1330   |\n"
      ]
     },
     "metadata": {},
     "output_type": "display_data"
    },
    {
     "data": {
      "text/html": [
       "<pre style=\"white-space:pre;overflow-x:auto;line-height:normal;font-family:Menlo,'DejaVu Sans Mono',consolas,'Courier New',monospace\">Market Return : -0.38%   |   Portfolio Return : -3.58%   |   Position Changes : 264   |   Episode Length : 1330   |\n",
       "</pre>\n"
      ],
      "text/plain": [
       "Market Return : -0.38%   |   Portfolio Return : -3.58%   |   Position Changes : 264   |   Episode Length : 1330   |\n"
      ]
     },
     "metadata": {},
     "output_type": "display_data"
    },
    {
     "data": {
      "text/html": [
       "<pre style=\"white-space:pre;overflow-x:auto;line-height:normal;font-family:Menlo,'DejaVu Sans Mono',consolas,'Courier New',monospace\">Market Return :  4.10%   |   Portfolio Return : -3.49%   |   Position Changes : 265   |   Episode Length : 1330   |\n",
       "</pre>\n"
      ],
      "text/plain": [
       "Market Return :  4.10%   |   Portfolio Return : -3.49%   |   Position Changes : 265   |   Episode Length : 1330   |\n"
      ]
     },
     "metadata": {},
     "output_type": "display_data"
    },
    {
     "data": {
      "text/html": [
       "<pre style=\"white-space:pre;overflow-x:auto;line-height:normal;font-family:Menlo,'DejaVu Sans Mono',consolas,'Courier New',monospace\">Market Return :  2.70%   |   Portfolio Return : -7.11%   |   Position Changes : 308   |   Episode Length : 1330   |\n",
       "</pre>\n"
      ],
      "text/plain": [
       "Market Return :  2.70%   |   Portfolio Return : -7.11%   |   Position Changes : 308   |   Episode Length : 1330   |\n"
      ]
     },
     "metadata": {},
     "output_type": "display_data"
    },
    {
     "data": {
      "text/html": [
       "<pre style=\"white-space:pre;overflow-x:auto;line-height:normal;font-family:Menlo,'DejaVu Sans Mono',consolas,'Courier New',monospace\">Market Return :  2.71%   |   Portfolio Return : -9.17%   |   Position Changes : 273   |   Episode Length : 1330   |\n",
       "</pre>\n"
      ],
      "text/plain": [
       "Market Return :  2.71%   |   Portfolio Return : -9.17%   |   Position Changes : 273   |   Episode Length : 1330   |\n"
      ]
     },
     "metadata": {},
     "output_type": "display_data"
    },
    {
     "data": {
      "text/html": [
       "<pre style=\"white-space:pre;overflow-x:auto;line-height:normal;font-family:Menlo,'DejaVu Sans Mono',consolas,'Courier New',monospace\">Market Return : -1.11%   |   Portfolio Return : -4.38%   |   Position Changes : 205   |   Episode Length : 1330   |\n",
       "</pre>\n"
      ],
      "text/plain": [
       "Market Return : -1.11%   |   Portfolio Return : -4.38%   |   Position Changes : 205   |   Episode Length : 1330   |\n"
      ]
     },
     "metadata": {},
     "output_type": "display_data"
    },
    {
     "data": {
      "text/html": [
       "<pre style=\"white-space:pre;overflow-x:auto;line-height:normal;font-family:Menlo,'DejaVu Sans Mono',consolas,'Courier New',monospace\">Market Return :  2.48%   |   Portfolio Return :  1.22%   |   Position Changes : 305   |   Episode Length : 1330   |\n",
       "</pre>\n"
      ],
      "text/plain": [
       "Market Return :  2.48%   |   Portfolio Return :  1.22%   |   Position Changes : 305   |   Episode Length : 1330   |\n"
      ]
     },
     "metadata": {},
     "output_type": "display_data"
    },
    {
     "data": {
      "text/html": [
       "<pre style=\"white-space:pre;overflow-x:auto;line-height:normal;font-family:Menlo,'DejaVu Sans Mono',consolas,'Courier New',monospace\">Market Return :  2.00%   |   Portfolio Return : -5.47%   |   Position Changes : 270   |   Episode Length : 1330   |\n",
       "</pre>\n"
      ],
      "text/plain": [
       "Market Return :  2.00%   |   Portfolio Return : -5.47%   |   Position Changes : 270   |   Episode Length : 1330   |\n"
      ]
     },
     "metadata": {},
     "output_type": "display_data"
    },
    {
     "data": {
      "text/html": [
       "<pre style=\"white-space:pre;overflow-x:auto;line-height:normal;font-family:Menlo,'DejaVu Sans Mono',consolas,'Courier New',monospace\">Market Return : -5.67%   |   Portfolio Return : -9.10%   |   Position Changes : 362   |   Episode Length : 1330   |\n",
       "</pre>\n"
      ],
      "text/plain": [
       "Market Return : -5.67%   |   Portfolio Return : -9.10%   |   Position Changes : 362   |   Episode Length : 1330   |\n"
      ]
     },
     "metadata": {},
     "output_type": "display_data"
    },
    {
     "data": {
      "text/html": [
       "<pre style=\"white-space:pre;overflow-x:auto;line-height:normal;font-family:Menlo,'DejaVu Sans Mono',consolas,'Courier New',monospace\">Market Return :  0.66%   |   Portfolio Return : -0.32%   |   Position Changes : 219   |   Episode Length : 1330   |\n",
       "</pre>\n"
      ],
      "text/plain": [
       "Market Return :  0.66%   |   Portfolio Return : -0.32%   |   Position Changes : 219   |   Episode Length : 1330   |\n"
      ]
     },
     "metadata": {},
     "output_type": "display_data"
    },
    {
     "data": {
      "text/html": [
       "<pre style=\"white-space:pre;overflow-x:auto;line-height:normal;font-family:Menlo,'DejaVu Sans Mono',consolas,'Courier New',monospace\">Market Return :  4.81%   |   Portfolio Return : -3.23%   |   Position Changes : 276   |   Episode Length : 1330   |\n",
       "</pre>\n"
      ],
      "text/plain": [
       "Market Return :  4.81%   |   Portfolio Return : -3.23%   |   Position Changes : 276   |   Episode Length : 1330   |\n"
      ]
     },
     "metadata": {},
     "output_type": "display_data"
    },
    {
     "data": {
      "text/html": [
       "<pre style=\"white-space:pre;overflow-x:auto;line-height:normal;font-family:Menlo,'DejaVu Sans Mono',consolas,'Courier New',monospace\">Market Return :  3.92%   |   Portfolio Return : -4.53%   |   Position Changes : 266   |   Episode Length : 1330   |\n",
       "</pre>\n"
      ],
      "text/plain": [
       "Market Return :  3.92%   |   Portfolio Return : -4.53%   |   Position Changes : 266   |   Episode Length : 1330   |\n"
      ]
     },
     "metadata": {},
     "output_type": "display_data"
    },
    {
     "data": {
      "text/html": [
       "<pre style=\"white-space:pre;overflow-x:auto;line-height:normal;font-family:Menlo,'DejaVu Sans Mono',consolas,'Courier New',monospace\">Market Return : -0.56%   |   Portfolio Return : -6.00%   |   Position Changes : 343   |   Episode Length : 1330   |\n",
       "</pre>\n"
      ],
      "text/plain": [
       "Market Return : -0.56%   |   Portfolio Return : -6.00%   |   Position Changes : 343   |   Episode Length : 1330   |\n"
      ]
     },
     "metadata": {},
     "output_type": "display_data"
    },
    {
     "data": {
      "text/html": [
       "<pre style=\"white-space:pre;overflow-x:auto;line-height:normal;font-family:Menlo,'DejaVu Sans Mono',consolas,'Courier New',monospace\">Market Return : -0.89%   |   Portfolio Return : -8.57%   |   Position Changes : 245   |   Episode Length : 1330   |\n",
       "</pre>\n"
      ],
      "text/plain": [
       "Market Return : -0.89%   |   Portfolio Return : -8.57%   |   Position Changes : 245   |   Episode Length : 1330   |\n"
      ]
     },
     "metadata": {},
     "output_type": "display_data"
    },
    {
     "data": {
      "text/html": [
       "<pre style=\"white-space:pre;overflow-x:auto;line-height:normal;font-family:Menlo,'DejaVu Sans Mono',consolas,'Courier New',monospace\">Market Return :  4.28%   |   Portfolio Return : -0.98%   |   Position Changes : 416   |   Episode Length : 1330   |\n",
       "</pre>\n"
      ],
      "text/plain": [
       "Market Return :  4.28%   |   Portfolio Return : -0.98%   |   Position Changes : 416   |   Episode Length : 1330   |\n"
      ]
     },
     "metadata": {},
     "output_type": "display_data"
    },
    {
     "data": {
      "text/html": [
       "<pre style=\"white-space:pre;overflow-x:auto;line-height:normal;font-family:Menlo,'DejaVu Sans Mono',consolas,'Courier New',monospace\">Market Return :  0.68%   |   Portfolio Return : -3.91%   |   Position Changes : 272   |   Episode Length : 1330   |\n",
       "</pre>\n"
      ],
      "text/plain": [
       "Market Return :  0.68%   |   Portfolio Return : -3.91%   |   Position Changes : 272   |   Episode Length : 1330   |\n"
      ]
     },
     "metadata": {},
     "output_type": "display_data"
    },
    {
     "data": {
      "text/html": [
       "<pre style=\"white-space:pre;overflow-x:auto;line-height:normal;font-family:Menlo,'DejaVu Sans Mono',consolas,'Courier New',monospace\">Market Return : -3.72%   |   Portfolio Return : -2.88%   |   Position Changes : 251   |   Episode Length : 1330   |\n",
       "</pre>\n"
      ],
      "text/plain": [
       "Market Return : -3.72%   |   Portfolio Return : -2.88%   |   Position Changes : 251   |   Episode Length : 1330   |\n"
      ]
     },
     "metadata": {},
     "output_type": "display_data"
    },
    {
     "data": {
      "text/html": [
       "<pre style=\"white-space:pre;overflow-x:auto;line-height:normal;font-family:Menlo,'DejaVu Sans Mono',consolas,'Courier New',monospace\">Market Return :  3.55%   |   Portfolio Return : -6.80%   |   Position Changes : 290   |   Episode Length : 1330   |\n",
       "</pre>\n"
      ],
      "text/plain": [
       "Market Return :  3.55%   |   Portfolio Return : -6.80%   |   Position Changes : 290   |   Episode Length : 1330   |\n"
      ]
     },
     "metadata": {},
     "output_type": "display_data"
    },
    {
     "data": {
      "text/html": [
       "<pre style=\"white-space:pre;overflow-x:auto;line-height:normal;font-family:Menlo,'DejaVu Sans Mono',consolas,'Courier New',monospace\">Market Return : -0.48%   |   Portfolio Return : -3.35%   |   Position Changes : 256   |   Episode Length : 1330   |\n",
       "</pre>\n"
      ],
      "text/plain": [
       "Market Return : -0.48%   |   Portfolio Return : -3.35%   |   Position Changes : 256   |   Episode Length : 1330   |\n"
      ]
     },
     "metadata": {},
     "output_type": "display_data"
    },
    {
     "data": {
      "text/html": [
       "<pre style=\"white-space:pre;overflow-x:auto;line-height:normal;font-family:Menlo,'DejaVu Sans Mono',consolas,'Courier New',monospace\">Market Return : -1.94%   |   Portfolio Return : -17.11%   |   Position Changes : 377   |   Episode Length : 1330   \n",
       "|   \n",
       "</pre>\n"
      ],
      "text/plain": [
       "Market Return : -1.94%   |   Portfolio Return : -17.11%   |   Position Changes : 377   |   Episode Length : 1330   \n",
       "|   \n"
      ]
     },
     "metadata": {},
     "output_type": "display_data"
    },
    {
     "data": {
      "text/html": [
       "<pre style=\"white-space:pre;overflow-x:auto;line-height:normal;font-family:Menlo,'DejaVu Sans Mono',consolas,'Courier New',monospace\">Market Return : -0.09%   |   Portfolio Return : -5.33%   |   Position Changes : 270   |   Episode Length : 1330   |\n",
       "</pre>\n"
      ],
      "text/plain": [
       "Market Return : -0.09%   |   Portfolio Return : -5.33%   |   Position Changes : 270   |   Episode Length : 1330   |\n"
      ]
     },
     "metadata": {},
     "output_type": "display_data"
    },
    {
     "data": {
      "text/html": [
       "<pre style=\"white-space:pre;overflow-x:auto;line-height:normal;font-family:Menlo,'DejaVu Sans Mono',consolas,'Courier New',monospace\">Market Return :  4.64%   |   Portfolio Return : -3.24%   |   Position Changes : 233   |   Episode Length : 1330   |\n",
       "</pre>\n"
      ],
      "text/plain": [
       "Market Return :  4.64%   |   Portfolio Return : -3.24%   |   Position Changes : 233   |   Episode Length : 1330   |\n"
      ]
     },
     "metadata": {},
     "output_type": "display_data"
    },
    {
     "data": {
      "text/html": [
       "<pre style=\"white-space:pre;overflow-x:auto;line-height:normal;font-family:Menlo,'DejaVu Sans Mono',consolas,'Courier New',monospace\">Market Return : -3.52%   |   Portfolio Return : -1.35%   |   Position Changes : 192   |   Episode Length : 1330   |\n",
       "</pre>\n"
      ],
      "text/plain": [
       "Market Return : -3.52%   |   Portfolio Return : -1.35%   |   Position Changes : 192   |   Episode Length : 1330   |\n"
      ]
     },
     "metadata": {},
     "output_type": "display_data"
    },
    {
     "data": {
      "text/html": [
       "<pre style=\"white-space:pre;overflow-x:auto;line-height:normal;font-family:Menlo,'DejaVu Sans Mono',consolas,'Courier New',monospace\">Market Return : -1.23%   |   Portfolio Return : -5.62%   |   Position Changes : 256   |   Episode Length : 1330   |\n",
       "</pre>\n"
      ],
      "text/plain": [
       "Market Return : -1.23%   |   Portfolio Return : -5.62%   |   Position Changes : 256   |   Episode Length : 1330   |\n"
      ]
     },
     "metadata": {},
     "output_type": "display_data"
    },
    {
     "data": {
      "text/html": [
       "<pre style=\"white-space:pre;overflow-x:auto;line-height:normal;font-family:Menlo,'DejaVu Sans Mono',consolas,'Courier New',monospace\">Market Return : -0.30%   |   Portfolio Return : -4.66%   |   Position Changes : 197   |   Episode Length : 1330   |\n",
       "</pre>\n"
      ],
      "text/plain": [
       "Market Return : -0.30%   |   Portfolio Return : -4.66%   |   Position Changes : 197   |   Episode Length : 1330   |\n"
      ]
     },
     "metadata": {},
     "output_type": "display_data"
    },
    {
     "data": {
      "text/html": [
       "<pre style=\"white-space:pre;overflow-x:auto;line-height:normal;font-family:Menlo,'DejaVu Sans Mono',consolas,'Courier New',monospace\">Market Return :  0.61%   |   Portfolio Return : -5.41%   |   Position Changes : 253   |   Episode Length : 1330   |\n",
       "</pre>\n"
      ],
      "text/plain": [
       "Market Return :  0.61%   |   Portfolio Return : -5.41%   |   Position Changes : 253   |   Episode Length : 1330   |\n"
      ]
     },
     "metadata": {},
     "output_type": "display_data"
    },
    {
     "data": {
      "text/html": [
       "<pre style=\"white-space:pre;overflow-x:auto;line-height:normal;font-family:Menlo,'DejaVu Sans Mono',consolas,'Courier New',monospace\">Market Return :  4.58%   |   Portfolio Return : -6.03%   |   Position Changes : 440   |   Episode Length : 1330   |\n",
       "</pre>\n"
      ],
      "text/plain": [
       "Market Return :  4.58%   |   Portfolio Return : -6.03%   |   Position Changes : 440   |   Episode Length : 1330   |\n"
      ]
     },
     "metadata": {},
     "output_type": "display_data"
    },
    {
     "data": {
      "text/html": [
       "<pre style=\"white-space:pre;overflow-x:auto;line-height:normal;font-family:Menlo,'DejaVu Sans Mono',consolas,'Courier New',monospace\">Market Return :  2.50%   |   Portfolio Return : -2.64%   |   Position Changes : 234   |   Episode Length : 1330   |\n",
       "</pre>\n"
      ],
      "text/plain": [
       "Market Return :  2.50%   |   Portfolio Return : -2.64%   |   Position Changes : 234   |   Episode Length : 1330   |\n"
      ]
     },
     "metadata": {},
     "output_type": "display_data"
    },
    {
     "data": {
      "text/html": [
       "<pre style=\"white-space:pre;overflow-x:auto;line-height:normal;font-family:Menlo,'DejaVu Sans Mono',consolas,'Courier New',monospace\">Market Return : -0.15%   |   Portfolio Return : -5.75%   |   Position Changes : 300   |   Episode Length : 1330   |\n",
       "</pre>\n"
      ],
      "text/plain": [
       "Market Return : -0.15%   |   Portfolio Return : -5.75%   |   Position Changes : 300   |   Episode Length : 1330   |\n"
      ]
     },
     "metadata": {},
     "output_type": "display_data"
    },
    {
     "data": {
      "text/html": [
       "<pre style=\"white-space:pre;overflow-x:auto;line-height:normal;font-family:Menlo,'DejaVu Sans Mono',consolas,'Courier New',monospace\">Market Return :  3.45%   |   Portfolio Return : -1.62%   |   Position Changes : 307   |   Episode Length : 1330   |\n",
       "</pre>\n"
      ],
      "text/plain": [
       "Market Return :  3.45%   |   Portfolio Return : -1.62%   |   Position Changes : 307   |   Episode Length : 1330   |\n"
      ]
     },
     "metadata": {},
     "output_type": "display_data"
    },
    {
     "data": {
      "text/html": [
       "<pre style=\"white-space:pre;overflow-x:auto;line-height:normal;font-family:Menlo,'DejaVu Sans Mono',consolas,'Courier New',monospace\">Market Return : -3.47%   |   Portfolio Return : -8.18%   |   Position Changes : 338   |   Episode Length : 1330   |\n",
       "</pre>\n"
      ],
      "text/plain": [
       "Market Return : -3.47%   |   Portfolio Return : -8.18%   |   Position Changes : 338   |   Episode Length : 1330   |\n"
      ]
     },
     "metadata": {},
     "output_type": "display_data"
    },
    {
     "data": {
      "text/html": [
       "<pre style=\"white-space:pre;overflow-x:auto;line-height:normal;font-family:Menlo,'DejaVu Sans Mono',consolas,'Courier New',monospace\">Market Return :  0.55%   |   Portfolio Return : -5.24%   |   Position Changes : 216   |   Episode Length : 1330   |\n",
       "</pre>\n"
      ],
      "text/plain": [
       "Market Return :  0.55%   |   Portfolio Return : -5.24%   |   Position Changes : 216   |   Episode Length : 1330   |\n"
      ]
     },
     "metadata": {},
     "output_type": "display_data"
    },
    {
     "data": {
      "text/html": [
       "<pre style=\"white-space:pre;overflow-x:auto;line-height:normal;font-family:Menlo,'DejaVu Sans Mono',consolas,'Courier New',monospace\">Market Return : -1.98%   |   Portfolio Return : -4.08%   |   Position Changes : 269   |   Episode Length : 1330   |\n",
       "</pre>\n"
      ],
      "text/plain": [
       "Market Return : -1.98%   |   Portfolio Return : -4.08%   |   Position Changes : 269   |   Episode Length : 1330   |\n"
      ]
     },
     "metadata": {},
     "output_type": "display_data"
    },
    {
     "data": {
      "text/html": [
       "<pre style=\"white-space:pre;overflow-x:auto;line-height:normal;font-family:Menlo,'DejaVu Sans Mono',consolas,'Courier New',monospace\">Market Return :  0.59%   |   Portfolio Return : -3.41%   |   Position Changes : 176   |   Episode Length : 1330   |\n",
       "</pre>\n"
      ],
      "text/plain": [
       "Market Return :  0.59%   |   Portfolio Return : -3.41%   |   Position Changes : 176   |   Episode Length : 1330   |\n"
      ]
     },
     "metadata": {},
     "output_type": "display_data"
    },
    {
     "data": {
      "text/html": [
       "<pre style=\"white-space:pre;overflow-x:auto;line-height:normal;font-family:Menlo,'DejaVu Sans Mono',consolas,'Courier New',monospace\">Market Return :  0.61%   |   Portfolio Return : -4.31%   |   Position Changes : 185   |   Episode Length : 1330   |\n",
       "</pre>\n"
      ],
      "text/plain": [
       "Market Return :  0.61%   |   Portfolio Return : -4.31%   |   Position Changes : 185   |   Episode Length : 1330   |\n"
      ]
     },
     "metadata": {},
     "output_type": "display_data"
    },
    {
     "data": {
      "text/html": [
       "<pre style=\"white-space:pre;overflow-x:auto;line-height:normal;font-family:Menlo,'DejaVu Sans Mono',consolas,'Courier New',monospace\">Market Return :  1.11%   |   Portfolio Return : -5.74%   |   Position Changes : 233   |   Episode Length : 1330   |\n",
       "</pre>\n"
      ],
      "text/plain": [
       "Market Return :  1.11%   |   Portfolio Return : -5.74%   |   Position Changes : 233   |   Episode Length : 1330   |\n"
      ]
     },
     "metadata": {},
     "output_type": "display_data"
    },
    {
     "data": {
      "text/html": [
       "<pre style=\"white-space:pre;overflow-x:auto;line-height:normal;font-family:Menlo,'DejaVu Sans Mono',consolas,'Courier New',monospace\">Market Return :  0.59%   |   Portfolio Return : -4.79%   |   Position Changes : 200   |   Episode Length : 1330   |\n",
       "</pre>\n"
      ],
      "text/plain": [
       "Market Return :  0.59%   |   Portfolio Return : -4.79%   |   Position Changes : 200   |   Episode Length : 1330   |\n"
      ]
     },
     "metadata": {},
     "output_type": "display_data"
    },
    {
     "data": {
      "text/html": [
       "<pre style=\"white-space:pre;overflow-x:auto;line-height:normal;font-family:Menlo,'DejaVu Sans Mono',consolas,'Courier New',monospace\">Market Return :  1.21%   |   Portfolio Return : -2.64%   |   Position Changes : 137   |   Episode Length : 1330   |\n",
       "</pre>\n"
      ],
      "text/plain": [
       "Market Return :  1.21%   |   Portfolio Return : -2.64%   |   Position Changes : 137   |   Episode Length : 1330   |\n"
      ]
     },
     "metadata": {},
     "output_type": "display_data"
    },
    {
     "data": {
      "text/html": [
       "<pre style=\"white-space:pre;overflow-x:auto;line-height:normal;font-family:Menlo,'DejaVu Sans Mono',consolas,'Courier New',monospace\">Market Return : -1.25%   |   Portfolio Return : -3.85%   |   Position Changes : 309   |   Episode Length : 1270   |\n",
       "</pre>\n"
      ],
      "text/plain": [
       "Market Return : -1.25%   |   Portfolio Return : -3.85%   |   Position Changes : 309   |   Episode Length : 1270   |\n"
      ]
     },
     "metadata": {},
     "output_type": "display_data"
    },
    {
     "data": {
      "text/html": [
       "<pre style=\"white-space:pre;overflow-x:auto;line-height:normal;font-family:Menlo,'DejaVu Sans Mono',consolas,'Courier New',monospace\">Market Return :  0.02%   |   Portfolio Return : -5.13%   |   Position Changes : 205   |   Episode Length : 1330   |\n",
       "</pre>\n"
      ],
      "text/plain": [
       "Market Return :  0.02%   |   Portfolio Return : -5.13%   |   Position Changes : 205   |   Episode Length : 1330   |\n"
      ]
     },
     "metadata": {},
     "output_type": "display_data"
    },
    {
     "data": {
      "text/html": [
       "<pre style=\"white-space:pre;overflow-x:auto;line-height:normal;font-family:Menlo,'DejaVu Sans Mono',consolas,'Courier New',monospace\">Market Return : -1.10%   |   Portfolio Return : -7.70%   |   Position Changes : 238   |   Episode Length : 1330   |\n",
       "</pre>\n"
      ],
      "text/plain": [
       "Market Return : -1.10%   |   Portfolio Return : -7.70%   |   Position Changes : 238   |   Episode Length : 1330   |\n"
      ]
     },
     "metadata": {},
     "output_type": "display_data"
    },
    {
     "data": {
      "text/html": [
       "<pre style=\"white-space:pre;overflow-x:auto;line-height:normal;font-family:Menlo,'DejaVu Sans Mono',consolas,'Courier New',monospace\">Market Return :  0.20%   |   Portfolio Return : -4.75%   |   Position Changes : 247   |   Episode Length : 1330   |\n",
       "</pre>\n"
      ],
      "text/plain": [
       "Market Return :  0.20%   |   Portfolio Return : -4.75%   |   Position Changes : 247   |   Episode Length : 1330   |\n"
      ]
     },
     "metadata": {},
     "output_type": "display_data"
    },
    {
     "data": {
      "text/html": [
       "<pre style=\"white-space:pre;overflow-x:auto;line-height:normal;font-family:Menlo,'DejaVu Sans Mono',consolas,'Courier New',monospace\">Market Return :  0.10%   |   Portfolio Return : -4.57%   |   Position Changes : 183   |   Episode Length : 1330   |\n",
       "</pre>\n"
      ],
      "text/plain": [
       "Market Return :  0.10%   |   Portfolio Return : -4.57%   |   Position Changes : 183   |   Episode Length : 1330   |\n"
      ]
     },
     "metadata": {},
     "output_type": "display_data"
    },
    {
     "data": {
      "text/html": [
       "<pre style=\"white-space:pre;overflow-x:auto;line-height:normal;font-family:Menlo,'DejaVu Sans Mono',consolas,'Courier New',monospace\">Market Return : -0.19%   |   Portfolio Return : -4.78%   |   Position Changes : 231   |   Episode Length : 1330   |\n",
       "</pre>\n"
      ],
      "text/plain": [
       "Market Return : -0.19%   |   Portfolio Return : -4.78%   |   Position Changes : 231   |   Episode Length : 1330   |\n"
      ]
     },
     "metadata": {},
     "output_type": "display_data"
    },
    {
     "data": {
      "text/html": [
       "<pre style=\"white-space:pre;overflow-x:auto;line-height:normal;font-family:Menlo,'DejaVu Sans Mono',consolas,'Courier New',monospace\">Market Return : -3.12%   |   Portfolio Return : -4.15%   |   Position Changes : 243   |   Episode Length : 1330   |\n",
       "</pre>\n"
      ],
      "text/plain": [
       "Market Return : -3.12%   |   Portfolio Return : -4.15%   |   Position Changes : 243   |   Episode Length : 1330   |\n"
      ]
     },
     "metadata": {},
     "output_type": "display_data"
    },
    {
     "data": {
      "text/html": [
       "<pre style=\"white-space:pre;overflow-x:auto;line-height:normal;font-family:Menlo,'DejaVu Sans Mono',consolas,'Courier New',monospace\">Market Return :  0.17%   |   Portfolio Return : -5.45%   |   Position Changes : 246   |   Episode Length : 1330   |\n",
       "</pre>\n"
      ],
      "text/plain": [
       "Market Return :  0.17%   |   Portfolio Return : -5.45%   |   Position Changes : 246   |   Episode Length : 1330   |\n"
      ]
     },
     "metadata": {},
     "output_type": "display_data"
    },
    {
     "data": {
      "text/html": [
       "<pre style=\"white-space:pre;overflow-x:auto;line-height:normal;font-family:Menlo,'DejaVu Sans Mono',consolas,'Courier New',monospace\">Market Return : -0.86%   |   Portfolio Return : -4.99%   |   Position Changes : 235   |   Episode Length : 1330   |\n",
       "</pre>\n"
      ],
      "text/plain": [
       "Market Return : -0.86%   |   Portfolio Return : -4.99%   |   Position Changes : 235   |   Episode Length : 1330   |\n"
      ]
     },
     "metadata": {},
     "output_type": "display_data"
    },
    {
     "data": {
      "text/html": [
       "<pre style=\"white-space:pre;overflow-x:auto;line-height:normal;font-family:Menlo,'DejaVu Sans Mono',consolas,'Courier New',monospace\">Market Return :  0.98%   |   Portfolio Return : -3.75%   |   Position Changes : 255   |   Episode Length : 1330   |\n",
       "</pre>\n"
      ],
      "text/plain": [
       "Market Return :  0.98%   |   Portfolio Return : -3.75%   |   Position Changes : 255   |   Episode Length : 1330   |\n"
      ]
     },
     "metadata": {},
     "output_type": "display_data"
    },
    {
     "data": {
      "text/html": [
       "<pre style=\"white-space:pre;overflow-x:auto;line-height:normal;font-family:Menlo,'DejaVu Sans Mono',consolas,'Courier New',monospace\">Market Return : -0.83%   |   Portfolio Return : -2.69%   |   Position Changes : 239   |   Episode Length : 1330   |\n",
       "</pre>\n"
      ],
      "text/plain": [
       "Market Return : -0.83%   |   Portfolio Return : -2.69%   |   Position Changes : 239   |   Episode Length : 1330   |\n"
      ]
     },
     "metadata": {},
     "output_type": "display_data"
    },
    {
     "data": {
      "text/html": [
       "<pre style=\"white-space:pre;overflow-x:auto;line-height:normal;font-family:Menlo,'DejaVu Sans Mono',consolas,'Courier New',monospace\">Market Return : -5.53%   |   Portfolio Return : -9.38%   |   Position Changes : 405   |   Episode Length : 1330   |\n",
       "</pre>\n"
      ],
      "text/plain": [
       "Market Return : -5.53%   |   Portfolio Return : -9.38%   |   Position Changes : 405   |   Episode Length : 1330   |\n"
      ]
     },
     "metadata": {},
     "output_type": "display_data"
    },
    {
     "data": {
      "text/html": [
       "<pre style=\"white-space:pre;overflow-x:auto;line-height:normal;font-family:Menlo,'DejaVu Sans Mono',consolas,'Courier New',monospace\">Market Return :  1.80%   |   Portfolio Return : -6.43%   |   Position Changes : 309   |   Episode Length : 1330   |\n",
       "</pre>\n"
      ],
      "text/plain": [
       "Market Return :  1.80%   |   Portfolio Return : -6.43%   |   Position Changes : 309   |   Episode Length : 1330   |\n"
      ]
     },
     "metadata": {},
     "output_type": "display_data"
    },
    {
     "data": {
      "text/html": [
       "<pre style=\"white-space:pre;overflow-x:auto;line-height:normal;font-family:Menlo,'DejaVu Sans Mono',consolas,'Courier New',monospace\">Market Return :  0.92%   |   Portfolio Return : -2.38%   |   Position Changes : 273   |   Episode Length : 1330   |\n",
       "</pre>\n"
      ],
      "text/plain": [
       "Market Return :  0.92%   |   Portfolio Return : -2.38%   |   Position Changes : 273   |   Episode Length : 1330   |\n"
      ]
     },
     "metadata": {},
     "output_type": "display_data"
    },
    {
     "data": {
      "text/html": [
       "<pre style=\"white-space:pre;overflow-x:auto;line-height:normal;font-family:Menlo,'DejaVu Sans Mono',consolas,'Courier New',monospace\">Market Return : -4.28%   |   Portfolio Return : -16.99%   |   Position Changes : 383   |   Episode Length : 1330   \n",
       "|   \n",
       "</pre>\n"
      ],
      "text/plain": [
       "Market Return : -4.28%   |   Portfolio Return : -16.99%   |   Position Changes : 383   |   Episode Length : 1330   \n",
       "|   \n"
      ]
     },
     "metadata": {},
     "output_type": "display_data"
    },
    {
     "data": {
      "text/html": [
       "<pre style=\"white-space:pre;overflow-x:auto;line-height:normal;font-family:Menlo,'DejaVu Sans Mono',consolas,'Courier New',monospace\">Market Return : -0.15%   |   Portfolio Return : -5.49%   |   Position Changes : 263   |   Episode Length : 1330   |\n",
       "</pre>\n"
      ],
      "text/plain": [
       "Market Return : -0.15%   |   Portfolio Return : -5.49%   |   Position Changes : 263   |   Episode Length : 1330   |\n"
      ]
     },
     "metadata": {},
     "output_type": "display_data"
    },
    {
     "data": {
      "text/html": [
       "<pre style=\"white-space:pre;overflow-x:auto;line-height:normal;font-family:Menlo,'DejaVu Sans Mono',consolas,'Courier New',monospace\">Market Return :  0.20%   |   Portfolio Return : -5.54%   |   Position Changes : 221   |   Episode Length : 1330   |\n",
       "</pre>\n"
      ],
      "text/plain": [
       "Market Return :  0.20%   |   Portfolio Return : -5.54%   |   Position Changes : 221   |   Episode Length : 1330   |\n"
      ]
     },
     "metadata": {},
     "output_type": "display_data"
    },
    {
     "data": {
      "text/html": [
       "<pre style=\"white-space:pre;overflow-x:auto;line-height:normal;font-family:Menlo,'DejaVu Sans Mono',consolas,'Courier New',monospace\">Market Return : -0.32%   |   Portfolio Return : -5.56%   |   Position Changes : 328   |   Episode Length : 1330   |\n",
       "</pre>\n"
      ],
      "text/plain": [
       "Market Return : -0.32%   |   Portfolio Return : -5.56%   |   Position Changes : 328   |   Episode Length : 1330   |\n"
      ]
     },
     "metadata": {},
     "output_type": "display_data"
    },
    {
     "data": {
      "text/html": [
       "<pre style=\"white-space:pre;overflow-x:auto;line-height:normal;font-family:Menlo,'DejaVu Sans Mono',consolas,'Courier New',monospace\">Market Return :  0.72%   |   Portfolio Return : -7.22%   |   Position Changes : 278   |   Episode Length : 1330   |\n",
       "</pre>\n"
      ],
      "text/plain": [
       "Market Return :  0.72%   |   Portfolio Return : -7.22%   |   Position Changes : 278   |   Episode Length : 1330   |\n"
      ]
     },
     "metadata": {},
     "output_type": "display_data"
    },
    {
     "data": {
      "text/html": [
       "<pre style=\"white-space:pre;overflow-x:auto;line-height:normal;font-family:Menlo,'DejaVu Sans Mono',consolas,'Courier New',monospace\">Market Return :  0.21%   |   Portfolio Return : -4.33%   |   Position Changes : 397   |   Episode Length : 1330   |\n",
       "</pre>\n"
      ],
      "text/plain": [
       "Market Return :  0.21%   |   Portfolio Return : -4.33%   |   Position Changes : 397   |   Episode Length : 1330   |\n"
      ]
     },
     "metadata": {},
     "output_type": "display_data"
    },
    {
     "data": {
      "text/html": [
       "<pre style=\"white-space:pre;overflow-x:auto;line-height:normal;font-family:Menlo,'DejaVu Sans Mono',consolas,'Courier New',monospace\">Market Return : -0.69%   |   Portfolio Return : -4.06%   |   Position Changes : 274   |   Episode Length : 1330   |\n",
       "</pre>\n"
      ],
      "text/plain": [
       "Market Return : -0.69%   |   Portfolio Return : -4.06%   |   Position Changes : 274   |   Episode Length : 1330   |\n"
      ]
     },
     "metadata": {},
     "output_type": "display_data"
    },
    {
     "data": {
      "text/html": [
       "<pre style=\"white-space:pre;overflow-x:auto;line-height:normal;font-family:Menlo,'DejaVu Sans Mono',consolas,'Courier New',monospace\">Market Return :  0.06%   |   Portfolio Return : -5.15%   |   Position Changes : 264   |   Episode Length : 1330   |\n",
       "</pre>\n"
      ],
      "text/plain": [
       "Market Return :  0.06%   |   Portfolio Return : -5.15%   |   Position Changes : 264   |   Episode Length : 1330   |\n"
      ]
     },
     "metadata": {},
     "output_type": "display_data"
    },
    {
     "data": {
      "text/html": [
       "<pre style=\"white-space:pre;overflow-x:auto;line-height:normal;font-family:Menlo,'DejaVu Sans Mono',consolas,'Courier New',monospace\">Market Return : -0.42%   |   Portfolio Return : -6.81%   |   Position Changes : 308   |   Episode Length : 1330   |\n",
       "</pre>\n"
      ],
      "text/plain": [
       "Market Return : -0.42%   |   Portfolio Return : -6.81%   |   Position Changes : 308   |   Episode Length : 1330   |\n"
      ]
     },
     "metadata": {},
     "output_type": "display_data"
    },
    {
     "data": {
      "text/html": [
       "<pre style=\"white-space:pre;overflow-x:auto;line-height:normal;font-family:Menlo,'DejaVu Sans Mono',consolas,'Courier New',monospace\">Market Return :  5.03%   |   Portfolio Return : -2.94%   |   Position Changes : 301   |   Episode Length : 1330   |\n",
       "</pre>\n"
      ],
      "text/plain": [
       "Market Return :  5.03%   |   Portfolio Return : -2.94%   |   Position Changes : 301   |   Episode Length : 1330   |\n"
      ]
     },
     "metadata": {},
     "output_type": "display_data"
    },
    {
     "data": {
      "text/html": [
       "<pre style=\"white-space:pre;overflow-x:auto;line-height:normal;font-family:Menlo,'DejaVu Sans Mono',consolas,'Courier New',monospace\">Market Return : -0.09%   |   Portfolio Return : -4.17%   |   Position Changes : 173   |   Episode Length : 1330   |\n",
       "</pre>\n"
      ],
      "text/plain": [
       "Market Return : -0.09%   |   Portfolio Return : -4.17%   |   Position Changes : 173   |   Episode Length : 1330   |\n"
      ]
     },
     "metadata": {},
     "output_type": "display_data"
    },
    {
     "data": {
      "text/html": [
       "<pre style=\"white-space:pre;overflow-x:auto;line-height:normal;font-family:Menlo,'DejaVu Sans Mono',consolas,'Courier New',monospace\">Market Return : -1.71%   |   Portfolio Return : -8.48%   |   Position Changes : 249   |   Episode Length : 1330   |\n",
       "</pre>\n"
      ],
      "text/plain": [
       "Market Return : -1.71%   |   Portfolio Return : -8.48%   |   Position Changes : 249   |   Episode Length : 1330   |\n"
      ]
     },
     "metadata": {},
     "output_type": "display_data"
    },
    {
     "data": {
      "text/html": [
       "<pre style=\"white-space:pre;overflow-x:auto;line-height:normal;font-family:Menlo,'DejaVu Sans Mono',consolas,'Courier New',monospace\">Market Return : -1.43%   |   Portfolio Return : -5.15%   |   Position Changes : 263   |   Episode Length : 1330   |\n",
       "</pre>\n"
      ],
      "text/plain": [
       "Market Return : -1.43%   |   Portfolio Return : -5.15%   |   Position Changes : 263   |   Episode Length : 1330   |\n"
      ]
     },
     "metadata": {},
     "output_type": "display_data"
    },
    {
     "data": {
      "text/html": [
       "<pre style=\"white-space:pre;overflow-x:auto;line-height:normal;font-family:Menlo,'DejaVu Sans Mono',consolas,'Courier New',monospace\">Market Return : -0.72%   |   Portfolio Return : -3.60%   |   Position Changes : 331   |   Episode Length : 1330   |\n",
       "</pre>\n"
      ],
      "text/plain": [
       "Market Return : -0.72%   |   Portfolio Return : -3.60%   |   Position Changes : 331   |   Episode Length : 1330   |\n"
      ]
     },
     "metadata": {},
     "output_type": "display_data"
    },
    {
     "data": {
      "text/html": [
       "<pre style=\"white-space:pre;overflow-x:auto;line-height:normal;font-family:Menlo,'DejaVu Sans Mono',consolas,'Courier New',monospace\">Market Return :  2.99%   |   Portfolio Return : -3.31%   |   Position Changes : 260   |   Episode Length : 1330   |\n",
       "</pre>\n"
      ],
      "text/plain": [
       "Market Return :  2.99%   |   Portfolio Return : -3.31%   |   Position Changes : 260   |   Episode Length : 1330   |\n"
      ]
     },
     "metadata": {},
     "output_type": "display_data"
    },
    {
     "data": {
      "text/html": [
       "<pre style=\"white-space:pre;overflow-x:auto;line-height:normal;font-family:Menlo,'DejaVu Sans Mono',consolas,'Courier New',monospace\">Market Return : -0.93%   |   Portfolio Return : -5.19%   |   Position Changes : 352   |   Episode Length : 1330   |\n",
       "</pre>\n"
      ],
      "text/plain": [
       "Market Return : -0.93%   |   Portfolio Return : -5.19%   |   Position Changes : 352   |   Episode Length : 1330   |\n"
      ]
     },
     "metadata": {},
     "output_type": "display_data"
    },
    {
     "data": {
      "text/html": [
       "<pre style=\"white-space:pre;overflow-x:auto;line-height:normal;font-family:Menlo,'DejaVu Sans Mono',consolas,'Courier New',monospace\">Market Return :  8.30%   |   Portfolio Return : -0.13%   |   Position Changes : 330   |   Episode Length : 1330   |\n",
       "</pre>\n"
      ],
      "text/plain": [
       "Market Return :  8.30%   |   Portfolio Return : -0.13%   |   Position Changes : 330   |   Episode Length : 1330   |\n"
      ]
     },
     "metadata": {},
     "output_type": "display_data"
    },
    {
     "data": {
      "text/html": [
       "<pre style=\"white-space:pre;overflow-x:auto;line-height:normal;font-family:Menlo,'DejaVu Sans Mono',consolas,'Courier New',monospace\">Market Return : -1.91%   |   Portfolio Return : -6.44%   |   Position Changes : 258   |   Episode Length : 1330   |\n",
       "</pre>\n"
      ],
      "text/plain": [
       "Market Return : -1.91%   |   Portfolio Return : -6.44%   |   Position Changes : 258   |   Episode Length : 1330   |\n"
      ]
     },
     "metadata": {},
     "output_type": "display_data"
    },
    {
     "data": {
      "text/html": [
       "<pre style=\"white-space:pre;overflow-x:auto;line-height:normal;font-family:Menlo,'DejaVu Sans Mono',consolas,'Courier New',monospace\">Market Return :  1.85%   |   Portfolio Return : -5.05%   |   Position Changes : 270   |   Episode Length : 1330   |\n",
       "</pre>\n"
      ],
      "text/plain": [
       "Market Return :  1.85%   |   Portfolio Return : -5.05%   |   Position Changes : 270   |   Episode Length : 1330   |\n"
      ]
     },
     "metadata": {},
     "output_type": "display_data"
    },
    {
     "data": {
      "text/html": [
       "<pre style=\"white-space:pre;overflow-x:auto;line-height:normal;font-family:Menlo,'DejaVu Sans Mono',consolas,'Courier New',monospace\">Market Return :  0.10%   |   Portfolio Return : -4.30%   |   Position Changes : 190   |   Episode Length : 1330   |\n",
       "</pre>\n"
      ],
      "text/plain": [
       "Market Return :  0.10%   |   Portfolio Return : -4.30%   |   Position Changes : 190   |   Episode Length : 1330   |\n"
      ]
     },
     "metadata": {},
     "output_type": "display_data"
    },
    {
     "data": {
      "text/html": [
       "<pre style=\"white-space:pre;overflow-x:auto;line-height:normal;font-family:Menlo,'DejaVu Sans Mono',consolas,'Courier New',monospace\">Market Return :  6.16%   |   Portfolio Return :  6.22%   |   Position Changes : 414   |   Episode Length : 1330   |\n",
       "</pre>\n"
      ],
      "text/plain": [
       "Market Return :  6.16%   |   Portfolio Return :  6.22%   |   Position Changes : 414   |   Episode Length : 1330   |\n"
      ]
     },
     "metadata": {},
     "output_type": "display_data"
    },
    {
     "data": {
      "text/html": [
       "<pre style=\"white-space:pre;overflow-x:auto;line-height:normal;font-family:Menlo,'DejaVu Sans Mono',consolas,'Courier New',monospace\">Market Return : -3.30%   |   Portfolio Return : -8.02%   |   Position Changes : 375   |   Episode Length : 1330   |\n",
       "</pre>\n"
      ],
      "text/plain": [
       "Market Return : -3.30%   |   Portfolio Return : -8.02%   |   Position Changes : 375   |   Episode Length : 1330   |\n"
      ]
     },
     "metadata": {},
     "output_type": "display_data"
    },
    {
     "data": {
      "text/html": [
       "<pre style=\"white-space:pre;overflow-x:auto;line-height:normal;font-family:Menlo,'DejaVu Sans Mono',consolas,'Courier New',monospace\">Market Return : -6.33%   |   Portfolio Return : -11.00%   |   Position Changes : 360   |   Episode Length : 1330   \n",
       "|   \n",
       "</pre>\n"
      ],
      "text/plain": [
       "Market Return : -6.33%   |   Portfolio Return : -11.00%   |   Position Changes : 360   |   Episode Length : 1330   \n",
       "|   \n"
      ]
     },
     "metadata": {},
     "output_type": "display_data"
    },
    {
     "data": {
      "text/html": [
       "<pre style=\"white-space:pre;overflow-x:auto;line-height:normal;font-family:Menlo,'DejaVu Sans Mono',consolas,'Courier New',monospace\">Market Return : -5.51%   |   Portfolio Return : -5.61%   |   Position Changes : 431   |   Episode Length : 1330   |\n",
       "</pre>\n"
      ],
      "text/plain": [
       "Market Return : -5.51%   |   Portfolio Return : -5.61%   |   Position Changes : 431   |   Episode Length : 1330   |\n"
      ]
     },
     "metadata": {},
     "output_type": "display_data"
    },
    {
     "data": {
      "text/html": [
       "<pre style=\"white-space:pre;overflow-x:auto;line-height:normal;font-family:Menlo,'DejaVu Sans Mono',consolas,'Courier New',monospace\">Market Return :  0.35%   |   Portfolio Return : -2.49%   |   Position Changes : 217   |   Episode Length : 1330   |\n",
       "</pre>\n"
      ],
      "text/plain": [
       "Market Return :  0.35%   |   Portfolio Return : -2.49%   |   Position Changes : 217   |   Episode Length : 1330   |\n"
      ]
     },
     "metadata": {},
     "output_type": "display_data"
    },
    {
     "data": {
      "text/html": [
       "<pre style=\"white-space:pre;overflow-x:auto;line-height:normal;font-family:Menlo,'DejaVu Sans Mono',consolas,'Courier New',monospace\">Market Return : -6.90%   |   Portfolio Return : -5.43%   |   Position Changes : 317   |   Episode Length : 1330   |\n",
       "</pre>\n"
      ],
      "text/plain": [
       "Market Return : -6.90%   |   Portfolio Return : -5.43%   |   Position Changes : 317   |   Episode Length : 1330   |\n"
      ]
     },
     "metadata": {},
     "output_type": "display_data"
    },
    {
     "data": {
      "text/html": [
       "<pre style=\"white-space:pre;overflow-x:auto;line-height:normal;font-family:Menlo,'DejaVu Sans Mono',consolas,'Courier New',monospace\">Market Return :  4.67%   |   Portfolio Return : -1.30%   |   Position Changes : 281   |   Episode Length : 1330   |\n",
       "</pre>\n"
      ],
      "text/plain": [
       "Market Return :  4.67%   |   Portfolio Return : -1.30%   |   Position Changes : 281   |   Episode Length : 1330   |\n"
      ]
     },
     "metadata": {},
     "output_type": "display_data"
    },
    {
     "data": {
      "text/html": [
       "<pre style=\"white-space:pre;overflow-x:auto;line-height:normal;font-family:Menlo,'DejaVu Sans Mono',consolas,'Courier New',monospace\">Market Return : -0.97%   |   Portfolio Return : -6.03%   |   Position Changes : 260   |   Episode Length : 1330   |\n",
       "</pre>\n"
      ],
      "text/plain": [
       "Market Return : -0.97%   |   Portfolio Return : -6.03%   |   Position Changes : 260   |   Episode Length : 1330   |\n"
      ]
     },
     "metadata": {},
     "output_type": "display_data"
    },
    {
     "data": {
      "text/html": [
       "<pre style=\"white-space:pre;overflow-x:auto;line-height:normal;font-family:Menlo,'DejaVu Sans Mono',consolas,'Courier New',monospace\">Market Return :  0.09%   |   Portfolio Return : -4.75%   |   Position Changes : 194   |   Episode Length : 1330   |\n",
       "</pre>\n"
      ],
      "text/plain": [
       "Market Return :  0.09%   |   Portfolio Return : -4.75%   |   Position Changes : 194   |   Episode Length : 1330   |\n"
      ]
     },
     "metadata": {},
     "output_type": "display_data"
    },
    {
     "data": {
      "text/html": [
       "<pre style=\"white-space:pre;overflow-x:auto;line-height:normal;font-family:Menlo,'DejaVu Sans Mono',consolas,'Courier New',monospace\">Market Return : -1.51%   |   Portfolio Return : -3.82%   |   Position Changes : 259   |   Episode Length : 1330   |\n",
       "</pre>\n"
      ],
      "text/plain": [
       "Market Return : -1.51%   |   Portfolio Return : -3.82%   |   Position Changes : 259   |   Episode Length : 1330   |\n"
      ]
     },
     "metadata": {},
     "output_type": "display_data"
    },
    {
     "data": {
      "text/html": [
       "<pre style=\"white-space:pre;overflow-x:auto;line-height:normal;font-family:Menlo,'DejaVu Sans Mono',consolas,'Courier New',monospace\">Market Return : -1.64%   |   Portfolio Return : -4.15%   |   Position Changes : 231   |   Episode Length : 1330   |\n",
       "</pre>\n"
      ],
      "text/plain": [
       "Market Return : -1.64%   |   Portfolio Return : -4.15%   |   Position Changes : 231   |   Episode Length : 1330   |\n"
      ]
     },
     "metadata": {},
     "output_type": "display_data"
    },
    {
     "data": {
      "text/html": [
       "<pre style=\"white-space:pre;overflow-x:auto;line-height:normal;font-family:Menlo,'DejaVu Sans Mono',consolas,'Courier New',monospace\">Market Return :  1.91%   |   Portfolio Return : -2.38%   |   Position Changes : 216   |   Episode Length : 1330   |\n",
       "</pre>\n"
      ],
      "text/plain": [
       "Market Return :  1.91%   |   Portfolio Return : -2.38%   |   Position Changes : 216   |   Episode Length : 1330   |\n"
      ]
     },
     "metadata": {},
     "output_type": "display_data"
    },
    {
     "data": {
      "text/html": [
       "<pre style=\"white-space:pre;overflow-x:auto;line-height:normal;font-family:Menlo,'DejaVu Sans Mono',consolas,'Courier New',monospace\">Market Return : -2.89%   |   Portfolio Return : -5.37%   |   Position Changes : 242   |   Episode Length : 1330   |\n",
       "</pre>\n"
      ],
      "text/plain": [
       "Market Return : -2.89%   |   Portfolio Return : -5.37%   |   Position Changes : 242   |   Episode Length : 1330   |\n"
      ]
     },
     "metadata": {},
     "output_type": "display_data"
    },
    {
     "data": {
      "text/html": [
       "<pre style=\"white-space:pre;overflow-x:auto;line-height:normal;font-family:Menlo,'DejaVu Sans Mono',consolas,'Courier New',monospace\">Market Return : -2.23%   |   Portfolio Return : -7.94%   |   Position Changes : 263   |   Episode Length : 1330   |\n",
       "</pre>\n"
      ],
      "text/plain": [
       "Market Return : -2.23%   |   Portfolio Return : -7.94%   |   Position Changes : 263   |   Episode Length : 1330   |\n"
      ]
     },
     "metadata": {},
     "output_type": "display_data"
    },
    {
     "data": {
      "text/html": [
       "<pre style=\"white-space:pre;overflow-x:auto;line-height:normal;font-family:Menlo,'DejaVu Sans Mono',consolas,'Courier New',monospace\">Market Return : -1.51%   |   Portfolio Return : -8.70%   |   Position Changes : 301   |   Episode Length : 1330   |\n",
       "</pre>\n"
      ],
      "text/plain": [
       "Market Return : -1.51%   |   Portfolio Return : -8.70%   |   Position Changes : 301   |   Episode Length : 1330   |\n"
      ]
     },
     "metadata": {},
     "output_type": "display_data"
    },
    {
     "data": {
      "text/html": [
       "<pre style=\"white-space:pre;overflow-x:auto;line-height:normal;font-family:Menlo,'DejaVu Sans Mono',consolas,'Courier New',monospace\">Market Return :  0.64%   |   Portfolio Return : -3.50%   |   Position Changes : 248   |   Episode Length : 1330   |\n",
       "</pre>\n"
      ],
      "text/plain": [
       "Market Return :  0.64%   |   Portfolio Return : -3.50%   |   Position Changes : 248   |   Episode Length : 1330   |\n"
      ]
     },
     "metadata": {},
     "output_type": "display_data"
    },
    {
     "data": {
      "text/html": [
       "<pre style=\"white-space:pre;overflow-x:auto;line-height:normal;font-family:Menlo,'DejaVu Sans Mono',consolas,'Courier New',monospace\">Market Return : -1.44%   |   Portfolio Return : -4.38%   |   Position Changes : 218   |   Episode Length : 1330   |\n",
       "</pre>\n"
      ],
      "text/plain": [
       "Market Return : -1.44%   |   Portfolio Return : -4.38%   |   Position Changes : 218   |   Episode Length : 1330   |\n"
      ]
     },
     "metadata": {},
     "output_type": "display_data"
    },
    {
     "data": {
      "text/html": [
       "<pre style=\"white-space:pre;overflow-x:auto;line-height:normal;font-family:Menlo,'DejaVu Sans Mono',consolas,'Courier New',monospace\">Market Return : -1.64%   |   Portfolio Return : -7.19%   |   Position Changes : 310   |   Episode Length : 1330   |\n",
       "</pre>\n"
      ],
      "text/plain": [
       "Market Return : -1.64%   |   Portfolio Return : -7.19%   |   Position Changes : 310   |   Episode Length : 1330   |\n"
      ]
     },
     "metadata": {},
     "output_type": "display_data"
    },
    {
     "data": {
      "text/html": [
       "<pre style=\"white-space:pre;overflow-x:auto;line-height:normal;font-family:Menlo,'DejaVu Sans Mono',consolas,'Courier New',monospace\">Market Return : -4.47%   |   Portfolio Return : -27.18%   |   Position Changes : 416   |   Episode Length : 1330   \n",
       "|   \n",
       "</pre>\n"
      ],
      "text/plain": [
       "Market Return : -4.47%   |   Portfolio Return : -27.18%   |   Position Changes : 416   |   Episode Length : 1330   \n",
       "|   \n"
      ]
     },
     "metadata": {},
     "output_type": "display_data"
    },
    {
     "data": {
      "text/html": [
       "<pre style=\"white-space:pre;overflow-x:auto;line-height:normal;font-family:Menlo,'DejaVu Sans Mono',consolas,'Courier New',monospace\">Market Return :  2.70%   |   Portfolio Return : -2.96%   |   Position Changes : 222   |   Episode Length : 1270   |\n",
       "</pre>\n"
      ],
      "text/plain": [
       "Market Return :  2.70%   |   Portfolio Return : -2.96%   |   Position Changes : 222   |   Episode Length : 1270   |\n"
      ]
     },
     "metadata": {},
     "output_type": "display_data"
    },
    {
     "data": {
      "text/html": [
       "<pre style=\"white-space:pre;overflow-x:auto;line-height:normal;font-family:Menlo,'DejaVu Sans Mono',consolas,'Courier New',monospace\">Market Return : -0.18%   |   Portfolio Return : -3.70%   |   Position Changes : 209   |   Episode Length : 1330   |\n",
       "</pre>\n"
      ],
      "text/plain": [
       "Market Return : -0.18%   |   Portfolio Return : -3.70%   |   Position Changes : 209   |   Episode Length : 1330   |\n"
      ]
     },
     "metadata": {},
     "output_type": "display_data"
    },
    {
     "data": {
      "text/html": [
       "<pre style=\"white-space:pre;overflow-x:auto;line-height:normal;font-family:Menlo,'DejaVu Sans Mono',consolas,'Courier New',monospace\">Market Return : -1.94%   |   Portfolio Return : -10.07%   |   Position Changes : 374   |   Episode Length : 1330   \n",
       "|   \n",
       "</pre>\n"
      ],
      "text/plain": [
       "Market Return : -1.94%   |   Portfolio Return : -10.07%   |   Position Changes : 374   |   Episode Length : 1330   \n",
       "|   \n"
      ]
     },
     "metadata": {},
     "output_type": "display_data"
    },
    {
     "data": {
      "text/html": [
       "<pre style=\"white-space:pre;overflow-x:auto;line-height:normal;font-family:Menlo,'DejaVu Sans Mono',consolas,'Courier New',monospace\">Market Return : -0.58%   |   Portfolio Return : -4.68%   |   Position Changes : 209   |   Episode Length : 1330   |\n",
       "</pre>\n"
      ],
      "text/plain": [
       "Market Return : -0.58%   |   Portfolio Return : -4.68%   |   Position Changes : 209   |   Episode Length : 1330   |\n"
      ]
     },
     "metadata": {},
     "output_type": "display_data"
    },
    {
     "data": {
      "text/html": [
       "<pre style=\"white-space:pre;overflow-x:auto;line-height:normal;font-family:Menlo,'DejaVu Sans Mono',consolas,'Courier New',monospace\">Market Return :  0.40%   |   Portfolio Return : -1.55%   |   Position Changes : 226   |   Episode Length : 1330   |\n",
       "</pre>\n"
      ],
      "text/plain": [
       "Market Return :  0.40%   |   Portfolio Return : -1.55%   |   Position Changes : 226   |   Episode Length : 1330   |\n"
      ]
     },
     "metadata": {},
     "output_type": "display_data"
    },
    {
     "data": {
      "text/html": [
       "<pre style=\"white-space:pre;overflow-x:auto;line-height:normal;font-family:Menlo,'DejaVu Sans Mono',consolas,'Courier New',monospace\">Market Return : -0.12%   |   Portfolio Return : -17.43%   |   Position Changes : 467   |   Episode Length : 1330   \n",
       "|   \n",
       "</pre>\n"
      ],
      "text/plain": [
       "Market Return : -0.12%   |   Portfolio Return : -17.43%   |   Position Changes : 467   |   Episode Length : 1330   \n",
       "|   \n"
      ]
     },
     "metadata": {},
     "output_type": "display_data"
    },
    {
     "data": {
      "text/html": [
       "<pre style=\"white-space:pre;overflow-x:auto;line-height:normal;font-family:Menlo,'DejaVu Sans Mono',consolas,'Courier New',monospace\">Market Return :  0.07%   |   Portfolio Return : -4.32%   |   Position Changes : 183   |   Episode Length : 1330   |\n",
       "</pre>\n"
      ],
      "text/plain": [
       "Market Return :  0.07%   |   Portfolio Return : -4.32%   |   Position Changes : 183   |   Episode Length : 1330   |\n"
      ]
     },
     "metadata": {},
     "output_type": "display_data"
    },
    {
     "data": {
      "text/html": [
       "<pre style=\"white-space:pre;overflow-x:auto;line-height:normal;font-family:Menlo,'DejaVu Sans Mono',consolas,'Courier New',monospace\">Market Return :  4.28%   |   Portfolio Return : -3.10%   |   Position Changes : 308   |   Episode Length : 1330   |\n",
       "</pre>\n"
      ],
      "text/plain": [
       "Market Return :  4.28%   |   Portfolio Return : -3.10%   |   Position Changes : 308   |   Episode Length : 1330   |\n"
      ]
     },
     "metadata": {},
     "output_type": "display_data"
    },
    {
     "data": {
      "text/html": [
       "<pre style=\"white-space:pre;overflow-x:auto;line-height:normal;font-family:Menlo,'DejaVu Sans Mono',consolas,'Courier New',monospace\">Market Return :  0.47%   |   Portfolio Return : -4.08%   |   Position Changes : 248   |   Episode Length : 1330   |\n",
       "</pre>\n"
      ],
      "text/plain": [
       "Market Return :  0.47%   |   Portfolio Return : -4.08%   |   Position Changes : 248   |   Episode Length : 1330   |\n"
      ]
     },
     "metadata": {},
     "output_type": "display_data"
    },
    {
     "data": {
      "text/html": [
       "<pre style=\"white-space:pre;overflow-x:auto;line-height:normal;font-family:Menlo,'DejaVu Sans Mono',consolas,'Courier New',monospace\">Market Return :  3.16%   |   Portfolio Return : -5.87%   |   Position Changes : 250   |   Episode Length : 1330   |\n",
       "</pre>\n"
      ],
      "text/plain": [
       "Market Return :  3.16%   |   Portfolio Return : -5.87%   |   Position Changes : 250   |   Episode Length : 1330   |\n"
      ]
     },
     "metadata": {},
     "output_type": "display_data"
    },
    {
     "data": {
      "text/html": [
       "<pre style=\"white-space:pre;overflow-x:auto;line-height:normal;font-family:Menlo,'DejaVu Sans Mono',consolas,'Courier New',monospace\">Market Return :  9.20%   |   Portfolio Return : -16.32%   |   Position Changes : 421   |   Episode Length : 1330   \n",
       "|   \n",
       "</pre>\n"
      ],
      "text/plain": [
       "Market Return :  9.20%   |   Portfolio Return : -16.32%   |   Position Changes : 421   |   Episode Length : 1330   \n",
       "|   \n"
      ]
     },
     "metadata": {},
     "output_type": "display_data"
    },
    {
     "data": {
      "text/html": [
       "<pre style=\"white-space:pre;overflow-x:auto;line-height:normal;font-family:Menlo,'DejaVu Sans Mono',consolas,'Courier New',monospace\">Market Return : -2.13%   |   Portfolio Return : -4.24%   |   Position Changes : 224   |   Episode Length : 1330   |\n",
       "</pre>\n"
      ],
      "text/plain": [
       "Market Return : -2.13%   |   Portfolio Return : -4.24%   |   Position Changes : 224   |   Episode Length : 1330   |\n"
      ]
     },
     "metadata": {},
     "output_type": "display_data"
    },
    {
     "data": {
      "text/html": [
       "<pre style=\"white-space:pre;overflow-x:auto;line-height:normal;font-family:Menlo,'DejaVu Sans Mono',consolas,'Courier New',monospace\">Market Return :  0.08%   |   Portfolio Return :  0.33%   |   Position Changes : 293   |   Episode Length : 1330   |\n",
       "</pre>\n"
      ],
      "text/plain": [
       "Market Return :  0.08%   |   Portfolio Return :  0.33%   |   Position Changes : 293   |   Episode Length : 1330   |\n"
      ]
     },
     "metadata": {},
     "output_type": "display_data"
    },
    {
     "data": {
      "text/html": [
       "<pre style=\"white-space:pre;overflow-x:auto;line-height:normal;font-family:Menlo,'DejaVu Sans Mono',consolas,'Courier New',monospace\">Market Return :  2.48%   |   Portfolio Return : -0.35%   |   Position Changes : 305   |   Episode Length : 1330   |\n",
       "</pre>\n"
      ],
      "text/plain": [
       "Market Return :  2.48%   |   Portfolio Return : -0.35%   |   Position Changes : 305   |   Episode Length : 1330   |\n"
      ]
     },
     "metadata": {},
     "output_type": "display_data"
    },
    {
     "data": {
      "text/html": [
       "<pre style=\"white-space:pre;overflow-x:auto;line-height:normal;font-family:Menlo,'DejaVu Sans Mono',consolas,'Courier New',monospace\">Market Return :  3.86%   |   Portfolio Return :  0.29%   |   Position Changes : 243   |   Episode Length : 1330   |\n",
       "</pre>\n"
      ],
      "text/plain": [
       "Market Return :  3.86%   |   Portfolio Return :  0.29%   |   Position Changes : 243   |   Episode Length : 1330   |\n"
      ]
     },
     "metadata": {},
     "output_type": "display_data"
    },
    {
     "data": {
      "text/html": [
       "<pre style=\"white-space:pre;overflow-x:auto;line-height:normal;font-family:Menlo,'DejaVu Sans Mono',consolas,'Courier New',monospace\">Market Return : 10.53%   |   Portfolio Return : -8.05%   |   Position Changes : 283   |   Episode Length : 1330   |\n",
       "</pre>\n"
      ],
      "text/plain": [
       "Market Return : 10.53%   |   Portfolio Return : -8.05%   |   Position Changes : 283   |   Episode Length : 1330   |\n"
      ]
     },
     "metadata": {},
     "output_type": "display_data"
    },
    {
     "data": {
      "text/html": [
       "<pre style=\"white-space:pre;overflow-x:auto;line-height:normal;font-family:Menlo,'DejaVu Sans Mono',consolas,'Courier New',monospace\">Market Return :  7.33%   |   Portfolio Return : -0.60%   |   Position Changes : 275   |   Episode Length : 1330   |\n",
       "</pre>\n"
      ],
      "text/plain": [
       "Market Return :  7.33%   |   Portfolio Return : -0.60%   |   Position Changes : 275   |   Episode Length : 1330   |\n"
      ]
     },
     "metadata": {},
     "output_type": "display_data"
    },
    {
     "data": {
      "text/html": [
       "<pre style=\"white-space:pre;overflow-x:auto;line-height:normal;font-family:Menlo,'DejaVu Sans Mono',consolas,'Courier New',monospace\">Market Return :  5.92%   |   Portfolio Return : -7.63%   |   Position Changes : 282   |   Episode Length : 1330   |\n",
       "</pre>\n"
      ],
      "text/plain": [
       "Market Return :  5.92%   |   Portfolio Return : -7.63%   |   Position Changes : 282   |   Episode Length : 1330   |\n"
      ]
     },
     "metadata": {},
     "output_type": "display_data"
    },
    {
     "data": {
      "text/html": [
       "<pre style=\"white-space:pre;overflow-x:auto;line-height:normal;font-family:Menlo,'DejaVu Sans Mono',consolas,'Courier New',monospace\">Market Return : -0.83%   |   Portfolio Return : -3.32%   |   Position Changes : 250   |   Episode Length : 1330   |\n",
       "</pre>\n"
      ],
      "text/plain": [
       "Market Return : -0.83%   |   Portfolio Return : -3.32%   |   Position Changes : 250   |   Episode Length : 1330   |\n"
      ]
     },
     "metadata": {},
     "output_type": "display_data"
    },
    {
     "data": {
      "text/html": [
       "<pre style=\"white-space:pre;overflow-x:auto;line-height:normal;font-family:Menlo,'DejaVu Sans Mono',consolas,'Courier New',monospace\">Market Return : -0.72%   |   Portfolio Return : -5.83%   |   Position Changes : 269   |   Episode Length : 1330   |\n",
       "</pre>\n"
      ],
      "text/plain": [
       "Market Return : -0.72%   |   Portfolio Return : -5.83%   |   Position Changes : 269   |   Episode Length : 1330   |\n"
      ]
     },
     "metadata": {},
     "output_type": "display_data"
    },
    {
     "data": {
      "text/html": [
       "<pre style=\"white-space:pre;overflow-x:auto;line-height:normal;font-family:Menlo,'DejaVu Sans Mono',consolas,'Courier New',monospace\">Market Return : -1.44%   |   Portfolio Return : -2.19%   |   Position Changes : 333   |   Episode Length : 1330   |\n",
       "</pre>\n"
      ],
      "text/plain": [
       "Market Return : -1.44%   |   Portfolio Return : -2.19%   |   Position Changes : 333   |   Episode Length : 1330   |\n"
      ]
     },
     "metadata": {},
     "output_type": "display_data"
    },
    {
     "data": {
      "text/html": [
       "<pre style=\"white-space:pre;overflow-x:auto;line-height:normal;font-family:Menlo,'DejaVu Sans Mono',consolas,'Courier New',monospace\">Market Return :  1.06%   |   Portfolio Return : -2.45%   |   Position Changes : 227   |   Episode Length : 1330   |\n",
       "</pre>\n"
      ],
      "text/plain": [
       "Market Return :  1.06%   |   Portfolio Return : -2.45%   |   Position Changes : 227   |   Episode Length : 1330   |\n"
      ]
     },
     "metadata": {},
     "output_type": "display_data"
    },
    {
     "data": {
      "text/html": [
       "<pre style=\"white-space:pre;overflow-x:auto;line-height:normal;font-family:Menlo,'DejaVu Sans Mono',consolas,'Courier New',monospace\">Market Return :  0.33%   |   Portfolio Return : -7.71%   |   Position Changes : 260   |   Episode Length : 1330   |\n",
       "</pre>\n"
      ],
      "text/plain": [
       "Market Return :  0.33%   |   Portfolio Return : -7.71%   |   Position Changes : 260   |   Episode Length : 1330   |\n"
      ]
     },
     "metadata": {},
     "output_type": "display_data"
    },
    {
     "data": {
      "text/html": [
       "<pre style=\"white-space:pre;overflow-x:auto;line-height:normal;font-family:Menlo,'DejaVu Sans Mono',consolas,'Courier New',monospace\">Market Return :  3.79%   |   Portfolio Return : -9.53%   |   Position Changes : 227   |   Episode Length : 1330   |\n",
       "</pre>\n"
      ],
      "text/plain": [
       "Market Return :  3.79%   |   Portfolio Return : -9.53%   |   Position Changes : 227   |   Episode Length : 1330   |\n"
      ]
     },
     "metadata": {},
     "output_type": "display_data"
    },
    {
     "data": {
      "text/html": [
       "<pre style=\"white-space:pre;overflow-x:auto;line-height:normal;font-family:Menlo,'DejaVu Sans Mono',consolas,'Courier New',monospace\">Market Return :  0.74%   |   Portfolio Return : -1.69%   |   Position Changes : 170   |   Episode Length : 1330   |\n",
       "</pre>\n"
      ],
      "text/plain": [
       "Market Return :  0.74%   |   Portfolio Return : -1.69%   |   Position Changes : 170   |   Episode Length : 1330   |\n"
      ]
     },
     "metadata": {},
     "output_type": "display_data"
    },
    {
     "data": {
      "text/html": [
       "<pre style=\"white-space:pre;overflow-x:auto;line-height:normal;font-family:Menlo,'DejaVu Sans Mono',consolas,'Courier New',monospace\">Market Return :  1.48%   |   Portfolio Return : -6.01%   |   Position Changes : 255   |   Episode Length : 1330   |\n",
       "</pre>\n"
      ],
      "text/plain": [
       "Market Return :  1.48%   |   Portfolio Return : -6.01%   |   Position Changes : 255   |   Episode Length : 1330   |\n"
      ]
     },
     "metadata": {},
     "output_type": "display_data"
    },
    {
     "data": {
      "text/html": [
       "<pre style=\"white-space:pre;overflow-x:auto;line-height:normal;font-family:Menlo,'DejaVu Sans Mono',consolas,'Courier New',monospace\">Market Return :  0.56%   |   Portfolio Return : -8.71%   |   Position Changes : 261   |   Episode Length : 1330   |\n",
       "</pre>\n"
      ],
      "text/plain": [
       "Market Return :  0.56%   |   Portfolio Return : -8.71%   |   Position Changes : 261   |   Episode Length : 1330   |\n"
      ]
     },
     "metadata": {},
     "output_type": "display_data"
    },
    {
     "data": {
      "text/html": [
       "<pre style=\"white-space:pre;overflow-x:auto;line-height:normal;font-family:Menlo,'DejaVu Sans Mono',consolas,'Courier New',monospace\">Market Return :  2.18%   |   Portfolio Return : -6.40%   |   Position Changes : 212   |   Episode Length : 1330   |\n",
       "</pre>\n"
      ],
      "text/plain": [
       "Market Return :  2.18%   |   Portfolio Return : -6.40%   |   Position Changes : 212   |   Episode Length : 1330   |\n"
      ]
     },
     "metadata": {},
     "output_type": "display_data"
    },
    {
     "data": {
      "text/html": [
       "<pre style=\"white-space:pre;overflow-x:auto;line-height:normal;font-family:Menlo,'DejaVu Sans Mono',consolas,'Courier New',monospace\">Market Return :  0.04%   |   Portfolio Return : -10.08%   |   Position Changes : 425   |   Episode Length : 1330   \n",
       "|   \n",
       "</pre>\n"
      ],
      "text/plain": [
       "Market Return :  0.04%   |   Portfolio Return : -10.08%   |   Position Changes : 425   |   Episode Length : 1330   \n",
       "|   \n"
      ]
     },
     "metadata": {},
     "output_type": "display_data"
    },
    {
     "data": {
      "text/html": [
       "<pre style=\"white-space:pre;overflow-x:auto;line-height:normal;font-family:Menlo,'DejaVu Sans Mono',consolas,'Courier New',monospace\">Market Return : -3.37%   |   Portfolio Return : -4.03%   |   Position Changes : 282   |   Episode Length : 1330   |\n",
       "</pre>\n"
      ],
      "text/plain": [
       "Market Return : -3.37%   |   Portfolio Return : -4.03%   |   Position Changes : 282   |   Episode Length : 1330   |\n"
      ]
     },
     "metadata": {},
     "output_type": "display_data"
    },
    {
     "data": {
      "text/html": [
       "<pre style=\"white-space:pre;overflow-x:auto;line-height:normal;font-family:Menlo,'DejaVu Sans Mono',consolas,'Courier New',monospace\">Market Return :  2.52%   |   Portfolio Return : -1.87%   |   Position Changes : 240   |   Episode Length : 1330   |\n",
       "</pre>\n"
      ],
      "text/plain": [
       "Market Return :  2.52%   |   Portfolio Return : -1.87%   |   Position Changes : 240   |   Episode Length : 1330   |\n"
      ]
     },
     "metadata": {},
     "output_type": "display_data"
    },
    {
     "data": {
      "text/html": [
       "<pre style=\"white-space:pre;overflow-x:auto;line-height:normal;font-family:Menlo,'DejaVu Sans Mono',consolas,'Courier New',monospace\">Market Return : -0.49%   |   Portfolio Return : -8.92%   |   Position Changes : 232   |   Episode Length : 1330   |\n",
       "</pre>\n"
      ],
      "text/plain": [
       "Market Return : -0.49%   |   Portfolio Return : -8.92%   |   Position Changes : 232   |   Episode Length : 1330   |\n"
      ]
     },
     "metadata": {},
     "output_type": "display_data"
    },
    {
     "data": {
      "text/html": [
       "<pre style=\"white-space:pre;overflow-x:auto;line-height:normal;font-family:Menlo,'DejaVu Sans Mono',consolas,'Courier New',monospace\">Market Return :  0.40%   |   Portfolio Return : -7.53%   |   Position Changes : 248   |   Episode Length : 1330   |\n",
       "</pre>\n"
      ],
      "text/plain": [
       "Market Return :  0.40%   |   Portfolio Return : -7.53%   |   Position Changes : 248   |   Episode Length : 1330   |\n"
      ]
     },
     "metadata": {},
     "output_type": "display_data"
    },
    {
     "data": {
      "text/html": [
       "<pre style=\"white-space:pre;overflow-x:auto;line-height:normal;font-family:Menlo,'DejaVu Sans Mono',consolas,'Courier New',monospace\">Market Return :  0.08%   |   Portfolio Return : -5.21%   |   Position Changes : 265   |   Episode Length : 1330   |\n",
       "</pre>\n"
      ],
      "text/plain": [
       "Market Return :  0.08%   |   Portfolio Return : -5.21%   |   Position Changes : 265   |   Episode Length : 1330   |\n"
      ]
     },
     "metadata": {},
     "output_type": "display_data"
    },
    {
     "data": {
      "text/html": [
       "<pre style=\"white-space:pre;overflow-x:auto;line-height:normal;font-family:Menlo,'DejaVu Sans Mono',consolas,'Courier New',monospace\">Market Return :  0.51%   |   Portfolio Return : -6.21%   |   Position Changes : 259   |   Episode Length : 1330   |\n",
       "</pre>\n"
      ],
      "text/plain": [
       "Market Return :  0.51%   |   Portfolio Return : -6.21%   |   Position Changes : 259   |   Episode Length : 1330   |\n"
      ]
     },
     "metadata": {},
     "output_type": "display_data"
    },
    {
     "data": {
      "text/html": [
       "<pre style=\"white-space:pre;overflow-x:auto;line-height:normal;font-family:Menlo,'DejaVu Sans Mono',consolas,'Courier New',monospace\">Market Return :  0.95%   |   Portfolio Return : -10.57%   |   Position Changes : 288   |   Episode Length : 1330   \n",
       "|   \n",
       "</pre>\n"
      ],
      "text/plain": [
       "Market Return :  0.95%   |   Portfolio Return : -10.57%   |   Position Changes : 288   |   Episode Length : 1330   \n",
       "|   \n"
      ]
     },
     "metadata": {},
     "output_type": "display_data"
    },
    {
     "data": {
      "text/html": [
       "<pre style=\"white-space:pre;overflow-x:auto;line-height:normal;font-family:Menlo,'DejaVu Sans Mono',consolas,'Courier New',monospace\">Market Return : -1.95%   |   Portfolio Return : -4.64%   |   Position Changes : 248   |   Episode Length : 1330   |\n",
       "</pre>\n"
      ],
      "text/plain": [
       "Market Return : -1.95%   |   Portfolio Return : -4.64%   |   Position Changes : 248   |   Episode Length : 1330   |\n"
      ]
     },
     "metadata": {},
     "output_type": "display_data"
    },
    {
     "data": {
      "text/html": [
       "<pre style=\"white-space:pre;overflow-x:auto;line-height:normal;font-family:Menlo,'DejaVu Sans Mono',consolas,'Courier New',monospace\">Market Return :  1.45%   |   Portfolio Return : -5.66%   |   Position Changes : 199   |   Episode Length : 1330   |\n",
       "</pre>\n"
      ],
      "text/plain": [
       "Market Return :  1.45%   |   Portfolio Return : -5.66%   |   Position Changes : 199   |   Episode Length : 1330   |\n"
      ]
     },
     "metadata": {},
     "output_type": "display_data"
    },
    {
     "data": {
      "text/html": [
       "<pre style=\"white-space:pre;overflow-x:auto;line-height:normal;font-family:Menlo,'DejaVu Sans Mono',consolas,'Courier New',monospace\">Market Return : -6.87%   |   Portfolio Return : -4.95%   |   Position Changes : 376   |   Episode Length : 1330   |\n",
       "</pre>\n"
      ],
      "text/plain": [
       "Market Return : -6.87%   |   Portfolio Return : -4.95%   |   Position Changes : 376   |   Episode Length : 1330   |\n"
      ]
     },
     "metadata": {},
     "output_type": "display_data"
    },
    {
     "data": {
      "text/html": [
       "<pre style=\"white-space:pre;overflow-x:auto;line-height:normal;font-family:Menlo,'DejaVu Sans Mono',consolas,'Courier New',monospace\">Market Return : -3.30%   |   Portfolio Return : -4.86%   |   Position Changes : 347   |   Episode Length : 1330   |\n",
       "</pre>\n"
      ],
      "text/plain": [
       "Market Return : -3.30%   |   Portfolio Return : -4.86%   |   Position Changes : 347   |   Episode Length : 1330   |\n"
      ]
     },
     "metadata": {},
     "output_type": "display_data"
    },
    {
     "data": {
      "text/html": [
       "<pre style=\"white-space:pre;overflow-x:auto;line-height:normal;font-family:Menlo,'DejaVu Sans Mono',consolas,'Courier New',monospace\">Market Return :  2.49%   |   Portfolio Return : -5.96%   |   Position Changes : 233   |   Episode Length : 1330   |\n",
       "</pre>\n"
      ],
      "text/plain": [
       "Market Return :  2.49%   |   Portfolio Return : -5.96%   |   Position Changes : 233   |   Episode Length : 1330   |\n"
      ]
     },
     "metadata": {},
     "output_type": "display_data"
    },
    {
     "data": {
      "text/html": [
       "<pre style=\"white-space:pre;overflow-x:auto;line-height:normal;font-family:Menlo,'DejaVu Sans Mono',consolas,'Courier New',monospace\">Market Return : -4.61%   |   Portfolio Return : -0.91%   |   Position Changes : 270   |   Episode Length : 1330   |\n",
       "</pre>\n"
      ],
      "text/plain": [
       "Market Return : -4.61%   |   Portfolio Return : -0.91%   |   Position Changes : 270   |   Episode Length : 1330   |\n"
      ]
     },
     "metadata": {},
     "output_type": "display_data"
    },
    {
     "data": {
      "text/html": [
       "<pre style=\"white-space:pre;overflow-x:auto;line-height:normal;font-family:Menlo,'DejaVu Sans Mono',consolas,'Courier New',monospace\">Market Return :  1.38%   |   Portfolio Return : -5.39%   |   Position Changes : 231   |   Episode Length : 1330   |\n",
       "</pre>\n"
      ],
      "text/plain": [
       "Market Return :  1.38%   |   Portfolio Return : -5.39%   |   Position Changes : 231   |   Episode Length : 1330   |\n"
      ]
     },
     "metadata": {},
     "output_type": "display_data"
    },
    {
     "data": {
      "text/html": [
       "<pre style=\"white-space:pre;overflow-x:auto;line-height:normal;font-family:Menlo,'DejaVu Sans Mono',consolas,'Courier New',monospace\">Market Return : -0.58%   |   Portfolio Return : -7.22%   |   Position Changes : 255   |   Episode Length : 1330   |\n",
       "</pre>\n"
      ],
      "text/plain": [
       "Market Return : -0.58%   |   Portfolio Return : -7.22%   |   Position Changes : 255   |   Episode Length : 1330   |\n"
      ]
     },
     "metadata": {},
     "output_type": "display_data"
    },
    {
     "data": {
      "text/html": [
       "<pre style=\"white-space:pre;overflow-x:auto;line-height:normal;font-family:Menlo,'DejaVu Sans Mono',consolas,'Courier New',monospace\">Market Return : -0.76%   |   Portfolio Return : -3.99%   |   Position Changes : 217   |   Episode Length : 1330   |\n",
       "</pre>\n"
      ],
      "text/plain": [
       "Market Return : -0.76%   |   Portfolio Return : -3.99%   |   Position Changes : 217   |   Episode Length : 1330   |\n"
      ]
     },
     "metadata": {},
     "output_type": "display_data"
    },
    {
     "data": {
      "text/html": [
       "<pre style=\"white-space:pre;overflow-x:auto;line-height:normal;font-family:Menlo,'DejaVu Sans Mono',consolas,'Courier New',monospace\">Market Return :  2.50%   |   Portfolio Return : -6.02%   |   Position Changes : 228   |   Episode Length : 1330   |\n",
       "</pre>\n"
      ],
      "text/plain": [
       "Market Return :  2.50%   |   Portfolio Return : -6.02%   |   Position Changes : 228   |   Episode Length : 1330   |\n"
      ]
     },
     "metadata": {},
     "output_type": "display_data"
    },
    {
     "data": {
      "text/html": [
       "<pre style=\"white-space:pre;overflow-x:auto;line-height:normal;font-family:Menlo,'DejaVu Sans Mono',consolas,'Courier New',monospace\">Market Return : -5.97%   |   Portfolio Return : -4.90%   |   Position Changes : 249   |   Episode Length : 1330   |\n",
       "</pre>\n"
      ],
      "text/plain": [
       "Market Return : -5.97%   |   Portfolio Return : -4.90%   |   Position Changes : 249   |   Episode Length : 1330   |\n"
      ]
     },
     "metadata": {},
     "output_type": "display_data"
    },
    {
     "data": {
      "text/html": [
       "<pre style=\"white-space:pre;overflow-x:auto;line-height:normal;font-family:Menlo,'DejaVu Sans Mono',consolas,'Courier New',monospace\">Market Return :  1.45%   |   Portfolio Return : -5.32%   |   Position Changes : 225   |   Episode Length : 1330   |\n",
       "</pre>\n"
      ],
      "text/plain": [
       "Market Return :  1.45%   |   Portfolio Return : -5.32%   |   Position Changes : 225   |   Episode Length : 1330   |\n"
      ]
     },
     "metadata": {},
     "output_type": "display_data"
    },
    {
     "data": {
      "text/html": [
       "<pre style=\"white-space:pre;overflow-x:auto;line-height:normal;font-family:Menlo,'DejaVu Sans Mono',consolas,'Courier New',monospace\">Market Return : -3.81%   |   Portfolio Return : -1.56%   |   Position Changes : 248   |   Episode Length : 1330   |\n",
       "</pre>\n"
      ],
      "text/plain": [
       "Market Return : -3.81%   |   Portfolio Return : -1.56%   |   Position Changes : 248   |   Episode Length : 1330   |\n"
      ]
     },
     "metadata": {},
     "output_type": "display_data"
    },
    {
     "data": {
      "text/html": [
       "<pre style=\"white-space:pre;overflow-x:auto;line-height:normal;font-family:Menlo,'DejaVu Sans Mono',consolas,'Courier New',monospace\">Market Return :  0.72%   |   Portfolio Return : -4.83%   |   Position Changes : 213   |   Episode Length : 1187   |\n",
       "</pre>\n"
      ],
      "text/plain": [
       "Market Return :  0.72%   |   Portfolio Return : -4.83%   |   Position Changes : 213   |   Episode Length : 1187   |\n"
      ]
     },
     "metadata": {},
     "output_type": "display_data"
    },
    {
     "data": {
      "text/html": [
       "<pre style=\"white-space:pre;overflow-x:auto;line-height:normal;font-family:Menlo,'DejaVu Sans Mono',consolas,'Courier New',monospace\">Market Return : -1.26%   |   Portfolio Return : -6.81%   |   Position Changes : 204   |   Episode Length : 1330   |\n",
       "</pre>\n"
      ],
      "text/plain": [
       "Market Return : -1.26%   |   Portfolio Return : -6.81%   |   Position Changes : 204   |   Episode Length : 1330   |\n"
      ]
     },
     "metadata": {},
     "output_type": "display_data"
    },
    {
     "data": {
      "text/html": [
       "<pre style=\"white-space:pre;overflow-x:auto;line-height:normal;font-family:Menlo,'DejaVu Sans Mono',consolas,'Courier New',monospace\">Market Return :  0.29%   |   Portfolio Return : -2.24%   |   Position Changes : 260   |   Episode Length : 1330   |\n",
       "</pre>\n"
      ],
      "text/plain": [
       "Market Return :  0.29%   |   Portfolio Return : -2.24%   |   Position Changes : 260   |   Episode Length : 1330   |\n"
      ]
     },
     "metadata": {},
     "output_type": "display_data"
    },
    {
     "data": {
      "text/html": [
       "<pre style=\"white-space:pre;overflow-x:auto;line-height:normal;font-family:Menlo,'DejaVu Sans Mono',consolas,'Courier New',monospace\">Market Return : -2.11%   |   Portfolio Return : -4.07%   |   Position Changes : 247   |   Episode Length : 1330   |\n",
       "</pre>\n"
      ],
      "text/plain": [
       "Market Return : -2.11%   |   Portfolio Return : -4.07%   |   Position Changes : 247   |   Episode Length : 1330   |\n"
      ]
     },
     "metadata": {},
     "output_type": "display_data"
    },
    {
     "data": {
      "text/html": [
       "<pre style=\"white-space:pre;overflow-x:auto;line-height:normal;font-family:Menlo,'DejaVu Sans Mono',consolas,'Courier New',monospace\">Market Return : -2.05%   |   Portfolio Return : -6.32%   |   Position Changes : 237   |   Episode Length : 1330   |\n",
       "</pre>\n"
      ],
      "text/plain": [
       "Market Return : -2.05%   |   Portfolio Return : -6.32%   |   Position Changes : 237   |   Episode Length : 1330   |\n"
      ]
     },
     "metadata": {},
     "output_type": "display_data"
    },
    {
     "data": {
      "text/html": [
       "<pre style=\"white-space:pre;overflow-x:auto;line-height:normal;font-family:Menlo,'DejaVu Sans Mono',consolas,'Courier New',monospace\">Market Return :  4.62%   |   Portfolio Return : -7.80%   |   Position Changes : 279   |   Episode Length : 1330   |\n",
       "</pre>\n"
      ],
      "text/plain": [
       "Market Return :  4.62%   |   Portfolio Return : -7.80%   |   Position Changes : 279   |   Episode Length : 1330   |\n"
      ]
     },
     "metadata": {},
     "output_type": "display_data"
    },
    {
     "data": {
      "text/html": [
       "<pre style=\"white-space:pre;overflow-x:auto;line-height:normal;font-family:Menlo,'DejaVu Sans Mono',consolas,'Courier New',monospace\">Market Return :  7.33%   |   Portfolio Return : -4.70%   |   Position Changes : 304   |   Episode Length : 1330   |\n",
       "</pre>\n"
      ],
      "text/plain": [
       "Market Return :  7.33%   |   Portfolio Return : -4.70%   |   Position Changes : 304   |   Episode Length : 1330   |\n"
      ]
     },
     "metadata": {},
     "output_type": "display_data"
    },
    {
     "data": {
      "text/html": [
       "<pre style=\"white-space:pre;overflow-x:auto;line-height:normal;font-family:Menlo,'DejaVu Sans Mono',consolas,'Courier New',monospace\">Market Return : -0.49%   |   Portfolio Return : -8.12%   |   Position Changes : 318   |   Episode Length : 1330   |\n",
       "</pre>\n"
      ],
      "text/plain": [
       "Market Return : -0.49%   |   Portfolio Return : -8.12%   |   Position Changes : 318   |   Episode Length : 1330   |\n"
      ]
     },
     "metadata": {},
     "output_type": "display_data"
    },
    {
     "data": {
      "text/html": [
       "<pre style=\"white-space:pre;overflow-x:auto;line-height:normal;font-family:Menlo,'DejaVu Sans Mono',consolas,'Courier New',monospace\">Market Return :  3.69%   |   Portfolio Return : -7.96%   |   Position Changes : 267   |   Episode Length : 1330   |\n",
       "</pre>\n"
      ],
      "text/plain": [
       "Market Return :  3.69%   |   Portfolio Return : -7.96%   |   Position Changes : 267   |   Episode Length : 1330   |\n"
      ]
     },
     "metadata": {},
     "output_type": "display_data"
    },
    {
     "data": {
      "text/html": [
       "<pre style=\"white-space:pre;overflow-x:auto;line-height:normal;font-family:Menlo,'DejaVu Sans Mono',consolas,'Courier New',monospace\">Market Return :  2.77%   |   Portfolio Return : -8.28%   |   Position Changes : 287   |   Episode Length : 1330   |\n",
       "</pre>\n"
      ],
      "text/plain": [
       "Market Return :  2.77%   |   Portfolio Return : -8.28%   |   Position Changes : 287   |   Episode Length : 1330   |\n"
      ]
     },
     "metadata": {},
     "output_type": "display_data"
    },
    {
     "data": {
      "text/html": [
       "<pre style=\"white-space:pre;overflow-x:auto;line-height:normal;font-family:Menlo,'DejaVu Sans Mono',consolas,'Courier New',monospace\">Market Return :  0.69%   |   Portfolio Return : -6.51%   |   Position Changes : 271   |   Episode Length : 1330   |\n",
       "</pre>\n"
      ],
      "text/plain": [
       "Market Return :  0.69%   |   Portfolio Return : -6.51%   |   Position Changes : 271   |   Episode Length : 1330   |\n"
      ]
     },
     "metadata": {},
     "output_type": "display_data"
    },
    {
     "data": {
      "text/html": [
       "<pre style=\"white-space:pre;overflow-x:auto;line-height:normal;font-family:Menlo,'DejaVu Sans Mono',consolas,'Courier New',monospace\">Market Return : -1.48%   |   Portfolio Return : -5.48%   |   Position Changes : 228   |   Episode Length : 1330   |\n",
       "</pre>\n"
      ],
      "text/plain": [
       "Market Return : -1.48%   |   Portfolio Return : -5.48%   |   Position Changes : 228   |   Episode Length : 1330   |\n"
      ]
     },
     "metadata": {},
     "output_type": "display_data"
    },
    {
     "data": {
      "text/html": [
       "<pre style=\"white-space:pre;overflow-x:auto;line-height:normal;font-family:Menlo,'DejaVu Sans Mono',consolas,'Courier New',monospace\">Market Return :  0.09%   |   Portfolio Return : -5.47%   |   Position Changes : 196   |   Episode Length : 1330   |\n",
       "</pre>\n"
      ],
      "text/plain": [
       "Market Return :  0.09%   |   Portfolio Return : -5.47%   |   Position Changes : 196   |   Episode Length : 1330   |\n"
      ]
     },
     "metadata": {},
     "output_type": "display_data"
    },
    {
     "data": {
      "text/html": [
       "<pre style=\"white-space:pre;overflow-x:auto;line-height:normal;font-family:Menlo,'DejaVu Sans Mono',consolas,'Courier New',monospace\">Market Return : -1.28%   |   Portfolio Return : -4.13%   |   Position Changes : 190   |   Episode Length : 1330   |\n",
       "</pre>\n"
      ],
      "text/plain": [
       "Market Return : -1.28%   |   Portfolio Return : -4.13%   |   Position Changes : 190   |   Episode Length : 1330   |\n"
      ]
     },
     "metadata": {},
     "output_type": "display_data"
    },
    {
     "data": {
      "text/html": [
       "<pre style=\"white-space:pre;overflow-x:auto;line-height:normal;font-family:Menlo,'DejaVu Sans Mono',consolas,'Courier New',monospace\">Market Return : -6.54%   |   Portfolio Return :  2.08%   |   Position Changes : 312   |   Episode Length : 1330   |\n",
       "</pre>\n"
      ],
      "text/plain": [
       "Market Return : -6.54%   |   Portfolio Return :  2.08%   |   Position Changes : 312   |   Episode Length : 1330   |\n"
      ]
     },
     "metadata": {},
     "output_type": "display_data"
    },
    {
     "data": {
      "text/html": [
       "<pre style=\"white-space:pre;overflow-x:auto;line-height:normal;font-family:Menlo,'DejaVu Sans Mono',consolas,'Courier New',monospace\">Market Return : -0.70%   |   Portfolio Return : -3.29%   |   Position Changes : 169   |   Episode Length : 1330   |\n",
       "</pre>\n"
      ],
      "text/plain": [
       "Market Return : -0.70%   |   Portfolio Return : -3.29%   |   Position Changes : 169   |   Episode Length : 1330   |\n"
      ]
     },
     "metadata": {},
     "output_type": "display_data"
    },
    {
     "data": {
      "text/html": [
       "<pre style=\"white-space:pre;overflow-x:auto;line-height:normal;font-family:Menlo,'DejaVu Sans Mono',consolas,'Courier New',monospace\">Market Return : -0.29%   |   Portfolio Return : -2.30%   |   Position Changes : 228   |   Episode Length : 1330   |\n",
       "</pre>\n"
      ],
      "text/plain": [
       "Market Return : -0.29%   |   Portfolio Return : -2.30%   |   Position Changes : 228   |   Episode Length : 1330   |\n"
      ]
     },
     "metadata": {},
     "output_type": "display_data"
    },
    {
     "data": {
      "text/html": [
       "<pre style=\"white-space:pre;overflow-x:auto;line-height:normal;font-family:Menlo,'DejaVu Sans Mono',consolas,'Courier New',monospace\">Market Return :  0.73%   |   Portfolio Return : -7.31%   |   Position Changes : 269   |   Episode Length : 1330   |\n",
       "</pre>\n"
      ],
      "text/plain": [
       "Market Return :  0.73%   |   Portfolio Return : -7.31%   |   Position Changes : 269   |   Episode Length : 1330   |\n"
      ]
     },
     "metadata": {},
     "output_type": "display_data"
    },
    {
     "data": {
      "text/html": [
       "<pre style=\"white-space:pre;overflow-x:auto;line-height:normal;font-family:Menlo,'DejaVu Sans Mono',consolas,'Courier New',monospace\">Market Return : -0.18%   |   Portfolio Return : -7.72%   |   Position Changes : 350   |   Episode Length : 1330   |\n",
       "</pre>\n"
      ],
      "text/plain": [
       "Market Return : -0.18%   |   Portfolio Return : -7.72%   |   Position Changes : 350   |   Episode Length : 1330   |\n"
      ]
     },
     "metadata": {},
     "output_type": "display_data"
    },
    {
     "data": {
      "text/html": [
       "<pre style=\"white-space:pre;overflow-x:auto;line-height:normal;font-family:Menlo,'DejaVu Sans Mono',consolas,'Courier New',monospace\">Market Return : -3.38%   |   Portfolio Return : -3.49%   |   Position Changes : 311   |   Episode Length : 1330   |\n",
       "</pre>\n"
      ],
      "text/plain": [
       "Market Return : -3.38%   |   Portfolio Return : -3.49%   |   Position Changes : 311   |   Episode Length : 1330   |\n"
      ]
     },
     "metadata": {},
     "output_type": "display_data"
    },
    {
     "data": {
      "text/html": [
       "<pre style=\"white-space:pre;overflow-x:auto;line-height:normal;font-family:Menlo,'DejaVu Sans Mono',consolas,'Courier New',monospace\">Market Return :  3.21%   |   Portfolio Return : -2.25%   |   Position Changes : 247   |   Episode Length : 1330   |\n",
       "</pre>\n"
      ],
      "text/plain": [
       "Market Return :  3.21%   |   Portfolio Return : -2.25%   |   Position Changes : 247   |   Episode Length : 1330   |\n"
      ]
     },
     "metadata": {},
     "output_type": "display_data"
    },
    {
     "data": {
      "text/html": [
       "<pre style=\"white-space:pre;overflow-x:auto;line-height:normal;font-family:Menlo,'DejaVu Sans Mono',consolas,'Courier New',monospace\">Market Return :  8.12%   |   Portfolio Return : -0.61%   |   Position Changes : 242   |   Episode Length : 1330   |\n",
       "</pre>\n"
      ],
      "text/plain": [
       "Market Return :  8.12%   |   Portfolio Return : -0.61%   |   Position Changes : 242   |   Episode Length : 1330   |\n"
      ]
     },
     "metadata": {},
     "output_type": "display_data"
    },
    {
     "data": {
      "text/html": [
       "<pre style=\"white-space:pre;overflow-x:auto;line-height:normal;font-family:Menlo,'DejaVu Sans Mono',consolas,'Courier New',monospace\">Market Return :  3.44%   |   Portfolio Return : -6.41%   |   Position Changes : 333   |   Episode Length : 1330   |\n",
       "</pre>\n"
      ],
      "text/plain": [
       "Market Return :  3.44%   |   Portfolio Return : -6.41%   |   Position Changes : 333   |   Episode Length : 1330   |\n"
      ]
     },
     "metadata": {},
     "output_type": "display_data"
    },
    {
     "data": {
      "text/html": [
       "<pre style=\"white-space:pre;overflow-x:auto;line-height:normal;font-family:Menlo,'DejaVu Sans Mono',consolas,'Courier New',monospace\">Market Return : -1.19%   |   Portfolio Return : -3.86%   |   Position Changes : 234   |   Episode Length : 1330   |\n",
       "</pre>\n"
      ],
      "text/plain": [
       "Market Return : -1.19%   |   Portfolio Return : -3.86%   |   Position Changes : 234   |   Episode Length : 1330   |\n"
      ]
     },
     "metadata": {},
     "output_type": "display_data"
    },
    {
     "data": {
      "text/html": [
       "<pre style=\"white-space:pre;overflow-x:auto;line-height:normal;font-family:Menlo,'DejaVu Sans Mono',consolas,'Courier New',monospace\">Market Return : -0.14%   |   Portfolio Return : -4.33%   |   Position Changes : 172   |   Episode Length : 1330   |\n",
       "</pre>\n"
      ],
      "text/plain": [
       "Market Return : -0.14%   |   Portfolio Return : -4.33%   |   Position Changes : 172   |   Episode Length : 1330   |\n"
      ]
     },
     "metadata": {},
     "output_type": "display_data"
    },
    {
     "data": {
      "text/html": [
       "<pre style=\"white-space:pre;overflow-x:auto;line-height:normal;font-family:Menlo,'DejaVu Sans Mono',consolas,'Courier New',monospace\">Market Return : -6.87%   |   Portfolio Return : -10.24%   |   Position Changes : 379   |   Episode Length : 1330   \n",
       "|   \n",
       "</pre>\n"
      ],
      "text/plain": [
       "Market Return : -6.87%   |   Portfolio Return : -10.24%   |   Position Changes : 379   |   Episode Length : 1330   \n",
       "|   \n"
      ]
     },
     "metadata": {},
     "output_type": "display_data"
    },
    {
     "data": {
      "text/html": [
       "<pre style=\"white-space:pre;overflow-x:auto;line-height:normal;font-family:Menlo,'DejaVu Sans Mono',consolas,'Courier New',monospace\">Market Return :  0.33%   |   Portfolio Return : -2.72%   |   Position Changes : 274   |   Episode Length : 1330   |\n",
       "</pre>\n"
      ],
      "text/plain": [
       "Market Return :  0.33%   |   Portfolio Return : -2.72%   |   Position Changes : 274   |   Episode Length : 1330   |\n"
      ]
     },
     "metadata": {},
     "output_type": "display_data"
    },
    {
     "data": {
      "text/html": [
       "<pre style=\"white-space:pre;overflow-x:auto;line-height:normal;font-family:Menlo,'DejaVu Sans Mono',consolas,'Courier New',monospace\">Market Return :  1.80%   |   Portfolio Return : -5.45%   |   Position Changes : 245   |   Episode Length : 1330   |\n",
       "</pre>\n"
      ],
      "text/plain": [
       "Market Return :  1.80%   |   Portfolio Return : -5.45%   |   Position Changes : 245   |   Episode Length : 1330   |\n"
      ]
     },
     "metadata": {},
     "output_type": "display_data"
    },
    {
     "data": {
      "text/html": [
       "<pre style=\"white-space:pre;overflow-x:auto;line-height:normal;font-family:Menlo,'DejaVu Sans Mono',consolas,'Courier New',monospace\">Market Return :  1.50%   |   Portfolio Return : -6.08%   |   Position Changes : 217   |   Episode Length : 1330   |\n",
       "</pre>\n"
      ],
      "text/plain": [
       "Market Return :  1.50%   |   Portfolio Return : -6.08%   |   Position Changes : 217   |   Episode Length : 1330   |\n"
      ]
     },
     "metadata": {},
     "output_type": "display_data"
    },
    {
     "data": {
      "text/html": [
       "<pre style=\"white-space:pre;overflow-x:auto;line-height:normal;font-family:Menlo,'DejaVu Sans Mono',consolas,'Courier New',monospace\">Market Return :  3.12%   |   Portfolio Return : -3.93%   |   Position Changes : 260   |   Episode Length : 1330   |\n",
       "</pre>\n"
      ],
      "text/plain": [
       "Market Return :  3.12%   |   Portfolio Return : -3.93%   |   Position Changes : 260   |   Episode Length : 1330   |\n"
      ]
     },
     "metadata": {},
     "output_type": "display_data"
    },
    {
     "data": {
      "text/html": [
       "<pre style=\"white-space:pre;overflow-x:auto;line-height:normal;font-family:Menlo,'DejaVu Sans Mono',consolas,'Courier New',monospace\">Market Return :  2.35%   |   Portfolio Return : -5.23%   |   Position Changes : 287   |   Episode Length : 1330   |\n",
       "</pre>\n"
      ],
      "text/plain": [
       "Market Return :  2.35%   |   Portfolio Return : -5.23%   |   Position Changes : 287   |   Episode Length : 1330   |\n"
      ]
     },
     "metadata": {},
     "output_type": "display_data"
    },
    {
     "data": {
      "text/html": [
       "<pre style=\"white-space:pre;overflow-x:auto;line-height:normal;font-family:Menlo,'DejaVu Sans Mono',consolas,'Courier New',monospace\">Market Return :  3.18%   |   Portfolio Return : -5.08%   |   Position Changes : 295   |   Episode Length : 1330   |\n",
       "</pre>\n"
      ],
      "text/plain": [
       "Market Return :  3.18%   |   Portfolio Return : -5.08%   |   Position Changes : 295   |   Episode Length : 1330   |\n"
      ]
     },
     "metadata": {},
     "output_type": "display_data"
    },
    {
     "data": {
      "text/html": [
       "<pre style=\"white-space:pre;overflow-x:auto;line-height:normal;font-family:Menlo,'DejaVu Sans Mono',consolas,'Courier New',monospace\">Market Return :  1.26%   |   Portfolio Return : -1.98%   |   Position Changes : 260   |   Episode Length : 1330   |\n",
       "</pre>\n"
      ],
      "text/plain": [
       "Market Return :  1.26%   |   Portfolio Return : -1.98%   |   Position Changes : 260   |   Episode Length : 1330   |\n"
      ]
     },
     "metadata": {},
     "output_type": "display_data"
    },
    {
     "data": {
      "text/html": [
       "<pre style=\"white-space:pre;overflow-x:auto;line-height:normal;font-family:Menlo,'DejaVu Sans Mono',consolas,'Courier New',monospace\">Market Return :  2.78%   |   Portfolio Return : -3.37%   |   Position Changes : 251   |   Episode Length : 1330   |\n",
       "</pre>\n"
      ],
      "text/plain": [
       "Market Return :  2.78%   |   Portfolio Return : -3.37%   |   Position Changes : 251   |   Episode Length : 1330   |\n"
      ]
     },
     "metadata": {},
     "output_type": "display_data"
    },
    {
     "data": {
      "text/html": [
       "<pre style=\"white-space:pre;overflow-x:auto;line-height:normal;font-family:Menlo,'DejaVu Sans Mono',consolas,'Courier New',monospace\">Market Return :  0.25%   |   Portfolio Return : -5.29%   |   Position Changes : 286   |   Episode Length : 1330   |\n",
       "</pre>\n"
      ],
      "text/plain": [
       "Market Return :  0.25%   |   Portfolio Return : -5.29%   |   Position Changes : 286   |   Episode Length : 1330   |\n"
      ]
     },
     "metadata": {},
     "output_type": "display_data"
    },
    {
     "data": {
      "text/html": [
       "<pre style=\"white-space:pre;overflow-x:auto;line-height:normal;font-family:Menlo,'DejaVu Sans Mono',consolas,'Courier New',monospace\">Market Return :  7.72%   |   Portfolio Return : -4.88%   |   Position Changes : 299   |   Episode Length : 1330   |\n",
       "</pre>\n"
      ],
      "text/plain": [
       "Market Return :  7.72%   |   Portfolio Return : -4.88%   |   Position Changes : 299   |   Episode Length : 1330   |\n"
      ]
     },
     "metadata": {},
     "output_type": "display_data"
    },
    {
     "data": {
      "text/html": [
       "<pre style=\"white-space:pre;overflow-x:auto;line-height:normal;font-family:Menlo,'DejaVu Sans Mono',consolas,'Courier New',monospace\">Market Return :  1.90%   |   Portfolio Return : -6.05%   |   Position Changes : 238   |   Episode Length : 1330   |\n",
       "</pre>\n"
      ],
      "text/plain": [
       "Market Return :  1.90%   |   Portfolio Return : -6.05%   |   Position Changes : 238   |   Episode Length : 1330   |\n"
      ]
     },
     "metadata": {},
     "output_type": "display_data"
    },
    {
     "data": {
      "text/html": [
       "<pre style=\"white-space:pre;overflow-x:auto;line-height:normal;font-family:Menlo,'DejaVu Sans Mono',consolas,'Courier New',monospace\">Market Return : -2.42%   |   Portfolio Return : -3.79%   |   Position Changes : 255   |   Episode Length : 1330   |\n",
       "</pre>\n"
      ],
      "text/plain": [
       "Market Return : -2.42%   |   Portfolio Return : -3.79%   |   Position Changes : 255   |   Episode Length : 1330   |\n"
      ]
     },
     "metadata": {},
     "output_type": "display_data"
    },
    {
     "data": {
      "text/html": [
       "<pre style=\"white-space:pre;overflow-x:auto;line-height:normal;font-family:Menlo,'DejaVu Sans Mono',consolas,'Courier New',monospace\">Market Return :  0.73%   |   Portfolio Return : -5.51%   |   Position Changes : 213   |   Episode Length : 1330   |\n",
       "</pre>\n"
      ],
      "text/plain": [
       "Market Return :  0.73%   |   Portfolio Return : -5.51%   |   Position Changes : 213   |   Episode Length : 1330   |\n"
      ]
     },
     "metadata": {},
     "output_type": "display_data"
    },
    {
     "data": {
      "text/html": [
       "<pre style=\"white-space:pre;overflow-x:auto;line-height:normal;font-family:Menlo,'DejaVu Sans Mono',consolas,'Courier New',monospace\">Market Return : -1.44%   |   Portfolio Return : -4.43%   |   Position Changes : 229   |   Episode Length : 1330   |\n",
       "</pre>\n"
      ],
      "text/plain": [
       "Market Return : -1.44%   |   Portfolio Return : -4.43%   |   Position Changes : 229   |   Episode Length : 1330   |\n"
      ]
     },
     "metadata": {},
     "output_type": "display_data"
    },
    {
     "data": {
      "text/html": [
       "<pre style=\"white-space:pre;overflow-x:auto;line-height:normal;font-family:Menlo,'DejaVu Sans Mono',consolas,'Courier New',monospace\">Market Return :  3.03%   |   Portfolio Return : -5.57%   |   Position Changes : 283   |   Episode Length : 1330   |\n",
       "</pre>\n"
      ],
      "text/plain": [
       "Market Return :  3.03%   |   Portfolio Return : -5.57%   |   Position Changes : 283   |   Episode Length : 1330   |\n"
      ]
     },
     "metadata": {},
     "output_type": "display_data"
    },
    {
     "data": {
      "text/html": [
       "<pre style=\"white-space:pre;overflow-x:auto;line-height:normal;font-family:Menlo,'DejaVu Sans Mono',consolas,'Courier New',monospace\">Market Return :  0.84%   |   Portfolio Return : -5.51%   |   Position Changes : 273   |   Episode Length : 1330   |\n",
       "</pre>\n"
      ],
      "text/plain": [
       "Market Return :  0.84%   |   Portfolio Return : -5.51%   |   Position Changes : 273   |   Episode Length : 1330   |\n"
      ]
     },
     "metadata": {},
     "output_type": "display_data"
    },
    {
     "data": {
      "text/html": [
       "<pre style=\"white-space:pre;overflow-x:auto;line-height:normal;font-family:Menlo,'DejaVu Sans Mono',consolas,'Courier New',monospace\">Market Return : -11.88%   |   Portfolio Return :  0.56%   |   Position Changes : 405   |   Episode Length : 1330   \n",
       "|   \n",
       "</pre>\n"
      ],
      "text/plain": [
       "Market Return : -11.88%   |   Portfolio Return :  0.56%   |   Position Changes : 405   |   Episode Length : 1330   \n",
       "|   \n"
      ]
     },
     "metadata": {},
     "output_type": "display_data"
    },
    {
     "data": {
      "text/html": [
       "<pre style=\"white-space:pre;overflow-x:auto;line-height:normal;font-family:Menlo,'DejaVu Sans Mono',consolas,'Courier New',monospace\">Market Return :  2.96%   |   Portfolio Return : -1.98%   |   Position Changes : 262   |   Episode Length : 1330   |\n",
       "</pre>\n"
      ],
      "text/plain": [
       "Market Return :  2.96%   |   Portfolio Return : -1.98%   |   Position Changes : 262   |   Episode Length : 1330   |\n"
      ]
     },
     "metadata": {},
     "output_type": "display_data"
    },
    {
     "data": {
      "text/html": [
       "<pre style=\"white-space:pre;overflow-x:auto;line-height:normal;font-family:Menlo,'DejaVu Sans Mono',consolas,'Courier New',monospace\">Market Return :  2.99%   |   Portfolio Return : -4.74%   |   Position Changes : 258   |   Episode Length : 1330   |\n",
       "</pre>\n"
      ],
      "text/plain": [
       "Market Return :  2.99%   |   Portfolio Return : -4.74%   |   Position Changes : 258   |   Episode Length : 1330   |\n"
      ]
     },
     "metadata": {},
     "output_type": "display_data"
    },
    {
     "data": {
      "text/html": [
       "<pre style=\"white-space:pre;overflow-x:auto;line-height:normal;font-family:Menlo,'DejaVu Sans Mono',consolas,'Courier New',monospace\">Market Return : -3.12%   |   Portfolio Return : -2.15%   |   Position Changes : 265   |   Episode Length : 1330   |\n",
       "</pre>\n"
      ],
      "text/plain": [
       "Market Return : -3.12%   |   Portfolio Return : -2.15%   |   Position Changes : 265   |   Episode Length : 1330   |\n"
      ]
     },
     "metadata": {},
     "output_type": "display_data"
    },
    {
     "data": {
      "text/html": [
       "<pre style=\"white-space:pre;overflow-x:auto;line-height:normal;font-family:Menlo,'DejaVu Sans Mono',consolas,'Courier New',monospace\">Market Return : -2.83%   |   Portfolio Return : -8.16%   |   Position Changes : 261   |   Episode Length : 1330   |\n",
       "</pre>\n"
      ],
      "text/plain": [
       "Market Return : -2.83%   |   Portfolio Return : -8.16%   |   Position Changes : 261   |   Episode Length : 1330   |\n"
      ]
     },
     "metadata": {},
     "output_type": "display_data"
    },
    {
     "data": {
      "text/html": [
       "<pre style=\"white-space:pre;overflow-x:auto;line-height:normal;font-family:Menlo,'DejaVu Sans Mono',consolas,'Courier New',monospace\">Market Return :  2.48%   |   Portfolio Return : -3.40%   |   Position Changes : 301   |   Episode Length : 1330   |\n",
       "</pre>\n"
      ],
      "text/plain": [
       "Market Return :  2.48%   |   Portfolio Return : -3.40%   |   Position Changes : 301   |   Episode Length : 1330   |\n"
      ]
     },
     "metadata": {},
     "output_type": "display_data"
    },
    {
     "data": {
      "text/html": [
       "<pre style=\"white-space:pre;overflow-x:auto;line-height:normal;font-family:Menlo,'DejaVu Sans Mono',consolas,'Courier New',monospace\">Market Return : -1.12%   |   Portfolio Return : -6.17%   |   Position Changes : 265   |   Episode Length : 1330   |\n",
       "</pre>\n"
      ],
      "text/plain": [
       "Market Return : -1.12%   |   Portfolio Return : -6.17%   |   Position Changes : 265   |   Episode Length : 1330   |\n"
      ]
     },
     "metadata": {},
     "output_type": "display_data"
    },
    {
     "data": {
      "text/html": [
       "<pre style=\"white-space:pre;overflow-x:auto;line-height:normal;font-family:Menlo,'DejaVu Sans Mono',consolas,'Courier New',monospace\">Market Return :  0.19%   |   Portfolio Return : -2.83%   |   Position Changes : 193   |   Episode Length : 1330   |\n",
       "</pre>\n"
      ],
      "text/plain": [
       "Market Return :  0.19%   |   Portfolio Return : -2.83%   |   Position Changes : 193   |   Episode Length : 1330   |\n"
      ]
     },
     "metadata": {},
     "output_type": "display_data"
    },
    {
     "data": {
      "text/html": [
       "<pre style=\"white-space:pre;overflow-x:auto;line-height:normal;font-family:Menlo,'DejaVu Sans Mono',consolas,'Courier New',monospace\">Market Return :  0.64%   |   Portfolio Return : -5.25%   |   Position Changes : 251   |   Episode Length : 1330   |\n",
       "</pre>\n"
      ],
      "text/plain": [
       "Market Return :  0.64%   |   Portfolio Return : -5.25%   |   Position Changes : 251   |   Episode Length : 1330   |\n"
      ]
     },
     "metadata": {},
     "output_type": "display_data"
    },
    {
     "data": {
      "text/html": [
       "<pre style=\"white-space:pre;overflow-x:auto;line-height:normal;font-family:Menlo,'DejaVu Sans Mono',consolas,'Courier New',monospace\">Market Return : -1.95%   |   Portfolio Return :  0.49%   |   Position Changes : 303   |   Episode Length : 1330   |\n",
       "</pre>\n"
      ],
      "text/plain": [
       "Market Return : -1.95%   |   Portfolio Return :  0.49%   |   Position Changes : 303   |   Episode Length : 1330   |\n"
      ]
     },
     "metadata": {},
     "output_type": "display_data"
    },
    {
     "data": {
      "text/html": [
       "<pre style=\"white-space:pre;overflow-x:auto;line-height:normal;font-family:Menlo,'DejaVu Sans Mono',consolas,'Courier New',monospace\">Market Return : -3.02%   |   Portfolio Return : -0.38%   |   Position Changes : 292   |   Episode Length : 1330   |\n",
       "</pre>\n"
      ],
      "text/plain": [
       "Market Return : -3.02%   |   Portfolio Return : -0.38%   |   Position Changes : 292   |   Episode Length : 1330   |\n"
      ]
     },
     "metadata": {},
     "output_type": "display_data"
    },
    {
     "data": {
      "text/html": [
       "<pre style=\"white-space:pre;overflow-x:auto;line-height:normal;font-family:Menlo,'DejaVu Sans Mono',consolas,'Courier New',monospace\">Market Return : -0.93%   |   Portfolio Return : -10.00%   |   Position Changes : 383   |   Episode Length : 1330   \n",
       "|   \n",
       "</pre>\n"
      ],
      "text/plain": [
       "Market Return : -0.93%   |   Portfolio Return : -10.00%   |   Position Changes : 383   |   Episode Length : 1330   \n",
       "|   \n"
      ]
     },
     "metadata": {},
     "output_type": "display_data"
    },
    {
     "data": {
      "text/html": [
       "<pre style=\"white-space:pre;overflow-x:auto;line-height:normal;font-family:Menlo,'DejaVu Sans Mono',consolas,'Courier New',monospace\">Market Return : -3.14%   |   Portfolio Return : -5.68%   |   Position Changes : 296   |   Episode Length : 1330   |\n",
       "</pre>\n"
      ],
      "text/plain": [
       "Market Return : -3.14%   |   Portfolio Return : -5.68%   |   Position Changes : 296   |   Episode Length : 1330   |\n"
      ]
     },
     "metadata": {},
     "output_type": "display_data"
    }
   ],
   "source": [
    "# Train\n",
    "\n",
    "warnings.filterwarnings(\"ignore\", category=TqdmExperimentalWarning)\n",
    "model = QRDQN(\n",
    "    MlpPolicy,\n",
    "    env,\n",
    "    buffer_size=100000000,  # 1000000\n",
    "    batch_size=32,\n",
    "    verbose=0,\n",
    "    device=\"auto\",\n",
    "    tensorboard_log=\"./tensorboard/\",\n",
    ")\n",
    "model.learn(total_timesteps=5000000, progress_bar=True)\n",
    "\n",
    "vec_env = model.get_env()\n",
    "obs = vec_env.reset()"
   ]
  },
  {
   "cell_type": "code",
   "execution_count": 5,
   "id": "d653c3a1",
   "metadata": {},
   "outputs": [
    {
     "name": "stdout",
     "output_type": "stream",
     "text": [
      "Market Return : 21.51%   |   Portfolio Return : -99.65%   |   Position Changes : 26   |   Episode Length : 44133   |   \n"
     ]
    }
   ],
   "source": [
    "reward = 0.0\n",
    "done, truncated = False, False\n",
    "observation, info = env.reset()\n",
    "\n",
    "warnings.filterwarnings(\"ignore\", category=UserWarning)\n",
    "while not done and not truncated:\n",
    "    action = model.predict(observation, deterministic=True)\n",
    "    observation, r, done, truncated, info = env.step(action[0])\n",
    "    reward += r\n",
    "\n",
    "env.unwrapped.save_for_render(dir=\"render_logs\")"
   ]
  },
  {
   "cell_type": "code",
   "execution_count": null,
   "id": "d86c5e3c16d96bdb",
   "metadata": {
    "collapsed": false
   },
   "outputs": [],
   "source": [
    "data = pd.read_csv(\"1.csv\", parse_dates=[\"date\"], index_col=\"date\")\n",
    "env = gym.make(\n",
    "    \"TradingEnv\",\n",
    "    df=data,\n",
    "    preprocess=preprocess,\n",
    "    positions=[-1, 0, 1],\n",
    "    trading_fees=0.0001,\n",
    "    borrow_interest_rate=0.0003,\n",
    ")\n",
    "env.unwrapped.add_metric(\n",
    "    \"Position Changes\", lambda history: np.sum(np.diff(history[\"position\"]) != 0)\n",
    ")\n",
    "env.unwrapped.add_metric(\"Episode Length\", lambda history: len(history[\"position\"]))\n",
    "\n",
    "model = QRDQN(\n",
    "    MlpPolicy,\n",
    "    env,\n",
    "    buffer_size=100000000,\n",
    "    batch_size=32,\n",
    "    verbose=0,\n",
    "    device=\"auto\",\n",
    ")\n",
    "model.load(\"./model/QRDQN/1.zip\")\n",
    "\n",
    "vec_env = model.get_env()\n",
    "obs = vec_env.reset()\n",
    "\n",
    "reward = 0.0\n",
    "done = False\n",
    "\n",
    "warnings.filterwarnings(\"ignore\", category=UserWarning)\n",
    "while not done:\n",
    "    action, _state = model.predict(obs, deterministic=True)\n",
    "    obs, r, done, info = vec_env.step(action)\n",
    "    reward += r\n",
    "    vec_env.render(\"logs\")\n",
    "\n",
    "print(reward)"
   ]
  },
  {
   "cell_type": "code",
   "execution_count": 6,
   "id": "993fb11b",
   "metadata": {},
   "outputs": [
    {
     "name": "stdout",
     "output_type": "stream",
     "text": [
      " * Serving Flask app 'gym_trading_env.renderer'\n",
      " * Debug mode: off\n"
     ]
    },
    {
     "name": "stderr",
     "output_type": "stream",
     "text": [
      "WARNING: This is a development server. Do not use it in a production deployment. Use a production WSGI server instead.\n",
      " * Running on http://127.0.0.1:5000\n",
      "Press CTRL+C to quit\n",
      "127.0.0.1 - - [02/Mar/2024 21:50:24] \"GET / HTTP/1.1\" 200 -\n",
      "127.0.0.1 - - [02/Mar/2024 21:50:25] \"GET /update_data/2020_02_1m.pkl_2024-03-02_21-28-44.pkl HTTP/1.1\" 200 -\n",
      "127.0.0.1 - - [02/Mar/2024 21:50:25] \"GET /metrics HTTP/1.1\" 200 -\n"
     ]
    }
   ],
   "source": [
    "renderer = Renderer(render_logs_dir=\"render_logs\")\n",
    "renderer.add_metric(\n",
    "    \"Annual Market Return\",\n",
    "    lambda df: f\"{((df['close'].iloc[-1] / df['close'].iloc[0]) ** (pd.Timedelta(days=365) / (df.index.values[-1] - df.index.values[0])) - 1) * 100:0.2f}%\",\n",
    ")\n",
    "renderer.add_metric(\n",
    "    \"Annual Portfolio Return\",\n",
    "    lambda df: f\"{((df['portfolio_valuation'].iloc[-1] / df['portfolio_valuation'].iloc[0]) ** (pd.Timedelta(days=365) / (df.index.values[-1] - df.index.values[0])) - 1) * 100:0.2f}%\",\n",
    ")\n",
    "renderer.run()"
   ]
  },
  {
   "cell_type": "code",
   "execution_count": null,
   "id": "e9af8c3f",
   "metadata": {},
   "outputs": [],
   "source": [
    "model.save(\"./model/QRDQN/1.zip\")"
   ]
  }
 ],
 "metadata": {
  "kernelspec": {
   "display_name": "Python 3",
   "language": "python",
   "name": "python3"
  },
  "language_info": {
   "codemirror_mode": {
    "name": "ipython",
    "version": 3
   },
   "file_extension": ".py",
   "mimetype": "text/x-python",
   "name": "python",
   "nbconvert_exporter": "python",
   "pygments_lexer": "ipython3",
   "version": "3.12.2"
  }
 },
 "nbformat": 4,
 "nbformat_minor": 5
}
