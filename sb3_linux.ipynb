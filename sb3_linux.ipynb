{
 "cells": [
  {
   "cell_type": "code",
   "execution_count": null,
   "id": "initial_id",
   "metadata": {
    "collapsed": true
   },
   "outputs": [],
   "source": [
    "# module import\n",
    "\n",
    "import warnings\n",
    "import gym_trading_env  # noqa\n",
    "import gymnasium as gym\n",
    "import numpy as np\n",
    "import torch\n",
    "from stable_baselines3 import DQN, PPO  # noqa\n",
    "from sb3_contrib import RecurrentPPO\n",
    "from sb3_contrib.ppo_recurrent import MlpLstmPolicy\n",
    "from stable_baselines3.ppo import MlpPolicy  # noqa\n",
    "from tqdm import TqdmExperimentalWarning\n",
    "from preprocess import preprocess"
   ]
  },
  {
   "cell_type": "code",
   "execution_count": null,
   "id": "a37caece",
   "metadata": {},
   "outputs": [],
   "source": [
    "if torch.backends.mps.is_available():\n",
    "    mps_device = torch.device(\"mps\")\n",
    "    x = torch.ones(1, device=mps_device)\n",
    "    print (x)\n",
    "else:\n",
    "    print (\"MPS device not found.\")"
   ]
  },
  {
   "cell_type": "code",
   "execution_count": null,
   "id": "cfbc7b86",
   "metadata": {},
   "outputs": [],
   "source": [
    "def reward_only_position_changed(history):\n",
    "    prev_position = history[-2][\"position\"]\n",
    "    curr_position = history[-1][\"position\"]\n",
    "    holding_fee = 0.01\n",
    "    holding_cost = 0\n",
    "\n",
    "    index = 1\n",
    "    index_limit = len(history)\n",
    "\n",
    "    while index < index_limit and history[\"position\", -index] == prev_position:\n",
    "        index += 1\n",
    "        holding_cost -= holding_fee\n",
    "\n",
    "    if prev_position == curr_position:\n",
    "        if curr_position == 0:\n",
    "            return holding_cost\n",
    "        else:\n",
    "            return 0\n",
    "    else:\n",
    "        return (history[\"portfolio_valuation\", -1] / history[\"portfolio_valuation\", -2] - 1) # / sqrt(index)"
   ]
  },
  {
   "cell_type": "code",
   "execution_count": null,
   "id": "e60d17c57a85d6a1",
   "metadata": {
    "collapsed": false
   },
   "outputs": [],
   "source": [
    "# Enviornment\n",
    "\n",
    "env = gym.make(\n",
    "    \"MultiDatasetTradingEnv\",\n",
    "    dataset_dir=\"./data/train/month/**/*.pkl\",\n",
    "    preprocess=preprocess,\n",
    "    reward_function=reward_only_position_changed,\n",
    "    positions=[-10,0,10],\n",
    "    trading_fees=0.0001/1000,\n",
    "    borrow_interest_rate=0.000003,\n",
    "    portfolio_initial_value=100,\n",
    "    # num_envs=3,\n",
    ")\n",
    "env.unwrapped.add_metric(\n",
    "    \"Position Changes\", lambda history: np.sum(np.diff(history[\"position\"]) != 0)\n",
    ")\n",
    "# env.unwrapped.add_metric(\"value\", lambda history: history[\"portfolio_valuation\", -1])\n",
    "env.unwrapped.add_metric(\"Episode Length\", lambda history: len(history[\"position\"]))\n",
    "env.unwrapped.add_metric(\"Episode Reward\", lambda history: sum(history[\"reward\"]))"
   ]
  },
  {
   "cell_type": "code",
   "execution_count": null,
   "id": "ad699c4e",
   "metadata": {
    "is_executing": true
   },
   "outputs": [],
   "source": [
    "# Train\n",
    "\n",
    "warnings.filterwarnings(\"ignore\", category=TqdmExperimentalWarning)\n",
    "model = RecurrentPPO(\n",
    "    MlpLstmPolicy,\n",
    "    env,\n",
    "    # buffer_size=30000000,  # 1000000\n",
    "    # batch_size=128,\n",
    "    verbose=0,\n",
    "    tensorboard_log=\"./tensorboard/\",\n",
    "    device=\"cpu\",\n",
    "    seed=2414411,\n",
    ")\n",
    "model.learn(total_timesteps=1000000, progress_bar=True)"
   ]
  },
  {
   "cell_type": "code",
   "execution_count": null,
   "id": "d653c3a1",
   "metadata": {},
   "outputs": [],
   "source": [
    "reward = 0.0\n",
    "done, truncated = False, False\n",
    "observation, info = env.reset()\n",
    "\n",
    "warnings.filterwarnings(\"ignore\", category=UserWarning)\n",
    "while not done and not truncated:\n",
    "    action = model.predict(observation, deterministic=True)\n",
    "    observation, r, done, truncated, info = env.step(action[0])\n",
    "    reward += r\n"
   ]
  },
  {
   "cell_type": "code",
   "execution_count": null,
   "id": "e9af8c3f",
   "metadata": {},
   "outputs": [],
   "source": [
    "model.save(\"./model/RPPO/1.zip\")"
   ]
  }
 ],
 "metadata": {
  "kernelspec": {
   "display_name": "Python 3",
   "language": "python",
   "name": "python3"
  },
  "language_info": {
   "codemirror_mode": {
    "name": "ipython",
    "version": 3
   },
   "file_extension": ".py",
   "mimetype": "text/x-python",
   "name": "python",
   "nbconvert_exporter": "python",
   "pygments_lexer": "ipython3",
   "version": "3.11.4"
  }
 },
 "nbformat": 4,
 "nbformat_minor": 5
}
