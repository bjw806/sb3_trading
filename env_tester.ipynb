{
 "cells": [
  {
   "cell_type": "code",
   "execution_count": null,
   "id": "initial_id",
   "metadata": {
    "collapsed": true
   },
   "outputs": [],
   "source": [
    "# module import\n",
    "\n",
    "import pprint\n",
    "import warnings\n",
    "\n",
    "import gym_trading_env  # noqa\n",
    "import gymnasium as gym\n",
    "import numpy as np\n",
    "import pandas as pd\n",
    "import torch\n",
    "from gymnasium.envs.registration import register\n",
    "from sb3_contrib import RecurrentPPO\n",
    "from sb3_contrib.ppo_recurrent import MlpLstmPolicy\n",
    "from stable_baselines3 import DQN, PPO  # noqa\n",
    "from stable_baselines3.ppo import MlpPolicy  # noqa\n",
    "from tqdm import TqdmExperimentalWarning\n",
    "\n",
    "from preprocess import preprocess\n",
    "\n",
    "register(\n",
    "    id='DiscretedTradingEnv',\n",
    "    entry_point='gte:DiscretedTradingEnv',\n",
    "    disable_env_checker = True\n",
    ")\n",
    "register(\n",
    "    id='MultiDatasetDiscretedTradingEnv',\n",
    "    entry_point='gte:MultiDatasetDiscretedTradingEnv',\n",
    "    disable_env_checker = True\n",
    ")"
   ]
  },
  {
   "cell_type": "code",
   "execution_count": null,
   "id": "f07edb0c",
   "metadata": {},
   "outputs": [],
   "source": [
    "def reward_only_position_changed(history):\n",
    "    prev_position = history[-2][\"position\"]\n",
    "    curr_position = history[-1][\"position\"]\n",
    "    holding_fee = 0.01\n",
    "    holding_cost = 0\n",
    "\n",
    "    index = 1\n",
    "    index_limit = len(history)\n",
    "\n",
    "    while index < index_limit and history[\"position\", -index] == prev_position:\n",
    "        index += 1\n",
    "        holding_cost -= holding_fee\n",
    "\n",
    "    if prev_position == curr_position:\n",
    "        # if curr_position == 0:\n",
    "        #     return holding_cost\n",
    "        # else:\n",
    "        #     return 0\n",
    "        return 0\n",
    "    else:\n",
    "        return (history[\"portfolio_valuation\", -1] / history[\"portfolio_valuation\", -index] - 1) # / sqrt(index)"
   ]
  },
  {
   "cell_type": "code",
   "execution_count": null,
   "id": "e60d17c57a85d6a1",
   "metadata": {
    "collapsed": false
   },
   "outputs": [],
   "source": [
    "# Enviornment\n",
    "# df = pd.read_pickle(\"./data/train/month/2022/2022_12_1m.pkl\")\n",
    "# df = preprocess(df)\n",
    "\n",
    "env = gym.make(\n",
    "    \"MultiDatasetDiscretedTradingEnv\",\n",
    "    # df=df,\n",
    "    dataset_dir=\"./data/train/month/**/*.pkl\",\n",
    "    preprocess=preprocess,\n",
    "    # reward_function=reward_only_position_changed,\n",
    "    positions=[-10,0,10],\n",
    "    trading_fees=0.0001,\n",
    "    borrow_interest_rate=0.00003,\n",
    "    portfolio_initial_value=100,\n",
    "    window_size=10,\n",
    "    # num_envs=3,\n",
    ")\n",
    "# env = gym.wrappers.FlattenObservation(env)"
   ]
  },
  {
   "cell_type": "code",
   "execution_count": null,
   "id": "a0b7e586",
   "metadata": {},
   "outputs": [],
   "source": [
    "from stable_baselines3.common.env_checker import check_env\n",
    "check_env(env)"
   ]
  },
  {
   "cell_type": "code",
   "execution_count": null,
   "id": "187e32dc",
   "metadata": {},
   "outputs": [],
   "source": [
    "done, truncated = False, False\n",
    "observation, info = env.reset()\n",
    "pprint.pprint(dict(observation=observation, info=info))"
   ]
  },
  {
   "cell_type": "code",
   "execution_count": null,
   "id": "5cfc6d8e",
   "metadata": {},
   "outputs": [],
   "source": [
    "position_index = env.action_space.sample()\n",
    "observation, reward, done, truncated, info = env.step(position_index)\n",
    "pprint.pprint(dict(observation=observation, reward=reward, info=info))"
   ]
  },
  {
   "cell_type": "code",
   "execution_count": null,
   "id": "56abd0ca",
   "metadata": {},
   "outputs": [],
   "source": [
    "done, truncated = False, False\n",
    "observation, info = env.reset()\n",
    "while not done and not truncated:\n",
    "    position_index = env.action_space.sample()\n",
    "    observation, reward, done, truncated, info = env.step(position_index)"
   ]
  }
 ],
 "metadata": {
  "kernelspec": {
   "display_name": "Python 3",
   "language": "python",
   "name": "python3"
  },
  "language_info": {
   "codemirror_mode": {
    "name": "ipython",
    "version": 3
   },
   "file_extension": ".py",
   "mimetype": "text/x-python",
   "name": "python",
   "nbconvert_exporter": "python",
   "pygments_lexer": "ipython3",
   "version": "3.10.13"
  }
 },
 "nbformat": 4,
 "nbformat_minor": 5
}
