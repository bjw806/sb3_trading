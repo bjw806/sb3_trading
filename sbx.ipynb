{
 "cells": [
  {
   "cell_type": "code",
   "execution_count": 1,
   "id": "initial_id",
   "metadata": {
    "ExecuteTime": {
     "end_time": "2024-03-15T13:02:20.837410Z",
     "start_time": "2024-03-15T13:02:19.674785700Z"
    }
   },
   "outputs": [],
   "source": [
    "# module import\n",
    "\n",
    "import warnings\n",
    "import gym_trading_env  # noqa\n",
    "import gymnasium as gym\n",
    "import numpy as np\n",
    "import pandas as pd\n",
    "import torch\n",
    "# from stable_baselines3 import DQN, PPO\n",
    "# from sb3_contrib import QRDQN, ARS, TRPO, RecurrentPPO\n",
    "# from sb3_contrib.ppo_recurrent import MlpLstmPolicy\n",
    "# from stable_baselines3.common.utils import get_device\n",
    "# from stable_baselines3.ppo import MlpPolicy\n",
    "from tqdm import TqdmExperimentalWarning\n",
    "from math import sqrt"
   ]
  },
  {
   "cell_type": "code",
   "execution_count": 2,
   "id": "e7369c5f",
   "metadata": {
    "ExecuteTime": {
     "end_time": "2024-03-15T13:02:20.842208300Z",
     "start_time": "2024-03-15T13:02:20.839410200Z"
    }
   },
   "outputs": [],
   "source": [
    "# Preprocess\n",
    "\n",
    "\n",
    "def SMA(df, ndays):\n",
    "    SMA = pd.Series(df.close.rolling(ndays).mean(), name=\"SMA_\" + str(ndays))\n",
    "    return SMA.astype(float).round(2)\n",
    "\n",
    "\n",
    "def BBANDS(df, n):\n",
    "    MA = df.close.rolling(window=n).mean()\n",
    "    SD = df.close.rolling(window=n).std()\n",
    "    upperBand = MA + (2 * SD)\n",
    "    lowerBand = MA - (2 * SD)\n",
    "    return upperBand.astype(float).round(2), lowerBand.astype(float).round(2)\n",
    "\n",
    "\n",
    "def RSI(df, periods=14):\n",
    "    close_delta = df.close.diff()\n",
    "    up = close_delta.clip(lower=0)\n",
    "    down = -1 * close_delta.clip(upper=0)\n",
    "    ma_up = up.ewm(com=periods - 1, adjust=True, min_periods=periods).mean()\n",
    "    ma_down = down.ewm(com=periods - 1, adjust=True, min_periods=periods).mean()\n",
    "\n",
    "    _rsi = ma_up / ma_down\n",
    "    return (100 - (100 / (1 + _rsi))).astype(float).round(2)\n",
    "\n",
    "\n",
    "def MACD(df):\n",
    "    k = df[\"close\"].ewm(span=12, adjust=False, min_periods=12).mean()\n",
    "    d = df[\"close\"].ewm(span=26, adjust=False, min_periods=26).mean()\n",
    "    macd = k - d\n",
    "    macd_s = macd.ewm(span=9, adjust=False, min_periods=9).mean()\n",
    "    macd_h = macd - macd_s\n",
    "    return df.index.map(macd), df.index.map(macd_s), df.index.map(macd_h)\n",
    "\n",
    "\n",
    "def preprocess(df):\n",
    "    df[\"volume\"] = df.volume.astype(float).round(2)\n",
    "    df[\"feature_close\"] = df.close\n",
    "    df[\"feature_open\"] = df.open\n",
    "    df[\"feature_high\"] = df.high\n",
    "    df[\"feature_low\"] = df.low\n",
    "    df[\"feature_volume\"] = df.volume\n",
    "    df[\"feature_SMA\"] = SMA(df, 50)\n",
    "    df[\"feature_MiddleBand\"], df[\"feature_LowerBand\"] = BBANDS(df, 50)\n",
    "    df[\"feature_RSI\"] = RSI(df, periods=14)\n",
    "    df[\"feature_MACD\"], df[\"feature_MACD_S\"], df[\"feature_MACD_H\"] = MACD(df)\n",
    "    df = df.dropna()\n",
    "\n",
    "    return df"
   ]
  },
  {
   "cell_type": "code",
   "execution_count": 3,
   "id": "cfbc7b86",
   "metadata": {
    "ExecuteTime": {
     "end_time": "2024-03-15T13:02:20.847897600Z",
     "start_time": "2024-03-15T13:02:20.843208Z"
    }
   },
   "outputs": [],
   "source": [
    "# Reward Function\n",
    "\n",
    "def reward_only_position_changed(history):\n",
    "    prev_position = history[-2][\"position\"]\n",
    "    curr_position = history[-1][\"position\"]\n",
    "    holding_fee = 0.01\n",
    "    holding_cost = 0\n",
    "\n",
    "    index = 1\n",
    "    index_limit = len(history)\n",
    "\n",
    "    while index < index_limit and history[\"position\", -index] == prev_position:\n",
    "        index += 1\n",
    "        holding_cost -= holding_fee\n",
    "\n",
    "    if prev_position == curr_position:\n",
    "        if curr_position == 0:\n",
    "            return holding_cost\n",
    "        else:\n",
    "            return 0\n",
    "    else:\n",
    "        return (history[\"portfolio_valuation\", -1] / history[\"portfolio_valuation\", -2] - 1)  # / sqrt(index)"
   ]
  },
  {
   "cell_type": "code",
   "execution_count": 4,
   "id": "e60d17c57a85d6a1",
   "metadata": {
    "collapsed": false,
    "ExecuteTime": {
     "end_time": "2024-03-15T13:02:21.043568400Z",
     "start_time": "2024-03-15T13:02:20.976241900Z"
    }
   },
   "outputs": [],
   "source": [
    "# Enviornment\n",
    "\n",
    "env = gym.make(\n",
    "    \"MultiDatasetTradingEnv\",\n",
    "    dataset_dir=\"./data/train/month/**/*.pkl\",\n",
    "    preprocess=preprocess,\n",
    "    reward_function=reward_only_position_changed,\n",
    "    positions=[-10, 0, 10],\n",
    "    trading_fees=0.0001,\n",
    "    borrow_interest_rate=0.00001,\n",
    ")\n",
    "\n",
    "def max_drawdown(history):\n",
    "    networth_array = history['portfolio_valuation']\n",
    "    _max_networth = networth_array[0]\n",
    "    _max_drawdown = 0\n",
    "    for networth in networth_array:\n",
    "        if networth > _max_networth:\n",
    "            _max_networth = networth\n",
    "        drawdown = ( networth - _max_networth ) / _max_networth\n",
    "        if drawdown < _max_drawdown:\n",
    "            _max_drawdown = drawdown\n",
    "    return f\"{_max_drawdown*100:5.2f}%\"\n",
    "\n",
    "env.unwrapped.add_metric(\n",
    "    \"Position Changes\", lambda history: np.sum(np.diff(history[\"position\"]) != 0)\n",
    ")\n",
    "env.unwrapped.add_metric(\"Episode Length\", lambda history: len(history[\"position\"]))\n",
    "env.unwrapped.add_metric('Max Drawdown', max_drawdown)"
   ]
  },
  {
   "cell_type": "code",
   "execution_count": 6,
   "id": "ad699c4e",
   "metadata": {
    "ExecuteTime": {
     "end_time": "2024-03-15T13:02:29.806892700Z",
     "start_time": "2024-03-15T13:02:29.707178900Z"
    }
   },
   "outputs": [
    {
     "ename": "ImportError",
     "evalue": "cannot import name 'RolloutBuffer' from partially initialized module 'stable_baselines3.common.buffers' (most likely due to a circular import) (D:\\Destktop\\PyCharm_Projects\\sb3\\.venv\\Lib\\site-packages\\stable_baselines3\\common\\buffers.py)",
     "output_type": "error",
     "traceback": [
      "\u001B[1;31m---------------------------------------------------------------------------\u001B[0m",
      "\u001B[1;31mImportError\u001B[0m                               Traceback (most recent call last)",
      "Cell \u001B[1;32mIn[6], line 2\u001B[0m\n\u001B[0;32m      1\u001B[0m \u001B[38;5;66;03m# Train\u001B[39;00m\n\u001B[1;32m----> 2\u001B[0m \u001B[38;5;28;01mfrom\u001B[39;00m \u001B[38;5;21;01msbx\u001B[39;00m \u001B[38;5;28;01mimport\u001B[39;00m TQC\n\u001B[0;32m      3\u001B[0m \u001B[38;5;28;01mfrom\u001B[39;00m \u001B[38;5;21;01msbx\u001B[39;00m\u001B[38;5;21;01m.\u001B[39;00m\u001B[38;5;21;01mtqc\u001B[39;00m \u001B[38;5;28;01mimport\u001B[39;00m TQCPolicy\n\u001B[0;32m      5\u001B[0m warnings\u001B[38;5;241m.\u001B[39mfilterwarnings(\u001B[38;5;124m\"\u001B[39m\u001B[38;5;124mignore\u001B[39m\u001B[38;5;124m\"\u001B[39m, category\u001B[38;5;241m=\u001B[39mTqdmExperimentalWarning)\n",
      "File \u001B[1;32mD:\\Destktop\\PyCharm_Projects\\sb3\\.venv\\Lib\\site-packages\\sbx\\__init__.py:3\u001B[0m\n\u001B[0;32m      1\u001B[0m \u001B[38;5;28;01mimport\u001B[39;00m \u001B[38;5;21;01mos\u001B[39;00m\n\u001B[1;32m----> 3\u001B[0m \u001B[38;5;28;01mfrom\u001B[39;00m \u001B[38;5;21;01msbx\u001B[39;00m\u001B[38;5;21;01m.\u001B[39;00m\u001B[38;5;21;01mddpg\u001B[39;00m \u001B[38;5;28;01mimport\u001B[39;00m DDPG\n\u001B[0;32m      4\u001B[0m \u001B[38;5;28;01mfrom\u001B[39;00m \u001B[38;5;21;01msbx\u001B[39;00m\u001B[38;5;21;01m.\u001B[39;00m\u001B[38;5;21;01mdqn\u001B[39;00m \u001B[38;5;28;01mimport\u001B[39;00m DQN\n\u001B[0;32m      5\u001B[0m \u001B[38;5;28;01mfrom\u001B[39;00m \u001B[38;5;21;01msbx\u001B[39;00m\u001B[38;5;21;01m.\u001B[39;00m\u001B[38;5;21;01mdroq\u001B[39;00m \u001B[38;5;28;01mimport\u001B[39;00m DroQ\n",
      "File \u001B[1;32mD:\\Destktop\\PyCharm_Projects\\sb3\\.venv\\Lib\\site-packages\\sbx\\ddpg\\__init__.py:1\u001B[0m\n\u001B[1;32m----> 1\u001B[0m \u001B[38;5;28;01mfrom\u001B[39;00m \u001B[38;5;21;01msbx\u001B[39;00m\u001B[38;5;21;01m.\u001B[39;00m\u001B[38;5;21;01mddpg\u001B[39;00m\u001B[38;5;21;01m.\u001B[39;00m\u001B[38;5;21;01mddpg\u001B[39;00m \u001B[38;5;28;01mimport\u001B[39;00m DDPG\n\u001B[0;32m      3\u001B[0m __all__ \u001B[38;5;241m=\u001B[39m [\u001B[38;5;124m\"\u001B[39m\u001B[38;5;124mDDPG\u001B[39m\u001B[38;5;124m\"\u001B[39m]\n",
      "File \u001B[1;32mD:\\Destktop\\PyCharm_Projects\\sb3\\.venv\\Lib\\site-packages\\sbx\\ddpg\\ddpg.py:3\u001B[0m\n\u001B[0;32m      1\u001B[0m \u001B[38;5;28;01mfrom\u001B[39;00m \u001B[38;5;21;01mtyping\u001B[39;00m \u001B[38;5;28;01mimport\u001B[39;00m Any, ClassVar, Dict, Optional, Tuple, Type, Union\n\u001B[1;32m----> 3\u001B[0m \u001B[38;5;28;01mfrom\u001B[39;00m \u001B[38;5;21;01mstable_baselines3\u001B[39;00m\u001B[38;5;21;01m.\u001B[39;00m\u001B[38;5;21;01mcommon\u001B[39;00m\u001B[38;5;21;01m.\u001B[39;00m\u001B[38;5;21;01mbuffers\u001B[39;00m \u001B[38;5;28;01mimport\u001B[39;00m ReplayBuffer\n\u001B[0;32m      4\u001B[0m \u001B[38;5;28;01mfrom\u001B[39;00m \u001B[38;5;21;01mstable_baselines3\u001B[39;00m\u001B[38;5;21;01m.\u001B[39;00m\u001B[38;5;21;01mcommon\u001B[39;00m\u001B[38;5;21;01m.\u001B[39;00m\u001B[38;5;21;01mnoise\u001B[39;00m \u001B[38;5;28;01mimport\u001B[39;00m ActionNoise\n\u001B[0;32m      5\u001B[0m \u001B[38;5;28;01mfrom\u001B[39;00m \u001B[38;5;21;01mstable_baselines3\u001B[39;00m\u001B[38;5;21;01m.\u001B[39;00m\u001B[38;5;21;01mcommon\u001B[39;00m\u001B[38;5;21;01m.\u001B[39;00m\u001B[38;5;21;01mtype_aliases\u001B[39;00m \u001B[38;5;28;01mimport\u001B[39;00m GymEnv, Schedule\n",
      "File \u001B[1;32mD:\\Destktop\\PyCharm_Projects\\sb3\\.venv\\Lib\\site-packages\\stable_baselines3\\common\\buffers.py:16\u001B[0m\n\u001B[0;32m      9\u001B[0m \u001B[38;5;28;01mfrom\u001B[39;00m \u001B[38;5;21;01mstable_baselines3\u001B[39;00m\u001B[38;5;21;01m.\u001B[39;00m\u001B[38;5;21;01mcommon\u001B[39;00m\u001B[38;5;21;01m.\u001B[39;00m\u001B[38;5;21;01mpreprocessing\u001B[39;00m \u001B[38;5;28;01mimport\u001B[39;00m get_action_dim, get_obs_shape\n\u001B[0;32m     10\u001B[0m \u001B[38;5;28;01mfrom\u001B[39;00m \u001B[38;5;21;01mstable_baselines3\u001B[39;00m\u001B[38;5;21;01m.\u001B[39;00m\u001B[38;5;21;01mcommon\u001B[39;00m\u001B[38;5;21;01m.\u001B[39;00m\u001B[38;5;21;01mtype_aliases\u001B[39;00m \u001B[38;5;28;01mimport\u001B[39;00m (\n\u001B[0;32m     11\u001B[0m     DictReplayBufferSamples,\n\u001B[0;32m     12\u001B[0m     DictRolloutBufferSamples,\n\u001B[0;32m     13\u001B[0m     ReplayBufferSamples,\n\u001B[0;32m     14\u001B[0m     RolloutBufferSamples,\n\u001B[0;32m     15\u001B[0m )\n\u001B[1;32m---> 16\u001B[0m \u001B[38;5;28;01mfrom\u001B[39;00m \u001B[38;5;21;01mstable_baselines3\u001B[39;00m\u001B[38;5;21;01m.\u001B[39;00m\u001B[38;5;21;01mcommon\u001B[39;00m\u001B[38;5;21;01m.\u001B[39;00m\u001B[38;5;21;01mutils\u001B[39;00m \u001B[38;5;28;01mimport\u001B[39;00m get_device\n\u001B[0;32m     17\u001B[0m \u001B[38;5;28;01mfrom\u001B[39;00m \u001B[38;5;21;01mstable_baselines3\u001B[39;00m\u001B[38;5;21;01m.\u001B[39;00m\u001B[38;5;21;01mcommon\u001B[39;00m\u001B[38;5;21;01m.\u001B[39;00m\u001B[38;5;21;01mvec_env\u001B[39;00m \u001B[38;5;28;01mimport\u001B[39;00m VecNormalize\n\u001B[0;32m     19\u001B[0m \u001B[38;5;28;01mtry\u001B[39;00m:\n\u001B[0;32m     20\u001B[0m     \u001B[38;5;66;03m# Check memory used by replay buffer when possible\u001B[39;00m\n",
      "File \u001B[1;32mD:\\Destktop\\PyCharm_Projects\\sb3\\.venv\\Lib\\site-packages\\stable_baselines3\\common\\utils.py:16\u001B[0m\n\u001B[0;32m     13\u001B[0m \u001B[38;5;28;01mimport\u001B[39;00m \u001B[38;5;21;01mtorch\u001B[39;00m \u001B[38;5;28;01mas\u001B[39;00m \u001B[38;5;21;01mth\u001B[39;00m\n\u001B[0;32m     14\u001B[0m \u001B[38;5;28;01mfrom\u001B[39;00m \u001B[38;5;21;01mgymnasium\u001B[39;00m \u001B[38;5;28;01mimport\u001B[39;00m spaces\n\u001B[1;32m---> 16\u001B[0m \u001B[38;5;28;01mimport\u001B[39;00m \u001B[38;5;21;01mstable_baselines3\u001B[39;00m \u001B[38;5;28;01mas\u001B[39;00m \u001B[38;5;21;01msb3\u001B[39;00m\n\u001B[0;32m     18\u001B[0m \u001B[38;5;66;03m# Check if tensorboard is available for pytorch\u001B[39;00m\n\u001B[0;32m     19\u001B[0m \u001B[38;5;28;01mtry\u001B[39;00m:\n",
      "File \u001B[1;32mD:\\Destktop\\PyCharm_Projects\\sb3\\.venv\\Lib\\site-packages\\stable_baselines3\\__init__.py:3\u001B[0m\n\u001B[0;32m      1\u001B[0m \u001B[38;5;28;01mimport\u001B[39;00m \u001B[38;5;21;01mos\u001B[39;00m\n\u001B[1;32m----> 3\u001B[0m \u001B[38;5;28;01mfrom\u001B[39;00m \u001B[38;5;21;01mstable_baselines3\u001B[39;00m\u001B[38;5;21;01m.\u001B[39;00m\u001B[38;5;21;01ma2c\u001B[39;00m \u001B[38;5;28;01mimport\u001B[39;00m A2C\n\u001B[0;32m      4\u001B[0m \u001B[38;5;28;01mfrom\u001B[39;00m \u001B[38;5;21;01mstable_baselines3\u001B[39;00m\u001B[38;5;21;01m.\u001B[39;00m\u001B[38;5;21;01mcommon\u001B[39;00m\u001B[38;5;21;01m.\u001B[39;00m\u001B[38;5;21;01mutils\u001B[39;00m \u001B[38;5;28;01mimport\u001B[39;00m get_system_info\n\u001B[0;32m      5\u001B[0m \u001B[38;5;28;01mfrom\u001B[39;00m \u001B[38;5;21;01mstable_baselines3\u001B[39;00m\u001B[38;5;21;01m.\u001B[39;00m\u001B[38;5;21;01mddpg\u001B[39;00m \u001B[38;5;28;01mimport\u001B[39;00m DDPG\n",
      "File \u001B[1;32mD:\\Destktop\\PyCharm_Projects\\sb3\\.venv\\Lib\\site-packages\\stable_baselines3\\a2c\\__init__.py:1\u001B[0m\n\u001B[1;32m----> 1\u001B[0m \u001B[38;5;28;01mfrom\u001B[39;00m \u001B[38;5;21;01mstable_baselines3\u001B[39;00m\u001B[38;5;21;01m.\u001B[39;00m\u001B[38;5;21;01ma2c\u001B[39;00m\u001B[38;5;21;01m.\u001B[39;00m\u001B[38;5;21;01ma2c\u001B[39;00m \u001B[38;5;28;01mimport\u001B[39;00m A2C\n\u001B[0;32m      2\u001B[0m \u001B[38;5;28;01mfrom\u001B[39;00m \u001B[38;5;21;01mstable_baselines3\u001B[39;00m\u001B[38;5;21;01m.\u001B[39;00m\u001B[38;5;21;01ma2c\u001B[39;00m\u001B[38;5;21;01m.\u001B[39;00m\u001B[38;5;21;01mpolicies\u001B[39;00m \u001B[38;5;28;01mimport\u001B[39;00m CnnPolicy, MlpPolicy, MultiInputPolicy\n\u001B[0;32m      4\u001B[0m __all__ \u001B[38;5;241m=\u001B[39m [\u001B[38;5;124m\"\u001B[39m\u001B[38;5;124mCnnPolicy\u001B[39m\u001B[38;5;124m\"\u001B[39m, \u001B[38;5;124m\"\u001B[39m\u001B[38;5;124mMlpPolicy\u001B[39m\u001B[38;5;124m\"\u001B[39m, \u001B[38;5;124m\"\u001B[39m\u001B[38;5;124mMultiInputPolicy\u001B[39m\u001B[38;5;124m\"\u001B[39m, \u001B[38;5;124m\"\u001B[39m\u001B[38;5;124mA2C\u001B[39m\u001B[38;5;124m\"\u001B[39m]\n",
      "File \u001B[1;32mD:\\Destktop\\PyCharm_Projects\\sb3\\.venv\\Lib\\site-packages\\stable_baselines3\\a2c\\a2c.py:7\u001B[0m\n\u001B[0;32m      4\u001B[0m \u001B[38;5;28;01mfrom\u001B[39;00m \u001B[38;5;21;01mgymnasium\u001B[39;00m \u001B[38;5;28;01mimport\u001B[39;00m spaces\n\u001B[0;32m      5\u001B[0m \u001B[38;5;28;01mfrom\u001B[39;00m \u001B[38;5;21;01mtorch\u001B[39;00m\u001B[38;5;21;01m.\u001B[39;00m\u001B[38;5;21;01mnn\u001B[39;00m \u001B[38;5;28;01mimport\u001B[39;00m functional \u001B[38;5;28;01mas\u001B[39;00m F\n\u001B[1;32m----> 7\u001B[0m \u001B[38;5;28;01mfrom\u001B[39;00m \u001B[38;5;21;01mstable_baselines3\u001B[39;00m\u001B[38;5;21;01m.\u001B[39;00m\u001B[38;5;21;01mcommon\u001B[39;00m\u001B[38;5;21;01m.\u001B[39;00m\u001B[38;5;21;01mbuffers\u001B[39;00m \u001B[38;5;28;01mimport\u001B[39;00m RolloutBuffer\n\u001B[0;32m      8\u001B[0m \u001B[38;5;28;01mfrom\u001B[39;00m \u001B[38;5;21;01mstable_baselines3\u001B[39;00m\u001B[38;5;21;01m.\u001B[39;00m\u001B[38;5;21;01mcommon\u001B[39;00m\u001B[38;5;21;01m.\u001B[39;00m\u001B[38;5;21;01mon_policy_algorithm\u001B[39;00m \u001B[38;5;28;01mimport\u001B[39;00m OnPolicyAlgorithm\n\u001B[0;32m      9\u001B[0m \u001B[38;5;28;01mfrom\u001B[39;00m \u001B[38;5;21;01mstable_baselines3\u001B[39;00m\u001B[38;5;21;01m.\u001B[39;00m\u001B[38;5;21;01mcommon\u001B[39;00m\u001B[38;5;21;01m.\u001B[39;00m\u001B[38;5;21;01mpolicies\u001B[39;00m \u001B[38;5;28;01mimport\u001B[39;00m ActorCriticCnnPolicy, ActorCriticPolicy, BasePolicy, MultiInputActorCriticPolicy\n",
      "\u001B[1;31mImportError\u001B[0m: cannot import name 'RolloutBuffer' from partially initialized module 'stable_baselines3.common.buffers' (most likely due to a circular import) (D:\\Destktop\\PyCharm_Projects\\sb3\\.venv\\Lib\\site-packages\\stable_baselines3\\common\\buffers.py)"
     ]
    }
   ],
   "source": [
    "# Train\n",
    "from sbx import TQC\n",
    "from sbx.tqc import TQCPolicy\n",
    "\n",
    "warnings.filterwarnings(\"ignore\", category=TqdmExperimentalWarning)\n",
    "warnings.filterwarnings(\"ignore\", category=DeprecationWarning)\n",
    "\n",
    "model = TQC(\n",
    "    TQCPolicy,\n",
    "    env,\n",
    "    # buffer_size=100000000,  # 1000000\n",
    "    n_steps=1024,\n",
    "    batch_size=128,\n",
    "    verbose=0,\n",
    "    device=\"cpu\",\n",
    "    tensorboard_log=\"./tensorboard/\",\n",
    "    use_sde=False,\n",
    ")\n",
    "model.learn(total_timesteps=1000000, progress_bar=True)\n",
    "\n",
    "# vec_env = model.get_env()\n",
    "# obs = vec_env.reset()"
   ]
  },
  {
   "cell_type": "code",
   "execution_count": null,
   "id": "d653c3a1",
   "metadata": {},
   "outputs": [],
   "source": [
    "reward = 0.0\n",
    "done, truncated = False, False\n",
    "observation, info = env.reset()\n",
    "\n",
    "warnings.filterwarnings(\"ignore\", category=UserWarning)\n",
    "while not done and not truncated:\n",
    "    action = model.predict(observation, deterministic=True)\n",
    "    observation, r, done, truncated, info = env.step(action[0])\n",
    "    reward += r\n",
    "\n",
    "# env.unwrapped.save_for_render(dir=\"render_logs\")"
   ]
  },
  {
   "cell_type": "code",
   "execution_count": null,
   "id": "d86c5e3c16d96bdb",
   "metadata": {
    "collapsed": false
   },
   "outputs": [],
   "source": [
    "# data = pd.read_csv(\"1.csv\", parse_dates=[\"date\"], index_col=\"date\")\n",
    "\n",
    "def get_random_data():\n",
    "    from random import randint, choice\n",
    "    import os\n",
    "    data_dir = f\"D:/Destktop/PyCharm_Projects/sb3/data/train/day/{randint(2018, 2022)}/{randint(1, 12)}\"\n",
    "    files = os.listdir(data_dir)\n",
    "    random_file = choice(files)\n",
    "    file_path = os.path.join(data_dir, random_file)\n",
    "    return pd.read_pickle(file_path)\n",
    "\n",
    "data = get_random_data()\n",
    "\n",
    "evaluate_env = gym.make(\n",
    "    \"TradingEnv\",\n",
    "    df=data,\n",
    "    positions=[-10, 10],\n",
    "    trading_fees=0.0001,\n",
    "    borrow_interest_rate=0.0003,\n",
    ")\n",
    "evaluate_env.unwrapped.add_metric(\n",
    "    \"Position Changes\", lambda history: np.sum(np.diff(history[\"position\"]) != 0)\n",
    ")\n",
    "evaluate_env.unwrapped.add_metric(\"Episode Length\", lambda history: len(history[\"position\"]))\n",
    "\n",
    "evaluate_model = QRDQN(\n",
    "    MlpPolicy,\n",
    "    evaluate_env,\n",
    "    buffer_size=100000000,\n",
    "    batch_size=128,\n",
    "    verbose=0,\n",
    "    device=\"auto\",\n",
    ")\n",
    "evaluate_model.load(\"./model/QRDQN/1m_+-10_0.01.zip\")\n",
    "\n",
    "reward = 0.0\n",
    "done, truncated = False, False\n",
    "observation, info = evaluate_env.reset()\n",
    "\n",
    "warnings.filterwarnings(\"ignore\", category=UserWarning)\n",
    "while not done and not truncated:\n",
    "    action = evaluate_model.predict(observation, deterministic=True)\n",
    "    observation, r, done, truncated, info = evaluate_env.step(action[0])\n",
    "    reward += r\n",
    "\n",
    "print(reward)\n",
    "# evaluate_env.unwrapped.save_for_render(dir=\"render_logs\")"
   ]
  },
  {
   "cell_type": "code",
   "execution_count": null,
   "id": "993fb11b",
   "metadata": {},
   "outputs": [],
   "source": [
    "renderer = Renderer(render_logs_dir=\"render_logs\")\n",
    "renderer.add_metric(\n",
    "    \"Annual Market Return\",\n",
    "    lambda df: f\"{((df['close'].iloc[-1] / df['close'].iloc[0]) ** (pd.Timedelta(days=365) / (df.index.values[-1] - df.index.values[0])) - 1) * 100:0.2f}%\",\n",
    ")\n",
    "renderer.add_metric(\n",
    "    \"Annual Portfolio Return\",\n",
    "    lambda df: f\"{((df['portfolio_valuation'].iloc[-1] / df['portfolio_valuation'].iloc[0]) ** (pd.Timedelta(days=365) / (df.index.values[-1] - df.index.values[0])) - 1) * 100:0.2f}%\",\n",
    ")\n",
    "renderer.run()"
   ]
  },
  {
   "cell_type": "code",
   "execution_count": null,
   "id": "e9af8c3f",
   "metadata": {},
   "outputs": [],
   "source": [
    "model.save(\"./model/QRDQN/1m_+-10_0.01_2.zip\")"
   ]
  }
 ],
 "metadata": {
  "kernelspec": {
   "display_name": "Python 3 (ipykernel)",
   "language": "python",
   "name": "python3"
  },
  "language_info": {
   "codemirror_mode": {
    "name": "ipython",
    "version": 3
   },
   "file_extension": ".py",
   "mimetype": "text/x-python",
   "name": "python",
   "nbconvert_exporter": "python",
   "pygments_lexer": "ipython3",
   "version": "3.11.8"
  }
 },
 "nbformat": 4,
 "nbformat_minor": 5
}
